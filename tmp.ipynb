{
 "cells": [
  {
   "cell_type": "markdown",
   "id": "3ecc2572",
   "metadata": {
    "jp-MarkdownHeadingCollapsed": true,
    "papermill": {
     "duration": 0.009197,
     "end_time": "2023-08-26T12:37:42.698911",
     "exception": false,
     "start_time": "2023-08-26T12:37:42.689714",
     "status": "completed"
    },
    "tags": []
   },
   "source": [
    "# OpenBook DeBERTaV3-Large with an updated model\n",
    "\n",
    "This work is based on the great [work](https://www.kaggle.com/code/nlztrk/openbook-debertav3-large-baseline-single-model) of [nlztrk](https://www.kaggle.com/nlztrk).\n",
    "\n",
    "I trained a model offline using the dataset I shared [here](https://www.kaggle.com/datasets/mgoksu/llm-science-exam-dataset-w-context). I just added my model to the original notebook. The model is available [here](https://www.kaggle.com/datasets/mgoksu/llm-science-run-context-2).\n",
    "\n",
    "I also addressed the problem of [CSV Not Found at submission](https://www.kaggle.com/competitions/kaggle-llm-science-exam/discussion/434228) with this notebook by clipping the context like so:\n",
    "\n",
    "`test_df[\"prompt\"] = test_df[\"context\"].apply(lambda x: x[:1500]) + \" #### \" +  test_df[\"prompt\"]`\n",
    "\n",
    "You can probably get more than 1500 without getting an OOM."
   ]
  },
  {
   "cell_type": "code",
   "execution_count": 1,
   "id": "991778db",
   "metadata": {
    "papermill": {
     "duration": 14.787634,
     "end_time": "2023-08-26T12:40:01.315110",
     "exception": false,
     "start_time": "2023-08-26T12:39:46.527476",
     "status": "completed"
    },
    "tags": []
   },
   "outputs": [
    {
     "name": "stderr",
     "output_type": "stream",
     "text": [
      "/root/conda_env/chr_env/lib/python3.8/site-packages/tqdm/auto.py:21: TqdmWarning: IProgress not found. Please update jupyter and ipywidgets. See https://ipywidgets.readthedocs.io/en/stable/user_install.html\n",
      "  from .autonotebook import tqdm as notebook_tqdm\n"
     ]
    }
   ],
   "source": [
    "from __future__ import annotations\n",
    "import os\n",
    "import gc\n",
    "import pandas as pd\n",
    "import numpy as np\n",
    "import re\n",
    "from tqdm.auto import tqdm\n",
    "import blingfire as bf\n",
    "\n",
    "from collections.abc import Iterable\n",
    "\n",
    "import faiss\n",
    "from faiss import write_index, read_index\n",
    "\n",
    "from sentence_transformers import SentenceTransformer\n",
    "\n",
    "import torch\n",
    "import ctypes\n",
    "libc = ctypes.CDLL(\"libc.so.6\")\n",
    "\n",
    "from dataclasses import dataclass\n",
    "from typing import Optional, Union\n",
    "\n",
    "import torch\n",
    "import numpy as np\n",
    "import pandas as pd\n",
    "from datasets import Dataset\n",
    "from transformers import AutoTokenizer\n",
    "from transformers import AutoModelForMultipleChoice, TrainingArguments, Trainer\n",
    "from transformers.tokenization_utils_base import PreTrainedTokenizerBase, PaddingStrategy\n",
    "from torch.utils.data import DataLoader"
   ]
  },
  {
   "cell_type": "code",
   "execution_count": 2,
   "id": "877f7032",
   "metadata": {
    "papermill": {
     "duration": 91.778521,
     "end_time": "2023-08-26T12:41:35.877248",
     "exception": false,
     "start_time": "2023-08-26T12:40:04.098727",
     "status": "completed"
    },
    "tags": []
   },
   "outputs": [],
   "source": [
    "import os\n",
    "os.environ[\"CUDA_VISIBLE_DEVICES\"] = '6'\n",
    "sentence_index = read_index(\"./wiki_index/my_index.bin\")\n",
    "# sentence_index.num_threads = 50\n",
    "sentence_index = faiss.index_cpu_to_all_gpus(sentence_index)"
   ]
  },
  {
   "cell_type": "code",
   "execution_count": 3,
   "id": "332817c5-7a40-47d0-afc2-636db2841c68",
   "metadata": {},
   "outputs": [],
   "source": [
    "data = pd.read_csv('./data/recall_val.csv')"
   ]
  },
  {
   "cell_type": "code",
   "execution_count": 4,
   "id": "20ae9cad-2330-4c48-858f-40b5eac56320",
   "metadata": {},
   "outputs": [
    {
     "data": {
      "text/html": [
       "<div>\n",
       "<style scoped>\n",
       "    .dataframe tbody tr th:only-of-type {\n",
       "        vertical-align: middle;\n",
       "    }\n",
       "\n",
       "    .dataframe tbody tr th {\n",
       "        vertical-align: top;\n",
       "    }\n",
       "\n",
       "    .dataframe thead th {\n",
       "        text-align: right;\n",
       "    }\n",
       "</style>\n",
       "<table border=\"1\" class=\"dataframe\">\n",
       "  <thead>\n",
       "    <tr style=\"text-align: right;\">\n",
       "      <th></th>\n",
       "      <th>id</th>\n",
       "      <th>page_id</th>\n",
       "      <th>prompt_answer</th>\n",
       "      <th>title_text</th>\n",
       "    </tr>\n",
       "  </thead>\n",
       "  <tbody>\n",
       "    <tr>\n",
       "      <th>0</th>\n",
       "      <td>46965</td>\n",
       "      <td>1984610</td>\n",
       "      <td>Why do CROs aim to reduce costs for companies ...</td>\n",
       "      <td>Contract research organization In the life sci...</td>\n",
       "    </tr>\n",
       "    <tr>\n",
       "      <th>1</th>\n",
       "      <td>46966</td>\n",
       "      <td>1984610</td>\n",
       "      <td>Which organizations do CROs provide support to...</td>\n",
       "      <td>Contract research organization In the life sci...</td>\n",
       "    </tr>\n",
       "    <tr>\n",
       "      <th>2</th>\n",
       "      <td>46967</td>\n",
       "      <td>1984610</td>\n",
       "      <td>What is the responsibility of the CRO in a cli...</td>\n",
       "      <td>Contract research organization In the life sci...</td>\n",
       "    </tr>\n",
       "    <tr>\n",
       "      <th>3</th>\n",
       "      <td>46968</td>\n",
       "      <td>1984610</td>\n",
       "      <td>What is the range of CROs in terms of size and...</td>\n",
       "      <td>Contract research organization In the life sci...</td>\n",
       "    </tr>\n",
       "    <tr>\n",
       "      <th>4</th>\n",
       "      <td>46969</td>\n",
       "      <td>47448502</td>\n",
       "      <td>What is Swope Soccer Village? A soccer complex...</td>\n",
       "      <td>Swope Soccer Village Swope Soccer Village is a...</td>\n",
       "    </tr>\n",
       "  </tbody>\n",
       "</table>\n",
       "</div>"
      ],
      "text/plain": [
       "      id   page_id                                      prompt_answer  \\\n",
       "0  46965   1984610  Why do CROs aim to reduce costs for companies ...   \n",
       "1  46966   1984610  Which organizations do CROs provide support to...   \n",
       "2  46967   1984610  What is the responsibility of the CRO in a cli...   \n",
       "3  46968   1984610  What is the range of CROs in terms of size and...   \n",
       "4  46969  47448502  What is Swope Soccer Village? A soccer complex...   \n",
       "\n",
       "                                          title_text  \n",
       "0  Contract research organization In the life sci...  \n",
       "1  Contract research organization In the life sci...  \n",
       "2  Contract research organization In the life sci...  \n",
       "3  Contract research organization In the life sci...  \n",
       "4  Swope Soccer Village Swope Soccer Village is a...  "
      ]
     },
     "execution_count": 4,
     "metadata": {},
     "output_type": "execute_result"
    }
   ],
   "source": [
    "data.head()"
   ]
  },
  {
   "cell_type": "code",
   "execution_count": 5,
   "id": "c1488929-1226-4a66-9c46-ce2f2f7f04a5",
   "metadata": {},
   "outputs": [],
   "source": [
    "BERT_PATH = \"sentence-transformers/all-MiniLM-L6-v2\"\n",
    "MODEL_PATH = \"./save/recall/recall_epoch100.bin\"\n",
    "PROMPT_LEN = 512\n",
    "WIKI_LEN = 512\n",
    "MAX_LEN = 512\n",
    "BATCH_SIZE = 1024\n",
    "DEVICE = 'cuda'"
   ]
  },
  {
   "cell_type": "code",
   "execution_count": 6,
   "id": "25788f16-cb82-47aa-a03c-14e4a480ae13",
   "metadata": {},
   "outputs": [],
   "source": [
    "import torch.nn as nn\n",
    "import torch\n",
    "from transformers import AutoModel, AutoTokenizer\n",
    "class RecallModel(nn.Module):\n",
    "    def __init__(self):\n",
    "        super(RecallModel, self).__init__()\n",
    "        self.bert_model = AutoModel.from_pretrained(BERT_PATH)\n",
    "    \n",
    "    def mask_mean(self, x, mask=None):\n",
    "        if mask != None:\n",
    "            mask_x = x * (mask.unsqueeze(-1))\n",
    "            x_sum = torch.sum(mask_x, dim=1)\n",
    "            re_x = torch.div(x_sum, torch.sum(mask, dim=1).unsqueeze(-1))\n",
    "        else:\n",
    "            x_sum = torch.sum(x, dim=1)\n",
    "            re_x = torch.div(x_sum, x.size()[1])\n",
    "        return re_x\n",
    "    \n",
    "    def forward(self,input_ids):\n",
    "        attention_mask = input_ids > 0\n",
    "        out = self.bert_model(input_ids, attention_mask=attention_mask).last_hidden_state\n",
    "        x = out[:,0,:]\n",
    "        return x\n"
   ]
  },
  {
   "cell_type": "code",
   "execution_count": 7,
   "id": "1840aebc-c0f9-4a65-8ab2-c33c0c7b8d3d",
   "metadata": {},
   "outputs": [
    {
     "data": {
      "text/plain": [
       "RecallModel(\n",
       "  (bert_model): BertModel(\n",
       "    (embeddings): BertEmbeddings(\n",
       "      (word_embeddings): Embedding(30522, 384, padding_idx=0)\n",
       "      (position_embeddings): Embedding(512, 384)\n",
       "      (token_type_embeddings): Embedding(2, 384)\n",
       "      (LayerNorm): LayerNorm((384,), eps=1e-12, elementwise_affine=True)\n",
       "      (dropout): Dropout(p=0.1, inplace=False)\n",
       "    )\n",
       "    (encoder): BertEncoder(\n",
       "      (layer): ModuleList(\n",
       "        (0): BertLayer(\n",
       "          (attention): BertAttention(\n",
       "            (self): BertSelfAttention(\n",
       "              (query): Linear(in_features=384, out_features=384, bias=True)\n",
       "              (key): Linear(in_features=384, out_features=384, bias=True)\n",
       "              (value): Linear(in_features=384, out_features=384, bias=True)\n",
       "              (dropout): Dropout(p=0.1, inplace=False)\n",
       "            )\n",
       "            (output): BertSelfOutput(\n",
       "              (dense): Linear(in_features=384, out_features=384, bias=True)\n",
       "              (LayerNorm): LayerNorm((384,), eps=1e-12, elementwise_affine=True)\n",
       "              (dropout): Dropout(p=0.1, inplace=False)\n",
       "            )\n",
       "          )\n",
       "          (intermediate): BertIntermediate(\n",
       "            (dense): Linear(in_features=384, out_features=1536, bias=True)\n",
       "            (intermediate_act_fn): GELUActivation()\n",
       "          )\n",
       "          (output): BertOutput(\n",
       "            (dense): Linear(in_features=1536, out_features=384, bias=True)\n",
       "            (LayerNorm): LayerNorm((384,), eps=1e-12, elementwise_affine=True)\n",
       "            (dropout): Dropout(p=0.1, inplace=False)\n",
       "          )\n",
       "        )\n",
       "        (1): BertLayer(\n",
       "          (attention): BertAttention(\n",
       "            (self): BertSelfAttention(\n",
       "              (query): Linear(in_features=384, out_features=384, bias=True)\n",
       "              (key): Linear(in_features=384, out_features=384, bias=True)\n",
       "              (value): Linear(in_features=384, out_features=384, bias=True)\n",
       "              (dropout): Dropout(p=0.1, inplace=False)\n",
       "            )\n",
       "            (output): BertSelfOutput(\n",
       "              (dense): Linear(in_features=384, out_features=384, bias=True)\n",
       "              (LayerNorm): LayerNorm((384,), eps=1e-12, elementwise_affine=True)\n",
       "              (dropout): Dropout(p=0.1, inplace=False)\n",
       "            )\n",
       "          )\n",
       "          (intermediate): BertIntermediate(\n",
       "            (dense): Linear(in_features=384, out_features=1536, bias=True)\n",
       "            (intermediate_act_fn): GELUActivation()\n",
       "          )\n",
       "          (output): BertOutput(\n",
       "            (dense): Linear(in_features=1536, out_features=384, bias=True)\n",
       "            (LayerNorm): LayerNorm((384,), eps=1e-12, elementwise_affine=True)\n",
       "            (dropout): Dropout(p=0.1, inplace=False)\n",
       "          )\n",
       "        )\n",
       "        (2): BertLayer(\n",
       "          (attention): BertAttention(\n",
       "            (self): BertSelfAttention(\n",
       "              (query): Linear(in_features=384, out_features=384, bias=True)\n",
       "              (key): Linear(in_features=384, out_features=384, bias=True)\n",
       "              (value): Linear(in_features=384, out_features=384, bias=True)\n",
       "              (dropout): Dropout(p=0.1, inplace=False)\n",
       "            )\n",
       "            (output): BertSelfOutput(\n",
       "              (dense): Linear(in_features=384, out_features=384, bias=True)\n",
       "              (LayerNorm): LayerNorm((384,), eps=1e-12, elementwise_affine=True)\n",
       "              (dropout): Dropout(p=0.1, inplace=False)\n",
       "            )\n",
       "          )\n",
       "          (intermediate): BertIntermediate(\n",
       "            (dense): Linear(in_features=384, out_features=1536, bias=True)\n",
       "            (intermediate_act_fn): GELUActivation()\n",
       "          )\n",
       "          (output): BertOutput(\n",
       "            (dense): Linear(in_features=1536, out_features=384, bias=True)\n",
       "            (LayerNorm): LayerNorm((384,), eps=1e-12, elementwise_affine=True)\n",
       "            (dropout): Dropout(p=0.1, inplace=False)\n",
       "          )\n",
       "        )\n",
       "        (3): BertLayer(\n",
       "          (attention): BertAttention(\n",
       "            (self): BertSelfAttention(\n",
       "              (query): Linear(in_features=384, out_features=384, bias=True)\n",
       "              (key): Linear(in_features=384, out_features=384, bias=True)\n",
       "              (value): Linear(in_features=384, out_features=384, bias=True)\n",
       "              (dropout): Dropout(p=0.1, inplace=False)\n",
       "            )\n",
       "            (output): BertSelfOutput(\n",
       "              (dense): Linear(in_features=384, out_features=384, bias=True)\n",
       "              (LayerNorm): LayerNorm((384,), eps=1e-12, elementwise_affine=True)\n",
       "              (dropout): Dropout(p=0.1, inplace=False)\n",
       "            )\n",
       "          )\n",
       "          (intermediate): BertIntermediate(\n",
       "            (dense): Linear(in_features=384, out_features=1536, bias=True)\n",
       "            (intermediate_act_fn): GELUActivation()\n",
       "          )\n",
       "          (output): BertOutput(\n",
       "            (dense): Linear(in_features=1536, out_features=384, bias=True)\n",
       "            (LayerNorm): LayerNorm((384,), eps=1e-12, elementwise_affine=True)\n",
       "            (dropout): Dropout(p=0.1, inplace=False)\n",
       "          )\n",
       "        )\n",
       "        (4): BertLayer(\n",
       "          (attention): BertAttention(\n",
       "            (self): BertSelfAttention(\n",
       "              (query): Linear(in_features=384, out_features=384, bias=True)\n",
       "              (key): Linear(in_features=384, out_features=384, bias=True)\n",
       "              (value): Linear(in_features=384, out_features=384, bias=True)\n",
       "              (dropout): Dropout(p=0.1, inplace=False)\n",
       "            )\n",
       "            (output): BertSelfOutput(\n",
       "              (dense): Linear(in_features=384, out_features=384, bias=True)\n",
       "              (LayerNorm): LayerNorm((384,), eps=1e-12, elementwise_affine=True)\n",
       "              (dropout): Dropout(p=0.1, inplace=False)\n",
       "            )\n",
       "          )\n",
       "          (intermediate): BertIntermediate(\n",
       "            (dense): Linear(in_features=384, out_features=1536, bias=True)\n",
       "            (intermediate_act_fn): GELUActivation()\n",
       "          )\n",
       "          (output): BertOutput(\n",
       "            (dense): Linear(in_features=1536, out_features=384, bias=True)\n",
       "            (LayerNorm): LayerNorm((384,), eps=1e-12, elementwise_affine=True)\n",
       "            (dropout): Dropout(p=0.1, inplace=False)\n",
       "          )\n",
       "        )\n",
       "        (5): BertLayer(\n",
       "          (attention): BertAttention(\n",
       "            (self): BertSelfAttention(\n",
       "              (query): Linear(in_features=384, out_features=384, bias=True)\n",
       "              (key): Linear(in_features=384, out_features=384, bias=True)\n",
       "              (value): Linear(in_features=384, out_features=384, bias=True)\n",
       "              (dropout): Dropout(p=0.1, inplace=False)\n",
       "            )\n",
       "            (output): BertSelfOutput(\n",
       "              (dense): Linear(in_features=384, out_features=384, bias=True)\n",
       "              (LayerNorm): LayerNorm((384,), eps=1e-12, elementwise_affine=True)\n",
       "              (dropout): Dropout(p=0.1, inplace=False)\n",
       "            )\n",
       "          )\n",
       "          (intermediate): BertIntermediate(\n",
       "            (dense): Linear(in_features=384, out_features=1536, bias=True)\n",
       "            (intermediate_act_fn): GELUActivation()\n",
       "          )\n",
       "          (output): BertOutput(\n",
       "            (dense): Linear(in_features=1536, out_features=384, bias=True)\n",
       "            (LayerNorm): LayerNorm((384,), eps=1e-12, elementwise_affine=True)\n",
       "            (dropout): Dropout(p=0.1, inplace=False)\n",
       "          )\n",
       "        )\n",
       "      )\n",
       "    )\n",
       "    (pooler): BertPooler(\n",
       "      (dense): Linear(in_features=384, out_features=384, bias=True)\n",
       "      (activation): Tanh()\n",
       "    )\n",
       "  )\n",
       ")"
      ]
     },
     "execution_count": 7,
     "metadata": {},
     "output_type": "execute_result"
    }
   ],
   "source": [
    "model= RecallModel()\n",
    "model.load_state_dict(torch.load(MODEL_PATH, map_location='cpu'))\n",
    "model.to(DEVICE)"
   ]
  },
  {
   "cell_type": "code",
   "execution_count": 8,
   "id": "e3150112-8cb3-4428-b0cf-27a220b1c3a4",
   "metadata": {},
   "outputs": [],
   "source": [
    "from tqdm.auto import tqdm\n",
    "class LLMRecallDataSet(torch.utils.data.Dataset):\n",
    "    def __init__(self, data):\n",
    "        self.tokenizer = AutoTokenizer.from_pretrained(BERT_PATH, use_fast=True)\n",
    "        self.data = data\n",
    "    def __len__(self):\n",
    "        return len(self.data) \n",
    "    \n",
    "    def __getitem__(self,index):\n",
    "        inputs = self.data.loc[index, 'prompt_answer']\n",
    "        page_id = self.data.loc[index, 'page_id']\n",
    "        if len(inputs) > 4000:\n",
    "            inputs = inputs[:4000]\n",
    "        inputs = self.tokenizer.encode(inputs, add_special_tokens=False)\n",
    "        if len(inputs) > 510:\n",
    "            inputs = [101] + inputs[:510] + [102]\n",
    "        else:\n",
    "            inputs = [101] + inputs + [102]\n",
    "        return inputs, page_id\n",
    "    \n",
    "    def collate_fn(self, batch):\n",
    "        def sequence_padding(inputs, length=None, padding=0):\n",
    "            \"\"\"\n",
    "            Numpy函数，将序列padding到同一长度\n",
    "            \"\"\"\n",
    "            if length is None:\n",
    "                length = max([len(x) for x in inputs])\n",
    "\n",
    "            pad_width = [(0, 0) for _ in np.shape(inputs[0])]\n",
    "            outputs = []\n",
    "            for x in inputs:\n",
    "                x = x[:length]\n",
    "                pad_width[0] = (0, length - len(x))\n",
    "                x = np.pad(x, pad_width, 'constant', constant_values=padding)\n",
    "                outputs.append(x)\n",
    "\n",
    "            return np.array(outputs, dtype='int64')\n",
    "        batch_ids = []\n",
    "        batch_page_ids = []\n",
    "        for item in batch:\n",
    "            ids, page_ids = item\n",
    "            batch_ids.append(ids)\n",
    "            batch_page_ids.append(page_ids)\n",
    "        batch_ids = torch.tensor(sequence_padding(batch_ids), dtype=torch.long)\n",
    "        \n",
    "        return batch_ids, batch_page_ids\n",
    "\n",
    "        \n",
    "class DataLoaderX(torch.utils.data.DataLoader):\n",
    "    '''\n",
    "        replace DataLoader with PrefetchDataLoader\n",
    "    '''\n",
    "    def __iter__(self):\n",
    "        return BackgroundGenerator(super().__iter__())  \n",
    "\n",
    "    \n",
    "def get_loader(prompt,batch_size,train_mode=True,num_workers=4):\n",
    "    ds_df = LLMRecallDataSet(prompt)\n",
    "    loader = DataLoaderX(ds_df, batch_size=batch_size if train_mode else batch_size//2, shuffle=train_mode, num_workers=num_workers,pin_memory=True,\n",
    "                                         collate_fn=ds_df.collate_fn, drop_last=train_mode)\n",
    "    loader.num = len(ds_df)\n",
    "    return loader"
   ]
  },
  {
   "cell_type": "code",
   "execution_count": 9,
   "id": "493b972f-0ba1-4d41-9ac0-abd5ffe9e41c",
   "metadata": {},
   "outputs": [
    {
     "name": "stderr",
     "output_type": "stream",
     "text": [
      "100%|██████████| 36/36 [00:01<00:00, 18.72it/s]\n"
     ]
    }
   ],
   "source": [
    "from prefetch_generator import BackgroundGenerator\n",
    "loader = get_loader(data, 128, False, 4)\n",
    "model.eval()\n",
    "embeds = []\n",
    "with torch.no_grad():\n",
    "    for batch in tqdm(loader):\n",
    "        inputs, page_id = batch\n",
    "        inputs = inputs.to(DEVICE)\n",
    "        output = model(inputs).cpu().detach().numpy()\n",
    "        faiss.normalize_L2(output)\n",
    "        embeds.append(output)"
   ]
  },
  {
   "cell_type": "code",
   "execution_count": 10,
   "id": "38beca39-50b3-4b0f-912a-c95e204a0b49",
   "metadata": {},
   "outputs": [
    {
     "data": {
      "text/plain": [
       "36"
      ]
     },
     "execution_count": 10,
     "metadata": {},
     "output_type": "execute_result"
    }
   ],
   "source": [
    "len(embeds)"
   ]
  },
  {
   "cell_type": "code",
   "execution_count": 11,
   "id": "29aab5b0-7937-4904-ab28-df8bddec1487",
   "metadata": {},
   "outputs": [],
   "source": [
    "embed = np.concatenate(embeds, axis=0)\n",
    "np.save('./data/tmp.npy', embed, allow_pickle=True)"
   ]
  },
  {
   "cell_type": "code",
   "execution_count": 12,
   "id": "3e5fac24-b804-4a5a-b83c-460822e65ca7",
   "metadata": {},
   "outputs": [],
   "source": [
    "embeds = np.load('./data/tmp.npy')"
   ]
  },
  {
   "cell_type": "code",
   "execution_count": 13,
   "id": "a2c93fbe-ef6a-4882-a6c0-b04d7824eaa1",
   "metadata": {},
   "outputs": [
    {
     "name": "stderr",
     "output_type": "stream",
     "text": [
      "100%|██████████| 500/500 [01:11<00:00,  7.01it/s]\n"
     ]
    }
   ],
   "source": [
    "scores, indexs = [], []\n",
    "subarrays = np.array_split(embeds, 500)\n",
    "for item in tqdm(subarrays):\n",
    "    search_score, search_index = sentence_index.search(item, 10)\n",
    "    scores.append(search_score)\n",
    "    indexs.append(search_index)"
   ]
  },
  {
   "cell_type": "code",
   "execution_count": 14,
   "id": "862bbf64-716a-4fed-82f3-5dc5c1fd0f9a",
   "metadata": {},
   "outputs": [
    {
     "data": {
      "text/plain": [
       "array([[0.8895724 , 0.8807086 , 0.6429883 , 0.62826365, 0.6089584 ,\n",
       "        0.5876285 , 0.5797845 , 0.573337  , 0.56884503, 0.5636122 ],\n",
       "       [0.85538644, 0.8298944 , 0.6982315 , 0.65432775, 0.6412564 ,\n",
       "        0.63575524, 0.61228687, 0.6093652 , 0.60928917, 0.59689015],\n",
       "       [0.8088464 , 0.80079263, 0.62475806, 0.6111643 , 0.60684216,\n",
       "        0.5940006 , 0.58520526, 0.5835314 , 0.58288884, 0.57665664],\n",
       "       [0.7748004 , 0.7527429 , 0.68817943, 0.63961184, 0.6293841 ,\n",
       "        0.6080365 , 0.5988638 , 0.58108157, 0.5808338 , 0.5734784 ],\n",
       "       [0.90485585, 0.8850391 , 0.76027477, 0.7579473 , 0.74722147,\n",
       "        0.7429255 , 0.7281666 , 0.7223827 , 0.72053987, 0.71813965]],\n",
       "      dtype=float32)"
      ]
     },
     "execution_count": 14,
     "metadata": {},
     "output_type": "execute_result"
    }
   ],
   "source": [
    "scores[0]"
   ]
  },
  {
   "cell_type": "code",
   "execution_count": null,
   "id": "a3aadcf1-854f-4c06-ac16-db06248a3f51",
   "metadata": {},
   "outputs": [],
   "source": []
  },
  {
   "cell_type": "code",
   "execution_count": 15,
   "id": "7a41c134-bd6b-434f-ac6b-6161e5210bea",
   "metadata": {},
   "outputs": [],
   "source": [
    "import pickle as pkl\n",
    "with open('./data/ID2PageID.pkl','rb') as f:\n",
    "    ID2PageID = pkl.load(f)"
   ]
  },
  {
   "cell_type": "code",
   "execution_count": 16,
   "id": "c67c25a4-bdc6-4e6d-8b3f-e51ebb99b6e8",
   "metadata": {},
   "outputs": [],
   "source": [
    "page_id = []\n",
    "for item in indexs:\n",
    "    for i in range(item.shape[0]):\n",
    "        tmp = [ID2PageID[j] for j in item[i]]\n",
    "        page_id.append(tmp)"
   ]
  },
  {
   "cell_type": "code",
   "execution_count": 17,
   "id": "e1d44025-6d16-4d95-807a-b25c841ffb0a",
   "metadata": {},
   "outputs": [
    {
     "data": {
      "text/plain": [
       "['1984610',\n",
       " 1984610,\n",
       " '37696472',\n",
       " '1943650',\n",
       " '1993537',\n",
       " '51287353',\n",
       " '39542351',\n",
       " '38519122',\n",
       " '61204575',\n",
       " '27067473']"
      ]
     },
     "execution_count": 17,
     "metadata": {},
     "output_type": "execute_result"
    }
   ],
   "source": [
    "page_id[0]"
   ]
  },
  {
   "cell_type": "code",
   "execution_count": 18,
   "id": "10fd44e1-bf45-4d5d-b385-0b1fdb9c8a0e",
   "metadata": {},
   "outputs": [
    {
     "data": {
      "text/plain": [
       "0.8682136602451839"
      ]
     },
     "execution_count": 18,
     "metadata": {},
     "output_type": "execute_result"
    }
   ],
   "source": [
    "cnt = 0\n",
    "sums = 0\n",
    "for i in range(len(data)):\n",
    "    x = int(data.loc[i, 'page_id'])\n",
    "    y = [int(j) for j in page_id[i]]\n",
    "    # y = int(page_id[i])\n",
    "    if x in y:\n",
    "        cnt += 1\n",
    "    sums += 1\n",
    "cnt / sums"
   ]
  },
  {
   "cell_type": "code",
   "execution_count": null,
   "id": "51899cd2-b351-4b78-8b5b-bcf7b02aa46f",
   "metadata": {},
   "outputs": [],
   "source": []
  },
  {
   "cell_type": "code",
   "execution_count": null,
   "id": "b4647121-e7ad-4318-bfe6-f6905a3a83f0",
   "metadata": {},
   "outputs": [],
   "source": []
  },
  {
   "cell_type": "code",
   "execution_count": null,
   "id": "ce8bc6e1-72a6-42e8-a6e3-44cb7b6703b3",
   "metadata": {},
   "outputs": [],
   "source": []
  },
  {
   "cell_type": "code",
   "execution_count": 19,
   "id": "43641812-24e2-4a30-bd27-7bcbc048f518",
   "metadata": {},
   "outputs": [],
   "source": [
    "import json\n",
    "import pandas as pd\n",
    "wiki = []\n",
    "with open('./data/wiki_data.json', 'r',encoding='utf8') as f:\n",
    "    lines = f.readlines()\n",
    "    for line in lines:\n",
    "        wiki.append(json.loads(line))\n",
    "wiki = pd.DataFrame(wiki)"
   ]
  },
  {
   "cell_type": "code",
   "execution_count": 20,
   "id": "ff10dbc9-09ca-4aec-aebc-4cc2b1377e7a",
   "metadata": {},
   "outputs": [],
   "source": [
    "wiki.drop_duplicates(inplace=True)"
   ]
  },
  {
   "cell_type": "code",
   "execution_count": 5,
   "id": "f8b4f852-376a-4c94-ab0c-b3b98291df59",
   "metadata": {},
   "outputs": [],
   "source": [
    "wiki = wiki.reset_index(drop=True)"
   ]
  },
  {
   "cell_type": "code",
   "execution_count": 6,
   "id": "491de1eb-2574-4013-9e51-0aa295e96423",
   "metadata": {},
   "outputs": [],
   "source": [
    "tmp = pd.read_parquet('./wiki_data/wiki_2023_index.parquet')"
   ]
  },
  {
   "cell_type": "code",
   "execution_count": 7,
   "id": "0598cbf9-04d2-47ff-a813-799c8da31b29",
   "metadata": {},
   "outputs": [
    {
     "data": {
      "text/html": [
       "<div>\n",
       "<style scoped>\n",
       "    .dataframe tbody tr th:only-of-type {\n",
       "        vertical-align: middle;\n",
       "    }\n",
       "\n",
       "    .dataframe tbody tr th {\n",
       "        vertical-align: top;\n",
       "    }\n",
       "\n",
       "    .dataframe thead th {\n",
       "        text-align: right;\n",
       "    }\n",
       "</style>\n",
       "<table border=\"1\" class=\"dataframe\">\n",
       "  <thead>\n",
       "    <tr style=\"text-align: right;\">\n",
       "      <th></th>\n",
       "      <th>id</th>\n",
       "      <th>title</th>\n",
       "      <th>text</th>\n",
       "      <th>categories</th>\n",
       "      <th>context</th>\n",
       "      <th>file</th>\n",
       "    </tr>\n",
       "  </thead>\n",
       "  <tbody>\n",
       "    <tr>\n",
       "      <th>0</th>\n",
       "      <td>49495844</td>\n",
       "      <td>A &amp; B High Performance Firearms</td>\n",
       "      <td>A &amp; B High Performance Firearms: A &amp; B High Pe...</td>\n",
       "      <td>[Defunct firearms manufacturers, Defunct manuf...</td>\n",
       "      <td>A &amp; B High Performance Firearms was a competit...</td>\n",
       "      <td>a.parquet</td>\n",
       "    </tr>\n",
       "    <tr>\n",
       "      <th>1</th>\n",
       "      <td>3579086</td>\n",
       "      <td>A &amp; C Black</td>\n",
       "      <td>A &amp; C Black: A &amp; C Black is a British book pub...</td>\n",
       "      <td>[Encyclopædia Britannica, Ornithological publi...</td>\n",
       "      <td>A &amp; C Black is a British book publishing compa...</td>\n",
       "      <td>a.parquet</td>\n",
       "    </tr>\n",
       "    <tr>\n",
       "      <th>2</th>\n",
       "      <td>62397582</td>\n",
       "      <td>A &amp; F Harvey Brothers</td>\n",
       "      <td>A &amp; F Harvey Brothers: A &amp; F Harvey Brothers, ...</td>\n",
       "      <td>[Cotton mills]</td>\n",
       "      <td>A &amp; F Harvey Brothers, first Spinning Cotton M...</td>\n",
       "      <td>a.parquet</td>\n",
       "    </tr>\n",
       "    <tr>\n",
       "      <th>3</th>\n",
       "      <td>15547032</td>\n",
       "      <td>A &amp; G Price</td>\n",
       "      <td>A &amp; G Price: A &amp; G Price Limited is an enginee...</td>\n",
       "      <td>[Locomotive manufacturers of New Zealand, Tham...</td>\n",
       "      <td>A &amp; G Price Limited is an engineering firm and...</td>\n",
       "      <td>a.parquet</td>\n",
       "    </tr>\n",
       "    <tr>\n",
       "      <th>4</th>\n",
       "      <td>8021609</td>\n",
       "      <td>A &amp; M Karagheusian</td>\n",
       "      <td>A &amp; M Karagheusian: thumb|right|238px|A portio...</td>\n",
       "      <td>[1904 establishments in the United States, Arm...</td>\n",
       "      <td>thumb|right|238px|A portion of the Karagheusia...</td>\n",
       "      <td>a.parquet</td>\n",
       "    </tr>\n",
       "  </tbody>\n",
       "</table>\n",
       "</div>"
      ],
      "text/plain": [
       "         id                            title  \\\n",
       "0  49495844  A & B High Performance Firearms   \n",
       "1   3579086                      A & C Black   \n",
       "2  62397582            A & F Harvey Brothers   \n",
       "3  15547032                      A & G Price   \n",
       "4   8021609               A & M Karagheusian   \n",
       "\n",
       "                                                text  \\\n",
       "0  A & B High Performance Firearms: A & B High Pe...   \n",
       "1  A & C Black: A & C Black is a British book pub...   \n",
       "2  A & F Harvey Brothers: A & F Harvey Brothers, ...   \n",
       "3  A & G Price: A & G Price Limited is an enginee...   \n",
       "4  A & M Karagheusian: thumb|right|238px|A portio...   \n",
       "\n",
       "                                          categories  \\\n",
       "0  [Defunct firearms manufacturers, Defunct manuf...   \n",
       "1  [Encyclopædia Britannica, Ornithological publi...   \n",
       "2                                     [Cotton mills]   \n",
       "3  [Locomotive manufacturers of New Zealand, Tham...   \n",
       "4  [1904 establishments in the United States, Arm...   \n",
       "\n",
       "                                             context       file  \n",
       "0  A & B High Performance Firearms was a competit...  a.parquet  \n",
       "1  A & C Black is a British book publishing compa...  a.parquet  \n",
       "2  A & F Harvey Brothers, first Spinning Cotton M...  a.parquet  \n",
       "3  A & G Price Limited is an engineering firm and...  a.parquet  \n",
       "4  thumb|right|238px|A portion of the Karagheusia...  a.parquet  "
      ]
     },
     "execution_count": 7,
     "metadata": {},
     "output_type": "execute_result"
    }
   ],
   "source": [
    "tmp.head()"
   ]
  },
  {
   "cell_type": "code",
   "execution_count": 8,
   "id": "386362b9-1401-4299-a3bd-ae3867c0b8af",
   "metadata": {},
   "outputs": [
    {
     "data": {
      "text/html": [
       "<div>\n",
       "<style scoped>\n",
       "    .dataframe tbody tr th:only-of-type {\n",
       "        vertical-align: middle;\n",
       "    }\n",
       "\n",
       "    .dataframe tbody tr th {\n",
       "        vertical-align: top;\n",
       "    }\n",
       "\n",
       "    .dataframe thead th {\n",
       "        text-align: right;\n",
       "    }\n",
       "</style>\n",
       "<table border=\"1\" class=\"dataframe\">\n",
       "  <thead>\n",
       "    <tr style=\"text-align: right;\">\n",
       "      <th></th>\n",
       "      <th>page_id</th>\n",
       "      <th>title</th>\n",
       "      <th>content</th>\n",
       "    </tr>\n",
       "  </thead>\n",
       "  <tbody>\n",
       "    <tr>\n",
       "      <th>0</th>\n",
       "      <td>32439784</td>\n",
       "      <td>Physical mathematics</td>\n",
       "      <td>The subject of physical mathematics is concern...</td>\n",
       "    </tr>\n",
       "    <tr>\n",
       "      <th>1</th>\n",
       "      <td>199310</td>\n",
       "      <td>UNIVAC 1004</td>\n",
       "      <td></td>\n",
       "    </tr>\n",
       "    <tr>\n",
       "      <th>2</th>\n",
       "      <td>38183293</td>\n",
       "      <td>DaVinci (software)</td>\n",
       "      <td>DaVinci was a development tool used to create ...</td>\n",
       "    </tr>\n",
       "    <tr>\n",
       "      <th>3</th>\n",
       "      <td>1997</td>\n",
       "      <td>Algebraic geometry</td>\n",
       "      <td>Algebraic geometry is a branch of mathematics ...</td>\n",
       "    </tr>\n",
       "    <tr>\n",
       "      <th>4</th>\n",
       "      <td>10952377</td>\n",
       "      <td>Material-handling equipment</td>\n",
       "      <td>Material handling equipment (MHE) is mechanica...</td>\n",
       "    </tr>\n",
       "  </tbody>\n",
       "</table>\n",
       "</div>"
      ],
      "text/plain": [
       "    page_id                        title  \\\n",
       "0  32439784         Physical mathematics   \n",
       "1    199310                  UNIVAC 1004   \n",
       "2  38183293           DaVinci (software)   \n",
       "3      1997           Algebraic geometry   \n",
       "4  10952377  Material-handling equipment   \n",
       "\n",
       "                                             content  \n",
       "0  The subject of physical mathematics is concern...  \n",
       "1                                                     \n",
       "2  DaVinci was a development tool used to create ...  \n",
       "3  Algebraic geometry is a branch of mathematics ...  \n",
       "4  Material handling equipment (MHE) is mechanica...  "
      ]
     },
     "execution_count": 8,
     "metadata": {},
     "output_type": "execute_result"
    }
   ],
   "source": [
    "wiki.head()"
   ]
  },
  {
   "cell_type": "code",
   "execution_count": 21,
   "id": "49925746-dd0a-4792-af0b-ef571c15a6f4",
   "metadata": {},
   "outputs": [],
   "source": [
    "wiki.columns = ['id', 'title', 'text']"
   ]
  },
  {
   "cell_type": "code",
   "execution_count": 22,
   "id": "0ef35ceb-45b1-456f-a8bf-2b1a29db77a1",
   "metadata": {},
   "outputs": [],
   "source": [
    "wiki['context'] = wiki.apply(lambda row : ' '.join(str(row[x]) for x in ['title','text']),axis=1)"
   ]
  },
  {
   "cell_type": "code",
   "execution_count": 23,
   "id": "1e7f1cd0-900d-4d88-9245-a8cea37ac2b4",
   "metadata": {},
   "outputs": [],
   "source": [
    "wiki['file'] = 'extend.parquet'"
   ]
  },
  {
   "cell_type": "code",
   "execution_count": 12,
   "id": "7dac4063-f96c-4e12-b8be-0dd3ebc0fe20",
   "metadata": {},
   "outputs": [],
   "source": [
    "data = pd.concat([tmp, wiki],axis=0).reset_index(drop=True)"
   ]
  },
  {
   "cell_type": "code",
   "execution_count": 13,
   "id": "0b4465c9-c4b6-4e46-9af1-d9ee6db8ba37",
   "metadata": {},
   "outputs": [],
   "source": [
    "data.to_parquet('./wiki_data/wiki_2023_index.parquet')"
   ]
  },
  {
   "cell_type": "code",
   "execution_count": 14,
   "id": "4c51f4ba-ee6c-40ff-9c55-1cc4ef3c143f",
   "metadata": {},
   "outputs": [],
   "source": [
    "data = pd.read_parquet('./wiki_data/a.parquet')"
   ]
  },
  {
   "cell_type": "code",
   "execution_count": 15,
   "id": "47e32147-048d-4575-963e-25d6c9d26b52",
   "metadata": {},
   "outputs": [
    {
     "data": {
      "text/html": [
       "<div>\n",
       "<style scoped>\n",
       "    .dataframe tbody tr th:only-of-type {\n",
       "        vertical-align: middle;\n",
       "    }\n",
       "\n",
       "    .dataframe tbody tr th {\n",
       "        vertical-align: top;\n",
       "    }\n",
       "\n",
       "    .dataframe thead th {\n",
       "        text-align: right;\n",
       "    }\n",
       "</style>\n",
       "<table border=\"1\" class=\"dataframe\">\n",
       "  <thead>\n",
       "    <tr style=\"text-align: right;\">\n",
       "      <th></th>\n",
       "      <th>id</th>\n",
       "      <th>title</th>\n",
       "      <th>text</th>\n",
       "      <th>categories</th>\n",
       "    </tr>\n",
       "  </thead>\n",
       "  <tbody>\n",
       "    <tr>\n",
       "      <th>0</th>\n",
       "      <td>49495844</td>\n",
       "      <td>A &amp; B High Performance Firearms</td>\n",
       "      <td>A &amp; B High Performance Firearms was a competit...</td>\n",
       "      <td>[Defunct firearms manufacturers, Defunct manuf...</td>\n",
       "    </tr>\n",
       "    <tr>\n",
       "      <th>1</th>\n",
       "      <td>3579086</td>\n",
       "      <td>A &amp; C Black</td>\n",
       "      <td>A &amp; C Black is a British book publishing compa...</td>\n",
       "      <td>[Encyclopædia Britannica, Ornithological publi...</td>\n",
       "    </tr>\n",
       "    <tr>\n",
       "      <th>2</th>\n",
       "      <td>62397582</td>\n",
       "      <td>A &amp; F Harvey Brothers</td>\n",
       "      <td>A &amp; F Harvey Brothers, first Spinning Cotton M...</td>\n",
       "      <td>[Cotton mills]</td>\n",
       "    </tr>\n",
       "    <tr>\n",
       "      <th>3</th>\n",
       "      <td>15547032</td>\n",
       "      <td>A &amp; G Price</td>\n",
       "      <td>A &amp; G Price Limited is an engineering firm and...</td>\n",
       "      <td>[Locomotive manufacturers of New Zealand, Tham...</td>\n",
       "    </tr>\n",
       "    <tr>\n",
       "      <th>4</th>\n",
       "      <td>8021609</td>\n",
       "      <td>A &amp; M Karagheusian</td>\n",
       "      <td>thumb|right|238px|A portion of the Karagheusia...</td>\n",
       "      <td>[1904 establishments in the United States, Arm...</td>\n",
       "    </tr>\n",
       "  </tbody>\n",
       "</table>\n",
       "</div>"
      ],
      "text/plain": [
       "         id                            title  \\\n",
       "0  49495844  A & B High Performance Firearms   \n",
       "1   3579086                      A & C Black   \n",
       "2  62397582            A & F Harvey Brothers   \n",
       "3  15547032                      A & G Price   \n",
       "4   8021609               A & M Karagheusian   \n",
       "\n",
       "                                                text  \\\n",
       "0  A & B High Performance Firearms was a competit...   \n",
       "1  A & C Black is a British book publishing compa...   \n",
       "2  A & F Harvey Brothers, first Spinning Cotton M...   \n",
       "3  A & G Price Limited is an engineering firm and...   \n",
       "4  thumb|right|238px|A portion of the Karagheusia...   \n",
       "\n",
       "                                          categories  \n",
       "0  [Defunct firearms manufacturers, Defunct manuf...  \n",
       "1  [Encyclopædia Britannica, Ornithological publi...  \n",
       "2                                     [Cotton mills]  \n",
       "3  [Locomotive manufacturers of New Zealand, Tham...  \n",
       "4  [1904 establishments in the United States, Arm...  "
      ]
     },
     "execution_count": 15,
     "metadata": {},
     "output_type": "execute_result"
    }
   ],
   "source": [
    "data.head()"
   ]
  },
  {
   "cell_type": "code",
   "execution_count": 16,
   "id": "98ed53a6-171f-42f7-adba-26c5f2a1ad7a",
   "metadata": {},
   "outputs": [
    {
     "data": {
      "text/html": [
       "<div>\n",
       "<style scoped>\n",
       "    .dataframe tbody tr th:only-of-type {\n",
       "        vertical-align: middle;\n",
       "    }\n",
       "\n",
       "    .dataframe tbody tr th {\n",
       "        vertical-align: top;\n",
       "    }\n",
       "\n",
       "    .dataframe thead th {\n",
       "        text-align: right;\n",
       "    }\n",
       "</style>\n",
       "<table border=\"1\" class=\"dataframe\">\n",
       "  <thead>\n",
       "    <tr style=\"text-align: right;\">\n",
       "      <th></th>\n",
       "      <th>id</th>\n",
       "      <th>title</th>\n",
       "      <th>text</th>\n",
       "      <th>context</th>\n",
       "      <th>file</th>\n",
       "    </tr>\n",
       "  </thead>\n",
       "  <tbody>\n",
       "    <tr>\n",
       "      <th>0</th>\n",
       "      <td>32439784</td>\n",
       "      <td>Physical mathematics</td>\n",
       "      <td>The subject of physical mathematics is concern...</td>\n",
       "      <td>Physical mathematics The subject of physical m...</td>\n",
       "      <td>extend.parquet</td>\n",
       "    </tr>\n",
       "    <tr>\n",
       "      <th>1</th>\n",
       "      <td>199310</td>\n",
       "      <td>UNIVAC 1004</td>\n",
       "      <td></td>\n",
       "      <td>UNIVAC 1004</td>\n",
       "      <td>extend.parquet</td>\n",
       "    </tr>\n",
       "    <tr>\n",
       "      <th>2</th>\n",
       "      <td>38183293</td>\n",
       "      <td>DaVinci (software)</td>\n",
       "      <td>DaVinci was a development tool used to create ...</td>\n",
       "      <td>DaVinci (software) DaVinci was a development t...</td>\n",
       "      <td>extend.parquet</td>\n",
       "    </tr>\n",
       "    <tr>\n",
       "      <th>3</th>\n",
       "      <td>1997</td>\n",
       "      <td>Algebraic geometry</td>\n",
       "      <td>Algebraic geometry is a branch of mathematics ...</td>\n",
       "      <td>Algebraic geometry Algebraic geometry is a bra...</td>\n",
       "      <td>extend.parquet</td>\n",
       "    </tr>\n",
       "    <tr>\n",
       "      <th>4</th>\n",
       "      <td>10952377</td>\n",
       "      <td>Material-handling equipment</td>\n",
       "      <td>Material handling equipment (MHE) is mechanica...</td>\n",
       "      <td>Material-handling equipment Material handling ...</td>\n",
       "      <td>extend.parquet</td>\n",
       "    </tr>\n",
       "  </tbody>\n",
       "</table>\n",
       "</div>"
      ],
      "text/plain": [
       "         id                        title  \\\n",
       "0  32439784         Physical mathematics   \n",
       "1    199310                  UNIVAC 1004   \n",
       "2  38183293           DaVinci (software)   \n",
       "3      1997           Algebraic geometry   \n",
       "4  10952377  Material-handling equipment   \n",
       "\n",
       "                                                text  \\\n",
       "0  The subject of physical mathematics is concern...   \n",
       "1                                                      \n",
       "2  DaVinci was a development tool used to create ...   \n",
       "3  Algebraic geometry is a branch of mathematics ...   \n",
       "4  Material handling equipment (MHE) is mechanica...   \n",
       "\n",
       "                                             context            file  \n",
       "0  Physical mathematics The subject of physical m...  extend.parquet  \n",
       "1                                       UNIVAC 1004   extend.parquet  \n",
       "2  DaVinci (software) DaVinci was a development t...  extend.parquet  \n",
       "3  Algebraic geometry Algebraic geometry is a bra...  extend.parquet  \n",
       "4  Material-handling equipment Material handling ...  extend.parquet  "
      ]
     },
     "execution_count": 16,
     "metadata": {},
     "output_type": "execute_result"
    }
   ],
   "source": [
    "wiki.head()"
   ]
  },
  {
   "cell_type": "code",
   "execution_count": 24,
   "id": "76eda0b4-7d8e-4dbd-a313-5c950614afe9",
   "metadata": {},
   "outputs": [],
   "source": [
    "wiki = wiki[['id','title', 'context']]"
   ]
  },
  {
   "cell_type": "code",
   "execution_count": 26,
   "id": "0e9ed190-475d-4664-84f9-0253d9641d8f",
   "metadata": {},
   "outputs": [],
   "source": [
    "wiki.columns = ['id', 'title', 'text']"
   ]
  },
  {
   "cell_type": "code",
   "execution_count": 27,
   "id": "d9e973ea-e341-49cc-a91c-288ad1da9f8f",
   "metadata": {},
   "outputs": [],
   "source": [
    "wiki['categories'] = ' '"
   ]
  },
  {
   "cell_type": "code",
   "execution_count": 28,
   "id": "a921a92e-c206-4a77-813d-2a5a1095fbd5",
   "metadata": {},
   "outputs": [],
   "source": [
    "wiki.to_parquet('./wiki_data/extend.parquet')"
   ]
  },
  {
   "cell_type": "code",
   "execution_count": 1,
   "id": "38f01bac-ab82-48ef-b204-78b20f2209a8",
   "metadata": {},
   "outputs": [],
   "source": [
    "import pandas as pd\n",
    "data = pd.read_parquet('./wiki_data/wiki_2023_index.parquet')"
   ]
  },
  {
   "cell_type": "code",
   "execution_count": 2,
   "id": "1c5cc838-fb45-449f-845b-2609109d688b",
   "metadata": {},
   "outputs": [
    {
     "data": {
      "text/html": [
       "<div>\n",
       "<style scoped>\n",
       "    .dataframe tbody tr th:only-of-type {\n",
       "        vertical-align: middle;\n",
       "    }\n",
       "\n",
       "    .dataframe tbody tr th {\n",
       "        vertical-align: top;\n",
       "    }\n",
       "\n",
       "    .dataframe thead th {\n",
       "        text-align: right;\n",
       "    }\n",
       "</style>\n",
       "<table border=\"1\" class=\"dataframe\">\n",
       "  <thead>\n",
       "    <tr style=\"text-align: right;\">\n",
       "      <th></th>\n",
       "      <th>id</th>\n",
       "      <th>title</th>\n",
       "      <th>text</th>\n",
       "      <th>categories</th>\n",
       "      <th>context</th>\n",
       "      <th>file</th>\n",
       "    </tr>\n",
       "  </thead>\n",
       "  <tbody>\n",
       "    <tr>\n",
       "      <th>0</th>\n",
       "      <td>49495844</td>\n",
       "      <td>A &amp; B High Performance Firearms</td>\n",
       "      <td>A &amp; B High Performance Firearms: A &amp; B High Pe...</td>\n",
       "      <td>[Defunct firearms manufacturers, Defunct manuf...</td>\n",
       "      <td>A &amp; B High Performance Firearms was a competit...</td>\n",
       "      <td>a.parquet</td>\n",
       "    </tr>\n",
       "    <tr>\n",
       "      <th>1</th>\n",
       "      <td>3579086</td>\n",
       "      <td>A &amp; C Black</td>\n",
       "      <td>A &amp; C Black: A &amp; C Black is a British book pub...</td>\n",
       "      <td>[Encyclopædia Britannica, Ornithological publi...</td>\n",
       "      <td>A &amp; C Black is a British book publishing compa...</td>\n",
       "      <td>a.parquet</td>\n",
       "    </tr>\n",
       "    <tr>\n",
       "      <th>2</th>\n",
       "      <td>62397582</td>\n",
       "      <td>A &amp; F Harvey Brothers</td>\n",
       "      <td>A &amp; F Harvey Brothers: A &amp; F Harvey Brothers, ...</td>\n",
       "      <td>[Cotton mills]</td>\n",
       "      <td>A &amp; F Harvey Brothers, first Spinning Cotton M...</td>\n",
       "      <td>a.parquet</td>\n",
       "    </tr>\n",
       "    <tr>\n",
       "      <th>3</th>\n",
       "      <td>15547032</td>\n",
       "      <td>A &amp; G Price</td>\n",
       "      <td>A &amp; G Price: A &amp; G Price Limited is an enginee...</td>\n",
       "      <td>[Locomotive manufacturers of New Zealand, Tham...</td>\n",
       "      <td>A &amp; G Price Limited is an engineering firm and...</td>\n",
       "      <td>a.parquet</td>\n",
       "    </tr>\n",
       "    <tr>\n",
       "      <th>4</th>\n",
       "      <td>8021609</td>\n",
       "      <td>A &amp; M Karagheusian</td>\n",
       "      <td>A &amp; M Karagheusian: thumb|right|238px|A portio...</td>\n",
       "      <td>[1904 establishments in the United States, Arm...</td>\n",
       "      <td>thumb|right|238px|A portion of the Karagheusia...</td>\n",
       "      <td>a.parquet</td>\n",
       "    </tr>\n",
       "  </tbody>\n",
       "</table>\n",
       "</div>"
      ],
      "text/plain": [
       "         id                            title  \\\n",
       "0  49495844  A & B High Performance Firearms   \n",
       "1   3579086                      A & C Black   \n",
       "2  62397582            A & F Harvey Brothers   \n",
       "3  15547032                      A & G Price   \n",
       "4   8021609               A & M Karagheusian   \n",
       "\n",
       "                                                text  \\\n",
       "0  A & B High Performance Firearms: A & B High Pe...   \n",
       "1  A & C Black: A & C Black is a British book pub...   \n",
       "2  A & F Harvey Brothers: A & F Harvey Brothers, ...   \n",
       "3  A & G Price: A & G Price Limited is an enginee...   \n",
       "4  A & M Karagheusian: thumb|right|238px|A portio...   \n",
       "\n",
       "                                          categories  \\\n",
       "0  [Defunct firearms manufacturers, Defunct manuf...   \n",
       "1  [Encyclopædia Britannica, Ornithological publi...   \n",
       "2                                     [Cotton mills]   \n",
       "3  [Locomotive manufacturers of New Zealand, Tham...   \n",
       "4  [1904 establishments in the United States, Arm...   \n",
       "\n",
       "                                             context       file  \n",
       "0  A & B High Performance Firearms was a competit...  a.parquet  \n",
       "1  A & C Black is a British book publishing compa...  a.parquet  \n",
       "2  A & F Harvey Brothers, first Spinning Cotton M...  a.parquet  \n",
       "3  A & G Price Limited is an engineering firm and...  a.parquet  \n",
       "4  thumb|right|238px|A portion of the Karagheusia...  a.parquet  "
      ]
     },
     "execution_count": 2,
     "metadata": {},
     "output_type": "execute_result"
    }
   ],
   "source": [
    "data.head()"
   ]
  },
  {
   "cell_type": "code",
   "execution_count": 2,
   "id": "3c1c85ac-cf6d-4fc6-bbfb-d4a02fffabdf",
   "metadata": {},
   "outputs": [],
   "source": [
    "a = pd.read_parquet('./wiki_data/a.parquet')"
   ]
  },
  {
   "cell_type": "code",
   "execution_count": 4,
   "id": "d45b3adb-8aeb-4535-b98f-7807f115690d",
   "metadata": {},
   "outputs": [
    {
     "data": {
      "text/plain": [
       "array(['Defunct firearms manufacturers',\n",
       "       'Defunct manufacturing companies based in California'],\n",
       "      dtype=object)"
      ]
     },
     "execution_count": 4,
     "metadata": {},
     "output_type": "execute_result"
    }
   ],
   "source": [
    "a.loc[0,'categories']"
   ]
  },
  {
   "cell_type": "code",
   "execution_count": 5,
   "id": "c8ca52ed-53b8-4d21-9276-818735ffc045",
   "metadata": {},
   "outputs": [],
   "source": [
    "data = pd.read_csv('./data/dataset.csv')"
   ]
  },
  {
   "cell_type": "code",
   "execution_count": 1,
   "id": "adc53671-454f-418b-a04c-4faabd615e08",
   "metadata": {},
   "outputs": [
    {
     "name": "stdout",
     "output_type": "stream",
     "text": [
      "a.parquet\n",
      "b.parquet\n",
      "c.parquet\n",
      "d.parquet\n",
      "e.parquet\n",
      "f.parquet\n",
      "g.parquet\n",
      "h.parquet\n",
      "i.parquet\n",
      "j.parquet\n",
      "k.parquet\n",
      "l.parquet\n",
      "m.parquet\n",
      "n.parquet\n",
      "number.parquet\n",
      "o.parquet\n",
      "other.parquet\n",
      "p.parquet\n",
      "q.parquet\n",
      "r.parquet\n",
      "s.parquet\n",
      "t.parquet\n",
      "u.parquet\n",
      "v.parquet\n",
      "w.parquet\n",
      "x.parquet\n",
      "y.parquet\n",
      "z.parquet\n"
     ]
    }
   ],
   "source": [
    "import pandas as pd\n",
    "import os\n",
    "df = []\n",
    "list_dir = os.listdir('./wiki_data')\n",
    "list_dir = sorted(list_dir)\n",
    "for path in list_dir:\n",
    "    if 'wiki_2023_index' in path or 'ipynb' in path or 'my' in path or 'deberta' in path:\n",
    "        continue\n",
    "    print(path)\n",
    "    x = pd.read_parquet(os.path.join('./wiki_data',path))\n",
    "    x['file'] = path\n",
    "    df.append(x)\n",
    "df = pd.concat(df, axis=0).reset_index(drop=True)"
   ]
  },
  {
   "cell_type": "code",
   "execution_count": 4,
   "id": "28d7e679-0641-43c9-ae29-9e6ecc7e6085",
   "metadata": {
    "tags": []
   },
   "outputs": [],
   "source": [
    "df['id'] = df['id'].apply(lambda x : int(x))"
   ]
  },
  {
   "cell_type": "code",
   "execution_count": 6,
   "id": "81beac44-a9cd-4611-a699-3dd8d893c5b3",
   "metadata": {
    "tags": []
   },
   "outputs": [
    {
     "data": {
      "text/html": [
       "<div>\n",
       "<style scoped>\n",
       "    .dataframe tbody tr th:only-of-type {\n",
       "        vertical-align: middle;\n",
       "    }\n",
       "\n",
       "    .dataframe tbody tr th {\n",
       "        vertical-align: top;\n",
       "    }\n",
       "\n",
       "    .dataframe thead th {\n",
       "        text-align: right;\n",
       "    }\n",
       "</style>\n",
       "<table border=\"1\" class=\"dataframe\">\n",
       "  <thead>\n",
       "    <tr style=\"text-align: right;\">\n",
       "      <th></th>\n",
       "      <th>id</th>\n",
       "      <th>title</th>\n",
       "      <th>text</th>\n",
       "      <th>categories</th>\n",
       "      <th>file</th>\n",
       "    </tr>\n",
       "  </thead>\n",
       "  <tbody>\n",
       "    <tr>\n",
       "      <th>135941</th>\n",
       "      <td>39</td>\n",
       "      <td>Albedo</td>\n",
       "      <td>Albedo (; ) is the fraction of sunlight that i...</td>\n",
       "      <td>[Land surface effects on climate, Climate chan...</td>\n",
       "      <td>a.parquet</td>\n",
       "    </tr>\n",
       "    <tr>\n",
       "      <th>126896</th>\n",
       "      <td>303</td>\n",
       "      <td>Alabama</td>\n",
       "      <td>Alabama () is a state in the Southeastern regi...</td>\n",
       "      <td>[1819 establishments in the United States, Sou...</td>\n",
       "      <td>a.parquet</td>\n",
       "    </tr>\n",
       "    <tr>\n",
       "      <th>43021</th>\n",
       "      <td>307</td>\n",
       "      <td>Abraham Lincoln</td>\n",
       "      <td>Abraham Lincoln ( ; February 12, 1809 – April ...</td>\n",
       "      <td>[1809 births, 1865 deaths, 1865 murders in the...</td>\n",
       "      <td>a.parquet</td>\n",
       "    </tr>\n",
       "    <tr>\n",
       "      <th>345266</th>\n",
       "      <td>308</td>\n",
       "      <td>Aristotle</td>\n",
       "      <td>Aristotle (; Aristotélēs, ; 384–322 BC) was an...</td>\n",
       "      <td>[384 BC births, 322 BC deaths, 4th-century BC ...</td>\n",
       "      <td>a.parquet</td>\n",
       "    </tr>\n",
       "    <tr>\n",
       "      <th>233726</th>\n",
       "      <td>309</td>\n",
       "      <td>An American in Paris</td>\n",
       "      <td>An American in Paris is a jazz-influenced orch...</td>\n",
       "      <td>[1928 compositions, Compositions by George Ger...</td>\n",
       "      <td>a.parquet</td>\n",
       "    </tr>\n",
       "    <tr>\n",
       "      <th>...</th>\n",
       "      <td>...</td>\n",
       "      <td>...</td>\n",
       "      <td>...</td>\n",
       "      <td>...</td>\n",
       "      <td>...</td>\n",
       "    </tr>\n",
       "    <tr>\n",
       "      <th>4013913</th>\n",
       "      <td>74190908</td>\n",
       "      <td>1988 Argyll and Bute District Council election</td>\n",
       "      <td>Elections to Argyll and Bute Council were held...</td>\n",
       "      <td>[1988 Scottish local elections 1988]</td>\n",
       "      <td>number.parquet</td>\n",
       "    </tr>\n",
       "    <tr>\n",
       "      <th>4061872</th>\n",
       "      <td>74190935</td>\n",
       "      <td>2001–02 UIC Flames men's basketball team</td>\n",
       "      <td>The 2001–02 UIC Flames men's basketball team r...</td>\n",
       "      <td>[UIC Flames men's basketball seasons Uic Uic U...</td>\n",
       "      <td>number.parquet</td>\n",
       "    </tr>\n",
       "    <tr>\n",
       "      <th>2733495</th>\n",
       "      <td>74190944</td>\n",
       "      <td>Karen Anderson (politician)</td>\n",
       "      <td>Karen A. Anderson is an American politician in...</td>\n",
       "      <td>[North Dakota Republicans, North Dakota politi...</td>\n",
       "      <td>k.parquet</td>\n",
       "    </tr>\n",
       "    <tr>\n",
       "      <th>6123251</th>\n",
       "      <td>74190979</td>\n",
       "      <td>William B. Davis (politician)</td>\n",
       "      <td>William B. Davis (died June 22, 1935) was an A...</td>\n",
       "      <td>[Year of birth uncertain, 1860s births, 1935 d...</td>\n",
       "      <td>w.parquet</td>\n",
       "    </tr>\n",
       "    <tr>\n",
       "      <th>4602581</th>\n",
       "      <td>74190993</td>\n",
       "      <td>Please Panic</td>\n",
       "      <td>Please Panic is an album by the American band ...</td>\n",
       "      <td>[1992 albums]</td>\n",
       "      <td>p.parquet</td>\n",
       "    </tr>\n",
       "  </tbody>\n",
       "</table>\n",
       "<p>6286775 rows × 5 columns</p>\n",
       "</div>"
      ],
      "text/plain": [
       "               id                                           title  \\\n",
       "135941         39                                          Albedo   \n",
       "126896        303                                         Alabama   \n",
       "43021         307                                 Abraham Lincoln   \n",
       "345266        308                                       Aristotle   \n",
       "233726        309                            An American in Paris   \n",
       "...           ...                                             ...   \n",
       "4013913  74190908  1988 Argyll and Bute District Council election   \n",
       "4061872  74190935        2001–02 UIC Flames men's basketball team   \n",
       "2733495  74190944                     Karen Anderson (politician)   \n",
       "6123251  74190979                   William B. Davis (politician)   \n",
       "4602581  74190993                                    Please Panic   \n",
       "\n",
       "                                                      text  \\\n",
       "135941   Albedo (; ) is the fraction of sunlight that i...   \n",
       "126896   Alabama () is a state in the Southeastern regi...   \n",
       "43021    Abraham Lincoln ( ; February 12, 1809 – April ...   \n",
       "345266   Aristotle (; Aristotélēs, ; 384–322 BC) was an...   \n",
       "233726   An American in Paris is a jazz-influenced orch...   \n",
       "...                                                    ...   \n",
       "4013913  Elections to Argyll and Bute Council were held...   \n",
       "4061872  The 2001–02 UIC Flames men's basketball team r...   \n",
       "2733495  Karen A. Anderson is an American politician in...   \n",
       "6123251  William B. Davis (died June 22, 1935) was an A...   \n",
       "4602581  Please Panic is an album by the American band ...   \n",
       "\n",
       "                                                categories            file  \n",
       "135941   [Land surface effects on climate, Climate chan...       a.parquet  \n",
       "126896   [1819 establishments in the United States, Sou...       a.parquet  \n",
       "43021    [1809 births, 1865 deaths, 1865 murders in the...       a.parquet  \n",
       "345266   [384 BC births, 322 BC deaths, 4th-century BC ...       a.parquet  \n",
       "233726   [1928 compositions, Compositions by George Ger...       a.parquet  \n",
       "...                                                    ...             ...  \n",
       "4013913               [1988 Scottish local elections 1988]  number.parquet  \n",
       "4061872  [UIC Flames men's basketball seasons Uic Uic U...  number.parquet  \n",
       "2733495  [North Dakota Republicans, North Dakota politi...       k.parquet  \n",
       "6123251  [Year of birth uncertain, 1860s births, 1935 d...       w.parquet  \n",
       "4602581                                      [1992 albums]       p.parquet  \n",
       "\n",
       "[6286775 rows x 5 columns]"
      ]
     },
     "execution_count": 6,
     "metadata": {},
     "output_type": "execute_result"
    }
   ],
   "source": [
    "df.sort_values(by='id')"
   ]
  },
  {
   "cell_type": "code",
   "execution_count": 15,
   "id": "4ab0a8ca-042b-4d8e-ada4-50992d5fcbae",
   "metadata": {
    "tags": []
   },
   "outputs": [
    {
     "data": {
      "text/plain": [
       "125233"
      ]
     },
     "execution_count": 15,
     "metadata": {},
     "output_type": "execute_result"
    }
   ],
   "source": [
    "len(a & b)"
   ]
  },
  {
   "cell_type": "code",
   "execution_count": 16,
   "id": "0845fd1a-3296-438d-84bc-8f5ebaee9bda",
   "metadata": {
    "tags": []
   },
   "outputs": [
    {
     "data": {
      "text/plain": [
       "(131049, 4)"
      ]
     },
     "execution_count": 16,
     "metadata": {},
     "output_type": "execute_result"
    }
   ],
   "source": [
    "data.shape"
   ]
  },
  {
   "cell_type": "code",
   "execution_count": 12,
   "id": "18fefe3a-627b-4916-99eb-28009982d770",
   "metadata": {},
   "outputs": [],
   "source": [
    "import pandas as pd\n",
    "import pickle as pkl\n",
    "data = pd.read_parquet('./4w8_bm25_top1000_top20.parquet')"
   ]
  },
  {
   "cell_type": "code",
   "execution_count": 13,
   "id": "837ebe9f-97ec-4b26-b40d-90f4a64f17a0",
   "metadata": {
    "tags": []
   },
   "outputs": [],
   "source": [
    "df = pd.read_parquet('./wiki_data/my_index.parquet')"
   ]
  },
  {
   "cell_type": "code",
   "execution_count": 14,
   "id": "fcbee178-2dfb-42b8-858f-6210f7121588",
   "metadata": {
    "tags": []
   },
   "outputs": [
    {
     "data": {
      "text/html": [
       "<div>\n",
       "<style scoped>\n",
       "    .dataframe tbody tr th:only-of-type {\n",
       "        vertical-align: middle;\n",
       "    }\n",
       "\n",
       "    .dataframe tbody tr th {\n",
       "        vertical-align: top;\n",
       "    }\n",
       "\n",
       "    .dataframe thead th {\n",
       "        text-align: right;\n",
       "    }\n",
       "</style>\n",
       "<table border=\"1\" class=\"dataframe\">\n",
       "  <thead>\n",
       "    <tr style=\"text-align: right;\">\n",
       "      <th></th>\n",
       "      <th>id</th>\n",
       "      <th>prompt</th>\n",
       "      <th>A</th>\n",
       "      <th>B</th>\n",
       "      <th>C</th>\n",
       "      <th>D</th>\n",
       "      <th>E</th>\n",
       "      <th>answer</th>\n",
       "      <th>wiki_text</th>\n",
       "      <th>page_id</th>\n",
       "      <th>page_title</th>\n",
       "      <th>stem_label</th>\n",
       "      <th>prompt_answer</th>\n",
       "      <th>index</th>\n",
       "      <th>top1000_to_top20_ids</th>\n",
       "    </tr>\n",
       "  </thead>\n",
       "  <tbody>\n",
       "    <tr>\n",
       "      <th>0</th>\n",
       "      <td>47000</td>\n",
       "      <td>What are some adverse effects associated with ...</td>\n",
       "      <td>Burns and eczema</td>\n",
       "      <td>Cancer and brain disorder</td>\n",
       "      <td>Fetotoxicity and inflammations of peripheral n...</td>\n",
       "      <td>All of the above</td>\n",
       "      <td>None of the above</td>\n",
       "      <td>D</td>\n",
       "      <td>A solvent is a substance that is liquid at the...</td>\n",
       "      <td>73305281</td>\n",
       "      <td>Green solvent</td>\n",
       "      <td>M</td>\n",
       "      <td>What are some adverse effects associated with ...</td>\n",
       "      <td>0</td>\n",
       "      <td>[2004006, 1486993, 946140, 945569, 5285194, 45...</td>\n",
       "    </tr>\n",
       "  </tbody>\n",
       "</table>\n",
       "</div>"
      ],
      "text/plain": [
       "      id                                             prompt                 A  \\\n",
       "0  47000  What are some adverse effects associated with ...  Burns and eczema   \n",
       "\n",
       "                           B  \\\n",
       "0  Cancer and brain disorder   \n",
       "\n",
       "                                                   C                 D  \\\n",
       "0  Fetotoxicity and inflammations of peripheral n...  All of the above   \n",
       "\n",
       "                   E answer  \\\n",
       "0  None of the above      D   \n",
       "\n",
       "                                           wiki_text   page_id     page_title  \\\n",
       "0  A solvent is a substance that is liquid at the...  73305281  Green solvent   \n",
       "\n",
       "  stem_label                                      prompt_answer  index  \\\n",
       "0          M  What are some adverse effects associated with ...      0   \n",
       "\n",
       "                                top1000_to_top20_ids  \n",
       "0  [2004006, 1486993, 946140, 945569, 5285194, 45...  "
      ]
     },
     "execution_count": 14,
     "metadata": {},
     "output_type": "execute_result"
    }
   ],
   "source": [
    "data.head(1)"
   ]
  },
  {
   "cell_type": "code",
   "execution_count": 1,
   "id": "0d095897-a90a-49d7-bee8-b925ec4281bd",
   "metadata": {},
   "outputs": [],
   "source": [
    "import pandas as pd\n",
    "trn = pd.read_csv('./data/train.csv')\n",
    "sub = pd.read_csv('./data/submission (6).csv')"
   ]
  },
  {
   "cell_type": "code",
   "execution_count": 2,
   "id": "3b459cea-b0f9-4d21-abc3-476a855debd4",
   "metadata": {
    "tags": []
   },
   "outputs": [],
   "source": [
    "answer = trn['answer'].tolist()\n",
    "pred = sub['prediction'].apply(lambda x : x.split(' ')).tolist()"
   ]
  },
  {
   "cell_type": "code",
   "execution_count": 3,
   "id": "a2444586-1933-4869-b3d2-0ec44e5d8b81",
   "metadata": {
    "tags": []
   },
   "outputs": [],
   "source": [
    "def calculate_ap(answer_order, correct_answer):\n",
    "    \"\"\"\n",
    "    计算平均准确率\n",
    "    \"\"\"\n",
    "    n = len(answer_order)\n",
    "    hit = 0\n",
    "    ap = 0\n",
    "    for i in range(n):\n",
    "        if answer_order[i] == correct_answer:\n",
    "            hit += 1\n",
    "            ap += hit / (i+1)\n",
    "    if hit == 0:\n",
    "        return 0\n",
    "    else:\n",
    "        return ap / hit\n",
    "\n",
    "def calculate_map(answers, correct_answers):\n",
    "    \"\"\"\n",
    "    计算平均准确率均值\n",
    "    \"\"\"\n",
    "    n = len(answers)\n",
    "    aps = []\n",
    "    for i in range(n):\n",
    "        ap = calculate_ap(answers[i], correct_answers[i])\n",
    "        aps.append(ap)\n",
    "    return sum(aps) / n"
   ]
  },
  {
   "cell_type": "code",
   "execution_count": 4,
   "id": "36bf714e-fa89-469c-a1cc-8d23ad2daf45",
   "metadata": {
    "tags": []
   },
   "outputs": [
    {
     "data": {
      "text/plain": [
       "0.9925"
      ]
     },
     "execution_count": 4,
     "metadata": {},
     "output_type": "execute_result"
    }
   ],
   "source": [
    "calculate_map(pred, answer)"
   ]
  },
  {
   "cell_type": "code",
   "execution_count": 1,
   "id": "f177fb4d-dfa8-4109-b60a-33ac1571df7d",
   "metadata": {},
   "outputs": [],
   "source": [
    "import numpy as np\n",
    "import random\n",
    "a = np.array([[random.randint(1, 6800000) for i in range(1000)] for j in range(4200)])"
   ]
  },
  {
   "cell_type": "code",
   "execution_count": 3,
   "id": "ed5510a5-83f5-4af7-b55e-adc79d3d1892",
   "metadata": {
    "tags": []
   },
   "outputs": [
    {
     "data": {
      "text/plain": [
       "33600128"
      ]
     },
     "execution_count": 3,
     "metadata": {},
     "output_type": "execute_result"
    }
   ],
   "source": [
    "import sys\n",
    "sys.getsizeof(a)"
   ]
  },
  {
   "cell_type": "code",
   "execution_count": 6,
   "id": "b2f39d3d-0541-4112-ba90-f14ab57ece64",
   "metadata": {
    "tags": []
   },
   "outputs": [],
   "source": [
    "np.save('tmp.npy', a,allow_pickle=True)"
   ]
  },
  {
   "cell_type": "code",
   "execution_count": 1,
   "id": "fd792d4a-0337-46ca-941f-e8a6ca3b6421",
   "metadata": {},
   "outputs": [],
   "source": [
    "import pandas as pd\n",
    "tmp = []\n",
    "for i in range(10):\n",
    "    tmp.append(pd.read_csv(f'./tmp/10w_bm25_20_round2_bm25_20_{i}.csv'))\n",
    "data = pd.concat(tmp, axis=0)"
   ]
  },
  {
   "cell_type": "code",
   "execution_count": 2,
   "id": "fb26410f-f490-453c-89ba-38b0c17624ee",
   "metadata": {
    "tags": []
   },
   "outputs": [],
   "source": [
    "data = data.reset_index(drop=True)"
   ]
  },
  {
   "cell_type": "code",
   "execution_count": 5,
   "id": "0dedbb13-f03a-4095-8889-bf669a11937a",
   "metadata": {
    "tags": []
   },
   "outputs": [],
   "source": [
    "trn1 = pd.read_csv(\"./data/all_12_with_context2.csv\")\n",
    "trn2 = pd.read_csv('./data/crawl_new_dataset.csv')\n",
    "trn1['type'] = '6w'\n",
    "trn2['type'] = '4w8'\n",
    "trn = pd.concat([trn1,trn2],axis=0).reset_index(drop=True)"
   ]
  },
  {
   "cell_type": "code",
   "execution_count": 6,
   "id": "68a50d9e-03c6-4a64-8766-563a129bc452",
   "metadata": {
    "tags": []
   },
   "outputs": [],
   "source": [
    "trn['context'] = data['context']"
   ]
  },
  {
   "cell_type": "code",
   "execution_count": 7,
   "id": "e3baec20-9fc3-4674-94e1-effdbc7eaa2a",
   "metadata": {
    "tags": []
   },
   "outputs": [],
   "source": [
    "trn.to_csv('./data/10w_bm25_20_20_merge.csv')"
   ]
  },
  {
   "cell_type": "code",
   "execution_count": 1,
   "id": "414f28f4-a3f1-4718-a12c-94838323b36f",
   "metadata": {},
   "outputs": [],
   "source": [
    "import pandas as pd\n",
    "def get_data(context_path, data_path):\n",
    "    data = pd.read_csv(context_path)\n",
    "    trt = pd.read_csv(data_path)\n",
    "    val = None\n",
    "    if 'crawl' in data_path:\n",
    "        data = data[data['type'] == '4w8'].reset_index(drop=True)\n",
    "        tmp = pd.read_csv('./data/recall_val.csv')\n",
    "        tmp['id'] = tmp['id'].apply(lambda x : int(x))\n",
    "        val_idx = [x for x in list(tmp['id']) if x < len(data)]\n",
    "        val = data.loc[val_idx].reset_index(drop=True)\n",
    "        data = data.drop(val_idx).reset_index(drop=True)\n",
    "        # val['prompt'] = val['context'].apply(lambda x : x[:1750]) + ' #### ' + val['prompt']\n",
    "        val['id'] = list(range(len(val)))\n",
    "        val.index = list(range(len(val)))\n",
    "    else:\n",
    "        data = data[data['type'] == '6w'].reset_index(drop=True)\n",
    "    # data['answer'] = trt['answer']\n",
    "    # data['concat'] = data.apply(lambda x : str(x['prompt'])+str(x['A'])+str(x['B'])+str(x['C'])+str(x['D'])+str(x['E']),axis=1)\n",
    "    # data = data.drop_duplicates(subset=['concat'])\n",
    "    data = data.reset_index(drop=True)\n",
    "    data.index = list(range(len(data)))\n",
    "    data['id'] = list(range(len(data)))\n",
    "    # data['prompt'] = data['context'].apply(lambda x : x[:1750]) + ' #### ' + data['prompt']\n",
    "\n",
    "    return data, val\n",
    "train, val = get_data('./data/10w_bm25_20_20_merge.csv', './data/crawl_new_dataset.csv')\n",
    "data2,_ = get_data('./data/10w_bm25_20_20_merge.csv', './data/all_12_with_context2.csv')\n",
    "train = pd.concat([train, data2],axis=0).reset_index(drop=True)"
   ]
  },
  {
   "cell_type": "code",
   "execution_count": 2,
   "id": "a0f0e4b7-e5e2-4f98-bf9a-d386f20ba8e6",
   "metadata": {
    "tags": []
   },
   "outputs": [
    {
     "data": {
      "text/html": [
       "<div>\n",
       "<style scoped>\n",
       "    .dataframe tbody tr th:only-of-type {\n",
       "        vertical-align: middle;\n",
       "    }\n",
       "\n",
       "    .dataframe tbody tr th {\n",
       "        vertical-align: top;\n",
       "    }\n",
       "\n",
       "    .dataframe thead th {\n",
       "        text-align: right;\n",
       "    }\n",
       "</style>\n",
       "<table border=\"1\" class=\"dataframe\">\n",
       "  <thead>\n",
       "    <tr style=\"text-align: right;\">\n",
       "      <th></th>\n",
       "      <th>prompt</th>\n",
       "      <th>context</th>\n",
       "      <th>A</th>\n",
       "      <th>B</th>\n",
       "      <th>C</th>\n",
       "      <th>D</th>\n",
       "      <th>E</th>\n",
       "      <th>answer</th>\n",
       "    </tr>\n",
       "  </thead>\n",
       "  <tbody>\n",
       "    <tr>\n",
       "      <th>0</th>\n",
       "      <td>What is physical mathematics?</td>\n",
       "      <td>The subject of physical mathematics is concern...</td>\n",
       "      <td>The study of physically motivated mathematics</td>\n",
       "      <td>The study of mathematical physics</td>\n",
       "      <td>The study of mathematics in physical contexts</td>\n",
       "      <td>The study of mathematical equations</td>\n",
       "      <td>The study of mathematical operations</td>\n",
       "      <td>A</td>\n",
       "    </tr>\n",
       "    <tr>\n",
       "      <th>1</th>\n",
       "      <td>Who wrote Physical Arithmetic in 1885?</td>\n",
       "      <td>The details of physical units and their manipu...</td>\n",
       "      <td>Margaret Osler</td>\n",
       "      <td>Alexander Macfarlane</td>\n",
       "      <td>Alhazen</td>\n",
       "      <td>Galileo</td>\n",
       "      <td>Newton</td>\n",
       "      <td>B</td>\n",
       "    </tr>\n",
       "    <tr>\n",
       "      <th>2</th>\n",
       "      <td>What did the Mathematical Tripos at Cambridge ...</td>\n",
       "      <td>At Cambridge University the Mathematical Tripo...</td>\n",
       "      <td>Pure mathematics</td>\n",
       "      <td>Applied mathematics</td>\n",
       "      <td>Mixed mathematics</td>\n",
       "      <td>Fluxional calculus</td>\n",
       "      <td>Physical problems</td>\n",
       "      <td>C</td>\n",
       "    </tr>\n",
       "    <tr>\n",
       "      <th>3</th>\n",
       "      <td>What mathematical representation is used for m...</td>\n",
       "      <td>The details of physical units and their manipu...</td>\n",
       "      <td>Complex numbers</td>\n",
       "      <td>Quaternions</td>\n",
       "      <td>Linear algebra</td>\n",
       "      <td>Fluxional calculus</td>\n",
       "      <td>Mixed mathematics</td>\n",
       "      <td>C</td>\n",
       "    </tr>\n",
       "    <tr>\n",
       "      <th>4</th>\n",
       "      <td>What did the early expressions of kinematics a...</td>\n",
       "      <td>Accordingly these early expressions of kinemat...</td>\n",
       "      <td>Causality</td>\n",
       "      <td>Forces</td>\n",
       "      <td>Mathematical physics</td>\n",
       "      <td>Fluxional calculus</td>\n",
       "      <td>Mixed mathematics</td>\n",
       "      <td>C</td>\n",
       "    </tr>\n",
       "    <tr>\n",
       "      <th>...</th>\n",
       "      <td>...</td>\n",
       "      <td>...</td>\n",
       "      <td>...</td>\n",
       "      <td>...</td>\n",
       "      <td>...</td>\n",
       "      <td>...</td>\n",
       "      <td>...</td>\n",
       "      <td>...</td>\n",
       "    </tr>\n",
       "    <tr>\n",
       "      <th>107342</th>\n",
       "      <td>The outer ear, or ear canal, carries sound to ...</td>\n",
       "      <td>The difference in pressure between internal or...</td>\n",
       "      <td>aorta</td>\n",
       "      <td>ear lobe</td>\n",
       "      <td>eardrum</td>\n",
       "      <td>lungs</td>\n",
       "      <td>NaN</td>\n",
       "      <td>C</td>\n",
       "    </tr>\n",
       "    <tr>\n",
       "      <th>107343</th>\n",
       "      <td>What sport involves people quickly finding des...</td>\n",
       "      <td>The term is derived from the use of the term f...</td>\n",
       "      <td>mapping</td>\n",
       "      <td>NaN</td>\n",
       "      <td>orienteering</td>\n",
       "      <td>patterning</td>\n",
       "      <td>sticking</td>\n",
       "      <td>C</td>\n",
       "    </tr>\n",
       "    <tr>\n",
       "      <th>107344</th>\n",
       "      <td>Almost all earthquakes occur at which place?</td>\n",
       "      <td>Tectonic processes typically occur at plate bo...</td>\n",
       "      <td>mountains</td>\n",
       "      <td>land boundaries</td>\n",
       "      <td>plate boundaries</td>\n",
       "      <td>continental shelf</td>\n",
       "      <td>NaN</td>\n",
       "      <td>C</td>\n",
       "    </tr>\n",
       "    <tr>\n",
       "      <th>107345</th>\n",
       "      <td>Melting glaciers, rising temperatures and drou...</td>\n",
       "      <td>Wildfires in Italy can be a problem. == Impact...</td>\n",
       "      <td>nature's natural cycle</td>\n",
       "      <td>air pollution</td>\n",
       "      <td>global warming</td>\n",
       "      <td>sudden warming</td>\n",
       "      <td>NaN</td>\n",
       "      <td>C</td>\n",
       "    </tr>\n",
       "    <tr>\n",
       "      <th>107346</th>\n",
       "      <td>What parts of a human possess the highest conc...</td>\n",
       "      <td>In humans, sebaceous glands occur in the great...</td>\n",
       "      <td>NaN</td>\n",
       "      <td>hand and ears</td>\n",
       "      <td>face and hair</td>\n",
       "      <td>face and ears</td>\n",
       "      <td>hands and feet</td>\n",
       "      <td>D</td>\n",
       "    </tr>\n",
       "  </tbody>\n",
       "</table>\n",
       "<p>107347 rows × 8 columns</p>\n",
       "</div>"
      ],
      "text/plain": [
       "                                                   prompt  \\\n",
       "0                           What is physical mathematics?   \n",
       "1                  Who wrote Physical Arithmetic in 1885?   \n",
       "2       What did the Mathematical Tripos at Cambridge ...   \n",
       "3       What mathematical representation is used for m...   \n",
       "4       What did the early expressions of kinematics a...   \n",
       "...                                                   ...   \n",
       "107342  The outer ear, or ear canal, carries sound to ...   \n",
       "107343  What sport involves people quickly finding des...   \n",
       "107344       Almost all earthquakes occur at which place?   \n",
       "107345  Melting glaciers, rising temperatures and drou...   \n",
       "107346  What parts of a human possess the highest conc...   \n",
       "\n",
       "                                                  context  \\\n",
       "0       The subject of physical mathematics is concern...   \n",
       "1       The details of physical units and their manipu...   \n",
       "2       At Cambridge University the Mathematical Tripo...   \n",
       "3       The details of physical units and their manipu...   \n",
       "4       Accordingly these early expressions of kinemat...   \n",
       "...                                                   ...   \n",
       "107342  The difference in pressure between internal or...   \n",
       "107343  The term is derived from the use of the term f...   \n",
       "107344  Tectonic processes typically occur at plate bo...   \n",
       "107345  Wildfires in Italy can be a problem. == Impact...   \n",
       "107346  In humans, sebaceous glands occur in the great...   \n",
       "\n",
       "                                                    A  \\\n",
       "0       The study of physically motivated mathematics   \n",
       "1                                      Margaret Osler   \n",
       "2                                    Pure mathematics   \n",
       "3                                     Complex numbers   \n",
       "4                                           Causality   \n",
       "...                                               ...   \n",
       "107342                                          aorta   \n",
       "107343                                        mapping   \n",
       "107344                                      mountains   \n",
       "107345                         nature's natural cycle   \n",
       "107346                                            NaN   \n",
       "\n",
       "                                        B  \\\n",
       "0       The study of mathematical physics   \n",
       "1                    Alexander Macfarlane   \n",
       "2                     Applied mathematics   \n",
       "3                             Quaternions   \n",
       "4                                  Forces   \n",
       "...                                   ...   \n",
       "107342                           ear lobe   \n",
       "107343                                NaN   \n",
       "107344                    land boundaries   \n",
       "107345                      air pollution   \n",
       "107346                      hand and ears   \n",
       "\n",
       "                                                    C  \\\n",
       "0       The study of mathematics in physical contexts   \n",
       "1                                             Alhazen   \n",
       "2                                   Mixed mathematics   \n",
       "3                                      Linear algebra   \n",
       "4                                Mathematical physics   \n",
       "...                                               ...   \n",
       "107342                                        eardrum   \n",
       "107343                                   orienteering   \n",
       "107344                               plate boundaries   \n",
       "107345                                 global warming   \n",
       "107346                                  face and hair   \n",
       "\n",
       "                                          D  \\\n",
       "0       The study of mathematical equations   \n",
       "1                                   Galileo   \n",
       "2                        Fluxional calculus   \n",
       "3                        Fluxional calculus   \n",
       "4                        Fluxional calculus   \n",
       "...                                     ...   \n",
       "107342                                lungs   \n",
       "107343                           patterning   \n",
       "107344                    continental shelf   \n",
       "107345                       sudden warming   \n",
       "107346                        face and ears   \n",
       "\n",
       "                                           E answer  \n",
       "0       The study of mathematical operations      A  \n",
       "1                                     Newton      B  \n",
       "2                          Physical problems      C  \n",
       "3                          Mixed mathematics      C  \n",
       "4                          Mixed mathematics      C  \n",
       "...                                      ...    ...  \n",
       "107342                                   NaN      C  \n",
       "107343                              sticking      C  \n",
       "107344                                   NaN      C  \n",
       "107345                                   NaN      C  \n",
       "107346                        hands and feet      D  \n",
       "\n",
       "[107347 rows x 8 columns]"
      ]
     },
     "execution_count": 2,
     "metadata": {},
     "output_type": "execute_result"
    }
   ],
   "source": [
    "train = train[['prompt', 'context','A','B','C','D','E','answer']]\n",
    "train"
   ]
  },
  {
   "cell_type": "code",
   "execution_count": 3,
   "id": "7929cc7a-627e-4ff3-bcd4-e5e84a96a94a",
   "metadata": {
    "tags": []
   },
   "outputs": [
    {
     "data": {
      "text/html": [
       "<div>\n",
       "<style scoped>\n",
       "    .dataframe tbody tr th:only-of-type {\n",
       "        vertical-align: middle;\n",
       "    }\n",
       "\n",
       "    .dataframe tbody tr th {\n",
       "        vertical-align: top;\n",
       "    }\n",
       "\n",
       "    .dataframe thead th {\n",
       "        text-align: right;\n",
       "    }\n",
       "</style>\n",
       "<table border=\"1\" class=\"dataframe\">\n",
       "  <thead>\n",
       "    <tr style=\"text-align: right;\">\n",
       "      <th></th>\n",
       "      <th>prompt</th>\n",
       "      <th>context</th>\n",
       "      <th>A</th>\n",
       "      <th>B</th>\n",
       "      <th>C</th>\n",
       "      <th>D</th>\n",
       "      <th>E</th>\n",
       "      <th>answer</th>\n",
       "    </tr>\n",
       "  </thead>\n",
       "  <tbody>\n",
       "    <tr>\n",
       "      <th>0</th>\n",
       "      <td>What are some adverse effects associated with ...</td>\n",
       "      <td>The traditional organic solvents (acetone, NMP...</td>\n",
       "      <td>Burns and eczema</td>\n",
       "      <td>Cancer and brain disorder</td>\n",
       "      <td>Fetotoxicity and inflammations of peripheral n...</td>\n",
       "      <td>All of the above</td>\n",
       "      <td>None of the above</td>\n",
       "      <td>D</td>\n",
       "    </tr>\n",
       "    <tr>\n",
       "      <th>1</th>\n",
       "      <td>What is the goal of the UN sustainability deve...</td>\n",
       "      <td>Solvents represent a major part of the chemica...</td>\n",
       "      <td>To promote the use of petrochemical solvents</td>\n",
       "      <td>To develop green and sustainable solvents</td>\n",
       "      <td>To increase the use of nonpolar solvents</td>\n",
       "      <td>To classify solvents into polar and nonpolar c...</td>\n",
       "      <td>To decrease the use of solvents in various dom...</td>\n",
       "      <td>B</td>\n",
       "    </tr>\n",
       "    <tr>\n",
       "      <th>2</th>\n",
       "      <td>What are green solvents derived from?</td>\n",
       "      <td>It is in this context that so-called green, ec...</td>\n",
       "      <td>Processing of agricultural crops</td>\n",
       "      <td>Petrochemical sources</td>\n",
       "      <td>Regular solvents</td>\n",
       "      <td>Chemical reactions</td>\n",
       "      <td>Water and air pollution</td>\n",
       "      <td>A</td>\n",
       "    </tr>\n",
       "    <tr>\n",
       "      <th>3</th>\n",
       "      <td>What makes it difficult to classify green solv...</td>\n",
       "      <td>It is in this context that so-called green, ec...</td>\n",
       "      <td>Their chemical structure and source can differ</td>\n",
       "      <td>They have adverse effects on health and safety</td>\n",
       "      <td>They are associated with water and air pollution</td>\n",
       "      <td>They are derived from petrochemical sources</td>\n",
       "      <td>They are nonpolar solvents</td>\n",
       "      <td>A</td>\n",
       "    </tr>\n",
       "    <tr>\n",
       "      <th>4</th>\n",
       "      <td>What is the significance of the Nora Stone?</td>\n",
       "      <td>It is the most recent dated inscription in the...</td>\n",
       "      <td>It is the oldest Phoenician inscription found ...</td>\n",
       "      <td>It is the only Phoenician inscription found in...</td>\n",
       "      <td>It is the first evidence of Phoenician coloniz...</td>\n",
       "      <td>It is the longest Phoenician inscription ever ...</td>\n",
       "      <td>It is the only known inscription honoring a go...</td>\n",
       "      <td>A</td>\n",
       "    </tr>\n",
       "    <tr>\n",
       "      <th>...</th>\n",
       "      <td>...</td>\n",
       "      <td>...</td>\n",
       "      <td>...</td>\n",
       "      <td>...</td>\n",
       "      <td>...</td>\n",
       "      <td>...</td>\n",
       "      <td>...</td>\n",
       "      <td>...</td>\n",
       "    </tr>\n",
       "    <tr>\n",
       "      <th>1074</th>\n",
       "      <td>What is Sequenom known for developing?</td>\n",
       "      <td>It develops enabling molecular technologies, a...</td>\n",
       "      <td>Laboratory genetic tests for infertility</td>\n",
       "      <td>Non-invasive prenatal genetic tests</td>\n",
       "      <td>Diagnostic and testing devices for cancer</td>\n",
       "      <td>Molecular technologies for heart disease</td>\n",
       "      <td>Clinical molecular genetics tests for diabetes</td>\n",
       "      <td>B</td>\n",
       "    </tr>\n",
       "    <tr>\n",
       "      <th>1075</th>\n",
       "      <td>Which company acquired Sequenom in 2016?</td>\n",
       "      <td>The acquisition was completed in September 201...</td>\n",
       "      <td>LabCorp</td>\n",
       "      <td>Agena Bioscience</td>\n",
       "      <td>Ariosa</td>\n",
       "      <td>PerkinElmer</td>\n",
       "      <td>Natera</td>\n",
       "      <td>A</td>\n",
       "    </tr>\n",
       "    <tr>\n",
       "      <th>1076</th>\n",
       "      <td>Which company did Sequenom sell its bioscience...</td>\n",
       "      <td>In June 2014 the company sold its biosciences ...</td>\n",
       "      <td>Natera</td>\n",
       "      <td>PerkinElmer</td>\n",
       "      <td>Agena Bioscience</td>\n",
       "      <td>LabCorp</td>\n",
       "      <td>Ravgen</td>\n",
       "      <td>C</td>\n",
       "    </tr>\n",
       "    <tr>\n",
       "      <th>1077</th>\n",
       "      <td>Which patent battle did Sequenom enter in 2012?</td>\n",
       "      <td>Other companies and universities that are work...</td>\n",
       "      <td>Patent battle with Ariosa</td>\n",
       "      <td>Patent battle with Natera</td>\n",
       "      <td>Patent battle with Illumina</td>\n",
       "      <td>Patent battle with Ravgen</td>\n",
       "      <td>Patent battle with PerkinElmer</td>\n",
       "      <td>A</td>\n",
       "    </tr>\n",
       "    <tr>\n",
       "      <th>1078</th>\n",
       "      <td>Which company is also working towards developi...</td>\n",
       "      <td>* March 2004: Ravgen publishes first clinical ...</td>\n",
       "      <td>Illumina</td>\n",
       "      <td>Ravgen</td>\n",
       "      <td>PerkinElmer</td>\n",
       "      <td>Natera</td>\n",
       "      <td>Stanford University</td>\n",
       "      <td>E</td>\n",
       "    </tr>\n",
       "  </tbody>\n",
       "</table>\n",
       "<p>1079 rows × 8 columns</p>\n",
       "</div>"
      ],
      "text/plain": [
       "                                                 prompt  \\\n",
       "0     What are some adverse effects associated with ...   \n",
       "1     What is the goal of the UN sustainability deve...   \n",
       "2                 What are green solvents derived from?   \n",
       "3     What makes it difficult to classify green solv...   \n",
       "4           What is the significance of the Nora Stone?   \n",
       "...                                                 ...   \n",
       "1074             What is Sequenom known for developing?   \n",
       "1075           Which company acquired Sequenom in 2016?   \n",
       "1076  Which company did Sequenom sell its bioscience...   \n",
       "1077    Which patent battle did Sequenom enter in 2012?   \n",
       "1078  Which company is also working towards developi...   \n",
       "\n",
       "                                                context  \\\n",
       "0     The traditional organic solvents (acetone, NMP...   \n",
       "1     Solvents represent a major part of the chemica...   \n",
       "2     It is in this context that so-called green, ec...   \n",
       "3     It is in this context that so-called green, ec...   \n",
       "4     It is the most recent dated inscription in the...   \n",
       "...                                                 ...   \n",
       "1074  It develops enabling molecular technologies, a...   \n",
       "1075  The acquisition was completed in September 201...   \n",
       "1076  In June 2014 the company sold its biosciences ...   \n",
       "1077  Other companies and universities that are work...   \n",
       "1078  * March 2004: Ravgen publishes first clinical ...   \n",
       "\n",
       "                                                      A  \\\n",
       "0                                      Burns and eczema   \n",
       "1          To promote the use of petrochemical solvents   \n",
       "2                      Processing of agricultural crops   \n",
       "3        Their chemical structure and source can differ   \n",
       "4     It is the oldest Phoenician inscription found ...   \n",
       "...                                                 ...   \n",
       "1074           Laboratory genetic tests for infertility   \n",
       "1075                                            LabCorp   \n",
       "1076                                             Natera   \n",
       "1077                          Patent battle with Ariosa   \n",
       "1078                                           Illumina   \n",
       "\n",
       "                                                      B  \\\n",
       "0                             Cancer and brain disorder   \n",
       "1             To develop green and sustainable solvents   \n",
       "2                                 Petrochemical sources   \n",
       "3        They have adverse effects on health and safety   \n",
       "4     It is the only Phoenician inscription found in...   \n",
       "...                                                 ...   \n",
       "1074                Non-invasive prenatal genetic tests   \n",
       "1075                                   Agena Bioscience   \n",
       "1076                                        PerkinElmer   \n",
       "1077                          Patent battle with Natera   \n",
       "1078                                             Ravgen   \n",
       "\n",
       "                                                      C  \\\n",
       "0     Fetotoxicity and inflammations of peripheral n...   \n",
       "1              To increase the use of nonpolar solvents   \n",
       "2                                      Regular solvents   \n",
       "3      They are associated with water and air pollution   \n",
       "4     It is the first evidence of Phoenician coloniz...   \n",
       "...                                                 ...   \n",
       "1074          Diagnostic and testing devices for cancer   \n",
       "1075                                             Ariosa   \n",
       "1076                                   Agena Bioscience   \n",
       "1077                        Patent battle with Illumina   \n",
       "1078                                        PerkinElmer   \n",
       "\n",
       "                                                      D  \\\n",
       "0                                      All of the above   \n",
       "1     To classify solvents into polar and nonpolar c...   \n",
       "2                                    Chemical reactions   \n",
       "3           They are derived from petrochemical sources   \n",
       "4     It is the longest Phoenician inscription ever ...   \n",
       "...                                                 ...   \n",
       "1074           Molecular technologies for heart disease   \n",
       "1075                                        PerkinElmer   \n",
       "1076                                            LabCorp   \n",
       "1077                          Patent battle with Ravgen   \n",
       "1078                                             Natera   \n",
       "\n",
       "                                                      E answer  \n",
       "0                                     None of the above      D  \n",
       "1     To decrease the use of solvents in various dom...      B  \n",
       "2                               Water and air pollution      A  \n",
       "3                            They are nonpolar solvents      A  \n",
       "4     It is the only known inscription honoring a go...      A  \n",
       "...                                                 ...    ...  \n",
       "1074     Clinical molecular genetics tests for diabetes      B  \n",
       "1075                                             Natera      A  \n",
       "1076                                             Ravgen      C  \n",
       "1077                     Patent battle with PerkinElmer      A  \n",
       "1078                                Stanford University      E  \n",
       "\n",
       "[1079 rows x 8 columns]"
      ]
     },
     "execution_count": 3,
     "metadata": {},
     "output_type": "execute_result"
    }
   ],
   "source": [
    "val = val[['prompt', 'context','A','B','C','D','E','answer']]\n",
    "val"
   ]
  },
  {
   "cell_type": "code",
   "execution_count": 11,
   "id": "da8777b3-f03c-4758-a013-d9986750d67f",
   "metadata": {
    "tags": []
   },
   "outputs": [],
   "source": [
    "train.to_csv('./data/train_10w_bm25召回_训LLM用.csv',index=False)\n",
    "val.to_csv('./data/val_10w_bm25召回_训LLM用.csv',index=False)"
   ]
  },
  {
   "cell_type": "code",
   "execution_count": 5,
   "id": "b909d1ae-a8c1-40ab-bc18-76bd45898737",
   "metadata": {},
   "outputs": [],
   "source": [
    "train['all'] = train.apply(lambda x : x['prompt']+str(x['A'])+str(x['B'])+str(x['C'])+str(x['D'])+str(x['E']),axis=1)"
   ]
  },
  {
   "cell_type": "code",
   "execution_count": 14,
   "id": "0a9227b5-510b-46c4-96f4-7b165b7b1572",
   "metadata": {
    "tags": []
   },
   "outputs": [
    {
     "data": {
      "text/plain": [
       "count    107347.000000\n",
       "mean       5322.204244\n",
       "std        8972.622649\n",
       "min         433.000000\n",
       "25%        3683.000000\n",
       "50%        4397.000000\n",
       "75%        5415.000000\n",
       "85%        6232.000000\n",
       "90%        7017.400000\n",
       "95%        8965.000000\n",
       "99%       22770.320000\n",
       "max     1837615.000000\n",
       "Name: context_l, dtype: float64"
      ]
     },
     "execution_count": 14,
     "metadata": {},
     "output_type": "execute_result"
    }
   ],
   "source": [
    "train['context_l'] = train['context'].apply(lambda x : int(len(x)))\n",
    "pd.set_option('float_format', '{:f}'.format)\n",
    "train['context_l'].describe(percentiles=[0.25,0.5,0.75,0.85,0.9,0.95,0.99])"
   ]
  },
  {
   "cell_type": "code",
   "execution_count": 2,
   "id": "959e32e9-4904-4ae0-ba07-e4e128527dc1",
   "metadata": {},
   "outputs": [
    {
     "name": "stdout",
     "output_type": "stream",
     "text": [
      "(78145, 12)\n"
     ]
    }
   ],
   "source": [
    "import pandas as pd\n",
    "import json\n",
    "prompt = pd.read_csv('./data/crawl_new_dataset_v2.csv')\n",
    "print(prompt.shape)\n",
    "prompt['prompt_answer'] = prompt.apply(lambda row: ' '.join(str(row[field]) for field in ['prompt', 'A', 'B', 'C', 'D', 'E']), axis=1)"
   ]
  },
  {
   "cell_type": "code",
   "execution_count": 3,
   "id": "de22936c-0787-4f7e-9a96-ef110d739b6f",
   "metadata": {
    "tags": []
   },
   "outputs": [],
   "source": [
    "prompt = prompt.drop_duplicates(subset='prompt_answer').reset_index(drop=True)"
   ]
  },
  {
   "cell_type": "code",
   "execution_count": 4,
   "id": "d2ccd025-f8bd-4106-bf7d-464c04a312e3",
   "metadata": {
    "tags": []
   },
   "outputs": [
    {
     "data": {
      "text/plain": [
       "(78008, 13)"
      ]
     },
     "execution_count": 4,
     "metadata": {},
     "output_type": "execute_result"
    }
   ],
   "source": [
    "prompt.shape"
   ]
  },
  {
   "cell_type": "code",
   "execution_count": 5,
   "id": "bdfdd3b2-71e3-44b2-a224-236af41b55c1",
   "metadata": {},
   "outputs": [],
   "source": [
    "s1 = set([int(x) for x in prompt['page_id']])\n",
    "s2 = set([int(x) for x in df['id']])"
   ]
  },
  {
   "cell_type": "code",
   "execution_count": 6,
   "id": "c228823e-5600-445a-8ff2-7e633067999a",
   "metadata": {
    "tags": []
   },
   "outputs": [
    {
     "data": {
      "text/plain": [
       "28"
      ]
     },
     "execution_count": 6,
     "metadata": {},
     "output_type": "execute_result"
    }
   ],
   "source": [
    "mx = 0\n",
    "prompt['page_id'] = prompt['page_id'].apply(lambda x : int(x))\n",
    "for item in s1:\n",
    "    mx = max(mx, prompt[prompt['page_id'] == item].shape[0])\n",
    "mx"
   ]
  },
  {
   "cell_type": "code",
   "execution_count": 7,
   "id": "2ea1907c-14e7-4072-9411-93c0b8a69094",
   "metadata": {
    "tags": []
   },
   "outputs": [
    {
     "name": "stdout",
     "output_type": "stream",
     "text": [
      "14530\n",
      "13305\n"
     ]
    }
   ],
   "source": [
    "s = s1 & s2\n",
    "print(len(s1))\n",
    "print(len(s))"
   ]
  },
  {
   "cell_type": "code",
   "execution_count": 8,
   "id": "f962ec0f-c3a2-453c-84a2-b75ccfcdea18",
   "metadata": {
    "tags": []
   },
   "outputs": [],
   "source": [
    "prompt['check'] = prompt['page_id'].apply(lambda x : int(x) in s)"
   ]
  },
  {
   "cell_type": "code",
   "execution_count": 9,
   "id": "08af7308-d1f8-4927-a4d6-719036788091",
   "metadata": {
    "tags": []
   },
   "outputs": [
    {
     "data": {
      "text/plain": [
       "(71421, 14)"
      ]
     },
     "execution_count": 9,
     "metadata": {},
     "output_type": "execute_result"
    }
   ],
   "source": [
    "prompt = prompt[prompt['check']].reset_index(drop=True)\n",
    "prompt.shape"
   ]
  },
  {
   "cell_type": "code",
   "execution_count": 10,
   "id": "47964871-0254-483e-84b1-c6bc91889c1e",
   "metadata": {
    "tags": []
   },
   "outputs": [
    {
     "data": {
      "text/html": [
       "<div>\n",
       "<style scoped>\n",
       "    .dataframe tbody tr th:only-of-type {\n",
       "        vertical-align: middle;\n",
       "    }\n",
       "\n",
       "    .dataframe tbody tr th {\n",
       "        vertical-align: top;\n",
       "    }\n",
       "\n",
       "    .dataframe thead th {\n",
       "        text-align: right;\n",
       "    }\n",
       "</style>\n",
       "<table border=\"1\" class=\"dataframe\">\n",
       "  <thead>\n",
       "    <tr style=\"text-align: right;\">\n",
       "      <th></th>\n",
       "      <th>id</th>\n",
       "      <th>prompt</th>\n",
       "      <th>A</th>\n",
       "      <th>B</th>\n",
       "      <th>C</th>\n",
       "      <th>D</th>\n",
       "      <th>E</th>\n",
       "      <th>answer</th>\n",
       "      <th>wiki_text</th>\n",
       "      <th>page_id</th>\n",
       "      <th>page_title</th>\n",
       "      <th>stem_label</th>\n",
       "      <th>prompt_answer</th>\n",
       "      <th>check</th>\n",
       "    </tr>\n",
       "  </thead>\n",
       "  <tbody>\n",
       "    <tr>\n",
       "      <th>0</th>\n",
       "      <td>0</td>\n",
       "      <td>What does the nullity of a graph in graph theo...</td>\n",
       "      <td>The number of vertices in the graph</td>\n",
       "      <td>The number of edges in the graph</td>\n",
       "      <td>The rank of the adjacency matrix</td>\n",
       "      <td>The multiplicity of the eigenvalue 0 in the sp...</td>\n",
       "      <td>The number of components of the graph</td>\n",
       "      <td>D</td>\n",
       "      <td>The nullity of a graph in the mathematical sub...</td>\n",
       "      <td>17458663</td>\n",
       "      <td>Nullity (graph theory)</td>\n",
       "      <td>M</td>\n",
       "      <td>What does the nullity of a graph in graph theo...</td>\n",
       "      <td>True</td>\n",
       "    </tr>\n",
       "    <tr>\n",
       "      <th>1</th>\n",
       "      <td>1</td>\n",
       "      <td>In the matrix theory of graphs, what is the nu...</td>\n",
       "      <td>n − r</td>\n",
       "      <td>m − n + c</td>\n",
       "      <td>n − c</td>\n",
       "      <td>The nullity of the graph</td>\n",
       "      <td>The number of components of the graph</td>\n",
       "      <td>A</td>\n",
       "      <td>The nullity of a graph in the mathematical sub...</td>\n",
       "      <td>17458663</td>\n",
       "      <td>Nullity (graph theory)</td>\n",
       "      <td>M</td>\n",
       "      <td>In the matrix theory of graphs, what is the nu...</td>\n",
       "      <td>True</td>\n",
       "    </tr>\n",
       "    <tr>\n",
       "      <th>2</th>\n",
       "      <td>2</td>\n",
       "      <td>Which term is more commonly used to refer to t...</td>\n",
       "      <td>Nullity of the adjacency matrix</td>\n",
       "      <td>Multiplicity of the eigenvalue 0</td>\n",
       "      <td>Cycle rank</td>\n",
       "      <td>Cyclomatic number</td>\n",
       "      <td>Circuit rank</td>\n",
       "      <td>C</td>\n",
       "      <td>The nullity of a graph in the mathematical sub...</td>\n",
       "      <td>17458663</td>\n",
       "      <td>Nullity (graph theory)</td>\n",
       "      <td>M</td>\n",
       "      <td>Which term is more commonly used to refer to t...</td>\n",
       "      <td>True</td>\n",
       "    </tr>\n",
       "    <tr>\n",
       "      <th>3</th>\n",
       "      <td>3</td>\n",
       "      <td>What is the formula for calculating the nullit...</td>\n",
       "      <td>n − r</td>\n",
       "      <td>m − n + c</td>\n",
       "      <td>n − c</td>\n",
       "      <td>The nullity of the graph</td>\n",
       "      <td>The number of components of the graph</td>\n",
       "      <td>B</td>\n",
       "      <td>The nullity of a graph in the mathematical sub...</td>\n",
       "      <td>17458663</td>\n",
       "      <td>Nullity (graph theory)</td>\n",
       "      <td>M</td>\n",
       "      <td>What is the formula for calculating the nullit...</td>\n",
       "      <td>True</td>\n",
       "    </tr>\n",
       "    <tr>\n",
       "      <th>4</th>\n",
       "      <td>4</td>\n",
       "      <td>What can the nullity of the graph represent in...</td>\n",
       "      <td>The number of vertices in the graph</td>\n",
       "      <td>The number of edges in the graph</td>\n",
       "      <td>The rank of the adjacency matrix</td>\n",
       "      <td>The number of components of the graph</td>\n",
       "      <td>The rank of the oriented incidence matrix</td>\n",
       "      <td>E</td>\n",
       "      <td>The nullity of a graph in the mathematical sub...</td>\n",
       "      <td>17458663</td>\n",
       "      <td>Nullity (graph theory)</td>\n",
       "      <td>M</td>\n",
       "      <td>What can the nullity of the graph represent in...</td>\n",
       "      <td>True</td>\n",
       "    </tr>\n",
       "  </tbody>\n",
       "</table>\n",
       "</div>"
      ],
      "text/plain": [
       "   id                                             prompt  \\\n",
       "0   0  What does the nullity of a graph in graph theo...   \n",
       "1   1  In the matrix theory of graphs, what is the nu...   \n",
       "2   2  Which term is more commonly used to refer to t...   \n",
       "3   3  What is the formula for calculating the nullit...   \n",
       "4   4  What can the nullity of the graph represent in...   \n",
       "\n",
       "                                     A                                 B  \\\n",
       "0  The number of vertices in the graph  The number of edges in the graph   \n",
       "1                                n − r                         m − n + c   \n",
       "2      Nullity of the adjacency matrix  Multiplicity of the eigenvalue 0   \n",
       "3                                n − r                         m − n + c   \n",
       "4  The number of vertices in the graph  The number of edges in the graph   \n",
       "\n",
       "                                  C  \\\n",
       "0  The rank of the adjacency matrix   \n",
       "1                             n − c   \n",
       "2                        Cycle rank   \n",
       "3                             n − c   \n",
       "4  The rank of the adjacency matrix   \n",
       "\n",
       "                                                   D  \\\n",
       "0  The multiplicity of the eigenvalue 0 in the sp...   \n",
       "1                           The nullity of the graph   \n",
       "2                                  Cyclomatic number   \n",
       "3                           The nullity of the graph   \n",
       "4              The number of components of the graph   \n",
       "\n",
       "                                           E answer  \\\n",
       "0      The number of components of the graph      D   \n",
       "1      The number of components of the graph      A   \n",
       "2                               Circuit rank      C   \n",
       "3      The number of components of the graph      B   \n",
       "4  The rank of the oriented incidence matrix      E   \n",
       "\n",
       "                                           wiki_text   page_id  \\\n",
       "0  The nullity of a graph in the mathematical sub...  17458663   \n",
       "1  The nullity of a graph in the mathematical sub...  17458663   \n",
       "2  The nullity of a graph in the mathematical sub...  17458663   \n",
       "3  The nullity of a graph in the mathematical sub...  17458663   \n",
       "4  The nullity of a graph in the mathematical sub...  17458663   \n",
       "\n",
       "               page_title stem_label  \\\n",
       "0  Nullity (graph theory)          M   \n",
       "1  Nullity (graph theory)          M   \n",
       "2  Nullity (graph theory)          M   \n",
       "3  Nullity (graph theory)          M   \n",
       "4  Nullity (graph theory)          M   \n",
       "\n",
       "                                       prompt_answer  check  \n",
       "0  What does the nullity of a graph in graph theo...   True  \n",
       "1  In the matrix theory of graphs, what is the nu...   True  \n",
       "2  Which term is more commonly used to refer to t...   True  \n",
       "3  What is the formula for calculating the nullit...   True  \n",
       "4  What can the nullity of the graph represent in...   True  "
      ]
     },
     "execution_count": 10,
     "metadata": {},
     "output_type": "execute_result"
    }
   ],
   "source": [
    "prompt.head()"
   ]
  },
  {
   "cell_type": "code",
   "execution_count": 11,
   "id": "343d13f3-21c1-48d2-bfa1-3ebcefe1bcec",
   "metadata": {
    "tags": []
   },
   "outputs": [],
   "source": [
    "d = {}\n",
    "for i in range(len(df)):\n",
    "    d[int(df.loc[i,'id'])] = i"
   ]
  },
  {
   "cell_type": "code",
   "execution_count": 12,
   "id": "09f658ee-d8c3-4029-b369-8f9759507fc9",
   "metadata": {
    "tags": []
   },
   "outputs": [
    {
     "name": "stderr",
     "output_type": "stream",
     "text": [
      "/root/conda_env/chr_env/lib/python3.8/site-packages/tqdm/auto.py:21: TqdmWarning: IProgress not found. Please update jupyter and ipywidgets. See https://ipywidgets.readthedocs.io/en/stable/user_install.html\n",
      "  from .autonotebook import tqdm as notebook_tqdm\n",
      "100%|██████████| 71421/71421 [00:04<00:00, 14478.58it/s]\n"
     ]
    }
   ],
   "source": [
    "wiki_text = []\n",
    "from tqdm.auto import tqdm\n",
    "for i in tqdm(range(len(prompt))):\n",
    "    page_id = int(prompt.loc[i,'page_id'])\n",
    "    idx = d[page_id]\n",
    "    row = df.loc[idx]\n",
    "    text = row['title'] + ' '.join(list(row['categories'])) + row['text']\n",
    "    wiki_text.append(text)"
   ]
  },
  {
   "cell_type": "code",
   "execution_count": 13,
   "id": "fee5b7bb-a981-4c81-b74e-dfb0cf04ff3a",
   "metadata": {
    "tags": []
   },
   "outputs": [],
   "source": [
    "prompt['wiki_text'] = wiki_text"
   ]
  },
  {
   "cell_type": "code",
   "execution_count": 14,
   "id": "f096a33e-d8d6-4fb0-9a9a-277fedc5471d",
   "metadata": {
    "tags": []
   },
   "outputs": [],
   "source": [
    "prompt = prompt[['prompt', 'A','B','C','D','E','answer','wiki_text','page_id','page_title','stem_label']]\n",
    "prompt['prompt_answer'] = prompt.apply(lambda x : x['prompt']+str(x['A'])+str(x['B'])+str(x['C'])+str(x['D'])+str(x['E']),axis=1)\n",
    "prompt['title_text'] = prompt['wiki_text']\n",
    "prompt = prompt[['prompt', 'A','B','C','D','E','answer','title_text','page_id','page_title','stem_label', 'prompt_answer']]"
   ]
  },
  {
   "cell_type": "code",
   "execution_count": 15,
   "id": "f1ec22eb-419d-4710-be36-23af206b4221",
   "metadata": {
    "tags": []
   },
   "outputs": [],
   "source": [
    "prompt = prompt.reset_index(drop=True)\n",
    "prompt.to_parquet('./data/recall_data.parquet')"
   ]
  },
  {
   "cell_type": "code",
   "execution_count": 16,
   "id": "706eb11a-767f-41ee-9369-2fc4b1b28e19",
   "metadata": {
    "tags": []
   },
   "outputs": [],
   "source": [
    "df = df[df['id'].map(lambda x : int(x) in s)]"
   ]
  },
  {
   "cell_type": "code",
   "execution_count": 17,
   "id": "c6ad0aa9-cb2f-46da-94ac-398cacef2183",
   "metadata": {
    "tags": []
   },
   "outputs": [
    {
     "data": {
      "text/plain": [
       "(13305, 5)"
      ]
     },
     "execution_count": 17,
     "metadata": {},
     "output_type": "execute_result"
    }
   ],
   "source": [
    "df.shape"
   ]
  },
  {
   "cell_type": "code",
   "execution_count": 18,
   "id": "2acd3153-7589-45ed-9f52-6bb7e8436998",
   "metadata": {
    "tags": []
   },
   "outputs": [],
   "source": [
    "df = df.reset_index(drop=True)"
   ]
  },
  {
   "cell_type": "code",
   "execution_count": 19,
   "id": "cfe4bf4f-7bcf-4661-aad9-2810bda7eb2d",
   "metadata": {
    "tags": []
   },
   "outputs": [],
   "source": [
    "df['title_text'] = df.apply(lambda x : x['title'] + ' '.join(x['categories']) + x['text'],axis=1)\n",
    "df['prompt_answer'] = 'A'"
   ]
  },
  {
   "cell_type": "code",
   "execution_count": 20,
   "id": "49ddbe6b-2dd5-44db-8824-7555adbc616a",
   "metadata": {
    "tags": []
   },
   "outputs": [],
   "source": [
    "df.to_parquet('./data/recall_wiki.parquet')"
   ]
  },
  {
   "cell_type": "code",
   "execution_count": 21,
   "id": "611d8012-e69d-4fb7-be19-f9e37cade805",
   "metadata": {
    "tags": []
   },
   "outputs": [
    {
     "data": {
      "text/html": [
       "<div>\n",
       "<style scoped>\n",
       "    .dataframe tbody tr th:only-of-type {\n",
       "        vertical-align: middle;\n",
       "    }\n",
       "\n",
       "    .dataframe tbody tr th {\n",
       "        vertical-align: top;\n",
       "    }\n",
       "\n",
       "    .dataframe thead th {\n",
       "        text-align: right;\n",
       "    }\n",
       "</style>\n",
       "<table border=\"1\" class=\"dataframe\">\n",
       "  <thead>\n",
       "    <tr style=\"text-align: right;\">\n",
       "      <th></th>\n",
       "      <th>prompt</th>\n",
       "      <th>A</th>\n",
       "      <th>B</th>\n",
       "      <th>C</th>\n",
       "      <th>D</th>\n",
       "      <th>E</th>\n",
       "      <th>answer</th>\n",
       "      <th>title_text</th>\n",
       "      <th>page_id</th>\n",
       "      <th>page_title</th>\n",
       "      <th>stem_label</th>\n",
       "      <th>prompt_answer</th>\n",
       "    </tr>\n",
       "  </thead>\n",
       "  <tbody>\n",
       "    <tr>\n",
       "      <th>0</th>\n",
       "      <td>What does the nullity of a graph in graph theo...</td>\n",
       "      <td>The number of vertices in the graph</td>\n",
       "      <td>The number of edges in the graph</td>\n",
       "      <td>The rank of the adjacency matrix</td>\n",
       "      <td>The multiplicity of the eigenvalue 0 in the sp...</td>\n",
       "      <td>The number of components of the graph</td>\n",
       "      <td>D</td>\n",
       "      <td>Nullity (graph theory)Graph theoryThe nullity ...</td>\n",
       "      <td>17458663</td>\n",
       "      <td>Nullity (graph theory)</td>\n",
       "      <td>M</td>\n",
       "      <td>What does the nullity of a graph in graph theo...</td>\n",
       "    </tr>\n",
       "    <tr>\n",
       "      <th>1</th>\n",
       "      <td>In the matrix theory of graphs, what is the nu...</td>\n",
       "      <td>n − r</td>\n",
       "      <td>m − n + c</td>\n",
       "      <td>n − c</td>\n",
       "      <td>The nullity of the graph</td>\n",
       "      <td>The number of components of the graph</td>\n",
       "      <td>A</td>\n",
       "      <td>Nullity (graph theory)Graph theoryThe nullity ...</td>\n",
       "      <td>17458663</td>\n",
       "      <td>Nullity (graph theory)</td>\n",
       "      <td>M</td>\n",
       "      <td>In the matrix theory of graphs, what is the nu...</td>\n",
       "    </tr>\n",
       "    <tr>\n",
       "      <th>2</th>\n",
       "      <td>Which term is more commonly used to refer to t...</td>\n",
       "      <td>Nullity of the adjacency matrix</td>\n",
       "      <td>Multiplicity of the eigenvalue 0</td>\n",
       "      <td>Cycle rank</td>\n",
       "      <td>Cyclomatic number</td>\n",
       "      <td>Circuit rank</td>\n",
       "      <td>C</td>\n",
       "      <td>Nullity (graph theory)Graph theoryThe nullity ...</td>\n",
       "      <td>17458663</td>\n",
       "      <td>Nullity (graph theory)</td>\n",
       "      <td>M</td>\n",
       "      <td>Which term is more commonly used to refer to t...</td>\n",
       "    </tr>\n",
       "    <tr>\n",
       "      <th>3</th>\n",
       "      <td>What is the formula for calculating the nullit...</td>\n",
       "      <td>n − r</td>\n",
       "      <td>m − n + c</td>\n",
       "      <td>n − c</td>\n",
       "      <td>The nullity of the graph</td>\n",
       "      <td>The number of components of the graph</td>\n",
       "      <td>B</td>\n",
       "      <td>Nullity (graph theory)Graph theoryThe nullity ...</td>\n",
       "      <td>17458663</td>\n",
       "      <td>Nullity (graph theory)</td>\n",
       "      <td>M</td>\n",
       "      <td>What is the formula for calculating the nullit...</td>\n",
       "    </tr>\n",
       "    <tr>\n",
       "      <th>4</th>\n",
       "      <td>What can the nullity of the graph represent in...</td>\n",
       "      <td>The number of vertices in the graph</td>\n",
       "      <td>The number of edges in the graph</td>\n",
       "      <td>The rank of the adjacency matrix</td>\n",
       "      <td>The number of components of the graph</td>\n",
       "      <td>The rank of the oriented incidence matrix</td>\n",
       "      <td>E</td>\n",
       "      <td>Nullity (graph theory)Graph theoryThe nullity ...</td>\n",
       "      <td>17458663</td>\n",
       "      <td>Nullity (graph theory)</td>\n",
       "      <td>M</td>\n",
       "      <td>What can the nullity of the graph represent in...</td>\n",
       "    </tr>\n",
       "  </tbody>\n",
       "</table>\n",
       "</div>"
      ],
      "text/plain": [
       "                                              prompt  \\\n",
       "0  What does the nullity of a graph in graph theo...   \n",
       "1  In the matrix theory of graphs, what is the nu...   \n",
       "2  Which term is more commonly used to refer to t...   \n",
       "3  What is the formula for calculating the nullit...   \n",
       "4  What can the nullity of the graph represent in...   \n",
       "\n",
       "                                     A                                 B  \\\n",
       "0  The number of vertices in the graph  The number of edges in the graph   \n",
       "1                                n − r                         m − n + c   \n",
       "2      Nullity of the adjacency matrix  Multiplicity of the eigenvalue 0   \n",
       "3                                n − r                         m − n + c   \n",
       "4  The number of vertices in the graph  The number of edges in the graph   \n",
       "\n",
       "                                  C  \\\n",
       "0  The rank of the adjacency matrix   \n",
       "1                             n − c   \n",
       "2                        Cycle rank   \n",
       "3                             n − c   \n",
       "4  The rank of the adjacency matrix   \n",
       "\n",
       "                                                   D  \\\n",
       "0  The multiplicity of the eigenvalue 0 in the sp...   \n",
       "1                           The nullity of the graph   \n",
       "2                                  Cyclomatic number   \n",
       "3                           The nullity of the graph   \n",
       "4              The number of components of the graph   \n",
       "\n",
       "                                           E answer  \\\n",
       "0      The number of components of the graph      D   \n",
       "1      The number of components of the graph      A   \n",
       "2                               Circuit rank      C   \n",
       "3      The number of components of the graph      B   \n",
       "4  The rank of the oriented incidence matrix      E   \n",
       "\n",
       "                                          title_text   page_id  \\\n",
       "0  Nullity (graph theory)Graph theoryThe nullity ...  17458663   \n",
       "1  Nullity (graph theory)Graph theoryThe nullity ...  17458663   \n",
       "2  Nullity (graph theory)Graph theoryThe nullity ...  17458663   \n",
       "3  Nullity (graph theory)Graph theoryThe nullity ...  17458663   \n",
       "4  Nullity (graph theory)Graph theoryThe nullity ...  17458663   \n",
       "\n",
       "               page_title stem_label  \\\n",
       "0  Nullity (graph theory)          M   \n",
       "1  Nullity (graph theory)          M   \n",
       "2  Nullity (graph theory)          M   \n",
       "3  Nullity (graph theory)          M   \n",
       "4  Nullity (graph theory)          M   \n",
       "\n",
       "                                       prompt_answer  \n",
       "0  What does the nullity of a graph in graph theo...  \n",
       "1  In the matrix theory of graphs, what is the nu...  \n",
       "2  Which term is more commonly used to refer to t...  \n",
       "3  What is the formula for calculating the nullit...  \n",
       "4  What can the nullity of the graph represent in...  "
      ]
     },
     "execution_count": 21,
     "metadata": {},
     "output_type": "execute_result"
    }
   ],
   "source": [
    "prompt.head()"
   ]
  },
  {
   "cell_type": "code",
   "execution_count": 22,
   "id": "726455d5-870e-4235-81db-44ce57c523d1",
   "metadata": {
    "tags": []
   },
   "outputs": [
    {
     "data": {
      "text/html": [
       "<div>\n",
       "<style scoped>\n",
       "    .dataframe tbody tr th:only-of-type {\n",
       "        vertical-align: middle;\n",
       "    }\n",
       "\n",
       "    .dataframe tbody tr th {\n",
       "        vertical-align: top;\n",
       "    }\n",
       "\n",
       "    .dataframe thead th {\n",
       "        text-align: right;\n",
       "    }\n",
       "</style>\n",
       "<table border=\"1\" class=\"dataframe\">\n",
       "  <thead>\n",
       "    <tr style=\"text-align: right;\">\n",
       "      <th></th>\n",
       "      <th>id</th>\n",
       "      <th>title</th>\n",
       "      <th>text</th>\n",
       "      <th>categories</th>\n",
       "      <th>file</th>\n",
       "      <th>title_text</th>\n",
       "      <th>prompt_answer</th>\n",
       "    </tr>\n",
       "  </thead>\n",
       "  <tbody>\n",
       "    <tr>\n",
       "      <th>0</th>\n",
       "      <td>60121915</td>\n",
       "      <td>A Brief History of Everyone Who Ever Lived</td>\n",
       "      <td>thumb|right|220px|First US edition cover showi...</td>\n",
       "      <td>[2016 non-fiction books, Genetics books, Popul...</td>\n",
       "      <td>a.parquet</td>\n",
       "      <td>A Brief History of Everyone Who Ever Lived2016...</td>\n",
       "      <td>A</td>\n",
       "    </tr>\n",
       "    <tr>\n",
       "      <th>1</th>\n",
       "      <td>38279</td>\n",
       "      <td>A Commentary on the UNIX Operating System</td>\n",
       "      <td>A Commentary on the UNIX Operating System by J...</td>\n",
       "      <td>[1976 non-fiction books, Unix books, Computer ...</td>\n",
       "      <td>a.parquet</td>\n",
       "      <td>A Commentary on the UNIX Operating System1976 ...</td>\n",
       "      <td>A</td>\n",
       "    </tr>\n",
       "    <tr>\n",
       "      <th>2</th>\n",
       "      <td>693370</td>\n",
       "      <td>A Cyborg Manifesto</td>\n",
       "      <td>\"A Cyborg Manifesto\" is an essay written by Do...</td>\n",
       "      <td>[1985 essays, Criticism of feminism, Gender st...</td>\n",
       "      <td>a.parquet</td>\n",
       "      <td>A Cyborg Manifesto1985 essays Criticism of fem...</td>\n",
       "      <td>A</td>\n",
       "    </tr>\n",
       "    <tr>\n",
       "      <th>3</th>\n",
       "      <td>42029817</td>\n",
       "      <td>A Death of Honor</td>\n",
       "      <td>A Death of Honor is a science fiction mystery ...</td>\n",
       "      <td>[1987 American novels, 1987 science fiction no...</td>\n",
       "      <td>a.parquet</td>\n",
       "      <td>A Death of Honor1987 American novels 1987 scie...</td>\n",
       "      <td>A</td>\n",
       "    </tr>\n",
       "    <tr>\n",
       "      <th>4</th>\n",
       "      <td>181880</td>\n",
       "      <td>A Devil's Chaplain</td>\n",
       "      <td>A Devil's Chaplain: Reflections on Hope, Lies,...</td>\n",
       "      <td>[2003 non- fiction books, Books by Richard Daw...</td>\n",
       "      <td>a.parquet</td>\n",
       "      <td>A Devil's Chaplain2003 non- fiction books Book...</td>\n",
       "      <td>A</td>\n",
       "    </tr>\n",
       "  </tbody>\n",
       "</table>\n",
       "</div>"
      ],
      "text/plain": [
       "         id                                       title  \\\n",
       "0  60121915  A Brief History of Everyone Who Ever Lived   \n",
       "1     38279   A Commentary on the UNIX Operating System   \n",
       "2    693370                          A Cyborg Manifesto   \n",
       "3  42029817                            A Death of Honor   \n",
       "4    181880                          A Devil's Chaplain   \n",
       "\n",
       "                                                text  \\\n",
       "0  thumb|right|220px|First US edition cover showi...   \n",
       "1  A Commentary on the UNIX Operating System by J...   \n",
       "2  \"A Cyborg Manifesto\" is an essay written by Do...   \n",
       "3  A Death of Honor is a science fiction mystery ...   \n",
       "4  A Devil's Chaplain: Reflections on Hope, Lies,...   \n",
       "\n",
       "                                          categories       file  \\\n",
       "0  [2016 non-fiction books, Genetics books, Popul...  a.parquet   \n",
       "1  [1976 non-fiction books, Unix books, Computer ...  a.parquet   \n",
       "2  [1985 essays, Criticism of feminism, Gender st...  a.parquet   \n",
       "3  [1987 American novels, 1987 science fiction no...  a.parquet   \n",
       "4  [2003 non- fiction books, Books by Richard Daw...  a.parquet   \n",
       "\n",
       "                                          title_text prompt_answer  \n",
       "0  A Brief History of Everyone Who Ever Lived2016...             A  \n",
       "1  A Commentary on the UNIX Operating System1976 ...             A  \n",
       "2  A Cyborg Manifesto1985 essays Criticism of fem...             A  \n",
       "3  A Death of Honor1987 American novels 1987 scie...             A  \n",
       "4  A Devil's Chaplain2003 non- fiction books Book...             A  "
      ]
     },
     "execution_count": 22,
     "metadata": {},
     "output_type": "execute_result"
    }
   ],
   "source": [
    "df.head()"
   ]
  },
  {
   "cell_type": "code",
   "execution_count": 2,
   "id": "88ff15c2-5228-49da-a558-6047485f69eb",
   "metadata": {},
   "outputs": [],
   "source": [
    "import pandas as pd\n",
    "data = pd.read_csv('./data/crawl_new_dataset_v2.csv')"
   ]
  },
  {
   "cell_type": "code",
   "execution_count": 5,
   "id": "a5edf63d-1aff-4adc-93d2-4b15d3aec881",
   "metadata": {
    "tags": []
   },
   "outputs": [],
   "source": [
    "data['prompt_answer'] = data.apply(lambda row: ' '.join(str(row[field]) for field in ['prompt', 'A', 'B', 'C', 'D', 'E']), axis=1)\n",
    "data = data.drop_duplicates(subset='prompt_answer').reset_index(drop=True)"
   ]
  },
  {
   "cell_type": "code",
   "execution_count": 7,
   "id": "1da7acd7-4beb-4b52-b1be-eddb8f3e5af3",
   "metadata": {
    "tags": []
   },
   "outputs": [],
   "source": [
    "data.to_csv('./data/7w8_crawl_dataset.csv')"
   ]
  },
  {
   "cell_type": "code",
   "execution_count": 1,
   "id": "52f4e16c-614b-473c-8e76-90c786b35eb6",
   "metadata": {},
   "outputs": [],
   "source": [
    "import pandas as pd\n",
    "data = pd.read_parquet('./data/recall_data.parquet')"
   ]
  },
  {
   "cell_type": "code",
   "execution_count": 2,
   "id": "05f88726-c67b-4788-af0a-eab843c55f25",
   "metadata": {
    "tags": []
   },
   "outputs": [
    {
     "data": {
      "text/html": [
       "<div>\n",
       "<style scoped>\n",
       "    .dataframe tbody tr th:only-of-type {\n",
       "        vertical-align: middle;\n",
       "    }\n",
       "\n",
       "    .dataframe tbody tr th {\n",
       "        vertical-align: top;\n",
       "    }\n",
       "\n",
       "    .dataframe thead th {\n",
       "        text-align: right;\n",
       "    }\n",
       "</style>\n",
       "<table border=\"1\" class=\"dataframe\">\n",
       "  <thead>\n",
       "    <tr style=\"text-align: right;\">\n",
       "      <th></th>\n",
       "      <th>prompt</th>\n",
       "      <th>A</th>\n",
       "      <th>B</th>\n",
       "      <th>C</th>\n",
       "      <th>D</th>\n",
       "      <th>E</th>\n",
       "      <th>answer</th>\n",
       "      <th>title_text</th>\n",
       "      <th>page_id</th>\n",
       "      <th>page_title</th>\n",
       "      <th>stem_label</th>\n",
       "      <th>prompt_answer</th>\n",
       "    </tr>\n",
       "  </thead>\n",
       "  <tbody>\n",
       "    <tr>\n",
       "      <th>0</th>\n",
       "      <td>What does the nullity of a graph in graph theo...</td>\n",
       "      <td>The number of vertices in the graph</td>\n",
       "      <td>The number of edges in the graph</td>\n",
       "      <td>The rank of the adjacency matrix</td>\n",
       "      <td>The multiplicity of the eigenvalue 0 in the sp...</td>\n",
       "      <td>The number of components of the graph</td>\n",
       "      <td>D</td>\n",
       "      <td>Nullity (graph theory)Graph theoryThe nullity ...</td>\n",
       "      <td>17458663</td>\n",
       "      <td>Nullity (graph theory)</td>\n",
       "      <td>M</td>\n",
       "      <td>What does the nullity of a graph in graph theo...</td>\n",
       "    </tr>\n",
       "    <tr>\n",
       "      <th>1</th>\n",
       "      <td>In the matrix theory of graphs, what is the nu...</td>\n",
       "      <td>n − r</td>\n",
       "      <td>m − n + c</td>\n",
       "      <td>n − c</td>\n",
       "      <td>The nullity of the graph</td>\n",
       "      <td>The number of components of the graph</td>\n",
       "      <td>A</td>\n",
       "      <td>Nullity (graph theory)Graph theoryThe nullity ...</td>\n",
       "      <td>17458663</td>\n",
       "      <td>Nullity (graph theory)</td>\n",
       "      <td>M</td>\n",
       "      <td>In the matrix theory of graphs, what is the nu...</td>\n",
       "    </tr>\n",
       "    <tr>\n",
       "      <th>2</th>\n",
       "      <td>Which term is more commonly used to refer to t...</td>\n",
       "      <td>Nullity of the adjacency matrix</td>\n",
       "      <td>Multiplicity of the eigenvalue 0</td>\n",
       "      <td>Cycle rank</td>\n",
       "      <td>Cyclomatic number</td>\n",
       "      <td>Circuit rank</td>\n",
       "      <td>C</td>\n",
       "      <td>Nullity (graph theory)Graph theoryThe nullity ...</td>\n",
       "      <td>17458663</td>\n",
       "      <td>Nullity (graph theory)</td>\n",
       "      <td>M</td>\n",
       "      <td>Which term is more commonly used to refer to t...</td>\n",
       "    </tr>\n",
       "    <tr>\n",
       "      <th>3</th>\n",
       "      <td>What is the formula for calculating the nullit...</td>\n",
       "      <td>n − r</td>\n",
       "      <td>m − n + c</td>\n",
       "      <td>n − c</td>\n",
       "      <td>The nullity of the graph</td>\n",
       "      <td>The number of components of the graph</td>\n",
       "      <td>B</td>\n",
       "      <td>Nullity (graph theory)Graph theoryThe nullity ...</td>\n",
       "      <td>17458663</td>\n",
       "      <td>Nullity (graph theory)</td>\n",
       "      <td>M</td>\n",
       "      <td>What is the formula for calculating the nullit...</td>\n",
       "    </tr>\n",
       "    <tr>\n",
       "      <th>4</th>\n",
       "      <td>What can the nullity of the graph represent in...</td>\n",
       "      <td>The number of vertices in the graph</td>\n",
       "      <td>The number of edges in the graph</td>\n",
       "      <td>The rank of the adjacency matrix</td>\n",
       "      <td>The number of components of the graph</td>\n",
       "      <td>The rank of the oriented incidence matrix</td>\n",
       "      <td>E</td>\n",
       "      <td>Nullity (graph theory)Graph theoryThe nullity ...</td>\n",
       "      <td>17458663</td>\n",
       "      <td>Nullity (graph theory)</td>\n",
       "      <td>M</td>\n",
       "      <td>What can the nullity of the graph represent in...</td>\n",
       "    </tr>\n",
       "  </tbody>\n",
       "</table>\n",
       "</div>"
      ],
      "text/plain": [
       "                                              prompt  \\\n",
       "0  What does the nullity of a graph in graph theo...   \n",
       "1  In the matrix theory of graphs, what is the nu...   \n",
       "2  Which term is more commonly used to refer to t...   \n",
       "3  What is the formula for calculating the nullit...   \n",
       "4  What can the nullity of the graph represent in...   \n",
       "\n",
       "                                     A                                 B  \\\n",
       "0  The number of vertices in the graph  The number of edges in the graph   \n",
       "1                                n − r                         m − n + c   \n",
       "2      Nullity of the adjacency matrix  Multiplicity of the eigenvalue 0   \n",
       "3                                n − r                         m − n + c   \n",
       "4  The number of vertices in the graph  The number of edges in the graph   \n",
       "\n",
       "                                  C  \\\n",
       "0  The rank of the adjacency matrix   \n",
       "1                             n − c   \n",
       "2                        Cycle rank   \n",
       "3                             n − c   \n",
       "4  The rank of the adjacency matrix   \n",
       "\n",
       "                                                   D  \\\n",
       "0  The multiplicity of the eigenvalue 0 in the sp...   \n",
       "1                           The nullity of the graph   \n",
       "2                                  Cyclomatic number   \n",
       "3                           The nullity of the graph   \n",
       "4              The number of components of the graph   \n",
       "\n",
       "                                           E answer  \\\n",
       "0      The number of components of the graph      D   \n",
       "1      The number of components of the graph      A   \n",
       "2                               Circuit rank      C   \n",
       "3      The number of components of the graph      B   \n",
       "4  The rank of the oriented incidence matrix      E   \n",
       "\n",
       "                                          title_text   page_id  \\\n",
       "0  Nullity (graph theory)Graph theoryThe nullity ...  17458663   \n",
       "1  Nullity (graph theory)Graph theoryThe nullity ...  17458663   \n",
       "2  Nullity (graph theory)Graph theoryThe nullity ...  17458663   \n",
       "3  Nullity (graph theory)Graph theoryThe nullity ...  17458663   \n",
       "4  Nullity (graph theory)Graph theoryThe nullity ...  17458663   \n",
       "\n",
       "               page_title stem_label  \\\n",
       "0  Nullity (graph theory)          M   \n",
       "1  Nullity (graph theory)          M   \n",
       "2  Nullity (graph theory)          M   \n",
       "3  Nullity (graph theory)          M   \n",
       "4  Nullity (graph theory)          M   \n",
       "\n",
       "                                       prompt_answer  \n",
       "0  What does the nullity of a graph in graph theo...  \n",
       "1  In the matrix theory of graphs, what is the nu...  \n",
       "2  Which term is more commonly used to refer to t...  \n",
       "3  What is the formula for calculating the nullit...  \n",
       "4  What can the nullity of the graph represent in...  "
      ]
     },
     "execution_count": 2,
     "metadata": {},
     "output_type": "execute_result"
    }
   ],
   "source": [
    "data.head()"
   ]
  },
  {
   "cell_type": "code",
   "execution_count": 1,
   "id": "6389b251-313c-4b78-9376-bdc2ae348b8e",
   "metadata": {},
   "outputs": [],
   "source": [
    "import pickle as pkl\n",
    "import pandas as pd\n",
    "with open('./tmp/2w_Top1000_blendrecall.pkl', 'rb') as f:\n",
    "    trn = pkl.load(f)"
   ]
  },
  {
   "cell_type": "code",
   "execution_count": 2,
   "id": "f747276a-679d-4404-8e25-4f4456aea701",
   "metadata": {},
   "outputs": [
    {
     "data": {
      "text/plain": [
       "(20000, 9)"
      ]
     },
     "execution_count": 2,
     "metadata": {},
     "output_type": "execute_result"
    }
   ],
   "source": [
    "trn.shape"
   ]
  },
  {
   "cell_type": "code",
   "execution_count": 3,
   "id": "45490bd4-e664-453f-a0dd-94a2e288c8d2",
   "metadata": {
    "tags": []
   },
   "outputs": [
    {
     "data": {
      "text/html": [
       "<div>\n",
       "<style scoped>\n",
       "    .dataframe tbody tr th:only-of-type {\n",
       "        vertical-align: middle;\n",
       "    }\n",
       "\n",
       "    .dataframe tbody tr th {\n",
       "        vertical-align: top;\n",
       "    }\n",
       "\n",
       "    .dataframe thead th {\n",
       "        text-align: right;\n",
       "    }\n",
       "</style>\n",
       "<table border=\"1\" class=\"dataframe\">\n",
       "  <thead>\n",
       "    <tr style=\"text-align: right;\">\n",
       "      <th></th>\n",
       "      <th>prompt</th>\n",
       "      <th>answer</th>\n",
       "      <th>A</th>\n",
       "      <th>B</th>\n",
       "      <th>C</th>\n",
       "      <th>D</th>\n",
       "      <th>E</th>\n",
       "      <th>Top1000</th>\n",
       "      <th>page_id</th>\n",
       "    </tr>\n",
       "  </thead>\n",
       "  <tbody>\n",
       "    <tr>\n",
       "      <th>0</th>\n",
       "      <td>Which group has all finite-dimensional represe...</td>\n",
       "      <td>B</td>\n",
       "      <td>Orthogonal group</td>\n",
       "      <td>Symplectic group</td>\n",
       "      <td>Metaplectic group</td>\n",
       "      <td>General linear group</td>\n",
       "      <td>Matrix group</td>\n",
       "      <td>[5559307, 5479823, 4826133, 3144159, 2383867, ...</td>\n",
       "      <td>55631153</td>\n",
       "    </tr>\n",
       "    <tr>\n",
       "      <th>1</th>\n",
       "      <td>How are has-a relationships represented in dat...</td>\n",
       "      <td>A</td>\n",
       "      <td>In an Entity–relationship model</td>\n",
       "      <td>As part of a taxonomic hierarchy</td>\n",
       "      <td>As a containment relation</td>\n",
       "      <td>As a part-of relationship</td>\n",
       "      <td>As an instance-of relationship</td>\n",
       "      <td>[2116563, 3330145, 4313840, 4313841, 1558556, ...</td>\n",
       "      <td>266684</td>\n",
       "    </tr>\n",
       "    <tr>\n",
       "      <th>2</th>\n",
       "      <td>Which bacteria are responsible for the formati...</td>\n",
       "      <td>B</td>\n",
       "      <td>Lactococci</td>\n",
       "      <td>Propionibacteria</td>\n",
       "      <td>Citrate-positive bacteria</td>\n",
       "      <td>Polychroniadou bacteria</td>\n",
       "      <td>Shermanii bacteria</td>\n",
       "      <td>[5471687, 1638896, 1044691, 943419, 3103230, 3...</td>\n",
       "      <td>29202398</td>\n",
       "    </tr>\n",
       "    <tr>\n",
       "      <th>3</th>\n",
       "      <td>Which institutions are involved as consultants...</td>\n",
       "      <td>C</td>\n",
       "      <td>University of the Philippines Diliman and Depa...</td>\n",
       "      <td>Metals Industry Research and Development Cente...</td>\n",
       "      <td>UP National Center for Transportation Studies,...</td>\n",
       "      <td>Philippine Council for Industry, Energy and Em...</td>\n",
       "      <td>Department of Science and Technology (DOST) an...</td>\n",
       "      <td>[426131, 5864693, 593131, 95975, 100793, 36425...</td>\n",
       "      <td>58841118</td>\n",
       "    </tr>\n",
       "    <tr>\n",
       "      <th>4</th>\n",
       "      <td>What does the birth of a hidden oscillation in...</td>\n",
       "      <td>C</td>\n",
       "      <td>The system has reached a stable equilibrium</td>\n",
       "      <td>The system has reached an unstable equilibrium</td>\n",
       "      <td>The system has crossed a boundary in the param...</td>\n",
       "      <td>The system has reached a limit cycle</td>\n",
       "      <td>The system has reached a hidden attractor</td>\n",
       "      <td>[2187903, 3029157, 5263036, 4546168, 3112510, ...</td>\n",
       "      <td>33194970</td>\n",
       "    </tr>\n",
       "  </tbody>\n",
       "</table>\n",
       "</div>"
      ],
      "text/plain": [
       "                                              prompt answer  \\\n",
       "0  Which group has all finite-dimensional represe...      B   \n",
       "1  How are has-a relationships represented in dat...      A   \n",
       "2  Which bacteria are responsible for the formati...      B   \n",
       "3  Which institutions are involved as consultants...      C   \n",
       "4  What does the birth of a hidden oscillation in...      C   \n",
       "\n",
       "                                                   A  \\\n",
       "0                                   Orthogonal group   \n",
       "1                    In an Entity–relationship model   \n",
       "2                                         Lactococci   \n",
       "3  University of the Philippines Diliman and Depa...   \n",
       "4        The system has reached a stable equilibrium   \n",
       "\n",
       "                                                   B  \\\n",
       "0                                   Symplectic group   \n",
       "1                   As part of a taxonomic hierarchy   \n",
       "2                                   Propionibacteria   \n",
       "3  Metals Industry Research and Development Cente...   \n",
       "4     The system has reached an unstable equilibrium   \n",
       "\n",
       "                                                   C  \\\n",
       "0                                  Metaplectic group   \n",
       "1                          As a containment relation   \n",
       "2                          Citrate-positive bacteria   \n",
       "3  UP National Center for Transportation Studies,...   \n",
       "4  The system has crossed a boundary in the param...   \n",
       "\n",
       "                                                   D  \\\n",
       "0                               General linear group   \n",
       "1                          As a part-of relationship   \n",
       "2                            Polychroniadou bacteria   \n",
       "3  Philippine Council for Industry, Energy and Em...   \n",
       "4               The system has reached a limit cycle   \n",
       "\n",
       "                                                   E  \\\n",
       "0                                       Matrix group   \n",
       "1                     As an instance-of relationship   \n",
       "2                                 Shermanii bacteria   \n",
       "3  Department of Science and Technology (DOST) an...   \n",
       "4          The system has reached a hidden attractor   \n",
       "\n",
       "                                             Top1000   page_id  \n",
       "0  [5559307, 5479823, 4826133, 3144159, 2383867, ...  55631153  \n",
       "1  [2116563, 3330145, 4313840, 4313841, 1558556, ...    266684  \n",
       "2  [5471687, 1638896, 1044691, 943419, 3103230, 3...  29202398  \n",
       "3  [426131, 5864693, 593131, 95975, 100793, 36425...  58841118  \n",
       "4  [2187903, 3029157, 5263036, 4546168, 3112510, ...  33194970  "
      ]
     },
     "execution_count": 3,
     "metadata": {},
     "output_type": "execute_result"
    }
   ],
   "source": [
    "trn.head()"
   ]
  },
  {
   "cell_type": "code",
   "execution_count": 2,
   "id": "5c55159b-66fc-4a2d-8b8e-b7a5e96598c3",
   "metadata": {},
   "outputs": [
    {
     "data": {
      "text/plain": [
       "count    78008.000000\n",
       "mean      1485.712812\n",
       "std        607.853134\n",
       "min        184.000000\n",
       "25%       1082.000000\n",
       "50%       1356.000000\n",
       "75%       1737.000000\n",
       "max       5472.000000\n",
       "Name: len, dtype: float64"
      ]
     },
     "execution_count": 2,
     "metadata": {},
     "output_type": "execute_result"
    }
   ],
   "source": [
    "import pandas as pd\n",
    "prompt = pd.read_csv('./data/7w8_crawl_dataset.csv')\n",
    "prompt['len'] = prompt['wiki_text'].apply(lambda x : len(x))\n",
    "prompt['len'].describe()"
   ]
  },
  {
   "cell_type": "code",
   "execution_count": 1,
   "id": "ee47773a-319a-407a-852a-a201fc8287ad",
   "metadata": {},
   "outputs": [
    {
     "name": "stderr",
     "output_type": "stream",
     "text": [
      "/root/panpingjun/Anaconda/chatglm_ppj/lib/python3.8/site-packages/tqdm/auto.py:21: TqdmWarning: IProgress not found. Please update jupyter and ipywidgets. See https://ipywidgets.readthedocs.io/en/stable/user_install.html\n",
      "  from .autonotebook import tqdm as notebook_tqdm\n"
     ]
    },
    {
     "name": "stdout",
     "output_type": "stream",
     "text": [
      "[2023-10-05 23:13:58,269] [INFO] [real_accelerator.py:133:get_accelerator] Setting ds_accelerator to cuda (auto detect)\n"
     ]
    }
   ],
   "source": [
    "from __future__ import annotations\n",
    "import os\n",
    "import gc\n",
    "import pandas as pd\n",
    "import numpy as np\n",
    "import re\n",
    "from tqdm.auto import tqdm\n",
    "import blingfire as bf\n",
    "\n",
    "from collections.abc import Iterable\n",
    "\n",
    "import faiss\n",
    "from faiss import write_index, read_index\n",
    "\n",
    "from sentence_transformers import SentenceTransformer\n",
    "from torch.cuda.amp import autocast\n",
    "import torch\n",
    "import ctypes\n",
    "libc = ctypes.CDLL(\"libc.so.6\")\n",
    "\n",
    "from dataclasses import dataclass\n",
    "from typing import Optional, Union\n",
    "\n",
    "import torch\n",
    "import numpy as np\n",
    "import pandas as pd\n",
    "from datasets import Dataset\n",
    "from transformers import AutoTokenizer\n",
    "from transformers import AutoModelForMultipleChoice, TrainingArguments, Trainer\n",
    "from transformers.tokenization_utils_base import PreTrainedTokenizerBase, PaddingStrategy\n",
    "from torch.utils.data import DataLoader"
   ]
  },
  {
   "cell_type": "code",
   "execution_count": 2,
   "id": "3b37def7-443e-4e6c-8f05-c632b8330d3a",
   "metadata": {},
   "outputs": [],
   "source": [
    "def process_documents(documents: Iterable[str],\n",
    "                      document_ids: Iterable,\n",
    "                      split_sentences: bool = True,\n",
    "                      filter_len: int = 3,\n",
    "                      disable_progress_bar: bool = False) -> pd.DataFrame:\n",
    "    \"\"\"\n",
    "    Main helper function to process documents from the EMR.\n",
    "\n",
    "    :param documents: Iterable containing documents which are strings\n",
    "    :param document_ids: Iterable containing document unique identifiers\n",
    "    :param document_type: String denoting the document type to be processed\n",
    "    :param document_sections: List of sections for a given document type to process\n",
    "    :param split_sentences: Flag to determine whether to further split sections into sentences\n",
    "    :param filter_len: Minimum character length of a sentence (otherwise filter out)\n",
    "    :param disable_progress_bar: Flag to disable tqdm progress bar\n",
    "    :return: Pandas DataFrame containing the columns `document_id`, `text`, `section`, `offset`\n",
    "    \"\"\"\n",
    "    \n",
    "    df = sectionize_documents(documents, document_ids, disable_progress_bar)\n",
    "\n",
    "    if split_sentences:\n",
    "        df = sentencize(df.text.values, \n",
    "                        df.document_id.values,\n",
    "                        df.offset.values, \n",
    "                        filter_len, \n",
    "                        disable_progress_bar)\n",
    "    return df\n",
    "\n",
    "\n",
    "def sectionize_documents(documents: Iterable[str],\n",
    "                         document_ids: Iterable,\n",
    "                         disable_progress_bar: bool = False) -> pd.DataFrame:\n",
    "    \"\"\"\n",
    "    Obtains the sections of the imaging reports and returns only the \n",
    "    selected sections (defaults to FINDINGS, IMPRESSION, and ADDENDUM).\n",
    "\n",
    "    :param documents: Iterable containing documents which are strings\n",
    "    :param document_ids: Iterable containing document unique identifiers\n",
    "    :param disable_progress_bar: Flag to disable tqdm progress bar\n",
    "    :return: Pandas DataFrame containing the columns `document_id`, `text`, `offset`\n",
    "    \"\"\"\n",
    "    processed_documents = []\n",
    "    for document_id, document in tqdm(zip(document_ids, documents), total=len(documents), disable=disable_progress_bar):\n",
    "        row = {}\n",
    "        text, start, end = (document, 0, len(document))\n",
    "        row['document_id'] = document_id\n",
    "        row['text'] = text\n",
    "        row['offset'] = (start, end)\n",
    "\n",
    "        processed_documents.append(row)\n",
    "\n",
    "    _df = pd.DataFrame(processed_documents)\n",
    "    if _df.shape[0] > 0:\n",
    "        return _df.sort_values(['document_id', 'offset']).reset_index(drop=True)\n",
    "    else:\n",
    "        return _df\n",
    "\n",
    "\n",
    "def sentencize(documents: Iterable[str],\n",
    "               document_ids: Iterable,\n",
    "               offsets: Iterable[tuple[int, int]],\n",
    "               filter_len: int = 3,\n",
    "               disable_progress_bar: bool = False) -> pd.DataFrame:\n",
    "    \"\"\"\n",
    "    Split a document into sentences. Can be used with `sectionize_documents`\n",
    "    to further split documents into more manageable pieces. Takes in offsets\n",
    "    to ensure that after splitting, the sentences can be matched to the\n",
    "    location in the original documents.\n",
    "\n",
    "    :param documents: Iterable containing documents which are strings\n",
    "    :param document_ids: Iterable containing document unique identifiers\n",
    "    :param offsets: Iterable tuple of the start and end indices\n",
    "    :param filter_len: Minimum character length of a sentence (otherwise filter out)\n",
    "    :return: Pandas DataFrame containing the columns `document_id`, `text`, `section`, `offset`\n",
    "    \"\"\"\n",
    "\n",
    "    document_sentences = []\n",
    "    for document, document_id, offset in tqdm(zip(documents, document_ids, offsets), total=len(documents), disable=disable_progress_bar):\n",
    "        try:\n",
    "            _, sentence_offsets = bf.text_to_sentences_and_offsets(document)\n",
    "            for o in sentence_offsets:\n",
    "                if o[1]-o[0] > filter_len:\n",
    "                    sentence = document[o[0]:o[1]]\n",
    "                    abs_offsets = (o[0]+offset[0], o[1]+offset[0])\n",
    "                    row = {}\n",
    "                    row['document_id'] = document_id\n",
    "                    row['text'] = sentence\n",
    "                    row['offset'] = abs_offsets\n",
    "                    document_sentences.append(row)\n",
    "        except:\n",
    "            continue\n",
    "    return pd.DataFrame(document_sentences)"
   ]
  },
  {
   "cell_type": "code",
   "execution_count": 3,
   "id": "f10e4484-22fd-4be0-ae5b-c667d8dafc98",
   "metadata": {
    "tags": []
   },
   "outputs": [
    {
     "data": {
      "text/html": [
       "<div>\n",
       "<style scoped>\n",
       "    .dataframe tbody tr th:only-of-type {\n",
       "        vertical-align: middle;\n",
       "    }\n",
       "\n",
       "    .dataframe tbody tr th {\n",
       "        vertical-align: top;\n",
       "    }\n",
       "\n",
       "    .dataframe thead th {\n",
       "        text-align: right;\n",
       "    }\n",
       "</style>\n",
       "<table border=\"1\" class=\"dataframe\">\n",
       "  <thead>\n",
       "    <tr style=\"text-align: right;\">\n",
       "      <th></th>\n",
       "      <th>Unnamed: 0</th>\n",
       "      <th>prompt</th>\n",
       "      <th>A</th>\n",
       "      <th>B</th>\n",
       "      <th>C</th>\n",
       "      <th>D</th>\n",
       "      <th>E</th>\n",
       "      <th>answer</th>\n",
       "      <th>wiki_text</th>\n",
       "      <th>page_title</th>\n",
       "      <th>section</th>\n",
       "      <th>prompt_answer</th>\n",
       "      <th>context</th>\n",
       "    </tr>\n",
       "  </thead>\n",
       "  <tbody>\n",
       "    <tr>\n",
       "      <th>0</th>\n",
       "      <td>0</td>\n",
       "      <td>What is the main focus of Russell Epstein's re...</td>\n",
       "      <td>Neural mechanisms of language processing</td>\n",
       "      <td>Neural mechanisms underlying visual scene perc...</td>\n",
       "      <td>Neural mechanisms of memory formation</td>\n",
       "      <td>Neural mechanisms of motor control</td>\n",
       "      <td>Neural mechanisms of emotional processing</td>\n",
       "      <td>B</td>\n",
       "      <td>Russell Epstein is a professor of psychology a...</td>\n",
       "      <td>Russell Epstein</td>\n",
       "      <td>Russell Epstein</td>\n",
       "      <td>What is the main focus of Russell Epstein's re...</td>\n",
       "      <td>[Russell Epstein is a professor of psychology ...</td>\n",
       "    </tr>\n",
       "    <tr>\n",
       "      <th>1</th>\n",
       "      <td>1</td>\n",
       "      <td>Which brain areas does Russell Epstein's lab s...</td>\n",
       "      <td>Prefrontal cortex and hippocampus</td>\n",
       "      <td>Parahippocampal and retrosplenial cortices</td>\n",
       "      <td>Motor cortex and cerebellum</td>\n",
       "      <td>Amygdala and thalamus</td>\n",
       "      <td>Visual cortex and auditory cortex</td>\n",
       "      <td>B</td>\n",
       "      <td>Russell Epstein is a professor of psychology a...</td>\n",
       "      <td>Russell Epstein</td>\n",
       "      <td>Russell Epstein</td>\n",
       "      <td>Which brain areas does Russell Epstein's lab s...</td>\n",
       "      <td>[Russell Epstein is a professor of psychology ...</td>\n",
       "    </tr>\n",
       "    <tr>\n",
       "      <th>2</th>\n",
       "      <td>2</td>\n",
       "      <td>What is the role of the Parahippocampal and re...</td>\n",
       "      <td>Motor control</td>\n",
       "      <td>Emotional processing</td>\n",
       "      <td>Visual scene perception</td>\n",
       "      <td>Spatial navigation</td>\n",
       "      <td>Language processing</td>\n",
       "      <td>D</td>\n",
       "      <td>Russell Epstein is a professor of psychology a...</td>\n",
       "      <td>Russell Epstein</td>\n",
       "      <td>Russell Epstein</td>\n",
       "      <td>What is the role of the Parahippocampal and re...</td>\n",
       "      <td>[Tactition Monkeys with lesions in the perirhi...</td>\n",
       "    </tr>\n",
       "    <tr>\n",
       "      <th>3</th>\n",
       "      <td>3</td>\n",
       "      <td>Where did Epstein receive his undergraduate de...</td>\n",
       "      <td>University of Chicago</td>\n",
       "      <td>Harvard</td>\n",
       "      <td>Stanford</td>\n",
       "      <td>MIT</td>\n",
       "      <td>Columbia</td>\n",
       "      <td>A</td>\n",
       "      <td>Epstein received an undergraduate degree in ph...</td>\n",
       "      <td>Russell Epstein</td>\n",
       "      <td>Education</td>\n",
       "      <td>Where did Epstein receive his undergraduate de...</td>\n",
       "      <td>[Epstein received an undergraduate degree in p...</td>\n",
       "    </tr>\n",
       "    <tr>\n",
       "      <th>4</th>\n",
       "      <td>4</td>\n",
       "      <td>Who was E...n of Computer Vision?</td>\n",
       "      <td>Alan Turing</td>\n",
       "      <td>Alan Yuille</td>\n",
       "      <td>Marvin Minsky</td>\n",
       "      <td>Geoffrey Hinton</td>\n",
       "      <td>Yann LeCun</td>\n",
       "      <td>B</td>\n",
       "      <td>Epstein received an undergraduate degree in ph...</td>\n",
       "      <td>Russell Epstein</td>\n",
       "      <td>Education</td>\n",
       "      <td>Who was E...n of Computer Vision? Alan Turing ...</td>\n",
       "      <td>[Epstein received an undergraduate degree in p...</td>\n",
       "    </tr>\n",
       "    <tr>\n",
       "      <th>...</th>\n",
       "      <td>...</td>\n",
       "      <td>...</td>\n",
       "      <td>...</td>\n",
       "      <td>...</td>\n",
       "      <td>...</td>\n",
       "      <td>...</td>\n",
       "      <td>...</td>\n",
       "      <td>...</td>\n",
       "      <td>...</td>\n",
       "      <td>...</td>\n",
       "      <td>...</td>\n",
       "      <td>...</td>\n",
       "      <td>...</td>\n",
       "    </tr>\n",
       "    <tr>\n",
       "      <th>80726</th>\n",
       "      <td>80726</td>\n",
       "      <td>Which tournament had the largest prize in Jeop...</td>\n",
       "      <td>Super Jeopardy!</td>\n",
       "      <td>Million Dollar Masters</td>\n",
       "      <td>Tenth Anniversary Tournament</td>\n",
       "      <td>Ultimate Tournament of Champions</td>\n",
       "      <td>Battle of the Decades</td>\n",
       "      <td>D</td>\n",
       "      <td>There have been several special tournaments fe...</td>\n",
       "      <td>Jeopardy!</td>\n",
       "      <td>Tournaments and other events</td>\n",
       "      <td>Which tournament had the largest prize in Jeop...</td>\n",
       "      <td>[There have been several special tournaments f...</td>\n",
       "    </tr>\n",
       "    <tr>\n",
       "      <th>80727</th>\n",
       "      <td>80727</td>\n",
       "      <td>How many matches did the \"Greatest of All Time...</td>\n",
       "      <td>One</td>\n",
       "      <td>Two</td>\n",
       "      <td>Three</td>\n",
       "      <td>Four</td>\n",
       "      <td>Five</td>\n",
       "      <td>D</td>\n",
       "      <td>There have been several special tournaments fe...</td>\n",
       "      <td>Jeopardy!</td>\n",
       "      <td>Tournaments and other events</td>\n",
       "      <td>How many matches did the \"Greatest of All Time...</td>\n",
       "      <td>[There have been several special tournaments f...</td>\n",
       "    </tr>\n",
       "    <tr>\n",
       "      <th>80728</th>\n",
       "      <td>80728</td>\n",
       "      <td>In which year did the Jeopardy! Teen Reunion T...</td>\n",
       "      <td>1998</td>\n",
       "      <td>2008</td>\n",
       "      <td>2009</td>\n",
       "      <td>2010</td>\n",
       "      <td>2011</td>\n",
       "      <td>A</td>\n",
       "      <td>In November 1998, Jeopardy! traveled to Boston...</td>\n",
       "      <td>Jeopardy!</td>\n",
       "      <td>Tournaments and other events</td>\n",
       "      <td>In which year did the Jeopardy! Teen Reunion T...</td>\n",
       "      <td>[In November 1998, Jeopardy! traveled to Bosto...</td>\n",
       "    </tr>\n",
       "    <tr>\n",
       "      <th>80729</th>\n",
       "      <td>80729</td>\n",
       "      <td>Which Jeopardy! tournament featured contestant...</td>\n",
       "      <td>Teen Reunion Tournament</td>\n",
       "      <td>Million Dollar Celebrity Invitational</td>\n",
       "      <td>IBM Challenge</td>\n",
       "      <td>All-Star Games</td>\n",
       "      <td>Ultimate Tournament of Champions</td>\n",
       "      <td>B</td>\n",
       "      <td>In November 1998, Jeopardy! traveled to Boston...</td>\n",
       "      <td>Jeopardy!</td>\n",
       "      <td>Tournaments and other events</td>\n",
       "      <td>Which Jeopardy! tournament featured contestant...</td>\n",
       "      <td>[In November 1998, Jeopardy! traveled to Bosto...</td>\n",
       "    </tr>\n",
       "    <tr>\n",
       "      <th>80730</th>\n",
       "      <td>80730</td>\n",
       "      <td>Who won the Million Dollar Celebrity Invitatio...</td>\n",
       "      <td>Michael McKean</td>\n",
       "      <td>Ken Jennings</td>\n",
       "      <td>Brad Rutter</td>\n",
       "      <td>David Madden</td>\n",
       "      <td>Larissa Kelly</td>\n",
       "      <td>A</td>\n",
       "      <td>In November 1998, Jeopardy! traveled to Boston...</td>\n",
       "      <td>Jeopardy!</td>\n",
       "      <td>Tournaments and other events</td>\n",
       "      <td>Who won the Million Dollar Celebrity Invitatio...</td>\n",
       "      <td>[In November 1998, Jeopardy! traveled to Bosto...</td>\n",
       "    </tr>\n",
       "  </tbody>\n",
       "</table>\n",
       "<p>80731 rows × 13 columns</p>\n",
       "</div>"
      ],
      "text/plain": [
       "       Unnamed: 0                                             prompt   \n",
       "0               0  What is the main focus of Russell Epstein's re...  \\\n",
       "1               1  Which brain areas does Russell Epstein's lab s...   \n",
       "2               2  What is the role of the Parahippocampal and re...   \n",
       "3               3  Where did Epstein receive his undergraduate de...   \n",
       "4               4                  Who was E...n of Computer Vision?   \n",
       "...           ...                                                ...   \n",
       "80726       80726  Which tournament had the largest prize in Jeop...   \n",
       "80727       80727  How many matches did the \"Greatest of All Time...   \n",
       "80728       80728  In which year did the Jeopardy! Teen Reunion T...   \n",
       "80729       80729  Which Jeopardy! tournament featured contestant...   \n",
       "80730       80730  Who won the Million Dollar Celebrity Invitatio...   \n",
       "\n",
       "                                              A   \n",
       "0      Neural mechanisms of language processing  \\\n",
       "1             Prefrontal cortex and hippocampus   \n",
       "2                                 Motor control   \n",
       "3                         University of Chicago   \n",
       "4                                   Alan Turing   \n",
       "...                                         ...   \n",
       "80726                           Super Jeopardy!   \n",
       "80727                                       One   \n",
       "80728                                      1998   \n",
       "80729                   Teen Reunion Tournament   \n",
       "80730                            Michael McKean   \n",
       "\n",
       "                                                       B   \n",
       "0      Neural mechanisms underlying visual scene perc...  \\\n",
       "1             Parahippocampal and retrosplenial cortices   \n",
       "2                                   Emotional processing   \n",
       "3                                                Harvard   \n",
       "4                                            Alan Yuille   \n",
       "...                                                  ...   \n",
       "80726                             Million Dollar Masters   \n",
       "80727                                                Two   \n",
       "80728                                               2008   \n",
       "80729              Million Dollar Celebrity Invitational   \n",
       "80730                                       Ken Jennings   \n",
       "\n",
       "                                           C   \n",
       "0      Neural mechanisms of memory formation  \\\n",
       "1                Motor cortex and cerebellum   \n",
       "2                    Visual scene perception   \n",
       "3                                   Stanford   \n",
       "4                              Marvin Minsky   \n",
       "...                                      ...   \n",
       "80726           Tenth Anniversary Tournament   \n",
       "80727                                  Three   \n",
       "80728                                   2009   \n",
       "80729                          IBM Challenge   \n",
       "80730                            Brad Rutter   \n",
       "\n",
       "                                        D   \n",
       "0      Neural mechanisms of motor control  \\\n",
       "1                   Amygdala and thalamus   \n",
       "2                      Spatial navigation   \n",
       "3                                     MIT   \n",
       "4                         Geoffrey Hinton   \n",
       "...                                   ...   \n",
       "80726    Ultimate Tournament of Champions   \n",
       "80727                                Four   \n",
       "80728                                2010   \n",
       "80729                      All-Star Games   \n",
       "80730                        David Madden   \n",
       "\n",
       "                                               E answer   \n",
       "0      Neural mechanisms of emotional processing      B  \\\n",
       "1              Visual cortex and auditory cortex      B   \n",
       "2                            Language processing      D   \n",
       "3                                       Columbia      A   \n",
       "4                                     Yann LeCun      B   \n",
       "...                                          ...    ...   \n",
       "80726                      Battle of the Decades      D   \n",
       "80727                                       Five      D   \n",
       "80728                                       2011      A   \n",
       "80729           Ultimate Tournament of Champions      B   \n",
       "80730                              Larissa Kelly      A   \n",
       "\n",
       "                                               wiki_text       page_title   \n",
       "0      Russell Epstein is a professor of psychology a...  Russell Epstein  \\\n",
       "1      Russell Epstein is a professor of psychology a...  Russell Epstein   \n",
       "2      Russell Epstein is a professor of psychology a...  Russell Epstein   \n",
       "3      Epstein received an undergraduate degree in ph...  Russell Epstein   \n",
       "4      Epstein received an undergraduate degree in ph...  Russell Epstein   \n",
       "...                                                  ...              ...   \n",
       "80726  There have been several special tournaments fe...        Jeopardy!   \n",
       "80727  There have been several special tournaments fe...        Jeopardy!   \n",
       "80728  In November 1998, Jeopardy! traveled to Boston...        Jeopardy!   \n",
       "80729  In November 1998, Jeopardy! traveled to Boston...        Jeopardy!   \n",
       "80730  In November 1998, Jeopardy! traveled to Boston...        Jeopardy!   \n",
       "\n",
       "                            section   \n",
       "0                   Russell Epstein  \\\n",
       "1                   Russell Epstein   \n",
       "2                   Russell Epstein   \n",
       "3                         Education   \n",
       "4                         Education   \n",
       "...                             ...   \n",
       "80726  Tournaments and other events   \n",
       "80727  Tournaments and other events   \n",
       "80728  Tournaments and other events   \n",
       "80729  Tournaments and other events   \n",
       "80730  Tournaments and other events   \n",
       "\n",
       "                                           prompt_answer   \n",
       "0      What is the main focus of Russell Epstein's re...  \\\n",
       "1      Which brain areas does Russell Epstein's lab s...   \n",
       "2      What is the role of the Parahippocampal and re...   \n",
       "3      Where did Epstein receive his undergraduate de...   \n",
       "4      Who was E...n of Computer Vision? Alan Turing ...   \n",
       "...                                                  ...   \n",
       "80726  Which tournament had the largest prize in Jeop...   \n",
       "80727  How many matches did the \"Greatest of All Time...   \n",
       "80728  In which year did the Jeopardy! Teen Reunion T...   \n",
       "80729  Which Jeopardy! tournament featured contestant...   \n",
       "80730  Who won the Million Dollar Celebrity Invitatio...   \n",
       "\n",
       "                                                 context  \n",
       "0      [Russell Epstein is a professor of psychology ...  \n",
       "1      [Russell Epstein is a professor of psychology ...  \n",
       "2      [Tactition Monkeys with lesions in the perirhi...  \n",
       "3      [Epstein received an undergraduate degree in p...  \n",
       "4      [Epstein received an undergraduate degree in p...  \n",
       "...                                                  ...  \n",
       "80726  [There have been several special tournaments f...  \n",
       "80727  [There have been several special tournaments f...  \n",
       "80728  [In November 1998, Jeopardy! traveled to Bosto...  \n",
       "80729  [In November 1998, Jeopardy! traveled to Bosto...  \n",
       "80730  [In November 1998, Jeopardy! traveled to Bosto...  \n",
       "\n",
       "[80731 rows x 13 columns]"
      ]
     },
     "execution_count": 3,
     "metadata": {},
     "output_type": "execute_result"
    }
   ],
   "source": [
    "trn = pd.read_csv('./data/新8w_with_Top5_recall.csv')\n",
    "trn['context'] = trn['context'].apply(lambda x : eval(x))\n",
    "trn"
   ]
  },
  {
   "cell_type": "code",
   "execution_count": 4,
   "id": "9196e434-92ae-46e2-84c1-8d51ead970b2",
   "metadata": {
    "tags": []
   },
   "outputs": [],
   "source": [
    "trn['context'] = trn['context'].apply(lambda x : ''.join(x))"
   ]
  },
  {
   "cell_type": "code",
   "execution_count": 5,
   "id": "31613197-619c-4e16-aa51-cb97e839cbd1",
   "metadata": {
    "tags": []
   },
   "outputs": [
    {
     "name": "stderr",
     "output_type": "stream",
     "text": [
      "100%|██████████| 80731/80731 [00:00<00:00, 274695.57it/s]\n",
      "100%|██████████| 80731/80731 [01:42<00:00, 785.52it/s] \n"
     ]
    }
   ],
   "source": [
    "x = process_documents(trn['context'].tolist(), list(range(len(trn))))"
   ]
  },
  {
   "cell_type": "code",
   "execution_count": 8,
   "id": "9e5bcfde-b0f7-4e74-ba5c-afc02012ee4f",
   "metadata": {
    "tags": []
   },
   "outputs": [
    {
     "data": {
      "text/plain": [
       "'Russell Epstein is a professor of psychology at the University of Pennsylvania, who studies neural mechanisms underlying visual scene perception, event perception, object recognition, and spatial navigation in humans. His lab studies the role of the Parahippocampal and retrosplenial cortices in determining how people orient themselves relative to their surroundings.His research mostly focuses on the mechanisms underlying neuroplasticity and its influence on the perception of pain.Russell D. Fernald is an American neuroscientist/neuroethologist, currently on the Biology faculty at Stanford University. Fernald is known for his interdisciplinary work based on fieldwork and subsequent neuroethological analysis of an African cichlid fish that he has shown to be a useful and novel model organism. His research spans several domains: 1) in the visual system including the discovery of rod photoreceptor stem cells, circadian renewal of photoreceptor opsins and mechanisms of crystalline lens focus (Rank Prize); 2) In social control of reproductive behavior: social regulation of reproduction via gonadotropin releasing hormones through specific brain circuitry; 3) Cognitive skills that have evolved to regulate social status.Karl Lashley, a psychologist who studied under John B. Watson, focused mainly on studying learning and discrimination. He published \"Brain mechanisms and intelligence\" in 1929. Lashey\\'s research on two-alternative forced choice gave a foundation of study to psychologists like Kenneth Spence. Kenneth Spence expanded on the knowledge we had on two-choice discrimination learning. He made two major publications on the subject, The Nature of Discrimination Learning in Animals in 1936 and Continuous Versus Non-continuous Interpretations of Discrimination Learning in 1940. Spence\\'s research discussed the theory that applying excitation and inhibition to a stimulus and having the likelihood of responding to that stimulus be the result of the net excitation strength (excitation minus inhibition).Ivan Pavlov is very influential when it comes to studying discrimination learning. His studies involving salivating dogs demonstrated an ability in the dogs to differentiate a stimulus that would elicit a reward and a stimulus that would not. This can be contrasted with the Little Albert studies where Albert\\'s lack of discrimination between animals exhibited the psychological and learning phenomenon of generalization learning, which is discrimination learning\\'s polar opposite.A book written on discrimination learning studied the behaviors and discriminatory habits of animals.Arlie Russell Hochschild (born 1940) – American sociologist whose central contribution was in forging a link between the subcutaneous flow of emotion in social life and the larger trends set loose by modern capitalism within organizations Joseph E. LeDoux (born 1949) – American neuroscientist who studies the biological underpinnings of memory and emotion, especially the mechanisms of fear George Mandler (born 1924) – American psychologist who wrote influential books on cognition and emotion Jesse Prinz – American philosopher who specializes in emotion, moral psychology, aesthetics and consciousness James A. Russell (born 1947) – American psychologist who developed or co-developed the PAD theory of environmental impact, circumplex model of affect, prototype theory of emotion concepts, a critique of the hypothesis of universal recognition of emotion from facial expression, concept of core affect, developmental theory of differentiation of emotion concepts, and, more recently, the theory of the psychological construction of emotion Klaus Scherer (born 1943) – Swiss psychologist and director of the Swiss Center for Affective Sciences in Geneva; he specializes in the psychology of emotion Ronald de Sousa (born 1940) – English–Canadian philosopher who specializes in the philosophy of emotions, philosophy of mind and philosophy of biology Jonathan H. Turner (born 1942) – American sociologist from the University of California, Riverside, who is a general sociological theorist with specialty areas including the sociology of emotions, ethnic relations, social institutions, social stratification, and bio-sociology Dominique Moïsi (born 1946) – authored a book titled The Geopolitics of Emotion focusing on emotions related to globalization '"
      ]
     },
     "execution_count": 8,
     "metadata": {},
     "output_type": "execute_result"
    }
   ],
   "source": [
    "trn.loc[0,'context']"
   ]
  },
  {
   "cell_type": "code",
   "execution_count": 3,
   "id": "bc97c556-8aba-4a06-9b21-d8d35d664650",
   "metadata": {
    "tags": []
   },
   "outputs": [],
   "source": [
    "import os\n",
    "os.environ['CUDA_VISIBLE_DEVICES'] = '0'\n",
    "DEVICE = 'cuda'\n",
    "MAX_LENGTH = 512\n",
    "BATCH_SIZE = 256\n",
    "BERT_PATH = \"/root/bert_path/sentence-transformer-all-mpnet-base-v2\"\n",
    "# BERT_PATH = \"/root/bert_path/sentence-transformers_all-MiniLM-L6-v2\"\n",
    "MODEL_PATH = \"./save/recall/recall_epoch100.bin\"\n",
    "WIKI_PATH = \"./wiki_data\"\n",
    "wiki_files = os.listdir(WIKI_PATH)"
   ]
  },
  {
   "cell_type": "code",
   "execution_count": 4,
   "id": "5ad62497-665d-4540-ba33-66832b2e2149",
   "metadata": {
    "tags": []
   },
   "outputs": [],
   "source": [
    "import torch.nn as nn\n",
    "import torch\n",
    "from transformers import AutoModel, AutoTokenizer\n",
    "class MeanPooling(nn.Module):\n",
    "    def __init__(self):\n",
    "        super(MeanPooling, self).__init__()\n",
    "\n",
    "    def forward(self, last_hidden_state, attention_mask):\n",
    "        input_mask_expanded = attention_mask.unsqueeze(-1).expand(last_hidden_state.size()).float()\n",
    "        sum_embeddings = torch.sum(last_hidden_state * input_mask_expanded, 1)\n",
    "        sum_mask = input_mask_expanded.sum(1)\n",
    "        sum_mask = torch.clamp(sum_mask, min=1e-9)\n",
    "        mean_embeddings = sum_embeddings / sum_mask\n",
    "        return mean_embeddings\n",
    "\n",
    "class RecallModel(nn.Module):\n",
    "    def __init__(self):\n",
    "        super(RecallModel, self).__init__()\n",
    "        self.bert_model = AutoModel.from_pretrained(BERT_PATH)\n",
    "        self.mean_pooler = MeanPooling()\n",
    "\n",
    "    def mask_mean(self, x, mask=None):\n",
    "        if mask != None:\n",
    "            mask_x = x * (mask.unsqueeze(-1))\n",
    "            x_sum = torch.sum(mask_x, dim=1)\n",
    "            re_x = torch.div(x_sum, torch.sum(mask, dim=1).unsqueeze(-1))\n",
    "        else:\n",
    "            x_sum = torch.sum(x, dim=1)\n",
    "            re_x = torch.div(x_sum, x.size()[1])\n",
    "        return re_x\n",
    "\n",
    "    def forward(self, input_ids):\n",
    "        attention_mask = input_ids > 0\n",
    "        out = self.bert_model(input_ids, attention_mask=attention_mask).last_hidden_state\n",
    "        x = self.mean_pooler(out, attention_mask)\n",
    "\n",
    "        # x = out[:, 0, :]\n",
    "        return x\n"
   ]
  },
  {
   "cell_type": "code",
   "execution_count": 5,
   "id": "1433d403-f79c-4d99-8a1a-561cd1acf8c2",
   "metadata": {
    "tags": []
   },
   "outputs": [
    {
     "data": {
      "text/html": [
       "<div>\n",
       "<style scoped>\n",
       "    .dataframe tbody tr th:only-of-type {\n",
       "        vertical-align: middle;\n",
       "    }\n",
       "\n",
       "    .dataframe tbody tr th {\n",
       "        vertical-align: top;\n",
       "    }\n",
       "\n",
       "    .dataframe thead th {\n",
       "        text-align: right;\n",
       "    }\n",
       "</style>\n",
       "<table border=\"1\" class=\"dataframe\">\n",
       "  <thead>\n",
       "    <tr style=\"text-align: right;\">\n",
       "      <th></th>\n",
       "      <th>Unnamed: 0</th>\n",
       "      <th>id</th>\n",
       "      <th>prompt</th>\n",
       "      <th>A</th>\n",
       "      <th>B</th>\n",
       "      <th>C</th>\n",
       "      <th>D</th>\n",
       "      <th>E</th>\n",
       "      <th>answer</th>\n",
       "      <th>wiki_text</th>\n",
       "      <th>page_id</th>\n",
       "      <th>page_title</th>\n",
       "      <th>stem_label</th>\n",
       "      <th>prompt_answer</th>\n",
       "    </tr>\n",
       "  </thead>\n",
       "  <tbody>\n",
       "    <tr>\n",
       "      <th>0</th>\n",
       "      <td>0</td>\n",
       "      <td>0</td>\n",
       "      <td>What does the nullity of a graph in graph theo...</td>\n",
       "      <td>The number of vertices in the graph</td>\n",
       "      <td>The number of edges in the graph</td>\n",
       "      <td>The rank of the adjacency matrix</td>\n",
       "      <td>The multiplicity of the eigenvalue 0 in the sp...</td>\n",
       "      <td>The number of components of the graph</td>\n",
       "      <td>D</td>\n",
       "      <td>The nullity of a graph in the mathematical sub...</td>\n",
       "      <td>17458663</td>\n",
       "      <td>Nullity (graph theory)</td>\n",
       "      <td>M</td>\n",
       "      <td>What does the nullity of a graph in graph theo...</td>\n",
       "    </tr>\n",
       "    <tr>\n",
       "      <th>1</th>\n",
       "      <td>1</td>\n",
       "      <td>1</td>\n",
       "      <td>In the matrix theory of graphs, what is the nu...</td>\n",
       "      <td>n − r</td>\n",
       "      <td>m − n + c</td>\n",
       "      <td>n − c</td>\n",
       "      <td>The nullity of the graph</td>\n",
       "      <td>The number of components of the graph</td>\n",
       "      <td>A</td>\n",
       "      <td>The nullity of a graph in the mathematical sub...</td>\n",
       "      <td>17458663</td>\n",
       "      <td>Nullity (graph theory)</td>\n",
       "      <td>M</td>\n",
       "      <td>In the matrix theory of graphs, what is the nu...</td>\n",
       "    </tr>\n",
       "    <tr>\n",
       "      <th>2</th>\n",
       "      <td>2</td>\n",
       "      <td>2</td>\n",
       "      <td>Which term is more commonly used to refer to t...</td>\n",
       "      <td>Nullity of the adjacency matrix</td>\n",
       "      <td>Multiplicity of the eigenvalue 0</td>\n",
       "      <td>Cycle rank</td>\n",
       "      <td>Cyclomatic number</td>\n",
       "      <td>Circuit rank</td>\n",
       "      <td>C</td>\n",
       "      <td>The nullity of a graph in the mathematical sub...</td>\n",
       "      <td>17458663</td>\n",
       "      <td>Nullity (graph theory)</td>\n",
       "      <td>M</td>\n",
       "      <td>Which term is more commonly used to refer to t...</td>\n",
       "    </tr>\n",
       "    <tr>\n",
       "      <th>3</th>\n",
       "      <td>3</td>\n",
       "      <td>3</td>\n",
       "      <td>What is the formula for calculating the nullit...</td>\n",
       "      <td>n − r</td>\n",
       "      <td>m − n + c</td>\n",
       "      <td>n − c</td>\n",
       "      <td>The nullity of the graph</td>\n",
       "      <td>The number of components of the graph</td>\n",
       "      <td>B</td>\n",
       "      <td>The nullity of a graph in the mathematical sub...</td>\n",
       "      <td>17458663</td>\n",
       "      <td>Nullity (graph theory)</td>\n",
       "      <td>M</td>\n",
       "      <td>What is the formula for calculating the nullit...</td>\n",
       "    </tr>\n",
       "    <tr>\n",
       "      <th>4</th>\n",
       "      <td>4</td>\n",
       "      <td>4</td>\n",
       "      <td>What can the nullity of the graph represent in...</td>\n",
       "      <td>The number of vertices in the graph</td>\n",
       "      <td>The number of edges in the graph</td>\n",
       "      <td>The rank of the adjacency matrix</td>\n",
       "      <td>The number of components of the graph</td>\n",
       "      <td>The rank of the oriented incidence matrix</td>\n",
       "      <td>E</td>\n",
       "      <td>The nullity of a graph in the mathematical sub...</td>\n",
       "      <td>17458663</td>\n",
       "      <td>Nullity (graph theory)</td>\n",
       "      <td>M</td>\n",
       "      <td>What can the nullity of the graph represent in...</td>\n",
       "    </tr>\n",
       "    <tr>\n",
       "      <th>...</th>\n",
       "      <td>...</td>\n",
       "      <td>...</td>\n",
       "      <td>...</td>\n",
       "      <td>...</td>\n",
       "      <td>...</td>\n",
       "      <td>...</td>\n",
       "      <td>...</td>\n",
       "      <td>...</td>\n",
       "      <td>...</td>\n",
       "      <td>...</td>\n",
       "      <td>...</td>\n",
       "      <td>...</td>\n",
       "      <td>...</td>\n",
       "      <td>...</td>\n",
       "    </tr>\n",
       "    <tr>\n",
       "      <th>78003</th>\n",
       "      <td>78003</td>\n",
       "      <td>78140</td>\n",
       "      <td>What is the inscription on the plinth of the a...</td>\n",
       "      <td>Rotary Armillary</td>\n",
       "      <td>Service Above Self</td>\n",
       "      <td>This Armillary was presented to the people of ...</td>\n",
       "      <td>The Rotary Club of Cheam has joined with the R...</td>\n",
       "      <td>December 2000</td>\n",
       "      <td>B</td>\n",
       "      <td>The Millennium Dial Armillary is one of six pi...</td>\n",
       "      <td>43629419</td>\n",
       "      <td>Sutton armillary</td>\n",
       "      <td>M</td>\n",
       "      <td>What is the inscription on the plinth of the a...</td>\n",
       "    </tr>\n",
       "    <tr>\n",
       "      <th>78004</th>\n",
       "      <td>78004</td>\n",
       "      <td>78141</td>\n",
       "      <td>How was the Millennium Dial Armillary funded?</td>\n",
       "      <td>By the London Borough of Sutton</td>\n",
       "      <td>By the Rotary Club</td>\n",
       "      <td>By the sponsors listed on the plinth inscription</td>\n",
       "      <td>By the residents of Sutton</td>\n",
       "      <td>By a joint effort between the Rotary Club and ...</td>\n",
       "      <td>C</td>\n",
       "      <td>The Millennium Dial Armillary is one of six pi...</td>\n",
       "      <td>43629419</td>\n",
       "      <td>Sutton armillary</td>\n",
       "      <td>M</td>\n",
       "      <td>How was the Millennium Dial Armillary funded? ...</td>\n",
       "    </tr>\n",
       "    <tr>\n",
       "      <th>78005</th>\n",
       "      <td>78005</td>\n",
       "      <td>78142</td>\n",
       "      <td>What is the Ukrainian Physicists' Tournament f...</td>\n",
       "      <td>A competition for secondary school students to...</td>\n",
       "      <td>A competition for university students to solve...</td>\n",
       "      <td>A competition for international physicists to ...</td>\n",
       "      <td>A research project competition for university ...</td>\n",
       "      <td>A creative team competition for university stu...</td>\n",
       "      <td>E</td>\n",
       "      <td>Ukrainian Physicists' Tournament for Universit...</td>\n",
       "      <td>14320529</td>\n",
       "      <td>Ukrainian Physicists' Tournament for Universit...</td>\n",
       "      <td>M</td>\n",
       "      <td>What is the Ukrainian Physicists' Tournament f...</td>\n",
       "    </tr>\n",
       "    <tr>\n",
       "      <th>78006</th>\n",
       "      <td>78006</td>\n",
       "      <td>78143</td>\n",
       "      <td>When was the first Open Physicists' Tournament...</td>\n",
       "      <td>2001</td>\n",
       "      <td>2005</td>\n",
       "      <td>2010</td>\n",
       "      <td>2015</td>\n",
       "      <td>2020</td>\n",
       "      <td>A</td>\n",
       "      <td>Ukrainian Physicists' Tournament for Universit...</td>\n",
       "      <td>14320529</td>\n",
       "      <td>Ukrainian Physicists' Tournament for Universit...</td>\n",
       "      <td>M</td>\n",
       "      <td>When was the first Open Physicists' Tournament...</td>\n",
       "    </tr>\n",
       "    <tr>\n",
       "      <th>78007</th>\n",
       "      <td>78007</td>\n",
       "      <td>78144</td>\n",
       "      <td>What is the International Physicists' Tournament?</td>\n",
       "      <td>A tournament for Ukrainian physicists to compe...</td>\n",
       "      <td>A tournament for university students to compet...</td>\n",
       "      <td>A research project competition for internation...</td>\n",
       "      <td>A continuation of school Tournaments of Young ...</td>\n",
       "      <td>A creative team competition for international ...</td>\n",
       "      <td>B</td>\n",
       "      <td>Ukrainian Physicists' Tournament for Universit...</td>\n",
       "      <td>14320529</td>\n",
       "      <td>Ukrainian Physicists' Tournament for Universit...</td>\n",
       "      <td>M</td>\n",
       "      <td>What is the International Physicists' Tourname...</td>\n",
       "    </tr>\n",
       "  </tbody>\n",
       "</table>\n",
       "<p>78008 rows × 14 columns</p>\n",
       "</div>"
      ],
      "text/plain": [
       "       Unnamed: 0     id                                             prompt  \\\n",
       "0               0      0  What does the nullity of a graph in graph theo...   \n",
       "1               1      1  In the matrix theory of graphs, what is the nu...   \n",
       "2               2      2  Which term is more commonly used to refer to t...   \n",
       "3               3      3  What is the formula for calculating the nullit...   \n",
       "4               4      4  What can the nullity of the graph represent in...   \n",
       "...           ...    ...                                                ...   \n",
       "78003       78003  78140  What is the inscription on the plinth of the a...   \n",
       "78004       78004  78141      How was the Millennium Dial Armillary funded?   \n",
       "78005       78005  78142  What is the Ukrainian Physicists' Tournament f...   \n",
       "78006       78006  78143  When was the first Open Physicists' Tournament...   \n",
       "78007       78007  78144  What is the International Physicists' Tournament?   \n",
       "\n",
       "                                                       A  \\\n",
       "0                    The number of vertices in the graph   \n",
       "1                                                  n − r   \n",
       "2                        Nullity of the adjacency matrix   \n",
       "3                                                  n − r   \n",
       "4                    The number of vertices in the graph   \n",
       "...                                                  ...   \n",
       "78003                                   Rotary Armillary   \n",
       "78004                    By the London Borough of Sutton   \n",
       "78005  A competition for secondary school students to...   \n",
       "78006                                               2001   \n",
       "78007  A tournament for Ukrainian physicists to compe...   \n",
       "\n",
       "                                                       B  \\\n",
       "0                       The number of edges in the graph   \n",
       "1                                              m − n + c   \n",
       "2                       Multiplicity of the eigenvalue 0   \n",
       "3                                              m − n + c   \n",
       "4                       The number of edges in the graph   \n",
       "...                                                  ...   \n",
       "78003                                 Service Above Self   \n",
       "78004                                 By the Rotary Club   \n",
       "78005  A competition for university students to solve...   \n",
       "78006                                               2005   \n",
       "78007  A tournament for university students to compet...   \n",
       "\n",
       "                                                       C  \\\n",
       "0                       The rank of the adjacency matrix   \n",
       "1                                                  n − c   \n",
       "2                                             Cycle rank   \n",
       "3                                                  n − c   \n",
       "4                       The rank of the adjacency matrix   \n",
       "...                                                  ...   \n",
       "78003  This Armillary was presented to the people of ...   \n",
       "78004   By the sponsors listed on the plinth inscription   \n",
       "78005  A competition for international physicists to ...   \n",
       "78006                                               2010   \n",
       "78007  A research project competition for internation...   \n",
       "\n",
       "                                                       D  \\\n",
       "0      The multiplicity of the eigenvalue 0 in the sp...   \n",
       "1                               The nullity of the graph   \n",
       "2                                      Cyclomatic number   \n",
       "3                               The nullity of the graph   \n",
       "4                  The number of components of the graph   \n",
       "...                                                  ...   \n",
       "78003  The Rotary Club of Cheam has joined with the R...   \n",
       "78004                         By the residents of Sutton   \n",
       "78005  A research project competition for university ...   \n",
       "78006                                               2015   \n",
       "78007  A continuation of school Tournaments of Young ...   \n",
       "\n",
       "                                                       E answer  \\\n",
       "0                  The number of components of the graph      D   \n",
       "1                  The number of components of the graph      A   \n",
       "2                                           Circuit rank      C   \n",
       "3                  The number of components of the graph      B   \n",
       "4              The rank of the oriented incidence matrix      E   \n",
       "...                                                  ...    ...   \n",
       "78003                                      December 2000      B   \n",
       "78004  By a joint effort between the Rotary Club and ...      C   \n",
       "78005  A creative team competition for university stu...      E   \n",
       "78006                                               2020      A   \n",
       "78007  A creative team competition for international ...      B   \n",
       "\n",
       "                                               wiki_text   page_id  \\\n",
       "0      The nullity of a graph in the mathematical sub...  17458663   \n",
       "1      The nullity of a graph in the mathematical sub...  17458663   \n",
       "2      The nullity of a graph in the mathematical sub...  17458663   \n",
       "3      The nullity of a graph in the mathematical sub...  17458663   \n",
       "4      The nullity of a graph in the mathematical sub...  17458663   \n",
       "...                                                  ...       ...   \n",
       "78003  The Millennium Dial Armillary is one of six pi...  43629419   \n",
       "78004  The Millennium Dial Armillary is one of six pi...  43629419   \n",
       "78005  Ukrainian Physicists' Tournament for Universit...  14320529   \n",
       "78006  Ukrainian Physicists' Tournament for Universit...  14320529   \n",
       "78007  Ukrainian Physicists' Tournament for Universit...  14320529   \n",
       "\n",
       "                                              page_title stem_label  \\\n",
       "0                                 Nullity (graph theory)          M   \n",
       "1                                 Nullity (graph theory)          M   \n",
       "2                                 Nullity (graph theory)          M   \n",
       "3                                 Nullity (graph theory)          M   \n",
       "4                                 Nullity (graph theory)          M   \n",
       "...                                                  ...        ...   \n",
       "78003                                   Sutton armillary          M   \n",
       "78004                                   Sutton armillary          M   \n",
       "78005  Ukrainian Physicists' Tournament for Universit...          M   \n",
       "78006  Ukrainian Physicists' Tournament for Universit...          M   \n",
       "78007  Ukrainian Physicists' Tournament for Universit...          M   \n",
       "\n",
       "                                           prompt_answer  \n",
       "0      What does the nullity of a graph in graph theo...  \n",
       "1      In the matrix theory of graphs, what is the nu...  \n",
       "2      Which term is more commonly used to refer to t...  \n",
       "3      What is the formula for calculating the nullit...  \n",
       "4      What can the nullity of the graph represent in...  \n",
       "...                                                  ...  \n",
       "78003  What is the inscription on the plinth of the a...  \n",
       "78004  How was the Millennium Dial Armillary funded? ...  \n",
       "78005  What is the Ukrainian Physicists' Tournament f...  \n",
       "78006  When was the first Open Physicists' Tournament...  \n",
       "78007  What is the International Physicists' Tourname...  \n",
       "\n",
       "[78008 rows x 14 columns]"
      ]
     },
     "execution_count": 5,
     "metadata": {},
     "output_type": "execute_result"
    }
   ],
   "source": [
    "trn = pd.read_csv(\"./data/7w8_crawl_dataset.csv\")\n",
    "trn['prompt_answer'] = trn.apply(lambda row : ' '.join(str(row[x]) for x in ['prompt', 'A', 'B', 'C', 'D', 'E']),axis=1)\n",
    "# tmp = pd.read_csv('./data/recall_train.csv')\n",
    "trn"
   ]
  },
  {
   "cell_type": "code",
   "execution_count": 6,
   "id": "08ecf2db-3e0b-4195-a5f5-953c8868c32d",
   "metadata": {
    "tags": []
   },
   "outputs": [
    {
     "data": {
      "text/plain": [
       "DataParallel(\n",
       "  (module): RecallModel(\n",
       "    (bert_model): MPNetModel(\n",
       "      (embeddings): MPNetEmbeddings(\n",
       "        (word_embeddings): Embedding(30527, 768, padding_idx=1)\n",
       "        (position_embeddings): Embedding(514, 768, padding_idx=1)\n",
       "        (LayerNorm): LayerNorm((768,), eps=1e-05, elementwise_affine=True)\n",
       "        (dropout): Dropout(p=0.1, inplace=False)\n",
       "      )\n",
       "      (encoder): MPNetEncoder(\n",
       "        (layer): ModuleList(\n",
       "          (0-11): 12 x MPNetLayer(\n",
       "            (attention): MPNetAttention(\n",
       "              (attn): MPNetSelfAttention(\n",
       "                (q): Linear(in_features=768, out_features=768, bias=True)\n",
       "                (k): Linear(in_features=768, out_features=768, bias=True)\n",
       "                (v): Linear(in_features=768, out_features=768, bias=True)\n",
       "                (o): Linear(in_features=768, out_features=768, bias=True)\n",
       "                (dropout): Dropout(p=0.1, inplace=False)\n",
       "              )\n",
       "              (LayerNorm): LayerNorm((768,), eps=1e-05, elementwise_affine=True)\n",
       "              (dropout): Dropout(p=0.1, inplace=False)\n",
       "            )\n",
       "            (intermediate): MPNetIntermediate(\n",
       "              (dense): Linear(in_features=768, out_features=3072, bias=True)\n",
       "              (intermediate_act_fn): GELUActivation()\n",
       "            )\n",
       "            (output): MPNetOutput(\n",
       "              (dense): Linear(in_features=3072, out_features=768, bias=True)\n",
       "              (LayerNorm): LayerNorm((768,), eps=1e-05, elementwise_affine=True)\n",
       "              (dropout): Dropout(p=0.1, inplace=False)\n",
       "            )\n",
       "          )\n",
       "        )\n",
       "        (relative_attention_bias): Embedding(32, 12)\n",
       "      )\n",
       "      (pooler): MPNetPooler(\n",
       "        (dense): Linear(in_features=768, out_features=768, bias=True)\n",
       "        (activation): Tanh()\n",
       "      )\n",
       "    )\n",
       "    (mean_pooler): MeanPooling()\n",
       "  )\n",
       ")"
      ]
     },
     "execution_count": 6,
     "metadata": {},
     "output_type": "execute_result"
    }
   ],
   "source": [
    "from functools import partial\n",
    "from torch.utils.data import DataLoader\n",
    "dataloader_class = partial(DataLoader, pin_memory=True, num_workers=4)\n",
    "model= RecallModel()\n",
    "from collections import OrderedDict\n",
    "def load_param(model_path):\n",
    "    state_dict = torch.load(model_path, map_location='cpu')\n",
    "    params = OrderedDict()\n",
    "    for name, param in state_dict.items():\n",
    "        name = '.'.join(name.split('.')[1:])\n",
    "        params[name] = param\n",
    "    return params\n",
    "model.load_state_dict(load_param('./save/recall_base/recall0_best.bin'))\n",
    "# model.load_state_dict(torch.load('./save/recall_new/recall0_best.bin',map_location='cpu'))\n",
    "model.to(DEVICE)\n",
    "model = torch.nn.parallel.DataParallel(model)\n",
    "model.eval()"
   ]
  },
  {
   "cell_type": "code",
   "execution_count": 7,
   "id": "0a93bfc2-f2c3-48ba-b6b3-4f04987b2372",
   "metadata": {
    "tags": []
   },
   "outputs": [],
   "source": [
    "from tqdm.auto import tqdm\n",
    "class LLMRecallDataSet(torch.utils.data.Dataset):\n",
    "    def __init__(self, data, col):\n",
    "        self.tokenizer = AutoTokenizer.from_pretrained(BERT_PATH, use_fast=True)\n",
    "        self.data = data\n",
    "        self.col = col\n",
    "    def __len__(self):\n",
    "        return len(self.data) \n",
    "    \n",
    "    def __getitem__(self,index):\n",
    "        inputs = self.data.loc[index, self.col]\n",
    "        inputs = self.tokenizer.encode(inputs, add_special_tokens=False)\n",
    "        if len(inputs) > 510:\n",
    "            inputs = [101] + inputs[:510] + [102]\n",
    "        else:\n",
    "            inputs = [101] + inputs + [102]\n",
    "        return inputs\n",
    "    \n",
    "    def collate_fn(self, batch):\n",
    "        def sequence_padding(inputs, length=None, padding=0):\n",
    "            \"\"\"\n",
    "            Numpy函数，将序列padding到同一长度\n",
    "            \"\"\"\n",
    "            if length is None:\n",
    "                length = max([len(x) for x in inputs])\n",
    "\n",
    "            pad_width = [(0, 0) for _ in np.shape(inputs[0])]\n",
    "            outputs = []\n",
    "            for x in inputs:\n",
    "                x = x[:length]\n",
    "                pad_width[0] = (0, length - len(x))\n",
    "                x = np.pad(x, pad_width, 'constant', constant_values=padding)\n",
    "                outputs.append(x)\n",
    "\n",
    "            return np.array(outputs, dtype='int64')\n",
    "        batch_ids = torch.tensor(sequence_padding(batch), dtype=torch.long)\n",
    "        \n",
    "        return batch_ids\n",
    "\n",
    "        \n",
    "class DataLoaderX(torch.utils.data.DataLoader):\n",
    "    '''\n",
    "        replace DataLoader with PrefetchDataLoader\n",
    "    '''\n",
    "    def __iter__(self):\n",
    "        return BackgroundGenerator(super().__iter__())  \n",
    "\n",
    "    \n",
    "def get_loader(prompt,col,batch_size,train_mode=True,num_workers=4):\n",
    "    ds_df = LLMRecallDataSet(prompt,col)\n",
    "    # loader = DataLoaderX(ds_df, batch_size=batch_size if train_mode else batch_size//2, shuffle=train_mode, num_workers=num_workers,pin_memory=True,\n",
    "    #                                      collate_fn=ds_df.collate_fn, drop_last=train_mode)\n",
    "    loader = dataloader_class(ds_df, batch_size=batch_size, shuffle=False,collate_fn=ds_df.collate_fn)\n",
    "    loader.num = len(ds_df)\n",
    "    return loader"
   ]
  },
  {
   "cell_type": "code",
   "execution_count": 8,
   "id": "5b179546-3349-4ee9-8b7a-bea9811a0ee8",
   "metadata": {
    "tags": []
   },
   "outputs": [
    {
     "name": "stderr",
     "output_type": "stream",
     "text": [
      "100%|██████████| 1561/1561 [00:38<00:00, 40.79it/s]\n"
     ]
    }
   ],
   "source": [
    "from prefetch_generator import BackgroundGenerator\n",
    "loader = get_loader(trn, 'prompt_answer',50, False)\n",
    "prompt_embeddings = []\n",
    "with torch.no_grad():\n",
    "    for batch in tqdm(loader):\n",
    "        batch = batch.to(DEVICE)\n",
    "        with autocast():\n",
    "            output = model(batch).cpu().detach().numpy()\n",
    "        faiss.normalize_L2(output)\n",
    "        prompt_embeddings.append(output)\n",
    "prompt_embeddings = np.concatenate(prompt_embeddings, axis=0)"
   ]
  },
  {
   "cell_type": "code",
   "execution_count": 9,
   "id": "a4668043-0788-46ae-adc2-0984c17d8b8b",
   "metadata": {
    "tags": []
   },
   "outputs": [
    {
     "name": "stderr",
     "output_type": "stream",
     "text": [
      "100%|██████████| 20/20 [02:42<00:00,  8.13s/it]\n",
      "100%|██████████| 20/20 [02:47<00:00,  8.37s/it]\n"
     ]
    },
    {
     "data": {
      "text/plain": [
       "1"
      ]
     },
     "execution_count": 9,
     "metadata": {},
     "output_type": "execute_result"
    }
   ],
   "source": [
    "sentence_index = read_index(\"./wiki_index/blend_base_index_part1.bin\")\n",
    "scores1, indexs1 = [], []\n",
    "subarrays = np.array_split(prompt_embeddings, 20)\n",
    "for item in tqdm(subarrays):\n",
    "    search_score, search_index = sentence_index.search(item, 1000)\n",
    "    scores1.append(search_score)\n",
    "    indexs1.append(search_index)\n",
    "del sentence_index\n",
    "_ = gc.collect()\n",
    "libc.malloc_trim(0)\n",
    "sentence_index = read_index(\"./wiki_index/blend_base_index_part2.bin\")\n",
    "scores2, indexs2 = [], []\n",
    "for item in tqdm(subarrays):\n",
    "    search_score, search_index = sentence_index.search(item, 1000)\n",
    "    scores2.append(search_score)\n",
    "    indexs2.append(search_index)\n",
    "del sentence_index\n",
    "_ = gc.collect()\n",
    "libc.malloc_trim(0)"
   ]
  },
  {
   "cell_type": "code",
   "execution_count": 10,
   "id": "251063ab-f465-4001-9f33-f20d1eb59ef7",
   "metadata": {
    "tags": []
   },
   "outputs": [],
   "source": [
    "scores1 = np.concatenate(scores1, axis=0)\n",
    "scores2 = np.concatenate(scores2, axis=0)\n",
    "indexs1 = np.concatenate(indexs1, axis=0)\n",
    "indexs2 = np.concatenate(indexs2, axis=0)"
   ]
  },
  {
   "cell_type": "code",
   "execution_count": 11,
   "id": "b69be2ed-c665-4d56-a7db-0312277ac25a",
   "metadata": {
    "tags": []
   },
   "outputs": [
    {
     "name": "stderr",
     "output_type": "stream",
     "text": [
      "100%|██████████| 78008/78008 [02:05<00:00, 620.78it/s] \n"
     ]
    }
   ],
   "source": [
    "search_index = []\n",
    "for i in tqdm(range(len(trn))):\n",
    "    s1, i1 = scores1[i], indexs1[i]\n",
    "    s2, i2 = scores2[i], indexs2[i]\n",
    "    tmp = []\n",
    "    for s, i in zip(s1, i1):\n",
    "        tmp.append([s, i])\n",
    "    for s, i in zip(s2, i2):\n",
    "        tmp.append([s, i + 3099999])\n",
    "    tmp = sorted(tmp, key=lambda x : x[0],reverse=True)\n",
    "    tmp = tmp[:1000]\n",
    "    search_index.append([item[1] for item in tmp])"
   ]
  },
  {
   "cell_type": "code",
   "execution_count": 12,
   "id": "c34e0944-5ef3-41c3-9f81-5f5d8e031f47",
   "metadata": {
    "tags": []
   },
   "outputs": [
    {
     "data": {
      "text/plain": [
       "78008"
      ]
     },
     "execution_count": 12,
     "metadata": {},
     "output_type": "execute_result"
    }
   ],
   "source": [
    "len(search_index)"
   ]
  },
  {
   "cell_type": "code",
   "execution_count": 13,
   "id": "e75b362a-532c-46fb-be0c-d247c389e244",
   "metadata": {
    "tags": []
   },
   "outputs": [],
   "source": [
    "trn['Top1000'] = search_index"
   ]
  },
  {
   "cell_type": "code",
   "execution_count": 14,
   "id": "6f898774-959d-40a6-85cc-896fc3b61eb6",
   "metadata": {
    "tags": []
   },
   "outputs": [
    {
     "data": {
      "text/html": [
       "<div>\n",
       "<style scoped>\n",
       "    .dataframe tbody tr th:only-of-type {\n",
       "        vertical-align: middle;\n",
       "    }\n",
       "\n",
       "    .dataframe tbody tr th {\n",
       "        vertical-align: top;\n",
       "    }\n",
       "\n",
       "    .dataframe thead th {\n",
       "        text-align: right;\n",
       "    }\n",
       "</style>\n",
       "<table border=\"1\" class=\"dataframe\">\n",
       "  <thead>\n",
       "    <tr style=\"text-align: right;\">\n",
       "      <th></th>\n",
       "      <th>Unnamed: 0</th>\n",
       "      <th>id</th>\n",
       "      <th>prompt</th>\n",
       "      <th>A</th>\n",
       "      <th>B</th>\n",
       "      <th>C</th>\n",
       "      <th>D</th>\n",
       "      <th>E</th>\n",
       "      <th>answer</th>\n",
       "      <th>wiki_text</th>\n",
       "      <th>page_id</th>\n",
       "      <th>page_title</th>\n",
       "      <th>stem_label</th>\n",
       "      <th>prompt_answer</th>\n",
       "      <th>Top1000</th>\n",
       "    </tr>\n",
       "  </thead>\n",
       "  <tbody>\n",
       "    <tr>\n",
       "      <th>0</th>\n",
       "      <td>0</td>\n",
       "      <td>0</td>\n",
       "      <td>What does the nullity of a graph in graph theo...</td>\n",
       "      <td>The number of vertices in the graph</td>\n",
       "      <td>The number of edges in the graph</td>\n",
       "      <td>The rank of the adjacency matrix</td>\n",
       "      <td>The multiplicity of the eigenvalue 0 in the sp...</td>\n",
       "      <td>The number of components of the graph</td>\n",
       "      <td>D</td>\n",
       "      <td>The nullity of a graph in the mathematical sub...</td>\n",
       "      <td>17458663</td>\n",
       "      <td>Nullity (graph theory)</td>\n",
       "      <td>M</td>\n",
       "      <td>What does the nullity of a graph in graph theo...</td>\n",
       "      <td>[3876952, 4778094, 74006, 3554666, 3876892, 38...</td>\n",
       "    </tr>\n",
       "    <tr>\n",
       "      <th>1</th>\n",
       "      <td>1</td>\n",
       "      <td>1</td>\n",
       "      <td>In the matrix theory of graphs, what is the nu...</td>\n",
       "      <td>n − r</td>\n",
       "      <td>m − n + c</td>\n",
       "      <td>n − c</td>\n",
       "      <td>The nullity of the graph</td>\n",
       "      <td>The number of components of the graph</td>\n",
       "      <td>A</td>\n",
       "      <td>The nullity of a graph in the mathematical sub...</td>\n",
       "      <td>17458663</td>\n",
       "      <td>Nullity (graph theory)</td>\n",
       "      <td>M</td>\n",
       "      <td>In the matrix theory of graphs, what is the nu...</td>\n",
       "      <td>[3876952, 4778094, 74006, 3554666, 74004, 1993...</td>\n",
       "    </tr>\n",
       "    <tr>\n",
       "      <th>2</th>\n",
       "      <td>2</td>\n",
       "      <td>2</td>\n",
       "      <td>Which term is more commonly used to refer to t...</td>\n",
       "      <td>Nullity of the adjacency matrix</td>\n",
       "      <td>Multiplicity of the eigenvalue 0</td>\n",
       "      <td>Cycle rank</td>\n",
       "      <td>Cyclomatic number</td>\n",
       "      <td>Circuit rank</td>\n",
       "      <td>C</td>\n",
       "      <td>The nullity of a graph in the mathematical sub...</td>\n",
       "      <td>17458663</td>\n",
       "      <td>Nullity (graph theory)</td>\n",
       "      <td>M</td>\n",
       "      <td>Which term is more commonly used to refer to t...</td>\n",
       "      <td>[3876952, 4778094, 1015508, 592872, 610861, 74...</td>\n",
       "    </tr>\n",
       "    <tr>\n",
       "      <th>3</th>\n",
       "      <td>3</td>\n",
       "      <td>3</td>\n",
       "      <td>What is the formula for calculating the nullit...</td>\n",
       "      <td>n − r</td>\n",
       "      <td>m − n + c</td>\n",
       "      <td>n − c</td>\n",
       "      <td>The nullity of the graph</td>\n",
       "      <td>The number of components of the graph</td>\n",
       "      <td>B</td>\n",
       "      <td>The nullity of a graph in the mathematical sub...</td>\n",
       "      <td>17458663</td>\n",
       "      <td>Nullity (graph theory)</td>\n",
       "      <td>M</td>\n",
       "      <td>What is the formula for calculating the nullit...</td>\n",
       "      <td>[3876952, 4778094, 1993693, 3418262, 3418253, ...</td>\n",
       "    </tr>\n",
       "    <tr>\n",
       "      <th>4</th>\n",
       "      <td>4</td>\n",
       "      <td>4</td>\n",
       "      <td>What can the nullity of the graph represent in...</td>\n",
       "      <td>The number of vertices in the graph</td>\n",
       "      <td>The number of edges in the graph</td>\n",
       "      <td>The rank of the adjacency matrix</td>\n",
       "      <td>The number of components of the graph</td>\n",
       "      <td>The rank of the oriented incidence matrix</td>\n",
       "      <td>E</td>\n",
       "      <td>The nullity of a graph in the mathematical sub...</td>\n",
       "      <td>17458663</td>\n",
       "      <td>Nullity (graph theory)</td>\n",
       "      <td>M</td>\n",
       "      <td>What can the nullity of the graph represent in...</td>\n",
       "      <td>[3876952, 4778094, 5317850, 3418253, 74006, 34...</td>\n",
       "    </tr>\n",
       "  </tbody>\n",
       "</table>\n",
       "</div>"
      ],
      "text/plain": [
       "   Unnamed: 0  id                                             prompt  \\\n",
       "0           0   0  What does the nullity of a graph in graph theo...   \n",
       "1           1   1  In the matrix theory of graphs, what is the nu...   \n",
       "2           2   2  Which term is more commonly used to refer to t...   \n",
       "3           3   3  What is the formula for calculating the nullit...   \n",
       "4           4   4  What can the nullity of the graph represent in...   \n",
       "\n",
       "                                     A                                 B  \\\n",
       "0  The number of vertices in the graph  The number of edges in the graph   \n",
       "1                                n − r                         m − n + c   \n",
       "2      Nullity of the adjacency matrix  Multiplicity of the eigenvalue 0   \n",
       "3                                n − r                         m − n + c   \n",
       "4  The number of vertices in the graph  The number of edges in the graph   \n",
       "\n",
       "                                  C  \\\n",
       "0  The rank of the adjacency matrix   \n",
       "1                             n − c   \n",
       "2                        Cycle rank   \n",
       "3                             n − c   \n",
       "4  The rank of the adjacency matrix   \n",
       "\n",
       "                                                   D  \\\n",
       "0  The multiplicity of the eigenvalue 0 in the sp...   \n",
       "1                           The nullity of the graph   \n",
       "2                                  Cyclomatic number   \n",
       "3                           The nullity of the graph   \n",
       "4              The number of components of the graph   \n",
       "\n",
       "                                           E answer  \\\n",
       "0      The number of components of the graph      D   \n",
       "1      The number of components of the graph      A   \n",
       "2                               Circuit rank      C   \n",
       "3      The number of components of the graph      B   \n",
       "4  The rank of the oriented incidence matrix      E   \n",
       "\n",
       "                                           wiki_text   page_id  \\\n",
       "0  The nullity of a graph in the mathematical sub...  17458663   \n",
       "1  The nullity of a graph in the mathematical sub...  17458663   \n",
       "2  The nullity of a graph in the mathematical sub...  17458663   \n",
       "3  The nullity of a graph in the mathematical sub...  17458663   \n",
       "4  The nullity of a graph in the mathematical sub...  17458663   \n",
       "\n",
       "               page_title stem_label  \\\n",
       "0  Nullity (graph theory)          M   \n",
       "1  Nullity (graph theory)          M   \n",
       "2  Nullity (graph theory)          M   \n",
       "3  Nullity (graph theory)          M   \n",
       "4  Nullity (graph theory)          M   \n",
       "\n",
       "                                       prompt_answer  \\\n",
       "0  What does the nullity of a graph in graph theo...   \n",
       "1  In the matrix theory of graphs, what is the nu...   \n",
       "2  Which term is more commonly used to refer to t...   \n",
       "3  What is the formula for calculating the nullit...   \n",
       "4  What can the nullity of the graph represent in...   \n",
       "\n",
       "                                             Top1000  \n",
       "0  [3876952, 4778094, 74006, 3554666, 3876892, 38...  \n",
       "1  [3876952, 4778094, 74006, 3554666, 74004, 1993...  \n",
       "2  [3876952, 4778094, 1015508, 592872, 610861, 74...  \n",
       "3  [3876952, 4778094, 1993693, 3418262, 3418253, ...  \n",
       "4  [3876952, 4778094, 5317850, 3418253, 74006, 34...  "
      ]
     },
     "execution_count": 14,
     "metadata": {},
     "output_type": "execute_result"
    }
   ],
   "source": [
    "trn.head()"
   ]
  },
  {
   "cell_type": "code",
   "execution_count": 15,
   "id": "18f05377-2840-4cd7-b473-edcb00e51c81",
   "metadata": {
    "tags": []
   },
   "outputs": [],
   "source": [
    "trn = trn[['prompt','A','B','C','D','E','answer','page_id','page_title','Top1000']]"
   ]
  },
  {
   "cell_type": "code",
   "execution_count": 19,
   "id": "f499fabd-d403-4229-908b-dbef3a592ba4",
   "metadata": {
    "tags": []
   },
   "outputs": [],
   "source": [
    "import pickle as pkl\n",
    "with open('./tmp/7w_Top1000.pkl','rb') as f:\n",
    "    data = pkl.load(f)"
   ]
  },
  {
   "cell_type": "code",
   "execution_count": 21,
   "id": "a27c6f13-f233-416d-bec4-5b0239446fe4",
   "metadata": {
    "tags": []
   },
   "outputs": [
    {
     "data": {
      "text/plain": [
       "(78008, 10)"
      ]
     },
     "execution_count": 21,
     "metadata": {},
     "output_type": "execute_result"
    }
   ],
   "source": [
    "data.shape"
   ]
  },
  {
   "cell_type": "code",
   "execution_count": 1,
   "id": "00ae69f7-0d93-4599-9d22-2876caf7ff81",
   "metadata": {},
   "outputs": [],
   "source": [
    "from datasets import load_from_disk\n",
    "data1 = load_from_disk(\"./small_wiki_data_base\")\n",
    "data1 = data1.to_pandas()\n",
    "data1.to_parquet('./small_wiki_data_base/data.parquet')"
   ]
  },
  {
   "cell_type": "code",
   "execution_count": 3,
   "id": "79271027-01bb-4202-893b-890bb8172641",
   "metadata": {
    "tags": []
   },
   "outputs": [
    {
     "data": {
      "text/html": [
       "<div>\n",
       "<style scoped>\n",
       "    .dataframe tbody tr th:only-of-type {\n",
       "        vertical-align: middle;\n",
       "    }\n",
       "\n",
       "    .dataframe tbody tr th {\n",
       "        vertical-align: top;\n",
       "    }\n",
       "\n",
       "    .dataframe thead th {\n",
       "        text-align: right;\n",
       "    }\n",
       "</style>\n",
       "<table border=\"1\" class=\"dataframe\">\n",
       "  <thead>\n",
       "    <tr style=\"text-align: right;\">\n",
       "      <th></th>\n",
       "      <th>id</th>\n",
       "      <th>title</th>\n",
       "      <th>text</th>\n",
       "      <th>url</th>\n",
       "      <th>wiki_id</th>\n",
       "      <th>views</th>\n",
       "      <th>paragraph_id</th>\n",
       "      <th>langs</th>\n",
       "    </tr>\n",
       "  </thead>\n",
       "  <tbody>\n",
       "    <tr>\n",
       "      <th>0</th>\n",
       "      <td>5443</td>\n",
       "      <td>Google Translate</td>\n",
       "      <td>Google Translate is a multilingual neural mach...</td>\n",
       "      <td>https://en.wikipedia.org/wiki?curid=3235536</td>\n",
       "      <td>3235536</td>\n",
       "      <td>4305.652832</td>\n",
       "      <td>0</td>\n",
       "      <td>97</td>\n",
       "    </tr>\n",
       "    <tr>\n",
       "      <th>1</th>\n",
       "      <td>5444</td>\n",
       "      <td>Google Translate</td>\n",
       "      <td>Launched in April 2006 as a statistical machin...</td>\n",
       "      <td>https://en.wikipedia.org/wiki?curid=3235536</td>\n",
       "      <td>3235536</td>\n",
       "      <td>4305.652832</td>\n",
       "      <td>1</td>\n",
       "      <td>97</td>\n",
       "    </tr>\n",
       "    <tr>\n",
       "      <th>2</th>\n",
       "      <td>5445</td>\n",
       "      <td>Google Translate</td>\n",
       "      <td>Google Translate is a web-based free-to-user t...</td>\n",
       "      <td>https://en.wikipedia.org/wiki?curid=3235536</td>\n",
       "      <td>3235536</td>\n",
       "      <td>4305.652832</td>\n",
       "      <td>2</td>\n",
       "      <td>97</td>\n",
       "    </tr>\n",
       "    <tr>\n",
       "      <th>3</th>\n",
       "      <td>5446</td>\n",
       "      <td>Google Translate</td>\n",
       "      <td>Originally, Google Translate was released as a...</td>\n",
       "      <td>https://en.wikipedia.org/wiki?curid=3235536</td>\n",
       "      <td>3235536</td>\n",
       "      <td>4305.652832</td>\n",
       "      <td>3</td>\n",
       "      <td>97</td>\n",
       "    </tr>\n",
       "    <tr>\n",
       "      <th>4</th>\n",
       "      <td>5447</td>\n",
       "      <td>Google Translate</td>\n",
       "      <td>In January 2010, Google introduced an Android ...</td>\n",
       "      <td>https://en.wikipedia.org/wiki?curid=3235536</td>\n",
       "      <td>3235536</td>\n",
       "      <td>4305.652832</td>\n",
       "      <td>4</td>\n",
       "      <td>97</td>\n",
       "    </tr>\n",
       "  </tbody>\n",
       "</table>\n",
       "</div>"
      ],
      "text/plain": [
       "     id             title                                               text  \\\n",
       "0  5443  Google Translate  Google Translate is a multilingual neural mach...   \n",
       "1  5444  Google Translate  Launched in April 2006 as a statistical machin...   \n",
       "2  5445  Google Translate  Google Translate is a web-based free-to-user t...   \n",
       "3  5446  Google Translate  Originally, Google Translate was released as a...   \n",
       "4  5447  Google Translate  In January 2010, Google introduced an Android ...   \n",
       "\n",
       "                                           url  wiki_id        views  \\\n",
       "0  https://en.wikipedia.org/wiki?curid=3235536  3235536  4305.652832   \n",
       "1  https://en.wikipedia.org/wiki?curid=3235536  3235536  4305.652832   \n",
       "2  https://en.wikipedia.org/wiki?curid=3235536  3235536  4305.652832   \n",
       "3  https://en.wikipedia.org/wiki?curid=3235536  3235536  4305.652832   \n",
       "4  https://en.wikipedia.org/wiki?curid=3235536  3235536  4305.652832   \n",
       "\n",
       "   paragraph_id  langs  \n",
       "0             0     97  \n",
       "1             1     97  \n",
       "2             2     97  \n",
       "3             3     97  \n",
       "4             4     97  "
      ]
     },
     "execution_count": 3,
     "metadata": {},
     "output_type": "execute_result"
    }
   ],
   "source": [
    "data1.head()"
   ]
  },
  {
   "cell_type": "code",
   "execution_count": 2,
   "id": "202e4d01-606e-4fb5-8fb2-e3058e8225e5",
   "metadata": {
    "tags": []
   },
   "outputs": [],
   "source": [
    "data2 = load_from_disk('./small_wiki_data')"
   ]
  },
  {
   "cell_type": "code",
   "execution_count": 3,
   "id": "73a01b21-c2a4-4c6d-8b4f-851f2b5af72b",
   "metadata": {
    "tags": []
   },
   "outputs": [
    {
     "data": {
      "text/plain": [
       "276558"
      ]
     },
     "execution_count": 3,
     "metadata": {},
     "output_type": "execute_result"
    }
   ],
   "source": [
    "len(set(data1['title']) & set(data2['title']))"
   ]
  },
  {
   "cell_type": "code",
   "execution_count": 4,
   "id": "d17b602c-18e1-4ac2-91db-3a27ace9b823",
   "metadata": {
    "tags": []
   },
   "outputs": [],
   "source": [
    "data1 = data1.to_pandas()\n",
    "data2 = data2.to_pandas()"
   ]
  },
  {
   "cell_type": "code",
   "execution_count": 13,
   "id": "507b2357-29ea-4fc3-b21f-9de7ee9821f7",
   "metadata": {
    "tags": []
   },
   "outputs": [
    {
     "data": {
      "text/plain": [
       "(277046,)"
      ]
     },
     "execution_count": 13,
     "metadata": {},
     "output_type": "execute_result"
    }
   ],
   "source": [
    "data1['title'].unique().shape"
   ]
  },
  {
   "cell_type": "code",
   "execution_count": 14,
   "id": "ec8b4aac-f385-40fd-a71f-e3a6634678cc",
   "metadata": {
    "tags": []
   },
   "outputs": [
    {
     "data": {
      "text/plain": [
       "(276559,)"
      ]
     },
     "execution_count": 14,
     "metadata": {},
     "output_type": "execute_result"
    }
   ],
   "source": [
    "data2['title'].unique().shape"
   ]
  },
  {
   "cell_type": "code",
   "execution_count": 10,
   "id": "153204b9-0972-42c0-9ede-1e4aded97dcd",
   "metadata": {
    "tags": []
   },
   "outputs": [
    {
     "name": "stdout",
     "output_type": "stream",
     "text": [
      "277046\n",
      "6286775\n",
      "264053\n"
     ]
    }
   ],
   "source": [
    "print(len(s))\n",
    "print(len(t))\n",
    "print(len(s & t))"
   ]
  },
  {
   "cell_type": "code",
   "execution_count": 11,
   "id": "ceb7a0bd-7589-46f1-9498-2e546b0204d0",
   "metadata": {
    "tags": []
   },
   "outputs": [],
   "source": [
    "data = data.to_pandas()"
   ]
  },
  {
   "cell_type": "code",
   "execution_count": 5,
   "id": "e31e1dc7-0002-41c4-929a-1accaced4c32",
   "metadata": {
    "tags": []
   },
   "outputs": [
    {
     "data": {
      "text/html": [
       "<div>\n",
       "<style scoped>\n",
       "    .dataframe tbody tr th:only-of-type {\n",
       "        vertical-align: middle;\n",
       "    }\n",
       "\n",
       "    .dataframe tbody tr th {\n",
       "        vertical-align: top;\n",
       "    }\n",
       "\n",
       "    .dataframe thead th {\n",
       "        text-align: right;\n",
       "    }\n",
       "</style>\n",
       "<table border=\"1\" class=\"dataframe\">\n",
       "  <thead>\n",
       "    <tr style=\"text-align: right;\">\n",
       "      <th></th>\n",
       "      <th>Unnamed: 0</th>\n",
       "      <th>id</th>\n",
       "      <th>prompt</th>\n",
       "      <th>A</th>\n",
       "      <th>B</th>\n",
       "      <th>C</th>\n",
       "      <th>D</th>\n",
       "      <th>E</th>\n",
       "      <th>answer</th>\n",
       "      <th>wiki_text</th>\n",
       "      <th>page_id</th>\n",
       "      <th>page_title</th>\n",
       "      <th>stem_label</th>\n",
       "      <th>prompt_answer</th>\n",
       "    </tr>\n",
       "  </thead>\n",
       "  <tbody>\n",
       "    <tr>\n",
       "      <th>0</th>\n",
       "      <td>0</td>\n",
       "      <td>0</td>\n",
       "      <td>What does the nullity of a graph in graph theo...</td>\n",
       "      <td>The number of vertices in the graph</td>\n",
       "      <td>The number of edges in the graph</td>\n",
       "      <td>The rank of the adjacency matrix</td>\n",
       "      <td>The multiplicity of the eigenvalue 0 in the sp...</td>\n",
       "      <td>The number of components of the graph</td>\n",
       "      <td>D</td>\n",
       "      <td>The nullity of a graph in the mathematical sub...</td>\n",
       "      <td>17458663</td>\n",
       "      <td>Nullity (graph theory)</td>\n",
       "      <td>M</td>\n",
       "      <td>What does the nullity of a graph in graph theo...</td>\n",
       "    </tr>\n",
       "    <tr>\n",
       "      <th>1</th>\n",
       "      <td>1</td>\n",
       "      <td>1</td>\n",
       "      <td>In the matrix theory of graphs, what is the nu...</td>\n",
       "      <td>n − r</td>\n",
       "      <td>m − n + c</td>\n",
       "      <td>n − c</td>\n",
       "      <td>The nullity of the graph</td>\n",
       "      <td>The number of components of the graph</td>\n",
       "      <td>A</td>\n",
       "      <td>The nullity of a graph in the mathematical sub...</td>\n",
       "      <td>17458663</td>\n",
       "      <td>Nullity (graph theory)</td>\n",
       "      <td>M</td>\n",
       "      <td>In the matrix theory of graphs, what is the nu...</td>\n",
       "    </tr>\n",
       "    <tr>\n",
       "      <th>2</th>\n",
       "      <td>2</td>\n",
       "      <td>2</td>\n",
       "      <td>Which term is more commonly used to refer to t...</td>\n",
       "      <td>Nullity of the adjacency matrix</td>\n",
       "      <td>Multiplicity of the eigenvalue 0</td>\n",
       "      <td>Cycle rank</td>\n",
       "      <td>Cyclomatic number</td>\n",
       "      <td>Circuit rank</td>\n",
       "      <td>C</td>\n",
       "      <td>The nullity of a graph in the mathematical sub...</td>\n",
       "      <td>17458663</td>\n",
       "      <td>Nullity (graph theory)</td>\n",
       "      <td>M</td>\n",
       "      <td>Which term is more commonly used to refer to t...</td>\n",
       "    </tr>\n",
       "    <tr>\n",
       "      <th>3</th>\n",
       "      <td>3</td>\n",
       "      <td>3</td>\n",
       "      <td>What is the formula for calculating the nullit...</td>\n",
       "      <td>n − r</td>\n",
       "      <td>m − n + c</td>\n",
       "      <td>n − c</td>\n",
       "      <td>The nullity of the graph</td>\n",
       "      <td>The number of components of the graph</td>\n",
       "      <td>B</td>\n",
       "      <td>The nullity of a graph in the mathematical sub...</td>\n",
       "      <td>17458663</td>\n",
       "      <td>Nullity (graph theory)</td>\n",
       "      <td>M</td>\n",
       "      <td>What is the formula for calculating the nullit...</td>\n",
       "    </tr>\n",
       "    <tr>\n",
       "      <th>4</th>\n",
       "      <td>4</td>\n",
       "      <td>4</td>\n",
       "      <td>What can the nullity of the graph represent in...</td>\n",
       "      <td>The number of vertices in the graph</td>\n",
       "      <td>The number of edges in the graph</td>\n",
       "      <td>The rank of the adjacency matrix</td>\n",
       "      <td>The number of components of the graph</td>\n",
       "      <td>The rank of the oriented incidence matrix</td>\n",
       "      <td>E</td>\n",
       "      <td>The nullity of a graph in the mathematical sub...</td>\n",
       "      <td>17458663</td>\n",
       "      <td>Nullity (graph theory)</td>\n",
       "      <td>M</td>\n",
       "      <td>What can the nullity of the graph represent in...</td>\n",
       "    </tr>\n",
       "  </tbody>\n",
       "</table>\n",
       "</div>"
      ],
      "text/plain": [
       "   Unnamed: 0  id                                             prompt  \\\n",
       "0           0   0  What does the nullity of a graph in graph theo...   \n",
       "1           1   1  In the matrix theory of graphs, what is the nu...   \n",
       "2           2   2  Which term is more commonly used to refer to t...   \n",
       "3           3   3  What is the formula for calculating the nullit...   \n",
       "4           4   4  What can the nullity of the graph represent in...   \n",
       "\n",
       "                                     A                                 B  \\\n",
       "0  The number of vertices in the graph  The number of edges in the graph   \n",
       "1                                n − r                         m − n + c   \n",
       "2      Nullity of the adjacency matrix  Multiplicity of the eigenvalue 0   \n",
       "3                                n − r                         m − n + c   \n",
       "4  The number of vertices in the graph  The number of edges in the graph   \n",
       "\n",
       "                                  C  \\\n",
       "0  The rank of the adjacency matrix   \n",
       "1                             n − c   \n",
       "2                        Cycle rank   \n",
       "3                             n − c   \n",
       "4  The rank of the adjacency matrix   \n",
       "\n",
       "                                                   D  \\\n",
       "0  The multiplicity of the eigenvalue 0 in the sp...   \n",
       "1                           The nullity of the graph   \n",
       "2                                  Cyclomatic number   \n",
       "3                           The nullity of the graph   \n",
       "4              The number of components of the graph   \n",
       "\n",
       "                                           E answer  \\\n",
       "0      The number of components of the graph      D   \n",
       "1      The number of components of the graph      A   \n",
       "2                               Circuit rank      C   \n",
       "3      The number of components of the graph      B   \n",
       "4  The rank of the oriented incidence matrix      E   \n",
       "\n",
       "                                           wiki_text   page_id  \\\n",
       "0  The nullity of a graph in the mathematical sub...  17458663   \n",
       "1  The nullity of a graph in the mathematical sub...  17458663   \n",
       "2  The nullity of a graph in the mathematical sub...  17458663   \n",
       "3  The nullity of a graph in the mathematical sub...  17458663   \n",
       "4  The nullity of a graph in the mathematical sub...  17458663   \n",
       "\n",
       "               page_title stem_label  \\\n",
       "0  Nullity (graph theory)          M   \n",
       "1  Nullity (graph theory)          M   \n",
       "2  Nullity (graph theory)          M   \n",
       "3  Nullity (graph theory)          M   \n",
       "4  Nullity (graph theory)          M   \n",
       "\n",
       "                                       prompt_answer  \n",
       "0  What does the nullity of a graph in graph theo...  \n",
       "1  In the matrix theory of graphs, what is the nu...  \n",
       "2  Which term is more commonly used to refer to t...  \n",
       "3  What is the formula for calculating the nullit...  \n",
       "4  What can the nullity of the graph represent in...  "
      ]
     },
     "execution_count": 5,
     "metadata": {},
     "output_type": "execute_result"
    }
   ],
   "source": [
    "import pandas as pd\n",
    "trn = pd.read_csv('./data/7w8_crawl_dataset.csv')\n",
    "trn.head()"
   ]
  },
  {
   "cell_type": "code",
   "execution_count": 6,
   "id": "089999b1-f923-4097-bba2-eb848bf87e39",
   "metadata": {
    "tags": []
   },
   "outputs": [],
   "source": [
    "s = set(data1['wiki_id'].tolist())"
   ]
  },
  {
   "cell_type": "code",
   "execution_count": 7,
   "id": "62b54a35-0edb-4df8-99a9-e94fe56b5436",
   "metadata": {
    "tags": []
   },
   "outputs": [],
   "source": [
    "trn[trn['page_id'].apply(lambda x : x in s)].reset_index(drop=True).to_csv('./tmp/4w.csv')"
   ]
  },
  {
   "cell_type": "code",
   "execution_count": 6,
   "id": "b10b7716-c5ec-4103-93b9-c5ab51e92766",
   "metadata": {
    "tags": []
   },
   "outputs": [
    {
     "data": {
      "text/plain": [
       "(276559,)"
      ]
     },
     "execution_count": 6,
     "metadata": {},
     "output_type": "execute_result"
    }
   ],
   "source": [
    "data['title'].unique().shape"
   ]
  },
  {
   "cell_type": "code",
   "execution_count": 7,
   "id": "1044725e-38aa-471e-a450-9872c0170f57",
   "metadata": {
    "tags": []
   },
   "outputs": [
    {
     "data": {
      "text/plain": [
       "'Russell Epstein is a professor of psychology at the University of Pennsylvania, who studies neural mechanisms underlying visual scene perception, event perception, object recognition, and spatial navigation in humans. His lab studies the role of the Parahippocampal and retrosplenial cortices in determining how people orient themselves relative to their surroundings.'"
      ]
     },
     "execution_count": 7,
     "metadata": {},
     "output_type": "execute_result"
    }
   ],
   "source": [
    "data.loc[0, 'text']"
   ]
  },
  {
   "cell_type": "code",
   "execution_count": 8,
   "id": "c167284c-652a-4bc1-a7cb-2a0a68598716",
   "metadata": {
    "tags": []
   },
   "outputs": [
    {
     "data": {
      "text/plain": [
       "'Epstein received an undergraduate degree in physics at the University of Chicago and a Ph.D. in computer vision with Alan Yuille at Harvard.'"
      ]
     },
     "execution_count": 8,
     "metadata": {},
     "output_type": "execute_result"
    }
   ],
   "source": [
    "data.loc[1,'text']"
   ]
  },
  {
   "cell_type": "code",
   "execution_count": 9,
   "id": "2a98451a-4b9c-47a2-ae5a-533a2ef7e14b",
   "metadata": {
    "tags": []
   },
   "outputs": [],
   "source": [
    "data.to_parquet('./small_wiki_data/data.parquet')"
   ]
  },
  {
   "cell_type": "code",
   "execution_count": 2,
   "id": "219d4cea-341f-4b14-af09-e4f40f04fddf",
   "metadata": {},
   "outputs": [
    {
     "name": "stdout",
     "output_type": "stream",
     "text": [
      "0\n"
     ]
    },
    {
     "data": {
      "application/vnd.jupyter.widget-view+json": {
       "model_id": "543dcde3f7e646bd8644f70c7d5b377b",
       "version_major": 2,
       "version_minor": 0
      },
      "text/plain": [
       "  0%|          | 0/104779 [00:00<?, ?it/s]"
      ]
     },
     "metadata": {},
     "output_type": "display_data"
    },
    {
     "name": "stdout",
     "output_type": "stream",
     "text": [
      "1\n"
     ]
    },
    {
     "data": {
      "application/vnd.jupyter.widget-view+json": {
       "model_id": "faf00edc93584c949b1a3d7c5dbb2257",
       "version_major": 2,
       "version_minor": 0
      },
      "text/plain": [
       "  0%|          | 0/104779 [00:00<?, ?it/s]"
      ]
     },
     "metadata": {},
     "output_type": "display_data"
    },
    {
     "name": "stdout",
     "output_type": "stream",
     "text": [
      "2\n"
     ]
    },
    {
     "data": {
      "application/vnd.jupyter.widget-view+json": {
       "model_id": "206cc0d5bff84d66a8169ba755feb1f9",
       "version_major": 2,
       "version_minor": 0
      },
      "text/plain": [
       "  0%|          | 0/104779 [00:00<?, ?it/s]"
      ]
     },
     "metadata": {},
     "output_type": "display_data"
    },
    {
     "name": "stdout",
     "output_type": "stream",
     "text": [
      "3\n"
     ]
    },
    {
     "data": {
      "application/vnd.jupyter.widget-view+json": {
       "model_id": "d25dde7b4a2741b9baa7be504e27630c",
       "version_major": 2,
       "version_minor": 0
      },
      "text/plain": [
       "  0%|          | 0/104779 [00:00<?, ?it/s]"
      ]
     },
     "metadata": {},
     "output_type": "display_data"
    },
    {
     "name": "stdout",
     "output_type": "stream",
     "text": [
      "4\n"
     ]
    },
    {
     "data": {
      "application/vnd.jupyter.widget-view+json": {
       "model_id": "7699d4465da145cfbf67d81c81a8fb76",
       "version_major": 2,
       "version_minor": 0
      },
      "text/plain": [
       "  0%|          | 0/104779 [00:00<?, ?it/s]"
      ]
     },
     "metadata": {},
     "output_type": "display_data"
    },
    {
     "name": "stdout",
     "output_type": "stream",
     "text": [
      "5\n"
     ]
    },
    {
     "data": {
      "application/vnd.jupyter.widget-view+json": {
       "model_id": "1ec16c2319844e8c885d87c0447df5a3",
       "version_major": 2,
       "version_minor": 0
      },
      "text/plain": [
       "  0%|          | 0/104779 [00:00<?, ?it/s]"
      ]
     },
     "metadata": {},
     "output_type": "display_data"
    },
    {
     "name": "stdout",
     "output_type": "stream",
     "text": [
      "6\n"
     ]
    },
    {
     "data": {
      "application/vnd.jupyter.widget-view+json": {
       "model_id": "73e85fdd178940faaeda999cc086d735",
       "version_major": 2,
       "version_minor": 0
      },
      "text/plain": [
       "  0%|          | 0/104779 [00:00<?, ?it/s]"
      ]
     },
     "metadata": {},
     "output_type": "display_data"
    },
    {
     "name": "stdout",
     "output_type": "stream",
     "text": [
      "7\n"
     ]
    },
    {
     "data": {
      "application/vnd.jupyter.widget-view+json": {
       "model_id": "d5d6164f6a874cf1a2980ae7796f19eb",
       "version_major": 2,
       "version_minor": 0
      },
      "text/plain": [
       "  0%|          | 0/104779 [00:00<?, ?it/s]"
      ]
     },
     "metadata": {},
     "output_type": "display_data"
    },
    {
     "name": "stdout",
     "output_type": "stream",
     "text": [
      "8\n"
     ]
    },
    {
     "data": {
      "application/vnd.jupyter.widget-view+json": {
       "model_id": "f70b60730a6440b99812b601cc0509c9",
       "version_major": 2,
       "version_minor": 0
      },
      "text/plain": [
       "  0%|          | 0/104779 [00:00<?, ?it/s]"
      ]
     },
     "metadata": {},
     "output_type": "display_data"
    },
    {
     "name": "stdout",
     "output_type": "stream",
     "text": [
      "9\n"
     ]
    },
    {
     "data": {
      "application/vnd.jupyter.widget-view+json": {
       "model_id": "21c77481045a439482a8dc0ae2ac2569",
       "version_major": 2,
       "version_minor": 0
      },
      "text/plain": [
       "  0%|          | 0/104779 [00:00<?, ?it/s]"
      ]
     },
     "metadata": {},
     "output_type": "display_data"
    },
    {
     "name": "stdout",
     "output_type": "stream",
     "text": [
      "10\n"
     ]
    },
    {
     "data": {
      "application/vnd.jupyter.widget-view+json": {
       "model_id": "3fc220b0fe0c47a8b3f873bc1f947b01",
       "version_major": 2,
       "version_minor": 0
      },
      "text/plain": [
       "  0%|          | 0/104779 [00:00<?, ?it/s]"
      ]
     },
     "metadata": {},
     "output_type": "display_data"
    },
    {
     "name": "stdout",
     "output_type": "stream",
     "text": [
      "11\n"
     ]
    },
    {
     "data": {
      "application/vnd.jupyter.widget-view+json": {
       "model_id": "b5b961e06903460ebeb924b380e17cab",
       "version_major": 2,
       "version_minor": 0
      },
      "text/plain": [
       "  0%|          | 0/104779 [00:00<?, ?it/s]"
      ]
     },
     "metadata": {},
     "output_type": "display_data"
    },
    {
     "name": "stdout",
     "output_type": "stream",
     "text": [
      "12\n"
     ]
    },
    {
     "data": {
      "application/vnd.jupyter.widget-view+json": {
       "model_id": "26479c3aeddb45bfb9fe2d96a2b83067",
       "version_major": 2,
       "version_minor": 0
      },
      "text/plain": [
       "  0%|          | 0/104779 [00:00<?, ?it/s]"
      ]
     },
     "metadata": {},
     "output_type": "display_data"
    },
    {
     "name": "stdout",
     "output_type": "stream",
     "text": [
      "13\n"
     ]
    },
    {
     "data": {
      "application/vnd.jupyter.widget-view+json": {
       "model_id": "dfd47a92300c4306817c7d7031d8234d",
       "version_major": 2,
       "version_minor": 0
      },
      "text/plain": [
       "  0%|          | 0/104779 [00:00<?, ?it/s]"
      ]
     },
     "metadata": {},
     "output_type": "display_data"
    },
    {
     "name": "stdout",
     "output_type": "stream",
     "text": [
      "14\n"
     ]
    },
    {
     "data": {
      "application/vnd.jupyter.widget-view+json": {
       "model_id": "96ab80f223d440c8a4c5ef9aadae31fa",
       "version_major": 2,
       "version_minor": 0
      },
      "text/plain": [
       "  0%|          | 0/104779 [00:00<?, ?it/s]"
      ]
     },
     "metadata": {},
     "output_type": "display_data"
    },
    {
     "name": "stdout",
     "output_type": "stream",
     "text": [
      "15\n"
     ]
    },
    {
     "data": {
      "application/vnd.jupyter.widget-view+json": {
       "model_id": "6c3442ba23c946cda1a9f3d7f562a7ce",
       "version_major": 2,
       "version_minor": 0
      },
      "text/plain": [
       "  0%|          | 0/104779 [00:00<?, ?it/s]"
      ]
     },
     "metadata": {},
     "output_type": "display_data"
    },
    {
     "name": "stdout",
     "output_type": "stream",
     "text": [
      "16\n"
     ]
    },
    {
     "data": {
      "application/vnd.jupyter.widget-view+json": {
       "model_id": "c166f79391364277aa7470c9b57a320b",
       "version_major": 2,
       "version_minor": 0
      },
      "text/plain": [
       "  0%|          | 0/104779 [00:00<?, ?it/s]"
      ]
     },
     "metadata": {},
     "output_type": "display_data"
    },
    {
     "name": "stdout",
     "output_type": "stream",
     "text": [
      "17\n"
     ]
    },
    {
     "data": {
      "application/vnd.jupyter.widget-view+json": {
       "model_id": "2e7015115e414cae8848ddd259f08bc3",
       "version_major": 2,
       "version_minor": 0
      },
      "text/plain": [
       "  0%|          | 0/104779 [00:00<?, ?it/s]"
      ]
     },
     "metadata": {},
     "output_type": "display_data"
    },
    {
     "name": "stdout",
     "output_type": "stream",
     "text": [
      "18\n"
     ]
    },
    {
     "data": {
      "application/vnd.jupyter.widget-view+json": {
       "model_id": "3eb13a8a8fe349c1ab2f61b3254e7cb4",
       "version_major": 2,
       "version_minor": 0
      },
      "text/plain": [
       "  0%|          | 0/104779 [00:00<?, ?it/s]"
      ]
     },
     "metadata": {},
     "output_type": "display_data"
    },
    {
     "name": "stdout",
     "output_type": "stream",
     "text": [
      "19\n"
     ]
    },
    {
     "data": {
      "application/vnd.jupyter.widget-view+json": {
       "model_id": "fd330b0bc98e4cad97e7a31f56e8e054",
       "version_major": 2,
       "version_minor": 0
      },
      "text/plain": [
       "  0%|          | 0/104779 [00:00<?, ?it/s]"
      ]
     },
     "metadata": {},
     "output_type": "display_data"
    },
    {
     "name": "stdout",
     "output_type": "stream",
     "text": [
      "20\n"
     ]
    },
    {
     "data": {
      "application/vnd.jupyter.widget-view+json": {
       "model_id": "978f5b7dcb584505bad9883f5339a4cb",
       "version_major": 2,
       "version_minor": 0
      },
      "text/plain": [
       "  0%|          | 0/104779 [00:00<?, ?it/s]"
      ]
     },
     "metadata": {},
     "output_type": "display_data"
    },
    {
     "name": "stdout",
     "output_type": "stream",
     "text": [
      "21\n"
     ]
    },
    {
     "data": {
      "application/vnd.jupyter.widget-view+json": {
       "model_id": "7f2407e4cd044b0eb74420191846a7a9",
       "version_major": 2,
       "version_minor": 0
      },
      "text/plain": [
       "  0%|          | 0/104779 [00:00<?, ?it/s]"
      ]
     },
     "metadata": {},
     "output_type": "display_data"
    },
    {
     "name": "stdout",
     "output_type": "stream",
     "text": [
      "22\n"
     ]
    },
    {
     "data": {
      "application/vnd.jupyter.widget-view+json": {
       "model_id": "743db913f22c49fd89b8a3613f54e516",
       "version_major": 2,
       "version_minor": 0
      },
      "text/plain": [
       "  0%|          | 0/104779 [00:00<?, ?it/s]"
      ]
     },
     "metadata": {},
     "output_type": "display_data"
    },
    {
     "name": "stdout",
     "output_type": "stream",
     "text": [
      "23\n"
     ]
    },
    {
     "data": {
      "application/vnd.jupyter.widget-view+json": {
       "model_id": "fb3b9d5a691042a9b63b034fa5c1914f",
       "version_major": 2,
       "version_minor": 0
      },
      "text/plain": [
       "  0%|          | 0/104779 [00:00<?, ?it/s]"
      ]
     },
     "metadata": {},
     "output_type": "display_data"
    },
    {
     "name": "stdout",
     "output_type": "stream",
     "text": [
      "24\n"
     ]
    },
    {
     "data": {
      "application/vnd.jupyter.widget-view+json": {
       "model_id": "70ac7a08356c40d1a3a792089303728b",
       "version_major": 2,
       "version_minor": 0
      },
      "text/plain": [
       "  0%|          | 0/104779 [00:00<?, ?it/s]"
      ]
     },
     "metadata": {},
     "output_type": "display_data"
    },
    {
     "name": "stdout",
     "output_type": "stream",
     "text": [
      "25\n"
     ]
    },
    {
     "data": {
      "application/vnd.jupyter.widget-view+json": {
       "model_id": "ce8b26ef9aef4bcd88e0d44aaac8c244",
       "version_major": 2,
       "version_minor": 0
      },
      "text/plain": [
       "  0%|          | 0/104779 [00:00<?, ?it/s]"
      ]
     },
     "metadata": {},
     "output_type": "display_data"
    },
    {
     "name": "stdout",
     "output_type": "stream",
     "text": [
      "26\n"
     ]
    },
    {
     "data": {
      "application/vnd.jupyter.widget-view+json": {
       "model_id": "4dbe366578f84ade86b8984cc60a40f3",
       "version_major": 2,
       "version_minor": 0
      },
      "text/plain": [
       "  0%|          | 0/104779 [00:00<?, ?it/s]"
      ]
     },
     "metadata": {},
     "output_type": "display_data"
    },
    {
     "name": "stdout",
     "output_type": "stream",
     "text": [
      "27\n"
     ]
    },
    {
     "data": {
      "application/vnd.jupyter.widget-view+json": {
       "model_id": "fa0b2a5923d04b24a9f8fb389b28089e",
       "version_major": 2,
       "version_minor": 0
      },
      "text/plain": [
       "  0%|          | 0/104779 [00:00<?, ?it/s]"
      ]
     },
     "metadata": {},
     "output_type": "display_data"
    },
    {
     "name": "stdout",
     "output_type": "stream",
     "text": [
      "28\n"
     ]
    },
    {
     "data": {
      "application/vnd.jupyter.widget-view+json": {
       "model_id": "6427ac8f91564ae596b08a33b5e8a495",
       "version_major": 2,
       "version_minor": 0
      },
      "text/plain": [
       "  0%|          | 0/104779 [00:00<?, ?it/s]"
      ]
     },
     "metadata": {},
     "output_type": "display_data"
    },
    {
     "name": "stdout",
     "output_type": "stream",
     "text": [
      "29\n"
     ]
    },
    {
     "data": {
      "application/vnd.jupyter.widget-view+json": {
       "model_id": "0a6e5da44af94d36aad55886c754949d",
       "version_major": 2,
       "version_minor": 0
      },
      "text/plain": [
       "  0%|          | 0/104779 [00:00<?, ?it/s]"
      ]
     },
     "metadata": {},
     "output_type": "display_data"
    },
    {
     "name": "stdout",
     "output_type": "stream",
     "text": [
      "30\n"
     ]
    },
    {
     "data": {
      "application/vnd.jupyter.widget-view+json": {
       "model_id": "b18f0602dd16418885dbfa2a19a97157",
       "version_major": 2,
       "version_minor": 0
      },
      "text/plain": [
       "  0%|          | 0/104779 [00:00<?, ?it/s]"
      ]
     },
     "metadata": {},
     "output_type": "display_data"
    },
    {
     "name": "stdout",
     "output_type": "stream",
     "text": [
      "31\n"
     ]
    },
    {
     "data": {
      "application/vnd.jupyter.widget-view+json": {
       "model_id": "b73ba30e71514313ad5af651408a1434",
       "version_major": 2,
       "version_minor": 0
      },
      "text/plain": [
       "  0%|          | 0/104779 [00:00<?, ?it/s]"
      ]
     },
     "metadata": {},
     "output_type": "display_data"
    },
    {
     "name": "stdout",
     "output_type": "stream",
     "text": [
      "32\n"
     ]
    },
    {
     "data": {
      "application/vnd.jupyter.widget-view+json": {
       "model_id": "b657e40178684c7782c3dbed0c77b5dc",
       "version_major": 2,
       "version_minor": 0
      },
      "text/plain": [
       "  0%|          | 0/104779 [00:00<?, ?it/s]"
      ]
     },
     "metadata": {},
     "output_type": "display_data"
    },
    {
     "name": "stdout",
     "output_type": "stream",
     "text": [
      "33\n"
     ]
    },
    {
     "data": {
      "application/vnd.jupyter.widget-view+json": {
       "model_id": "e27edb2a4c294b9a98fd26e73f7decc0",
       "version_major": 2,
       "version_minor": 0
      },
      "text/plain": [
       "  0%|          | 0/104779 [00:00<?, ?it/s]"
      ]
     },
     "metadata": {},
     "output_type": "display_data"
    },
    {
     "name": "stdout",
     "output_type": "stream",
     "text": [
      "34\n"
     ]
    },
    {
     "data": {
      "application/vnd.jupyter.widget-view+json": {
       "model_id": "a1ede3c062e047af8b4e4ef42aa62f93",
       "version_major": 2,
       "version_minor": 0
      },
      "text/plain": [
       "  0%|          | 0/104779 [00:00<?, ?it/s]"
      ]
     },
     "metadata": {},
     "output_type": "display_data"
    },
    {
     "name": "stdout",
     "output_type": "stream",
     "text": [
      "35\n"
     ]
    },
    {
     "data": {
      "application/vnd.jupyter.widget-view+json": {
       "model_id": "7fa90194c4ba4c98b9b59c5917c51136",
       "version_major": 2,
       "version_minor": 0
      },
      "text/plain": [
       "  0%|          | 0/104779 [00:00<?, ?it/s]"
      ]
     },
     "metadata": {},
     "output_type": "display_data"
    },
    {
     "name": "stdout",
     "output_type": "stream",
     "text": [
      "36\n"
     ]
    },
    {
     "data": {
      "application/vnd.jupyter.widget-view+json": {
       "model_id": "188d069bd5b44c338ed637398c3ff872",
       "version_major": 2,
       "version_minor": 0
      },
      "text/plain": [
       "  0%|          | 0/104779 [00:00<?, ?it/s]"
      ]
     },
     "metadata": {},
     "output_type": "display_data"
    },
    {
     "name": "stdout",
     "output_type": "stream",
     "text": [
      "37\n"
     ]
    },
    {
     "data": {
      "application/vnd.jupyter.widget-view+json": {
       "model_id": "9936fdfea15e4d1c87d9f173b42e51f7",
       "version_major": 2,
       "version_minor": 0
      },
      "text/plain": [
       "  0%|          | 0/104779 [00:00<?, ?it/s]"
      ]
     },
     "metadata": {},
     "output_type": "display_data"
    },
    {
     "name": "stdout",
     "output_type": "stream",
     "text": [
      "38\n"
     ]
    },
    {
     "data": {
      "application/vnd.jupyter.widget-view+json": {
       "model_id": "97f3c2b9758a4715ada66d3bde088524",
       "version_major": 2,
       "version_minor": 0
      },
      "text/plain": [
       "  0%|          | 0/104779 [00:00<?, ?it/s]"
      ]
     },
     "metadata": {},
     "output_type": "display_data"
    },
    {
     "name": "stdout",
     "output_type": "stream",
     "text": [
      "39\n"
     ]
    },
    {
     "data": {
      "application/vnd.jupyter.widget-view+json": {
       "model_id": "b18138eec75d476a84ffb7ccf8847ef5",
       "version_major": 2,
       "version_minor": 0
      },
      "text/plain": [
       "  0%|          | 0/104779 [00:00<?, ?it/s]"
      ]
     },
     "metadata": {},
     "output_type": "display_data"
    },
    {
     "name": "stdout",
     "output_type": "stream",
     "text": [
      "40\n"
     ]
    },
    {
     "data": {
      "application/vnd.jupyter.widget-view+json": {
       "model_id": "e3d21f155be94fd496b462da306460d5",
       "version_major": 2,
       "version_minor": 0
      },
      "text/plain": [
       "  0%|          | 0/104779 [00:00<?, ?it/s]"
      ]
     },
     "metadata": {},
     "output_type": "display_data"
    },
    {
     "name": "stdout",
     "output_type": "stream",
     "text": [
      "41\n"
     ]
    },
    {
     "data": {
      "application/vnd.jupyter.widget-view+json": {
       "model_id": "b67af5d3157a49abba0099d5e9054d2d",
       "version_major": 2,
       "version_minor": 0
      },
      "text/plain": [
       "  0%|          | 0/104779 [00:00<?, ?it/s]"
      ]
     },
     "metadata": {},
     "output_type": "display_data"
    },
    {
     "name": "stdout",
     "output_type": "stream",
     "text": [
      "42\n"
     ]
    },
    {
     "data": {
      "application/vnd.jupyter.widget-view+json": {
       "model_id": "951bcc3d7ab34d70bcd29c33b655d603",
       "version_major": 2,
       "version_minor": 0
      },
      "text/plain": [
       "  0%|          | 0/104779 [00:00<?, ?it/s]"
      ]
     },
     "metadata": {},
     "output_type": "display_data"
    },
    {
     "name": "stdout",
     "output_type": "stream",
     "text": [
      "43\n"
     ]
    },
    {
     "data": {
      "application/vnd.jupyter.widget-view+json": {
       "model_id": "58e0cdf3a5d54b30aadf62bc3565bd29",
       "version_major": 2,
       "version_minor": 0
      },
      "text/plain": [
       "  0%|          | 0/104779 [00:00<?, ?it/s]"
      ]
     },
     "metadata": {},
     "output_type": "display_data"
    },
    {
     "name": "stdout",
     "output_type": "stream",
     "text": [
      "44\n"
     ]
    },
    {
     "data": {
      "application/vnd.jupyter.widget-view+json": {
       "model_id": "9c535b9ad229426d98987083eefba922",
       "version_major": 2,
       "version_minor": 0
      },
      "text/plain": [
       "  0%|          | 0/104779 [00:00<?, ?it/s]"
      ]
     },
     "metadata": {},
     "output_type": "display_data"
    },
    {
     "name": "stdout",
     "output_type": "stream",
     "text": [
      "45\n"
     ]
    },
    {
     "data": {
      "application/vnd.jupyter.widget-view+json": {
       "model_id": "8661dcac6d644404884df90989f200ea",
       "version_major": 2,
       "version_minor": 0
      },
      "text/plain": [
       "  0%|          | 0/104779 [00:00<?, ?it/s]"
      ]
     },
     "metadata": {},
     "output_type": "display_data"
    },
    {
     "name": "stdout",
     "output_type": "stream",
     "text": [
      "46\n"
     ]
    },
    {
     "data": {
      "application/vnd.jupyter.widget-view+json": {
       "model_id": "2a56446f2f66485caadb4713a0bc1447",
       "version_major": 2,
       "version_minor": 0
      },
      "text/plain": [
       "  0%|          | 0/104779 [00:00<?, ?it/s]"
      ]
     },
     "metadata": {},
     "output_type": "display_data"
    },
    {
     "name": "stdout",
     "output_type": "stream",
     "text": [
      "47\n"
     ]
    },
    {
     "data": {
      "application/vnd.jupyter.widget-view+json": {
       "model_id": "10a278ba34f84f62a2603a510ed32977",
       "version_major": 2,
       "version_minor": 0
      },
      "text/plain": [
       "  0%|          | 0/104779 [00:00<?, ?it/s]"
      ]
     },
     "metadata": {},
     "output_type": "display_data"
    },
    {
     "name": "stdout",
     "output_type": "stream",
     "text": [
      "48\n"
     ]
    },
    {
     "data": {
      "application/vnd.jupyter.widget-view+json": {
       "model_id": "d3da98587b2144028a0f9f070c84b9e0",
       "version_major": 2,
       "version_minor": 0
      },
      "text/plain": [
       "  0%|          | 0/104779 [00:00<?, ?it/s]"
      ]
     },
     "metadata": {},
     "output_type": "display_data"
    },
    {
     "name": "stdout",
     "output_type": "stream",
     "text": [
      "49\n"
     ]
    },
    {
     "data": {
      "application/vnd.jupyter.widget-view+json": {
       "model_id": "844b7ffe1e2543cb9d182231bffa5f4d",
       "version_major": 2,
       "version_minor": 0
      },
      "text/plain": [
       "  0%|          | 0/104779 [00:00<?, ?it/s]"
      ]
     },
     "metadata": {},
     "output_type": "display_data"
    },
    {
     "name": "stdout",
     "output_type": "stream",
     "text": [
      "50\n"
     ]
    },
    {
     "data": {
      "application/vnd.jupyter.widget-view+json": {
       "model_id": "7cbc1470ed174b189b265642fb27c96e",
       "version_major": 2,
       "version_minor": 0
      },
      "text/plain": [
       "  0%|          | 0/104779 [00:00<?, ?it/s]"
      ]
     },
     "metadata": {},
     "output_type": "display_data"
    },
    {
     "name": "stdout",
     "output_type": "stream",
     "text": [
      "51\n"
     ]
    },
    {
     "data": {
      "application/vnd.jupyter.widget-view+json": {
       "model_id": "a957942faa954ea2909b346132bb0f61",
       "version_major": 2,
       "version_minor": 0
      },
      "text/plain": [
       "  0%|          | 0/104779 [00:00<?, ?it/s]"
      ]
     },
     "metadata": {},
     "output_type": "display_data"
    },
    {
     "name": "stdout",
     "output_type": "stream",
     "text": [
      "52\n"
     ]
    },
    {
     "data": {
      "application/vnd.jupyter.widget-view+json": {
       "model_id": "335e3718262b4a569c3c2bbf16779ed2",
       "version_major": 2,
       "version_minor": 0
      },
      "text/plain": [
       "  0%|          | 0/104779 [00:00<?, ?it/s]"
      ]
     },
     "metadata": {},
     "output_type": "display_data"
    },
    {
     "name": "stdout",
     "output_type": "stream",
     "text": [
      "53\n"
     ]
    },
    {
     "data": {
      "application/vnd.jupyter.widget-view+json": {
       "model_id": "e70f607474fc462a9f416f33bd4a57ed",
       "version_major": 2,
       "version_minor": 0
      },
      "text/plain": [
       "  0%|          | 0/104779 [00:00<?, ?it/s]"
      ]
     },
     "metadata": {},
     "output_type": "display_data"
    },
    {
     "name": "stdout",
     "output_type": "stream",
     "text": [
      "54\n"
     ]
    },
    {
     "data": {
      "application/vnd.jupyter.widget-view+json": {
       "model_id": "f5f85a8921ec40adaef827146be5edb5",
       "version_major": 2,
       "version_minor": 0
      },
      "text/plain": [
       "  0%|          | 0/104779 [00:00<?, ?it/s]"
      ]
     },
     "metadata": {},
     "output_type": "display_data"
    },
    {
     "name": "stdout",
     "output_type": "stream",
     "text": [
      "55\n"
     ]
    },
    {
     "data": {
      "application/vnd.jupyter.widget-view+json": {
       "model_id": "e047d4a495254410af51700819eff0f8",
       "version_major": 2,
       "version_minor": 0
      },
      "text/plain": [
       "  0%|          | 0/104779 [00:00<?, ?it/s]"
      ]
     },
     "metadata": {},
     "output_type": "display_data"
    },
    {
     "name": "stdout",
     "output_type": "stream",
     "text": [
      "56\n"
     ]
    },
    {
     "data": {
      "application/vnd.jupyter.widget-view+json": {
       "model_id": "66af4a547a3f4056892aa742d36b7de6",
       "version_major": 2,
       "version_minor": 0
      },
      "text/plain": [
       "  0%|          | 0/104779 [00:00<?, ?it/s]"
      ]
     },
     "metadata": {},
     "output_type": "display_data"
    },
    {
     "name": "stdout",
     "output_type": "stream",
     "text": [
      "57\n"
     ]
    },
    {
     "data": {
      "application/vnd.jupyter.widget-view+json": {
       "model_id": "dfacb863f6d64f50968c723324f86c58",
       "version_major": 2,
       "version_minor": 0
      },
      "text/plain": [
       "  0%|          | 0/104779 [00:00<?, ?it/s]"
      ]
     },
     "metadata": {},
     "output_type": "display_data"
    },
    {
     "name": "stdout",
     "output_type": "stream",
     "text": [
      "58\n"
     ]
    },
    {
     "data": {
      "application/vnd.jupyter.widget-view+json": {
       "model_id": "bf198328cfad413390efbaa29d06cd35",
       "version_major": 2,
       "version_minor": 0
      },
      "text/plain": [
       "  0%|          | 0/104779 [00:00<?, ?it/s]"
      ]
     },
     "metadata": {},
     "output_type": "display_data"
    },
    {
     "name": "stdout",
     "output_type": "stream",
     "text": [
      "59\n"
     ]
    },
    {
     "data": {
      "application/vnd.jupyter.widget-view+json": {
       "model_id": "474d9a5f31834b7fb26ce0a47838ab05",
       "version_major": 2,
       "version_minor": 0
      },
      "text/plain": [
       "  0%|          | 0/104814 [00:00<?, ?it/s]"
      ]
     },
     "metadata": {},
     "output_type": "display_data"
    }
   ],
   "source": [
    "import pickle as pkl\n",
    "from tqdm.auto import tqdm\n",
    "cnt = 0\n",
    "for i in range(60):\n",
    "    print(i)\n",
    "    with open(f'./tmp/token/corpus_{i}.pkl','rb') as f:\n",
    "        tmp = pkl.load(f)\n",
    "        for item in tqdm(tmp):\n",
    "            with open(f'./tmp/split_token/{cnt}.pkl','wb') as f:\n",
    "                pkl.dump(item, f)\n",
    "            cnt += 1"
   ]
  },
  {
   "cell_type": "code",
   "execution_count": 10,
   "id": "f74c86ec-7f81-425b-ae84-f272f7ee6110",
   "metadata": {},
   "outputs": [
    {
     "data": {
      "application/vnd.jupyter.widget-view+json": {
       "model_id": "ac24e919e122475ba033ba000f82bda5",
       "version_major": 2,
       "version_minor": 0
      },
      "text/plain": [
       "  0%|          | 0/7000 [00:00<?, ?it/s]"
      ]
     },
     "metadata": {},
     "output_type": "display_data"
    }
   ],
   "source": [
    "import os\n",
    "import shutil\n",
    "from tqdm.auto import tqdm\n",
    "# 设置目标文件夹路径\n",
    "target_folder = \"./tmp/split_token\"\n",
    "\n",
    "# 循环处理每个文件\n",
    "for i in tqdm(range(0, 7000000, 1000)):\n",
    "    # 创建文件夹名\n",
    "    folder_name = str(i)\n",
    "    \n",
    "    # 创建文件夹路径\n",
    "    folder_path = os.path.join(target_folder, folder_name)\n",
    "    \n",
    "    # 检查文件夹是否已存在，如果不存在则创建\n",
    "    if not os.path.exists(folder_path):\n",
    "        os.mkdir(folder_path)\n",
    "    \n",
    "    # 移动文件到对应文件夹\n",
    "    for j in range(0, 1000):\n",
    "        file_name = str(i + j) + \".pkl\"\n",
    "        # 检查文件是否存在，如果存在则移动\n",
    "        if os.path.exists('./tmp/split_token/'+file_name):\n",
    "            os.remove('./tmp/split_token/'+file_name)\n"
   ]
  },
  {
   "cell_type": "code",
   "execution_count": null,
   "id": "f0c86cb6-7c34-40df-9b3a-e48652760d34",
   "metadata": {
    "tags": []
   },
   "outputs": [],
   "source": [
    "os.listdir('./tmp/split_token')"
   ]
  },
  {
   "cell_type": "code",
   "execution_count": 2,
   "id": "adc6e482-bde0-4e58-ba02-d55cc6120863",
   "metadata": {
    "tags": []
   },
   "outputs": [
    {
     "data": {
      "text/plain": [
       "True"
      ]
     },
     "execution_count": 2,
     "metadata": {},
     "output_type": "execute_result"
    }
   ],
   "source": [
    "import os\n",
    "os.path.exists('./tmp/split_token/1.pkl')"
   ]
  },
  {
   "cell_type": "code",
   "execution_count": 11,
   "id": "0515b31d-049a-4994-9bee-867cbe9731a3",
   "metadata": {
    "tags": []
   },
   "outputs": [],
   "source": [
    "import pandas as pd\n",
    "data = pd.read_parquet('./data/6w_bm25_blendrecall_top1000_top30.parquet')"
   ]
  },
  {
   "cell_type": "code",
   "execution_count": 12,
   "id": "2bea782c-b7ca-4e22-a4f4-fea3e6c2d4cf",
   "metadata": {
    "tags": []
   },
   "outputs": [
    {
     "data": {
      "text/html": [
       "<div>\n",
       "<style scoped>\n",
       "    .dataframe tbody tr th:only-of-type {\n",
       "        vertical-align: middle;\n",
       "    }\n",
       "\n",
       "    .dataframe tbody tr th {\n",
       "        vertical-align: top;\n",
       "    }\n",
       "\n",
       "    .dataframe thead th {\n",
       "        text-align: right;\n",
       "    }\n",
       "</style>\n",
       "<table border=\"1\" class=\"dataframe\">\n",
       "  <thead>\n",
       "    <tr style=\"text-align: right;\">\n",
       "      <th></th>\n",
       "      <th>prompt</th>\n",
       "      <th>context</th>\n",
       "      <th>A</th>\n",
       "      <th>B</th>\n",
       "      <th>C</th>\n",
       "      <th>D</th>\n",
       "      <th>E</th>\n",
       "      <th>answer</th>\n",
       "      <th>source</th>\n",
       "      <th>prompt_answer</th>\n",
       "      <th>index</th>\n",
       "      <th>top1000_to_top30_ids</th>\n",
       "    </tr>\n",
       "  </thead>\n",
       "  <tbody>\n",
       "    <tr>\n",
       "      <th>0</th>\n",
       "      <td>In relation to Eunice Fay McKenzie's career, w...</td>\n",
       "      <td>Eunice Fay McKenzie (February 19, 1918 – April...</td>\n",
       "      <td>McKenzie showcased her singing talents in nume...</td>\n",
       "      <td>McKenzie is primarily remembered for her starr...</td>\n",
       "      <td>McKenzie gained recognition for her role as a ...</td>\n",
       "      <td>McKenzie's collaborations with director Blake ...</td>\n",
       "      <td>McKenzie's successful career in sound films co...</td>\n",
       "      <td>B</td>\n",
       "      <td>1</td>\n",
       "      <td>In relation to Eunice Fay McKenzie's career, w...</td>\n",
       "      <td>0</td>\n",
       "      <td>[1672980, 2434200, 2225748, 5539441, 577051, 2...</td>\n",
       "    </tr>\n",
       "    <tr>\n",
       "      <th>1</th>\n",
       "      <td>How does Modified Newtonian Dynamics (MOND) im...</td>\n",
       "      <td>The presence of a clustered thick disk-like co...</td>\n",
       "      <td>MOND is a theory that increases the discrepanc...</td>\n",
       "      <td>MOND explains the missing baryonic mass in gal...</td>\n",
       "      <td>MOND is a theory that reduces the observed mis...</td>\n",
       "      <td>MOND is a theory that eliminates the observed ...</td>\n",
       "      <td>MOND's impact on the observed missing baryonic...</td>\n",
       "      <td>E</td>\n",
       "      <td>1</td>\n",
       "      <td>How does Modified Newtonian Dynamics (MOND) im...</td>\n",
       "      <td>1</td>\n",
       "      <td>[1830805, 1228442, 748639, 3573843, 5559316, 1...</td>\n",
       "    </tr>\n",
       "    <tr>\n",
       "      <th>2</th>\n",
       "      <td>Which of the following statements accurately d...</td>\n",
       "      <td>Woody Hartman is a retired American soccer goa...</td>\n",
       "      <td>Ray Montgomerie is a former footballer who pla...</td>\n",
       "      <td>Ray Montgomerie is a former footballer who pla...</td>\n",
       "      <td>Ray Montgomerie is a former footballer who pla...</td>\n",
       "      <td>Ray Montgomerie is a former footballer who pla...</td>\n",
       "      <td>Ray Montgomerie is a former footballer who pla...</td>\n",
       "      <td>B</td>\n",
       "      <td>1</td>\n",
       "      <td>Which of the following statements accurately d...</td>\n",
       "      <td>2</td>\n",
       "      <td>[4789707, 1302988, 4788998, 1063857, 4789382, ...</td>\n",
       "    </tr>\n",
       "    <tr>\n",
       "      <th>3</th>\n",
       "      <td>What is the significance of the Museum of the ...</td>\n",
       "      <td>The Museum of the Occupation of Latvia () is a...</td>\n",
       "      <td>The Museum of the Occupation of Latvia is a me...</td>\n",
       "      <td>The Museum of the Occupation of Latvia showcas...</td>\n",
       "      <td>The Museum of the Occupation of Latvia was est...</td>\n",
       "      <td>The Museum of the Occupation of Latvia primari...</td>\n",
       "      <td>The Museum of the Occupation of Latvia is a mu...</td>\n",
       "      <td>C</td>\n",
       "      <td>1</td>\n",
       "      <td>What is the significance of the Museum of the ...</td>\n",
       "      <td>3</td>\n",
       "      <td>[3669879, 3669577, 3669963, 1597785, 3669701, ...</td>\n",
       "    </tr>\n",
       "    <tr>\n",
       "      <th>4</th>\n",
       "      <td>What was the previous name of the Christian Sc...</td>\n",
       "      <td>It was named the Evangelical School for the De...</td>\n",
       "      <td>The Christian School for the Deaf (CSD)</td>\n",
       "      <td>The Christian School for the Blind (CSB)</td>\n",
       "      <td>The Evangelical School and Chapel for the Deaf...</td>\n",
       "      <td>The Evangelical School for the Deaf (ESD)</td>\n",
       "      <td>The Evangelical School for the Blind (ESB)</td>\n",
       "      <td>D</td>\n",
       "      <td>1</td>\n",
       "      <td>What was the previous name of the Christian Sc...</td>\n",
       "      <td>4</td>\n",
       "      <td>[988551, 1060434, 797210, 3145550, 4374104, 58...</td>\n",
       "    </tr>\n",
       "    <tr>\n",
       "      <th>...</th>\n",
       "      <td>...</td>\n",
       "      <td>...</td>\n",
       "      <td>...</td>\n",
       "      <td>...</td>\n",
       "      <td>...</td>\n",
       "      <td>...</td>\n",
       "      <td>...</td>\n",
       "      <td>...</td>\n",
       "      <td>...</td>\n",
       "      <td>...</td>\n",
       "      <td>...</td>\n",
       "      <td>...</td>\n",
       "    </tr>\n",
       "    <tr>\n",
       "      <th>60342</th>\n",
       "      <td>The outer ear, or ear canal, carries sound to ...</td>\n",
       "      <td>The ear canal (external acoustic meatus, exter...</td>\n",
       "      <td>aorta</td>\n",
       "      <td>ear lobe</td>\n",
       "      <td>eardrum</td>\n",
       "      <td>lungs</td>\n",
       "      <td>None</td>\n",
       "      <td>C</td>\n",
       "      <td>12</td>\n",
       "      <td>The outer ear, or ear canal, carries sound to ...</td>\n",
       "      <td>60342</td>\n",
       "      <td>[3523205, 1444030, 4515173, 3523206, 4352391, ...</td>\n",
       "    </tr>\n",
       "    <tr>\n",
       "      <th>60343</th>\n",
       "      <td>What sport involves people quickly finding des...</td>\n",
       "      <td>Orienteering sports in which route choice is a...</td>\n",
       "      <td>mapping</td>\n",
       "      <td>None</td>\n",
       "      <td>orienteering</td>\n",
       "      <td>patterning</td>\n",
       "      <td>sticking</td>\n",
       "      <td>C</td>\n",
       "      <td>12</td>\n",
       "      <td>What sport involves people quickly finding des...</td>\n",
       "      <td>60343</td>\n",
       "      <td>[5796820, 4335770, 213023, 2159791, 5796865, 4...</td>\n",
       "    </tr>\n",
       "    <tr>\n",
       "      <th>60344</th>\n",
       "      <td>Almost all earthquakes occur at which place?</td>\n",
       "      <td>This subduction zone led to the formation of t...</td>\n",
       "      <td>mountains</td>\n",
       "      <td>land boundaries</td>\n",
       "      <td>plate boundaries</td>\n",
       "      <td>continental shelf</td>\n",
       "      <td>None</td>\n",
       "      <td>C</td>\n",
       "      <td>12</td>\n",
       "      <td>Almost all earthquakes occur at which place? m...</td>\n",
       "      <td>60344</td>\n",
       "      <td>[1446828, 2370289, 5799482, 5959871, 1104837, ...</td>\n",
       "    </tr>\n",
       "    <tr>\n",
       "      <th>60345</th>\n",
       "      <td>Melting glaciers, rising temperatures and drou...</td>\n",
       "      <td>Impacts include changes in regional rainfall p...</td>\n",
       "      <td>nature's natural cycle</td>\n",
       "      <td>air pollution</td>\n",
       "      <td>global warming</td>\n",
       "      <td>sudden warming</td>\n",
       "      <td>None</td>\n",
       "      <td>C</td>\n",
       "      <td>12</td>\n",
       "      <td>Melting glaciers, rising temperatures and drou...</td>\n",
       "      <td>60345</td>\n",
       "      <td>[1486966, 5599463, 1040075, 2241538, 1040050, ...</td>\n",
       "    </tr>\n",
       "    <tr>\n",
       "      <th>60346</th>\n",
       "      <td>What parts of a human possess the highest conc...</td>\n",
       "      <td>In thermoregulation, body heat is generated mo...</td>\n",
       "      <td>None</td>\n",
       "      <td>hand and ears</td>\n",
       "      <td>face and hair</td>\n",
       "      <td>face and ears</td>\n",
       "      <td>hands and feet</td>\n",
       "      <td>D</td>\n",
       "      <td>12</td>\n",
       "      <td>What parts of a human possess the highest conc...</td>\n",
       "      <td>60346</td>\n",
       "      <td>[5535694, 1446230, 5286029, 1304541, 2280001, ...</td>\n",
       "    </tr>\n",
       "  </tbody>\n",
       "</table>\n",
       "<p>60347 rows × 12 columns</p>\n",
       "</div>"
      ],
      "text/plain": [
       "                                                  prompt  \\\n",
       "0      In relation to Eunice Fay McKenzie's career, w...   \n",
       "1      How does Modified Newtonian Dynamics (MOND) im...   \n",
       "2      Which of the following statements accurately d...   \n",
       "3      What is the significance of the Museum of the ...   \n",
       "4      What was the previous name of the Christian Sc...   \n",
       "...                                                  ...   \n",
       "60342  The outer ear, or ear canal, carries sound to ...   \n",
       "60343  What sport involves people quickly finding des...   \n",
       "60344       Almost all earthquakes occur at which place?   \n",
       "60345  Melting glaciers, rising temperatures and drou...   \n",
       "60346  What parts of a human possess the highest conc...   \n",
       "\n",
       "                                                 context  \\\n",
       "0      Eunice Fay McKenzie (February 19, 1918 – April...   \n",
       "1      The presence of a clustered thick disk-like co...   \n",
       "2      Woody Hartman is a retired American soccer goa...   \n",
       "3      The Museum of the Occupation of Latvia () is a...   \n",
       "4      It was named the Evangelical School for the De...   \n",
       "...                                                  ...   \n",
       "60342  The ear canal (external acoustic meatus, exter...   \n",
       "60343  Orienteering sports in which route choice is a...   \n",
       "60344  This subduction zone led to the formation of t...   \n",
       "60345  Impacts include changes in regional rainfall p...   \n",
       "60346  In thermoregulation, body heat is generated mo...   \n",
       "\n",
       "                                                       A  \\\n",
       "0      McKenzie showcased her singing talents in nume...   \n",
       "1      MOND is a theory that increases the discrepanc...   \n",
       "2      Ray Montgomerie is a former footballer who pla...   \n",
       "3      The Museum of the Occupation of Latvia is a me...   \n",
       "4                The Christian School for the Deaf (CSD)   \n",
       "...                                                  ...   \n",
       "60342                                              aorta   \n",
       "60343                                            mapping   \n",
       "60344                                          mountains   \n",
       "60345                             nature's natural cycle   \n",
       "60346                                               None   \n",
       "\n",
       "                                                       B  \\\n",
       "0      McKenzie is primarily remembered for her starr...   \n",
       "1      MOND explains the missing baryonic mass in gal...   \n",
       "2      Ray Montgomerie is a former footballer who pla...   \n",
       "3      The Museum of the Occupation of Latvia showcas...   \n",
       "4               The Christian School for the Blind (CSB)   \n",
       "...                                                  ...   \n",
       "60342                                           ear lobe   \n",
       "60343                                               None   \n",
       "60344                                    land boundaries   \n",
       "60345                                      air pollution   \n",
       "60346                                      hand and ears   \n",
       "\n",
       "                                                       C  \\\n",
       "0      McKenzie gained recognition for her role as a ...   \n",
       "1      MOND is a theory that reduces the observed mis...   \n",
       "2      Ray Montgomerie is a former footballer who pla...   \n",
       "3      The Museum of the Occupation of Latvia was est...   \n",
       "4      The Evangelical School and Chapel for the Deaf...   \n",
       "...                                                  ...   \n",
       "60342                                            eardrum   \n",
       "60343                                       orienteering   \n",
       "60344                                   plate boundaries   \n",
       "60345                                     global warming   \n",
       "60346                                      face and hair   \n",
       "\n",
       "                                                       D  \\\n",
       "0      McKenzie's collaborations with director Blake ...   \n",
       "1      MOND is a theory that eliminates the observed ...   \n",
       "2      Ray Montgomerie is a former footballer who pla...   \n",
       "3      The Museum of the Occupation of Latvia primari...   \n",
       "4              The Evangelical School for the Deaf (ESD)   \n",
       "...                                                  ...   \n",
       "60342                                              lungs   \n",
       "60343                                         patterning   \n",
       "60344                                  continental shelf   \n",
       "60345                                     sudden warming   \n",
       "60346                                      face and ears   \n",
       "\n",
       "                                                       E answer  source  \\\n",
       "0      McKenzie's successful career in sound films co...      B       1   \n",
       "1      MOND's impact on the observed missing baryonic...      E       1   \n",
       "2      Ray Montgomerie is a former footballer who pla...      B       1   \n",
       "3      The Museum of the Occupation of Latvia is a mu...      C       1   \n",
       "4             The Evangelical School for the Blind (ESB)      D       1   \n",
       "...                                                  ...    ...     ...   \n",
       "60342                                               None      C      12   \n",
       "60343                                           sticking      C      12   \n",
       "60344                                               None      C      12   \n",
       "60345                                               None      C      12   \n",
       "60346                                     hands and feet      D      12   \n",
       "\n",
       "                                           prompt_answer  index  \\\n",
       "0      In relation to Eunice Fay McKenzie's career, w...      0   \n",
       "1      How does Modified Newtonian Dynamics (MOND) im...      1   \n",
       "2      Which of the following statements accurately d...      2   \n",
       "3      What is the significance of the Museum of the ...      3   \n",
       "4      What was the previous name of the Christian Sc...      4   \n",
       "...                                                  ...    ...   \n",
       "60342  The outer ear, or ear canal, carries sound to ...  60342   \n",
       "60343  What sport involves people quickly finding des...  60343   \n",
       "60344  Almost all earthquakes occur at which place? m...  60344   \n",
       "60345  Melting glaciers, rising temperatures and drou...  60345   \n",
       "60346  What parts of a human possess the highest conc...  60346   \n",
       "\n",
       "                                    top1000_to_top30_ids  \n",
       "0      [1672980, 2434200, 2225748, 5539441, 577051, 2...  \n",
       "1      [1830805, 1228442, 748639, 3573843, 5559316, 1...  \n",
       "2      [4789707, 1302988, 4788998, 1063857, 4789382, ...  \n",
       "3      [3669879, 3669577, 3669963, 1597785, 3669701, ...  \n",
       "4      [988551, 1060434, 797210, 3145550, 4374104, 58...  \n",
       "...                                                  ...  \n",
       "60342  [3523205, 1444030, 4515173, 3523206, 4352391, ...  \n",
       "60343  [5796820, 4335770, 213023, 2159791, 5796865, 4...  \n",
       "60344  [1446828, 2370289, 5799482, 5959871, 1104837, ...  \n",
       "60345  [1486966, 5599463, 1040075, 2241538, 1040050, ...  \n",
       "60346  [5535694, 1446230, 5286029, 1304541, 2280001, ...  \n",
       "\n",
       "[60347 rows x 12 columns]"
      ]
     },
     "execution_count": 12,
     "metadata": {},
     "output_type": "execute_result"
    }
   ],
   "source": [
    "data"
   ]
  },
  {
   "cell_type": "code",
   "execution_count": 13,
   "id": "84184e07-bbd4-45eb-b91f-e8bdf9aafa6d",
   "metadata": {
    "tags": []
   },
   "outputs": [
    {
     "data": {
      "text/plain": [
       "array([1672980, 2434200, 2225748, 5539441,  577051, 2010697, 5715597,\n",
       "       3378362,  178539,  964534, 1861806,  581455,  545616, 2666128,\n",
       "       3715512, 5685985, 2504459, 1596930, 5179016, 3281852,  279114,\n",
       "       2749560, 2434201,  853475, 3368242, 3030670,  818061, 2665753,\n",
       "       1982176, 5030326])"
      ]
     },
     "execution_count": 13,
     "metadata": {},
     "output_type": "execute_result"
    }
   ],
   "source": [
    "data.loc[0,'top1000_to_top30_ids']"
   ]
  },
  {
   "cell_type": "code",
   "execution_count": 14,
   "id": "600782ea-aec8-47bf-aaa2-9bf83fa7c980",
   "metadata": {
    "tags": []
   },
   "outputs": [
    {
     "data": {
      "text/plain": [
       "(30,)"
      ]
     },
     "execution_count": 14,
     "metadata": {},
     "output_type": "execute_result"
    }
   ],
   "source": [
    "data.loc[0,'top1000_to_top30_ids'].shape"
   ]
  },
  {
   "cell_type": "code",
   "execution_count": 1,
   "id": "23ec75be-8285-4c7b-b86d-3e33544afccd",
   "metadata": {},
   "outputs": [],
   "source": [
    "import pickle as pkl\n",
    "with open('./tmp/part0.pkl','rb') as f:\n",
    "    data1 = pkl.load(f)\n",
    "with open('./tmp/part2.pkl', 'rb') as f:\n",
    "    data2 = pkl.load(f)"
   ]
  },
  {
   "cell_type": "code",
   "execution_count": 2,
   "id": "35662b72-715b-49a0-9837-aa3315eb7380",
   "metadata": {
    "tags": []
   },
   "outputs": [
    {
     "data": {
      "text/html": [
       "<div>\n",
       "<style scoped>\n",
       "    .dataframe tbody tr th:only-of-type {\n",
       "        vertical-align: middle;\n",
       "    }\n",
       "\n",
       "    .dataframe tbody tr th {\n",
       "        vertical-align: top;\n",
       "    }\n",
       "\n",
       "    .dataframe thead th {\n",
       "        text-align: right;\n",
       "    }\n",
       "</style>\n",
       "<table border=\"1\" class=\"dataframe\">\n",
       "  <thead>\n",
       "    <tr style=\"text-align: right;\">\n",
       "      <th></th>\n",
       "      <th>prompt</th>\n",
       "      <th>context</th>\n",
       "      <th>A</th>\n",
       "      <th>B</th>\n",
       "      <th>C</th>\n",
       "      <th>D</th>\n",
       "      <th>E</th>\n",
       "      <th>answer</th>\n",
       "      <th>source</th>\n",
       "      <th>type</th>\n",
       "      <th>Unnamed: 0</th>\n",
       "      <th>id</th>\n",
       "      <th>wiki_text</th>\n",
       "      <th>page_id</th>\n",
       "      <th>page_title</th>\n",
       "      <th>stem_label</th>\n",
       "      <th>prompt_answer</th>\n",
       "      <th>Top30</th>\n",
       "    </tr>\n",
       "  </thead>\n",
       "  <tbody>\n",
       "    <tr>\n",
       "      <th>0</th>\n",
       "      <td>In relation to Eunice Fay McKenzie's career, w...</td>\n",
       "      <td>Eunice Fay McKenzie (February 19, 1918 – April...</td>\n",
       "      <td>McKenzie showcased her singing talents in nume...</td>\n",
       "      <td>McKenzie is primarily remembered for her starr...</td>\n",
       "      <td>McKenzie gained recognition for her role as a ...</td>\n",
       "      <td>McKenzie's collaborations with director Blake ...</td>\n",
       "      <td>McKenzie's successful career in sound films co...</td>\n",
       "      <td>B</td>\n",
       "      <td>1.0</td>\n",
       "      <td>6w</td>\n",
       "      <td>NaN</td>\n",
       "      <td>NaN</td>\n",
       "      <td>NaN</td>\n",
       "      <td>NaN</td>\n",
       "      <td>NaN</td>\n",
       "      <td>NaN</td>\n",
       "      <td>In relation to Eunice Fay McKenzie's career, w...</td>\n",
       "      <td>[1672980, 1468708, 2225748, 577051, 2434200, 2...</td>\n",
       "    </tr>\n",
       "    <tr>\n",
       "      <th>1</th>\n",
       "      <td>How does Modified Newtonian Dynamics (MOND) im...</td>\n",
       "      <td>The presence of a clustered thick disk-like co...</td>\n",
       "      <td>MOND is a theory that increases the discrepanc...</td>\n",
       "      <td>MOND explains the missing baryonic mass in gal...</td>\n",
       "      <td>MOND is a theory that reduces the observed mis...</td>\n",
       "      <td>MOND is a theory that eliminates the observed ...</td>\n",
       "      <td>MOND's impact on the observed missing baryonic...</td>\n",
       "      <td>E</td>\n",
       "      <td>1.0</td>\n",
       "      <td>6w</td>\n",
       "      <td>NaN</td>\n",
       "      <td>NaN</td>\n",
       "      <td>NaN</td>\n",
       "      <td>NaN</td>\n",
       "      <td>NaN</td>\n",
       "      <td>NaN</td>\n",
       "      <td>How does Modified Newtonian Dynamics (MOND) im...</td>\n",
       "      <td>[1830805, 1228442, 748639, 3573843, 1167741, 5...</td>\n",
       "    </tr>\n",
       "    <tr>\n",
       "      <th>2</th>\n",
       "      <td>Which of the following statements accurately d...</td>\n",
       "      <td>Woody Hartman is a retired American soccer goa...</td>\n",
       "      <td>Ray Montgomerie is a former footballer who pla...</td>\n",
       "      <td>Ray Montgomerie is a former footballer who pla...</td>\n",
       "      <td>Ray Montgomerie is a former footballer who pla...</td>\n",
       "      <td>Ray Montgomerie is a former footballer who pla...</td>\n",
       "      <td>Ray Montgomerie is a former footballer who pla...</td>\n",
       "      <td>B</td>\n",
       "      <td>1.0</td>\n",
       "      <td>6w</td>\n",
       "      <td>NaN</td>\n",
       "      <td>NaN</td>\n",
       "      <td>NaN</td>\n",
       "      <td>NaN</td>\n",
       "      <td>NaN</td>\n",
       "      <td>NaN</td>\n",
       "      <td>Which of the following statements accurately d...</td>\n",
       "      <td>[4789707, 5419231, 5768533, 4788998, 2598481, ...</td>\n",
       "    </tr>\n",
       "    <tr>\n",
       "      <th>3</th>\n",
       "      <td>What is the significance of the Museum of the ...</td>\n",
       "      <td>The Museum of the Occupation of Latvia () is a...</td>\n",
       "      <td>The Museum of the Occupation of Latvia is a me...</td>\n",
       "      <td>The Museum of the Occupation of Latvia showcas...</td>\n",
       "      <td>The Museum of the Occupation of Latvia was est...</td>\n",
       "      <td>The Museum of the Occupation of Latvia primari...</td>\n",
       "      <td>The Museum of the Occupation of Latvia is a mu...</td>\n",
       "      <td>C</td>\n",
       "      <td>1.0</td>\n",
       "      <td>6w</td>\n",
       "      <td>NaN</td>\n",
       "      <td>NaN</td>\n",
       "      <td>NaN</td>\n",
       "      <td>NaN</td>\n",
       "      <td>NaN</td>\n",
       "      <td>NaN</td>\n",
       "      <td>What is the significance of the Museum of the ...</td>\n",
       "      <td>[3669879, 2948076, 2948089, 1162504, 2528645, ...</td>\n",
       "    </tr>\n",
       "    <tr>\n",
       "      <th>4</th>\n",
       "      <td>What was the previous name of the Christian Sc...</td>\n",
       "      <td>It was named the Evangelical School for the De...</td>\n",
       "      <td>The Christian School for the Deaf (CSD)</td>\n",
       "      <td>The Christian School for the Blind (CSB)</td>\n",
       "      <td>The Evangelical School and Chapel for the Deaf...</td>\n",
       "      <td>The Evangelical School for the Deaf (ESD)</td>\n",
       "      <td>The Evangelical School for the Blind (ESB)</td>\n",
       "      <td>D</td>\n",
       "      <td>1.0</td>\n",
       "      <td>6w</td>\n",
       "      <td>NaN</td>\n",
       "      <td>NaN</td>\n",
       "      <td>NaN</td>\n",
       "      <td>NaN</td>\n",
       "      <td>NaN</td>\n",
       "      <td>NaN</td>\n",
       "      <td>What was the previous name of the Christian Sc...</td>\n",
       "      <td>[988551, 797210, 3145550, 4374104, 5573348, 21...</td>\n",
       "    </tr>\n",
       "    <tr>\n",
       "      <th>...</th>\n",
       "      <td>...</td>\n",
       "      <td>...</td>\n",
       "      <td>...</td>\n",
       "      <td>...</td>\n",
       "      <td>...</td>\n",
       "      <td>...</td>\n",
       "      <td>...</td>\n",
       "      <td>...</td>\n",
       "      <td>...</td>\n",
       "      <td>...</td>\n",
       "      <td>...</td>\n",
       "      <td>...</td>\n",
       "      <td>...</td>\n",
       "      <td>...</td>\n",
       "      <td>...</td>\n",
       "      <td>...</td>\n",
       "      <td>...</td>\n",
       "      <td>...</td>\n",
       "    </tr>\n",
       "    <tr>\n",
       "      <th>46114</th>\n",
       "      <td>What is the name for a bundle of axons within ...</td>\n",
       "      <td>A bundle of axons make a nerve tract in the ce...</td>\n",
       "      <td>fascicle</td>\n",
       "      <td>tract</td>\n",
       "      <td>nerve root</td>\n",
       "      <td>epineurium</td>\n",
       "      <td>epineurium</td>\n",
       "      <td>A</td>\n",
       "      <td>9.0</td>\n",
       "      <td>6w</td>\n",
       "      <td>NaN</td>\n",
       "      <td>NaN</td>\n",
       "      <td>NaN</td>\n",
       "      <td>NaN</td>\n",
       "      <td>NaN</td>\n",
       "      <td>NaN</td>\n",
       "      <td>What is the name for a bundle of axons within ...</td>\n",
       "      <td>[3773832, 4516232, 1549417, 1564870, 3773939, ...</td>\n",
       "    </tr>\n",
       "    <tr>\n",
       "      <th>46115</th>\n",
       "      <td>Which cranial nerve does not control functions...</td>\n",
       "      <td>Cranial nerves relay information between the b...</td>\n",
       "      <td>olfactory</td>\n",
       "      <td>trochlear</td>\n",
       "      <td>glossopharyngeal</td>\n",
       "      <td>vagus</td>\n",
       "      <td>olfactory</td>\n",
       "      <td>D</td>\n",
       "      <td>9.0</td>\n",
       "      <td>6w</td>\n",
       "      <td>NaN</td>\n",
       "      <td>NaN</td>\n",
       "      <td>NaN</td>\n",
       "      <td>NaN</td>\n",
       "      <td>NaN</td>\n",
       "      <td>NaN</td>\n",
       "      <td>Which cranial nerve does not control functions...</td>\n",
       "      <td>[1137128, 5499836, 691430, 1945341, 4296270, 8...</td>\n",
       "    </tr>\n",
       "    <tr>\n",
       "      <th>46116</th>\n",
       "      <td>Which of these structures is not under direct ...</td>\n",
       "      <td>The PNS consists of nerves and ganglia, which ...</td>\n",
       "      <td>trigeminal ganglion</td>\n",
       "      <td>gastric plexus</td>\n",
       "      <td>sympathetic chain ganglia</td>\n",
       "      <td>cervical plexus</td>\n",
       "      <td>sympathetic chain ganglia</td>\n",
       "      <td>B</td>\n",
       "      <td>9.0</td>\n",
       "      <td>6w</td>\n",
       "      <td>NaN</td>\n",
       "      <td>NaN</td>\n",
       "      <td>NaN</td>\n",
       "      <td>NaN</td>\n",
       "      <td>NaN</td>\n",
       "      <td>NaN</td>\n",
       "      <td>Which of these structures is not under direct ...</td>\n",
       "      <td>[5478341, 5446064, 4695197, 3240221, 2347772, ...</td>\n",
       "    </tr>\n",
       "    <tr>\n",
       "      <th>46117</th>\n",
       "      <td>Which of the followings are possible remedies ...</td>\n",
       "      <td>UCC Insurance is utilized for transactions des...</td>\n",
       "      <td>FLSA.</td>\n",
       "      <td>WCA.</td>\n",
       "      <td>OSHA.</td>\n",
       "      <td>FMLA.</td>\n",
       "      <td>WCA.</td>\n",
       "      <td>C</td>\n",
       "      <td>9.0</td>\n",
       "      <td>6w</td>\n",
       "      <td>NaN</td>\n",
       "      <td>NaN</td>\n",
       "      <td>NaN</td>\n",
       "      <td>NaN</td>\n",
       "      <td>NaN</td>\n",
       "      <td>NaN</td>\n",
       "      <td>Which of the followings are possible remedies ...</td>\n",
       "      <td>[5128315, 4270159, 4515044, 5896029, 5886031, ...</td>\n",
       "    </tr>\n",
       "    <tr>\n",
       "      <th>46118</th>\n",
       "      <td>How many weeks of unpaid leave does the Family...</td>\n",
       "      <td>An employee must have worked at least 180 days...</td>\n",
       "      <td>12.</td>\n",
       "      <td>16.</td>\n",
       "      <td>25.</td>\n",
       "      <td>40.</td>\n",
       "      <td>40.</td>\n",
       "      <td>A</td>\n",
       "      <td>9.0</td>\n",
       "      <td>6w</td>\n",
       "      <td>NaN</td>\n",
       "      <td>NaN</td>\n",
       "      <td>NaN</td>\n",
       "      <td>NaN</td>\n",
       "      <td>NaN</td>\n",
       "      <td>NaN</td>\n",
       "      <td>How many weeks of unpaid leave does the Family...</td>\n",
       "      <td>[4445882, 5212545, 1661054, 4445880, 5212546, ...</td>\n",
       "    </tr>\n",
       "  </tbody>\n",
       "</table>\n",
       "<p>46119 rows × 18 columns</p>\n",
       "</div>"
      ],
      "text/plain": [
       "                                                  prompt  \\\n",
       "0      In relation to Eunice Fay McKenzie's career, w...   \n",
       "1      How does Modified Newtonian Dynamics (MOND) im...   \n",
       "2      Which of the following statements accurately d...   \n",
       "3      What is the significance of the Museum of the ...   \n",
       "4      What was the previous name of the Christian Sc...   \n",
       "...                                                  ...   \n",
       "46114  What is the name for a bundle of axons within ...   \n",
       "46115  Which cranial nerve does not control functions...   \n",
       "46116  Which of these structures is not under direct ...   \n",
       "46117  Which of the followings are possible remedies ...   \n",
       "46118  How many weeks of unpaid leave does the Family...   \n",
       "\n",
       "                                                 context  \\\n",
       "0      Eunice Fay McKenzie (February 19, 1918 – April...   \n",
       "1      The presence of a clustered thick disk-like co...   \n",
       "2      Woody Hartman is a retired American soccer goa...   \n",
       "3      The Museum of the Occupation of Latvia () is a...   \n",
       "4      It was named the Evangelical School for the De...   \n",
       "...                                                  ...   \n",
       "46114  A bundle of axons make a nerve tract in the ce...   \n",
       "46115  Cranial nerves relay information between the b...   \n",
       "46116  The PNS consists of nerves and ganglia, which ...   \n",
       "46117  UCC Insurance is utilized for transactions des...   \n",
       "46118  An employee must have worked at least 180 days...   \n",
       "\n",
       "                                                       A  \\\n",
       "0      McKenzie showcased her singing talents in nume...   \n",
       "1      MOND is a theory that increases the discrepanc...   \n",
       "2      Ray Montgomerie is a former footballer who pla...   \n",
       "3      The Museum of the Occupation of Latvia is a me...   \n",
       "4                The Christian School for the Deaf (CSD)   \n",
       "...                                                  ...   \n",
       "46114                                           fascicle   \n",
       "46115                                          olfactory   \n",
       "46116                                trigeminal ganglion   \n",
       "46117                                              FLSA.   \n",
       "46118                                                12.   \n",
       "\n",
       "                                                       B  \\\n",
       "0      McKenzie is primarily remembered for her starr...   \n",
       "1      MOND explains the missing baryonic mass in gal...   \n",
       "2      Ray Montgomerie is a former footballer who pla...   \n",
       "3      The Museum of the Occupation of Latvia showcas...   \n",
       "4               The Christian School for the Blind (CSB)   \n",
       "...                                                  ...   \n",
       "46114                                              tract   \n",
       "46115                                          trochlear   \n",
       "46116                                     gastric plexus   \n",
       "46117                                               WCA.   \n",
       "46118                                                16.   \n",
       "\n",
       "                                                       C  \\\n",
       "0      McKenzie gained recognition for her role as a ...   \n",
       "1      MOND is a theory that reduces the observed mis...   \n",
       "2      Ray Montgomerie is a former footballer who pla...   \n",
       "3      The Museum of the Occupation of Latvia was est...   \n",
       "4      The Evangelical School and Chapel for the Deaf...   \n",
       "...                                                  ...   \n",
       "46114                                         nerve root   \n",
       "46115                                   glossopharyngeal   \n",
       "46116                          sympathetic chain ganglia   \n",
       "46117                                              OSHA.   \n",
       "46118                                                25.   \n",
       "\n",
       "                                                       D  \\\n",
       "0      McKenzie's collaborations with director Blake ...   \n",
       "1      MOND is a theory that eliminates the observed ...   \n",
       "2      Ray Montgomerie is a former footballer who pla...   \n",
       "3      The Museum of the Occupation of Latvia primari...   \n",
       "4              The Evangelical School for the Deaf (ESD)   \n",
       "...                                                  ...   \n",
       "46114                                         epineurium   \n",
       "46115                                              vagus   \n",
       "46116                                    cervical plexus   \n",
       "46117                                              FMLA.   \n",
       "46118                                                40.   \n",
       "\n",
       "                                                       E answer  source type  \\\n",
       "0      McKenzie's successful career in sound films co...      B     1.0   6w   \n",
       "1      MOND's impact on the observed missing baryonic...      E     1.0   6w   \n",
       "2      Ray Montgomerie is a former footballer who pla...      B     1.0   6w   \n",
       "3      The Museum of the Occupation of Latvia is a mu...      C     1.0   6w   \n",
       "4             The Evangelical School for the Blind (ESB)      D     1.0   6w   \n",
       "...                                                  ...    ...     ...  ...   \n",
       "46114                                         epineurium      A     9.0   6w   \n",
       "46115                                          olfactory      D     9.0   6w   \n",
       "46116                          sympathetic chain ganglia      B     9.0   6w   \n",
       "46117                                               WCA.      C     9.0   6w   \n",
       "46118                                                40.      A     9.0   6w   \n",
       "\n",
       "       Unnamed: 0  id wiki_text  page_id page_title stem_label  \\\n",
       "0             NaN NaN       NaN      NaN        NaN        NaN   \n",
       "1             NaN NaN       NaN      NaN        NaN        NaN   \n",
       "2             NaN NaN       NaN      NaN        NaN        NaN   \n",
       "3             NaN NaN       NaN      NaN        NaN        NaN   \n",
       "4             NaN NaN       NaN      NaN        NaN        NaN   \n",
       "...           ...  ..       ...      ...        ...        ...   \n",
       "46114         NaN NaN       NaN      NaN        NaN        NaN   \n",
       "46115         NaN NaN       NaN      NaN        NaN        NaN   \n",
       "46116         NaN NaN       NaN      NaN        NaN        NaN   \n",
       "46117         NaN NaN       NaN      NaN        NaN        NaN   \n",
       "46118         NaN NaN       NaN      NaN        NaN        NaN   \n",
       "\n",
       "                                           prompt_answer  \\\n",
       "0      In relation to Eunice Fay McKenzie's career, w...   \n",
       "1      How does Modified Newtonian Dynamics (MOND) im...   \n",
       "2      Which of the following statements accurately d...   \n",
       "3      What is the significance of the Museum of the ...   \n",
       "4      What was the previous name of the Christian Sc...   \n",
       "...                                                  ...   \n",
       "46114  What is the name for a bundle of axons within ...   \n",
       "46115  Which cranial nerve does not control functions...   \n",
       "46116  Which of these structures is not under direct ...   \n",
       "46117  Which of the followings are possible remedies ...   \n",
       "46118  How many weeks of unpaid leave does the Family...   \n",
       "\n",
       "                                                   Top30  \n",
       "0      [1672980, 1468708, 2225748, 577051, 2434200, 2...  \n",
       "1      [1830805, 1228442, 748639, 3573843, 1167741, 5...  \n",
       "2      [4789707, 5419231, 5768533, 4788998, 2598481, ...  \n",
       "3      [3669879, 2948076, 2948089, 1162504, 2528645, ...  \n",
       "4      [988551, 797210, 3145550, 4374104, 5573348, 21...  \n",
       "...                                                  ...  \n",
       "46114  [3773832, 4516232, 1549417, 1564870, 3773939, ...  \n",
       "46115  [1137128, 5499836, 691430, 1945341, 4296270, 8...  \n",
       "46116  [5478341, 5446064, 4695197, 3240221, 2347772, ...  \n",
       "46117  [5128315, 4270159, 4515044, 5896029, 5886031, ...  \n",
       "46118  [4445882, 5212545, 1661054, 4445880, 5212546, ...  \n",
       "\n",
       "[46119 rows x 18 columns]"
      ]
     },
     "execution_count": 2,
     "metadata": {},
     "output_type": "execute_result"
    }
   ],
   "source": [
    "data1"
   ]
  },
  {
   "cell_type": "code",
   "execution_count": 3,
   "id": "56689341-8384-419c-8696-1398bf89dd9e",
   "metadata": {
    "tags": []
   },
   "outputs": [
    {
     "data": {
      "text/html": [
       "<div>\n",
       "<style scoped>\n",
       "    .dataframe tbody tr th:only-of-type {\n",
       "        vertical-align: middle;\n",
       "    }\n",
       "\n",
       "    .dataframe tbody tr th {\n",
       "        vertical-align: top;\n",
       "    }\n",
       "\n",
       "    .dataframe thead th {\n",
       "        text-align: right;\n",
       "    }\n",
       "</style>\n",
       "<table border=\"1\" class=\"dataframe\">\n",
       "  <thead>\n",
       "    <tr style=\"text-align: right;\">\n",
       "      <th></th>\n",
       "      <th>prompt</th>\n",
       "      <th>context</th>\n",
       "      <th>A</th>\n",
       "      <th>B</th>\n",
       "      <th>C</th>\n",
       "      <th>D</th>\n",
       "      <th>E</th>\n",
       "      <th>answer</th>\n",
       "      <th>source</th>\n",
       "      <th>type</th>\n",
       "      <th>Unnamed: 0</th>\n",
       "      <th>id</th>\n",
       "      <th>wiki_text</th>\n",
       "      <th>page_id</th>\n",
       "      <th>page_title</th>\n",
       "      <th>stem_label</th>\n",
       "      <th>prompt_answer</th>\n",
       "      <th>Top30</th>\n",
       "    </tr>\n",
       "  </thead>\n",
       "  <tbody>\n",
       "    <tr>\n",
       "      <th>0</th>\n",
       "      <td>What is the highest point in Ivory Coast?</td>\n",
       "      <td>NaN</td>\n",
       "      <td>Mount Richard-Molard</td>\n",
       "      <td>Mount Guinea</td>\n",
       "      <td>Mount Burkina</td>\n",
       "      <td>Mount Ghana</td>\n",
       "      <td>Mount Liberia</td>\n",
       "      <td>A</td>\n",
       "      <td>NaN</td>\n",
       "      <td>7w8</td>\n",
       "      <td>31890.0</td>\n",
       "      <td>31902.0</td>\n",
       "      <td>The wildlife of Ivory Coast consists of the fl...</td>\n",
       "      <td>10946504.0</td>\n",
       "      <td>Wildlife of Ivory Coast</td>\n",
       "      <td>S</td>\n",
       "      <td>What is the highest point in Ivory Coast? Moun...</td>\n",
       "      <td>[3640222, 3119595, 3306909, 1870383, 5137660, ...</td>\n",
       "    </tr>\n",
       "    <tr>\n",
       "      <th>1</th>\n",
       "      <td>How many species of mammal have been recorded ...</td>\n",
       "      <td>NaN</td>\n",
       "      <td>100 species</td>\n",
       "      <td>200 species</td>\n",
       "      <td>300 species</td>\n",
       "      <td>400 species</td>\n",
       "      <td>500 species</td>\n",
       "      <td>D</td>\n",
       "      <td>NaN</td>\n",
       "      <td>7w8</td>\n",
       "      <td>31891.0</td>\n",
       "      <td>31903.0</td>\n",
       "      <td>The wildlife of Ivory Coast consists of the fl...</td>\n",
       "      <td>10946504.0</td>\n",
       "      <td>Wildlife of Ivory Coast</td>\n",
       "      <td>S</td>\n",
       "      <td>How many species of mammal have been recorded ...</td>\n",
       "      <td>[6116122, 6116094, 6116184, 2937908, 4382336, ...</td>\n",
       "    </tr>\n",
       "    <tr>\n",
       "      <th>2</th>\n",
       "      <td>Which country borders Ivory Coast to the east?</td>\n",
       "      <td>NaN</td>\n",
       "      <td>Liberia</td>\n",
       "      <td>Guinea</td>\n",
       "      <td>Mali</td>\n",
       "      <td>Burkina Faso</td>\n",
       "      <td>Ghana</td>\n",
       "      <td>E</td>\n",
       "      <td>NaN</td>\n",
       "      <td>7w8</td>\n",
       "      <td>31892.0</td>\n",
       "      <td>31904.0</td>\n",
       "      <td>The wildlife of Ivory Coast consists of the fl...</td>\n",
       "      <td>10946504.0</td>\n",
       "      <td>Wildlife of Ivory Coast</td>\n",
       "      <td>S</td>\n",
       "      <td>Which country borders Ivory Coast to the east?...</td>\n",
       "      <td>[1870349, 754236, 2411045, 754233, 754238, 420...</td>\n",
       "    </tr>\n",
       "    <tr>\n",
       "      <th>3</th>\n",
       "      <td>What is the dominant habitat type in Ivory Coast?</td>\n",
       "      <td>NaN</td>\n",
       "      <td>Tropical rainforest</td>\n",
       "      <td>Gallery forests</td>\n",
       "      <td>Savanna</td>\n",
       "      <td>Desert</td>\n",
       "      <td>Mountainous region</td>\n",
       "      <td>C</td>\n",
       "      <td>NaN</td>\n",
       "      <td>7w8</td>\n",
       "      <td>31893.0</td>\n",
       "      <td>31905.0</td>\n",
       "      <td>The wildlife of Ivory Coast consists of the fl...</td>\n",
       "      <td>10946504.0</td>\n",
       "      <td>Wildlife of Ivory Coast</td>\n",
       "      <td>S</td>\n",
       "      <td>What is the dominant habitat type in Ivory Coa...</td>\n",
       "      <td>[6116122, 6116152, 1451645, 3112924, 6116184, ...</td>\n",
       "    </tr>\n",
       "    <tr>\n",
       "      <th>4</th>\n",
       "      <td>How many species of bird have been recorded in...</td>\n",
       "      <td>NaN</td>\n",
       "      <td>100 species</td>\n",
       "      <td>200 species</td>\n",
       "      <td>300 species</td>\n",
       "      <td>400 species</td>\n",
       "      <td>500 species</td>\n",
       "      <td>B</td>\n",
       "      <td>NaN</td>\n",
       "      <td>7w8</td>\n",
       "      <td>31894.0</td>\n",
       "      <td>31906.0</td>\n",
       "      <td>The wildlife of Ivory Coast consists of the fl...</td>\n",
       "      <td>10946504.0</td>\n",
       "      <td>Wildlife of Ivory Coast</td>\n",
       "      <td>S</td>\n",
       "      <td>How many species of bird have been recorded in...</td>\n",
       "      <td>[6116122, 4208758, 6116094, 6116202, 3102800, ...</td>\n",
       "    </tr>\n",
       "    <tr>\n",
       "      <th>...</th>\n",
       "      <td>...</td>\n",
       "      <td>...</td>\n",
       "      <td>...</td>\n",
       "      <td>...</td>\n",
       "      <td>...</td>\n",
       "      <td>...</td>\n",
       "      <td>...</td>\n",
       "      <td>...</td>\n",
       "      <td>...</td>\n",
       "      <td>...</td>\n",
       "      <td>...</td>\n",
       "      <td>...</td>\n",
       "      <td>...</td>\n",
       "      <td>...</td>\n",
       "      <td>...</td>\n",
       "      <td>...</td>\n",
       "      <td>...</td>\n",
       "      <td>...</td>\n",
       "    </tr>\n",
       "    <tr>\n",
       "      <th>46113</th>\n",
       "      <td>What is the inscription on the plinth of the a...</td>\n",
       "      <td>NaN</td>\n",
       "      <td>Rotary Armillary</td>\n",
       "      <td>Service Above Self</td>\n",
       "      <td>This Armillary was presented to the people of ...</td>\n",
       "      <td>The Rotary Club of Cheam has joined with the R...</td>\n",
       "      <td>December 2000</td>\n",
       "      <td>B</td>\n",
       "      <td>NaN</td>\n",
       "      <td>7w8</td>\n",
       "      <td>78003.0</td>\n",
       "      <td>78140.0</td>\n",
       "      <td>The Millennium Dial Armillary is one of six pi...</td>\n",
       "      <td>43629419.0</td>\n",
       "      <td>Sutton armillary</td>\n",
       "      <td>M</td>\n",
       "      <td>What is the inscription on the plinth of the a...</td>\n",
       "      <td>[5456608, 3188648, 3660099, 942381, 5339602, 6...</td>\n",
       "    </tr>\n",
       "    <tr>\n",
       "      <th>46114</th>\n",
       "      <td>How was the Millennium Dial Armillary funded?</td>\n",
       "      <td>NaN</td>\n",
       "      <td>By the London Borough of Sutton</td>\n",
       "      <td>By the Rotary Club</td>\n",
       "      <td>By the sponsors listed on the plinth inscription</td>\n",
       "      <td>By the residents of Sutton</td>\n",
       "      <td>By a joint effort between the Rotary Club and ...</td>\n",
       "      <td>C</td>\n",
       "      <td>NaN</td>\n",
       "      <td>7w8</td>\n",
       "      <td>78004.0</td>\n",
       "      <td>78141.0</td>\n",
       "      <td>The Millennium Dial Armillary is one of six pi...</td>\n",
       "      <td>43629419.0</td>\n",
       "      <td>Sutton armillary</td>\n",
       "      <td>M</td>\n",
       "      <td>How was the Millennium Dial Armillary funded? ...</td>\n",
       "      <td>[5456608, 3188648, 1320182, 5456661, 6043588, ...</td>\n",
       "    </tr>\n",
       "    <tr>\n",
       "      <th>46115</th>\n",
       "      <td>What is the Ukrainian Physicists' Tournament f...</td>\n",
       "      <td>NaN</td>\n",
       "      <td>A competition for secondary school students to...</td>\n",
       "      <td>A competition for university students to solve...</td>\n",
       "      <td>A competition for international physicists to ...</td>\n",
       "      <td>A research project competition for university ...</td>\n",
       "      <td>A creative team competition for university stu...</td>\n",
       "      <td>E</td>\n",
       "      <td>NaN</td>\n",
       "      <td>7w8</td>\n",
       "      <td>78005.0</td>\n",
       "      <td>78142.0</td>\n",
       "      <td>Ukrainian Physicists' Tournament for Universit...</td>\n",
       "      <td>14320529.0</td>\n",
       "      <td>Ukrainian Physicists' Tournament for Universit...</td>\n",
       "      <td>M</td>\n",
       "      <td>What is the Ukrainian Physicists' Tournament f...</td>\n",
       "      <td>[5873747, 2365219, 4566202, 5313060, 4403394, ...</td>\n",
       "    </tr>\n",
       "    <tr>\n",
       "      <th>46116</th>\n",
       "      <td>When was the first Open Physicists' Tournament...</td>\n",
       "      <td>NaN</td>\n",
       "      <td>2001</td>\n",
       "      <td>2005</td>\n",
       "      <td>2010</td>\n",
       "      <td>2015</td>\n",
       "      <td>2020</td>\n",
       "      <td>A</td>\n",
       "      <td>NaN</td>\n",
       "      <td>7w8</td>\n",
       "      <td>78006.0</td>\n",
       "      <td>78143.0</td>\n",
       "      <td>Ukrainian Physicists' Tournament for Universit...</td>\n",
       "      <td>14320529.0</td>\n",
       "      <td>Ukrainian Physicists' Tournament for Universit...</td>\n",
       "      <td>M</td>\n",
       "      <td>When was the first Open Physicists' Tournament...</td>\n",
       "      <td>[5873747, 4566202, 5894257, 1618919, 4403394, ...</td>\n",
       "    </tr>\n",
       "    <tr>\n",
       "      <th>46117</th>\n",
       "      <td>What is the International Physicists' Tournament?</td>\n",
       "      <td>NaN</td>\n",
       "      <td>A tournament for Ukrainian physicists to compe...</td>\n",
       "      <td>A tournament for university students to compet...</td>\n",
       "      <td>A research project competition for internation...</td>\n",
       "      <td>A continuation of school Tournaments of Young ...</td>\n",
       "      <td>A creative team competition for international ...</td>\n",
       "      <td>B</td>\n",
       "      <td>NaN</td>\n",
       "      <td>7w8</td>\n",
       "      <td>78007.0</td>\n",
       "      <td>78144.0</td>\n",
       "      <td>Ukrainian Physicists' Tournament for Universit...</td>\n",
       "      <td>14320529.0</td>\n",
       "      <td>Ukrainian Physicists' Tournament for Universit...</td>\n",
       "      <td>M</td>\n",
       "      <td>What is the International Physicists' Tourname...</td>\n",
       "      <td>[5873747, 5894257, 4403394, 2365219, 955964, 4...</td>\n",
       "    </tr>\n",
       "  </tbody>\n",
       "</table>\n",
       "<p>46118 rows × 18 columns</p>\n",
       "</div>"
      ],
      "text/plain": [
       "                                                  prompt context  \\\n",
       "0              What is the highest point in Ivory Coast?     NaN   \n",
       "1      How many species of mammal have been recorded ...     NaN   \n",
       "2         Which country borders Ivory Coast to the east?     NaN   \n",
       "3      What is the dominant habitat type in Ivory Coast?     NaN   \n",
       "4      How many species of bird have been recorded in...     NaN   \n",
       "...                                                  ...     ...   \n",
       "46113  What is the inscription on the plinth of the a...     NaN   \n",
       "46114      How was the Millennium Dial Armillary funded?     NaN   \n",
       "46115  What is the Ukrainian Physicists' Tournament f...     NaN   \n",
       "46116  When was the first Open Physicists' Tournament...     NaN   \n",
       "46117  What is the International Physicists' Tournament?     NaN   \n",
       "\n",
       "                                                       A  \\\n",
       "0                                   Mount Richard-Molard   \n",
       "1                                            100 species   \n",
       "2                                                Liberia   \n",
       "3                                    Tropical rainforest   \n",
       "4                                            100 species   \n",
       "...                                                  ...   \n",
       "46113                                   Rotary Armillary   \n",
       "46114                    By the London Borough of Sutton   \n",
       "46115  A competition for secondary school students to...   \n",
       "46116                                               2001   \n",
       "46117  A tournament for Ukrainian physicists to compe...   \n",
       "\n",
       "                                                       B  \\\n",
       "0                                           Mount Guinea   \n",
       "1                                            200 species   \n",
       "2                                                 Guinea   \n",
       "3                                        Gallery forests   \n",
       "4                                            200 species   \n",
       "...                                                  ...   \n",
       "46113                                 Service Above Self   \n",
       "46114                                 By the Rotary Club   \n",
       "46115  A competition for university students to solve...   \n",
       "46116                                               2005   \n",
       "46117  A tournament for university students to compet...   \n",
       "\n",
       "                                                       C  \\\n",
       "0                                          Mount Burkina   \n",
       "1                                            300 species   \n",
       "2                                                   Mali   \n",
       "3                                                Savanna   \n",
       "4                                            300 species   \n",
       "...                                                  ...   \n",
       "46113  This Armillary was presented to the people of ...   \n",
       "46114   By the sponsors listed on the plinth inscription   \n",
       "46115  A competition for international physicists to ...   \n",
       "46116                                               2010   \n",
       "46117  A research project competition for internation...   \n",
       "\n",
       "                                                       D  \\\n",
       "0                                            Mount Ghana   \n",
       "1                                            400 species   \n",
       "2                                           Burkina Faso   \n",
       "3                                                 Desert   \n",
       "4                                            400 species   \n",
       "...                                                  ...   \n",
       "46113  The Rotary Club of Cheam has joined with the R...   \n",
       "46114                         By the residents of Sutton   \n",
       "46115  A research project competition for university ...   \n",
       "46116                                               2015   \n",
       "46117  A continuation of school Tournaments of Young ...   \n",
       "\n",
       "                                                       E answer  source type  \\\n",
       "0                                          Mount Liberia      A     NaN  7w8   \n",
       "1                                            500 species      D     NaN  7w8   \n",
       "2                                                  Ghana      E     NaN  7w8   \n",
       "3                                     Mountainous region      C     NaN  7w8   \n",
       "4                                            500 species      B     NaN  7w8   \n",
       "...                                                  ...    ...     ...  ...   \n",
       "46113                                      December 2000      B     NaN  7w8   \n",
       "46114  By a joint effort between the Rotary Club and ...      C     NaN  7w8   \n",
       "46115  A creative team competition for university stu...      E     NaN  7w8   \n",
       "46116                                               2020      A     NaN  7w8   \n",
       "46117  A creative team competition for international ...      B     NaN  7w8   \n",
       "\n",
       "       Unnamed: 0       id                                          wiki_text  \\\n",
       "0         31890.0  31902.0  The wildlife of Ivory Coast consists of the fl...   \n",
       "1         31891.0  31903.0  The wildlife of Ivory Coast consists of the fl...   \n",
       "2         31892.0  31904.0  The wildlife of Ivory Coast consists of the fl...   \n",
       "3         31893.0  31905.0  The wildlife of Ivory Coast consists of the fl...   \n",
       "4         31894.0  31906.0  The wildlife of Ivory Coast consists of the fl...   \n",
       "...           ...      ...                                                ...   \n",
       "46113     78003.0  78140.0  The Millennium Dial Armillary is one of six pi...   \n",
       "46114     78004.0  78141.0  The Millennium Dial Armillary is one of six pi...   \n",
       "46115     78005.0  78142.0  Ukrainian Physicists' Tournament for Universit...   \n",
       "46116     78006.0  78143.0  Ukrainian Physicists' Tournament for Universit...   \n",
       "46117     78007.0  78144.0  Ukrainian Physicists' Tournament for Universit...   \n",
       "\n",
       "          page_id                                         page_title  \\\n",
       "0      10946504.0                            Wildlife of Ivory Coast   \n",
       "1      10946504.0                            Wildlife of Ivory Coast   \n",
       "2      10946504.0                            Wildlife of Ivory Coast   \n",
       "3      10946504.0                            Wildlife of Ivory Coast   \n",
       "4      10946504.0                            Wildlife of Ivory Coast   \n",
       "...           ...                                                ...   \n",
       "46113  43629419.0                                   Sutton armillary   \n",
       "46114  43629419.0                                   Sutton armillary   \n",
       "46115  14320529.0  Ukrainian Physicists' Tournament for Universit...   \n",
       "46116  14320529.0  Ukrainian Physicists' Tournament for Universit...   \n",
       "46117  14320529.0  Ukrainian Physicists' Tournament for Universit...   \n",
       "\n",
       "      stem_label                                      prompt_answer  \\\n",
       "0              S  What is the highest point in Ivory Coast? Moun...   \n",
       "1              S  How many species of mammal have been recorded ...   \n",
       "2              S  Which country borders Ivory Coast to the east?...   \n",
       "3              S  What is the dominant habitat type in Ivory Coa...   \n",
       "4              S  How many species of bird have been recorded in...   \n",
       "...          ...                                                ...   \n",
       "46113          M  What is the inscription on the plinth of the a...   \n",
       "46114          M  How was the Millennium Dial Armillary funded? ...   \n",
       "46115          M  What is the Ukrainian Physicists' Tournament f...   \n",
       "46116          M  When was the first Open Physicists' Tournament...   \n",
       "46117          M  What is the International Physicists' Tourname...   \n",
       "\n",
       "                                                   Top30  \n",
       "0      [3640222, 3119595, 3306909, 1870383, 5137660, ...  \n",
       "1      [6116122, 6116094, 6116184, 2937908, 4382336, ...  \n",
       "2      [1870349, 754236, 2411045, 754233, 754238, 420...  \n",
       "3      [6116122, 6116152, 1451645, 3112924, 6116184, ...  \n",
       "4      [6116122, 4208758, 6116094, 6116202, 3102800, ...  \n",
       "...                                                  ...  \n",
       "46113  [5456608, 3188648, 3660099, 942381, 5339602, 6...  \n",
       "46114  [5456608, 3188648, 1320182, 5456661, 6043588, ...  \n",
       "46115  [5873747, 2365219, 4566202, 5313060, 4403394, ...  \n",
       "46116  [5873747, 4566202, 5894257, 1618919, 4403394, ...  \n",
       "46117  [5873747, 5894257, 4403394, 2365219, 955964, 4...  \n",
       "\n",
       "[46118 rows x 18 columns]"
      ]
     },
     "execution_count": 3,
     "metadata": {},
     "output_type": "execute_result"
    }
   ],
   "source": [
    "data2"
   ]
  },
  {
   "cell_type": "code",
   "execution_count": 2,
   "id": "a3852bb5-7787-4a73-a817-a0e2d199aca7",
   "metadata": {
    "tags": []
   },
   "outputs": [],
   "source": [
    "import pandas as pd\n",
    "data = pd.read_pickle('./data/12w_base_recall_base_sentence.pkl')"
   ]
  },
  {
   "cell_type": "code",
   "execution_count": 3,
   "id": "97969889-54c0-46d7-9669-419696ebc5a0",
   "metadata": {
    "tags": []
   },
   "outputs": [
    {
     "data": {
      "text/html": [
       "<div>\n",
       "<style scoped>\n",
       "    .dataframe tbody tr th:only-of-type {\n",
       "        vertical-align: middle;\n",
       "    }\n",
       "\n",
       "    .dataframe tbody tr th {\n",
       "        vertical-align: top;\n",
       "    }\n",
       "\n",
       "    .dataframe thead th {\n",
       "        text-align: right;\n",
       "    }\n",
       "</style>\n",
       "<table border=\"1\" class=\"dataframe\">\n",
       "  <thead>\n",
       "    <tr style=\"text-align: right;\">\n",
       "      <th></th>\n",
       "      <th>prompt</th>\n",
       "      <th>context</th>\n",
       "      <th>A</th>\n",
       "      <th>B</th>\n",
       "      <th>C</th>\n",
       "      <th>D</th>\n",
       "      <th>E</th>\n",
       "      <th>answer</th>\n",
       "      <th>source</th>\n",
       "      <th>prompt_answer</th>\n",
       "      <th>index</th>\n",
       "      <th>top1000_to_top30_ids</th>\n",
       "      <th>Unnamed: 0</th>\n",
       "      <th>id</th>\n",
       "      <th>wiki_text</th>\n",
       "      <th>page_id</th>\n",
       "      <th>page_title</th>\n",
       "      <th>stem_label</th>\n",
       "      <th>answer_all</th>\n",
       "      <th>prompt_answer_stem</th>\n",
       "    </tr>\n",
       "  </thead>\n",
       "  <tbody>\n",
       "    <tr>\n",
       "      <th>0</th>\n",
       "      <td>In relation to Eunice Fay McKenzie's career, w...</td>\n",
       "      <td>Eunice Fay McKenzie (February 19, 1918 – April...</td>\n",
       "      <td>McKenzie showcased her singing talents in nume...</td>\n",
       "      <td>McKenzie is primarily remembered for her starr...</td>\n",
       "      <td>McKenzie gained recognition for her role as a ...</td>\n",
       "      <td>McKenzie's collaborations with director Blake ...</td>\n",
       "      <td>McKenzie's successful career in sound films co...</td>\n",
       "      <td>B</td>\n",
       "      <td>1.0</td>\n",
       "      <td>In relation to Eunice Fay McKenzie's career, w...</td>\n",
       "      <td>0</td>\n",
       "      <td>[1672980, 2434200, 2225748, 5539441, 577051, 2...</td>\n",
       "      <td>NaN</td>\n",
       "      <td>0</td>\n",
       "      <td>NaN</td>\n",
       "      <td>NaN</td>\n",
       "      <td>NaN</td>\n",
       "      <td>NaN</td>\n",
       "      <td>McKenzie showcased her singing talents in nume...</td>\n",
       "      <td>In relation to Eunice Fay McKenzie's career, w...</td>\n",
       "    </tr>\n",
       "    <tr>\n",
       "      <th>1</th>\n",
       "      <td>How does Modified Newtonian Dynamics (MOND) im...</td>\n",
       "      <td>The results are consistent with MOND, and plac...</td>\n",
       "      <td>MOND is a theory that increases the discrepanc...</td>\n",
       "      <td>MOND explains the missing baryonic mass in gal...</td>\n",
       "      <td>MOND is a theory that reduces the observed mis...</td>\n",
       "      <td>MOND is a theory that eliminates the observed ...</td>\n",
       "      <td>MOND's impact on the observed missing baryonic...</td>\n",
       "      <td>E</td>\n",
       "      <td>1.0</td>\n",
       "      <td>How does Modified Newtonian Dynamics (MOND) im...</td>\n",
       "      <td>1</td>\n",
       "      <td>[1830805, 1228442, 748639, 3573843, 5559316, 1...</td>\n",
       "      <td>NaN</td>\n",
       "      <td>1</td>\n",
       "      <td>NaN</td>\n",
       "      <td>NaN</td>\n",
       "      <td>NaN</td>\n",
       "      <td>NaN</td>\n",
       "      <td>MOND is a theory that increases the discrepanc...</td>\n",
       "      <td>How does Modified Newtonian Dynamics (MOND) im...</td>\n",
       "    </tr>\n",
       "    <tr>\n",
       "      <th>2</th>\n",
       "      <td>Which of the following statements accurately d...</td>\n",
       "      <td>Ray Montgomerie (born 17 April 1961) is a Scot...</td>\n",
       "      <td>Ray Montgomerie is a former footballer who pla...</td>\n",
       "      <td>Ray Montgomerie is a former footballer who pla...</td>\n",
       "      <td>Ray Montgomerie is a former footballer who pla...</td>\n",
       "      <td>Ray Montgomerie is a former footballer who pla...</td>\n",
       "      <td>Ray Montgomerie is a former footballer who pla...</td>\n",
       "      <td>B</td>\n",
       "      <td>1.0</td>\n",
       "      <td>Which of the following statements accurately d...</td>\n",
       "      <td>2</td>\n",
       "      <td>[4789707, 1302988, 4788998, 1063857, 4789382, ...</td>\n",
       "      <td>NaN</td>\n",
       "      <td>2</td>\n",
       "      <td>NaN</td>\n",
       "      <td>NaN</td>\n",
       "      <td>NaN</td>\n",
       "      <td>NaN</td>\n",
       "      <td>Ray Montgomerie is a former footballer who pla...</td>\n",
       "      <td>Which of the following statements accurately d...</td>\n",
       "    </tr>\n",
       "    <tr>\n",
       "      <th>3</th>\n",
       "      <td>What is the significance of the Museum of the ...</td>\n",
       "      <td>The Museum of the Occupation of Latvia () is a...</td>\n",
       "      <td>The Museum of the Occupation of Latvia is a me...</td>\n",
       "      <td>The Museum of the Occupation of Latvia showcas...</td>\n",
       "      <td>The Museum of the Occupation of Latvia was est...</td>\n",
       "      <td>The Museum of the Occupation of Latvia primari...</td>\n",
       "      <td>The Museum of the Occupation of Latvia is a mu...</td>\n",
       "      <td>C</td>\n",
       "      <td>1.0</td>\n",
       "      <td>What is the significance of the Museum of the ...</td>\n",
       "      <td>3</td>\n",
       "      <td>[3669879, 3669577, 3669963, 1597785, 3669701, ...</td>\n",
       "      <td>NaN</td>\n",
       "      <td>3</td>\n",
       "      <td>NaN</td>\n",
       "      <td>NaN</td>\n",
       "      <td>NaN</td>\n",
       "      <td>NaN</td>\n",
       "      <td>The Museum of the Occupation of Latvia is a me...</td>\n",
       "      <td>What is the significance of the Museum of the ...</td>\n",
       "    </tr>\n",
       "    <tr>\n",
       "      <th>4</th>\n",
       "      <td>What was the previous name of the Christian Sc...</td>\n",
       "      <td>The Christian School and Chapel for the Deaf (...</td>\n",
       "      <td>The Christian School for the Deaf (CSD)</td>\n",
       "      <td>The Christian School for the Blind (CSB)</td>\n",
       "      <td>The Evangelical School and Chapel for the Deaf...</td>\n",
       "      <td>The Evangelical School for the Deaf (ESD)</td>\n",
       "      <td>The Evangelical School for the Blind (ESB)</td>\n",
       "      <td>D</td>\n",
       "      <td>1.0</td>\n",
       "      <td>What was the previous name of the Christian Sc...</td>\n",
       "      <td>4</td>\n",
       "      <td>[988551, 1060434, 797210, 3145550, 4374104, 58...</td>\n",
       "      <td>NaN</td>\n",
       "      <td>4</td>\n",
       "      <td>NaN</td>\n",
       "      <td>NaN</td>\n",
       "      <td>NaN</td>\n",
       "      <td>NaN</td>\n",
       "      <td>The Christian School for the Deaf (CSD) The Ch...</td>\n",
       "      <td>What was the previous name of the Christian Sc...</td>\n",
       "    </tr>\n",
       "    <tr>\n",
       "      <th>...</th>\n",
       "      <td>...</td>\n",
       "      <td>...</td>\n",
       "      <td>...</td>\n",
       "      <td>...</td>\n",
       "      <td>...</td>\n",
       "      <td>...</td>\n",
       "      <td>...</td>\n",
       "      <td>...</td>\n",
       "      <td>...</td>\n",
       "      <td>...</td>\n",
       "      <td>...</td>\n",
       "      <td>...</td>\n",
       "      <td>...</td>\n",
       "      <td>...</td>\n",
       "      <td>...</td>\n",
       "      <td>...</td>\n",
       "      <td>...</td>\n",
       "      <td>...</td>\n",
       "      <td>...</td>\n",
       "      <td>...</td>\n",
       "    </tr>\n",
       "    <tr>\n",
       "      <th>138351</th>\n",
       "      <td>What is the inscription on the plinth of the a...</td>\n",
       "      <td>The armillary also had to be removed temporari...</td>\n",
       "      <td>Rotary Armillary</td>\n",
       "      <td>Service Above Self</td>\n",
       "      <td>This Armillary was presented to the people of ...</td>\n",
       "      <td>The Rotary Club of Cheam has joined with the R...</td>\n",
       "      <td>December 2000</td>\n",
       "      <td>B</td>\n",
       "      <td>NaN</td>\n",
       "      <td>What is the inscription on the plinth of the a...</td>\n",
       "      <td>38999</td>\n",
       "      <td>[5456608, 3188648, 5456506, 5456632, 858659, 3...</td>\n",
       "      <td>78003.0</td>\n",
       "      <td>138351</td>\n",
       "      <td>The Millennium Dial Armillary is one of six pi...</td>\n",
       "      <td>43629419.0</td>\n",
       "      <td>Sutton armillary</td>\n",
       "      <td>M</td>\n",
       "      <td>Rotary Armillary Service Above Self This Armil...</td>\n",
       "      <td>What is the inscription on the plinth of the a...</td>\n",
       "    </tr>\n",
       "    <tr>\n",
       "      <th>138352</th>\n",
       "      <td>How was the Millennium Dial Armillary funded?</td>\n",
       "      <td>The Millennium Dial Armillary is one of six pi...</td>\n",
       "      <td>By the London Borough of Sutton</td>\n",
       "      <td>By the Rotary Club</td>\n",
       "      <td>By the sponsors listed on the plinth inscription</td>\n",
       "      <td>By the residents of Sutton</td>\n",
       "      <td>By a joint effort between the Rotary Club and ...</td>\n",
       "      <td>C</td>\n",
       "      <td>NaN</td>\n",
       "      <td>How was the Millennium Dial Armillary funded? ...</td>\n",
       "      <td>39000</td>\n",
       "      <td>[5456608, 1320182, 5456506, 5456671, 3545326, ...</td>\n",
       "      <td>78004.0</td>\n",
       "      <td>138352</td>\n",
       "      <td>The Millennium Dial Armillary is one of six pi...</td>\n",
       "      <td>43629419.0</td>\n",
       "      <td>Sutton armillary</td>\n",
       "      <td>M</td>\n",
       "      <td>By the London Borough of Sutton By the Rotary ...</td>\n",
       "      <td>How was the Millennium Dial Armillary funded? ...</td>\n",
       "    </tr>\n",
       "    <tr>\n",
       "      <th>138353</th>\n",
       "      <td>What is the Ukrainian Physicists' Tournament f...</td>\n",
       "      <td>— С. 3 ==External links== *Official site of Uk...</td>\n",
       "      <td>A competition for secondary school students to...</td>\n",
       "      <td>A competition for university students to solve...</td>\n",
       "      <td>A competition for international physicists to ...</td>\n",
       "      <td>A research project competition for university ...</td>\n",
       "      <td>A creative team competition for university stu...</td>\n",
       "      <td>E</td>\n",
       "      <td>NaN</td>\n",
       "      <td>What is the Ukrainian Physicists' Tournament f...</td>\n",
       "      <td>39001</td>\n",
       "      <td>[5873747, 2365219, 5313060, 4566202, 4403394, ...</td>\n",
       "      <td>78005.0</td>\n",
       "      <td>138353</td>\n",
       "      <td>Ukrainian Physicists' Tournament for Universit...</td>\n",
       "      <td>14320529.0</td>\n",
       "      <td>Ukrainian Physicists' Tournament for Universit...</td>\n",
       "      <td>M</td>\n",
       "      <td>A competition for secondary school students to...</td>\n",
       "      <td>What is the Ukrainian Physicists' Tournament f...</td>\n",
       "    </tr>\n",
       "    <tr>\n",
       "      <th>138354</th>\n",
       "      <td>When was the first Open Physicists' Tournament...</td>\n",
       "      <td>The first Open Physicists' Tournament for Univ...</td>\n",
       "      <td>2001</td>\n",
       "      <td>2005</td>\n",
       "      <td>2010</td>\n",
       "      <td>2015</td>\n",
       "      <td>2020</td>\n",
       "      <td>A</td>\n",
       "      <td>NaN</td>\n",
       "      <td>When was the first Open Physicists' Tournament...</td>\n",
       "      <td>39002</td>\n",
       "      <td>[5873747, 4403394, 2365219, 2362985, 5894257, ...</td>\n",
       "      <td>78006.0</td>\n",
       "      <td>138354</td>\n",
       "      <td>Ukrainian Physicists' Tournament for Universit...</td>\n",
       "      <td>14320529.0</td>\n",
       "      <td>Ukrainian Physicists' Tournament for Universit...</td>\n",
       "      <td>M</td>\n",
       "      <td>2001 2005 2010 2015 2020</td>\n",
       "      <td>When was the first Open Physicists' Tournament...</td>\n",
       "    </tr>\n",
       "    <tr>\n",
       "      <th>138355</th>\n",
       "      <td>What is the International Physicists' Tournament?</td>\n",
       "      <td>— С. 3 ==External links== *Official site of Uk...</td>\n",
       "      <td>A tournament for Ukrainian physicists to compe...</td>\n",
       "      <td>A tournament for university students to compet...</td>\n",
       "      <td>A research project competition for internation...</td>\n",
       "      <td>A continuation of school Tournaments of Young ...</td>\n",
       "      <td>A creative team competition for international ...</td>\n",
       "      <td>B</td>\n",
       "      <td>NaN</td>\n",
       "      <td>What is the International Physicists' Tourname...</td>\n",
       "      <td>39003</td>\n",
       "      <td>[5873747, 4403394, 5894257, 2365219, 955964, 2...</td>\n",
       "      <td>78007.0</td>\n",
       "      <td>138355</td>\n",
       "      <td>Ukrainian Physicists' Tournament for Universit...</td>\n",
       "      <td>14320529.0</td>\n",
       "      <td>Ukrainian Physicists' Tournament for Universit...</td>\n",
       "      <td>M</td>\n",
       "      <td>A tournament for Ukrainian physicists to compe...</td>\n",
       "      <td>What is the International Physicists' Tourname...</td>\n",
       "    </tr>\n",
       "  </tbody>\n",
       "</table>\n",
       "<p>138356 rows × 20 columns</p>\n",
       "</div>"
      ],
      "text/plain": [
       "                                                   prompt  \\\n",
       "0       In relation to Eunice Fay McKenzie's career, w...   \n",
       "1       How does Modified Newtonian Dynamics (MOND) im...   \n",
       "2       Which of the following statements accurately d...   \n",
       "3       What is the significance of the Museum of the ...   \n",
       "4       What was the previous name of the Christian Sc...   \n",
       "...                                                   ...   \n",
       "138351  What is the inscription on the plinth of the a...   \n",
       "138352      How was the Millennium Dial Armillary funded?   \n",
       "138353  What is the Ukrainian Physicists' Tournament f...   \n",
       "138354  When was the first Open Physicists' Tournament...   \n",
       "138355  What is the International Physicists' Tournament?   \n",
       "\n",
       "                                                  context  \\\n",
       "0       Eunice Fay McKenzie (February 19, 1918 – April...   \n",
       "1       The results are consistent with MOND, and plac...   \n",
       "2       Ray Montgomerie (born 17 April 1961) is a Scot...   \n",
       "3       The Museum of the Occupation of Latvia () is a...   \n",
       "4       The Christian School and Chapel for the Deaf (...   \n",
       "...                                                   ...   \n",
       "138351  The armillary also had to be removed temporari...   \n",
       "138352  The Millennium Dial Armillary is one of six pi...   \n",
       "138353  — С. 3 ==External links== *Official site of Uk...   \n",
       "138354  The first Open Physicists' Tournament for Univ...   \n",
       "138355  — С. 3 ==External links== *Official site of Uk...   \n",
       "\n",
       "                                                        A  \\\n",
       "0       McKenzie showcased her singing talents in nume...   \n",
       "1       MOND is a theory that increases the discrepanc...   \n",
       "2       Ray Montgomerie is a former footballer who pla...   \n",
       "3       The Museum of the Occupation of Latvia is a me...   \n",
       "4                 The Christian School for the Deaf (CSD)   \n",
       "...                                                   ...   \n",
       "138351                                   Rotary Armillary   \n",
       "138352                    By the London Borough of Sutton   \n",
       "138353  A competition for secondary school students to...   \n",
       "138354                                               2001   \n",
       "138355  A tournament for Ukrainian physicists to compe...   \n",
       "\n",
       "                                                        B  \\\n",
       "0       McKenzie is primarily remembered for her starr...   \n",
       "1       MOND explains the missing baryonic mass in gal...   \n",
       "2       Ray Montgomerie is a former footballer who pla...   \n",
       "3       The Museum of the Occupation of Latvia showcas...   \n",
       "4                The Christian School for the Blind (CSB)   \n",
       "...                                                   ...   \n",
       "138351                                 Service Above Self   \n",
       "138352                                 By the Rotary Club   \n",
       "138353  A competition for university students to solve...   \n",
       "138354                                               2005   \n",
       "138355  A tournament for university students to compet...   \n",
       "\n",
       "                                                        C  \\\n",
       "0       McKenzie gained recognition for her role as a ...   \n",
       "1       MOND is a theory that reduces the observed mis...   \n",
       "2       Ray Montgomerie is a former footballer who pla...   \n",
       "3       The Museum of the Occupation of Latvia was est...   \n",
       "4       The Evangelical School and Chapel for the Deaf...   \n",
       "...                                                   ...   \n",
       "138351  This Armillary was presented to the people of ...   \n",
       "138352   By the sponsors listed on the plinth inscription   \n",
       "138353  A competition for international physicists to ...   \n",
       "138354                                               2010   \n",
       "138355  A research project competition for internation...   \n",
       "\n",
       "                                                        D  \\\n",
       "0       McKenzie's collaborations with director Blake ...   \n",
       "1       MOND is a theory that eliminates the observed ...   \n",
       "2       Ray Montgomerie is a former footballer who pla...   \n",
       "3       The Museum of the Occupation of Latvia primari...   \n",
       "4               The Evangelical School for the Deaf (ESD)   \n",
       "...                                                   ...   \n",
       "138351  The Rotary Club of Cheam has joined with the R...   \n",
       "138352                         By the residents of Sutton   \n",
       "138353  A research project competition for university ...   \n",
       "138354                                               2015   \n",
       "138355  A continuation of school Tournaments of Young ...   \n",
       "\n",
       "                                                        E answer  source  \\\n",
       "0       McKenzie's successful career in sound films co...      B     1.0   \n",
       "1       MOND's impact on the observed missing baryonic...      E     1.0   \n",
       "2       Ray Montgomerie is a former footballer who pla...      B     1.0   \n",
       "3       The Museum of the Occupation of Latvia is a mu...      C     1.0   \n",
       "4              The Evangelical School for the Blind (ESB)      D     1.0   \n",
       "...                                                   ...    ...     ...   \n",
       "138351                                      December 2000      B     NaN   \n",
       "138352  By a joint effort between the Rotary Club and ...      C     NaN   \n",
       "138353  A creative team competition for university stu...      E     NaN   \n",
       "138354                                               2020      A     NaN   \n",
       "138355  A creative team competition for international ...      B     NaN   \n",
       "\n",
       "                                            prompt_answer  index  \\\n",
       "0       In relation to Eunice Fay McKenzie's career, w...      0   \n",
       "1       How does Modified Newtonian Dynamics (MOND) im...      1   \n",
       "2       Which of the following statements accurately d...      2   \n",
       "3       What is the significance of the Museum of the ...      3   \n",
       "4       What was the previous name of the Christian Sc...      4   \n",
       "...                                                   ...    ...   \n",
       "138351  What is the inscription on the plinth of the a...  38999   \n",
       "138352  How was the Millennium Dial Armillary funded? ...  39000   \n",
       "138353  What is the Ukrainian Physicists' Tournament f...  39001   \n",
       "138354  When was the first Open Physicists' Tournament...  39002   \n",
       "138355  What is the International Physicists' Tourname...  39003   \n",
       "\n",
       "                                     top1000_to_top30_ids  Unnamed: 0      id  \\\n",
       "0       [1672980, 2434200, 2225748, 5539441, 577051, 2...         NaN       0   \n",
       "1       [1830805, 1228442, 748639, 3573843, 5559316, 1...         NaN       1   \n",
       "2       [4789707, 1302988, 4788998, 1063857, 4789382, ...         NaN       2   \n",
       "3       [3669879, 3669577, 3669963, 1597785, 3669701, ...         NaN       3   \n",
       "4       [988551, 1060434, 797210, 3145550, 4374104, 58...         NaN       4   \n",
       "...                                                   ...         ...     ...   \n",
       "138351  [5456608, 3188648, 5456506, 5456632, 858659, 3...     78003.0  138351   \n",
       "138352  [5456608, 1320182, 5456506, 5456671, 3545326, ...     78004.0  138352   \n",
       "138353  [5873747, 2365219, 5313060, 4566202, 4403394, ...     78005.0  138353   \n",
       "138354  [5873747, 4403394, 2365219, 2362985, 5894257, ...     78006.0  138354   \n",
       "138355  [5873747, 4403394, 5894257, 2365219, 955964, 2...     78007.0  138355   \n",
       "\n",
       "                                                wiki_text     page_id  \\\n",
       "0                                                     NaN         NaN   \n",
       "1                                                     NaN         NaN   \n",
       "2                                                     NaN         NaN   \n",
       "3                                                     NaN         NaN   \n",
       "4                                                     NaN         NaN   \n",
       "...                                                   ...         ...   \n",
       "138351  The Millennium Dial Armillary is one of six pi...  43629419.0   \n",
       "138352  The Millennium Dial Armillary is one of six pi...  43629419.0   \n",
       "138353  Ukrainian Physicists' Tournament for Universit...  14320529.0   \n",
       "138354  Ukrainian Physicists' Tournament for Universit...  14320529.0   \n",
       "138355  Ukrainian Physicists' Tournament for Universit...  14320529.0   \n",
       "\n",
       "                                               page_title stem_label  \\\n",
       "0                                                     NaN        NaN   \n",
       "1                                                     NaN        NaN   \n",
       "2                                                     NaN        NaN   \n",
       "3                                                     NaN        NaN   \n",
       "4                                                     NaN        NaN   \n",
       "...                                                   ...        ...   \n",
       "138351                                   Sutton armillary          M   \n",
       "138352                                   Sutton armillary          M   \n",
       "138353  Ukrainian Physicists' Tournament for Universit...          M   \n",
       "138354  Ukrainian Physicists' Tournament for Universit...          M   \n",
       "138355  Ukrainian Physicists' Tournament for Universit...          M   \n",
       "\n",
       "                                               answer_all  \\\n",
       "0       McKenzie showcased her singing talents in nume...   \n",
       "1       MOND is a theory that increases the discrepanc...   \n",
       "2       Ray Montgomerie is a former footballer who pla...   \n",
       "3       The Museum of the Occupation of Latvia is a me...   \n",
       "4       The Christian School for the Deaf (CSD) The Ch...   \n",
       "...                                                   ...   \n",
       "138351  Rotary Armillary Service Above Self This Armil...   \n",
       "138352  By the London Borough of Sutton By the Rotary ...   \n",
       "138353  A competition for secondary school students to...   \n",
       "138354                           2001 2005 2010 2015 2020   \n",
       "138355  A tournament for Ukrainian physicists to compe...   \n",
       "\n",
       "                                       prompt_answer_stem  \n",
       "0       In relation to Eunice Fay McKenzie's career, w...  \n",
       "1       How does Modified Newtonian Dynamics (MOND) im...  \n",
       "2       Which of the following statements accurately d...  \n",
       "3       What is the significance of the Museum of the ...  \n",
       "4       What was the previous name of the Christian Sc...  \n",
       "...                                                   ...  \n",
       "138351  What is the inscription on the plinth of the a...  \n",
       "138352  How was the Millennium Dial Armillary funded? ...  \n",
       "138353  What is the Ukrainian Physicists' Tournament f...  \n",
       "138354  When was the first Open Physicists' Tournament...  \n",
       "138355  What is the International Physicists' Tourname...  \n",
       "\n",
       "[138356 rows x 20 columns]"
      ]
     },
     "execution_count": 3,
     "metadata": {},
     "output_type": "execute_result"
    }
   ],
   "source": [
    "data = data[['prompt', 'context', 'A', 'B', 'C', 'D', 'E', 'answer']]"
   ]
  },
  {
   "cell_type": "code",
   "execution_count": 5,
   "id": "2bd654b3-de58-4c15-bfed-3786afdfbdf8",
   "metadata": {
    "tags": []
   },
   "outputs": [
    {
     "data": {
      "text/html": [
       "<div>\n",
       "<style scoped>\n",
       "    .dataframe tbody tr th:only-of-type {\n",
       "        vertical-align: middle;\n",
       "    }\n",
       "\n",
       "    .dataframe tbody tr th {\n",
       "        vertical-align: top;\n",
       "    }\n",
       "\n",
       "    .dataframe thead th {\n",
       "        text-align: right;\n",
       "    }\n",
       "</style>\n",
       "<table border=\"1\" class=\"dataframe\">\n",
       "  <thead>\n",
       "    <tr style=\"text-align: right;\">\n",
       "      <th></th>\n",
       "      <th>prompt</th>\n",
       "      <th>context</th>\n",
       "      <th>A</th>\n",
       "      <th>B</th>\n",
       "      <th>C</th>\n",
       "      <th>D</th>\n",
       "      <th>E</th>\n",
       "      <th>answer</th>\n",
       "      <th>source</th>\n",
       "      <th>prompt_answer</th>\n",
       "      <th>index</th>\n",
       "      <th>top1000_to_top30_ids</th>\n",
       "      <th>Unnamed: 0</th>\n",
       "      <th>id</th>\n",
       "      <th>wiki_text</th>\n",
       "      <th>page_id</th>\n",
       "      <th>page_title</th>\n",
       "      <th>stem_label</th>\n",
       "      <th>answer_all</th>\n",
       "      <th>prompt_answer_stem</th>\n",
       "    </tr>\n",
       "  </thead>\n",
       "  <tbody>\n",
       "    <tr>\n",
       "      <th>0</th>\n",
       "      <td>In relation to Eunice Fay McKenzie's career, w...</td>\n",
       "      <td>Eunice Fay McKenzie (February 19, 1918 – April...</td>\n",
       "      <td>McKenzie showcased her singing talents in nume...</td>\n",
       "      <td>McKenzie is primarily remembered for her starr...</td>\n",
       "      <td>McKenzie gained recognition for her role as a ...</td>\n",
       "      <td>McKenzie's collaborations with director Blake ...</td>\n",
       "      <td>McKenzie's successful career in sound films co...</td>\n",
       "      <td>B</td>\n",
       "      <td>1.0</td>\n",
       "      <td>In relation to Eunice Fay McKenzie's career, w...</td>\n",
       "      <td>0</td>\n",
       "      <td>[1672980, 2434200, 2225748, 5539441, 577051, 2...</td>\n",
       "      <td>NaN</td>\n",
       "      <td>0</td>\n",
       "      <td>NaN</td>\n",
       "      <td>NaN</td>\n",
       "      <td>NaN</td>\n",
       "      <td>NaN</td>\n",
       "      <td>McKenzie showcased her singing talents in nume...</td>\n",
       "      <td>In relation to Eunice Fay McKenzie's career, w...</td>\n",
       "    </tr>\n",
       "    <tr>\n",
       "      <th>1</th>\n",
       "      <td>How does Modified Newtonian Dynamics (MOND) im...</td>\n",
       "      <td>The results are consistent with MOND, and plac...</td>\n",
       "      <td>MOND is a theory that increases the discrepanc...</td>\n",
       "      <td>MOND explains the missing baryonic mass in gal...</td>\n",
       "      <td>MOND is a theory that reduces the observed mis...</td>\n",
       "      <td>MOND is a theory that eliminates the observed ...</td>\n",
       "      <td>MOND's impact on the observed missing baryonic...</td>\n",
       "      <td>E</td>\n",
       "      <td>1.0</td>\n",
       "      <td>How does Modified Newtonian Dynamics (MOND) im...</td>\n",
       "      <td>1</td>\n",
       "      <td>[1830805, 1228442, 748639, 3573843, 5559316, 1...</td>\n",
       "      <td>NaN</td>\n",
       "      <td>1</td>\n",
       "      <td>NaN</td>\n",
       "      <td>NaN</td>\n",
       "      <td>NaN</td>\n",
       "      <td>NaN</td>\n",
       "      <td>MOND is a theory that increases the discrepanc...</td>\n",
       "      <td>How does Modified Newtonian Dynamics (MOND) im...</td>\n",
       "    </tr>\n",
       "    <tr>\n",
       "      <th>2</th>\n",
       "      <td>Which of the following statements accurately d...</td>\n",
       "      <td>Ray Montgomerie (born 17 April 1961) is a Scot...</td>\n",
       "      <td>Ray Montgomerie is a former footballer who pla...</td>\n",
       "      <td>Ray Montgomerie is a former footballer who pla...</td>\n",
       "      <td>Ray Montgomerie is a former footballer who pla...</td>\n",
       "      <td>Ray Montgomerie is a former footballer who pla...</td>\n",
       "      <td>Ray Montgomerie is a former footballer who pla...</td>\n",
       "      <td>B</td>\n",
       "      <td>1.0</td>\n",
       "      <td>Which of the following statements accurately d...</td>\n",
       "      <td>2</td>\n",
       "      <td>[4789707, 1302988, 4788998, 1063857, 4789382, ...</td>\n",
       "      <td>NaN</td>\n",
       "      <td>2</td>\n",
       "      <td>NaN</td>\n",
       "      <td>NaN</td>\n",
       "      <td>NaN</td>\n",
       "      <td>NaN</td>\n",
       "      <td>Ray Montgomerie is a former footballer who pla...</td>\n",
       "      <td>Which of the following statements accurately d...</td>\n",
       "    </tr>\n",
       "    <tr>\n",
       "      <th>3</th>\n",
       "      <td>What is the significance of the Museum of the ...</td>\n",
       "      <td>The Museum of the Occupation of Latvia () is a...</td>\n",
       "      <td>The Museum of the Occupation of Latvia is a me...</td>\n",
       "      <td>The Museum of the Occupation of Latvia showcas...</td>\n",
       "      <td>The Museum of the Occupation of Latvia was est...</td>\n",
       "      <td>The Museum of the Occupation of Latvia primari...</td>\n",
       "      <td>The Museum of the Occupation of Latvia is a mu...</td>\n",
       "      <td>C</td>\n",
       "      <td>1.0</td>\n",
       "      <td>What is the significance of the Museum of the ...</td>\n",
       "      <td>3</td>\n",
       "      <td>[3669879, 3669577, 3669963, 1597785, 3669701, ...</td>\n",
       "      <td>NaN</td>\n",
       "      <td>3</td>\n",
       "      <td>NaN</td>\n",
       "      <td>NaN</td>\n",
       "      <td>NaN</td>\n",
       "      <td>NaN</td>\n",
       "      <td>The Museum of the Occupation of Latvia is a me...</td>\n",
       "      <td>What is the significance of the Museum of the ...</td>\n",
       "    </tr>\n",
       "    <tr>\n",
       "      <th>4</th>\n",
       "      <td>What was the previous name of the Christian Sc...</td>\n",
       "      <td>The Christian School and Chapel for the Deaf (...</td>\n",
       "      <td>The Christian School for the Deaf (CSD)</td>\n",
       "      <td>The Christian School for the Blind (CSB)</td>\n",
       "      <td>The Evangelical School and Chapel for the Deaf...</td>\n",
       "      <td>The Evangelical School for the Deaf (ESD)</td>\n",
       "      <td>The Evangelical School for the Blind (ESB)</td>\n",
       "      <td>D</td>\n",
       "      <td>1.0</td>\n",
       "      <td>What was the previous name of the Christian Sc...</td>\n",
       "      <td>4</td>\n",
       "      <td>[988551, 1060434, 797210, 3145550, 4374104, 58...</td>\n",
       "      <td>NaN</td>\n",
       "      <td>4</td>\n",
       "      <td>NaN</td>\n",
       "      <td>NaN</td>\n",
       "      <td>NaN</td>\n",
       "      <td>NaN</td>\n",
       "      <td>The Christian School for the Deaf (CSD) The Ch...</td>\n",
       "      <td>What was the previous name of the Christian Sc...</td>\n",
       "    </tr>\n",
       "    <tr>\n",
       "      <th>...</th>\n",
       "      <td>...</td>\n",
       "      <td>...</td>\n",
       "      <td>...</td>\n",
       "      <td>...</td>\n",
       "      <td>...</td>\n",
       "      <td>...</td>\n",
       "      <td>...</td>\n",
       "      <td>...</td>\n",
       "      <td>...</td>\n",
       "      <td>...</td>\n",
       "      <td>...</td>\n",
       "      <td>...</td>\n",
       "      <td>...</td>\n",
       "      <td>...</td>\n",
       "      <td>...</td>\n",
       "      <td>...</td>\n",
       "      <td>...</td>\n",
       "      <td>...</td>\n",
       "      <td>...</td>\n",
       "      <td>...</td>\n",
       "    </tr>\n",
       "    <tr>\n",
       "      <th>60342</th>\n",
       "      <td>The outer ear, or ear canal, carries sound to ...</td>\n",
       "      <td>The outer ear is supplied by a number of arter...</td>\n",
       "      <td>aorta</td>\n",
       "      <td>ear lobe</td>\n",
       "      <td>eardrum</td>\n",
       "      <td>lungs</td>\n",
       "      <td>None</td>\n",
       "      <td>C</td>\n",
       "      <td>12.0</td>\n",
       "      <td>The outer ear, or ear canal, carries sound to ...</td>\n",
       "      <td>60342</td>\n",
       "      <td>[3523205, 1444030, 4515173, 3523206, 4352391, ...</td>\n",
       "      <td>NaN</td>\n",
       "      <td>60342</td>\n",
       "      <td>NaN</td>\n",
       "      <td>NaN</td>\n",
       "      <td>NaN</td>\n",
       "      <td>NaN</td>\n",
       "      <td>aorta ear lobe eardrum lungs None</td>\n",
       "      <td>The outer ear, or ear canal, carries sound to ...</td>\n",
       "    </tr>\n",
       "    <tr>\n",
       "      <th>60343</th>\n",
       "      <td>What sport involves people quickly finding des...</td>\n",
       "      <td>The locations of the controls, the start and t...</td>\n",
       "      <td>mapping</td>\n",
       "      <td>None</td>\n",
       "      <td>orienteering</td>\n",
       "      <td>patterning</td>\n",
       "      <td>sticking</td>\n",
       "      <td>C</td>\n",
       "      <td>12.0</td>\n",
       "      <td>What sport involves people quickly finding des...</td>\n",
       "      <td>60343</td>\n",
       "      <td>[5796820, 4335770, 213023, 2159791, 5796865, 4...</td>\n",
       "      <td>NaN</td>\n",
       "      <td>60343</td>\n",
       "      <td>NaN</td>\n",
       "      <td>NaN</td>\n",
       "      <td>NaN</td>\n",
       "      <td>NaN</td>\n",
       "      <td>mapping None orienteering patterning sticking</td>\n",
       "      <td>What sport involves people quickly finding des...</td>\n",
       "    </tr>\n",
       "    <tr>\n",
       "      <th>60344</th>\n",
       "      <td>Almost all earthquakes occur at which place?</td>\n",
       "      <td>Relatively few earthquakes occur in intraplate...</td>\n",
       "      <td>mountains</td>\n",
       "      <td>land boundaries</td>\n",
       "      <td>plate boundaries</td>\n",
       "      <td>continental shelf</td>\n",
       "      <td>None</td>\n",
       "      <td>C</td>\n",
       "      <td>12.0</td>\n",
       "      <td>Almost all earthquakes occur at which place? m...</td>\n",
       "      <td>60344</td>\n",
       "      <td>[1446828, 2370289, 5799482, 5959871, 1104837, ...</td>\n",
       "      <td>NaN</td>\n",
       "      <td>60344</td>\n",
       "      <td>NaN</td>\n",
       "      <td>NaN</td>\n",
       "      <td>NaN</td>\n",
       "      <td>NaN</td>\n",
       "      <td>mountains land boundaries plate boundaries con...</td>\n",
       "      <td>Almost all earthquakes occur at which place? m...</td>\n",
       "    </tr>\n",
       "    <tr>\n",
       "      <th>60345</th>\n",
       "      <td>Melting glaciers, rising temperatures and drou...</td>\n",
       "      <td>Other effects of global warming include less s...</td>\n",
       "      <td>nature's natural cycle</td>\n",
       "      <td>air pollution</td>\n",
       "      <td>global warming</td>\n",
       "      <td>sudden warming</td>\n",
       "      <td>None</td>\n",
       "      <td>C</td>\n",
       "      <td>12.0</td>\n",
       "      <td>Melting glaciers, rising temperatures and drou...</td>\n",
       "      <td>60345</td>\n",
       "      <td>[1486966, 5599463, 1040075, 2241538, 1040050, ...</td>\n",
       "      <td>NaN</td>\n",
       "      <td>60345</td>\n",
       "      <td>NaN</td>\n",
       "      <td>NaN</td>\n",
       "      <td>NaN</td>\n",
       "      <td>NaN</td>\n",
       "      <td>nature's natural cycle air pollution global wa...</td>\n",
       "      <td>Melting glaciers, rising temperatures and drou...</td>\n",
       "    </tr>\n",
       "    <tr>\n",
       "      <th>60346</th>\n",
       "      <td>What parts of a human possess the highest conc...</td>\n",
       "      <td>Induced changes to skin temperature in differe...</td>\n",
       "      <td>None</td>\n",
       "      <td>hand and ears</td>\n",
       "      <td>face and hair</td>\n",
       "      <td>face and ears</td>\n",
       "      <td>hands and feet</td>\n",
       "      <td>D</td>\n",
       "      <td>12.0</td>\n",
       "      <td>What parts of a human possess the highest conc...</td>\n",
       "      <td>60346</td>\n",
       "      <td>[5535694, 1446230, 5286029, 1304541, 2280001, ...</td>\n",
       "      <td>NaN</td>\n",
       "      <td>60346</td>\n",
       "      <td>NaN</td>\n",
       "      <td>NaN</td>\n",
       "      <td>NaN</td>\n",
       "      <td>NaN</td>\n",
       "      <td>None hand and ears face and hair face and ears...</td>\n",
       "      <td>What parts of a human possess the highest conc...</td>\n",
       "    </tr>\n",
       "  </tbody>\n",
       "</table>\n",
       "<p>60347 rows × 20 columns</p>\n",
       "</div>"
      ],
      "text/plain": [
       "                                                  prompt  \\\n",
       "0      In relation to Eunice Fay McKenzie's career, w...   \n",
       "1      How does Modified Newtonian Dynamics (MOND) im...   \n",
       "2      Which of the following statements accurately d...   \n",
       "3      What is the significance of the Museum of the ...   \n",
       "4      What was the previous name of the Christian Sc...   \n",
       "...                                                  ...   \n",
       "60342  The outer ear, or ear canal, carries sound to ...   \n",
       "60343  What sport involves people quickly finding des...   \n",
       "60344       Almost all earthquakes occur at which place?   \n",
       "60345  Melting glaciers, rising temperatures and drou...   \n",
       "60346  What parts of a human possess the highest conc...   \n",
       "\n",
       "                                                 context  \\\n",
       "0      Eunice Fay McKenzie (February 19, 1918 – April...   \n",
       "1      The results are consistent with MOND, and plac...   \n",
       "2      Ray Montgomerie (born 17 April 1961) is a Scot...   \n",
       "3      The Museum of the Occupation of Latvia () is a...   \n",
       "4      The Christian School and Chapel for the Deaf (...   \n",
       "...                                                  ...   \n",
       "60342  The outer ear is supplied by a number of arter...   \n",
       "60343  The locations of the controls, the start and t...   \n",
       "60344  Relatively few earthquakes occur in intraplate...   \n",
       "60345  Other effects of global warming include less s...   \n",
       "60346  Induced changes to skin temperature in differe...   \n",
       "\n",
       "                                                       A  \\\n",
       "0      McKenzie showcased her singing talents in nume...   \n",
       "1      MOND is a theory that increases the discrepanc...   \n",
       "2      Ray Montgomerie is a former footballer who pla...   \n",
       "3      The Museum of the Occupation of Latvia is a me...   \n",
       "4                The Christian School for the Deaf (CSD)   \n",
       "...                                                  ...   \n",
       "60342                                              aorta   \n",
       "60343                                            mapping   \n",
       "60344                                          mountains   \n",
       "60345                             nature's natural cycle   \n",
       "60346                                               None   \n",
       "\n",
       "                                                       B  \\\n",
       "0      McKenzie is primarily remembered for her starr...   \n",
       "1      MOND explains the missing baryonic mass in gal...   \n",
       "2      Ray Montgomerie is a former footballer who pla...   \n",
       "3      The Museum of the Occupation of Latvia showcas...   \n",
       "4               The Christian School for the Blind (CSB)   \n",
       "...                                                  ...   \n",
       "60342                                           ear lobe   \n",
       "60343                                               None   \n",
       "60344                                    land boundaries   \n",
       "60345                                      air pollution   \n",
       "60346                                      hand and ears   \n",
       "\n",
       "                                                       C  \\\n",
       "0      McKenzie gained recognition for her role as a ...   \n",
       "1      MOND is a theory that reduces the observed mis...   \n",
       "2      Ray Montgomerie is a former footballer who pla...   \n",
       "3      The Museum of the Occupation of Latvia was est...   \n",
       "4      The Evangelical School and Chapel for the Deaf...   \n",
       "...                                                  ...   \n",
       "60342                                            eardrum   \n",
       "60343                                       orienteering   \n",
       "60344                                   plate boundaries   \n",
       "60345                                     global warming   \n",
       "60346                                      face and hair   \n",
       "\n",
       "                                                       D  \\\n",
       "0      McKenzie's collaborations with director Blake ...   \n",
       "1      MOND is a theory that eliminates the observed ...   \n",
       "2      Ray Montgomerie is a former footballer who pla...   \n",
       "3      The Museum of the Occupation of Latvia primari...   \n",
       "4              The Evangelical School for the Deaf (ESD)   \n",
       "...                                                  ...   \n",
       "60342                                              lungs   \n",
       "60343                                         patterning   \n",
       "60344                                  continental shelf   \n",
       "60345                                     sudden warming   \n",
       "60346                                      face and ears   \n",
       "\n",
       "                                                       E answer  source  \\\n",
       "0      McKenzie's successful career in sound films co...      B     1.0   \n",
       "1      MOND's impact on the observed missing baryonic...      E     1.0   \n",
       "2      Ray Montgomerie is a former footballer who pla...      B     1.0   \n",
       "3      The Museum of the Occupation of Latvia is a mu...      C     1.0   \n",
       "4             The Evangelical School for the Blind (ESB)      D     1.0   \n",
       "...                                                  ...    ...     ...   \n",
       "60342                                               None      C    12.0   \n",
       "60343                                           sticking      C    12.0   \n",
       "60344                                               None      C    12.0   \n",
       "60345                                               None      C    12.0   \n",
       "60346                                     hands and feet      D    12.0   \n",
       "\n",
       "                                           prompt_answer  index  \\\n",
       "0      In relation to Eunice Fay McKenzie's career, w...      0   \n",
       "1      How does Modified Newtonian Dynamics (MOND) im...      1   \n",
       "2      Which of the following statements accurately d...      2   \n",
       "3      What is the significance of the Museum of the ...      3   \n",
       "4      What was the previous name of the Christian Sc...      4   \n",
       "...                                                  ...    ...   \n",
       "60342  The outer ear, or ear canal, carries sound to ...  60342   \n",
       "60343  What sport involves people quickly finding des...  60343   \n",
       "60344  Almost all earthquakes occur at which place? m...  60344   \n",
       "60345  Melting glaciers, rising temperatures and drou...  60345   \n",
       "60346  What parts of a human possess the highest conc...  60346   \n",
       "\n",
       "                                    top1000_to_top30_ids  Unnamed: 0     id  \\\n",
       "0      [1672980, 2434200, 2225748, 5539441, 577051, 2...         NaN      0   \n",
       "1      [1830805, 1228442, 748639, 3573843, 5559316, 1...         NaN      1   \n",
       "2      [4789707, 1302988, 4788998, 1063857, 4789382, ...         NaN      2   \n",
       "3      [3669879, 3669577, 3669963, 1597785, 3669701, ...         NaN      3   \n",
       "4      [988551, 1060434, 797210, 3145550, 4374104, 58...         NaN      4   \n",
       "...                                                  ...         ...    ...   \n",
       "60342  [3523205, 1444030, 4515173, 3523206, 4352391, ...         NaN  60342   \n",
       "60343  [5796820, 4335770, 213023, 2159791, 5796865, 4...         NaN  60343   \n",
       "60344  [1446828, 2370289, 5799482, 5959871, 1104837, ...         NaN  60344   \n",
       "60345  [1486966, 5599463, 1040075, 2241538, 1040050, ...         NaN  60345   \n",
       "60346  [5535694, 1446230, 5286029, 1304541, 2280001, ...         NaN  60346   \n",
       "\n",
       "      wiki_text  page_id page_title stem_label  \\\n",
       "0           NaN      NaN        NaN        NaN   \n",
       "1           NaN      NaN        NaN        NaN   \n",
       "2           NaN      NaN        NaN        NaN   \n",
       "3           NaN      NaN        NaN        NaN   \n",
       "4           NaN      NaN        NaN        NaN   \n",
       "...         ...      ...        ...        ...   \n",
       "60342       NaN      NaN        NaN        NaN   \n",
       "60343       NaN      NaN        NaN        NaN   \n",
       "60344       NaN      NaN        NaN        NaN   \n",
       "60345       NaN      NaN        NaN        NaN   \n",
       "60346       NaN      NaN        NaN        NaN   \n",
       "\n",
       "                                              answer_all  \\\n",
       "0      McKenzie showcased her singing talents in nume...   \n",
       "1      MOND is a theory that increases the discrepanc...   \n",
       "2      Ray Montgomerie is a former footballer who pla...   \n",
       "3      The Museum of the Occupation of Latvia is a me...   \n",
       "4      The Christian School for the Deaf (CSD) The Ch...   \n",
       "...                                                  ...   \n",
       "60342                  aorta ear lobe eardrum lungs None   \n",
       "60343      mapping None orienteering patterning sticking   \n",
       "60344  mountains land boundaries plate boundaries con...   \n",
       "60345  nature's natural cycle air pollution global wa...   \n",
       "60346  None hand and ears face and hair face and ears...   \n",
       "\n",
       "                                      prompt_answer_stem  \n",
       "0      In relation to Eunice Fay McKenzie's career, w...  \n",
       "1      How does Modified Newtonian Dynamics (MOND) im...  \n",
       "2      Which of the following statements accurately d...  \n",
       "3      What is the significance of the Museum of the ...  \n",
       "4      What was the previous name of the Christian Sc...  \n",
       "...                                                  ...  \n",
       "60342  The outer ear, or ear canal, carries sound to ...  \n",
       "60343  What sport involves people quickly finding des...  \n",
       "60344  Almost all earthquakes occur at which place? m...  \n",
       "60345  Melting glaciers, rising temperatures and drou...  \n",
       "60346  What parts of a human possess the highest conc...  \n",
       "\n",
       "[60347 rows x 20 columns]"
      ]
     },
     "execution_count": 5,
     "metadata": {},
     "output_type": "execute_result"
    }
   ],
   "source": [
    "data[data['page_id'].isna()].reset_index(drop=True)"
   ]
  },
  {
   "cell_type": "code",
   "execution_count": 27,
   "id": "79fd1bfe-5f28-48c6-a457-9c145a90e4d4",
   "metadata": {},
   "outputs": [],
   "source": [
    "import pickle as pkl\n",
    "import math\n",
    "from tqdm.auto import tqdm\n",
    "from six import iteritems\n",
    "from six.moves import range\n",
    "import numpy as np\n",
    "import heapq\n",
    "from collections.abc import Iterable\n",
    "\n",
    "\n",
    "PARAM_K1 = 1.5\n",
    "PARAM_B = 0.75\n",
    "EPSILON = 0.25\n",
    "\n",
    "\n",
    "class mybm25(object):\n",
    "    \"\"\"Implementation of Best Matching 25 ranking function.\n",
    "\n",
    "    Attributes\n",
    "    ----------\n",
    "    corpus_size : int\n",
    "        Size of corpus (number of documents).\n",
    "    avgdl : float\n",
    "        Average length of document in `corpus`.\n",
    "    doc_freqs : list of dicts of int\n",
    "        Dictionary with terms frequencies for each document in `corpus`. Words used as keys and frequencies as values.\n",
    "    idf : dict\n",
    "        Dictionary with inversed documents frequencies for whole `corpus`. Words used as keys and frequencies as values.\n",
    "    doc_len : list of int\n",
    "        List of document lengths.\n",
    "    \"\"\"\n",
    "\n",
    "    def __init__(self, corpus):\n",
    "        \"\"\"\n",
    "        Parameters\n",
    "        ----------\n",
    "        corpus : list of list of str\n",
    "            Given corpus.\n",
    "\n",
    "        \"\"\"\n",
    "        self.corpus_size = len(corpus)\n",
    "        self.avgdl = 0\n",
    "        self.doc_freqs = []\n",
    "        self.idf = {}\n",
    "        self.doc_len = {}\n",
    "        self._initialize(corpus)\n",
    "        self.get_score_by_reversed_index_all_documents(corpus)\n",
    "\n",
    "    def _initialize(self, corpus):\n",
    "        \"\"\"Calculates frequencies of terms in documents and in corpus. Also computes inverse document frequencies.\"\"\"\n",
    "        nd = {}  # word -> number of documents with word\n",
    "        num_doc = 0\n",
    "        for j, document in tqdm(enumerate(corpus),total=len(corpus)):\n",
    "            self.doc_len[j] = len(document)\n",
    "            num_doc += len(document)\n",
    "\n",
    "            frequencies = {}\n",
    "            for word in document:\n",
    "                if word not in frequencies:\n",
    "                    frequencies[word] = 0\n",
    "                frequencies[word] += 1\n",
    "            self.doc_freqs.append(frequencies)\n",
    "\n",
    "            for word, freq in iteritems(frequencies):\n",
    "                if word not in nd:\n",
    "                    nd[word] = 0\n",
    "                nd[word] += 1\n",
    "\n",
    "        self.avgdl = float(num_doc) / self.corpus_size\n",
    "        # collect idf sum to calculate an average idf for epsilon value\n",
    "        idf_sum = 0\n",
    "        # collect words with negative idf to set them a special epsilon value.\n",
    "        # idf can be negative if word is contained in more than half of documents\n",
    "        negative_idfs = []\n",
    "        self.nd = nd\n",
    "        for word, freq in tqdm(iteritems(nd), total=len(nd)):\n",
    "            idf = math.log(self.corpus_size - freq + 0.5) - math.log(freq + 0.5)\n",
    "            self.idf[word] = idf\n",
    "            idf_sum += idf\n",
    "            if idf < 0:\n",
    "                negative_idfs.append(word)\n",
    "        self.average_idf = float(idf_sum) / len(self.idf)\n",
    "\n",
    "        eps = EPSILON * self.average_idf\n",
    "        for word in tqdm(negative_idfs,total=len(negative_idfs)):\n",
    "            self.idf[word] = eps\n",
    "\n",
    "    def similarity_bm25(self, document_a, document_b):\n",
    "        \"\"\"Computes BM25 score of given `document A` in relation to given `document B` .\n",
    "\n",
    "        Parameters\n",
    "        ----------\n",
    "        document_a : list of str\n",
    "            Document to be scored.\n",
    "        document_b : list of str\n",
    "            Document to be scored.\n",
    "        Returns\n",
    "        -------\n",
    "        float\n",
    "            BM25 score.\n",
    "\n",
    "        \"\"\"\n",
    "        assert isinstance(document_a,Iterable),'document a is not iterable'\n",
    "        assert isinstance(document_b,Iterable),'document b is not iterable'\n",
    "        score = 0\n",
    "        doc_freqs = {}\n",
    "        for word in document_b:\n",
    "            if word not in doc_freqs:\n",
    "                doc_freqs[word] = 0\n",
    "            doc_freqs[word] += 1\n",
    "        freq = 1\n",
    "        default_idf = math.log(self.corpus_size - freq + 0.5) - math.log(freq + 0.5)\n",
    "        for word in document_a:\n",
    "            if word not in doc_freqs:\n",
    "                continue\n",
    "            score += (self.idf.get(word,default_idf) * doc_freqs[word] * (PARAM_K1 + 1)\n",
    "                      / (doc_freqs[word] + PARAM_K1 * (1 - PARAM_B + PARAM_B * len(document_b) / self.avgdl)))\n",
    "        return score\n",
    "\n",
    "\n",
    "    def get_score_by_reversed_index_all_documents(self, corpus):\n",
    "        \"\"\"\n",
    "        Build reverted index for documents like {word:{index:grades}}\n",
    "        \"\"\"\n",
    "        document_score = {}\n",
    "        for index, document in tqdm(enumerate(corpus),total=len(corpus)):\n",
    "            q_id =  index\n",
    "            doc_freqs = self.doc_freqs[index]\n",
    "            for word in document:\n",
    "                if word not in doc_freqs:\n",
    "                    continue\n",
    "                score = (self.idf[word] * doc_freqs[word] * (PARAM_K1 + 1)\n",
    "                          / (doc_freqs[word] + PARAM_K1 * (1 - PARAM_B + PARAM_B * self.doc_len[index] / self.avgdl)))\n",
    "                if word not in document_score:\n",
    "                    document_score[word] = {q_id: round(score, 2)}\n",
    "                else:\n",
    "                    document_score[word].update({q_id: round(score, 2)})\n",
    "        self.document_score = document_score\n",
    "\n",
    "    def top_k_sentence(self,document,k=1):\n",
    "        \"\"\"\n",
    "        document: Iterable, to be retrieved\n",
    "        Returns\n",
    "        -------\n",
    "        float\n",
    "            List of [(nearest sentence,index,score)].\n",
    "        \"\"\"\n",
    "        assert isinstance(document,Iterable),'document is not iterable'\n",
    "        score_overall = {}\n",
    "        for word in document:\n",
    "            if word not in self.document_score:\n",
    "                continue\n",
    "            for key, value in self.document_score[word].items():\n",
    "                if key not in score_overall:\n",
    "                  # print(score_overall)\n",
    "                    score_overall[key] = value\n",
    "                else:\n",
    "                    score_overall[key] += value\n",
    "        k_keys_sorted = heapq.nlargest(k, score_overall,key=score_overall.__getitem__)\n",
    "        return [(item,score_overall.get(item,None)) for item in k_keys_sorted]"
   ]
  },
  {
   "cell_type": "code",
   "execution_count": 2,
   "id": "1964d632-5d99-4a0e-8b06-9b1b9e074a2b",
   "metadata": {
    "tags": []
   },
   "outputs": [],
   "source": [
    "with open('./tmp/bm25.pkl','rb') as f:\n",
    "    bm25 = pkl.load(f)"
   ]
  },
  {
   "cell_type": "code",
   "execution_count": 4,
   "id": "bbe5695d-cf97-455d-891c-2db9f3488872",
   "metadata": {
    "tags": []
   },
   "outputs": [
    {
     "data": {
      "text/plain": [
       "<__main__.fastbm25 at 0x7fbd3c073ac0>"
      ]
     },
     "execution_count": 4,
     "metadata": {},
     "output_type": "execute_result"
    }
   ],
   "source": [
    "bm25"
   ]
  },
  {
   "cell_type": "code",
   "execution_count": 5,
   "id": "146272f0-df96-4e2c-aff2-a53023d5d2eb",
   "metadata": {
    "tags": []
   },
   "outputs": [
    {
     "data": {
      "text/plain": [
       "1240069"
      ]
     },
     "execution_count": 5,
     "metadata": {},
     "output_type": "execute_result"
    }
   ],
   "source": [
    "len(bm25.document_score)"
   ]
  },
  {
   "cell_type": "code",
   "execution_count": 1,
   "id": "9de578ac-9f35-4a32-b20f-7003219c5b92",
   "metadata": {},
   "outputs": [],
   "source": [
    "import pandas as pd\n",
    "data = pd.read_csv('./data/7w8_crawl_dataset.csv')\n"
   ]
  },
  {
   "cell_type": "code",
   "execution_count": 2,
   "id": "75d30a23-9065-4372-82fc-1b6064b2c2cf",
   "metadata": {
    "tags": []
   },
   "outputs": [
    {
     "data": {
      "text/html": [
       "<div>\n",
       "<style scoped>\n",
       "    .dataframe tbody tr th:only-of-type {\n",
       "        vertical-align: middle;\n",
       "    }\n",
       "\n",
       "    .dataframe tbody tr th {\n",
       "        vertical-align: top;\n",
       "    }\n",
       "\n",
       "    .dataframe thead th {\n",
       "        text-align: right;\n",
       "    }\n",
       "</style>\n",
       "<table border=\"1\" class=\"dataframe\">\n",
       "  <thead>\n",
       "    <tr style=\"text-align: right;\">\n",
       "      <th></th>\n",
       "      <th>Unnamed: 0</th>\n",
       "      <th>id</th>\n",
       "      <th>prompt</th>\n",
       "      <th>A</th>\n",
       "      <th>B</th>\n",
       "      <th>C</th>\n",
       "      <th>D</th>\n",
       "      <th>E</th>\n",
       "      <th>answer</th>\n",
       "      <th>wiki_text</th>\n",
       "      <th>page_id</th>\n",
       "      <th>page_title</th>\n",
       "      <th>stem_label</th>\n",
       "      <th>prompt_answer</th>\n",
       "    </tr>\n",
       "  </thead>\n",
       "  <tbody>\n",
       "    <tr>\n",
       "      <th>0</th>\n",
       "      <td>0</td>\n",
       "      <td>0</td>\n",
       "      <td>What does the nullity of a graph in graph theo...</td>\n",
       "      <td>The number of vertices in the graph</td>\n",
       "      <td>The number of edges in the graph</td>\n",
       "      <td>The rank of the adjacency matrix</td>\n",
       "      <td>The multiplicity of the eigenvalue 0 in the sp...</td>\n",
       "      <td>The number of components of the graph</td>\n",
       "      <td>D</td>\n",
       "      <td>The nullity of a graph in the mathematical sub...</td>\n",
       "      <td>17458663</td>\n",
       "      <td>Nullity (graph theory)</td>\n",
       "      <td>M</td>\n",
       "      <td>What does the nullity of a graph in graph theo...</td>\n",
       "    </tr>\n",
       "    <tr>\n",
       "      <th>1</th>\n",
       "      <td>1</td>\n",
       "      <td>1</td>\n",
       "      <td>In the matrix theory of graphs, what is the nu...</td>\n",
       "      <td>n − r</td>\n",
       "      <td>m − n + c</td>\n",
       "      <td>n − c</td>\n",
       "      <td>The nullity of the graph</td>\n",
       "      <td>The number of components of the graph</td>\n",
       "      <td>A</td>\n",
       "      <td>The nullity of a graph in the mathematical sub...</td>\n",
       "      <td>17458663</td>\n",
       "      <td>Nullity (graph theory)</td>\n",
       "      <td>M</td>\n",
       "      <td>In the matrix theory of graphs, what is the nu...</td>\n",
       "    </tr>\n",
       "    <tr>\n",
       "      <th>2</th>\n",
       "      <td>2</td>\n",
       "      <td>2</td>\n",
       "      <td>Which term is more commonly used to refer to t...</td>\n",
       "      <td>Nullity of the adjacency matrix</td>\n",
       "      <td>Multiplicity of the eigenvalue 0</td>\n",
       "      <td>Cycle rank</td>\n",
       "      <td>Cyclomatic number</td>\n",
       "      <td>Circuit rank</td>\n",
       "      <td>C</td>\n",
       "      <td>The nullity of a graph in the mathematical sub...</td>\n",
       "      <td>17458663</td>\n",
       "      <td>Nullity (graph theory)</td>\n",
       "      <td>M</td>\n",
       "      <td>Which term is more commonly used to refer to t...</td>\n",
       "    </tr>\n",
       "    <tr>\n",
       "      <th>3</th>\n",
       "      <td>3</td>\n",
       "      <td>3</td>\n",
       "      <td>What is the formula for calculating the nullit...</td>\n",
       "      <td>n − r</td>\n",
       "      <td>m − n + c</td>\n",
       "      <td>n − c</td>\n",
       "      <td>The nullity of the graph</td>\n",
       "      <td>The number of components of the graph</td>\n",
       "      <td>B</td>\n",
       "      <td>The nullity of a graph in the mathematical sub...</td>\n",
       "      <td>17458663</td>\n",
       "      <td>Nullity (graph theory)</td>\n",
       "      <td>M</td>\n",
       "      <td>What is the formula for calculating the nullit...</td>\n",
       "    </tr>\n",
       "    <tr>\n",
       "      <th>4</th>\n",
       "      <td>4</td>\n",
       "      <td>4</td>\n",
       "      <td>What can the nullity of the graph represent in...</td>\n",
       "      <td>The number of vertices in the graph</td>\n",
       "      <td>The number of edges in the graph</td>\n",
       "      <td>The rank of the adjacency matrix</td>\n",
       "      <td>The number of components of the graph</td>\n",
       "      <td>The rank of the oriented incidence matrix</td>\n",
       "      <td>E</td>\n",
       "      <td>The nullity of a graph in the mathematical sub...</td>\n",
       "      <td>17458663</td>\n",
       "      <td>Nullity (graph theory)</td>\n",
       "      <td>M</td>\n",
       "      <td>What can the nullity of the graph represent in...</td>\n",
       "    </tr>\n",
       "  </tbody>\n",
       "</table>\n",
       "</div>"
      ],
      "text/plain": [
       "   Unnamed: 0  id                                             prompt  \\\n",
       "0           0   0  What does the nullity of a graph in graph theo...   \n",
       "1           1   1  In the matrix theory of graphs, what is the nu...   \n",
       "2           2   2  Which term is more commonly used to refer to t...   \n",
       "3           3   3  What is the formula for calculating the nullit...   \n",
       "4           4   4  What can the nullity of the graph represent in...   \n",
       "\n",
       "                                     A                                 B  \\\n",
       "0  The number of vertices in the graph  The number of edges in the graph   \n",
       "1                                n − r                         m − n + c   \n",
       "2      Nullity of the adjacency matrix  Multiplicity of the eigenvalue 0   \n",
       "3                                n − r                         m − n + c   \n",
       "4  The number of vertices in the graph  The number of edges in the graph   \n",
       "\n",
       "                                  C  \\\n",
       "0  The rank of the adjacency matrix   \n",
       "1                             n − c   \n",
       "2                        Cycle rank   \n",
       "3                             n − c   \n",
       "4  The rank of the adjacency matrix   \n",
       "\n",
       "                                                   D  \\\n",
       "0  The multiplicity of the eigenvalue 0 in the sp...   \n",
       "1                           The nullity of the graph   \n",
       "2                                  Cyclomatic number   \n",
       "3                           The nullity of the graph   \n",
       "4              The number of components of the graph   \n",
       "\n",
       "                                           E answer  \\\n",
       "0      The number of components of the graph      D   \n",
       "1      The number of components of the graph      A   \n",
       "2                               Circuit rank      C   \n",
       "3      The number of components of the graph      B   \n",
       "4  The rank of the oriented incidence matrix      E   \n",
       "\n",
       "                                           wiki_text   page_id  \\\n",
       "0  The nullity of a graph in the mathematical sub...  17458663   \n",
       "1  The nullity of a graph in the mathematical sub...  17458663   \n",
       "2  The nullity of a graph in the mathematical sub...  17458663   \n",
       "3  The nullity of a graph in the mathematical sub...  17458663   \n",
       "4  The nullity of a graph in the mathematical sub...  17458663   \n",
       "\n",
       "               page_title stem_label  \\\n",
       "0  Nullity (graph theory)          M   \n",
       "1  Nullity (graph theory)          M   \n",
       "2  Nullity (graph theory)          M   \n",
       "3  Nullity (graph theory)          M   \n",
       "4  Nullity (graph theory)          M   \n",
       "\n",
       "                                       prompt_answer  \n",
       "0  What does the nullity of a graph in graph theo...  \n",
       "1  In the matrix theory of graphs, what is the nu...  \n",
       "2  Which term is more commonly used to refer to t...  \n",
       "3  What is the formula for calculating the nullit...  \n",
       "4  What can the nullity of the graph represent in...  "
      ]
     },
     "execution_count": 2,
     "metadata": {},
     "output_type": "execute_result"
    }
   ],
   "source": [
    "data.head()"
   ]
  },
  {
   "cell_type": "code",
   "execution_count": null,
   "id": "b4e425de-e1b3-4932-ba5b-38e6ead10764",
   "metadata": {},
   "outputs": [],
   "source": [
    "from datasets import load_from_disk\n",
    "data1 = load_from_disk('./small_wiki_data')\n",
    "data2 = load_from_disk('./small_wiki_data_base')"
   ]
  },
  {
   "cell_type": "code",
   "execution_count": 1,
   "id": "ad575750-fbb7-4f66-9d98-8dae9f3f8f32",
   "metadata": {},
   "outputs": [],
   "source": [
    "import json\n",
    "data = []\n",
    "with open('./data/new_ft_data_8w.json','r') as f:\n",
    "    lines = f.readlines()\n",
    "    for line in lines:\n",
    "        data.append(json.loads(line))"
   ]
  },
  {
   "cell_type": "code",
   "execution_count": 2,
   "id": "ac37d2cd-7160-4d1d-bc43-3d4ba60a5efc",
   "metadata": {
    "tags": []
   },
   "outputs": [
    {
     "data": {
      "text/plain": [
       "{'question': \"What is the main focus of Russell Epstein's research?\",\n",
       " 'option_1': 'Neural mechanisms of language processing',\n",
       " 'option_2': 'Neural mechanisms underlying visual scene perception',\n",
       " 'option_3': 'Neural mechanisms of memory formation',\n",
       " 'option_4': 'Neural mechanisms of motor control',\n",
       " 'option_5': 'Neural mechanisms of emotional processing',\n",
       " 'answer': 'option_2',\n",
       " 'wiki_text': 'Russell Epstein is a professor of psychology at the University of Pennsylvania, who studies neural mechanisms underlying visual scene perception, event perception, object recognition, and spatial navigation in humans. His lab studies the role of the Parahippocampal and retrosplenial cortices in determining how people orient themselves relative to their surroundings.',\n",
       " 'page_title': 'Russell Epstein',\n",
       " 'section': 'Russell Epstein'}"
      ]
     },
     "execution_count": 2,
     "metadata": {},
     "output_type": "execute_result"
    }
   ],
   "source": [
    "data[0]"
   ]
  },
  {
   "cell_type": "code",
   "execution_count": 3,
   "id": "0eb4cd61-3032-4bcf-9135-84a372c31a82",
   "metadata": {
    "tags": []
   },
   "outputs": [],
   "source": [
    "d = {'option_1':'A', 'option_2':'B', 'option_3':'C', 'option_4':'D','option_5':'E'}\n",
    "new = []\n",
    "for i in range(len(data)):\n",
    "    if data[i]['answer'] not in ['option_1','option_2','option_3','option_4','option_5']:\n",
    "        continue\n",
    "    data[i]['answer'] = d[data[i]['answer']]\n",
    "    new.append(data[i])"
   ]
  },
  {
   "cell_type": "code",
   "execution_count": 4,
   "id": "ec4fc015-967f-4227-b06a-789744bf04a7",
   "metadata": {
    "tags": []
   },
   "outputs": [
    {
     "data": {
      "text/plain": [
       "82084"
      ]
     },
     "execution_count": 4,
     "metadata": {},
     "output_type": "execute_result"
    }
   ],
   "source": [
    "len(data)"
   ]
  },
  {
   "cell_type": "code",
   "execution_count": 5,
   "id": "2f8e8c3e-6ef0-44c6-bfb8-57f0063ce136",
   "metadata": {
    "tags": []
   },
   "outputs": [
    {
     "data": {
      "text/plain": [
       "80973"
      ]
     },
     "execution_count": 5,
     "metadata": {},
     "output_type": "execute_result"
    }
   ],
   "source": [
    "len(new)"
   ]
  },
  {
   "cell_type": "code",
   "execution_count": 6,
   "id": "7192c675-0ba2-4860-8539-6f663045c7e2",
   "metadata": {
    "tags": []
   },
   "outputs": [
    {
     "data": {
      "text/plain": [
       "{'question': \"What is the main focus of Russell Epstein's research?\",\n",
       " 'option_1': 'Neural mechanisms of language processing',\n",
       " 'option_2': 'Neural mechanisms underlying visual scene perception',\n",
       " 'option_3': 'Neural mechanisms of memory formation',\n",
       " 'option_4': 'Neural mechanisms of motor control',\n",
       " 'option_5': 'Neural mechanisms of emotional processing',\n",
       " 'answer': 'B',\n",
       " 'wiki_text': 'Russell Epstein is a professor of psychology at the University of Pennsylvania, who studies neural mechanisms underlying visual scene perception, event perception, object recognition, and spatial navigation in humans. His lab studies the role of the Parahippocampal and retrosplenial cortices in determining how people orient themselves relative to their surroundings.',\n",
       " 'page_title': 'Russell Epstein',\n",
       " 'section': 'Russell Epstein'}"
      ]
     },
     "execution_count": 6,
     "metadata": {},
     "output_type": "execute_result"
    }
   ],
   "source": [
    "new[0]"
   ]
  },
  {
   "cell_type": "code",
   "execution_count": 7,
   "id": "daa11dda-69ce-409c-8acc-bc3ec783dec1",
   "metadata": {
    "tags": []
   },
   "outputs": [],
   "source": [
    "import pandas as pd\n",
    "new = pd.DataFrame(new)\n",
    "new = new.drop(new[new['option_4'].isna() | new['option_1'].isna() | new['option_2'].isna() | new['option_3'].isna() | new['option_5'].isna() | new['question'].isna() | new['answer'].isna()].index).reset_index(drop=True)"
   ]
  },
  {
   "cell_type": "code",
   "execution_count": 8,
   "id": "0f910a51-cf8b-4fbf-9523-5aeb695bb70c",
   "metadata": {
    "tags": []
   },
   "outputs": [
    {
     "data": {
      "text/plain": [
       "(80731, 85)"
      ]
     },
     "execution_count": 8,
     "metadata": {},
     "output_type": "execute_result"
    }
   ],
   "source": [
    "new.shape"
   ]
  },
  {
   "cell_type": "code",
   "execution_count": 9,
   "id": "7a28e5a0-52d0-474f-afff-198420977c37",
   "metadata": {
    "tags": []
   },
   "outputs": [],
   "source": [
    "new = new[['question', 'option_1', 'option_2', 'option_3', 'option_4', 'option_5', 'answer', 'wiki_text', 'page_title', 'section']]"
   ]
  },
  {
   "cell_type": "code",
   "execution_count": 10,
   "id": "28d5e321-6d79-4e50-95bb-ea96af244abd",
   "metadata": {
    "tags": []
   },
   "outputs": [],
   "source": [
    "new.columns = ['prompt', 'A', 'B', 'C', 'D', 'E', 'answer', 'wiki_text', 'page_title', 'section']"
   ]
  },
  {
   "cell_type": "code",
   "execution_count": 11,
   "id": "4118d983-0361-4ff2-aade-76cab97dfbea",
   "metadata": {
    "tags": []
   },
   "outputs": [],
   "source": [
    "new.to_csv('./data/新8w数据.csv')"
   ]
  },
  {
   "cell_type": "code",
   "execution_count": 44,
   "id": "64c90426-a12c-4f33-96ec-714c281dcc0c",
   "metadata": {
    "tags": []
   },
   "outputs": [],
   "source": [
    "data = pd.read_csv('./tmp/4w.csv')"
   ]
  },
  {
   "cell_type": "code",
   "execution_count": 46,
   "id": "271fb650-65fc-49e5-a4e2-f4393b8d140e",
   "metadata": {
    "tags": []
   },
   "outputs": [],
   "source": [
    "data = data[['prompt', 'A', 'B', 'C', 'D', 'E', 'answer', 'wiki_text', 'page_title', 'page_id']]"
   ]
  },
  {
   "cell_type": "code",
   "execution_count": 47,
   "id": "91c73892-c135-4cfb-87cf-65acf5d92a38",
   "metadata": {
    "tags": []
   },
   "outputs": [],
   "source": [
    "tmp = pd.concat([new, data],axis=0).reset_index(drop=True)"
   ]
  },
  {
   "cell_type": "code",
   "execution_count": 48,
   "id": "69452359-9a12-4068-a965-42dc318a9d85",
   "metadata": {
    "tags": []
   },
   "outputs": [
    {
     "data": {
      "text/html": [
       "<div>\n",
       "<style scoped>\n",
       "    .dataframe tbody tr th:only-of-type {\n",
       "        vertical-align: middle;\n",
       "    }\n",
       "\n",
       "    .dataframe tbody tr th {\n",
       "        vertical-align: top;\n",
       "    }\n",
       "\n",
       "    .dataframe thead th {\n",
       "        text-align: right;\n",
       "    }\n",
       "</style>\n",
       "<table border=\"1\" class=\"dataframe\">\n",
       "  <thead>\n",
       "    <tr style=\"text-align: right;\">\n",
       "      <th></th>\n",
       "      <th>prompt</th>\n",
       "      <th>A</th>\n",
       "      <th>B</th>\n",
       "      <th>C</th>\n",
       "      <th>D</th>\n",
       "      <th>E</th>\n",
       "      <th>answer</th>\n",
       "      <th>wiki_text</th>\n",
       "      <th>page_title</th>\n",
       "      <th>section</th>\n",
       "      <th>page_id</th>\n",
       "    </tr>\n",
       "  </thead>\n",
       "  <tbody>\n",
       "    <tr>\n",
       "      <th>0</th>\n",
       "      <td>What is the main focus of Russell Epstein's re...</td>\n",
       "      <td>Neural mechanisms of language processing</td>\n",
       "      <td>Neural mechanisms underlying visual scene perc...</td>\n",
       "      <td>Neural mechanisms of memory formation</td>\n",
       "      <td>Neural mechanisms of motor control</td>\n",
       "      <td>Neural mechanisms of emotional processing</td>\n",
       "      <td>B</td>\n",
       "      <td>Russell Epstein is a professor of psychology a...</td>\n",
       "      <td>Russell Epstein</td>\n",
       "      <td>Russell Epstein</td>\n",
       "      <td>NaN</td>\n",
       "    </tr>\n",
       "    <tr>\n",
       "      <th>1</th>\n",
       "      <td>Which brain areas does Russell Epstein's lab s...</td>\n",
       "      <td>Prefrontal cortex and hippocampus</td>\n",
       "      <td>Parahippocampal and retrosplenial cortices</td>\n",
       "      <td>Motor cortex and cerebellum</td>\n",
       "      <td>Amygdala and thalamus</td>\n",
       "      <td>Visual cortex and auditory cortex</td>\n",
       "      <td>B</td>\n",
       "      <td>Russell Epstein is a professor of psychology a...</td>\n",
       "      <td>Russell Epstein</td>\n",
       "      <td>Russell Epstein</td>\n",
       "      <td>NaN</td>\n",
       "    </tr>\n",
       "    <tr>\n",
       "      <th>2</th>\n",
       "      <td>What is the role of the Parahippocampal and re...</td>\n",
       "      <td>Motor control</td>\n",
       "      <td>Emotional processing</td>\n",
       "      <td>Visual scene perception</td>\n",
       "      <td>Spatial navigation</td>\n",
       "      <td>Language processing</td>\n",
       "      <td>D</td>\n",
       "      <td>Russell Epstein is a professor of psychology a...</td>\n",
       "      <td>Russell Epstein</td>\n",
       "      <td>Russell Epstein</td>\n",
       "      <td>NaN</td>\n",
       "    </tr>\n",
       "    <tr>\n",
       "      <th>3</th>\n",
       "      <td>Where did Epstein receive his undergraduate de...</td>\n",
       "      <td>University of Chicago</td>\n",
       "      <td>Harvard</td>\n",
       "      <td>Stanford</td>\n",
       "      <td>MIT</td>\n",
       "      <td>Columbia</td>\n",
       "      <td>A</td>\n",
       "      <td>Epstein received an undergraduate degree in ph...</td>\n",
       "      <td>Russell Epstein</td>\n",
       "      <td>Education</td>\n",
       "      <td>NaN</td>\n",
       "    </tr>\n",
       "    <tr>\n",
       "      <th>4</th>\n",
       "      <td>Who was E...n of Computer Vision?</td>\n",
       "      <td>Alan Turing</td>\n",
       "      <td>Alan Yuille</td>\n",
       "      <td>Marvin Minsky</td>\n",
       "      <td>Geoffrey Hinton</td>\n",
       "      <td>Yann LeCun</td>\n",
       "      <td>B</td>\n",
       "      <td>Epstein received an undergraduate degree in ph...</td>\n",
       "      <td>Russell Epstein</td>\n",
       "      <td>Education</td>\n",
       "      <td>NaN</td>\n",
       "    </tr>\n",
       "    <tr>\n",
       "      <th>...</th>\n",
       "      <td>...</td>\n",
       "      <td>...</td>\n",
       "      <td>...</td>\n",
       "      <td>...</td>\n",
       "      <td>...</td>\n",
       "      <td>...</td>\n",
       "      <td>...</td>\n",
       "      <td>...</td>\n",
       "      <td>...</td>\n",
       "      <td>...</td>\n",
       "      <td>...</td>\n",
       "    </tr>\n",
       "    <tr>\n",
       "      <th>52289</th>\n",
       "      <td>Who defined magic polygons as n-sided regular ...</td>\n",
       "      <td>Victoria Jakicic and Rachelle Bouchat</td>\n",
       "      <td>Danniel Dias Augusto and Josimar da Silva</td>\n",
       "      <td>Both Victoria Jakicic and Rachelle Bouchat and...</td>\n",
       "      <td>Neither Victoria Jakicic and Rachelle Bouchat ...</td>\n",
       "      <td>There is no information about it</td>\n",
       "      <td>A</td>\n",
       "      <td>A magic polygon is a polygonal magic graph wit...</td>\n",
       "      <td>Magic polygon</td>\n",
       "      <td>NaN</td>\n",
       "      <td>53160480.0</td>\n",
       "    </tr>\n",
       "    <tr>\n",
       "      <th>52290</th>\n",
       "      <td>What is the definition of a degenerated magic ...</td>\n",
       "      <td>A set of vertices of concentric n-gon and a ce...</td>\n",
       "      <td>A magic polygon with a magic constant equal to 0</td>\n",
       "      <td>A magic polygon with only one node</td>\n",
       "      <td>A polygon that is not a regular polygon</td>\n",
       "      <td>A magic polygon with only one side</td>\n",
       "      <td>A</td>\n",
       "      <td>A magic polygon is a polygonal magic graph wit...</td>\n",
       "      <td>Magic polygon</td>\n",
       "      <td>NaN</td>\n",
       "      <td>53160480.0</td>\n",
       "    </tr>\n",
       "    <tr>\n",
       "      <th>52291</th>\n",
       "      <td>What is the purpose of a gas meter prover?</td>\n",
       "      <td>To measure the volume of gas passed through a ...</td>\n",
       "      <td>To repair gas meters in facilities</td>\n",
       "      <td>To monitor the accuracy of a gas meter</td>\n",
       "      <td>To determine the meter factor</td>\n",
       "      <td>To verify the industry standards for gas meters</td>\n",
       "      <td>C</td>\n",
       "      <td>A gas meter prover is a device to verify the a...</td>\n",
       "      <td>Gas meter prover</td>\n",
       "      <td>NaN</td>\n",
       "      <td>13741562.0</td>\n",
       "    </tr>\n",
       "    <tr>\n",
       "      <th>52292</th>\n",
       "      <td>What is a bell prover?</td>\n",
       "      <td>A device used to repair gas meters</td>\n",
       "      <td>A reference standard used in gas meter proving</td>\n",
       "      <td>An industry standard for gas meters</td>\n",
       "      <td>A device used to seal gas meters</td>\n",
       "      <td>A device used to measure the volume of air</td>\n",
       "      <td>B</td>\n",
       "      <td>A gas meter prover is a device to verify the a...</td>\n",
       "      <td>Gas meter prover</td>\n",
       "      <td>NaN</td>\n",
       "      <td>13741562.0</td>\n",
       "    </tr>\n",
       "    <tr>\n",
       "      <th>52293</th>\n",
       "      <td>How does a bell prover work?</td>\n",
       "      <td>By passing a known volume of air through a meter</td>\n",
       "      <td>By monitoring the gas meter register</td>\n",
       "      <td>By determining the meter factor</td>\n",
       "      <td>By measuring the volume of air passed</td>\n",
       "      <td>By providing standards for the gas industry</td>\n",
       "      <td>A</td>\n",
       "      <td>A gas meter prover is a device to verify the a...</td>\n",
       "      <td>Gas meter prover</td>\n",
       "      <td>NaN</td>\n",
       "      <td>13741562.0</td>\n",
       "    </tr>\n",
       "  </tbody>\n",
       "</table>\n",
       "<p>52294 rows × 11 columns</p>\n",
       "</div>"
      ],
      "text/plain": [
       "                                                  prompt  \\\n",
       "0      What is the main focus of Russell Epstein's re...   \n",
       "1      Which brain areas does Russell Epstein's lab s...   \n",
       "2      What is the role of the Parahippocampal and re...   \n",
       "3      Where did Epstein receive his undergraduate de...   \n",
       "4                      Who was E...n of Computer Vision?   \n",
       "...                                                  ...   \n",
       "52289  Who defined magic polygons as n-sided regular ...   \n",
       "52290  What is the definition of a degenerated magic ...   \n",
       "52291         What is the purpose of a gas meter prover?   \n",
       "52292                             What is a bell prover?   \n",
       "52293                       How does a bell prover work?   \n",
       "\n",
       "                                                       A  \\\n",
       "0               Neural mechanisms of language processing   \n",
       "1                      Prefrontal cortex and hippocampus   \n",
       "2                                          Motor control   \n",
       "3                                  University of Chicago   \n",
       "4                                            Alan Turing   \n",
       "...                                                  ...   \n",
       "52289              Victoria Jakicic and Rachelle Bouchat   \n",
       "52290  A set of vertices of concentric n-gon and a ce...   \n",
       "52291  To measure the volume of gas passed through a ...   \n",
       "52292                 A device used to repair gas meters   \n",
       "52293   By passing a known volume of air through a meter   \n",
       "\n",
       "                                                       B  \\\n",
       "0      Neural mechanisms underlying visual scene perc...   \n",
       "1             Parahippocampal and retrosplenial cortices   \n",
       "2                                   Emotional processing   \n",
       "3                                                Harvard   \n",
       "4                                            Alan Yuille   \n",
       "...                                                  ...   \n",
       "52289          Danniel Dias Augusto and Josimar da Silva   \n",
       "52290   A magic polygon with a magic constant equal to 0   \n",
       "52291                 To repair gas meters in facilities   \n",
       "52292     A reference standard used in gas meter proving   \n",
       "52293               By monitoring the gas meter register   \n",
       "\n",
       "                                                       C  \\\n",
       "0                  Neural mechanisms of memory formation   \n",
       "1                            Motor cortex and cerebellum   \n",
       "2                                Visual scene perception   \n",
       "3                                               Stanford   \n",
       "4                                          Marvin Minsky   \n",
       "...                                                  ...   \n",
       "52289  Both Victoria Jakicic and Rachelle Bouchat and...   \n",
       "52290                 A magic polygon with only one node   \n",
       "52291             To monitor the accuracy of a gas meter   \n",
       "52292                An industry standard for gas meters   \n",
       "52293                    By determining the meter factor   \n",
       "\n",
       "                                                       D  \\\n",
       "0                     Neural mechanisms of motor control   \n",
       "1                                  Amygdala and thalamus   \n",
       "2                                     Spatial navigation   \n",
       "3                                                    MIT   \n",
       "4                                        Geoffrey Hinton   \n",
       "...                                                  ...   \n",
       "52289  Neither Victoria Jakicic and Rachelle Bouchat ...   \n",
       "52290            A polygon that is not a regular polygon   \n",
       "52291                      To determine the meter factor   \n",
       "52292                   A device used to seal gas meters   \n",
       "52293              By measuring the volume of air passed   \n",
       "\n",
       "                                                     E answer  \\\n",
       "0            Neural mechanisms of emotional processing      B   \n",
       "1                    Visual cortex and auditory cortex      B   \n",
       "2                                  Language processing      D   \n",
       "3                                             Columbia      A   \n",
       "4                                           Yann LeCun      B   \n",
       "...                                                ...    ...   \n",
       "52289                 There is no information about it      A   \n",
       "52290               A magic polygon with only one side      A   \n",
       "52291  To verify the industry standards for gas meters      C   \n",
       "52292       A device used to measure the volume of air      B   \n",
       "52293      By providing standards for the gas industry      A   \n",
       "\n",
       "                                               wiki_text        page_title  \\\n",
       "0      Russell Epstein is a professor of psychology a...   Russell Epstein   \n",
       "1      Russell Epstein is a professor of psychology a...   Russell Epstein   \n",
       "2      Russell Epstein is a professor of psychology a...   Russell Epstein   \n",
       "3      Epstein received an undergraduate degree in ph...   Russell Epstein   \n",
       "4      Epstein received an undergraduate degree in ph...   Russell Epstein   \n",
       "...                                                  ...               ...   \n",
       "52289  A magic polygon is a polygonal magic graph wit...     Magic polygon   \n",
       "52290  A magic polygon is a polygonal magic graph wit...     Magic polygon   \n",
       "52291  A gas meter prover is a device to verify the a...  Gas meter prover   \n",
       "52292  A gas meter prover is a device to verify the a...  Gas meter prover   \n",
       "52293  A gas meter prover is a device to verify the a...  Gas meter prover   \n",
       "\n",
       "               section     page_id  \n",
       "0      Russell Epstein         NaN  \n",
       "1      Russell Epstein         NaN  \n",
       "2      Russell Epstein         NaN  \n",
       "3            Education         NaN  \n",
       "4            Education         NaN  \n",
       "...                ...         ...  \n",
       "52289              NaN  53160480.0  \n",
       "52290              NaN  53160480.0  \n",
       "52291              NaN  13741562.0  \n",
       "52292              NaN  13741562.0  \n",
       "52293              NaN  13741562.0  \n",
       "\n",
       "[52294 rows x 11 columns]"
      ]
     },
     "execution_count": 48,
     "metadata": {},
     "output_type": "execute_result"
    }
   ],
   "source": [
    "tmp"
   ]
  },
  {
   "cell_type": "code",
   "execution_count": 49,
   "id": "066841b3-4839-4c3a-b42e-83fa46a04a52",
   "metadata": {
    "tags": []
   },
   "outputs": [],
   "source": [
    "tmp.to_csv('./data/5w2_data.csv',index=False)"
   ]
  },
  {
   "cell_type": "code",
   "execution_count": 55,
   "id": "46ca10d7-8afe-47c8-8ec9-bff3a347f4f6",
   "metadata": {
    "tags": []
   },
   "outputs": [
    {
     "name": "stderr",
     "output_type": "stream",
     "text": [
      "/tmp/ipykernel_368545/1958854108.py:1: DtypeWarning: Columns (9) have mixed types. Specify dtype option on import or set low_memory=False.\n",
      "  data = pd.read_csv('./data/5w2_with_Top5_recall.csv')\n"
     ]
    }
   ],
   "source": [
    "data = pd.read_csv('./data/5w2_with_Top5_recall.csv')"
   ]
  },
  {
   "cell_type": "code",
   "execution_count": 63,
   "id": "81982e4a-9f5c-4642-a8af-396c44a35eb3",
   "metadata": {
    "tags": []
   },
   "outputs": [],
   "source": [
    "data = data[data['page_id'].isna()].reset_index(drop=True)"
   ]
  },
  {
   "cell_type": "code",
   "execution_count": 64,
   "id": "0397de2a-38c5-4c5b-83d1-034e1c7bf689",
   "metadata": {
    "tags": []
   },
   "outputs": [
    {
     "data": {
      "text/plain": [
       "0.8906900014345144"
      ]
     },
     "execution_count": 64,
     "metadata": {},
     "output_type": "execute_result"
    }
   ],
   "source": [
    "cnt = 0\n",
    "for i in range(len(data)):\n",
    "    wiki = data.loc[i,'wiki_text']\n",
    "    top1 = data.loc[i,'Top1']\n",
    "    top2 = data.loc[i,'Top2']\n",
    "    top3 = data.loc[i,'Top3']\n",
    "    top4 = data.loc[i,'Top4']\n",
    "    top5 = data.loc[i,'Top5']\n",
    "    if (wiki in top1) or (top1 in wiki):\n",
    "        cnt += 1\n",
    "    elif (wiki in top2) or (top2 in wiki):\n",
    "        cnt += 1\n",
    "    elif (wiki in top3) or (top3 in wiki):\n",
    "        cnt += 1\n",
    "    elif (wiki in top4) or (top4 in wiki):\n",
    "        cnt += 1\n",
    "    elif (wiki in top5) or (top5 in wiki):\n",
    "        cnt += 1\n",
    "cnt / len(data)"
   ]
  },
  {
   "cell_type": "code",
   "execution_count": 56,
   "id": "40754feb-4718-4a9b-81c4-c5cc3738da57",
   "metadata": {
    "tags": []
   },
   "outputs": [
    {
     "data": {
      "text/plain": [
       "'Russell Epstein is a professor of psychology at the University of Pennsylvania, who studies neural mechanisms underlying visual scene perception, event perception, object recognition, and spatial navigation in humans. His lab studies the role of the Parahippocampal and retrosplenial cortices in determining how people orient themselves relative to their surroundings.'"
      ]
     },
     "execution_count": 56,
     "metadata": {},
     "output_type": "execute_result"
    }
   ],
   "source": [
    "data.loc[0,'wiki_text']"
   ]
  },
  {
   "cell_type": "code",
   "execution_count": 57,
   "id": "0efe24f5-d8eb-4d6e-a197-ff5700be11c5",
   "metadata": {
    "tags": []
   },
   "outputs": [
    {
     "data": {
      "text/plain": [
       "'Russell Epstein is a professor of psychology at the University of Pennsylvania, who studies neural mechanisms underlying visual scene perception, event perception, object recognition, and spatial navigation in humans. His lab studies the role of the Parahippocampal and retrosplenial cortices in determining how people orient themselves relative to their surroundings.'"
      ]
     },
     "execution_count": 57,
     "metadata": {},
     "output_type": "execute_result"
    }
   ],
   "source": [
    "data.loc[0,'Top1']"
   ]
  },
  {
   "cell_type": "code",
   "execution_count": 65,
   "id": "1e5ebc5a-8115-4b42-856a-2417178beda7",
   "metadata": {
    "tags": []
   },
   "outputs": [
    {
     "data": {
      "text/plain": [
       "(6971, 17)"
      ]
     },
     "execution_count": 65,
     "metadata": {},
     "output_type": "execute_result"
    }
   ],
   "source": [
    "data.shape"
   ]
  },
  {
   "cell_type": "code",
   "execution_count": 66,
   "id": "0a4ce81f-8bfb-4793-b63a-f20f99861983",
   "metadata": {
    "tags": []
   },
   "outputs": [],
   "source": [
    "data['context'] = data['Top1'] + data['Top2'] + data['Top3'] + data['Top4'] + data['Top5']"
   ]
  },
  {
   "cell_type": "code",
   "execution_count": 67,
   "id": "44079a7f-186e-4309-b4cd-7a8684ddc9cf",
   "metadata": {
    "tags": []
   },
   "outputs": [],
   "source": [
    "data['le'] = data['context'].apply(lambda x : len(x))"
   ]
  },
  {
   "cell_type": "code",
   "execution_count": 68,
   "id": "928124b4-1015-4217-8fdb-f910827f8c0b",
   "metadata": {
    "tags": []
   },
   "outputs": [
    {
     "data": {
      "text/plain": [
       "count     6971.000000\n",
       "mean      3269.519438\n",
       "std       1515.047201\n",
       "min        556.000000\n",
       "25%       2274.000000\n",
       "50%       2929.000000\n",
       "75%       3890.000000\n",
       "max      24205.000000\n",
       "Name: le, dtype: float64"
      ]
     },
     "execution_count": 68,
     "metadata": {},
     "output_type": "execute_result"
    }
   ],
   "source": [
    "data['le'].describe()"
   ]
  },
  {
   "cell_type": "code",
   "execution_count": 69,
   "id": "ac5a3c13-3997-400c-8b18-d1850b1780e7",
   "metadata": {
    "tags": []
   },
   "outputs": [],
   "source": [
    "df = pd.read_parquet('./small_wiki_data/data.parquet')"
   ]
  },
  {
   "cell_type": "code",
   "execution_count": 74,
   "id": "d3aecefa-0011-4441-b3b8-8957234d7c52",
   "metadata": {
    "tags": []
   },
   "outputs": [
    {
     "data": {
      "application/vnd.jupyter.widget-view+json": {
       "model_id": "cf7a63dc437048e5ac4bfd1fea778a33",
       "version_major": 2,
       "version_minor": 0
      },
      "text/plain": [
       "  0%|          | 0/2101279 [00:00<?, ?it/s]"
      ]
     },
     "metadata": {},
     "output_type": "display_data"
    },
    {
     "name": "stderr",
     "output_type": "stream",
     "text": [
      "Token indices sequence length is longer than the specified maximum sequence length for this model (581 > 512). Running this sequence through the model will result in indexing errors\n"
     ]
    }
   ],
   "source": [
    "token = []\n",
    "from transformers import AutoTokenizer\n",
    "from tqdm.auto import tqdm\n",
    "tokenizer = AutoTokenizer.from_pretrained('/root/bert_path/sentence-transformer-all-mpnet-base-v2')\n",
    "for text in tqdm(df['text']):\n",
    "    t = tokenizer.encode(text, add_special_tokens=False)\n",
    "    token.append(t)"
   ]
  },
  {
   "cell_type": "code",
   "execution_count": 75,
   "id": "df20d5f8-a3b7-464e-902f-985dada3eaf0",
   "metadata": {
    "tags": []
   },
   "outputs": [],
   "source": [
    "le = [len(item) for item in token]"
   ]
  },
  {
   "cell_type": "code",
   "execution_count": 89,
   "id": "4cb88bce-26bf-4e58-b0ab-5599d8792e51",
   "metadata": {
    "tags": []
   },
   "outputs": [
    {
     "data": {
      "text/plain": [
       "2062756"
      ]
     },
     "execution_count": 89,
     "metadata": {},
     "output_type": "execute_result"
    }
   ],
   "source": [
    "cut_le = [i for i in le if i < 512]\n",
    "len(cut_le)"
   ]
  },
  {
   "cell_type": "code",
   "execution_count": null,
   "id": "a1fc33bf-502c-41ac-a563-b0e8a733a8d2",
   "metadata": {},
   "outputs": [],
   "source": []
  },
  {
   "cell_type": "code",
   "execution_count": null,
   "id": "75207f88-b918-4694-9703-4165d9a467c4",
   "metadata": {},
   "outputs": [],
   "source": []
  },
  {
   "cell_type": "code",
   "execution_count": 1,
   "id": "83f65647-4e56-4cd0-be11-fc89baf4c9a7",
   "metadata": {
    "tags": []
   },
   "outputs": [
    {
     "name": "stdout",
     "output_type": "stream",
     "text": [
      "[2023-10-06 21:33:09,087] [INFO] [real_accelerator.py:133:get_accelerator] Setting ds_accelerator to cuda (auto detect)\n"
     ]
    }
   ],
   "source": [
    "import warnings\n",
    "warnings.simplefilter('ignore')\n",
    "\n",
    "import numpy as np\n",
    "import pandas as pd \n",
    "from datasets import load_dataset, load_from_disk\n",
    "from sklearn.feature_extraction.text import TfidfVectorizer\n",
    "import torch\n",
    "from transformers import LongformerTokenizer, LongformerForMultipleChoice\n",
    "from transformers import AutoTokenizer, AutoModelForMultipleChoice\n",
    "import transformers\n",
    "import pandas as pd\n",
    "import pickle\n",
    "import numpy as np\n",
    "import matplotlib.pyplot as plt\n",
    "from tqdm import tqdm\n",
    "import unicodedata\n",
    "\n",
    "import gc\n",
    "import os"
   ]
  },
  {
   "cell_type": "code",
   "execution_count": 2,
   "id": "41f5c686-6abf-496f-9d9b-1f5ba49e5dd5",
   "metadata": {
    "tags": []
   },
   "outputs": [],
   "source": [
    "stop_words = [\n",
    "    'each', 'you', 'the', 'use', 'used',\n",
    "    'where', 'themselves', 'nor', \"it's\", 'how', \"don't\", 'just', 'your',\n",
    "    'about', 'himself', 'with', \"weren't\", 'hers', \"wouldn't\", 'more', 'its', 'were',\n",
    "    'his', 'their', 'then', 'been', 'myself', 're', 'not',\n",
    "    'ours', 'will', 'needn', 'which', 'here', 'hadn', 'it', 'our', 'there', 'than',\n",
    "    'most', \"couldn't\", 'both', 'some', 'for', 'up', 'couldn', \"that'll\",\n",
    "    \"she's\", 'over', 'this', 'now', 'until', 'these', 'few', 'haven',\n",
    "    'of', 'wouldn', 'into', 'too', 'to', 'very', 'shan', 'before', 'the', 'they',\n",
    "    'between', \"doesn't\", 'are', 'was', 'out', 'we', 'me',\n",
    "    'after', 'has', \"isn't\", 'have', 'such', 'should', 'yourselves', 'or', 'during', 'herself',\n",
    "    'doing', 'in', \"shouldn't\", \"won't\", 'when', 'do', 'through', 'she',\n",
    "    'having', 'him', \"haven't\", 'against', 'itself', 'that',\n",
    "    'did', 'theirs', 'can', 'those',\n",
    "    'own', 'so', 'and', 'who', \"you've\", 'yourself', 'her', 'he', 'only',\n",
    "    'what', 'ourselves', 'again', 'had', \"you'd\", 'is', 'other',\n",
    "    'why', 'while', 'from', 'them', 'if', 'above', 'does', 'whom',\n",
    "    'yours', 'but', 'being', \"wasn't\", 'be'\n",
    "]"
   ]
  },
  {
   "cell_type": "code",
   "execution_count": 3,
   "id": "dbdbd900-ccc2-4a8d-a1b8-274ffc08aa1c",
   "metadata": {
    "tags": []
   },
   "outputs": [],
   "source": [
    "df = pd.read_parquet('./small_wiki_data/data.parquet')"
   ]
  },
  {
   "cell_type": "code",
   "execution_count": 4,
   "id": "c8ea1582-2326-4781-8a1b-b4536e1ba54a",
   "metadata": {
    "tags": []
   },
   "outputs": [],
   "source": [
    "trn = pd.read_csv(\"./tmp/recall_val.csv\")\n",
    "trn['prompt_answer'] = trn.apply(lambda row : ' '.join(str(row[x]) for x in ['prompt', 'A', 'B', 'C', 'D', 'E']),axis=1)\n",
    "df['context'] = df['title'] + ' ' + df['section'] + ' ' + df['text']"
   ]
  },
  {
   "cell_type": "code",
   "execution_count": 5,
   "id": "96a5b6df-29e2-428c-a361-7c76d09b7827",
   "metadata": {
    "tags": []
   },
   "outputs": [],
   "source": [
    "vectorizer1 = TfidfVectorizer(ngram_range=(1,2),\n",
    "                                 token_pattern=r\"(?u)\\b[\\w/.-]+\\b|!|/|\\?|\\\"|\\'\",\n",
    "                                 stop_words=stop_words)\n",
    "vectorizer1.fit(trn['prompt_answer'].tolist())\n",
    "vocab_df_valid = vectorizer1.get_feature_names_out()"
   ]
  },
  {
   "cell_type": "code",
   "execution_count": 6,
   "id": "040efadb-54e5-42ff-82b1-1916fdd26b54",
   "metadata": {
    "tags": []
   },
   "outputs": [
    {
     "data": {
      "text/html": [
       "<style>#sk-container-id-1 {color: black;}#sk-container-id-1 pre{padding: 0;}#sk-container-id-1 div.sk-toggleable {background-color: white;}#sk-container-id-1 label.sk-toggleable__label {cursor: pointer;display: block;width: 100%;margin-bottom: 0;padding: 0.3em;box-sizing: border-box;text-align: center;}#sk-container-id-1 label.sk-toggleable__label-arrow:before {content: \"▸\";float: left;margin-right: 0.25em;color: #696969;}#sk-container-id-1 label.sk-toggleable__label-arrow:hover:before {color: black;}#sk-container-id-1 div.sk-estimator:hover label.sk-toggleable__label-arrow:before {color: black;}#sk-container-id-1 div.sk-toggleable__content {max-height: 0;max-width: 0;overflow: hidden;text-align: left;background-color: #f0f8ff;}#sk-container-id-1 div.sk-toggleable__content pre {margin: 0.2em;color: black;border-radius: 0.25em;background-color: #f0f8ff;}#sk-container-id-1 input.sk-toggleable__control:checked~div.sk-toggleable__content {max-height: 200px;max-width: 100%;overflow: auto;}#sk-container-id-1 input.sk-toggleable__control:checked~label.sk-toggleable__label-arrow:before {content: \"▾\";}#sk-container-id-1 div.sk-estimator input.sk-toggleable__control:checked~label.sk-toggleable__label {background-color: #d4ebff;}#sk-container-id-1 div.sk-label input.sk-toggleable__control:checked~label.sk-toggleable__label {background-color: #d4ebff;}#sk-container-id-1 input.sk-hidden--visually {border: 0;clip: rect(1px 1px 1px 1px);clip: rect(1px, 1px, 1px, 1px);height: 1px;margin: -1px;overflow: hidden;padding: 0;position: absolute;width: 1px;}#sk-container-id-1 div.sk-estimator {font-family: monospace;background-color: #f0f8ff;border: 1px dotted black;border-radius: 0.25em;box-sizing: border-box;margin-bottom: 0.5em;}#sk-container-id-1 div.sk-estimator:hover {background-color: #d4ebff;}#sk-container-id-1 div.sk-parallel-item::after {content: \"\";width: 100%;border-bottom: 1px solid gray;flex-grow: 1;}#sk-container-id-1 div.sk-label:hover label.sk-toggleable__label {background-color: #d4ebff;}#sk-container-id-1 div.sk-serial::before {content: \"\";position: absolute;border-left: 1px solid gray;box-sizing: border-box;top: 0;bottom: 0;left: 50%;z-index: 0;}#sk-container-id-1 div.sk-serial {display: flex;flex-direction: column;align-items: center;background-color: white;padding-right: 0.2em;padding-left: 0.2em;position: relative;}#sk-container-id-1 div.sk-item {position: relative;z-index: 1;}#sk-container-id-1 div.sk-parallel {display: flex;align-items: stretch;justify-content: center;background-color: white;position: relative;}#sk-container-id-1 div.sk-item::before, #sk-container-id-1 div.sk-parallel-item::before {content: \"\";position: absolute;border-left: 1px solid gray;box-sizing: border-box;top: 0;bottom: 0;left: 50%;z-index: -1;}#sk-container-id-1 div.sk-parallel-item {display: flex;flex-direction: column;z-index: 1;position: relative;background-color: white;}#sk-container-id-1 div.sk-parallel-item:first-child::after {align-self: flex-end;width: 50%;}#sk-container-id-1 div.sk-parallel-item:last-child::after {align-self: flex-start;width: 50%;}#sk-container-id-1 div.sk-parallel-item:only-child::after {width: 0;}#sk-container-id-1 div.sk-dashed-wrapped {border: 1px dashed gray;margin: 0 0.4em 0.5em 0.4em;box-sizing: border-box;padding-bottom: 0.4em;background-color: white;}#sk-container-id-1 div.sk-label label {font-family: monospace;font-weight: bold;display: inline-block;line-height: 1.2em;}#sk-container-id-1 div.sk-label-container {text-align: center;}#sk-container-id-1 div.sk-container {/* jupyter's `normalize.less` sets `[hidden] { display: none; }` but bootstrap.min.css set `[hidden] { display: none !important; }` so we also need the `!important` here to be able to override the default hidden behavior on the sphinx rendered scikit-learn.org. See: https://github.com/scikit-learn/scikit-learn/issues/21755 */display: inline-block !important;position: relative;}#sk-container-id-1 div.sk-text-repr-fallback {display: none;}</style><div id=\"sk-container-id-1\" class=\"sk-top-container\"><div class=\"sk-text-repr-fallback\"><pre>TfidfVectorizer(ngram_range=(1, 2),\n",
       "                stop_words=[&#x27;each&#x27;, &#x27;you&#x27;, &#x27;the&#x27;, &#x27;use&#x27;, &#x27;used&#x27;, &#x27;where&#x27;,\n",
       "                            &#x27;themselves&#x27;, &#x27;nor&#x27;, &quot;it&#x27;s&quot;, &#x27;how&#x27;, &quot;don&#x27;t&quot;, &#x27;just&#x27;,\n",
       "                            &#x27;your&#x27;, &#x27;about&#x27;, &#x27;himself&#x27;, &#x27;with&#x27;, &quot;weren&#x27;t&quot;,\n",
       "                            &#x27;hers&#x27;, &quot;wouldn&#x27;t&quot;, &#x27;more&#x27;, &#x27;its&#x27;, &#x27;were&#x27;, &#x27;his&#x27;,\n",
       "                            &#x27;their&#x27;, &#x27;then&#x27;, &#x27;been&#x27;, &#x27;myself&#x27;, &#x27;re&#x27;, &#x27;not&#x27;,\n",
       "                            &#x27;ours&#x27;, ...],\n",
       "                token_pattern=&#x27;(?u)\\\\b[\\\\w/.-]+\\\\b|!|/|\\\\?|\\\\&quot;|\\\\\\&#x27;&#x27;,\n",
       "                vocabulary=array([&#x27;!&#x27;, &#x27;! !&#x27;, &#x27;! &quot;&#x27;, ..., &#x27;ℵ0 exactly&#x27;, &#x27;ℵ1&#x27;, &#x27;ℵ1 exactly&#x27;],\n",
       "      dtype=object))</pre><b>In a Jupyter environment, please rerun this cell to show the HTML representation or trust the notebook. <br />On GitHub, the HTML representation is unable to render, please try loading this page with nbviewer.org.</b></div><div class=\"sk-container\" hidden><div class=\"sk-item\"><div class=\"sk-estimator sk-toggleable\"><input class=\"sk-toggleable__control sk-hidden--visually\" id=\"sk-estimator-id-1\" type=\"checkbox\" checked><label for=\"sk-estimator-id-1\" class=\"sk-toggleable__label sk-toggleable__label-arrow\">TfidfVectorizer</label><div class=\"sk-toggleable__content\"><pre>TfidfVectorizer(ngram_range=(1, 2),\n",
       "                stop_words=[&#x27;each&#x27;, &#x27;you&#x27;, &#x27;the&#x27;, &#x27;use&#x27;, &#x27;used&#x27;, &#x27;where&#x27;,\n",
       "                            &#x27;themselves&#x27;, &#x27;nor&#x27;, &quot;it&#x27;s&quot;, &#x27;how&#x27;, &quot;don&#x27;t&quot;, &#x27;just&#x27;,\n",
       "                            &#x27;your&#x27;, &#x27;about&#x27;, &#x27;himself&#x27;, &#x27;with&#x27;, &quot;weren&#x27;t&quot;,\n",
       "                            &#x27;hers&#x27;, &quot;wouldn&#x27;t&quot;, &#x27;more&#x27;, &#x27;its&#x27;, &#x27;were&#x27;, &#x27;his&#x27;,\n",
       "                            &#x27;their&#x27;, &#x27;then&#x27;, &#x27;been&#x27;, &#x27;myself&#x27;, &#x27;re&#x27;, &#x27;not&#x27;,\n",
       "                            &#x27;ours&#x27;, ...],\n",
       "                token_pattern=&#x27;(?u)\\\\b[\\\\w/.-]+\\\\b|!|/|\\\\?|\\\\&quot;|\\\\\\&#x27;&#x27;,\n",
       "                vocabulary=array([&#x27;!&#x27;, &#x27;! !&#x27;, &#x27;! &quot;&#x27;, ..., &#x27;ℵ0 exactly&#x27;, &#x27;ℵ1&#x27;, &#x27;ℵ1 exactly&#x27;],\n",
       "      dtype=object))</pre></div></div></div></div></div>"
      ],
      "text/plain": [
       "TfidfVectorizer(ngram_range=(1, 2),\n",
       "                stop_words=['each', 'you', 'the', 'use', 'used', 'where',\n",
       "                            'themselves', 'nor', \"it's\", 'how', \"don't\", 'just',\n",
       "                            'your', 'about', 'himself', 'with', \"weren't\",\n",
       "                            'hers', \"wouldn't\", 'more', 'its', 'were', 'his',\n",
       "                            'their', 'then', 'been', 'myself', 're', 'not',\n",
       "                            'ours', ...],\n",
       "                token_pattern='(?u)\\\\b[\\\\w/.-]+\\\\b|!|/|\\\\?|\\\\\"|\\\\\\'',\n",
       "                vocabulary=array(['!', '! !', '! \"', ..., 'ℵ0 exactly', 'ℵ1', 'ℵ1 exactly'],\n",
       "      dtype=object))"
      ]
     },
     "execution_count": 6,
     "metadata": {},
     "output_type": "execute_result"
    }
   ],
   "source": [
    "vectorizer = TfidfVectorizer(ngram_range=(1,2),\n",
    "                             token_pattern=r\"(?u)\\b[\\w/.-]+\\b|!|/|\\?|\\\"|\\'\",\n",
    "                             stop_words=stop_words,\n",
    "                             vocabulary=vocab_df_valid)\n",
    "vectorizer.fit(df['text'].tolist()[:800000])"
   ]
  },
  {
   "cell_type": "code",
   "execution_count": 7,
   "id": "3435628d-1bf0-4a0d-8323-7dcb01a9c7f4",
   "metadata": {
    "tags": []
   },
   "outputs": [],
   "source": [
    "prompt_embed = vectorizer.transform(trn['prompt_answer'].tolist())"
   ]
  },
  {
   "cell_type": "code",
   "execution_count": 8,
   "id": "60ba3a55-a027-48b0-b74e-045cbeea991b",
   "metadata": {
    "tags": []
   },
   "outputs": [
    {
     "data": {
      "text/plain": [
       "(2692, 56405)"
      ]
     },
     "execution_count": 8,
     "metadata": {},
     "output_type": "execute_result"
    }
   ],
   "source": [
    "prompt_embed.shape"
   ]
  },
  {
   "cell_type": "code",
   "execution_count": 9,
   "id": "2128eeaa-99ce-4e11-9e61-42969b7ffd32",
   "metadata": {
    "tags": []
   },
   "outputs": [],
   "source": [
    "db_embed = vectorizer.transform(df['text'].tolist())"
   ]
  },
  {
   "cell_type": "code",
   "execution_count": 10,
   "id": "0e852012-1223-44de-bb65-4acea6556afb",
   "metadata": {
    "tags": []
   },
   "outputs": [
    {
     "data": {
      "text/plain": [
       "(2101279, 56405)"
      ]
     },
     "execution_count": 10,
     "metadata": {},
     "output_type": "execute_result"
    }
   ],
   "source": [
    "db_embed.shape"
   ]
  },
  {
   "cell_type": "code",
   "execution_count": 11,
   "id": "54ad6b7b-cf2b-4a21-bb25-a0c17e45cc55",
   "metadata": {
    "tags": []
   },
   "outputs": [],
   "source": [
    "score = prompt_embed * db_embed.T"
   ]
  },
  {
   "cell_type": "code",
   "execution_count": 12,
   "id": "c5f0a623-a2f0-4108-acfa-780f28d3be22",
   "metadata": {
    "tags": []
   },
   "outputs": [],
   "source": [
    "score = score.toarray()"
   ]
  },
  {
   "cell_type": "code",
   "execution_count": 13,
   "id": "1700e239-a044-4ce6-819f-71a4a0741a1e",
   "metadata": {
    "tags": []
   },
   "outputs": [],
   "source": [
    "index = score.argpartition(-1000, axis=1)[:, -1000:]"
   ]
  },
  {
   "cell_type": "code",
   "execution_count": 14,
   "id": "0e49093d-a71a-4da2-bb4f-4a97f1fbd4ad",
   "metadata": {
    "tags": []
   },
   "outputs": [
    {
     "data": {
      "text/plain": [
       "(2692, 1000)"
      ]
     },
     "execution_count": 14,
     "metadata": {},
     "output_type": "execute_result"
    }
   ],
   "source": [
    "index.shape"
   ]
  },
  {
   "cell_type": "code",
   "execution_count": 15,
   "id": "941e4f24-7691-4ab5-80a0-568349a54f02",
   "metadata": {
    "tags": []
   },
   "outputs": [
    {
     "name": "stderr",
     "output_type": "stream",
     "text": [
      "100%|██████████| 2692/2692 [00:22<00:00, 121.58it/s]\n"
     ]
    },
    {
     "data": {
      "text/plain": [
       "0.9791976225854383"
      ]
     },
     "execution_count": 15,
     "metadata": {},
     "output_type": "execute_result"
    }
   ],
   "source": [
    "cnt = 0\n",
    "for i in tqdm(range(len(trn))):\n",
    "    wiki = trn.loc[i,'wiki_text']\n",
    "    a = 0\n",
    "    for j in index[i]:\n",
    "        text = df.loc[j, 'text']\n",
    "        if (wiki in text) or (text in wiki):\n",
    "            a = 1\n",
    "    cnt += a\n",
    "cnt / len(trn)"
   ]
  },
  {
   "cell_type": "code",
   "execution_count": 16,
   "id": "39212c6e-756b-4aa9-99fb-dd74fb3d3627",
   "metadata": {
    "tags": []
   },
   "outputs": [
    {
     "data": {
      "text/plain": [
       "'Ambient Orb was introduced by Ambient Devices in 2002. The device was a glowing sphere that displayed data through changes in color. Ambient Orb was customizable in terms of content and its subsequent visual representation. For instance, when the device was set to monitor a stock market index (e.g. NASDAQ), the Orb glowed green/red to represent the upward/downward price movements; alternatively, it turned amber when the index is unchanged. Nabeel Hyatt stated that the device was marketed as an interior design item with additional functionality.'"
      ]
     },
     "execution_count": 16,
     "metadata": {},
     "output_type": "execute_result"
    }
   ],
   "source": [
    "trn.loc[0,'wiki_text']"
   ]
  },
  {
   "cell_type": "code",
   "execution_count": null,
   "id": "404229ec-6e3a-4c9a-a3d0-e38bb6c5e14e",
   "metadata": {},
   "outputs": [],
   "source": []
  },
  {
   "cell_type": "code",
   "execution_count": 19,
   "id": "a51619ad-f2e4-4569-9550-423be35f83a0",
   "metadata": {
    "tags": []
   },
   "outputs": [],
   "source": [
    "# context = []\n",
    "# for i in range(len(trn)):\n",
    "#     t = \"\"\n",
    "#     for j in index[i]:\n",
    "#         t += df.loc[j, 'text']\n",
    "#     context.append(t)\n",
    "context = []\n",
    "for i in range(len(trn)):\n",
    "    t = []\n",
    "    for j in ids[i]:\n",
    "        t.append(df.loc[j, 'text'])\n",
    "    context.append(t)"
   ]
  },
  {
   "cell_type": "code",
   "execution_count": 20,
   "id": "13df3374-ce2b-4851-ba71-fb8467147dbd",
   "metadata": {
    "tags": []
   },
   "outputs": [],
   "source": [
    "trn['context'] = context"
   ]
  },
  {
   "cell_type": "code",
   "execution_count": 22,
   "id": "13fe832e-f239-41b5-aaa4-05d884937724",
   "metadata": {
    "tags": []
   },
   "outputs": [],
   "source": [
    "trn.to_parquet('./tmp/recall_val_tfidf_top1000_top10.parquet')"
   ]
  },
  {
   "cell_type": "code",
   "execution_count": 17,
   "id": "1e941d5e-3302-4bf3-bc2a-86b99a64d412",
   "metadata": {
    "tags": []
   },
   "outputs": [],
   "source": [
    "token = []\n",
    "for i in range(30):\n",
    "    import pickle as pkl\n",
    "    with open(f'./tmp/token/{i}.pkl', 'rb') as f:\n",
    "        token.extend(pkl.load(f))"
   ]
  },
  {
   "cell_type": "code",
   "execution_count": 18,
   "id": "fc540a97-8949-4c60-aac1-1235e965ef48",
   "metadata": {
    "tags": []
   },
   "outputs": [
    {
     "name": "stderr",
     "output_type": "stream",
     "text": [
      "100%|██████████| 2692/2692 [08:20<00:00,  5.37it/s]\n"
     ]
    }
   ],
   "source": [
    "import nltk\n",
    "from nltk.corpus import stopwords\n",
    "from nltk.tokenize import word_tokenize, sent_tokenize\n",
    "def word_process(text):\n",
    "    words = word_tokenize(text)\n",
    "    words = [word.lower() for word in words if word.isalnum()]\n",
    "    return words\n",
    "stop_words = set(stopwords.words('english'))\n",
    "\n",
    "\n",
    "def query_process(q):\n",
    "    words = word_tokenize(text)\n",
    "    words = [word.lower() for word in words if word.isalnum()]\n",
    "    keywords = [word for word in words if word not in stop_words]\n",
    "    return \" \".join(keywords)\n",
    "\n",
    "def recall_doc(q, bm25):\n",
    "    q = word_process(q)\n",
    "    res_ids = [item[1] for item in bm25.top_k_sentence(q,  k=10)]\n",
    "    return res_ids\n",
    "\n",
    "from fastbm25 import fastbm25\n",
    "ids = []\n",
    "for i in tqdm(range(len(trn))):\n",
    "    idxs = list(index[i])\n",
    "    token_corpus = [token[item] for item in idxs]\n",
    "    bm25 = fastbm25(token_corpus)\n",
    "    res_ids = recall_doc(trn.loc[i, 'prompt_answer'], bm25)\n",
    "    tmp = [idxs[item] for item in res_ids]\n",
    "    ids.append(tmp)"
   ]
  },
  {
   "cell_type": "code",
   "execution_count": 58,
   "id": "541813b2-f161-4dfa-87e7-e6d3adf374ce",
   "metadata": {
    "tags": []
   },
   "outputs": [],
   "source": [
    "context = []\n",
    "for i in range(len(trn)):\n",
    "    t = \"\"\n",
    "    for j in ids[i]:\n",
    "        t += df.loc[j, 'text']\n",
    "    context.append(t)\n",
    "trn['context'] = context"
   ]
  },
  {
   "cell_type": "code",
   "execution_count": 59,
   "id": "839b1119-ad5a-4ba2-9a3d-bfc7e5e26428",
   "metadata": {
    "tags": []
   },
   "outputs": [],
   "source": [
    "test_df = trn.copy()"
   ]
  },
  {
   "cell_type": "code",
   "execution_count": 61,
   "id": "516fb65c-dcc8-4730-8e47-c8faa54a3498",
   "metadata": {
    "tags": []
   },
   "outputs": [
    {
     "name": "stderr",
     "output_type": "stream",
     "text": [
      "Special tokens have been added in the vocabulary, make sure the associated word embeddings are fine-tuned or trained.\n",
      "Special tokens have been added in the vocabulary, make sure the associated word embeddings are fine-tuned or trained.\n",
      "Some weights of DebertaV2ForMultipleChoice were not initialized from the model checkpoint at ./pretrain_models/microsoft_deberta_large and are newly initialized: ['classifier.weight', 'pooler.dense.weight', 'classifier.bias', 'pooler.dense.bias']\n",
      "You should probably TRAIN this model on a down-stream task to be able to use it for predictions and inference.\n"
     ]
    },
    {
     "data": {
      "text/plain": [
       "DebertaV2ForMultipleChoice(\n",
       "  (deberta): DebertaV2Model(\n",
       "    (embeddings): DebertaV2Embeddings(\n",
       "      (word_embeddings): Embedding(128100, 1024, padding_idx=0)\n",
       "      (LayerNorm): LayerNorm((1024,), eps=1e-07, elementwise_affine=True)\n",
       "      (dropout): StableDropout()\n",
       "    )\n",
       "    (encoder): DebertaV2Encoder(\n",
       "      (layer): ModuleList(\n",
       "        (0-23): 24 x DebertaV2Layer(\n",
       "          (attention): DebertaV2Attention(\n",
       "            (self): DisentangledSelfAttention(\n",
       "              (query_proj): Linear(in_features=1024, out_features=1024, bias=True)\n",
       "              (key_proj): Linear(in_features=1024, out_features=1024, bias=True)\n",
       "              (value_proj): Linear(in_features=1024, out_features=1024, bias=True)\n",
       "              (pos_dropout): StableDropout()\n",
       "              (dropout): StableDropout()\n",
       "            )\n",
       "            (output): DebertaV2SelfOutput(\n",
       "              (dense): Linear(in_features=1024, out_features=1024, bias=True)\n",
       "              (LayerNorm): LayerNorm((1024,), eps=1e-07, elementwise_affine=True)\n",
       "              (dropout): StableDropout()\n",
       "            )\n",
       "          )\n",
       "          (intermediate): DebertaV2Intermediate(\n",
       "            (dense): Linear(in_features=1024, out_features=4096, bias=True)\n",
       "            (intermediate_act_fn): GELUActivation()\n",
       "          )\n",
       "          (output): DebertaV2Output(\n",
       "            (dense): Linear(in_features=4096, out_features=1024, bias=True)\n",
       "            (LayerNorm): LayerNorm((1024,), eps=1e-07, elementwise_affine=True)\n",
       "            (dropout): StableDropout()\n",
       "          )\n",
       "        )\n",
       "      )\n",
       "      (rel_embeddings): Embedding(512, 1024)\n",
       "      (LayerNorm): LayerNorm((1024,), eps=1e-07, elementwise_affine=True)\n",
       "    )\n",
       "  )\n",
       "  (pooler): ContextPooler(\n",
       "    (dense): Linear(in_features=1024, out_features=1024, bias=True)\n",
       "    (dropout): StableDropout()\n",
       "  )\n",
       "  (classifier): Linear(in_features=1024, out_features=1, bias=True)\n",
       "  (dropout): StableDropout()\n",
       ")"
      ]
     },
     "execution_count": 61,
     "metadata": {},
     "output_type": "execute_result"
    }
   ],
   "source": [
    "test_df.index = list(range(len(test_df)))\n",
    "test_df['id'] = list(range(len(test_df)))\n",
    "test_df[\"prompt\"] = test_df[\"context\"].apply(lambda x: x[:1750]) + \" #### \" +  test_df[\"prompt\"]\n",
    "from collections import OrderedDict\n",
    "def load_param(model, path):\n",
    "    state_dict = torch.load(path,map_location='cpu')\n",
    "    params = OrderedDict()\n",
    "    for name, param in state_dict.items():\n",
    "        if 'module.' in name:\n",
    "            name = name[7:]\n",
    "            params[name] = param\n",
    "    model.load_state_dict(params, strict=False)\n",
    "    return model\n",
    "model_dir = \"./pretrain_models/microsoft_deberta_large\"\n",
    "tokenizer = AutoTokenizer.from_pretrained(model_dir)\n",
    "model = AutoModelForMultipleChoice.from_pretrained(model_dir).cuda()\n",
    "model = load_param(model, './save/10w_ema_bm25_20_20.bin')\n",
    "model.eval()"
   ]
  },
  {
   "cell_type": "code",
   "execution_count": 62,
   "id": "cd854e47-eaeb-4065-a1df-a49de05c7500",
   "metadata": {
    "tags": []
   },
   "outputs": [],
   "source": [
    "import os\n",
    "import gc\n",
    "import pandas as pd\n",
    "import numpy as np\n",
    "import re\n",
    "from tqdm.auto import tqdm\n",
    "import blingfire as bf\n",
    "\n",
    "from collections.abc import Iterable\n",
    "\n",
    "import faiss\n",
    "from faiss import write_index, read_index\n",
    "\n",
    "from sentence_transformers import SentenceTransformer\n",
    "from torch.cuda.amp import autocast\n",
    "import torch\n",
    "import ctypes\n",
    "libc = ctypes.CDLL(\"libc.so.6\")\n",
    "\n",
    "from dataclasses import dataclass\n",
    "from typing import Optional, Union\n",
    "\n",
    "import torch\n",
    "import numpy as np\n",
    "import pandas as pd\n",
    "from datasets import Dataset\n",
    "from transformers import AutoTokenizer\n",
    "from transformers import AutoModelForMultipleChoice, TrainingArguments, Trainer\n",
    "from transformers.tokenization_utils_base import PreTrainedTokenizerBase, PaddingStrategy\n",
    "from torch.utils.data import DataLoader"
   ]
  },
  {
   "cell_type": "code",
   "execution_count": 63,
   "id": "a1ddf8f8-204a-44f8-9f94-01d0eea3dbc2",
   "metadata": {
    "tags": []
   },
   "outputs": [],
   "source": [
    "# We'll create a dictionary to convert option names (A, B, C, D, E) into indices and back again\n",
    "options = 'ABCDE'\n",
    "indices = list(range(5))\n",
    "\n",
    "option_to_index = {option: index for option, index in zip(options, indices)}\n",
    "index_to_option = {index: option for option, index in zip(options, indices)}\n",
    "\n",
    "def preprocess(example):\n",
    "    # The AutoModelForMultipleChoice class expects a set of question/answer pairs\n",
    "    # so we'll copy our question 5 times before tokenizing\n",
    "    first_sentence = [example['prompt']] * 5\n",
    "    second_sentence = []\n",
    "    for option in options:\n",
    "        second_sentence.append(str(example[option]))\n",
    "    # Our tokenizer will turn our text into token IDs BERT can understand\n",
    "    tokenized_example = tokenizer(first_sentence, second_sentence, truncation=True)\n",
    "    # tokenized_example['label'] = option_to_index[example['answer']]\n",
    "    return tokenized_example"
   ]
  },
  {
   "cell_type": "code",
   "execution_count": 64,
   "id": "bde35ebc-6fbc-4503-b948-500192ee4683",
   "metadata": {
    "tags": []
   },
   "outputs": [],
   "source": [
    "@dataclass\n",
    "class DataCollatorForMultipleChoice:\n",
    "    tokenizer: PreTrainedTokenizerBase\n",
    "    padding: Union[bool, str, PaddingStrategy] = True\n",
    "    max_length: Optional[int] = None\n",
    "    pad_to_multiple_of: Optional[int] = None\n",
    "    \n",
    "    def __call__(self, features):\n",
    "        # label_name = \"label\" if 'label' in features[0].keys() else 'labels'\n",
    "        # labels = [feature.pop(label_name) for feature in features]\n",
    "        batch_size = len(features)\n",
    "        num_choices = len(features[0]['input_ids'])\n",
    "        flattened_features = [\n",
    "            [{k: v[i] for k, v in feature.items()} for i in range(num_choices)] for feature in features\n",
    "        ]\n",
    "        flattened_features = sum(flattened_features, [])\n",
    "        batch = self.tokenizer.pad(\n",
    "            flattened_features,\n",
    "            padding=self.padding,\n",
    "            max_length=self.max_length,\n",
    "            pad_to_multiple_of=self.pad_to_multiple_of,\n",
    "            return_tensors='pt',\n",
    "        )\n",
    "        batch = {k: v.view(batch_size, num_choices, -1) for k, v in batch.items()}\n",
    "        # batch['labels'] = torch.tensor(labels, dtype=torch.int64)\n",
    "        return batch"
   ]
  },
  {
   "cell_type": "code",
   "execution_count": 65,
   "id": "c1e8c629-2b6a-4422-abf2-03bd5ed126da",
   "metadata": {
    "tags": []
   },
   "outputs": [
    {
     "name": "stderr",
     "output_type": "stream",
     "text": [
      "Map:   0%|          | 0/2692 [00:00<?, ? examples/s]Asking to truncate to max_length but no maximum length is provided and the model has no predefined maximum length. Default to no truncation.\n",
      "                                                                \r"
     ]
    }
   ],
   "source": [
    "tokenized_test_dataset = Dataset.from_pandas(test_df[['id', 'prompt', 'A', 'B', 'C', 'D', 'E']].drop(columns=['id'])).map(preprocess, remove_columns=['prompt', 'A', 'B', 'C', 'D', 'E'])\n",
    "tokenized_test_dataset = tokenized_test_dataset.remove_columns([\"__index_level_0__\"])\n",
    "data_collator = DataCollatorForMultipleChoice(tokenizer=tokenizer)\n",
    "test_dataloader = DataLoader(tokenized_test_dataset, batch_size=1, shuffle=False, collate_fn=data_collator)"
   ]
  },
  {
   "cell_type": "code",
   "execution_count": 66,
   "id": "8b00ae6f-e01c-45bc-bbde-823ef40cc640",
   "metadata": {
    "tags": []
   },
   "outputs": [
    {
     "name": "stderr",
     "output_type": "stream",
     "text": [
      "  0%|          | 0/2692 [00:00<?, ?it/s]You're using a DebertaV2TokenizerFast tokenizer. Please note that with a fast tokenizer, using the `__call__` method is faster than using a method to encode the text followed by a call to the `pad` method to get a padded encoding.\n",
      "100%|██████████| 2692/2692 [04:27<00:00, 10.06it/s]\n"
     ]
    }
   ],
   "source": [
    "test_predictions = []\n",
    "from torch.cuda.amp import autocast\n",
    "for batch in tqdm(test_dataloader):\n",
    "    for k in batch.keys():\n",
    "        batch[k] = batch[k].cuda()\n",
    "    with torch.no_grad():\n",
    "        with autocast():\n",
    "            outputs = model(**batch)\n",
    "    test_predictions.append(outputs.logits.cpu().detach())\n",
    "\n",
    "test_predictions = torch.cat(test_predictions)\n",
    "\n",
    "predictions_as_ids = np.argsort(-test_predictions, 1)\n",
    "\n",
    "predictions_as_answer_letters = np.array(list('ABCDE'))[predictions_as_ids]\n",
    "# predictions_as_answer_letters[:3]\n",
    "\n",
    "predictions_as_string = test_df['prediction'] = [\n",
    "    ' '.join(row) for row in predictions_as_answer_letters[:, :3]\n",
    "]"
   ]
  },
  {
   "cell_type": "code",
   "execution_count": 67,
   "id": "ba0eb025-740b-4872-ac6b-f9d04c5da004",
   "metadata": {
    "tags": []
   },
   "outputs": [
    {
     "data": {
      "text/plain": [
       "0.868499257057949"
      ]
     },
     "execution_count": 67,
     "metadata": {},
     "output_type": "execute_result"
    }
   ],
   "source": [
    "pred = test_df['prediction'].apply(lambda x : x.split(' ')).tolist()\n",
    "answer = test_df['answer'].tolist()\n",
    "def calculate_ap(answer_order, correct_answer):\n",
    "    \"\"\"\n",
    "    计算平均准确率\n",
    "    \"\"\"\n",
    "    n = len(answer_order)\n",
    "    hit = 0\n",
    "    ap = 0\n",
    "    for i in range(n):\n",
    "        if answer_order[i] == correct_answer:\n",
    "            hit += 1\n",
    "            ap += hit / (i+1)\n",
    "    if hit == 0:\n",
    "        return 0\n",
    "    else:\n",
    "        return ap / hit\n",
    "\n",
    "def calculate_map(answers, correct_answers):\n",
    "    \"\"\"\n",
    "    计算平均准确率均值\n",
    "    \"\"\"\n",
    "    n = len(answers)\n",
    "    aps = []\n",
    "    for i in range(n):\n",
    "        ap = calculate_ap(answers[i], correct_answers[i])\n",
    "        aps.append(ap)\n",
    "    return sum(aps) / n\n",
    "calculate_map(pred, answer)"
   ]
  },
  {
   "cell_type": "markdown",
   "id": "1696a50c-78b9-4ab5-998b-fb7c7a3c2537",
   "metadata": {},
   "source": [
    "# 获取15w8的揉合数据"
   ]
  },
  {
   "cell_type": "code",
   "execution_count": 1,
   "id": "c3e3943a-655c-42b0-8121-54a8a4fac65d",
   "metadata": {},
   "outputs": [
    {
     "data": {
      "text/html": [
       "<div>\n",
       "<style scoped>\n",
       "    .dataframe tbody tr th:only-of-type {\n",
       "        vertical-align: middle;\n",
       "    }\n",
       "\n",
       "    .dataframe tbody tr th {\n",
       "        vertical-align: top;\n",
       "    }\n",
       "\n",
       "    .dataframe thead th {\n",
       "        text-align: right;\n",
       "    }\n",
       "</style>\n",
       "<table border=\"1\" class=\"dataframe\">\n",
       "  <thead>\n",
       "    <tr style=\"text-align: right;\">\n",
       "      <th></th>\n",
       "      <th>id</th>\n",
       "      <th>title</th>\n",
       "      <th>text</th>\n",
       "      <th>url</th>\n",
       "      <th>wiki_id</th>\n",
       "      <th>views</th>\n",
       "      <th>paragraph_id</th>\n",
       "      <th>langs</th>\n",
       "    </tr>\n",
       "  </thead>\n",
       "  <tbody>\n",
       "    <tr>\n",
       "      <th>0</th>\n",
       "      <td>5443</td>\n",
       "      <td>Google Translate</td>\n",
       "      <td>Google Translate is a multilingual neural mach...</td>\n",
       "      <td>https://en.wikipedia.org/wiki?curid=3235536</td>\n",
       "      <td>3235536</td>\n",
       "      <td>4305.652832</td>\n",
       "      <td>0</td>\n",
       "      <td>97</td>\n",
       "    </tr>\n",
       "    <tr>\n",
       "      <th>1</th>\n",
       "      <td>5444</td>\n",
       "      <td>Google Translate</td>\n",
       "      <td>Launched in April 2006 as a statistical machin...</td>\n",
       "      <td>https://en.wikipedia.org/wiki?curid=3235536</td>\n",
       "      <td>3235536</td>\n",
       "      <td>4305.652832</td>\n",
       "      <td>1</td>\n",
       "      <td>97</td>\n",
       "    </tr>\n",
       "    <tr>\n",
       "      <th>2</th>\n",
       "      <td>5445</td>\n",
       "      <td>Google Translate</td>\n",
       "      <td>Google Translate is a web-based free-to-user t...</td>\n",
       "      <td>https://en.wikipedia.org/wiki?curid=3235536</td>\n",
       "      <td>3235536</td>\n",
       "      <td>4305.652832</td>\n",
       "      <td>2</td>\n",
       "      <td>97</td>\n",
       "    </tr>\n",
       "    <tr>\n",
       "      <th>3</th>\n",
       "      <td>5446</td>\n",
       "      <td>Google Translate</td>\n",
       "      <td>Originally, Google Translate was released as a...</td>\n",
       "      <td>https://en.wikipedia.org/wiki?curid=3235536</td>\n",
       "      <td>3235536</td>\n",
       "      <td>4305.652832</td>\n",
       "      <td>3</td>\n",
       "      <td>97</td>\n",
       "    </tr>\n",
       "    <tr>\n",
       "      <th>4</th>\n",
       "      <td>5447</td>\n",
       "      <td>Google Translate</td>\n",
       "      <td>In January 2010, Google introduced an Android ...</td>\n",
       "      <td>https://en.wikipedia.org/wiki?curid=3235536</td>\n",
       "      <td>3235536</td>\n",
       "      <td>4305.652832</td>\n",
       "      <td>4</td>\n",
       "      <td>97</td>\n",
       "    </tr>\n",
       "  </tbody>\n",
       "</table>\n",
       "</div>"
      ],
      "text/plain": [
       "     id             title                                               text  \\\n",
       "0  5443  Google Translate  Google Translate is a multilingual neural mach...   \n",
       "1  5444  Google Translate  Launched in April 2006 as a statistical machin...   \n",
       "2  5445  Google Translate  Google Translate is a web-based free-to-user t...   \n",
       "3  5446  Google Translate  Originally, Google Translate was released as a...   \n",
       "4  5447  Google Translate  In January 2010, Google introduced an Android ...   \n",
       "\n",
       "                                           url  wiki_id        views  \\\n",
       "0  https://en.wikipedia.org/wiki?curid=3235536  3235536  4305.652832   \n",
       "1  https://en.wikipedia.org/wiki?curid=3235536  3235536  4305.652832   \n",
       "2  https://en.wikipedia.org/wiki?curid=3235536  3235536  4305.652832   \n",
       "3  https://en.wikipedia.org/wiki?curid=3235536  3235536  4305.652832   \n",
       "4  https://en.wikipedia.org/wiki?curid=3235536  3235536  4305.652832   \n",
       "\n",
       "   paragraph_id  langs  \n",
       "0             0     97  \n",
       "1             1     97  \n",
       "2             2     97  \n",
       "3             3     97  \n",
       "4             4     97  "
      ]
     },
     "execution_count": 1,
     "metadata": {},
     "output_type": "execute_result"
    }
   ],
   "source": [
    "import pandas as pd\n",
    "data = pd.read_parquet('./small_wiki_data_base/data.parquet')\n",
    "data.head()"
   ]
  },
  {
   "cell_type": "code",
   "execution_count": 1,
   "id": "d54ed575-85cf-4d9a-9bb4-f14f81907d98",
   "metadata": {},
   "outputs": [],
   "source": [
    "import pandas as pd\n",
    "data1 = pd.read_csv('./data/10w_bm25_20_20_merge.csv')\n",
    "data1['prompt_answer'] = data1.apply(lambda row: ' '.join(str(row[field]) for field in ['prompt', 'A', 'B', 'C', 'D', 'E']), axis=1)"
   ]
  },
  {
   "cell_type": "code",
   "execution_count": 2,
   "id": "14d1110b-c441-469e-a2ff-053494606d10",
   "metadata": {
    "tags": []
   },
   "outputs": [],
   "source": [
    "data4w8 = data1[data1['type'] == '4w8'].reset_index(drop=True)\n",
    "data6w = data1[data1['type'] == '6w'].reset_index(drop=True)"
   ]
  },
  {
   "cell_type": "code",
   "execution_count": 3,
   "id": "e0d8d77f-91f0-49c4-9ff9-af5f197ffd7b",
   "metadata": {
    "tags": []
   },
   "outputs": [
    {
     "name": "stderr",
     "output_type": "stream",
     "text": [
      "/tmp/ipykernel_187680/76861076.py:1: DtypeWarning: Columns (9) have mixed types. Specify dtype option on import or set low_memory=False.\n",
      "  data2 = pd.read_csv('./data/5w2_with_Top5_recall.csv')\n"
     ]
    }
   ],
   "source": [
    "data2 = pd.read_csv('./data/5w2_with_Top5_recall.csv')\n",
    "data2['prompt_answer'] = data2.apply(lambda row: ' '.join(str(row[field]) for field in ['prompt', 'A', 'B', 'C', 'D', 'E']), axis=1)"
   ]
  },
  {
   "cell_type": "code",
   "execution_count": 4,
   "id": "6e06a91a-1e0d-44bf-ac67-e7f00fdb16ff",
   "metadata": {
    "tags": []
   },
   "outputs": [
    {
     "data": {
      "text/plain": [
       "27750"
      ]
     },
     "execution_count": 4,
     "metadata": {},
     "output_type": "execute_result"
    }
   ],
   "source": [
    "set1 = set(data4w8['prompt_answer'].tolist())\n",
    "set2 = set(data2['prompt_answer'].tolist())\n",
    "len(set1 & set2)"
   ]
  },
  {
   "cell_type": "code",
   "execution_count": 5,
   "id": "bcd368a1-53c2-463e-bc2e-eaea770faffe",
   "metadata": {
    "tags": []
   },
   "outputs": [],
   "source": [
    "data4w8 = data4w8[~data4w8['prompt_answer'].isin(set1 & set2)].reset_index(drop=True)"
   ]
  },
  {
   "cell_type": "code",
   "execution_count": 6,
   "id": "da1eb0b7-d30c-4235-b52b-8b0183f56ea2",
   "metadata": {
    "tags": []
   },
   "outputs": [
    {
     "data": {
      "text/plain": [
       "(20322, 13)"
      ]
     },
     "execution_count": 6,
     "metadata": {},
     "output_type": "execute_result"
    }
   ],
   "source": [
    "data4w8.shape"
   ]
  },
  {
   "cell_type": "code",
   "execution_count": 7,
   "id": "a4ab6707-43dd-4803-877b-d4f65f4f4957",
   "metadata": {
    "tags": []
   },
   "outputs": [],
   "source": [
    "data2 = data2[data2['section'].isna()].reset_index(drop=True)\n",
    "data2['context'] = data2.apply(lambda row: ' '.join(str(row[field]) for field in ['Top1', 'Top2', 'Top3', 'Top4', 'Top5']), axis=1)"
   ]
  },
  {
   "cell_type": "code",
   "execution_count": 8,
   "id": "2b01216e-171a-4e75-ad2c-f7669b032400",
   "metadata": {
    "tags": []
   },
   "outputs": [],
   "source": [
    "data2.drop('Top1',inplace=True,axis=1)\n",
    "data2.drop('Top2',inplace=True,axis=1)\n",
    "data2.drop('Top3',inplace=True,axis=1)\n",
    "data2.drop('Top4',inplace=True,axis=1)\n",
    "data2.drop('Top5',inplace=True,axis=1)"
   ]
  },
  {
   "cell_type": "code",
   "execution_count": 9,
   "id": "65123784-4c36-4662-b7eb-821d339168fd",
   "metadata": {
    "tags": []
   },
   "outputs": [
    {
     "data": {
      "text/plain": [
       "(45323, 13)"
      ]
     },
     "execution_count": 9,
     "metadata": {},
     "output_type": "execute_result"
    }
   ],
   "source": [
    "data2.shape"
   ]
  },
  {
   "cell_type": "code",
   "execution_count": 10,
   "id": "ab4728af-4685-47cd-a623-590663c59306",
   "metadata": {
    "tags": []
   },
   "outputs": [],
   "source": [
    "data3 = pd.read_csv('./data/新8w_with_Top5_recall.csv')\n",
    "data3['type'] = '新微调数据'"
   ]
  },
  {
   "cell_type": "code",
   "execution_count": 11,
   "id": "940b68ec-c101-4736-9617-7f6094ce1cc1",
   "metadata": {
    "tags": []
   },
   "outputs": [],
   "source": [
    "data4w8['type'] = '4w8旧格式'\n",
    "data6w['type'] = '6w'\n",
    "data2['type'] = '4w5新格式'"
   ]
  },
  {
   "cell_type": "code",
   "execution_count": 12,
   "id": "9d8012cb-be48-4a8e-8b35-924d4bd97723",
   "metadata": {
    "tags": []
   },
   "outputs": [],
   "source": [
    "data = pd.concat([data4w8, data6w, data2, data3],axis=0).reset_index(drop=True)"
   ]
  },
  {
   "cell_type": "code",
   "execution_count": 13,
   "id": "571456e3-4046-4006-81fe-f5366105bc80",
   "metadata": {
    "tags": []
   },
   "outputs": [],
   "source": [
    "data['prompt_answer'] = data.apply(lambda row: ' '.join(str(row[field]) for field in ['prompt', 'A', 'B', 'C', 'D', 'E']), axis=1)"
   ]
  },
  {
   "cell_type": "code",
   "execution_count": 14,
   "id": "347654ec-455f-400c-bf10-df98d9cf1fae",
   "metadata": {
    "tags": []
   },
   "outputs": [
    {
     "data": {
      "text/plain": [
       "(206723, 17)"
      ]
     },
     "execution_count": 14,
     "metadata": {},
     "output_type": "execute_result"
    }
   ],
   "source": [
    "data.shape"
   ]
  },
  {
   "cell_type": "code",
   "execution_count": 15,
   "id": "9d5fa1a9-c05b-474b-9a0e-03357a6a2bb5",
   "metadata": {
    "tags": []
   },
   "outputs": [],
   "source": [
    "data = data.drop_duplicates(subset='prompt_answer').reset_index(drop=True)"
   ]
  },
  {
   "cell_type": "code",
   "execution_count": 16,
   "id": "e67dbc46-de59-43da-87c1-7b2ec5a85423",
   "metadata": {
    "tags": []
   },
   "outputs": [
    {
     "data": {
      "text/plain": [
       "(200723, 17)"
      ]
     },
     "execution_count": 16,
     "metadata": {},
     "output_type": "execute_result"
    }
   ],
   "source": [
    "data.shape"
   ]
  },
  {
   "cell_type": "code",
   "execution_count": 21,
   "id": "71a48b57-9b6f-4320-be01-5f281436e32e",
   "metadata": {
    "tags": []
   },
   "outputs": [],
   "source": [
    "data = data.drop_duplicates(subset='prompt').reset_index(drop=True)"
   ]
  },
  {
   "cell_type": "code",
   "execution_count": 23,
   "id": "060d6169-2904-4fd5-968b-abf4f8f42be2",
   "metadata": {
    "tags": []
   },
   "outputs": [],
   "source": [
    "data.to_parquet('./data/20w_混杂召回训练数据.parquet')"
   ]
  },
  {
   "cell_type": "code",
   "execution_count": 24,
   "id": "de1600f9-a8f4-4a51-8c74-600b4757518f",
   "metadata": {
    "tags": []
   },
   "outputs": [],
   "source": [
    "dev = data[data['type']=='新微调数据'].sample(3000,random_state=42)"
   ]
  },
  {
   "cell_type": "code",
   "execution_count": 26,
   "id": "eea414d8-f26b-4ed1-9722-a6b656e70037",
   "metadata": {
    "tags": []
   },
   "outputs": [],
   "source": [
    "train = data.drop(dev.index).reset_index(drop=True)"
   ]
  },
  {
   "cell_type": "code",
   "execution_count": 27,
   "id": "7d46a031-b936-496d-a400-34256dbc72a9",
   "metadata": {
    "tags": []
   },
   "outputs": [],
   "source": [
    "dev = dev.reset_index(drop=True)"
   ]
  },
  {
   "cell_type": "code",
   "execution_count": 28,
   "id": "f08bc233-bdd8-442d-aaaa-219badabea6b",
   "metadata": {
    "tags": []
   },
   "outputs": [
    {
     "data": {
      "text/plain": [
       "(192817, 17)"
      ]
     },
     "execution_count": 28,
     "metadata": {},
     "output_type": "execute_result"
    }
   ],
   "source": [
    "train.shape"
   ]
  },
  {
   "cell_type": "code",
   "execution_count": 29,
   "id": "565e02be-d486-4c29-a4db-b9d57ea5ff99",
   "metadata": {
    "tags": []
   },
   "outputs": [
    {
     "data": {
      "text/plain": [
       "(3000, 17)"
      ]
     },
     "execution_count": 29,
     "metadata": {},
     "output_type": "execute_result"
    }
   ],
   "source": [
    "dev.shape"
   ]
  },
  {
   "cell_type": "code",
   "execution_count": 32,
   "id": "f244d1ab-5c32-491c-b908-b2b679dedb9c",
   "metadata": {
    "tags": []
   },
   "outputs": [],
   "source": [
    "train.to_parquet('./data/20w混杂_train.parquet')\n",
    "dev.to_parquet('./data/20w混杂_dev.parquet')"
   ]
  },
  {
   "cell_type": "markdown",
   "id": "51a9d96b-d5e4-456e-8b3c-1fb8732ea3a5",
   "metadata": {},
   "source": [
    "# 其他测试"
   ]
  },
  {
   "cell_type": "code",
   "execution_count": 1,
   "id": "b988c4dc-8383-4185-9858-a4599a067370",
   "metadata": {
    "tags": []
   },
   "outputs": [],
   "source": [
    "import pandas as pd\n",
    "simcse = pd.read_csv('./data/test_context (2).csv')\n",
    "tfidf = pd.read_csv('./data/test_context4.csv')"
   ]
  },
  {
   "cell_type": "code",
   "execution_count": 8,
   "id": "fbfa3deb-90b3-41bf-b233-0bd008ebbcae",
   "metadata": {
    "tags": []
   },
   "outputs": [
    {
     "data": {
      "text/plain": [
       "126"
      ]
     },
     "execution_count": 8,
     "metadata": {},
     "output_type": "execute_result"
    }
   ],
   "source": [
    "len(set(simcse['context'].apply(lambda x : x[:100]).tolist()) & set(tfidf['context'].apply(lambda x : x[:100]).tolist()))"
   ]
  },
  {
   "cell_type": "code",
   "execution_count": 4,
   "id": "74ea5471-4ef2-4e02-8582-e1dc7652b059",
   "metadata": {
    "tags": []
   },
   "outputs": [
    {
     "data": {
      "text/plain": [
       "'MOND is an example of a class of theories known as modified gravity, and is an alternative to the hypothesis that the dynamics of galaxies are determined by massive, invisible dark matter halos. Since Milgrom\\'s original proposal, proponents of MOND have claimed to successfully predict a variety of galactic phenomena that they state are difficult to understand as consequences of dark matter.Though MOND explains the anomalously great rotational velocities of galaxies at their perimeters, it does not fully explain the velocity dispersions of individual galaxies within galaxy clusters. MOND reduces the discrepancy between the velocity dispersions and clusters\\' observed missing baryonic mass from a factor of around 10 to a factor of about 2. However, the residual discrepancy cannot be accounted for by MOND, requiring that other explanations close the gap such as the presence of as-yet undetected missing baryonic matter.The accurate measurement of the speed of gravitational waves compared to the speed of light in 2017 ruled out a certain class of modified gravity theories but concluded that other MOND theories that dispense with the need for dark matter remained viable. Two years later, theories put forth by Constantinos Skordis and Tom Zlosnik were consistent with gravitational waves that always travel at the speed of light. Later still in 2021, Skordis and Zlosnik developed a subclass of their theory called \"RMOND\", for \"relativistic MOND\", which had \"been shown to reproduce in great detail the main observations in cosmology, including the cosmic-microwave-background power spectrum, and the matter structure power spectrum.\" Modified Newtonian dynamics (MOND) is a hypothesis that proposes a modification of Newton\\'s law of universal gravitation to account for observed properties of galaxies. It is an alternative to the hypothesis of dark matter in terms of explaining why galaxies do not appear to obey the currently understood laws of physics.Despite its vanishingly small and undetectable effects on bodies that are on Earth, within the Solar System, and even in proximity to the Solar System and other planetary systems, MOND successfully explains significant observed galactic-scale rotational effects without invoking the existence of as-yet undetected dark matter particles lying outside of the highly successful Standard Model of particle physics. This is in large part due to MOND holding that exceedingly weak galactic-scale gravity holding galaxies together near their perimeters declines as a very slow linear relationship to distance from the center of a galaxy rather than declining as the inverse square of distance.Outstanding problems for MOND The most serious problem facing Milgrom\\'s law is that it cannot eliminate the need for dark matter in all astrophysical systems: galaxy clusters show a residual mass discrepancy even when analyzed using MOND. The fact that some form of unseen mass must exist in these systems detracts from the adequacy of MOND as a solution to the missing mass problem, although the amount of extra mass required is a fifth that of a Newtonian analysis, and there is no requirement that the missing mass be non-baryonic. It has been speculated that 2 eV neutrinos could account for the cluster observations in MOND while preserving the hypothesis\\'s successes at the galaxy scale. Indeed, analysis of sharp lensing data for the galaxy cluster Abell 1689 shows that MOND only becomes distinctive at Mpc distance from the center, so that Zwicky\\'s conundrum remains, and 1.8 eV neutrinos are needed in clusters.The 2006 observation of a pair of colliding galaxy clusters known as the \"Bullet Cluster\", poses a significant challenge for all theories proposing a modified gravity solution to the missing mass problem, including MOND. Astronomers measured the distribution of stellar and gas mass in the clusters using visible and X-ray light, respectively, and in addition mapped the inferred dark matter density using gravitational lensing. In MOND, one would expect the \"missing mass\" to be centred on regions of visible mass which experience accelerations lower than a0 (assuming the external field effect is negligible). In ΛCDM, on the other hand, one would expect the dark matter to be significantly offset from the visible mass because the halos of the two colliding clusters would pass through each other (assuming, as is conventional, that dark matter is collisionless), whilst the cluster gas would interact and end up at the centre. An offset is clearly seen in the observations. It has been suggested, however, that MOND-based models may be able to generate such an offset in strongly non-spherically symmetric systems, such as the Bullet Cluster.A significant piece of evidence in favor of standard dark matter is the observed anisotropies in the cosmic microwave background. While ΛCDM is able to explain the observed angular power spectrum, MOND has a much harder time, though recently it has been shown that MOND can fit the observations too. MOND also encounters difficulties explaining structure formation, with density perturbations in MOND perhaps growing so rapidly that too much structure is formed by the present epoch. However, forming galaxies more rapidly than in ΛCDM can be a good thing to some extent.Several other studies have noted observational difficulties with MOND. For example, it has been claimed that MOND offers a poor fit to the velocity dispersion profile of globular clusters and the temperature profile of galaxy clusters, that different values of a0 are required for agreement with different galaxies\\' rotation curves, and that MOND is naturally unsuited to forming the basis of cosmology. Furthermore, many versions of MOND predict that the speed of light is different from the speed of gravity, but in 2017 the speed of gravitational waves was measured to be equal to the speed of light to high precision. This is well understood in modern relativistic theories of MOND, with the constraint from gravitational waves actually helping by substantially restricting how a covariant theory might be constructed.Besides these observational issues, MOND and its relativistic generalizations are plagued by theoretical difficulties. Several ad hoc and inelegant additions to general relativity are required to create a theory compatible with a non-Newtonian non-relativistic limit, though the predictions in this limit are rather clear. This is the case for the more commonly used modified gravity versions of MOND, but some formulations (most prominently those based on modified inertia) have long suffered from poor compatibility with cherished physical principles such as conservation laws. Researchers working on MOND generally do not interpret it as a modification of inertia, with only very limited work done on this area.In MOND, all gravitationally bound objects with a < a0 – regardless of their origin – should exhibit a mass discrepancy when analyzed using Newtonian mechanics, and should lie on the BTFR. Under the dark matter hypothesis, objects formed from baryonic material ejected during the merger or tidal interaction of two galaxies (\"tidal dwarf galaxies\") are expected to be devoid of dark matter and hence show no mass discrepancy. Three objects unambiguously identified as Tidal Dwarf Galaxies appear to have mass discrepancies in close agreement with the MOND prediction.'"
      ]
     },
     "execution_count": 4,
     "metadata": {},
     "output_type": "execute_result"
    }
   ],
   "source": [
    "simcse['context'].values[0]"
   ]
  },
  {
   "cell_type": "code",
   "execution_count": 1,
   "id": "fdb10fe4-b66b-43a7-8df2-e1dd9f98b10a",
   "metadata": {
    "tags": []
   },
   "outputs": [],
   "source": [
    "import pandas as pd\n",
    "trn = pd.read_csv('./data/train.csv')"
   ]
  },
  {
   "cell_type": "code",
   "execution_count": 3,
   "id": "3498517f-fd76-4945-80fc-17e7e3f1a492",
   "metadata": {
    "tags": []
   },
   "outputs": [
    {
     "data": {
      "text/plain": [
       "Counter({'D': 38, 'A': 37, 'C': 44, 'B': 48, 'E': 33})"
      ]
     },
     "execution_count": 3,
     "metadata": {},
     "output_type": "execute_result"
    }
   ],
   "source": [
    "from collections import Counter\n",
    "Counter(trn['answer'].tolist())"
   ]
  },
  {
   "cell_type": "code",
   "execution_count": 4,
   "id": "6e13a486-c1af-4116-8a75-9f56e2bc4d0b",
   "metadata": {
    "tags": []
   },
   "outputs": [],
   "source": [
    "trn['a_len'] = trn['A'].apply(lambda x : len(x))\n",
    "trn['b_len'] = trn['B'].apply(lambda x : len(x))\n",
    "trn['c_len'] = trn['C'].apply(lambda x : len(x))\n",
    "trn['d_len'] = trn['D'].apply(lambda x : len(x))\n",
    "trn['e_len'] = trn['E'].apply(lambda x : len(x))"
   ]
  },
  {
   "cell_type": "code",
   "execution_count": 6,
   "id": "69107cab-f322-4ded-8372-5be4ae7cf24f",
   "metadata": {
    "tags": []
   },
   "outputs": [
    {
     "data": {
      "text/plain": [
       "<Axes: ylabel='Density'>"
      ]
     },
     "execution_count": 6,
     "metadata": {},
     "output_type": "execute_result"
    },
    {
     "data": {
      "image/png": "[encoded data removed]",
      "text/plain": [
       "<Figure size 640x480 with 1 Axes>"
      ]
     },
     "metadata": {},
     "output_type": "display_data"
    }
   ],
   "source": [
    "import seaborn as sns\n",
    "sns.kdeplot(trn['a_len'].tolist())"
   ]
  },
  {
   "cell_type": "code",
   "execution_count": 7,
   "id": "07463b23-2129-4915-a134-c781b68ea85e",
   "metadata": {
    "tags": []
   },
   "outputs": [
    {
     "data": {
      "text/plain": [
       "<Axes: ylabel='Density'>"
      ]
     },
     "execution_count": 7,
     "metadata": {},
     "output_type": "execute_result"
    },
    {
     "data": {
      "image/png": "[encoded data removed]",
      "text/plain": [
       "<Figure size 640x480 with 1 Axes>"
      ]
     },
     "metadata": {},
     "output_type": "display_data"
    }
   ],
   "source": [
    "sns.kdeplot(trn['b_len'].tolist())"
   ]
  },
  {
   "cell_type": "code",
   "execution_count": 8,
   "id": "fed1f17b-f344-4a29-b4b7-bab0c68668b3",
   "metadata": {
    "tags": []
   },
   "outputs": [
    {
     "data": {
      "text/plain": [
       "<Axes: ylabel='Density'>"
      ]
     },
     "execution_count": 8,
     "metadata": {},
     "output_type": "execute_result"
    },
    {
     "data": {
      "image/png": "[encoded data removed]",
      "text/plain": [
       "<Figure size 640x480 with 1 Axes>"
      ]
     },
     "metadata": {},
     "output_type": "display_data"
    }
   ],
   "source": [
    "sns.kdeplot(trn['c_len'].tolist())"
   ]
  },
  {
   "cell_type": "code",
   "execution_count": 9,
   "id": "b15c0989-eb80-4e8f-aa8e-6d0cd6d6f876",
   "metadata": {
    "tags": []
   },
   "outputs": [],
   "source": [
    "for i in range(200):\n",
    "    trn.loc[i,'answer'] = trn.loc[i, trn.loc[i,'answer']]"
   ]
  },
  {
   "cell_type": "code",
   "execution_count": 11,
   "id": "4fdead2d-c030-4d8d-93e7-db4f8af892da",
   "metadata": {
    "tags": []
   },
   "outputs": [
    {
     "data": {
      "text/plain": [
       "<Axes: ylabel='Density'>"
      ]
     },
     "execution_count": 11,
     "metadata": {},
     "output_type": "execute_result"
    },
    {
     "data": {
      "image/png": "[encoded data removed]",
      "text/plain": [
       "<Figure size 640x480 with 1 Axes>"
      ]
     },
     "metadata": {},
     "output_type": "display_data"
    }
   ],
   "source": [
    "trn['answer_len'] = trn['answer'].apply(lambda x : len(x))\n",
    "sns.kdeplot(trn['answer_len'].tolist())"
   ]
  },
  {
   "cell_type": "code",
   "execution_count": 2,
   "id": "2b56ea0d-c103-4bdb-b3e7-10e25bb4aa3f",
   "metadata": {
    "tags": []
   },
   "outputs": [],
   "source": [
    "import pandas as pd\n",
    "data = pd.read_csv('./data/新8w数据.csv')"
   ]
  },
  {
   "cell_type": "code",
   "execution_count": 3,
   "id": "423028fa-18da-407e-abd5-799768299658",
   "metadata": {
    "tags": []
   },
   "outputs": [],
   "source": [
    "df = pd.read_parquet('./small_wiki_data/data.parquet')"
   ]
  },
  {
   "cell_type": "code",
   "execution_count": 4,
   "id": "df7cf938-1b92-4de2-b13e-71b30efe49d6",
   "metadata": {
    "tags": []
   },
   "outputs": [
    {
     "data": {
      "text/html": [
       "<div>\n",
       "<style scoped>\n",
       "    .dataframe tbody tr th:only-of-type {\n",
       "        vertical-align: middle;\n",
       "    }\n",
       "\n",
       "    .dataframe tbody tr th {\n",
       "        vertical-align: top;\n",
       "    }\n",
       "\n",
       "    .dataframe thead th {\n",
       "        text-align: right;\n",
       "    }\n",
       "</style>\n",
       "<table border=\"1\" class=\"dataframe\">\n",
       "  <thead>\n",
       "    <tr style=\"text-align: right;\">\n",
       "      <th></th>\n",
       "      <th>Unnamed: 0</th>\n",
       "      <th>prompt</th>\n",
       "      <th>A</th>\n",
       "      <th>B</th>\n",
       "      <th>C</th>\n",
       "      <th>D</th>\n",
       "      <th>E</th>\n",
       "      <th>answer</th>\n",
       "      <th>wiki_text</th>\n",
       "      <th>page_title</th>\n",
       "      <th>section</th>\n",
       "    </tr>\n",
       "  </thead>\n",
       "  <tbody>\n",
       "    <tr>\n",
       "      <th>0</th>\n",
       "      <td>0</td>\n",
       "      <td>What is the main focus of Russell Epstein's re...</td>\n",
       "      <td>Neural mechanisms of language processing</td>\n",
       "      <td>Neural mechanisms underlying visual scene perc...</td>\n",
       "      <td>Neural mechanisms of memory formation</td>\n",
       "      <td>Neural mechanisms of motor control</td>\n",
       "      <td>Neural mechanisms of emotional processing</td>\n",
       "      <td>B</td>\n",
       "      <td>Russell Epstein is a professor of psychology a...</td>\n",
       "      <td>Russell Epstein</td>\n",
       "      <td>Russell Epstein</td>\n",
       "    </tr>\n",
       "    <tr>\n",
       "      <th>1</th>\n",
       "      <td>1</td>\n",
       "      <td>Which brain areas does Russell Epstein's lab s...</td>\n",
       "      <td>Prefrontal cortex and hippocampus</td>\n",
       "      <td>Parahippocampal and retrosplenial cortices</td>\n",
       "      <td>Motor cortex and cerebellum</td>\n",
       "      <td>Amygdala and thalamus</td>\n",
       "      <td>Visual cortex and auditory cortex</td>\n",
       "      <td>B</td>\n",
       "      <td>Russell Epstein is a professor of psychology a...</td>\n",
       "      <td>Russell Epstein</td>\n",
       "      <td>Russell Epstein</td>\n",
       "    </tr>\n",
       "    <tr>\n",
       "      <th>2</th>\n",
       "      <td>2</td>\n",
       "      <td>What is the role of the Parahippocampal and re...</td>\n",
       "      <td>Motor control</td>\n",
       "      <td>Emotional processing</td>\n",
       "      <td>Visual scene perception</td>\n",
       "      <td>Spatial navigation</td>\n",
       "      <td>Language processing</td>\n",
       "      <td>D</td>\n",
       "      <td>Russell Epstein is a professor of psychology a...</td>\n",
       "      <td>Russell Epstein</td>\n",
       "      <td>Russell Epstein</td>\n",
       "    </tr>\n",
       "    <tr>\n",
       "      <th>3</th>\n",
       "      <td>3</td>\n",
       "      <td>Where did Epstein receive his undergraduate de...</td>\n",
       "      <td>University of Chicago</td>\n",
       "      <td>Harvard</td>\n",
       "      <td>Stanford</td>\n",
       "      <td>MIT</td>\n",
       "      <td>Columbia</td>\n",
       "      <td>A</td>\n",
       "      <td>Epstein received an undergraduate degree in ph...</td>\n",
       "      <td>Russell Epstein</td>\n",
       "      <td>Education</td>\n",
       "    </tr>\n",
       "    <tr>\n",
       "      <th>4</th>\n",
       "      <td>4</td>\n",
       "      <td>Who was E...n of Computer Vision?</td>\n",
       "      <td>Alan Turing</td>\n",
       "      <td>Alan Yuille</td>\n",
       "      <td>Marvin Minsky</td>\n",
       "      <td>Geoffrey Hinton</td>\n",
       "      <td>Yann LeCun</td>\n",
       "      <td>B</td>\n",
       "      <td>Epstein received an undergraduate degree in ph...</td>\n",
       "      <td>Russell Epstein</td>\n",
       "      <td>Education</td>\n",
       "    </tr>\n",
       "    <tr>\n",
       "      <th>...</th>\n",
       "      <td>...</td>\n",
       "      <td>...</td>\n",
       "      <td>...</td>\n",
       "      <td>...</td>\n",
       "      <td>...</td>\n",
       "      <td>...</td>\n",
       "      <td>...</td>\n",
       "      <td>...</td>\n",
       "      <td>...</td>\n",
       "      <td>...</td>\n",
       "      <td>...</td>\n",
       "    </tr>\n",
       "    <tr>\n",
       "      <th>80726</th>\n",
       "      <td>80726</td>\n",
       "      <td>Which tournament had the largest prize in Jeop...</td>\n",
       "      <td>Super Jeopardy!</td>\n",
       "      <td>Million Dollar Masters</td>\n",
       "      <td>Tenth Anniversary Tournament</td>\n",
       "      <td>Ultimate Tournament of Champions</td>\n",
       "      <td>Battle of the Decades</td>\n",
       "      <td>D</td>\n",
       "      <td>There have been several special tournaments fe...</td>\n",
       "      <td>Jeopardy!</td>\n",
       "      <td>Tournaments and other events</td>\n",
       "    </tr>\n",
       "    <tr>\n",
       "      <th>80727</th>\n",
       "      <td>80727</td>\n",
       "      <td>How many matches did the \"Greatest of All Time...</td>\n",
       "      <td>One</td>\n",
       "      <td>Two</td>\n",
       "      <td>Three</td>\n",
       "      <td>Four</td>\n",
       "      <td>Five</td>\n",
       "      <td>D</td>\n",
       "      <td>There have been several special tournaments fe...</td>\n",
       "      <td>Jeopardy!</td>\n",
       "      <td>Tournaments and other events</td>\n",
       "    </tr>\n",
       "    <tr>\n",
       "      <th>80728</th>\n",
       "      <td>80728</td>\n",
       "      <td>In which year did the Jeopardy! Teen Reunion T...</td>\n",
       "      <td>1998</td>\n",
       "      <td>2008</td>\n",
       "      <td>2009</td>\n",
       "      <td>2010</td>\n",
       "      <td>2011</td>\n",
       "      <td>A</td>\n",
       "      <td>In November 1998, Jeopardy! traveled to Boston...</td>\n",
       "      <td>Jeopardy!</td>\n",
       "      <td>Tournaments and other events</td>\n",
       "    </tr>\n",
       "    <tr>\n",
       "      <th>80729</th>\n",
       "      <td>80729</td>\n",
       "      <td>Which Jeopardy! tournament featured contestant...</td>\n",
       "      <td>Teen Reunion Tournament</td>\n",
       "      <td>Million Dollar Celebrity Invitational</td>\n",
       "      <td>IBM Challenge</td>\n",
       "      <td>All-Star Games</td>\n",
       "      <td>Ultimate Tournament of Champions</td>\n",
       "      <td>B</td>\n",
       "      <td>In November 1998, Jeopardy! traveled to Boston...</td>\n",
       "      <td>Jeopardy!</td>\n",
       "      <td>Tournaments and other events</td>\n",
       "    </tr>\n",
       "    <tr>\n",
       "      <th>80730</th>\n",
       "      <td>80730</td>\n",
       "      <td>Who won the Million Dollar Celebrity Invitatio...</td>\n",
       "      <td>Michael McKean</td>\n",
       "      <td>Ken Jennings</td>\n",
       "      <td>Brad Rutter</td>\n",
       "      <td>David Madden</td>\n",
       "      <td>Larissa Kelly</td>\n",
       "      <td>A</td>\n",
       "      <td>In November 1998, Jeopardy! traveled to Boston...</td>\n",
       "      <td>Jeopardy!</td>\n",
       "      <td>Tournaments and other events</td>\n",
       "    </tr>\n",
       "  </tbody>\n",
       "</table>\n",
       "<p>80731 rows × 11 columns</p>\n",
       "</div>"
      ],
      "text/plain": [
       "       Unnamed: 0                                             prompt   \n",
       "0               0  What is the main focus of Russell Epstein's re...  \\\n",
       "1               1  Which brain areas does Russell Epstein's lab s...   \n",
       "2               2  What is the role of the Parahippocampal and re...   \n",
       "3               3  Where did Epstein receive his undergraduate de...   \n",
       "4               4                  Who was E...n of Computer Vision?   \n",
       "...           ...                                                ...   \n",
       "80726       80726  Which tournament had the largest prize in Jeop...   \n",
       "80727       80727  How many matches did the \"Greatest of All Time...   \n",
       "80728       80728  In which year did the Jeopardy! Teen Reunion T...   \n",
       "80729       80729  Which Jeopardy! tournament featured contestant...   \n",
       "80730       80730  Who won the Million Dollar Celebrity Invitatio...   \n",
       "\n",
       "                                              A   \n",
       "0      Neural mechanisms of language processing  \\\n",
       "1             Prefrontal cortex and hippocampus   \n",
       "2                                 Motor control   \n",
       "3                         University of Chicago   \n",
       "4                                   Alan Turing   \n",
       "...                                         ...   \n",
       "80726                           Super Jeopardy!   \n",
       "80727                                       One   \n",
       "80728                                      1998   \n",
       "80729                   Teen Reunion Tournament   \n",
       "80730                            Michael McKean   \n",
       "\n",
       "                                                       B   \n",
       "0      Neural mechanisms underlying visual scene perc...  \\\n",
       "1             Parahippocampal and retrosplenial cortices   \n",
       "2                                   Emotional processing   \n",
       "3                                                Harvard   \n",
       "4                                            Alan Yuille   \n",
       "...                                                  ...   \n",
       "80726                             Million Dollar Masters   \n",
       "80727                                                Two   \n",
       "80728                                               2008   \n",
       "80729              Million Dollar Celebrity Invitational   \n",
       "80730                                       Ken Jennings   \n",
       "\n",
       "                                           C   \n",
       "0      Neural mechanisms of memory formation  \\\n",
       "1                Motor cortex and cerebellum   \n",
       "2                    Visual scene perception   \n",
       "3                                   Stanford   \n",
       "4                              Marvin Minsky   \n",
       "...                                      ...   \n",
       "80726           Tenth Anniversary Tournament   \n",
       "80727                                  Three   \n",
       "80728                                   2009   \n",
       "80729                          IBM Challenge   \n",
       "80730                            Brad Rutter   \n",
       "\n",
       "                                        D   \n",
       "0      Neural mechanisms of motor control  \\\n",
       "1                   Amygdala and thalamus   \n",
       "2                      Spatial navigation   \n",
       "3                                     MIT   \n",
       "4                         Geoffrey Hinton   \n",
       "...                                   ...   \n",
       "80726    Ultimate Tournament of Champions   \n",
       "80727                                Four   \n",
       "80728                                2010   \n",
       "80729                      All-Star Games   \n",
       "80730                        David Madden   \n",
       "\n",
       "                                               E answer   \n",
       "0      Neural mechanisms of emotional processing      B  \\\n",
       "1              Visual cortex and auditory cortex      B   \n",
       "2                            Language processing      D   \n",
       "3                                       Columbia      A   \n",
       "4                                     Yann LeCun      B   \n",
       "...                                          ...    ...   \n",
       "80726                      Battle of the Decades      D   \n",
       "80727                                       Five      D   \n",
       "80728                                       2011      A   \n",
       "80729           Ultimate Tournament of Champions      B   \n",
       "80730                              Larissa Kelly      A   \n",
       "\n",
       "                                               wiki_text       page_title   \n",
       "0      Russell Epstein is a professor of psychology a...  Russell Epstein  \\\n",
       "1      Russell Epstein is a professor of psychology a...  Russell Epstein   \n",
       "2      Russell Epstein is a professor of psychology a...  Russell Epstein   \n",
       "3      Epstein received an undergraduate degree in ph...  Russell Epstein   \n",
       "4      Epstein received an undergraduate degree in ph...  Russell Epstein   \n",
       "...                                                  ...              ...   \n",
       "80726  There have been several special tournaments fe...        Jeopardy!   \n",
       "80727  There have been several special tournaments fe...        Jeopardy!   \n",
       "80728  In November 1998, Jeopardy! traveled to Boston...        Jeopardy!   \n",
       "80729  In November 1998, Jeopardy! traveled to Boston...        Jeopardy!   \n",
       "80730  In November 1998, Jeopardy! traveled to Boston...        Jeopardy!   \n",
       "\n",
       "                            section  \n",
       "0                   Russell Epstein  \n",
       "1                   Russell Epstein  \n",
       "2                   Russell Epstein  \n",
       "3                         Education  \n",
       "4                         Education  \n",
       "...                             ...  \n",
       "80726  Tournaments and other events  \n",
       "80727  Tournaments and other events  \n",
       "80728  Tournaments and other events  \n",
       "80729  Tournaments and other events  \n",
       "80730  Tournaments and other events  \n",
       "\n",
       "[80731 rows x 11 columns]"
      ]
     },
     "execution_count": 4,
     "metadata": {},
     "output_type": "execute_result"
    }
   ],
   "source": [
    "data"
   ]
  },
  {
   "cell_type": "code",
   "execution_count": 6,
   "id": "659fc828-b3e0-430d-92be-60628541bff2",
   "metadata": {
    "tags": []
   },
   "outputs": [],
   "source": [
    "import nltk\n",
    "from nltk.corpus import stopwords\n",
    "from nltk.tokenize import word_tokenize, sent_tokenize\n",
    "def word_process(text):\n",
    "    words = word_tokenize(text)\n",
    "    words = [word.lower() for word in words if word.isalnum()]\n",
    "    return words\n",
    "stop_words = set(stopwords.words('english'))\n",
    "\n",
    "\n",
    "def query_process(q):\n",
    "    words = word_tokenize(text)\n",
    "    words = [word.lower() for word in words if word.isalnum()]\n",
    "    keywords = [word for word in words if word not in stop_words]\n",
    "    return \" \".join(keywords)\n",
    "\n",
    "def recall_doc(q, bm25):\n",
    "    q = word_process(q)\n",
    "    res_ids = [item[1] for item in bm25.top_k_sentence(q,  k=1000)]\n",
    "    return res_ids\n",
    "\n",
    "from fastbm25 import fastbm25"
   ]
  },
  {
   "cell_type": "code",
   "execution_count": 14,
   "id": "ca8f6ec6-e968-46c0-b40d-c97c30e925ca",
   "metadata": {
    "tags": []
   },
   "outputs": [
    {
     "name": "stderr",
     "output_type": "stream",
     "text": [
      "100%|██████████| 2101279/2101279 [23:32<00:00, 1488.03it/s] \n"
     ]
    }
   ],
   "source": [
    "texts = []\n",
    "for i in tqdm(range(len(df))):\n",
    "    text = str(df.loc[i, 'title']) + ' ' + str(df.loc[i, 'text'])\n",
    "    texts.append(word_process(text)[:100])"
   ]
  },
  {
   "cell_type": "code",
   "execution_count": 24,
   "id": "d8927258-ef33-4f5c-8f3b-ae6042b4b3e7",
   "metadata": {
    "tags": []
   },
   "outputs": [
    {
     "name": "stderr",
     "output_type": "stream",
     "text": [
      "\n",
      "  0%|          | 0/2101279 [00:00<?, ?it/s]\u001b[A\n",
      "  3%|▎         | 54683/2101279 [00:00<00:03, 546795.32it/s]\u001b[A\n",
      "  5%|▌         | 109363/2101279 [00:00<00:03, 528950.34it/s]\u001b[A\n",
      "  8%|▊         | 164195/2101279 [00:00<00:03, 537620.85it/s]\u001b[A\n",
      " 10%|█         | 217995/2101279 [00:00<00:03, 533003.37it/s]\u001b[A\n",
      " 13%|█▎        | 274237/2101279 [00:00<00:03, 543459.78it/s]\u001b[A\n",
      " 16%|█▌        | 328612/2101279 [00:00<00:03, 538891.53it/s]\u001b[A\n",
      " 18%|█▊        | 382844/2101279 [00:00<00:03, 539988.85it/s]\u001b[A\n",
      " 21%|██        | 436860/2101279 [00:00<00:03, 533189.67it/s]\u001b[A\n",
      " 23%|██▎       | 492386/2101279 [00:00<00:02, 539510.42it/s]\u001b[A\n",
      " 26%|██▌       | 546362/2101279 [00:01<00:02, 536562.72it/s]\u001b[A\n",
      " 29%|██▊       | 602434/2101279 [00:01<00:02, 543547.13it/s]\u001b[A\n",
      " 31%|███▏      | 656808/2101279 [00:01<00:02, 538305.48it/s]\u001b[A\n",
      " 34%|███▍      | 712474/2101279 [00:01<00:02, 538649.89it/s]\u001b[A\n",
      " 37%|███▋      | 769951/2101279 [00:01<00:02, 548875.21it/s]\u001b[A\n",
      " 39%|███▉      | 824862/2101279 [00:01<00:02, 543607.58it/s]\u001b[A\n",
      " 42%|████▏     | 879245/2101279 [00:06<00:31, 38880.54it/s] \u001b[A\n",
      " 44%|████▍     | 932262/2101279 [00:06<00:21, 53326.81it/s]\u001b[A\n",
      " 47%|████▋     | 988158/2101279 [00:06<00:15, 73710.53it/s]\u001b[A\n",
      " 50%|████▉     | 1041121/2101279 [00:06<00:10, 98509.04it/s]\u001b[A\n",
      " 52%|█████▏    | 1097988/2101279 [00:06<00:07, 132434.44it/s]\u001b[A\n",
      " 55%|█████▍    | 1152875/2101279 [00:06<00:05, 171349.13it/s]\u001b[A\n",
      " 58%|█████▊    | 1209343/2101279 [00:06<00:04, 217102.06it/s]\u001b[A\n",
      " 60%|██████    | 1266824/2101279 [00:06<00:03, 268387.59it/s]\u001b[A\n",
      " 63%|██████▎   | 1321493/2101279 [00:06<00:02, 315723.93it/s]\u001b[A\n",
      " 65%|██████▌   | 1375932/2101279 [00:06<00:02, 337427.86it/s]\u001b[A\n",
      " 68%|██████▊   | 1426147/2101279 [00:07<00:01, 350820.15it/s]\u001b[A\n",
      " 70%|███████   | 1473016/2101279 [00:07<00:01, 365427.42it/s]\u001b[A\n",
      " 72%|███████▏  | 1518162/2101279 [00:07<00:01, 380720.07it/s]\u001b[A\n",
      " 75%|███████▍  | 1571333/2101279 [00:07<00:01, 418014.93it/s]\u001b[A\n",
      " 77%|███████▋  | 1627253/2101279 [00:07<00:01, 454837.76it/s]\u001b[A\n",
      " 80%|████████  | 1681038/2101279 [00:12<00:12, 33656.35it/s] \u001b[A\n",
      " 83%|████████▎ | 1737765/2101279 [00:12<00:07, 47858.73it/s]\u001b[A\n",
      " 85%|████████▌ | 1791691/2101279 [00:12<00:04, 65858.36it/s]\u001b[A\n",
      " 88%|████████▊ | 1848692/2101279 [00:12<00:02, 90927.34it/s]\u001b[A\n",
      " 91%|█████████ | 1903856/2101279 [00:12<00:01, 121468.05it/s]\u001b[A\n",
      " 93%|█████████▎| 1958533/2101279 [00:12<00:00, 157953.46it/s]\u001b[A\n",
      " 96%|█████████▌| 2015361/2101279 [00:13<00:00, 203017.04it/s]\u001b[A\n",
      "100%|██████████| 2101279/2101279 [00:13<00:00, 159147.88it/s]\u001b[A\n"
     ]
    }
   ],
   "source": [
    "texts50 = [item[:50] for item in tqdm(texts)]"
   ]
  },
  {
   "cell_type": "code",
   "execution_count": 29,
   "id": "e14e84f5-23c4-4032-b784-aa28c22589e1",
   "metadata": {
    "tags": []
   },
   "outputs": [],
   "source": [
    "with open('./tmp/mybm25.pkl','wb') as f:\n",
    "    pkl.dump(bm25, f)"
   ]
  },
  {
   "cell_type": "code",
   "execution_count": 30,
   "id": "8c7c82de-880a-498a-9f6d-871dde2542e4",
   "metadata": {
    "tags": []
   },
   "outputs": [],
   "source": [
    "from fastbm25 import fastbm25"
   ]
  },
  {
   "cell_type": "code",
   "execution_count": 31,
   "id": "ee81c347-3fa4-4685-9966-f5d5925df635",
   "metadata": {
    "tags": []
   },
   "outputs": [
    {
     "data": {
      "text/plain": [
       "<__main__.mybm25 at 0x7f66ca3c65e0>"
      ]
     },
     "execution_count": 31,
     "metadata": {},
     "output_type": "execute_result"
    }
   ],
   "source": [
    "bm25"
   ]
  },
  {
   "cell_type": "code",
   "execution_count": 33,
   "id": "05d25ff1-ed12-45ba-9546-2bfaed685dc4",
   "metadata": {
    "tags": []
   },
   "outputs": [],
   "source": [
    "data['prompt_answer'] = data['prompt'] + ' ' + data['A'] + ' ' + data['B'] + ' ' + data['C'] + ' ' + data['D'] + ' ' + data['E']"
   ]
  },
  {
   "cell_type": "code",
   "execution_count": 35,
   "id": "6b7815eb-18a5-420e-b735-b207559fffa9",
   "metadata": {
    "tags": []
   },
   "outputs": [
    {
     "name": "stderr",
     "output_type": "stream",
     "text": [
      "\n",
      "  0%|          | 0/80731 [00:00<?, ?it/s]\u001b[A\n",
      "  0%|          | 1/80731 [00:03<71:59:51,  3.21s/it]\u001b[A\n",
      "  0%|          | 2/80731 [00:05<58:34:28,  2.61s/it]\u001b[A\n",
      "  0%|          | 3/80731 [00:07<56:21:29,  2.51s/it]\u001b[A\n",
      "  0%|          | 4/80731 [00:09<45:12:46,  2.02s/it]\u001b[A\n",
      "  0%|          | 5/80731 [00:09<36:16:52,  1.62s/it]\u001b[A\n",
      "  0%|          | 6/80731 [00:12<41:41:41,  1.86s/it]\u001b[A\n",
      "  0%|          | 7/80731 [00:14<41:30:52,  1.85s/it]\u001b[A\n",
      "  0%|          | 8/80731 [00:18<51:10:19,  2.28s/it]\u001b[A\n"
     ]
    },
    {
     "ename": "KeyboardInterrupt",
     "evalue": "",
     "output_type": "error",
     "traceback": [
      "\u001b[0;31m---------------------------------------------------------------------------\u001b[0m",
      "\u001b[0;31mKeyboardInterrupt\u001b[0m                         Traceback (most recent call last)",
      "Cell \u001b[0;32mIn[35], line 4\u001b[0m\n\u001b[1;32m      2\u001b[0m \u001b[38;5;28;01mfor\u001b[39;00m i \u001b[38;5;129;01min\u001b[39;00m tqdm(\u001b[38;5;28mrange\u001b[39m(\u001b[38;5;28mlen\u001b[39m(data))):\n\u001b[1;32m      3\u001b[0m     q \u001b[38;5;241m=\u001b[39m word_process(data\u001b[38;5;241m.\u001b[39mloc[i,\u001b[38;5;124m'\u001b[39m\u001b[38;5;124mprompt_answer\u001b[39m\u001b[38;5;124m'\u001b[39m])\n\u001b[0;32m----> 4\u001b[0m     res_ids \u001b[38;5;241m=\u001b[39m [item[\u001b[38;5;241m0\u001b[39m] \u001b[38;5;28;01mfor\u001b[39;00m item \u001b[38;5;129;01min\u001b[39;00m \u001b[43mbm25\u001b[49m\u001b[38;5;241;43m.\u001b[39;49m\u001b[43mtop_k_sentence\u001b[49m\u001b[43m(\u001b[49m\u001b[43mq\u001b[49m\u001b[43m,\u001b[49m\u001b[43m  \u001b[49m\u001b[43mk\u001b[49m\u001b[38;5;241;43m=\u001b[39;49m\u001b[38;5;241;43m1000\u001b[39;49m\u001b[43m)\u001b[49m]\n\u001b[1;32m      5\u001b[0m     search_index\u001b[38;5;241m.\u001b[39mappend(res_ids)\n",
      "Cell \u001b[0;32mIn[27], line 158\u001b[0m, in \u001b[0;36mmybm25.top_k_sentence\u001b[0;34m(self, document, k)\u001b[0m\n\u001b[1;32m    156\u001b[0m             score_overall[key] \u001b[38;5;241m=\u001b[39m value\n\u001b[1;32m    157\u001b[0m         \u001b[38;5;28;01melse\u001b[39;00m:\n\u001b[0;32m--> 158\u001b[0m             score_overall[key] \u001b[38;5;241m+\u001b[39m\u001b[38;5;241m=\u001b[39m value\n\u001b[1;32m    159\u001b[0m k_keys_sorted \u001b[38;5;241m=\u001b[39m heapq\u001b[38;5;241m.\u001b[39mnlargest(k, score_overall,key\u001b[38;5;241m=\u001b[39mscore_overall\u001b[38;5;241m.\u001b[39m\u001b[38;5;21m__getitem__\u001b[39m)\n\u001b[1;32m    160\u001b[0m \u001b[38;5;28;01mreturn\u001b[39;00m [(item,score_overall\u001b[38;5;241m.\u001b[39mget(item,\u001b[38;5;28;01mNone\u001b[39;00m)) \u001b[38;5;28;01mfor\u001b[39;00m item \u001b[38;5;129;01min\u001b[39;00m k_keys_sorted]\n",
      "\u001b[0;31mKeyboardInterrupt\u001b[0m: "
     ]
    }
   ],
   "source": [
    "search_index = []\n",
    "for i in tqdm(range(len(data))):\n",
    "    q = word_process(data.loc[i,'prompt_answer'])\n",
    "    res_ids = [item[0] for item in bm25.top_k_sentence(q,  k=1000)]\n",
    "    search_index.append(res_ids)"
   ]
  },
  {
   "cell_type": "code",
   "execution_count": 2,
   "id": "eda0c038-e0c1-4f57-911c-6802ac5ebf75",
   "metadata": {},
   "outputs": [],
   "source": [
    "import pandas as pd\n",
    "data1 = pd.read_csv('./data/test_context.csv')\n",
    "data2 = pd.read_csv('./data/test_context (1).csv')"
   ]
  },
  {
   "cell_type": "code",
   "execution_count": 3,
   "id": "322bd6db-bee2-4aee-a3bc-e22efe4d0f88",
   "metadata": {
    "tags": []
   },
   "outputs": [],
   "source": [
    "text1 = [item.split('.') for item in data1['context']]\n",
    "text2 = [item.split('.') for item in data2['context']]"
   ]
  },
  {
   "cell_type": "code",
   "execution_count": 9,
   "id": "64396b67-19a4-4f8a-bb1e-267b6f8d7bb6",
   "metadata": {
    "tags": []
   },
   "outputs": [
    {
     "data": {
      "text/plain": [
       "0.3011867088607595"
      ]
     },
     "execution_count": 9,
     "metadata": {},
     "output_type": "execute_result"
    }
   ],
   "source": [
    "cnt = 0\n",
    "total = 0\n",
    "for i in range(200):\n",
    "    cnt += len(set(text1[i]) & set(text2[i]))\n",
    "    total += len(set(text2[i]))\n",
    "cnt / total"
   ]
  },
  {
   "cell_type": "code",
   "execution_count": 1,
   "id": "433a9e5a-54a4-491b-961d-f5d90ec3bb73",
   "metadata": {
    "tags": []
   },
   "outputs": [],
   "source": [
    "import pandas as pd\n",
    "data = pd.read_parquet('./small_wiki_data_base/data.parquet')"
   ]
  },
  {
   "cell_type": "code",
   "execution_count": 3,
   "id": "24d0ba2c-d0d8-4e30-917f-7008acc4e5bc",
   "metadata": {
    "tags": []
   },
   "outputs": [],
   "source": [
    "s = set()\n",
    "for i in data['wiki_id']:\n",
    "    s.add(int(i))"
   ]
  },
  {
   "cell_type": "code",
   "execution_count": 4,
   "id": "6637b747-48a7-44a7-a9d0-1787d483c139",
   "metadata": {
    "tags": []
   },
   "outputs": [
    {
     "data": {
      "text/html": [
       "<div>\n",
       "<style scoped>\n",
       "    .dataframe tbody tr th:only-of-type {\n",
       "        vertical-align: middle;\n",
       "    }\n",
       "\n",
       "    .dataframe tbody tr th {\n",
       "        vertical-align: top;\n",
       "    }\n",
       "\n",
       "    .dataframe thead th {\n",
       "        text-align: right;\n",
       "    }\n",
       "</style>\n",
       "<table border=\"1\" class=\"dataframe\">\n",
       "  <thead>\n",
       "    <tr style=\"text-align: right;\">\n",
       "      <th></th>\n",
       "      <th>id</th>\n",
       "      <th>title</th>\n",
       "      <th>text</th>\n",
       "      <th>url</th>\n",
       "      <th>wiki_id</th>\n",
       "      <th>views</th>\n",
       "      <th>paragraph_id</th>\n",
       "      <th>langs</th>\n",
       "    </tr>\n",
       "  </thead>\n",
       "  <tbody>\n",
       "    <tr>\n",
       "      <th>0</th>\n",
       "      <td>5443</td>\n",
       "      <td>Google Translate</td>\n",
       "      <td>Google Translate is a multilingual neural mach...</td>\n",
       "      <td>https://en.wikipedia.org/wiki?curid=3235536</td>\n",
       "      <td>3235536</td>\n",
       "      <td>4305.652832</td>\n",
       "      <td>0</td>\n",
       "      <td>97</td>\n",
       "    </tr>\n",
       "    <tr>\n",
       "      <th>1</th>\n",
       "      <td>5444</td>\n",
       "      <td>Google Translate</td>\n",
       "      <td>Launched in April 2006 as a statistical machin...</td>\n",
       "      <td>https://en.wikipedia.org/wiki?curid=3235536</td>\n",
       "      <td>3235536</td>\n",
       "      <td>4305.652832</td>\n",
       "      <td>1</td>\n",
       "      <td>97</td>\n",
       "    </tr>\n",
       "    <tr>\n",
       "      <th>2</th>\n",
       "      <td>5445</td>\n",
       "      <td>Google Translate</td>\n",
       "      <td>Google Translate is a web-based free-to-user t...</td>\n",
       "      <td>https://en.wikipedia.org/wiki?curid=3235536</td>\n",
       "      <td>3235536</td>\n",
       "      <td>4305.652832</td>\n",
       "      <td>2</td>\n",
       "      <td>97</td>\n",
       "    </tr>\n",
       "    <tr>\n",
       "      <th>3</th>\n",
       "      <td>5446</td>\n",
       "      <td>Google Translate</td>\n",
       "      <td>Originally, Google Translate was released as a...</td>\n",
       "      <td>https://en.wikipedia.org/wiki?curid=3235536</td>\n",
       "      <td>3235536</td>\n",
       "      <td>4305.652832</td>\n",
       "      <td>3</td>\n",
       "      <td>97</td>\n",
       "    </tr>\n",
       "    <tr>\n",
       "      <th>4</th>\n",
       "      <td>5447</td>\n",
       "      <td>Google Translate</td>\n",
       "      <td>In January 2010, Google introduced an Android ...</td>\n",
       "      <td>https://en.wikipedia.org/wiki?curid=3235536</td>\n",
       "      <td>3235536</td>\n",
       "      <td>4305.652832</td>\n",
       "      <td>4</td>\n",
       "      <td>97</td>\n",
       "    </tr>\n",
       "    <tr>\n",
       "      <th>...</th>\n",
       "      <td>...</td>\n",
       "      <td>...</td>\n",
       "      <td>...</td>\n",
       "      <td>...</td>\n",
       "      <td>...</td>\n",
       "      <td>...</td>\n",
       "      <td>...</td>\n",
       "      <td>...</td>\n",
       "    </tr>\n",
       "    <tr>\n",
       "      <th>2781647</th>\n",
       "      <td>35167656</td>\n",
       "      <td>Mr. Keynes and the &amp;quot;Classics&amp;quot;</td>\n",
       "      <td>The charge against Hicks that he paid little a...</td>\n",
       "      <td>https://en.wikipedia.org/wiki?curid=56889606</td>\n",
       "      <td>56889606</td>\n",
       "      <td>0.000000</td>\n",
       "      <td>96</td>\n",
       "      <td>0</td>\n",
       "    </tr>\n",
       "    <tr>\n",
       "      <th>2781648</th>\n",
       "      <td>35167666</td>\n",
       "      <td>Mr. Keynes and the &amp;quot;Classics&amp;quot;</td>\n",
       "      <td>The record of the thirties, in major works on ...</td>\n",
       "      <td>https://en.wikipedia.org/wiki?curid=56889606</td>\n",
       "      <td>56889606</td>\n",
       "      <td>0.000000</td>\n",
       "      <td>97</td>\n",
       "      <td>0</td>\n",
       "    </tr>\n",
       "    <tr>\n",
       "      <th>2781649</th>\n",
       "      <td>35167676</td>\n",
       "      <td>Mr. Keynes and the &amp;quot;Classics&amp;quot;</td>\n",
       "      <td>Hicks himself retracted his support for the \"I...</td>\n",
       "      <td>https://en.wikipedia.org/wiki?curid=56889606</td>\n",
       "      <td>56889606</td>\n",
       "      <td>0.000000</td>\n",
       "      <td>98</td>\n",
       "      <td>0</td>\n",
       "    </tr>\n",
       "    <tr>\n",
       "      <th>2781650</th>\n",
       "      <td>35167686</td>\n",
       "      <td>Mr. Keynes and the &amp;quot;Classics&amp;quot;</td>\n",
       "      <td>The argument of this paper is hard to follow a...</td>\n",
       "      <td>https://en.wikipedia.org/wiki?curid=56889606</td>\n",
       "      <td>56889606</td>\n",
       "      <td>0.000000</td>\n",
       "      <td>99</td>\n",
       "      <td>0</td>\n",
       "    </tr>\n",
       "    <tr>\n",
       "      <th>2781651</th>\n",
       "      <td>35167696</td>\n",
       "      <td>Mr. Keynes and the &amp;quot;Classics&amp;quot;</td>\n",
       "      <td>...came to explain why he had become increasin...</td>\n",
       "      <td>https://en.wikipedia.org/wiki?curid=56889606</td>\n",
       "      <td>56889606</td>\n",
       "      <td>0.000000</td>\n",
       "      <td>100</td>\n",
       "      <td>0</td>\n",
       "    </tr>\n",
       "  </tbody>\n",
       "</table>\n",
       "<p>2781652 rows × 8 columns</p>\n",
       "</div>"
      ],
      "text/plain": [
       "               id                                    title   \n",
       "0            5443                         Google Translate  \\\n",
       "1            5444                         Google Translate   \n",
       "2            5445                         Google Translate   \n",
       "3            5446                         Google Translate   \n",
       "4            5447                         Google Translate   \n",
       "...           ...                                      ...   \n",
       "2781647  35167656  Mr. Keynes and the &quot;Classics&quot;   \n",
       "2781648  35167666  Mr. Keynes and the &quot;Classics&quot;   \n",
       "2781649  35167676  Mr. Keynes and the &quot;Classics&quot;   \n",
       "2781650  35167686  Mr. Keynes and the &quot;Classics&quot;   \n",
       "2781651  35167696  Mr. Keynes and the &quot;Classics&quot;   \n",
       "\n",
       "                                                      text   \n",
       "0        Google Translate is a multilingual neural mach...  \\\n",
       "1        Launched in April 2006 as a statistical machin...   \n",
       "2        Google Translate is a web-based free-to-user t...   \n",
       "3        Originally, Google Translate was released as a...   \n",
       "4        In January 2010, Google introduced an Android ...   \n",
       "...                                                    ...   \n",
       "2781647  The charge against Hicks that he paid little a...   \n",
       "2781648  The record of the thirties, in major works on ...   \n",
       "2781649  Hicks himself retracted his support for the \"I...   \n",
       "2781650  The argument of this paper is hard to follow a...   \n",
       "2781651  ...came to explain why he had become increasin...   \n",
       "\n",
       "                                                  url   wiki_id        views   \n",
       "0         https://en.wikipedia.org/wiki?curid=3235536   3235536  4305.652832  \\\n",
       "1         https://en.wikipedia.org/wiki?curid=3235536   3235536  4305.652832   \n",
       "2         https://en.wikipedia.org/wiki?curid=3235536   3235536  4305.652832   \n",
       "3         https://en.wikipedia.org/wiki?curid=3235536   3235536  4305.652832   \n",
       "4         https://en.wikipedia.org/wiki?curid=3235536   3235536  4305.652832   \n",
       "...                                               ...       ...          ...   \n",
       "2781647  https://en.wikipedia.org/wiki?curid=56889606  56889606     0.000000   \n",
       "2781648  https://en.wikipedia.org/wiki?curid=56889606  56889606     0.000000   \n",
       "2781649  https://en.wikipedia.org/wiki?curid=56889606  56889606     0.000000   \n",
       "2781650  https://en.wikipedia.org/wiki?curid=56889606  56889606     0.000000   \n",
       "2781651  https://en.wikipedia.org/wiki?curid=56889606  56889606     0.000000   \n",
       "\n",
       "         paragraph_id  langs  \n",
       "0                   0     97  \n",
       "1                   1     97  \n",
       "2                   2     97  \n",
       "3                   3     97  \n",
       "4                   4     97  \n",
       "...               ...    ...  \n",
       "2781647            96      0  \n",
       "2781648            97      0  \n",
       "2781649            98      0  \n",
       "2781650            99      0  \n",
       "2781651           100      0  \n",
       "\n",
       "[2781652 rows x 8 columns]"
      ]
     },
     "execution_count": 4,
     "metadata": {},
     "output_type": "execute_result"
    }
   ],
   "source": [
    "data"
   ]
  },
  {
   "cell_type": "code",
   "execution_count": 5,
   "id": "22d55106-2e61-4233-ae97-c33e30902c55",
   "metadata": {
    "tags": []
   },
   "outputs": [
    {
     "data": {
      "text/plain": [
       "277046"
      ]
     },
     "execution_count": 5,
     "metadata": {},
     "output_type": "execute_result"
    }
   ],
   "source": [
    "len(s)"
   ]
  },
  {
   "cell_type": "code",
   "execution_count": 7,
   "id": "cbd8daf4-4eb8-47e9-b074-450cfe45ab9c",
   "metadata": {
    "tags": []
   },
   "outputs": [],
   "source": [
    "df = pd.read_parquet('./wiki_data/my_index.parquet')"
   ]
  },
  {
   "cell_type": "code",
   "execution_count": 9,
   "id": "23adf809-1274-4985-a9bd-1fc570abac31",
   "metadata": {
    "tags": []
   },
   "outputs": [],
   "source": [
    "df['id'] = df['id'].apply(lambda x : int(x))"
   ]
  },
  {
   "cell_type": "code",
   "execution_count": 10,
   "id": "409adbc8-73f2-4023-a081-ee7b6c5effda",
   "metadata": {
    "tags": []
   },
   "outputs": [],
   "source": [
    "df = df[df['id'].isin(s)]"
   ]
  },
  {
   "cell_type": "code",
   "execution_count": 12,
   "id": "2680895d-6916-4a03-bbf9-efa63da95658",
   "metadata": {
    "tags": []
   },
   "outputs": [],
   "source": [
    "df = df.reset_index(drop=True)"
   ]
  },
  {
   "cell_type": "code",
   "execution_count": 17,
   "id": "9c8287fb-c90d-4942-ae84-995bcde11793",
   "metadata": {
    "tags": []
   },
   "outputs": [
    {
     "name": "stderr",
     "output_type": "stream",
     "text": [
      "  0%|          | 0/28 [00:00<?, ?it/s]"
     ]
    },
    {
     "name": "stdout",
     "output_type": "stream",
     "text": [
      "a.parquet\n"
     ]
    },
    {
     "name": "stderr",
     "output_type": "stream",
     "text": [
      "  4%|▎         | 1/28 [00:06<02:50,  6.32s/it]"
     ]
    },
    {
     "name": "stdout",
     "output_type": "stream",
     "text": [
      "b.parquet\n"
     ]
    },
    {
     "name": "stderr",
     "output_type": "stream",
     "text": [
      "  7%|▋         | 2/28 [00:11<02:21,  5.45s/it]"
     ]
    },
    {
     "name": "stdout",
     "output_type": "stream",
     "text": [
      "c.parquet\n"
     ]
    },
    {
     "name": "stderr",
     "output_type": "stream",
     "text": [
      " 11%|█         | 3/28 [00:17<02:28,  5.94s/it]"
     ]
    },
    {
     "name": "stdout",
     "output_type": "stream",
     "text": [
      "d.parquet\n"
     ]
    },
    {
     "name": "stderr",
     "output_type": "stream",
     "text": [
      " 14%|█▍        | 4/28 [00:23<02:18,  5.76s/it]"
     ]
    },
    {
     "name": "stdout",
     "output_type": "stream",
     "text": [
      "e.parquet\n"
     ]
    },
    {
     "name": "stderr",
     "output_type": "stream",
     "text": [
      " 18%|█▊        | 5/28 [00:27<02:03,  5.37s/it]"
     ]
    },
    {
     "name": "stdout",
     "output_type": "stream",
     "text": [
      "f.parquet\n"
     ]
    },
    {
     "name": "stderr",
     "output_type": "stream",
     "text": [
      " 21%|██▏       | 6/28 [00:31<01:44,  4.77s/it]"
     ]
    },
    {
     "name": "stdout",
     "output_type": "stream",
     "text": [
      "g.parquet\n"
     ]
    },
    {
     "name": "stderr",
     "output_type": "stream",
     "text": [
      " 25%|██▌       | 7/28 [00:36<01:42,  4.90s/it]"
     ]
    },
    {
     "name": "stdout",
     "output_type": "stream",
     "text": [
      "h.parquet\n"
     ]
    },
    {
     "name": "stderr",
     "output_type": "stream",
     "text": [
      " 29%|██▊       | 8/28 [00:41<01:40,  5.04s/it]"
     ]
    },
    {
     "name": "stdout",
     "output_type": "stream",
     "text": [
      "i.parquet\n"
     ]
    },
    {
     "name": "stderr",
     "output_type": "stream",
     "text": [
      " 32%|███▏      | 9/28 [00:45<01:27,  4.61s/it]"
     ]
    },
    {
     "name": "stdout",
     "output_type": "stream",
     "text": [
      "j.parquet\n"
     ]
    },
    {
     "name": "stderr",
     "output_type": "stream",
     "text": [
      " 36%|███▌      | 10/28 [00:51<01:32,  5.11s/it]"
     ]
    },
    {
     "name": "stdout",
     "output_type": "stream",
     "text": [
      "k.parquet\n"
     ]
    },
    {
     "name": "stderr",
     "output_type": "stream",
     "text": [
      " 39%|███▉      | 11/28 [00:56<01:23,  4.91s/it]"
     ]
    },
    {
     "name": "stdout",
     "output_type": "stream",
     "text": [
      "l.parquet\n"
     ]
    },
    {
     "name": "stderr",
     "output_type": "stream",
     "text": [
      " 43%|████▎     | 12/28 [01:08<01:52,  7.01s/it]"
     ]
    },
    {
     "name": "stdout",
     "output_type": "stream",
     "text": [
      "m.parquet\n"
     ]
    },
    {
     "name": "stderr",
     "output_type": "stream",
     "text": [
      " 46%|████▋     | 13/28 [01:18<01:58,  7.92s/it]"
     ]
    },
    {
     "name": "stdout",
     "output_type": "stream",
     "text": [
      "n.parquet\n"
     ]
    },
    {
     "name": "stderr",
     "output_type": "stream",
     "text": [
      " 50%|█████     | 14/28 [01:22<01:34,  6.75s/it]"
     ]
    },
    {
     "name": "stdout",
     "output_type": "stream",
     "text": [
      "number.parquet\n"
     ]
    },
    {
     "name": "stderr",
     "output_type": "stream",
     "text": [
      " 54%|█████▎    | 15/28 [01:31<01:35,  7.38s/it]"
     ]
    },
    {
     "name": "stdout",
     "output_type": "stream",
     "text": [
      "o.parquet\n"
     ]
    },
    {
     "name": "stderr",
     "output_type": "stream",
     "text": [
      " 57%|█████▋    | 16/28 [01:33<01:10,  5.91s/it]"
     ]
    },
    {
     "name": "stdout",
     "output_type": "stream",
     "text": [
      "other.parquet\n"
     ]
    },
    {
     "name": "stderr",
     "output_type": "stream",
     "text": [
      " 61%|██████    | 17/28 [01:34<00:48,  4.38s/it]"
     ]
    },
    {
     "name": "stdout",
     "output_type": "stream",
     "text": [
      "p.parquet\n"
     ]
    },
    {
     "name": "stderr",
     "output_type": "stream",
     "text": [
      " 64%|██████▍   | 18/28 [01:40<00:49,  5.00s/it]"
     ]
    },
    {
     "name": "stdout",
     "output_type": "stream",
     "text": [
      "q.parquet\n"
     ]
    },
    {
     "name": "stderr",
     "output_type": "stream",
     "text": [
      " 68%|██████▊   | 19/28 [01:41<00:32,  3.66s/it]"
     ]
    },
    {
     "name": "stdout",
     "output_type": "stream",
     "text": [
      "r.parquet\n"
     ]
    },
    {
     "name": "stderr",
     "output_type": "stream",
     "text": [
      " 71%|███████▏  | 20/28 [01:48<00:37,  4.73s/it]"
     ]
    },
    {
     "name": "stdout",
     "output_type": "stream",
     "text": [
      "s.parquet\n"
     ]
    },
    {
     "name": "stderr",
     "output_type": "stream",
     "text": [
      " 75%|███████▌  | 21/28 [01:59<00:46,  6.60s/it]"
     ]
    },
    {
     "name": "stdout",
     "output_type": "stream",
     "text": [
      "t.parquet\n"
     ]
    },
    {
     "name": "stderr",
     "output_type": "stream",
     "text": [
      " 79%|███████▊  | 22/28 [02:09<00:45,  7.57s/it]"
     ]
    },
    {
     "name": "stdout",
     "output_type": "stream",
     "text": [
      "u.parquet\n"
     ]
    },
    {
     "name": "stderr",
     "output_type": "stream",
     "text": [
      " 82%|████████▏ | 23/28 [02:11<00:29,  5.99s/it]"
     ]
    },
    {
     "name": "stdout",
     "output_type": "stream",
     "text": [
      "v.parquet\n"
     ]
    },
    {
     "name": "stderr",
     "output_type": "stream",
     "text": [
      " 86%|████████▌ | 24/28 [02:13<00:19,  4.78s/it]"
     ]
    },
    {
     "name": "stdout",
     "output_type": "stream",
     "text": [
      "w.parquet\n"
     ]
    },
    {
     "name": "stderr",
     "output_type": "stream",
     "text": [
      " 89%|████████▉ | 25/28 [02:17<00:13,  4.59s/it]"
     ]
    },
    {
     "name": "stdout",
     "output_type": "stream",
     "text": [
      "x.parquet\n"
     ]
    },
    {
     "name": "stderr",
     "output_type": "stream",
     "text": [
      " 93%|█████████▎| 26/28 [02:18<00:06,  3.39s/it]"
     ]
    },
    {
     "name": "stdout",
     "output_type": "stream",
     "text": [
      "y.parquet\n"
     ]
    },
    {
     "name": "stderr",
     "output_type": "stream",
     "text": [
      " 96%|█████████▋| 27/28 [02:19<00:02,  2.69s/it]"
     ]
    },
    {
     "name": "stdout",
     "output_type": "stream",
     "text": [
      "z.parquet\n"
     ]
    },
    {
     "name": "stderr",
     "output_type": "stream",
     "text": [
      "100%|██████████| 28/28 [02:20<00:00,  5.01s/it]\n"
     ]
    }
   ],
   "source": [
    "alls = []\n",
    "from tqdm.auto import tqdm\n",
    "for item in tqdm(df['file'].unique()):\n",
    "    print(item)\n",
    "    tmp = pd.read_parquet(f'./wiki_data/{item}')\n",
    "    tmp['id'] = tmp['id'].apply(lambda x : int(x))\n",
    "    tmp = tmp[tmp['id'].isin(s)]\n",
    "    alls.append(tmp)"
   ]
  },
  {
   "cell_type": "code",
   "execution_count": 18,
   "id": "e47c9fdc-3966-44e8-b583-e30a49a4fd98",
   "metadata": {
    "tags": []
   },
   "outputs": [],
   "source": [
    "alls = pd.concat(alls,axis=0).reset_index(drop=True)"
   ]
  },
  {
   "cell_type": "code",
   "execution_count": 19,
   "id": "4f4f297c-24dd-40ef-b152-808722801a20",
   "metadata": {
    "tags": []
   },
   "outputs": [
    {
     "data": {
      "text/html": [
       "<div>\n",
       "<style scoped>\n",
       "    .dataframe tbody tr th:only-of-type {\n",
       "        vertical-align: middle;\n",
       "    }\n",
       "\n",
       "    .dataframe tbody tr th {\n",
       "        vertical-align: top;\n",
       "    }\n",
       "\n",
       "    .dataframe thead th {\n",
       "        text-align: right;\n",
       "    }\n",
       "</style>\n",
       "<table border=\"1\" class=\"dataframe\">\n",
       "  <thead>\n",
       "    <tr style=\"text-align: right;\">\n",
       "      <th></th>\n",
       "      <th>id</th>\n",
       "      <th>title</th>\n",
       "      <th>text</th>\n",
       "      <th>categories</th>\n",
       "    </tr>\n",
       "  </thead>\n",
       "  <tbody>\n",
       "    <tr>\n",
       "      <th>0</th>\n",
       "      <td>2828410</td>\n",
       "      <td>A (musical note)</td>\n",
       "      <td>A or La is the sixth note and the tenth semito...</td>\n",
       "      <td>[Musical notes]</td>\n",
       "    </tr>\n",
       "    <tr>\n",
       "      <th>1</th>\n",
       "      <td>11506718</td>\n",
       "      <td>A B Wood Medal</td>\n",
       "      <td>The A B Wood Medal is a prize awarded annually...</td>\n",
       "      <td>[Physics awards, British science and technolog...</td>\n",
       "    </tr>\n",
       "    <tr>\n",
       "      <th>2</th>\n",
       "      <td>65261614</td>\n",
       "      <td>A Blackbird in Silver</td>\n",
       "      <td>A Blackbird in Silver is a novel by Freda Warr...</td>\n",
       "      <td>[1986 novels]</td>\n",
       "    </tr>\n",
       "    <tr>\n",
       "      <th>3</th>\n",
       "      <td>64286234</td>\n",
       "      <td>A Book of Numbers</td>\n",
       "      <td>A Book of Numbers () is a book by John Grant p...</td>\n",
       "      <td>[1982 books]</td>\n",
       "    </tr>\n",
       "    <tr>\n",
       "      <th>4</th>\n",
       "      <td>64829297</td>\n",
       "      <td>A Box of Nothing</td>\n",
       "      <td>A Box of Nothing is a novel by Peter Dickinson...</td>\n",
       "      <td>[1985 novels]</td>\n",
       "    </tr>\n",
       "    <tr>\n",
       "      <th>...</th>\n",
       "      <td>...</td>\n",
       "      <td>...</td>\n",
       "      <td>...</td>\n",
       "      <td>...</td>\n",
       "    </tr>\n",
       "    <tr>\n",
       "      <th>264048</th>\n",
       "      <td>6516037</td>\n",
       "      <td>Zyword</td>\n",
       "      <td>is a single-volume manga created by ex-Clamp m...</td>\n",
       "      <td>[Kadokawa Shoten manga, Shōjo manga, Tamayo Ak...</td>\n",
       "    </tr>\n",
       "    <tr>\n",
       "      <th>264049</th>\n",
       "      <td>14755807</td>\n",
       "      <td>Zyxin</td>\n",
       "      <td>Zyxin is a protein that in humans is encoded b...</td>\n",
       "      <td>[Cytoskeleton]</td>\n",
       "    </tr>\n",
       "    <tr>\n",
       "      <th>264050</th>\n",
       "      <td>1163782</td>\n",
       "      <td>Zzap!64</td>\n",
       "      <td>Zzap!64 was a computer games magazine covering...</td>\n",
       "      <td>[1985 establishments in the United Kingdom, 19...</td>\n",
       "    </tr>\n",
       "    <tr>\n",
       "      <th>264051</th>\n",
       "      <td>567286</td>\n",
       "      <td>ZÈRTZ</td>\n",
       "      <td>ZÈRTZ is the third game in the GIPF Project of...</td>\n",
       "      <td>[Board games introduced in 1999, Abstract stra...</td>\n",
       "    </tr>\n",
       "    <tr>\n",
       "      <th>264052</th>\n",
       "      <td>49505601</td>\n",
       "      <td>Zététique</td>\n",
       "      <td>Zététique (from Ancient Greek: ζητητικός zētēt...</td>\n",
       "      <td>[French words and phrases, Scientific skeptici...</td>\n",
       "    </tr>\n",
       "  </tbody>\n",
       "</table>\n",
       "<p>264053 rows × 4 columns</p>\n",
       "</div>"
      ],
      "text/plain": [
       "              id                  title   \n",
       "0        2828410       A (musical note)  \\\n",
       "1       11506718         A B Wood Medal   \n",
       "2       65261614  A Blackbird in Silver   \n",
       "3       64286234      A Book of Numbers   \n",
       "4       64829297       A Box of Nothing   \n",
       "...          ...                    ...   \n",
       "264048   6516037                 Zyword   \n",
       "264049  14755807                  Zyxin   \n",
       "264050   1163782                Zzap!64   \n",
       "264051    567286                  ZÈRTZ   \n",
       "264052  49505601              Zététique   \n",
       "\n",
       "                                                     text   \n",
       "0       A or La is the sixth note and the tenth semito...  \\\n",
       "1       The A B Wood Medal is a prize awarded annually...   \n",
       "2       A Blackbird in Silver is a novel by Freda Warr...   \n",
       "3       A Book of Numbers () is a book by John Grant p...   \n",
       "4       A Box of Nothing is a novel by Peter Dickinson...   \n",
       "...                                                   ...   \n",
       "264048  is a single-volume manga created by ex-Clamp m...   \n",
       "264049  Zyxin is a protein that in humans is encoded b...   \n",
       "264050  Zzap!64 was a computer games magazine covering...   \n",
       "264051  ZÈRTZ is the third game in the GIPF Project of...   \n",
       "264052  Zététique (from Ancient Greek: ζητητικός zētēt...   \n",
       "\n",
       "                                               categories  \n",
       "0                                         [Musical notes]  \n",
       "1       [Physics awards, British science and technolog...  \n",
       "2                                           [1986 novels]  \n",
       "3                                            [1982 books]  \n",
       "4                                           [1985 novels]  \n",
       "...                                                   ...  \n",
       "264048  [Kadokawa Shoten manga, Shōjo manga, Tamayo Ak...  \n",
       "264049                                     [Cytoskeleton]  \n",
       "264050  [1985 establishments in the United Kingdom, 19...  \n",
       "264051  [Board games introduced in 1999, Abstract stra...  \n",
       "264052  [French words and phrases, Scientific skeptici...  \n",
       "\n",
       "[264053 rows x 4 columns]"
      ]
     },
     "execution_count": 19,
     "metadata": {},
     "output_type": "execute_result"
    }
   ],
   "source": [
    "alls"
   ]
  },
  {
   "cell_type": "code",
   "execution_count": 27,
   "id": "dda5e799-d542-41f5-bfa1-2d6ee029c6c1",
   "metadata": {
    "tags": []
   },
   "outputs": [],
   "source": [
    "merged_df = data.groupby('wiki_id')['text'].agg(lambda x: ''.join(x)).reset_index(drop=True)"
   ]
  },
  {
   "cell_type": "code",
   "execution_count": 30,
   "id": "d621b123-6228-4b71-bd7f-be10f949d10b",
   "metadata": {
    "tags": []
   },
   "outputs": [],
   "source": [
    "x = set(merged_df.tolist())"
   ]
  },
  {
   "cell_type": "code",
   "execution_count": 31,
   "id": "69cf0bfb-cb32-4b88-88ac-5e1cc2eb9bef",
   "metadata": {
    "tags": []
   },
   "outputs": [],
   "source": [
    "y = set(alls['text'].tolist())"
   ]
  },
  {
   "cell_type": "code",
   "execution_count": 32,
   "id": "9b130e63-31ff-4874-8eb5-740a0ab26e68",
   "metadata": {
    "tags": []
   },
   "outputs": [
    {
     "data": {
      "text/plain": [
       "7"
      ]
     },
     "execution_count": 32,
     "metadata": {},
     "output_type": "execute_result"
    }
   ],
   "source": [
    "len(x & y)"
   ]
  },
  {
   "cell_type": "code",
   "execution_count": 33,
   "id": "c484a1a4-d73a-422b-b08e-4d7d0cc9bb98",
   "metadata": {
    "tags": []
   },
   "outputs": [
    {
     "data": {
      "text/html": [
       "<div>\n",
       "<style scoped>\n",
       "    .dataframe tbody tr th:only-of-type {\n",
       "        vertical-align: middle;\n",
       "    }\n",
       "\n",
       "    .dataframe tbody tr th {\n",
       "        vertical-align: top;\n",
       "    }\n",
       "\n",
       "    .dataframe thead th {\n",
       "        text-align: right;\n",
       "    }\n",
       "</style>\n",
       "<table border=\"1\" class=\"dataframe\">\n",
       "  <thead>\n",
       "    <tr style=\"text-align: right;\">\n",
       "      <th></th>\n",
       "      <th>id</th>\n",
       "      <th>title</th>\n",
       "      <th>text</th>\n",
       "      <th>categories</th>\n",
       "    </tr>\n",
       "  </thead>\n",
       "  <tbody>\n",
       "    <tr>\n",
       "      <th>0</th>\n",
       "      <td>2828410</td>\n",
       "      <td>A (musical note)</td>\n",
       "      <td>A or La is the sixth note and the tenth semito...</td>\n",
       "      <td>[Musical notes]</td>\n",
       "    </tr>\n",
       "    <tr>\n",
       "      <th>1</th>\n",
       "      <td>11506718</td>\n",
       "      <td>A B Wood Medal</td>\n",
       "      <td>The A B Wood Medal is a prize awarded annually...</td>\n",
       "      <td>[Physics awards, British science and technolog...</td>\n",
       "    </tr>\n",
       "    <tr>\n",
       "      <th>2</th>\n",
       "      <td>65261614</td>\n",
       "      <td>A Blackbird in Silver</td>\n",
       "      <td>A Blackbird in Silver is a novel by Freda Warr...</td>\n",
       "      <td>[1986 novels]</td>\n",
       "    </tr>\n",
       "    <tr>\n",
       "      <th>3</th>\n",
       "      <td>64286234</td>\n",
       "      <td>A Book of Numbers</td>\n",
       "      <td>A Book of Numbers () is a book by John Grant p...</td>\n",
       "      <td>[1982 books]</td>\n",
       "    </tr>\n",
       "    <tr>\n",
       "      <th>4</th>\n",
       "      <td>64829297</td>\n",
       "      <td>A Box of Nothing</td>\n",
       "      <td>A Box of Nothing is a novel by Peter Dickinson...</td>\n",
       "      <td>[1985 novels]</td>\n",
       "    </tr>\n",
       "    <tr>\n",
       "      <th>...</th>\n",
       "      <td>...</td>\n",
       "      <td>...</td>\n",
       "      <td>...</td>\n",
       "      <td>...</td>\n",
       "    </tr>\n",
       "    <tr>\n",
       "      <th>264048</th>\n",
       "      <td>6516037</td>\n",
       "      <td>Zyword</td>\n",
       "      <td>is a single-volume manga created by ex-Clamp m...</td>\n",
       "      <td>[Kadokawa Shoten manga, Shōjo manga, Tamayo Ak...</td>\n",
       "    </tr>\n",
       "    <tr>\n",
       "      <th>264049</th>\n",
       "      <td>14755807</td>\n",
       "      <td>Zyxin</td>\n",
       "      <td>Zyxin is a protein that in humans is encoded b...</td>\n",
       "      <td>[Cytoskeleton]</td>\n",
       "    </tr>\n",
       "    <tr>\n",
       "      <th>264050</th>\n",
       "      <td>1163782</td>\n",
       "      <td>Zzap!64</td>\n",
       "      <td>Zzap!64 was a computer games magazine covering...</td>\n",
       "      <td>[1985 establishments in the United Kingdom, 19...</td>\n",
       "    </tr>\n",
       "    <tr>\n",
       "      <th>264051</th>\n",
       "      <td>567286</td>\n",
       "      <td>ZÈRTZ</td>\n",
       "      <td>ZÈRTZ is the third game in the GIPF Project of...</td>\n",
       "      <td>[Board games introduced in 1999, Abstract stra...</td>\n",
       "    </tr>\n",
       "    <tr>\n",
       "      <th>264052</th>\n",
       "      <td>49505601</td>\n",
       "      <td>Zététique</td>\n",
       "      <td>Zététique (from Ancient Greek: ζητητικός zētēt...</td>\n",
       "      <td>[French words and phrases, Scientific skeptici...</td>\n",
       "    </tr>\n",
       "  </tbody>\n",
       "</table>\n",
       "<p>264053 rows × 4 columns</p>\n",
       "</div>"
      ],
      "text/plain": [
       "              id                  title   \n",
       "0        2828410       A (musical note)  \\\n",
       "1       11506718         A B Wood Medal   \n",
       "2       65261614  A Blackbird in Silver   \n",
       "3       64286234      A Book of Numbers   \n",
       "4       64829297       A Box of Nothing   \n",
       "...          ...                    ...   \n",
       "264048   6516037                 Zyword   \n",
       "264049  14755807                  Zyxin   \n",
       "264050   1163782                Zzap!64   \n",
       "264051    567286                  ZÈRTZ   \n",
       "264052  49505601              Zététique   \n",
       "\n",
       "                                                     text   \n",
       "0       A or La is the sixth note and the tenth semito...  \\\n",
       "1       The A B Wood Medal is a prize awarded annually...   \n",
       "2       A Blackbird in Silver is a novel by Freda Warr...   \n",
       "3       A Book of Numbers () is a book by John Grant p...   \n",
       "4       A Box of Nothing is a novel by Peter Dickinson...   \n",
       "...                                                   ...   \n",
       "264048  is a single-volume manga created by ex-Clamp m...   \n",
       "264049  Zyxin is a protein that in humans is encoded b...   \n",
       "264050  Zzap!64 was a computer games magazine covering...   \n",
       "264051  ZÈRTZ is the third game in the GIPF Project of...   \n",
       "264052  Zététique (from Ancient Greek: ζητητικός zētēt...   \n",
       "\n",
       "                                               categories  \n",
       "0                                         [Musical notes]  \n",
       "1       [Physics awards, British science and technolog...  \n",
       "2                                           [1986 novels]  \n",
       "3                                            [1982 books]  \n",
       "4                                           [1985 novels]  \n",
       "...                                                   ...  \n",
       "264048  [Kadokawa Shoten manga, Shōjo manga, Tamayo Ak...  \n",
       "264049                                     [Cytoskeleton]  \n",
       "264050  [1985 establishments in the United Kingdom, 19...  \n",
       "264051  [Board games introduced in 1999, Abstract stra...  \n",
       "264052  [French words and phrases, Scientific skeptici...  \n",
       "\n",
       "[264053 rows x 4 columns]"
      ]
     },
     "execution_count": 33,
     "metadata": {},
     "output_type": "execute_result"
    }
   ],
   "source": [
    "alls"
   ]
  },
  {
   "cell_type": "code",
   "execution_count": 2,
   "id": "f9e1809a-6fd1-4cc6-abe7-998c48be835f",
   "metadata": {
    "tags": []
   },
   "outputs": [],
   "source": [
    "alls = pd.read_parquet('./wiki_data/small_wiki_data.parquet')"
   ]
  },
  {
   "cell_type": "code",
   "execution_count": 15,
   "id": "6655072f-6fad-4ecd-8b24-5191e51eb453",
   "metadata": {},
   "outputs": [
    {
     "data": {
      "text/plain": [
       "'A or La is the sixth note and the tenth semitone of the fixed-do solfège. Its enharmonic equivalents are B (B double flat) which is a diatonic semitone above A and G (G double sharp) which is a diatonic semitone below A. \"A\" is generally used as a standard for tuning. When the orchestra tunes, the oboe plays an \"A\" and the rest of the instruments tune to match that pitch. Every string instrument in the orchestra has an A string, from which each player can tune the rest of their instrument. \"A\" is also used in combination with a number (e.g. A-440) to label the pitch standard. The number designates the frequency in hertz. A lower number equals a lower pitch. The International Standards Organization (ISO) has standardized the pitch at A-440. However, tuning has varied over time, geographical region, or instrument maker. In 17th-century Europe, tunings ranged from about A-374 to A-403, approximately two to three semitones below A-440. Historical examples exist of instruments, tuning forks, or standards ranging from A-309 to A-455.3, a difference of almost six semitones. Although the official standard today is A-440, some orchestral groups and chamber groups prefer to tune a little higher, at A-442 or even A-444. Baroque pitch is usually cited as A-415, which is a semitone lower than modern pitch. A0 is the lowest note on the standard piano. The octaves follow A1, A2, etc. A7 is a few pitches lower than C8, the highest note on the standard piano. The note \"A\" is not considered to be a certain milestone or mark to hit with voice as, for example, Tenor C is, but it can be extremely demanding in certain octaves. ==Designation by octave== Scientific designation Helmholtz designation Octave name Frequency (Hz) Sound sample A−1 A͵͵͵ or ͵͵͵A or AAAA Subsubcontra 13.75 A0 A͵͵ or ͵͵A or AAA Subcontra 27.5 A1 A͵ or ͵A or AA Contra 55 55 Sine wave A2 A Great 110 110 Sine wave A3 a Small 220 220 Sine wave A4 a One-lined 440 440 Sine wave A5 a Two-lined 880 880 Sine wave A6 a Three-lined 1760 1760 Sine wave A7 a Four- lined 3520 A8 a Five-lined 7040 A9 a Six-lined 14080 A10 a Seven-lined 28160 ==Scales== ===Common scales beginning on A=== * A major: A B C D E F G A *A natural minor: A B C D E F G A * A harmonic minor: A B C D E F G A * A melodic minor ascending: A B C D E F G A * A melodic minor descending: A G F E D C B A ===Diatonic scales=== * A Ionian: A B C D E F G A * A Dorian: A B C D E F G A * A Phrygian: A B C D E F G A * A Lydian: A B C D E F G A * A Mixolydian: A B C D E F G A * A Aeolian: A B C D E F G A * A Locrian: A B C D E F G A ===Jazz melodic minor=== * A Ascending melodic minor: A B C D E F G A * A Dorian ♭2: A B C D E F G A * A Lydian augmented: A B C D E F G A * A Lydian dominant: A B C D E F G A * A Mixolydian ♭6: A B C D E F G A * A Locrian ♮2: A B C D E F G A * A Altered: A B C D E F G A ==See also== * Piano key frequencies * A major * A minor * Root (chord) ==References== ==External links== * Standard Pitch or Concert Pitch for Pianos by Barrie Heaton * Virginia Tech Music Dictionary: A Category:Musical notes'"
      ]
     },
     "execution_count": 15,
     "metadata": {},
     "output_type": "execute_result"
    }
   ],
   "source": [
    "alls.loc[0,'text']"
   ]
  },
  {
   "cell_type": "code",
   "execution_count": 18,
   "id": "aac5b30a-6db4-4414-a188-3fc61920055e",
   "metadata": {
    "tags": []
   },
   "outputs": [
    {
     "data": {
      "text/html": [
       "<div>\n",
       "<style scoped>\n",
       "    .dataframe tbody tr th:only-of-type {\n",
       "        vertical-align: middle;\n",
       "    }\n",
       "\n",
       "    .dataframe tbody tr th {\n",
       "        vertical-align: top;\n",
       "    }\n",
       "\n",
       "    .dataframe thead th {\n",
       "        text-align: right;\n",
       "    }\n",
       "</style>\n",
       "<table border=\"1\" class=\"dataframe\">\n",
       "  <thead>\n",
       "    <tr style=\"text-align: right;\">\n",
       "      <th></th>\n",
       "      <th>id</th>\n",
       "      <th>title</th>\n",
       "      <th>text</th>\n",
       "      <th>categories</th>\n",
       "    </tr>\n",
       "  </thead>\n",
       "  <tbody>\n",
       "    <tr>\n",
       "      <th>0</th>\n",
       "      <td>2828410</td>\n",
       "      <td>A (musical note)</td>\n",
       "      <td>A or La is the sixth note and the tenth semito...</td>\n",
       "      <td>[Musical notes]</td>\n",
       "    </tr>\n",
       "    <tr>\n",
       "      <th>1</th>\n",
       "      <td>11506718</td>\n",
       "      <td>A B Wood Medal</td>\n",
       "      <td>The A B Wood Medal is a prize awarded annually...</td>\n",
       "      <td>[Physics awards, British science and technolog...</td>\n",
       "    </tr>\n",
       "    <tr>\n",
       "      <th>2</th>\n",
       "      <td>65261614</td>\n",
       "      <td>A Blackbird in Silver</td>\n",
       "      <td>A Blackbird in Silver is a novel by Freda Warr...</td>\n",
       "      <td>[1986 novels]</td>\n",
       "    </tr>\n",
       "    <tr>\n",
       "      <th>3</th>\n",
       "      <td>64286234</td>\n",
       "      <td>A Book of Numbers</td>\n",
       "      <td>A Book of Numbers () is a book by John Grant p...</td>\n",
       "      <td>[1982 books]</td>\n",
       "    </tr>\n",
       "    <tr>\n",
       "      <th>4</th>\n",
       "      <td>64829297</td>\n",
       "      <td>A Box of Nothing</td>\n",
       "      <td>A Box of Nothing is a novel by Peter Dickinson...</td>\n",
       "      <td>[1985 novels]</td>\n",
       "    </tr>\n",
       "    <tr>\n",
       "      <th>...</th>\n",
       "      <td>...</td>\n",
       "      <td>...</td>\n",
       "      <td>...</td>\n",
       "      <td>...</td>\n",
       "    </tr>\n",
       "    <tr>\n",
       "      <th>264048</th>\n",
       "      <td>6516037</td>\n",
       "      <td>Zyword</td>\n",
       "      <td>is a single-volume manga created by ex-Clamp m...</td>\n",
       "      <td>[Kadokawa Shoten manga, Shōjo manga, Tamayo Ak...</td>\n",
       "    </tr>\n",
       "    <tr>\n",
       "      <th>264049</th>\n",
       "      <td>14755807</td>\n",
       "      <td>Zyxin</td>\n",
       "      <td>Zyxin is a protein that in humans is encoded b...</td>\n",
       "      <td>[Cytoskeleton]</td>\n",
       "    </tr>\n",
       "    <tr>\n",
       "      <th>264050</th>\n",
       "      <td>1163782</td>\n",
       "      <td>Zzap!64</td>\n",
       "      <td>Zzap!64 was a computer games magazine covering...</td>\n",
       "      <td>[1985 establishments in the United Kingdom, 19...</td>\n",
       "    </tr>\n",
       "    <tr>\n",
       "      <th>264051</th>\n",
       "      <td>567286</td>\n",
       "      <td>ZÈRTZ</td>\n",
       "      <td>ZÈRTZ is the third game in the GIPF Project of...</td>\n",
       "      <td>[Board games introduced in 1999, Abstract stra...</td>\n",
       "    </tr>\n",
       "    <tr>\n",
       "      <th>264052</th>\n",
       "      <td>49505601</td>\n",
       "      <td>Zététique</td>\n",
       "      <td>Zététique (from Ancient Greek: ζητητικός zētēt...</td>\n",
       "      <td>[French words and phrases, Scientific skeptici...</td>\n",
       "    </tr>\n",
       "  </tbody>\n",
       "</table>\n",
       "<p>264053 rows × 4 columns</p>\n",
       "</div>"
      ],
      "text/plain": [
       "              id                  title   \n",
       "0        2828410       A (musical note)  \\\n",
       "1       11506718         A B Wood Medal   \n",
       "2       65261614  A Blackbird in Silver   \n",
       "3       64286234      A Book of Numbers   \n",
       "4       64829297       A Box of Nothing   \n",
       "...          ...                    ...   \n",
       "264048   6516037                 Zyword   \n",
       "264049  14755807                  Zyxin   \n",
       "264050   1163782                Zzap!64   \n",
       "264051    567286                  ZÈRTZ   \n",
       "264052  49505601              Zététique   \n",
       "\n",
       "                                                     text   \n",
       "0       A or La is the sixth note and the tenth semito...  \\\n",
       "1       The A B Wood Medal is a prize awarded annually...   \n",
       "2       A Blackbird in Silver is a novel by Freda Warr...   \n",
       "3       A Book of Numbers () is a book by John Grant p...   \n",
       "4       A Box of Nothing is a novel by Peter Dickinson...   \n",
       "...                                                   ...   \n",
       "264048  is a single-volume manga created by ex-Clamp m...   \n",
       "264049  Zyxin is a protein that in humans is encoded b...   \n",
       "264050  Zzap!64 was a computer games magazine covering...   \n",
       "264051  ZÈRTZ is the third game in the GIPF Project of...   \n",
       "264052  Zététique (from Ancient Greek: ζητητικός zētēt...   \n",
       "\n",
       "                                               categories  \n",
       "0                                         [Musical notes]  \n",
       "1       [Physics awards, British science and technolog...  \n",
       "2                                           [1986 novels]  \n",
       "3                                            [1982 books]  \n",
       "4                                           [1985 novels]  \n",
       "...                                                   ...  \n",
       "264048  [Kadokawa Shoten manga, Shōjo manga, Tamayo Ak...  \n",
       "264049                                     [Cytoskeleton]  \n",
       "264050  [1985 establishments in the United Kingdom, 19...  \n",
       "264051  [Board games introduced in 1999, Abstract stra...  \n",
       "264052  [French words and phrases, Scientific skeptici...  \n",
       "\n",
       "[264053 rows x 4 columns]"
      ]
     },
     "execution_count": 18,
     "metadata": {},
     "output_type": "execute_result"
    }
   ],
   "source": [
    "alls"
   ]
  },
  {
   "cell_type": "code",
   "execution_count": 19,
   "id": "1055e0ba-926a-4eb9-af84-ff8b2e50aefc",
   "metadata": {
    "tags": []
   },
   "outputs": [],
   "source": [
    "new = []\n",
    "for i in range(len(alls)):\n",
    "    ids = alls.loc[i,'id']\n",
    "    title = alls.loc[i,'title']\n",
    "    text = alls.loc[i,'text'].split('###')\n",
    "    for item in text:\n",
    "        if len(item) < 2:\n",
    "            continue\n",
    "        if len(item.split(' ')) <= 3:\n",
    "            continue\n",
    "        new.append({'id':ids, 'title':title, 'text':item})"
   ]
  },
  {
   "cell_type": "code",
   "execution_count": 20,
   "id": "78a14efc-ca42-4e91-9b1a-a5ac5fedb7fe",
   "metadata": {
    "tags": []
   },
   "outputs": [],
   "source": [
    "new = pd.DataFrame(new)"
   ]
  },
  {
   "cell_type": "code",
   "execution_count": 21,
   "id": "3b0b3dde-9836-48f4-a883-7e87eb8df2d2",
   "metadata": {
    "tags": []
   },
   "outputs": [
    {
     "data": {
      "text/html": [
       "<div>\n",
       "<style scoped>\n",
       "    .dataframe tbody tr th:only-of-type {\n",
       "        vertical-align: middle;\n",
       "    }\n",
       "\n",
       "    .dataframe tbody tr th {\n",
       "        vertical-align: top;\n",
       "    }\n",
       "\n",
       "    .dataframe thead th {\n",
       "        text-align: right;\n",
       "    }\n",
       "</style>\n",
       "<table border=\"1\" class=\"dataframe\">\n",
       "  <thead>\n",
       "    <tr style=\"text-align: right;\">\n",
       "      <th></th>\n",
       "      <th>id</th>\n",
       "      <th>title</th>\n",
       "      <th>text</th>\n",
       "    </tr>\n",
       "  </thead>\n",
       "  <tbody>\n",
       "    <tr>\n",
       "      <th>0</th>\n",
       "      <td>2828410</td>\n",
       "      <td>A (musical note)</td>\n",
       "      <td>A or La is the sixth note and the tenth semito...</td>\n",
       "    </tr>\n",
       "    <tr>\n",
       "      <th>1</th>\n",
       "      <td>2828410</td>\n",
       "      <td>A (musical note)</td>\n",
       "      <td>Scientific designation Helmholtz designation ...</td>\n",
       "    </tr>\n",
       "    <tr>\n",
       "      <th>2</th>\n",
       "      <td>2828410</td>\n",
       "      <td>A (musical note)</td>\n",
       "      <td>Common scales beginning on A</td>\n",
       "    </tr>\n",
       "    <tr>\n",
       "      <th>3</th>\n",
       "      <td>2828410</td>\n",
       "      <td>A (musical note)</td>\n",
       "      <td>* A major: A B C D E F G A *A natural minor: ...</td>\n",
       "    </tr>\n",
       "    <tr>\n",
       "      <th>4</th>\n",
       "      <td>2828410</td>\n",
       "      <td>A (musical note)</td>\n",
       "      <td>* A Ionian: A B C D E F G A * A Dorian: A B C...</td>\n",
       "    </tr>\n",
       "    <tr>\n",
       "      <th>...</th>\n",
       "      <td>...</td>\n",
       "      <td>...</td>\n",
       "      <td>...</td>\n",
       "    </tr>\n",
       "    <tr>\n",
       "      <th>2249683</th>\n",
       "      <td>49505601</td>\n",
       "      <td>Zététique</td>\n",
       "      <td>Zététique seems to have entered the French la...</td>\n",
       "    </tr>\n",
       "    <tr>\n",
       "      <th>2249684</th>\n",
       "      <td>49505601</td>\n",
       "      <td>Zététique</td>\n",
       "      <td>Zététique organisations</td>\n",
       "    </tr>\n",
       "    <tr>\n",
       "      <th>2249685</th>\n",
       "      <td>49505601</td>\n",
       "      <td>Zététique</td>\n",
       "      <td>Past ans current organisations that consider ...</td>\n",
       "    </tr>\n",
       "    <tr>\n",
       "      <th>2249686</th>\n",
       "      <td>49505601</td>\n",
       "      <td>Zététique</td>\n",
       "      <td>Marcello Truzzi and others who are critical o...</td>\n",
       "    </tr>\n",
       "    <tr>\n",
       "      <th>2249687</th>\n",
       "      <td>49505601</td>\n",
       "      <td>Zététique</td>\n",
       "      <td>Category:French words and phrases Category:Sc...</td>\n",
       "    </tr>\n",
       "  </tbody>\n",
       "</table>\n",
       "<p>2249688 rows × 3 columns</p>\n",
       "</div>"
      ],
      "text/plain": [
       "               id             title   \n",
       "0         2828410  A (musical note)  \\\n",
       "1         2828410  A (musical note)   \n",
       "2         2828410  A (musical note)   \n",
       "3         2828410  A (musical note)   \n",
       "4         2828410  A (musical note)   \n",
       "...           ...               ...   \n",
       "2249683  49505601         Zététique   \n",
       "2249684  49505601         Zététique   \n",
       "2249685  49505601         Zététique   \n",
       "2249686  49505601         Zététique   \n",
       "2249687  49505601         Zététique   \n",
       "\n",
       "                                                      text  \n",
       "0        A or La is the sixth note and the tenth semito...  \n",
       "1         Scientific designation Helmholtz designation ...  \n",
       "2                             Common scales beginning on A  \n",
       "3         * A major: A B C D E F G A *A natural minor: ...  \n",
       "4         * A Ionian: A B C D E F G A * A Dorian: A B C...  \n",
       "...                                                    ...  \n",
       "2249683   Zététique seems to have entered the French la...  \n",
       "2249684                           Zététique organisations   \n",
       "2249685   Past ans current organisations that consider ...  \n",
       "2249686   Marcello Truzzi and others who are critical o...  \n",
       "2249687   Category:French words and phrases Category:Sc...  \n",
       "\n",
       "[2249688 rows x 3 columns]"
      ]
     },
     "execution_count": 21,
     "metadata": {},
     "output_type": "execute_result"
    }
   ],
   "source": [
    "new"
   ]
  },
  {
   "cell_type": "code",
   "execution_count": 22,
   "id": "ce426c3a-4722-43e8-be04-79ff2dd9775c",
   "metadata": {
    "tags": []
   },
   "outputs": [],
   "source": [
    "new.to_parquet('./wiki_data/680w_small_split.parquet')"
   ]
  },
  {
   "cell_type": "code",
   "execution_count": 1,
   "id": "451a9160-18ce-4eff-b9d0-21897b0eaf9f",
   "metadata": {
    "tags": []
   },
   "outputs": [],
   "source": [
    "import pandas as pd\n",
    "new = pd.read_parquet('./wiki_data/680w_small_split.parquet')"
   ]
  },
  {
   "cell_type": "code",
   "execution_count": 13,
   "id": "94b7779c-a14b-4875-b2b4-c59808df09bb",
   "metadata": {
    "tags": []
   },
   "outputs": [],
   "source": [
    "new = new[new['text'].apply(lambda x : len(x.split(' ')) > 50)]"
   ]
  },
  {
   "cell_type": "code",
   "execution_count": 14,
   "id": "326ec212-03eb-4fb8-9b1f-ef0f563fa7a7",
   "metadata": {
    "tags": []
   },
   "outputs": [],
   "source": [
    "new = new.reset_index(drop=True)"
   ]
  },
  {
   "cell_type": "code",
   "execution_count": 15,
   "id": "49a4a59d-f252-4994-85a7-a031b9176ef5",
   "metadata": {
    "tags": []
   },
   "outputs": [],
   "source": [
    "new.to_parquet('./wiki_data/680w_small_split_small.parquet')"
   ]
  },
  {
   "cell_type": "code",
   "execution_count": 16,
   "id": "d852f3fd-b168-42fc-8007-30c335136924",
   "metadata": {
    "tags": []
   },
   "outputs": [
    {
     "data": {
      "text/html": [
       "<div>\n",
       "<style scoped>\n",
       "    .dataframe tbody tr th:only-of-type {\n",
       "        vertical-align: middle;\n",
       "    }\n",
       "\n",
       "    .dataframe tbody tr th {\n",
       "        vertical-align: top;\n",
       "    }\n",
       "\n",
       "    .dataframe thead th {\n",
       "        text-align: right;\n",
       "    }\n",
       "</style>\n",
       "<table border=\"1\" class=\"dataframe\">\n",
       "  <thead>\n",
       "    <tr style=\"text-align: right;\">\n",
       "      <th></th>\n",
       "      <th>id</th>\n",
       "      <th>title</th>\n",
       "      <th>text</th>\n",
       "    </tr>\n",
       "  </thead>\n",
       "  <tbody>\n",
       "    <tr>\n",
       "      <th>0</th>\n",
       "      <td>2828410</td>\n",
       "      <td>A (musical note)</td>\n",
       "      <td>A or La is the sixth note and the tenth semito...</td>\n",
       "    </tr>\n",
       "    <tr>\n",
       "      <th>1</th>\n",
       "      <td>2828410</td>\n",
       "      <td>A (musical note)</td>\n",
       "      <td>Scientific designation Helmholtz designation ...</td>\n",
       "    </tr>\n",
       "    <tr>\n",
       "      <th>2</th>\n",
       "      <td>2828410</td>\n",
       "      <td>A (musical note)</td>\n",
       "      <td>* A major: A B C D E F G A *A natural minor: ...</td>\n",
       "    </tr>\n",
       "    <tr>\n",
       "      <th>3</th>\n",
       "      <td>2828410</td>\n",
       "      <td>A (musical note)</td>\n",
       "      <td>* A Ionian: A B C D E F G A * A Dorian: A B C...</td>\n",
       "    </tr>\n",
       "    <tr>\n",
       "      <th>4</th>\n",
       "      <td>2828410</td>\n",
       "      <td>A (musical note)</td>\n",
       "      <td>* A Ascending melodic minor: A B C D E F G A ...</td>\n",
       "    </tr>\n",
       "    <tr>\n",
       "      <th>...</th>\n",
       "      <td>...</td>\n",
       "      <td>...</td>\n",
       "      <td>...</td>\n",
       "    </tr>\n",
       "    <tr>\n",
       "      <th>1129499</th>\n",
       "      <td>567286</td>\n",
       "      <td>ZÈRTZ</td>\n",
       "      <td>A short Blitz version of the game can be play...</td>\n",
       "    </tr>\n",
       "    <tr>\n",
       "      <th>1129500</th>\n",
       "      <td>49505601</td>\n",
       "      <td>Zététique</td>\n",
       "      <td>Zététique (from Ancient Greek: ζητητικός zētēt...</td>\n",
       "    </tr>\n",
       "    <tr>\n",
       "      <th>1129501</th>\n",
       "      <td>49505601</td>\n",
       "      <td>Zététique</td>\n",
       "      <td>Zététique seems to have entered the French la...</td>\n",
       "    </tr>\n",
       "    <tr>\n",
       "      <th>1129502</th>\n",
       "      <td>49505601</td>\n",
       "      <td>Zététique</td>\n",
       "      <td>Past ans current organisations that consider ...</td>\n",
       "    </tr>\n",
       "    <tr>\n",
       "      <th>1129503</th>\n",
       "      <td>49505601</td>\n",
       "      <td>Zététique</td>\n",
       "      <td>Marcello Truzzi and others who are critical o...</td>\n",
       "    </tr>\n",
       "  </tbody>\n",
       "</table>\n",
       "<p>1129504 rows × 3 columns</p>\n",
       "</div>"
      ],
      "text/plain": [
       "               id             title   \n",
       "0         2828410  A (musical note)  \\\n",
       "1         2828410  A (musical note)   \n",
       "2         2828410  A (musical note)   \n",
       "3         2828410  A (musical note)   \n",
       "4         2828410  A (musical note)   \n",
       "...           ...               ...   \n",
       "1129499    567286             ZÈRTZ   \n",
       "1129500  49505601         Zététique   \n",
       "1129501  49505601         Zététique   \n",
       "1129502  49505601         Zététique   \n",
       "1129503  49505601         Zététique   \n",
       "\n",
       "                                                      text  \n",
       "0        A or La is the sixth note and the tenth semito...  \n",
       "1         Scientific designation Helmholtz designation ...  \n",
       "2         * A major: A B C D E F G A *A natural minor: ...  \n",
       "3         * A Ionian: A B C D E F G A * A Dorian: A B C...  \n",
       "4         * A Ascending melodic minor: A B C D E F G A ...  \n",
       "...                                                    ...  \n",
       "1129499   A short Blitz version of the game can be play...  \n",
       "1129500  Zététique (from Ancient Greek: ζητητικός zētēt...  \n",
       "1129501   Zététique seems to have entered the French la...  \n",
       "1129502   Past ans current organisations that consider ...  \n",
       "1129503   Marcello Truzzi and others who are critical o...  \n",
       "\n",
       "[1129504 rows x 3 columns]"
      ]
     },
     "execution_count": 16,
     "metadata": {},
     "output_type": "execute_result"
    }
   ],
   "source": [
    "new"
   ]
  },
  {
   "cell_type": "code",
   "execution_count": 10,
   "id": "9454a997-bcf0-4c6f-b8ea-3547f9f7e048",
   "metadata": {
    "tags": []
   },
   "outputs": [],
   "source": [
    "df = pd.read_parquet('./small_wiki_data_base/data.parquet')"
   ]
  },
  {
   "cell_type": "code",
   "execution_count": 12,
   "id": "6a579a41-a8b5-44d3-98da-6f106cdc8c6c",
   "metadata": {
    "tags": []
   },
   "outputs": [
    {
     "data": {
      "text/html": [
       "<div>\n",
       "<style scoped>\n",
       "    .dataframe tbody tr th:only-of-type {\n",
       "        vertical-align: middle;\n",
       "    }\n",
       "\n",
       "    .dataframe tbody tr th {\n",
       "        vertical-align: top;\n",
       "    }\n",
       "\n",
       "    .dataframe thead th {\n",
       "        text-align: right;\n",
       "    }\n",
       "</style>\n",
       "<table border=\"1\" class=\"dataframe\">\n",
       "  <thead>\n",
       "    <tr style=\"text-align: right;\">\n",
       "      <th></th>\n",
       "      <th>id</th>\n",
       "      <th>title</th>\n",
       "      <th>text</th>\n",
       "      <th>url</th>\n",
       "      <th>wiki_id</th>\n",
       "      <th>views</th>\n",
       "      <th>paragraph_id</th>\n",
       "      <th>langs</th>\n",
       "    </tr>\n",
       "  </thead>\n",
       "  <tbody>\n",
       "    <tr>\n",
       "      <th>0</th>\n",
       "      <td>5443</td>\n",
       "      <td>Google Translate</td>\n",
       "      <td>Google Translate is a multilingual neural mach...</td>\n",
       "      <td>https://en.wikipedia.org/wiki?curid=3235536</td>\n",
       "      <td>3235536</td>\n",
       "      <td>4305.652832</td>\n",
       "      <td>0</td>\n",
       "      <td>97</td>\n",
       "    </tr>\n",
       "    <tr>\n",
       "      <th>1</th>\n",
       "      <td>5444</td>\n",
       "      <td>Google Translate</td>\n",
       "      <td>Launched in April 2006 as a statistical machin...</td>\n",
       "      <td>https://en.wikipedia.org/wiki?curid=3235536</td>\n",
       "      <td>3235536</td>\n",
       "      <td>4305.652832</td>\n",
       "      <td>1</td>\n",
       "      <td>97</td>\n",
       "    </tr>\n",
       "    <tr>\n",
       "      <th>2</th>\n",
       "      <td>5445</td>\n",
       "      <td>Google Translate</td>\n",
       "      <td>Google Translate is a web-based free-to-user t...</td>\n",
       "      <td>https://en.wikipedia.org/wiki?curid=3235536</td>\n",
       "      <td>3235536</td>\n",
       "      <td>4305.652832</td>\n",
       "      <td>2</td>\n",
       "      <td>97</td>\n",
       "    </tr>\n",
       "    <tr>\n",
       "      <th>3</th>\n",
       "      <td>5446</td>\n",
       "      <td>Google Translate</td>\n",
       "      <td>Originally, Google Translate was released as a...</td>\n",
       "      <td>https://en.wikipedia.org/wiki?curid=3235536</td>\n",
       "      <td>3235536</td>\n",
       "      <td>4305.652832</td>\n",
       "      <td>3</td>\n",
       "      <td>97</td>\n",
       "    </tr>\n",
       "    <tr>\n",
       "      <th>4</th>\n",
       "      <td>5447</td>\n",
       "      <td>Google Translate</td>\n",
       "      <td>In January 2010, Google introduced an Android ...</td>\n",
       "      <td>https://en.wikipedia.org/wiki?curid=3235536</td>\n",
       "      <td>3235536</td>\n",
       "      <td>4305.652832</td>\n",
       "      <td>4</td>\n",
       "      <td>97</td>\n",
       "    </tr>\n",
       "    <tr>\n",
       "      <th>...</th>\n",
       "      <td>...</td>\n",
       "      <td>...</td>\n",
       "      <td>...</td>\n",
       "      <td>...</td>\n",
       "      <td>...</td>\n",
       "      <td>...</td>\n",
       "      <td>...</td>\n",
       "      <td>...</td>\n",
       "    </tr>\n",
       "    <tr>\n",
       "      <th>2781647</th>\n",
       "      <td>35167656</td>\n",
       "      <td>Mr. Keynes and the &amp;quot;Classics&amp;quot;</td>\n",
       "      <td>The charge against Hicks that he paid little a...</td>\n",
       "      <td>https://en.wikipedia.org/wiki?curid=56889606</td>\n",
       "      <td>56889606</td>\n",
       "      <td>0.000000</td>\n",
       "      <td>96</td>\n",
       "      <td>0</td>\n",
       "    </tr>\n",
       "    <tr>\n",
       "      <th>2781648</th>\n",
       "      <td>35167666</td>\n",
       "      <td>Mr. Keynes and the &amp;quot;Classics&amp;quot;</td>\n",
       "      <td>The record of the thirties, in major works on ...</td>\n",
       "      <td>https://en.wikipedia.org/wiki?curid=56889606</td>\n",
       "      <td>56889606</td>\n",
       "      <td>0.000000</td>\n",
       "      <td>97</td>\n",
       "      <td>0</td>\n",
       "    </tr>\n",
       "    <tr>\n",
       "      <th>2781649</th>\n",
       "      <td>35167676</td>\n",
       "      <td>Mr. Keynes and the &amp;quot;Classics&amp;quot;</td>\n",
       "      <td>Hicks himself retracted his support for the \"I...</td>\n",
       "      <td>https://en.wikipedia.org/wiki?curid=56889606</td>\n",
       "      <td>56889606</td>\n",
       "      <td>0.000000</td>\n",
       "      <td>98</td>\n",
       "      <td>0</td>\n",
       "    </tr>\n",
       "    <tr>\n",
       "      <th>2781650</th>\n",
       "      <td>35167686</td>\n",
       "      <td>Mr. Keynes and the &amp;quot;Classics&amp;quot;</td>\n",
       "      <td>The argument of this paper is hard to follow a...</td>\n",
       "      <td>https://en.wikipedia.org/wiki?curid=56889606</td>\n",
       "      <td>56889606</td>\n",
       "      <td>0.000000</td>\n",
       "      <td>99</td>\n",
       "      <td>0</td>\n",
       "    </tr>\n",
       "    <tr>\n",
       "      <th>2781651</th>\n",
       "      <td>35167696</td>\n",
       "      <td>Mr. Keynes and the &amp;quot;Classics&amp;quot;</td>\n",
       "      <td>...came to explain why he had become increasin...</td>\n",
       "      <td>https://en.wikipedia.org/wiki?curid=56889606</td>\n",
       "      <td>56889606</td>\n",
       "      <td>0.000000</td>\n",
       "      <td>100</td>\n",
       "      <td>0</td>\n",
       "    </tr>\n",
       "  </tbody>\n",
       "</table>\n",
       "<p>2781652 rows × 8 columns</p>\n",
       "</div>"
      ],
      "text/plain": [
       "               id                                    title   \n",
       "0            5443                         Google Translate  \\\n",
       "1            5444                         Google Translate   \n",
       "2            5445                         Google Translate   \n",
       "3            5446                         Google Translate   \n",
       "4            5447                         Google Translate   \n",
       "...           ...                                      ...   \n",
       "2781647  35167656  Mr. Keynes and the &quot;Classics&quot;   \n",
       "2781648  35167666  Mr. Keynes and the &quot;Classics&quot;   \n",
       "2781649  35167676  Mr. Keynes and the &quot;Classics&quot;   \n",
       "2781650  35167686  Mr. Keynes and the &quot;Classics&quot;   \n",
       "2781651  35167696  Mr. Keynes and the &quot;Classics&quot;   \n",
       "\n",
       "                                                      text   \n",
       "0        Google Translate is a multilingual neural mach...  \\\n",
       "1        Launched in April 2006 as a statistical machin...   \n",
       "2        Google Translate is a web-based free-to-user t...   \n",
       "3        Originally, Google Translate was released as a...   \n",
       "4        In January 2010, Google introduced an Android ...   \n",
       "...                                                    ...   \n",
       "2781647  The charge against Hicks that he paid little a...   \n",
       "2781648  The record of the thirties, in major works on ...   \n",
       "2781649  Hicks himself retracted his support for the \"I...   \n",
       "2781650  The argument of this paper is hard to follow a...   \n",
       "2781651  ...came to explain why he had become increasin...   \n",
       "\n",
       "                                                  url   wiki_id        views   \n",
       "0         https://en.wikipedia.org/wiki?curid=3235536   3235536  4305.652832  \\\n",
       "1         https://en.wikipedia.org/wiki?curid=3235536   3235536  4305.652832   \n",
       "2         https://en.wikipedia.org/wiki?curid=3235536   3235536  4305.652832   \n",
       "3         https://en.wikipedia.org/wiki?curid=3235536   3235536  4305.652832   \n",
       "4         https://en.wikipedia.org/wiki?curid=3235536   3235536  4305.652832   \n",
       "...                                               ...       ...          ...   \n",
       "2781647  https://en.wikipedia.org/wiki?curid=56889606  56889606     0.000000   \n",
       "2781648  https://en.wikipedia.org/wiki?curid=56889606  56889606     0.000000   \n",
       "2781649  https://en.wikipedia.org/wiki?curid=56889606  56889606     0.000000   \n",
       "2781650  https://en.wikipedia.org/wiki?curid=56889606  56889606     0.000000   \n",
       "2781651  https://en.wikipedia.org/wiki?curid=56889606  56889606     0.000000   \n",
       "\n",
       "         paragraph_id  langs  \n",
       "0                   0     97  \n",
       "1                   1     97  \n",
       "2                   2     97  \n",
       "3                   3     97  \n",
       "4                   4     97  \n",
       "...               ...    ...  \n",
       "2781647            96      0  \n",
       "2781648            97      0  \n",
       "2781649            98      0  \n",
       "2781650            99      0  \n",
       "2781651           100      0  \n",
       "\n",
       "[2781652 rows x 8 columns]"
      ]
     },
     "execution_count": 12,
     "metadata": {},
     "output_type": "execute_result"
    }
   ],
   "source": [
    "df"
   ]
  },
  {
   "cell_type": "code",
   "execution_count": 17,
   "id": "33bb54a4-d317-4d42-b5f5-068a531e673b",
   "metadata": {
    "tags": []
   },
   "outputs": [],
   "source": [
    "race = pd.read_csv('./data/RACE_with_context_original.csv')"
   ]
  },
  {
   "cell_type": "code",
   "execution_count": 20,
   "id": "e414a757-ccef-4e3e-9c36-d85a88361c68",
   "metadata": {
    "tags": []
   },
   "outputs": [
    {
     "data": {
      "text/plain": [
       "'Last week I talked with some of my students about what they wanted to do after they graduated, and what kind of job prospects  they thought they had.\\nGiven that I teach students who are training to be doctors, I was surprised do find that most thought that they would not be able to get the jobs they wanted without \"outside help\". \"What kind of help is that?\" I asked, expecting them to tell me that they would need a   or family friend to help them out.\\n\"Surgery ,\" one replied.\\nI was pretty alarmed by that response. It seems that the graduates of today are increasingly willing to go under the knife to get ahead of others when it comes to getting a job .\\nOne girl told me that she was considering surgery to increase her height. \"They break your legs, put in special extending screws, and slowly expand the gap between the two ends of the bone as it re-grows, you can get at least 5 cm taller!\"\\nAt that point, I was shocked. I am short, I can\\'t deny that, but I don\\'t think I would put myself through months of agony just to be a few centimetres taller. I don\\'t even bother to wear shoes with thick soles, as I\\'m not trying to hide the fact that I am just not tall!\\nIt seems to me that there is a trend towards wanting \"perfection\" , and that is an ideal that just does not exist in reality.\\nNo one is born perfect, yet magazines, TV shows and movies present images of thin, tall, beautiful people as being the norm. Advertisements for slimming aids, beauty treatments and cosmetic surgery clinics fill the pages of newspapers, further creating an idea that \"perfection\" is a requirement, and that it must be purchased, no matter what the cost. In my opinion, skills, rather than appearance, should determine how successful a person is in his/her chosen career.'"
      ]
     },
     "execution_count": 20,
     "metadata": {},
     "output_type": "execute_result"
    }
   ],
   "source": [
    "race.loc[0,'context']"
   ]
  },
  {
   "cell_type": "code",
   "execution_count": 1,
   "id": "12315832-ee7f-4485-a7f3-238a4d118be0",
   "metadata": {},
   "outputs": [],
   "source": [
    "import pandas as pd\n",
    "trn1 = pd.read_csv('./data/新8w数据.csv')\n",
    "trn2 = pd.read_csv('./data/7w8_crawl_dataset.csv')"
   ]
  },
  {
   "cell_type": "code",
   "execution_count": 4,
   "id": "796c4fe7-47e3-41f1-ab95-c35a4c71dd39",
   "metadata": {
    "tags": []
   },
   "outputs": [],
   "source": [
    "trn = pd.concat([trn1, trn2],axis=0).reset_index(drop=True)"
   ]
  },
  {
   "cell_type": "code",
   "execution_count": 5,
   "id": "bdb4e5b9-7e50-4d73-a6a6-483cd3b07117",
   "metadata": {
    "tags": []
   },
   "outputs": [
    {
     "data": {
      "text/html": [
       "<div>\n",
       "<style scoped>\n",
       "    .dataframe tbody tr th:only-of-type {\n",
       "        vertical-align: middle;\n",
       "    }\n",
       "\n",
       "    .dataframe tbody tr th {\n",
       "        vertical-align: top;\n",
       "    }\n",
       "\n",
       "    .dataframe thead th {\n",
       "        text-align: right;\n",
       "    }\n",
       "</style>\n",
       "<table border=\"1\" class=\"dataframe\">\n",
       "  <thead>\n",
       "    <tr style=\"text-align: right;\">\n",
       "      <th></th>\n",
       "      <th>Unnamed: 0</th>\n",
       "      <th>prompt</th>\n",
       "      <th>A</th>\n",
       "      <th>B</th>\n",
       "      <th>C</th>\n",
       "      <th>D</th>\n",
       "      <th>E</th>\n",
       "      <th>answer</th>\n",
       "      <th>wiki_text</th>\n",
       "      <th>page_title</th>\n",
       "      <th>section</th>\n",
       "      <th>id</th>\n",
       "      <th>page_id</th>\n",
       "      <th>stem_label</th>\n",
       "      <th>prompt_answer</th>\n",
       "    </tr>\n",
       "  </thead>\n",
       "  <tbody>\n",
       "    <tr>\n",
       "      <th>0</th>\n",
       "      <td>0</td>\n",
       "      <td>What is the main focus of Russell Epstein's re...</td>\n",
       "      <td>Neural mechanisms of language processing</td>\n",
       "      <td>Neural mechanisms underlying visual scene perc...</td>\n",
       "      <td>Neural mechanisms of memory formation</td>\n",
       "      <td>Neural mechanisms of motor control</td>\n",
       "      <td>Neural mechanisms of emotional processing</td>\n",
       "      <td>B</td>\n",
       "      <td>Russell Epstein is a professor of psychology a...</td>\n",
       "      <td>Russell Epstein</td>\n",
       "      <td>Russell Epstein</td>\n",
       "      <td>NaN</td>\n",
       "      <td>NaN</td>\n",
       "      <td>NaN</td>\n",
       "      <td>NaN</td>\n",
       "    </tr>\n",
       "    <tr>\n",
       "      <th>1</th>\n",
       "      <td>1</td>\n",
       "      <td>Which brain areas does Russell Epstein's lab s...</td>\n",
       "      <td>Prefrontal cortex and hippocampus</td>\n",
       "      <td>Parahippocampal and retrosplenial cortices</td>\n",
       "      <td>Motor cortex and cerebellum</td>\n",
       "      <td>Amygdala and thalamus</td>\n",
       "      <td>Visual cortex and auditory cortex</td>\n",
       "      <td>B</td>\n",
       "      <td>Russell Epstein is a professor of psychology a...</td>\n",
       "      <td>Russell Epstein</td>\n",
       "      <td>Russell Epstein</td>\n",
       "      <td>NaN</td>\n",
       "      <td>NaN</td>\n",
       "      <td>NaN</td>\n",
       "      <td>NaN</td>\n",
       "    </tr>\n",
       "    <tr>\n",
       "      <th>2</th>\n",
       "      <td>2</td>\n",
       "      <td>What is the role of the Parahippocampal and re...</td>\n",
       "      <td>Motor control</td>\n",
       "      <td>Emotional processing</td>\n",
       "      <td>Visual scene perception</td>\n",
       "      <td>Spatial navigation</td>\n",
       "      <td>Language processing</td>\n",
       "      <td>D</td>\n",
       "      <td>Russell Epstein is a professor of psychology a...</td>\n",
       "      <td>Russell Epstein</td>\n",
       "      <td>Russell Epstein</td>\n",
       "      <td>NaN</td>\n",
       "      <td>NaN</td>\n",
       "      <td>NaN</td>\n",
       "      <td>NaN</td>\n",
       "    </tr>\n",
       "    <tr>\n",
       "      <th>3</th>\n",
       "      <td>3</td>\n",
       "      <td>Where did Epstein receive his undergraduate de...</td>\n",
       "      <td>University of Chicago</td>\n",
       "      <td>Harvard</td>\n",
       "      <td>Stanford</td>\n",
       "      <td>MIT</td>\n",
       "      <td>Columbia</td>\n",
       "      <td>A</td>\n",
       "      <td>Epstein received an undergraduate degree in ph...</td>\n",
       "      <td>Russell Epstein</td>\n",
       "      <td>Education</td>\n",
       "      <td>NaN</td>\n",
       "      <td>NaN</td>\n",
       "      <td>NaN</td>\n",
       "      <td>NaN</td>\n",
       "    </tr>\n",
       "    <tr>\n",
       "      <th>4</th>\n",
       "      <td>4</td>\n",
       "      <td>Who was E...n of Computer Vision?</td>\n",
       "      <td>Alan Turing</td>\n",
       "      <td>Alan Yuille</td>\n",
       "      <td>Marvin Minsky</td>\n",
       "      <td>Geoffrey Hinton</td>\n",
       "      <td>Yann LeCun</td>\n",
       "      <td>B</td>\n",
       "      <td>Epstein received an undergraduate degree in ph...</td>\n",
       "      <td>Russell Epstein</td>\n",
       "      <td>Education</td>\n",
       "      <td>NaN</td>\n",
       "      <td>NaN</td>\n",
       "      <td>NaN</td>\n",
       "      <td>NaN</td>\n",
       "    </tr>\n",
       "    <tr>\n",
       "      <th>...</th>\n",
       "      <td>...</td>\n",
       "      <td>...</td>\n",
       "      <td>...</td>\n",
       "      <td>...</td>\n",
       "      <td>...</td>\n",
       "      <td>...</td>\n",
       "      <td>...</td>\n",
       "      <td>...</td>\n",
       "      <td>...</td>\n",
       "      <td>...</td>\n",
       "      <td>...</td>\n",
       "      <td>...</td>\n",
       "      <td>...</td>\n",
       "      <td>...</td>\n",
       "      <td>...</td>\n",
       "    </tr>\n",
       "    <tr>\n",
       "      <th>158734</th>\n",
       "      <td>78003</td>\n",
       "      <td>What is the inscription on the plinth of the a...</td>\n",
       "      <td>Rotary Armillary</td>\n",
       "      <td>Service Above Self</td>\n",
       "      <td>This Armillary was presented to the people of ...</td>\n",
       "      <td>The Rotary Club of Cheam has joined with the R...</td>\n",
       "      <td>December 2000</td>\n",
       "      <td>B</td>\n",
       "      <td>The Millennium Dial Armillary is one of six pi...</td>\n",
       "      <td>Sutton armillary</td>\n",
       "      <td>NaN</td>\n",
       "      <td>78140.0</td>\n",
       "      <td>43629419.0</td>\n",
       "      <td>M</td>\n",
       "      <td>What is the inscription on the plinth of the a...</td>\n",
       "    </tr>\n",
       "    <tr>\n",
       "      <th>158735</th>\n",
       "      <td>78004</td>\n",
       "      <td>How was the Millennium Dial Armillary funded?</td>\n",
       "      <td>By the London Borough of Sutton</td>\n",
       "      <td>By the Rotary Club</td>\n",
       "      <td>By the sponsors listed on the plinth inscription</td>\n",
       "      <td>By the residents of Sutton</td>\n",
       "      <td>By a joint effort between the Rotary Club and ...</td>\n",
       "      <td>C</td>\n",
       "      <td>The Millennium Dial Armillary is one of six pi...</td>\n",
       "      <td>Sutton armillary</td>\n",
       "      <td>NaN</td>\n",
       "      <td>78141.0</td>\n",
       "      <td>43629419.0</td>\n",
       "      <td>M</td>\n",
       "      <td>How was the Millennium Dial Armillary funded? ...</td>\n",
       "    </tr>\n",
       "    <tr>\n",
       "      <th>158736</th>\n",
       "      <td>78005</td>\n",
       "      <td>What is the Ukrainian Physicists' Tournament f...</td>\n",
       "      <td>A competition for secondary school students to...</td>\n",
       "      <td>A competition for university students to solve...</td>\n",
       "      <td>A competition for international physicists to ...</td>\n",
       "      <td>A research project competition for university ...</td>\n",
       "      <td>A creative team competition for university stu...</td>\n",
       "      <td>E</td>\n",
       "      <td>Ukrainian Physicists' Tournament for Universit...</td>\n",
       "      <td>Ukrainian Physicists' Tournament for Universit...</td>\n",
       "      <td>NaN</td>\n",
       "      <td>78142.0</td>\n",
       "      <td>14320529.0</td>\n",
       "      <td>M</td>\n",
       "      <td>What is the Ukrainian Physicists' Tournament f...</td>\n",
       "    </tr>\n",
       "    <tr>\n",
       "      <th>158737</th>\n",
       "      <td>78006</td>\n",
       "      <td>When was the first Open Physicists' Tournament...</td>\n",
       "      <td>2001</td>\n",
       "      <td>2005</td>\n",
       "      <td>2010</td>\n",
       "      <td>2015</td>\n",
       "      <td>2020</td>\n",
       "      <td>A</td>\n",
       "      <td>Ukrainian Physicists' Tournament for Universit...</td>\n",
       "      <td>Ukrainian Physicists' Tournament for Universit...</td>\n",
       "      <td>NaN</td>\n",
       "      <td>78143.0</td>\n",
       "      <td>14320529.0</td>\n",
       "      <td>M</td>\n",
       "      <td>When was the first Open Physicists' Tournament...</td>\n",
       "    </tr>\n",
       "    <tr>\n",
       "      <th>158738</th>\n",
       "      <td>78007</td>\n",
       "      <td>What is the International Physicists' Tournament?</td>\n",
       "      <td>A tournament for Ukrainian physicists to compe...</td>\n",
       "      <td>A tournament for university students to compet...</td>\n",
       "      <td>A research project competition for internation...</td>\n",
       "      <td>A continuation of school Tournaments of Young ...</td>\n",
       "      <td>A creative team competition for international ...</td>\n",
       "      <td>B</td>\n",
       "      <td>Ukrainian Physicists' Tournament for Universit...</td>\n",
       "      <td>Ukrainian Physicists' Tournament for Universit...</td>\n",
       "      <td>NaN</td>\n",
       "      <td>78144.0</td>\n",
       "      <td>14320529.0</td>\n",
       "      <td>M</td>\n",
       "      <td>What is the International Physicists' Tourname...</td>\n",
       "    </tr>\n",
       "  </tbody>\n",
       "</table>\n",
       "<p>158739 rows × 15 columns</p>\n",
       "</div>"
      ],
      "text/plain": [
       "        Unnamed: 0                                             prompt   \n",
       "0                0  What is the main focus of Russell Epstein's re...  \\\n",
       "1                1  Which brain areas does Russell Epstein's lab s...   \n",
       "2                2  What is the role of the Parahippocampal and re...   \n",
       "3                3  Where did Epstein receive his undergraduate de...   \n",
       "4                4                  Who was E...n of Computer Vision?   \n",
       "...            ...                                                ...   \n",
       "158734       78003  What is the inscription on the plinth of the a...   \n",
       "158735       78004      How was the Millennium Dial Armillary funded?   \n",
       "158736       78005  What is the Ukrainian Physicists' Tournament f...   \n",
       "158737       78006  When was the first Open Physicists' Tournament...   \n",
       "158738       78007  What is the International Physicists' Tournament?   \n",
       "\n",
       "                                                        A   \n",
       "0                Neural mechanisms of language processing  \\\n",
       "1                       Prefrontal cortex and hippocampus   \n",
       "2                                           Motor control   \n",
       "3                                   University of Chicago   \n",
       "4                                             Alan Turing   \n",
       "...                                                   ...   \n",
       "158734                                   Rotary Armillary   \n",
       "158735                    By the London Borough of Sutton   \n",
       "158736  A competition for secondary school students to...   \n",
       "158737                                               2001   \n",
       "158738  A tournament for Ukrainian physicists to compe...   \n",
       "\n",
       "                                                        B   \n",
       "0       Neural mechanisms underlying visual scene perc...  \\\n",
       "1              Parahippocampal and retrosplenial cortices   \n",
       "2                                    Emotional processing   \n",
       "3                                                 Harvard   \n",
       "4                                             Alan Yuille   \n",
       "...                                                   ...   \n",
       "158734                                 Service Above Self   \n",
       "158735                                 By the Rotary Club   \n",
       "158736  A competition for university students to solve...   \n",
       "158737                                               2005   \n",
       "158738  A tournament for university students to compet...   \n",
       "\n",
       "                                                        C   \n",
       "0                   Neural mechanisms of memory formation  \\\n",
       "1                             Motor cortex and cerebellum   \n",
       "2                                 Visual scene perception   \n",
       "3                                                Stanford   \n",
       "4                                           Marvin Minsky   \n",
       "...                                                   ...   \n",
       "158734  This Armillary was presented to the people of ...   \n",
       "158735   By the sponsors listed on the plinth inscription   \n",
       "158736  A competition for international physicists to ...   \n",
       "158737                                               2010   \n",
       "158738  A research project competition for internation...   \n",
       "\n",
       "                                                        D   \n",
       "0                      Neural mechanisms of motor control  \\\n",
       "1                                   Amygdala and thalamus   \n",
       "2                                      Spatial navigation   \n",
       "3                                                     MIT   \n",
       "4                                         Geoffrey Hinton   \n",
       "...                                                   ...   \n",
       "158734  The Rotary Club of Cheam has joined with the R...   \n",
       "158735                         By the residents of Sutton   \n",
       "158736  A research project competition for university ...   \n",
       "158737                                               2015   \n",
       "158738  A continuation of school Tournaments of Young ...   \n",
       "\n",
       "                                                        E answer   \n",
       "0               Neural mechanisms of emotional processing      B  \\\n",
       "1                       Visual cortex and auditory cortex      B   \n",
       "2                                     Language processing      D   \n",
       "3                                                Columbia      A   \n",
       "4                                              Yann LeCun      B   \n",
       "...                                                   ...    ...   \n",
       "158734                                      December 2000      B   \n",
       "158735  By a joint effort between the Rotary Club and ...      C   \n",
       "158736  A creative team competition for university stu...      E   \n",
       "158737                                               2020      A   \n",
       "158738  A creative team competition for international ...      B   \n",
       "\n",
       "                                                wiki_text   \n",
       "0       Russell Epstein is a professor of psychology a...  \\\n",
       "1       Russell Epstein is a professor of psychology a...   \n",
       "2       Russell Epstein is a professor of psychology a...   \n",
       "3       Epstein received an undergraduate degree in ph...   \n",
       "4       Epstein received an undergraduate degree in ph...   \n",
       "...                                                   ...   \n",
       "158734  The Millennium Dial Armillary is one of six pi...   \n",
       "158735  The Millennium Dial Armillary is one of six pi...   \n",
       "158736  Ukrainian Physicists' Tournament for Universit...   \n",
       "158737  Ukrainian Physicists' Tournament for Universit...   \n",
       "158738  Ukrainian Physicists' Tournament for Universit...   \n",
       "\n",
       "                                               page_title          section   \n",
       "0                                         Russell Epstein  Russell Epstein  \\\n",
       "1                                         Russell Epstein  Russell Epstein   \n",
       "2                                         Russell Epstein  Russell Epstein   \n",
       "3                                         Russell Epstein        Education   \n",
       "4                                         Russell Epstein        Education   \n",
       "...                                                   ...              ...   \n",
       "158734                                   Sutton armillary              NaN   \n",
       "158735                                   Sutton armillary              NaN   \n",
       "158736  Ukrainian Physicists' Tournament for Universit...              NaN   \n",
       "158737  Ukrainian Physicists' Tournament for Universit...              NaN   \n",
       "158738  Ukrainian Physicists' Tournament for Universit...              NaN   \n",
       "\n",
       "             id     page_id stem_label   \n",
       "0           NaN         NaN        NaN  \\\n",
       "1           NaN         NaN        NaN   \n",
       "2           NaN         NaN        NaN   \n",
       "3           NaN         NaN        NaN   \n",
       "4           NaN         NaN        NaN   \n",
       "...         ...         ...        ...   \n",
       "158734  78140.0  43629419.0          M   \n",
       "158735  78141.0  43629419.0          M   \n",
       "158736  78142.0  14320529.0          M   \n",
       "158737  78143.0  14320529.0          M   \n",
       "158738  78144.0  14320529.0          M   \n",
       "\n",
       "                                            prompt_answer  \n",
       "0                                                     NaN  \n",
       "1                                                     NaN  \n",
       "2                                                     NaN  \n",
       "3                                                     NaN  \n",
       "4                                                     NaN  \n",
       "...                                                   ...  \n",
       "158734  What is the inscription on the plinth of the a...  \n",
       "158735  How was the Millennium Dial Armillary funded? ...  \n",
       "158736  What is the Ukrainian Physicists' Tournament f...  \n",
       "158737  When was the first Open Physicists' Tournament...  \n",
       "158738  What is the International Physicists' Tourname...  \n",
       "\n",
       "[158739 rows x 15 columns]"
      ]
     },
     "execution_count": 5,
     "metadata": {},
     "output_type": "execute_result"
    }
   ],
   "source": [
    "trn"
   ]
  },
  {
   "cell_type": "code",
   "execution_count": 8,
   "id": "2cdedd19-8404-4b83-bf46-fce462c28dbf",
   "metadata": {
    "tags": []
   },
   "outputs": [
    {
     "data": {
      "text/html": [
       "<div>\n",
       "<style scoped>\n",
       "    .dataframe tbody tr th:only-of-type {\n",
       "        vertical-align: middle;\n",
       "    }\n",
       "\n",
       "    .dataframe tbody tr th {\n",
       "        vertical-align: top;\n",
       "    }\n",
       "\n",
       "    .dataframe thead th {\n",
       "        text-align: right;\n",
       "    }\n",
       "</style>\n",
       "<table border=\"1\" class=\"dataframe\">\n",
       "  <thead>\n",
       "    <tr style=\"text-align: right;\">\n",
       "      <th></th>\n",
       "      <th>Unnamed: 0</th>\n",
       "      <th>prompt</th>\n",
       "      <th>A</th>\n",
       "      <th>B</th>\n",
       "      <th>C</th>\n",
       "      <th>D</th>\n",
       "      <th>E</th>\n",
       "      <th>answer</th>\n",
       "      <th>wiki_text</th>\n",
       "      <th>page_title</th>\n",
       "      <th>section</th>\n",
       "      <th>id</th>\n",
       "      <th>page_id</th>\n",
       "      <th>stem_label</th>\n",
       "      <th>prompt_answer</th>\n",
       "    </tr>\n",
       "  </thead>\n",
       "  <tbody>\n",
       "    <tr>\n",
       "      <th>0</th>\n",
       "      <td>0</td>\n",
       "      <td>What is the main focus of Russell Epstein's re...</td>\n",
       "      <td>Neural mechanisms of language processing</td>\n",
       "      <td>Neural mechanisms underlying visual scene perc...</td>\n",
       "      <td>Neural mechanisms of memory formation</td>\n",
       "      <td>Neural mechanisms of motor control</td>\n",
       "      <td>Neural mechanisms of emotional processing</td>\n",
       "      <td>B</td>\n",
       "      <td>Russell Epstein is a professor of psychology a...</td>\n",
       "      <td>Russell Epstein</td>\n",
       "      <td>Russell Epstein</td>\n",
       "      <td>NaN</td>\n",
       "      <td>NaN</td>\n",
       "      <td>NaN</td>\n",
       "      <td>NaN</td>\n",
       "    </tr>\n",
       "    <tr>\n",
       "      <th>1</th>\n",
       "      <td>1</td>\n",
       "      <td>Which brain areas does Russell Epstein's lab s...</td>\n",
       "      <td>Prefrontal cortex and hippocampus</td>\n",
       "      <td>Parahippocampal and retrosplenial cortices</td>\n",
       "      <td>Motor cortex and cerebellum</td>\n",
       "      <td>Amygdala and thalamus</td>\n",
       "      <td>Visual cortex and auditory cortex</td>\n",
       "      <td>B</td>\n",
       "      <td>Russell Epstein is a professor of psychology a...</td>\n",
       "      <td>Russell Epstein</td>\n",
       "      <td>Russell Epstein</td>\n",
       "      <td>NaN</td>\n",
       "      <td>NaN</td>\n",
       "      <td>NaN</td>\n",
       "      <td>NaN</td>\n",
       "    </tr>\n",
       "    <tr>\n",
       "      <th>2</th>\n",
       "      <td>2</td>\n",
       "      <td>What is the role of the Parahippocampal and re...</td>\n",
       "      <td>Motor control</td>\n",
       "      <td>Emotional processing</td>\n",
       "      <td>Visual scene perception</td>\n",
       "      <td>Spatial navigation</td>\n",
       "      <td>Language processing</td>\n",
       "      <td>D</td>\n",
       "      <td>Russell Epstein is a professor of psychology a...</td>\n",
       "      <td>Russell Epstein</td>\n",
       "      <td>Russell Epstein</td>\n",
       "      <td>NaN</td>\n",
       "      <td>NaN</td>\n",
       "      <td>NaN</td>\n",
       "      <td>NaN</td>\n",
       "    </tr>\n",
       "    <tr>\n",
       "      <th>3</th>\n",
       "      <td>3</td>\n",
       "      <td>Where did Epstein receive his undergraduate de...</td>\n",
       "      <td>University of Chicago</td>\n",
       "      <td>Harvard</td>\n",
       "      <td>Stanford</td>\n",
       "      <td>MIT</td>\n",
       "      <td>Columbia</td>\n",
       "      <td>A</td>\n",
       "      <td>Epstein received an undergraduate degree in ph...</td>\n",
       "      <td>Russell Epstein</td>\n",
       "      <td>Education</td>\n",
       "      <td>NaN</td>\n",
       "      <td>NaN</td>\n",
       "      <td>NaN</td>\n",
       "      <td>NaN</td>\n",
       "    </tr>\n",
       "    <tr>\n",
       "      <th>4</th>\n",
       "      <td>4</td>\n",
       "      <td>Who was E...n of Computer Vision?</td>\n",
       "      <td>Alan Turing</td>\n",
       "      <td>Alan Yuille</td>\n",
       "      <td>Marvin Minsky</td>\n",
       "      <td>Geoffrey Hinton</td>\n",
       "      <td>Yann LeCun</td>\n",
       "      <td>B</td>\n",
       "      <td>Epstein received an undergraduate degree in ph...</td>\n",
       "      <td>Russell Epstein</td>\n",
       "      <td>Education</td>\n",
       "      <td>NaN</td>\n",
       "      <td>NaN</td>\n",
       "      <td>NaN</td>\n",
       "      <td>NaN</td>\n",
       "    </tr>\n",
       "    <tr>\n",
       "      <th>...</th>\n",
       "      <td>...</td>\n",
       "      <td>...</td>\n",
       "      <td>...</td>\n",
       "      <td>...</td>\n",
       "      <td>...</td>\n",
       "      <td>...</td>\n",
       "      <td>...</td>\n",
       "      <td>...</td>\n",
       "      <td>...</td>\n",
       "      <td>...</td>\n",
       "      <td>...</td>\n",
       "      <td>...</td>\n",
       "      <td>...</td>\n",
       "      <td>...</td>\n",
       "      <td>...</td>\n",
       "    </tr>\n",
       "    <tr>\n",
       "      <th>158612</th>\n",
       "      <td>78003</td>\n",
       "      <td>What is the inscription on the plinth of the a...</td>\n",
       "      <td>Rotary Armillary</td>\n",
       "      <td>Service Above Self</td>\n",
       "      <td>This Armillary was presented to the people of ...</td>\n",
       "      <td>The Rotary Club of Cheam has joined with the R...</td>\n",
       "      <td>December 2000</td>\n",
       "      <td>B</td>\n",
       "      <td>The Millennium Dial Armillary is one of six pi...</td>\n",
       "      <td>Sutton armillary</td>\n",
       "      <td>NaN</td>\n",
       "      <td>78140.0</td>\n",
       "      <td>43629419.0</td>\n",
       "      <td>M</td>\n",
       "      <td>What is the inscription on the plinth of the a...</td>\n",
       "    </tr>\n",
       "    <tr>\n",
       "      <th>158613</th>\n",
       "      <td>78004</td>\n",
       "      <td>How was the Millennium Dial Armillary funded?</td>\n",
       "      <td>By the London Borough of Sutton</td>\n",
       "      <td>By the Rotary Club</td>\n",
       "      <td>By the sponsors listed on the plinth inscription</td>\n",
       "      <td>By the residents of Sutton</td>\n",
       "      <td>By a joint effort between the Rotary Club and ...</td>\n",
       "      <td>C</td>\n",
       "      <td>The Millennium Dial Armillary is one of six pi...</td>\n",
       "      <td>Sutton armillary</td>\n",
       "      <td>NaN</td>\n",
       "      <td>78141.0</td>\n",
       "      <td>43629419.0</td>\n",
       "      <td>M</td>\n",
       "      <td>How was the Millennium Dial Armillary funded? ...</td>\n",
       "    </tr>\n",
       "    <tr>\n",
       "      <th>158614</th>\n",
       "      <td>78005</td>\n",
       "      <td>What is the Ukrainian Physicists' Tournament f...</td>\n",
       "      <td>A competition for secondary school students to...</td>\n",
       "      <td>A competition for university students to solve...</td>\n",
       "      <td>A competition for international physicists to ...</td>\n",
       "      <td>A research project competition for university ...</td>\n",
       "      <td>A creative team competition for university stu...</td>\n",
       "      <td>E</td>\n",
       "      <td>Ukrainian Physicists' Tournament for Universit...</td>\n",
       "      <td>Ukrainian Physicists' Tournament for Universit...</td>\n",
       "      <td>NaN</td>\n",
       "      <td>78142.0</td>\n",
       "      <td>14320529.0</td>\n",
       "      <td>M</td>\n",
       "      <td>What is the Ukrainian Physicists' Tournament f...</td>\n",
       "    </tr>\n",
       "    <tr>\n",
       "      <th>158615</th>\n",
       "      <td>78006</td>\n",
       "      <td>When was the first Open Physicists' Tournament...</td>\n",
       "      <td>2001</td>\n",
       "      <td>2005</td>\n",
       "      <td>2010</td>\n",
       "      <td>2015</td>\n",
       "      <td>2020</td>\n",
       "      <td>A</td>\n",
       "      <td>Ukrainian Physicists' Tournament for Universit...</td>\n",
       "      <td>Ukrainian Physicists' Tournament for Universit...</td>\n",
       "      <td>NaN</td>\n",
       "      <td>78143.0</td>\n",
       "      <td>14320529.0</td>\n",
       "      <td>M</td>\n",
       "      <td>When was the first Open Physicists' Tournament...</td>\n",
       "    </tr>\n",
       "    <tr>\n",
       "      <th>158616</th>\n",
       "      <td>78007</td>\n",
       "      <td>What is the International Physicists' Tournament?</td>\n",
       "      <td>A tournament for Ukrainian physicists to compe...</td>\n",
       "      <td>A tournament for university students to compet...</td>\n",
       "      <td>A research project competition for internation...</td>\n",
       "      <td>A continuation of school Tournaments of Young ...</td>\n",
       "      <td>A creative team competition for international ...</td>\n",
       "      <td>B</td>\n",
       "      <td>Ukrainian Physicists' Tournament for Universit...</td>\n",
       "      <td>Ukrainian Physicists' Tournament for Universit...</td>\n",
       "      <td>NaN</td>\n",
       "      <td>78144.0</td>\n",
       "      <td>14320529.0</td>\n",
       "      <td>M</td>\n",
       "      <td>What is the International Physicists' Tourname...</td>\n",
       "    </tr>\n",
       "  </tbody>\n",
       "</table>\n",
       "<p>158617 rows × 15 columns</p>\n",
       "</div>"
      ],
      "text/plain": [
       "        Unnamed: 0                                             prompt   \n",
       "0                0  What is the main focus of Russell Epstein's re...  \\\n",
       "1                1  Which brain areas does Russell Epstein's lab s...   \n",
       "2                2  What is the role of the Parahippocampal and re...   \n",
       "3                3  Where did Epstein receive his undergraduate de...   \n",
       "4                4                  Who was E...n of Computer Vision?   \n",
       "...            ...                                                ...   \n",
       "158612       78003  What is the inscription on the plinth of the a...   \n",
       "158613       78004      How was the Millennium Dial Armillary funded?   \n",
       "158614       78005  What is the Ukrainian Physicists' Tournament f...   \n",
       "158615       78006  When was the first Open Physicists' Tournament...   \n",
       "158616       78007  What is the International Physicists' Tournament?   \n",
       "\n",
       "                                                        A   \n",
       "0                Neural mechanisms of language processing  \\\n",
       "1                       Prefrontal cortex and hippocampus   \n",
       "2                                           Motor control   \n",
       "3                                   University of Chicago   \n",
       "4                                             Alan Turing   \n",
       "...                                                   ...   \n",
       "158612                                   Rotary Armillary   \n",
       "158613                    By the London Borough of Sutton   \n",
       "158614  A competition for secondary school students to...   \n",
       "158615                                               2001   \n",
       "158616  A tournament for Ukrainian physicists to compe...   \n",
       "\n",
       "                                                        B   \n",
       "0       Neural mechanisms underlying visual scene perc...  \\\n",
       "1              Parahippocampal and retrosplenial cortices   \n",
       "2                                    Emotional processing   \n",
       "3                                                 Harvard   \n",
       "4                                             Alan Yuille   \n",
       "...                                                   ...   \n",
       "158612                                 Service Above Self   \n",
       "158613                                 By the Rotary Club   \n",
       "158614  A competition for university students to solve...   \n",
       "158615                                               2005   \n",
       "158616  A tournament for university students to compet...   \n",
       "\n",
       "                                                        C   \n",
       "0                   Neural mechanisms of memory formation  \\\n",
       "1                             Motor cortex and cerebellum   \n",
       "2                                 Visual scene perception   \n",
       "3                                                Stanford   \n",
       "4                                           Marvin Minsky   \n",
       "...                                                   ...   \n",
       "158612  This Armillary was presented to the people of ...   \n",
       "158613   By the sponsors listed on the plinth inscription   \n",
       "158614  A competition for international physicists to ...   \n",
       "158615                                               2010   \n",
       "158616  A research project competition for internation...   \n",
       "\n",
       "                                                        D   \n",
       "0                      Neural mechanisms of motor control  \\\n",
       "1                                   Amygdala and thalamus   \n",
       "2                                      Spatial navigation   \n",
       "3                                                     MIT   \n",
       "4                                         Geoffrey Hinton   \n",
       "...                                                   ...   \n",
       "158612  The Rotary Club of Cheam has joined with the R...   \n",
       "158613                         By the residents of Sutton   \n",
       "158614  A research project competition for university ...   \n",
       "158615                                               2015   \n",
       "158616  A continuation of school Tournaments of Young ...   \n",
       "\n",
       "                                                        E answer   \n",
       "0               Neural mechanisms of emotional processing      B  \\\n",
       "1                       Visual cortex and auditory cortex      B   \n",
       "2                                     Language processing      D   \n",
       "3                                                Columbia      A   \n",
       "4                                              Yann LeCun      B   \n",
       "...                                                   ...    ...   \n",
       "158612                                      December 2000      B   \n",
       "158613  By a joint effort between the Rotary Club and ...      C   \n",
       "158614  A creative team competition for university stu...      E   \n",
       "158615                                               2020      A   \n",
       "158616  A creative team competition for international ...      B   \n",
       "\n",
       "                                                wiki_text   \n",
       "0       Russell Epstein is a professor of psychology a...  \\\n",
       "1       Russell Epstein is a professor of psychology a...   \n",
       "2       Russell Epstein is a professor of psychology a...   \n",
       "3       Epstein received an undergraduate degree in ph...   \n",
       "4       Epstein received an undergraduate degree in ph...   \n",
       "...                                                   ...   \n",
       "158612  The Millennium Dial Armillary is one of six pi...   \n",
       "158613  The Millennium Dial Armillary is one of six pi...   \n",
       "158614  Ukrainian Physicists' Tournament for Universit...   \n",
       "158615  Ukrainian Physicists' Tournament for Universit...   \n",
       "158616  Ukrainian Physicists' Tournament for Universit...   \n",
       "\n",
       "                                               page_title          section   \n",
       "0                                         Russell Epstein  Russell Epstein  \\\n",
       "1                                         Russell Epstein  Russell Epstein   \n",
       "2                                         Russell Epstein  Russell Epstein   \n",
       "3                                         Russell Epstein        Education   \n",
       "4                                         Russell Epstein        Education   \n",
       "...                                                   ...              ...   \n",
       "158612                                   Sutton armillary              NaN   \n",
       "158613                                   Sutton armillary              NaN   \n",
       "158614  Ukrainian Physicists' Tournament for Universit...              NaN   \n",
       "158615  Ukrainian Physicists' Tournament for Universit...              NaN   \n",
       "158616  Ukrainian Physicists' Tournament for Universit...              NaN   \n",
       "\n",
       "             id     page_id stem_label   \n",
       "0           NaN         NaN        NaN  \\\n",
       "1           NaN         NaN        NaN   \n",
       "2           NaN         NaN        NaN   \n",
       "3           NaN         NaN        NaN   \n",
       "4           NaN         NaN        NaN   \n",
       "...         ...         ...        ...   \n",
       "158612  78140.0  43629419.0          M   \n",
       "158613  78141.0  43629419.0          M   \n",
       "158614  78142.0  14320529.0          M   \n",
       "158615  78143.0  14320529.0          M   \n",
       "158616  78144.0  14320529.0          M   \n",
       "\n",
       "                                            prompt_answer  \n",
       "0                                                     NaN  \n",
       "1                                                     NaN  \n",
       "2                                                     NaN  \n",
       "3                                                     NaN  \n",
       "4                                                     NaN  \n",
       "...                                                   ...  \n",
       "158612  What is the inscription on the plinth of the a...  \n",
       "158613  How was the Millennium Dial Armillary funded? ...  \n",
       "158614  What is the Ukrainian Physicists' Tournament f...  \n",
       "158615  When was the first Open Physicists' Tournament...  \n",
       "158616  What is the International Physicists' Tourname...  \n",
       "\n",
       "[158617 rows x 15 columns]"
      ]
     },
     "execution_count": 8,
     "metadata": {},
     "output_type": "execute_result"
    }
   ],
   "source": [
    "trn[~(trn['A'].isna() | trn['B'].isna() | trn['C'].isna() | trn['D'].isna() | trn['E'].isna())].reset_index(drop=True)"
   ]
  },
  {
   "cell_type": "code",
   "execution_count": 10,
   "id": "76491751-05a6-4f98-a43c-e8d650d6f551",
   "metadata": {
    "tags": []
   },
   "outputs": [
    {
     "data": {
      "text/plain": [
       "\"What is the main focus of Russell Epstein's research?\""
      ]
     },
     "execution_count": 10,
     "metadata": {},
     "output_type": "execute_result"
    }
   ],
   "source": [
    "trn.loc[0,'prompt']"
   ]
  },
  {
   "cell_type": "code",
   "execution_count": 11,
   "id": "6bf35932-920b-4c26-801a-8f8254eeb889",
   "metadata": {
    "tags": []
   },
   "outputs": [
    {
     "data": {
      "text/plain": [
       "'Russell Epstein is a professor of psychology at the University of Pennsylvania, who studies neural mechanisms underlying visual scene perception, event perception, object recognition, and spatial navigation in humans. His lab studies the role of the Parahippocampal and retrosplenial cortices in determining how people orient themselves relative to their surroundings.'"
      ]
     },
     "execution_count": 11,
     "metadata": {},
     "output_type": "execute_result"
    }
   ],
   "source": [
    "trn.loc[0,'wiki_text']"
   ]
  },
  {
   "cell_type": "code",
   "execution_count": 1,
   "id": "91bef90a-c9a1-44a6-ac85-ca561ecb4f2f",
   "metadata": {},
   "outputs": [],
   "source": [
    "import pandas as pd\n",
    "trn1 = pd.read_parquet('./data/7w_1_bm25_blendrecall_top1000_top30.parquet')\n",
    "trn2 = pd.read_parquet('./data/7w_2_bm25_blendrecall_top1000_top30.parquet')"
   ]
  },
  {
   "cell_type": "code",
   "execution_count": 2,
   "id": "ca357e84-4011-4cb2-ae85-ffea274eb854",
   "metadata": {
    "tags": []
   },
   "outputs": [
    {
     "data": {
      "text/html": [
       "<div>\n",
       "<style scoped>\n",
       "    .dataframe tbody tr th:only-of-type {\n",
       "        vertical-align: middle;\n",
       "    }\n",
       "\n",
       "    .dataframe tbody tr th {\n",
       "        vertical-align: top;\n",
       "    }\n",
       "\n",
       "    .dataframe thead th {\n",
       "        text-align: right;\n",
       "    }\n",
       "</style>\n",
       "<table border=\"1\" class=\"dataframe\">\n",
       "  <thead>\n",
       "    <tr style=\"text-align: right;\">\n",
       "      <th></th>\n",
       "      <th>Unnamed: 0</th>\n",
       "      <th>id</th>\n",
       "      <th>prompt</th>\n",
       "      <th>A</th>\n",
       "      <th>B</th>\n",
       "      <th>C</th>\n",
       "      <th>D</th>\n",
       "      <th>E</th>\n",
       "      <th>answer</th>\n",
       "      <th>wiki_text</th>\n",
       "      <th>page_id</th>\n",
       "      <th>page_title</th>\n",
       "      <th>stem_label</th>\n",
       "      <th>prompt_answer</th>\n",
       "      <th>index</th>\n",
       "      <th>top1000_to_top30_ids</th>\n",
       "    </tr>\n",
       "  </thead>\n",
       "  <tbody>\n",
       "    <tr>\n",
       "      <th>0</th>\n",
       "      <td>0</td>\n",
       "      <td>0</td>\n",
       "      <td>What does the nullity of a graph in graph theo...</td>\n",
       "      <td>The number of vertices in the graph</td>\n",
       "      <td>The number of edges in the graph</td>\n",
       "      <td>The rank of the adjacency matrix</td>\n",
       "      <td>The multiplicity of the eigenvalue 0 in the sp...</td>\n",
       "      <td>The number of components of the graph</td>\n",
       "      <td>D</td>\n",
       "      <td>The nullity of a graph in the mathematical sub...</td>\n",
       "      <td>17458663</td>\n",
       "      <td>Nullity (graph theory)</td>\n",
       "      <td>M</td>\n",
       "      <td>What does the nullity of a graph in graph theo...</td>\n",
       "      <td>0</td>\n",
       "      <td>[3876952, 4778094, 74006, 1084899, 5320593, 54...</td>\n",
       "    </tr>\n",
       "    <tr>\n",
       "      <th>1</th>\n",
       "      <td>1</td>\n",
       "      <td>1</td>\n",
       "      <td>In the matrix theory of graphs, what is the nu...</td>\n",
       "      <td>n − r</td>\n",
       "      <td>m − n + c</td>\n",
       "      <td>n − c</td>\n",
       "      <td>The nullity of the graph</td>\n",
       "      <td>The number of components of the graph</td>\n",
       "      <td>A</td>\n",
       "      <td>The nullity of a graph in the mathematical sub...</td>\n",
       "      <td>17458663</td>\n",
       "      <td>Nullity (graph theory)</td>\n",
       "      <td>M</td>\n",
       "      <td>In the matrix theory of graphs, what is the nu...</td>\n",
       "      <td>1</td>\n",
       "      <td>[3876952, 4778094, 3876954, 4775661, 1015519, ...</td>\n",
       "    </tr>\n",
       "    <tr>\n",
       "      <th>2</th>\n",
       "      <td>2</td>\n",
       "      <td>2</td>\n",
       "      <td>Which term is more commonly used to refer to t...</td>\n",
       "      <td>Nullity of the adjacency matrix</td>\n",
       "      <td>Multiplicity of the eigenvalue 0</td>\n",
       "      <td>Cycle rank</td>\n",
       "      <td>Cyclomatic number</td>\n",
       "      <td>Circuit rank</td>\n",
       "      <td>C</td>\n",
       "      <td>The nullity of a graph in the mathematical sub...</td>\n",
       "      <td>17458663</td>\n",
       "      <td>Nullity (graph theory)</td>\n",
       "      <td>M</td>\n",
       "      <td>Which term is more commonly used to refer to t...</td>\n",
       "      <td>2</td>\n",
       "      <td>[3876952, 4778094, 1111978, 1015508, 3418262, ...</td>\n",
       "    </tr>\n",
       "    <tr>\n",
       "      <th>3</th>\n",
       "      <td>3</td>\n",
       "      <td>3</td>\n",
       "      <td>What is the formula for calculating the nullit...</td>\n",
       "      <td>n − r</td>\n",
       "      <td>m − n + c</td>\n",
       "      <td>n − c</td>\n",
       "      <td>The nullity of the graph</td>\n",
       "      <td>The number of components of the graph</td>\n",
       "      <td>B</td>\n",
       "      <td>The nullity of a graph in the mathematical sub...</td>\n",
       "      <td>17458663</td>\n",
       "      <td>Nullity (graph theory)</td>\n",
       "      <td>M</td>\n",
       "      <td>What is the formula for calculating the nullit...</td>\n",
       "      <td>3</td>\n",
       "      <td>[3876952, 4778094, 1015508, 3418253, 2688656, ...</td>\n",
       "    </tr>\n",
       "    <tr>\n",
       "      <th>4</th>\n",
       "      <td>4</td>\n",
       "      <td>4</td>\n",
       "      <td>What can the nullity of the graph represent in...</td>\n",
       "      <td>The number of vertices in the graph</td>\n",
       "      <td>The number of edges in the graph</td>\n",
       "      <td>The rank of the adjacency matrix</td>\n",
       "      <td>The number of components of the graph</td>\n",
       "      <td>The rank of the oriented incidence matrix</td>\n",
       "      <td>E</td>\n",
       "      <td>The nullity of a graph in the mathematical sub...</td>\n",
       "      <td>17458663</td>\n",
       "      <td>Nullity (graph theory)</td>\n",
       "      <td>M</td>\n",
       "      <td>What can the nullity of the graph represent in...</td>\n",
       "      <td>4</td>\n",
       "      <td>[3876952, 4778094, 1993693, 1084899, 1015508, ...</td>\n",
       "    </tr>\n",
       "    <tr>\n",
       "      <th>...</th>\n",
       "      <td>...</td>\n",
       "      <td>...</td>\n",
       "      <td>...</td>\n",
       "      <td>...</td>\n",
       "      <td>...</td>\n",
       "      <td>...</td>\n",
       "      <td>...</td>\n",
       "      <td>...</td>\n",
       "      <td>...</td>\n",
       "      <td>...</td>\n",
       "      <td>...</td>\n",
       "      <td>...</td>\n",
       "      <td>...</td>\n",
       "      <td>...</td>\n",
       "      <td>...</td>\n",
       "      <td>...</td>\n",
       "    </tr>\n",
       "    <tr>\n",
       "      <th>78004</th>\n",
       "      <td>78003</td>\n",
       "      <td>78140</td>\n",
       "      <td>What is the inscription on the plinth of the a...</td>\n",
       "      <td>Rotary Armillary</td>\n",
       "      <td>Service Above Self</td>\n",
       "      <td>This Armillary was presented to the people of ...</td>\n",
       "      <td>The Rotary Club of Cheam has joined with the R...</td>\n",
       "      <td>December 2000</td>\n",
       "      <td>B</td>\n",
       "      <td>The Millennium Dial Armillary is one of six pi...</td>\n",
       "      <td>43629419</td>\n",
       "      <td>Sutton armillary</td>\n",
       "      <td>M</td>\n",
       "      <td>What is the inscription on the plinth of the a...</td>\n",
       "      <td>38999</td>\n",
       "      <td>[5456608, 3188648, 5456506, 5456632, 858659, 3...</td>\n",
       "    </tr>\n",
       "    <tr>\n",
       "      <th>78005</th>\n",
       "      <td>78004</td>\n",
       "      <td>78141</td>\n",
       "      <td>How was the Millennium Dial Armillary funded?</td>\n",
       "      <td>By the London Borough of Sutton</td>\n",
       "      <td>By the Rotary Club</td>\n",
       "      <td>By the sponsors listed on the plinth inscription</td>\n",
       "      <td>By the residents of Sutton</td>\n",
       "      <td>By a joint effort between the Rotary Club and ...</td>\n",
       "      <td>C</td>\n",
       "      <td>The Millennium Dial Armillary is one of six pi...</td>\n",
       "      <td>43629419</td>\n",
       "      <td>Sutton armillary</td>\n",
       "      <td>M</td>\n",
       "      <td>How was the Millennium Dial Armillary funded? ...</td>\n",
       "      <td>39000</td>\n",
       "      <td>[5456608, 1320182, 5456506, 5456671, 3545326, ...</td>\n",
       "    </tr>\n",
       "    <tr>\n",
       "      <th>78006</th>\n",
       "      <td>78005</td>\n",
       "      <td>78142</td>\n",
       "      <td>What is the Ukrainian Physicists' Tournament f...</td>\n",
       "      <td>A competition for secondary school students to...</td>\n",
       "      <td>A competition for university students to solve...</td>\n",
       "      <td>A competition for international physicists to ...</td>\n",
       "      <td>A research project competition for university ...</td>\n",
       "      <td>A creative team competition for university stu...</td>\n",
       "      <td>E</td>\n",
       "      <td>Ukrainian Physicists' Tournament for Universit...</td>\n",
       "      <td>14320529</td>\n",
       "      <td>Ukrainian Physicists' Tournament for Universit...</td>\n",
       "      <td>M</td>\n",
       "      <td>What is the Ukrainian Physicists' Tournament f...</td>\n",
       "      <td>39001</td>\n",
       "      <td>[5873747, 2365219, 5313060, 4566202, 4403394, ...</td>\n",
       "    </tr>\n",
       "    <tr>\n",
       "      <th>78007</th>\n",
       "      <td>78006</td>\n",
       "      <td>78143</td>\n",
       "      <td>When was the first Open Physicists' Tournament...</td>\n",
       "      <td>2001</td>\n",
       "      <td>2005</td>\n",
       "      <td>2010</td>\n",
       "      <td>2015</td>\n",
       "      <td>2020</td>\n",
       "      <td>A</td>\n",
       "      <td>Ukrainian Physicists' Tournament for Universit...</td>\n",
       "      <td>14320529</td>\n",
       "      <td>Ukrainian Physicists' Tournament for Universit...</td>\n",
       "      <td>M</td>\n",
       "      <td>When was the first Open Physicists' Tournament...</td>\n",
       "      <td>39002</td>\n",
       "      <td>[5873747, 4403394, 2365219, 2362985, 5894257, ...</td>\n",
       "    </tr>\n",
       "    <tr>\n",
       "      <th>78008</th>\n",
       "      <td>78007</td>\n",
       "      <td>78144</td>\n",
       "      <td>What is the International Physicists' Tournament?</td>\n",
       "      <td>A tournament for Ukrainian physicists to compe...</td>\n",
       "      <td>A tournament for university students to compet...</td>\n",
       "      <td>A research project competition for internation...</td>\n",
       "      <td>A continuation of school Tournaments of Young ...</td>\n",
       "      <td>A creative team competition for international ...</td>\n",
       "      <td>B</td>\n",
       "      <td>Ukrainian Physicists' Tournament for Universit...</td>\n",
       "      <td>14320529</td>\n",
       "      <td>Ukrainian Physicists' Tournament for Universit...</td>\n",
       "      <td>M</td>\n",
       "      <td>What is the International Physicists' Tourname...</td>\n",
       "      <td>39003</td>\n",
       "      <td>[5873747, 4403394, 5894257, 2365219, 955964, 2...</td>\n",
       "    </tr>\n",
       "  </tbody>\n",
       "</table>\n",
       "<p>78009 rows × 16 columns</p>\n",
       "</div>"
      ],
      "text/plain": [
       "       Unnamed: 0     id                                             prompt   \n",
       "0               0      0  What does the nullity of a graph in graph theo...  \\\n",
       "1               1      1  In the matrix theory of graphs, what is the nu...   \n",
       "2               2      2  Which term is more commonly used to refer to t...   \n",
       "3               3      3  What is the formula for calculating the nullit...   \n",
       "4               4      4  What can the nullity of the graph represent in...   \n",
       "...           ...    ...                                                ...   \n",
       "78004       78003  78140  What is the inscription on the plinth of the a...   \n",
       "78005       78004  78141      How was the Millennium Dial Armillary funded?   \n",
       "78006       78005  78142  What is the Ukrainian Physicists' Tournament f...   \n",
       "78007       78006  78143  When was the first Open Physicists' Tournament...   \n",
       "78008       78007  78144  What is the International Physicists' Tournament?   \n",
       "\n",
       "                                                       A   \n",
       "0                    The number of vertices in the graph  \\\n",
       "1                                                  n − r   \n",
       "2                        Nullity of the adjacency matrix   \n",
       "3                                                  n − r   \n",
       "4                    The number of vertices in the graph   \n",
       "...                                                  ...   \n",
       "78004                                   Rotary Armillary   \n",
       "78005                    By the London Borough of Sutton   \n",
       "78006  A competition for secondary school students to...   \n",
       "78007                                               2001   \n",
       "78008  A tournament for Ukrainian physicists to compe...   \n",
       "\n",
       "                                                       B   \n",
       "0                       The number of edges in the graph  \\\n",
       "1                                              m − n + c   \n",
       "2                       Multiplicity of the eigenvalue 0   \n",
       "3                                              m − n + c   \n",
       "4                       The number of edges in the graph   \n",
       "...                                                  ...   \n",
       "78004                                 Service Above Self   \n",
       "78005                                 By the Rotary Club   \n",
       "78006  A competition for university students to solve...   \n",
       "78007                                               2005   \n",
       "78008  A tournament for university students to compet...   \n",
       "\n",
       "                                                       C   \n",
       "0                       The rank of the adjacency matrix  \\\n",
       "1                                                  n − c   \n",
       "2                                             Cycle rank   \n",
       "3                                                  n − c   \n",
       "4                       The rank of the adjacency matrix   \n",
       "...                                                  ...   \n",
       "78004  This Armillary was presented to the people of ...   \n",
       "78005   By the sponsors listed on the plinth inscription   \n",
       "78006  A competition for international physicists to ...   \n",
       "78007                                               2010   \n",
       "78008  A research project competition for internation...   \n",
       "\n",
       "                                                       D   \n",
       "0      The multiplicity of the eigenvalue 0 in the sp...  \\\n",
       "1                               The nullity of the graph   \n",
       "2                                      Cyclomatic number   \n",
       "3                               The nullity of the graph   \n",
       "4                  The number of components of the graph   \n",
       "...                                                  ...   \n",
       "78004  The Rotary Club of Cheam has joined with the R...   \n",
       "78005                         By the residents of Sutton   \n",
       "78006  A research project competition for university ...   \n",
       "78007                                               2015   \n",
       "78008  A continuation of school Tournaments of Young ...   \n",
       "\n",
       "                                                       E answer   \n",
       "0                  The number of components of the graph      D  \\\n",
       "1                  The number of components of the graph      A   \n",
       "2                                           Circuit rank      C   \n",
       "3                  The number of components of the graph      B   \n",
       "4              The rank of the oriented incidence matrix      E   \n",
       "...                                                  ...    ...   \n",
       "78004                                      December 2000      B   \n",
       "78005  By a joint effort between the Rotary Club and ...      C   \n",
       "78006  A creative team competition for university stu...      E   \n",
       "78007                                               2020      A   \n",
       "78008  A creative team competition for international ...      B   \n",
       "\n",
       "                                               wiki_text   page_id   \n",
       "0      The nullity of a graph in the mathematical sub...  17458663  \\\n",
       "1      The nullity of a graph in the mathematical sub...  17458663   \n",
       "2      The nullity of a graph in the mathematical sub...  17458663   \n",
       "3      The nullity of a graph in the mathematical sub...  17458663   \n",
       "4      The nullity of a graph in the mathematical sub...  17458663   \n",
       "...                                                  ...       ...   \n",
       "78004  The Millennium Dial Armillary is one of six pi...  43629419   \n",
       "78005  The Millennium Dial Armillary is one of six pi...  43629419   \n",
       "78006  Ukrainian Physicists' Tournament for Universit...  14320529   \n",
       "78007  Ukrainian Physicists' Tournament for Universit...  14320529   \n",
       "78008  Ukrainian Physicists' Tournament for Universit...  14320529   \n",
       "\n",
       "                                              page_title stem_label   \n",
       "0                                 Nullity (graph theory)          M  \\\n",
       "1                                 Nullity (graph theory)          M   \n",
       "2                                 Nullity (graph theory)          M   \n",
       "3                                 Nullity (graph theory)          M   \n",
       "4                                 Nullity (graph theory)          M   \n",
       "...                                                  ...        ...   \n",
       "78004                                   Sutton armillary          M   \n",
       "78005                                   Sutton armillary          M   \n",
       "78006  Ukrainian Physicists' Tournament for Universit...          M   \n",
       "78007  Ukrainian Physicists' Tournament for Universit...          M   \n",
       "78008  Ukrainian Physicists' Tournament for Universit...          M   \n",
       "\n",
       "                                           prompt_answer  index   \n",
       "0      What does the nullity of a graph in graph theo...      0  \\\n",
       "1      In the matrix theory of graphs, what is the nu...      1   \n",
       "2      Which term is more commonly used to refer to t...      2   \n",
       "3      What is the formula for calculating the nullit...      3   \n",
       "4      What can the nullity of the graph represent in...      4   \n",
       "...                                                  ...    ...   \n",
       "78004  What is the inscription on the plinth of the a...  38999   \n",
       "78005  How was the Millennium Dial Armillary funded? ...  39000   \n",
       "78006  What is the Ukrainian Physicists' Tournament f...  39001   \n",
       "78007  When was the first Open Physicists' Tournament...  39002   \n",
       "78008  What is the International Physicists' Tourname...  39003   \n",
       "\n",
       "                                    top1000_to_top30_ids  \n",
       "0      [3876952, 4778094, 74006, 1084899, 5320593, 54...  \n",
       "1      [3876952, 4778094, 3876954, 4775661, 1015519, ...  \n",
       "2      [3876952, 4778094, 1111978, 1015508, 3418262, ...  \n",
       "3      [3876952, 4778094, 1015508, 3418253, 2688656, ...  \n",
       "4      [3876952, 4778094, 1993693, 1084899, 1015508, ...  \n",
       "...                                                  ...  \n",
       "78004  [5456608, 3188648, 5456506, 5456632, 858659, 3...  \n",
       "78005  [5456608, 1320182, 5456506, 5456671, 3545326, ...  \n",
       "78006  [5873747, 2365219, 5313060, 4566202, 4403394, ...  \n",
       "78007  [5873747, 4403394, 2365219, 2362985, 5894257, ...  \n",
       "78008  [5873747, 4403394, 5894257, 2365219, 955964, 2...  \n",
       "\n",
       "[78009 rows x 16 columns]"
      ]
     },
     "execution_count": 2,
     "metadata": {},
     "output_type": "execute_result"
    }
   ],
   "source": [
    "trn = pd.concat([trn1,trn2],axis=0).reset_index(drop=True)"
   ]
  },
  {
   "cell_type": "code",
   "execution_count": 8,
   "id": "afc4dfed-fed3-4305-923a-db3264bcdce8",
   "metadata": {
    "tags": []
   },
   "outputs": [],
   "source": [
    "used = pd.read_parquet('./data/10w_bm25_top1000_top20.parquet')"
   ]
  },
  {
   "cell_type": "code",
   "execution_count": 9,
   "id": "5a11c2c7-e6e7-48a5-a586-3b58fe75e0f3",
   "metadata": {
    "tags": []
   },
   "outputs": [
    {
     "data": {
      "text/html": [
       "<div>\n",
       "<style scoped>\n",
       "    .dataframe tbody tr th:only-of-type {\n",
       "        vertical-align: middle;\n",
       "    }\n",
       "\n",
       "    .dataframe tbody tr th {\n",
       "        vertical-align: top;\n",
       "    }\n",
       "\n",
       "    .dataframe thead th {\n",
       "        text-align: right;\n",
       "    }\n",
       "</style>\n",
       "<table border=\"1\" class=\"dataframe\">\n",
       "  <thead>\n",
       "    <tr style=\"text-align: right;\">\n",
       "      <th></th>\n",
       "      <th>prompt</th>\n",
       "      <th>context</th>\n",
       "      <th>A</th>\n",
       "      <th>B</th>\n",
       "      <th>C</th>\n",
       "      <th>D</th>\n",
       "      <th>E</th>\n",
       "      <th>answer</th>\n",
       "      <th>source</th>\n",
       "      <th>type</th>\n",
       "      <th>id</th>\n",
       "      <th>prompt_answer</th>\n",
       "      <th>index</th>\n",
       "      <th>top1000_to_top20_ids</th>\n",
       "    </tr>\n",
       "  </thead>\n",
       "  <tbody>\n",
       "    <tr>\n",
       "      <th>0</th>\n",
       "      <td>What is physical mathematics?</td>\n",
       "      <td>None</td>\n",
       "      <td>The study of physically motivated mathematics</td>\n",
       "      <td>The study of mathematical physics</td>\n",
       "      <td>The study of mathematics in physical contexts</td>\n",
       "      <td>The study of mathematical equations</td>\n",
       "      <td>The study of mathematical operations</td>\n",
       "      <td>A</td>\n",
       "      <td>NaN</td>\n",
       "      <td>6w</td>\n",
       "      <td>0.0</td>\n",
       "      <td>What is physical mathematics? The study of phy...</td>\n",
       "      <td>60347</td>\n",
       "      <td>[3415292, 4816884, 4566100, 1431524, 1086274, ...</td>\n",
       "    </tr>\n",
       "    <tr>\n",
       "      <th>1</th>\n",
       "      <td>Who wrote Physical Arithmetic in 1885?</td>\n",
       "      <td>None</td>\n",
       "      <td>Margaret Osler</td>\n",
       "      <td>Alexander Macfarlane</td>\n",
       "      <td>Alhazen</td>\n",
       "      <td>Galileo</td>\n",
       "      <td>Newton</td>\n",
       "      <td>B</td>\n",
       "      <td>NaN</td>\n",
       "      <td>6w</td>\n",
       "      <td>1.0</td>\n",
       "      <td>Who wrote Physical Arithmetic in 1885? Margare...</td>\n",
       "      <td>60348</td>\n",
       "      <td>[4566100, 4725861, 2279683, 1636032, 2209614, ...</td>\n",
       "    </tr>\n",
       "    <tr>\n",
       "      <th>2</th>\n",
       "      <td>What did the Mathematical Tripos at Cambridge ...</td>\n",
       "      <td>None</td>\n",
       "      <td>Pure mathematics</td>\n",
       "      <td>Applied mathematics</td>\n",
       "      <td>Mixed mathematics</td>\n",
       "      <td>Fluxional calculus</td>\n",
       "      <td>Physical problems</td>\n",
       "      <td>C</td>\n",
       "      <td>NaN</td>\n",
       "      <td>6w</td>\n",
       "      <td>2.0</td>\n",
       "      <td>What did the Mathematical Tripos at Cambridge ...</td>\n",
       "      <td>60349</td>\n",
       "      <td>[4566100, 3415219, 4453626, 237664, 3749052, 5...</td>\n",
       "    </tr>\n",
       "    <tr>\n",
       "      <th>3</th>\n",
       "      <td>What mathematical representation is used for m...</td>\n",
       "      <td>None</td>\n",
       "      <td>Complex numbers</td>\n",
       "      <td>Quaternions</td>\n",
       "      <td>Linear algebra</td>\n",
       "      <td>Fluxional calculus</td>\n",
       "      <td>Mixed mathematics</td>\n",
       "      <td>C</td>\n",
       "      <td>NaN</td>\n",
       "      <td>6w</td>\n",
       "      <td>3.0</td>\n",
       "      <td>What mathematical representation is used for m...</td>\n",
       "      <td>60350</td>\n",
       "      <td>[4566100, 4948326, 2279683, 4725867, 4948333, ...</td>\n",
       "    </tr>\n",
       "    <tr>\n",
       "      <th>4</th>\n",
       "      <td>What did the early expressions of kinematics a...</td>\n",
       "      <td>None</td>\n",
       "      <td>Causality</td>\n",
       "      <td>Forces</td>\n",
       "      <td>Mathematical physics</td>\n",
       "      <td>Fluxional calculus</td>\n",
       "      <td>Mixed mathematics</td>\n",
       "      <td>C</td>\n",
       "      <td>NaN</td>\n",
       "      <td>6w</td>\n",
       "      <td>4.0</td>\n",
       "      <td>What did the early expressions of kinematics a...</td>\n",
       "      <td>60351</td>\n",
       "      <td>[4566100, 2209563, 5689699, 2977786, 4566196, ...</td>\n",
       "    </tr>\n",
       "    <tr>\n",
       "      <th>...</th>\n",
       "      <td>...</td>\n",
       "      <td>...</td>\n",
       "      <td>...</td>\n",
       "      <td>...</td>\n",
       "      <td>...</td>\n",
       "      <td>...</td>\n",
       "      <td>...</td>\n",
       "      <td>...</td>\n",
       "      <td>...</td>\n",
       "      <td>...</td>\n",
       "      <td>...</td>\n",
       "      <td>...</td>\n",
       "      <td>...</td>\n",
       "      <td>...</td>\n",
       "    </tr>\n",
       "    <tr>\n",
       "      <th>48074</th>\n",
       "      <td>What is Sequenom known for developing?</td>\n",
       "      <td>None</td>\n",
       "      <td>Laboratory genetic tests for infertility</td>\n",
       "      <td>Non-invasive prenatal genetic tests</td>\n",
       "      <td>Diagnostic and testing devices for cancer</td>\n",
       "      <td>Molecular technologies for heart disease</td>\n",
       "      <td>Clinical molecular genetics tests for diabetes</td>\n",
       "      <td>B</td>\n",
       "      <td>NaN</td>\n",
       "      <td>6w</td>\n",
       "      <td>48074.0</td>\n",
       "      <td>What is Sequenom known for developing? Laborat...</td>\n",
       "      <td>108421</td>\n",
       "      <td>[5146451, 3041911, 5405936, 4310738, 4716080, ...</td>\n",
       "    </tr>\n",
       "    <tr>\n",
       "      <th>48075</th>\n",
       "      <td>Which company acquired Sequenom in 2016?</td>\n",
       "      <td>None</td>\n",
       "      <td>LabCorp</td>\n",
       "      <td>Agena Bioscience</td>\n",
       "      <td>Ariosa</td>\n",
       "      <td>PerkinElmer</td>\n",
       "      <td>Natera</td>\n",
       "      <td>A</td>\n",
       "      <td>NaN</td>\n",
       "      <td>6w</td>\n",
       "      <td>48075.0</td>\n",
       "      <td>Which company acquired Sequenom in 2016? LabCo...</td>\n",
       "      <td>108422</td>\n",
       "      <td>[5146451, 344189, 2907347, 2907348, 4993523, 3...</td>\n",
       "    </tr>\n",
       "    <tr>\n",
       "      <th>48076</th>\n",
       "      <td>Which company did Sequenom sell its bioscience...</td>\n",
       "      <td>None</td>\n",
       "      <td>Natera</td>\n",
       "      <td>PerkinElmer</td>\n",
       "      <td>Agena Bioscience</td>\n",
       "      <td>LabCorp</td>\n",
       "      <td>Ravgen</td>\n",
       "      <td>C</td>\n",
       "      <td>NaN</td>\n",
       "      <td>6w</td>\n",
       "      <td>48076.0</td>\n",
       "      <td>Which company did Sequenom sell its bioscience...</td>\n",
       "      <td>108423</td>\n",
       "      <td>[5146451, 2362377, 2907347, 2907348, 3605780, ...</td>\n",
       "    </tr>\n",
       "    <tr>\n",
       "      <th>48077</th>\n",
       "      <td>Which patent battle did Sequenom enter in 2012?</td>\n",
       "      <td>None</td>\n",
       "      <td>Patent battle with Ariosa</td>\n",
       "      <td>Patent battle with Natera</td>\n",
       "      <td>Patent battle with Illumina</td>\n",
       "      <td>Patent battle with Ravgen</td>\n",
       "      <td>Patent battle with PerkinElmer</td>\n",
       "      <td>A</td>\n",
       "      <td>NaN</td>\n",
       "      <td>6w</td>\n",
       "      <td>48077.0</td>\n",
       "      <td>Which patent battle did Sequenom enter in 2012...</td>\n",
       "      <td>108424</td>\n",
       "      <td>[5146451, 344189, 2893111, 3701223, 945760, 38...</td>\n",
       "    </tr>\n",
       "    <tr>\n",
       "      <th>48078</th>\n",
       "      <td>Which company is also working towards developi...</td>\n",
       "      <td>None</td>\n",
       "      <td>Illumina</td>\n",
       "      <td>Ravgen</td>\n",
       "      <td>PerkinElmer</td>\n",
       "      <td>Natera</td>\n",
       "      <td>Stanford University</td>\n",
       "      <td>E</td>\n",
       "      <td>NaN</td>\n",
       "      <td>6w</td>\n",
       "      <td>48078.0</td>\n",
       "      <td>Which company is also working towards developi...</td>\n",
       "      <td>108425</td>\n",
       "      <td>[4787091, 3730258, 2362377, 3843412, 4546191, ...</td>\n",
       "    </tr>\n",
       "  </tbody>\n",
       "</table>\n",
       "<p>48079 rows × 14 columns</p>\n",
       "</div>"
      ],
      "text/plain": [
       "                                                  prompt context   \n",
       "0                          What is physical mathematics?    None  \\\n",
       "1                 Who wrote Physical Arithmetic in 1885?    None   \n",
       "2      What did the Mathematical Tripos at Cambridge ...    None   \n",
       "3      What mathematical representation is used for m...    None   \n",
       "4      What did the early expressions of kinematics a...    None   \n",
       "...                                                  ...     ...   \n",
       "48074             What is Sequenom known for developing?    None   \n",
       "48075           Which company acquired Sequenom in 2016?    None   \n",
       "48076  Which company did Sequenom sell its bioscience...    None   \n",
       "48077    Which patent battle did Sequenom enter in 2012?    None   \n",
       "48078  Which company is also working towards developi...    None   \n",
       "\n",
       "                                                   A   \n",
       "0      The study of physically motivated mathematics  \\\n",
       "1                                     Margaret Osler   \n",
       "2                                   Pure mathematics   \n",
       "3                                    Complex numbers   \n",
       "4                                          Causality   \n",
       "...                                              ...   \n",
       "48074       Laboratory genetic tests for infertility   \n",
       "48075                                        LabCorp   \n",
       "48076                                         Natera   \n",
       "48077                      Patent battle with Ariosa   \n",
       "48078                                       Illumina   \n",
       "\n",
       "                                         B   \n",
       "0        The study of mathematical physics  \\\n",
       "1                     Alexander Macfarlane   \n",
       "2                      Applied mathematics   \n",
       "3                              Quaternions   \n",
       "4                                   Forces   \n",
       "...                                    ...   \n",
       "48074  Non-invasive prenatal genetic tests   \n",
       "48075                     Agena Bioscience   \n",
       "48076                          PerkinElmer   \n",
       "48077            Patent battle with Natera   \n",
       "48078                               Ravgen   \n",
       "\n",
       "                                                   C   \n",
       "0      The study of mathematics in physical contexts  \\\n",
       "1                                            Alhazen   \n",
       "2                                  Mixed mathematics   \n",
       "3                                     Linear algebra   \n",
       "4                               Mathematical physics   \n",
       "...                                              ...   \n",
       "48074      Diagnostic and testing devices for cancer   \n",
       "48075                                         Ariosa   \n",
       "48076                               Agena Bioscience   \n",
       "48077                    Patent battle with Illumina   \n",
       "48078                                    PerkinElmer   \n",
       "\n",
       "                                              D   \n",
       "0           The study of mathematical equations  \\\n",
       "1                                       Galileo   \n",
       "2                            Fluxional calculus   \n",
       "3                            Fluxional calculus   \n",
       "4                            Fluxional calculus   \n",
       "...                                         ...   \n",
       "48074  Molecular technologies for heart disease   \n",
       "48075                               PerkinElmer   \n",
       "48076                                   LabCorp   \n",
       "48077                 Patent battle with Ravgen   \n",
       "48078                                    Natera   \n",
       "\n",
       "                                                    E answer  source type   \n",
       "0                The study of mathematical operations      A     NaN   6w  \\\n",
       "1                                              Newton      B     NaN   6w   \n",
       "2                                   Physical problems      C     NaN   6w   \n",
       "3                                   Mixed mathematics      C     NaN   6w   \n",
       "4                                   Mixed mathematics      C     NaN   6w   \n",
       "...                                               ...    ...     ...  ...   \n",
       "48074  Clinical molecular genetics tests for diabetes      B     NaN   6w   \n",
       "48075                                          Natera      A     NaN   6w   \n",
       "48076                                          Ravgen      C     NaN   6w   \n",
       "48077                  Patent battle with PerkinElmer      A     NaN   6w   \n",
       "48078                             Stanford University      E     NaN   6w   \n",
       "\n",
       "            id                                      prompt_answer   index   \n",
       "0          0.0  What is physical mathematics? The study of phy...   60347  \\\n",
       "1          1.0  Who wrote Physical Arithmetic in 1885? Margare...   60348   \n",
       "2          2.0  What did the Mathematical Tripos at Cambridge ...   60349   \n",
       "3          3.0  What mathematical representation is used for m...   60350   \n",
       "4          4.0  What did the early expressions of kinematics a...   60351   \n",
       "...        ...                                                ...     ...   \n",
       "48074  48074.0  What is Sequenom known for developing? Laborat...  108421   \n",
       "48075  48075.0  Which company acquired Sequenom in 2016? LabCo...  108422   \n",
       "48076  48076.0  Which company did Sequenom sell its bioscience...  108423   \n",
       "48077  48077.0  Which patent battle did Sequenom enter in 2012...  108424   \n",
       "48078  48078.0  Which company is also working towards developi...  108425   \n",
       "\n",
       "                                    top1000_to_top20_ids  \n",
       "0      [3415292, 4816884, 4566100, 1431524, 1086274, ...  \n",
       "1      [4566100, 4725861, 2279683, 1636032, 2209614, ...  \n",
       "2      [4566100, 3415219, 4453626, 237664, 3749052, 5...  \n",
       "3      [4566100, 4948326, 2279683, 4725867, 4948333, ...  \n",
       "4      [4566100, 2209563, 5689699, 2977786, 4566196, ...  \n",
       "...                                                  ...  \n",
       "48074  [5146451, 3041911, 5405936, 4310738, 4716080, ...  \n",
       "48075  [5146451, 344189, 2907347, 2907348, 4993523, 3...  \n",
       "48076  [5146451, 2362377, 2907347, 2907348, 3605780, ...  \n",
       "48077  [5146451, 344189, 2893111, 3701223, 945760, 38...  \n",
       "48078  [4787091, 3730258, 2362377, 3843412, 4546191, ...  \n",
       "\n",
       "[48079 rows x 14 columns]"
      ]
     },
     "execution_count": 9,
     "metadata": {},
     "output_type": "execute_result"
    }
   ],
   "source": [
    "used = used[used['type'] == '6w'].reset_index(drop=True)\n",
    "used"
   ]
  },
  {
   "cell_type": "code",
   "execution_count": 10,
   "id": "5614b3d2-7f46-4185-ad6d-d96a04eb8c03",
   "metadata": {
    "tags": []
   },
   "outputs": [],
   "source": [
    "used['prompt_answer'] = used['prompt'] + used['A'] + used['B'] + used['C'] + used['D'] + used['E']\n",
    "trn['prompt_answer'] = trn['prompt'] + trn['A'] + trn['B'] + trn['C'] + trn['D'] + trn['E']"
   ]
  },
  {
   "cell_type": "code",
   "execution_count": 13,
   "id": "76243f24-e97d-4b5b-93a7-a2e25b24c06f",
   "metadata": {
    "tags": []
   },
   "outputs": [],
   "source": [
    "use = set(used['prompt_answer'].tolist())\n",
    "trn = trn[~trn['prompt_answer'].isin(use)].reset_index(drop=True)"
   ]
  },
  {
   "cell_type": "code",
   "execution_count": 15,
   "id": "ed796225-7baf-4dc6-ac7b-4a22f4665ca9",
   "metadata": {
    "tags": []
   },
   "outputs": [],
   "source": [
    "trn['top1000_to_top20_ids'] = trn['top1000_to_top30_ids'].apply(lambda x : x[:20])"
   ]
  },
  {
   "cell_type": "code",
   "execution_count": 17,
   "id": "156df425-189c-4cd0-85d1-68bf5576d07a",
   "metadata": {
    "tags": []
   },
   "outputs": [
    {
     "data": {
      "text/plain": [
       "20"
      ]
     },
     "execution_count": 17,
     "metadata": {},
     "output_type": "execute_result"
    }
   ],
   "source": [
    "len(trn.loc[0,'top1000_to_top20_ids'])"
   ]
  },
  {
   "cell_type": "code",
   "execution_count": 19,
   "id": "b3f868a4-b0b6-4328-aba5-6a08dd855e10",
   "metadata": {
    "tags": []
   },
   "outputs": [],
   "source": [
    "trn.to_parquet('./data/7w8中除掉之前4w剩下的3w_top1000_top20.parquet')"
   ]
  },
  {
   "cell_type": "code",
   "execution_count": 20,
   "id": "51a79999-359c-4535-8710-5a8d284e0b5f",
   "metadata": {
    "tags": []
   },
   "outputs": [],
   "source": [
    "trn = []\n",
    "for i in range(20):\n",
    "    trn.append(pd.read_pickle(f'./tmp/10w_bm25_top1000_top20_sentence_part{i}.pkl'))"
   ]
  },
  {
   "cell_type": "code",
   "execution_count": 21,
   "id": "3c93d01e-114f-4f6c-a8fc-bd1b47cbf722",
   "metadata": {
    "tags": []
   },
   "outputs": [],
   "source": [
    "for i in range(6):\n",
    "    trn.append(pd.read_pickle(f'./tmp/7w8中除掉之前4w剩下的3w_top1000_top20_sentence_part{i}.pkl'))"
   ]
  },
  {
   "cell_type": "code",
   "execution_count": 22,
   "id": "c5e7858f-5649-4640-9e65-7b6d42c368ea",
   "metadata": {
    "tags": []
   },
   "outputs": [],
   "source": [
    "trn = pd.concat(trn, axis=0).reset_index(drop=True)"
   ]
  },
  {
   "cell_type": "code",
   "execution_count": 24,
   "id": "f56bc97f-22d2-4113-ace3-039ccefd484b",
   "metadata": {
    "tags": []
   },
   "outputs": [],
   "source": [
    "trn['type'] = trn['type'].fillna('3w')"
   ]
  },
  {
   "cell_type": "code",
   "execution_count": 26,
   "id": "ecf5c917-67ba-4e77-861e-9ee1b7172d39",
   "metadata": {
    "tags": []
   },
   "outputs": [],
   "source": [
    "def change(s):\n",
    "    if s == '6w':\n",
    "        return '4w8'\n",
    "    if s == '4w8':\n",
    "        return '6w'\n",
    "    return '3w'\n",
    "trn['type'] = trn['type'].apply(lambda x : change(x))"
   ]
  },
  {
   "cell_type": "code",
   "execution_count": 30,
   "id": "6aedb341-02ff-4895-a0c5-6ec39221f593",
   "metadata": {
    "tags": []
   },
   "outputs": [],
   "source": [
    "trn = trn[['prompt','context','A','B','C','D','E','answer','type']]"
   ]
  },
  {
   "cell_type": "code",
   "execution_count": 31,
   "id": "baaaac30-37c6-4f5d-9307-89510a56e62d",
   "metadata": {
    "tags": []
   },
   "outputs": [],
   "source": [
    "trn.to_parquet('./data/13w_recall_Top1000_Top20_sentence.parquet')"
   ]
  },
  {
   "cell_type": "code",
   "execution_count": 1,
   "id": "4f434450-672f-4e62-a805-51f9a4406b38",
   "metadata": {},
   "outputs": [],
   "source": [
    "import pandas as pd\n",
    "trn = pd.read_parquet('./data/13w_recall_Top1000_Top20_sentence.parquet')"
   ]
  },
  {
   "cell_type": "code",
   "execution_count": 5,
   "id": "ca51146d-da6b-475b-90f6-d70fefc2c1b5",
   "metadata": {
    "tags": []
   },
   "outputs": [
    {
     "data": {
      "text/plain": [
       "array(['Eunice Fay McKenzie (February 19, 1918 – April 16, 2019) was an American actress and singer.',\n",
       "       'She also entertained the troops with her former screen partner, Gene Autry. ===Later career=== After World War II, McKenzie retired from films to raise her two children.',\n",
       "       'She was briefly billed as Fay Shannon. ==Biography== ===Early life and silent film=== McKenzie was born on February 19, 1918, in Hollywood, California, to show business parents, film actor Eva (née Heazlitt) and Irish American actor/director Robert McKenzie.Mike Fitzgerald, \"An Interview with ...',\n",
       "       'She starred in silent films as a child, and then sound films as an adult, but perhaps she is best known for her leading roles opposite Gene Autry in the early 1940s in five horse opera features.',\n",
       "       \"She trained at the Guildhall School of Music and Drama. ==Career== ===Theatre=== McKenzie's early West End musical credits include Maggie May (1966), Mame (1969), and Company (1971).\",\n",
       "       'Known at school for her fine singing voice, McKenzie was cast as Nancy in Oliver! then in Godspell (both a co-production with Shore School) and later in Brigadoon (a co-production with Knox Grammar School), sharing the stage with Hugh Jackman, who was a student at Knox at the time. ==Career== === Early years === McKenzie studied for a Bachelor of Arts degree at the University of New South Wales.',\n",
       "       'Described by head of NIDA, John Clarke, as \"A chameleon\" \"one of the most talented actresses we have produced... she\\'s an absolute dynamo, a powerhouse,\" McKenzie had fast earned a reputation as one of the most versatile actresses of her generation, taking on varied and often difficult roles.',\n",
       "       'A sell-out production with an extension season at the Theatre Royal, Sydney, McKenzie\\'s performance, in the role that made Elizabeth Taylor famous, was highly acclaimed: \"Jacqueline McKenzie has far more scope in this play than she had in the recent Sex with Strangers to display her mesmerizing and neurasthenic talents that are so reminiscent of the early Judy Davis.',\n",
       "       \"Fay's sister Ida Mae McKenzie, cousin Ella McKenzie, and brother-in-law Billy Gilbert, were also actors.\",\n",
       "       'McKenzie received an Australian Film Institute Award nomination for Best Actress in a Miniseries for the role.',\n",
       "       '\"This production had the inexhaustible talents of Jacqueline McKenzie, an utterly charming and irrepressible Australian, whose cockney accent was spot on and characterization was full-cocked.',\n",
       "       \"Jacqueline Susan McKenzie (born 24 October 1967)Jacqueline McKenzie profile, filmreference.com; accessed 29 November 2021. is an Australian film and stage actress. ==Early life== Born in Sydney, New South Wales, McKenzie attended Wenona School in North Sydney until 1983 then moved to Pymble Ladies' College, where she graduated in 1985 with her Higher School Certificate.\",\n",
       "       'She also had minor roles in various B movies.',\n",
       "       'Directed by Craig Monahan, the role garnered McKenzie a Best Actress Award from the Film Critics Circle of Australia with her performance described as a \"revelation\": \"never more so than in the scene where she sings \\'The Carnival Is Over\\' across a pub counter.\"',\n",
       "       \"In 2021, McKenzie appeared with Annabelle Wallis in James Wan's horror film Malignant, and starred alongside Jane Seymour in Australia feature film Ruby's Choice. ==Music== McKenzie's hobbies include composing and recording music.\",\n",
       "       'McKenzie sang duets with Autry in each of these films.',\n",
       "       'Ida Mae also played the character of Sarah Lincoln in The Dramatic Life of Abraham Lincoln, in the part of the film where she had become a teenager. ===Schooling=== In the mid-1920s, McKenzie took a ten-year break from acting in order to focus on her education.',\n",
       "       'That same year, McKenzie was also nominated for Best Supporting Actress in the feature film Traps, directed by Pauline Chan. Playing the French girl living in Colonial Vietnam, McKenzie got to showcase her versatility by speaking in both French and Vietnamese for the role.',\n",
       "       'Her father had a stock company called the McKenzie Merry Makers, and was both an actor and director in stage productions and films.',\n",
       "       'McKenzie later recalled, ===Sound films=== McKenzie appeared in numerous uncredited roles throughout the 1930s, with occasional credited roles in films such as The Boss Cowboy (1934) as Sally Nolan, and the anti-cannabis propaganda film Assassin of Youth (1937) as Linda Clayton.'],\n",
       "      dtype=object)"
      ]
     },
     "execution_count": 5,
     "metadata": {},
     "output_type": "execute_result"
    }
   ],
   "source": [
    "trn.loc[0,'context']"
   ]
  },
  {
   "cell_type": "code",
   "execution_count": 9,
   "id": "a8f9fb2d-ff52-43c4-a453-a656b31d2265",
   "metadata": {
    "tags": []
   },
   "outputs": [
    {
     "data": {
      "text/html": [
       "<div>\n",
       "<style scoped>\n",
       "    .dataframe tbody tr th:only-of-type {\n",
       "        vertical-align: middle;\n",
       "    }\n",
       "\n",
       "    .dataframe tbody tr th {\n",
       "        vertical-align: top;\n",
       "    }\n",
       "\n",
       "    .dataframe thead th {\n",
       "        text-align: right;\n",
       "    }\n",
       "</style>\n",
       "<table border=\"1\" class=\"dataframe\">\n",
       "  <thead>\n",
       "    <tr style=\"text-align: right;\">\n",
       "      <th></th>\n",
       "      <th>prompt</th>\n",
       "      <th>context</th>\n",
       "      <th>A</th>\n",
       "      <th>B</th>\n",
       "      <th>C</th>\n",
       "      <th>D</th>\n",
       "      <th>E</th>\n",
       "      <th>answer</th>\n",
       "      <th>type</th>\n",
       "      <th>prompt_answer</th>\n",
       "    </tr>\n",
       "  </thead>\n",
       "  <tbody>\n",
       "    <tr>\n",
       "      <th>0</th>\n",
       "      <td>In relation to Eunice Fay McKenzie's career, w...</td>\n",
       "      <td>[Eunice Fay McKenzie (February 19, 1918 – Apri...</td>\n",
       "      <td>McKenzie showcased her singing talents in nume...</td>\n",
       "      <td>McKenzie is primarily remembered for her starr...</td>\n",
       "      <td>McKenzie gained recognition for her role as a ...</td>\n",
       "      <td>McKenzie's collaborations with director Blake ...</td>\n",
       "      <td>McKenzie's successful career in sound films co...</td>\n",
       "      <td>B</td>\n",
       "      <td>6w</td>\n",
       "      <td>In relation to Eunice Fay McKenzie's career, w...</td>\n",
       "    </tr>\n",
       "    <tr>\n",
       "      <th>1</th>\n",
       "      <td>How does Modified Newtonian Dynamics (MOND) im...</td>\n",
       "      <td>[While almost all astrophysicists today reject...</td>\n",
       "      <td>MOND is a theory that increases the discrepanc...</td>\n",
       "      <td>MOND explains the missing baryonic mass in gal...</td>\n",
       "      <td>MOND is a theory that reduces the observed mis...</td>\n",
       "      <td>MOND is a theory that eliminates the observed ...</td>\n",
       "      <td>MOND's impact on the observed missing baryonic...</td>\n",
       "      <td>E</td>\n",
       "      <td>6w</td>\n",
       "      <td>How does Modified Newtonian Dynamics (MOND) im...</td>\n",
       "    </tr>\n",
       "    <tr>\n",
       "      <th>2</th>\n",
       "      <td>Which of the following statements accurately d...</td>\n",
       "      <td>[Ray Montgomerie (born 17 April 1961) is a Sco...</td>\n",
       "      <td>Ray Montgomerie is a former footballer who pla...</td>\n",
       "      <td>Ray Montgomerie is a former footballer who pla...</td>\n",
       "      <td>Ray Montgomerie is a former footballer who pla...</td>\n",
       "      <td>Ray Montgomerie is a former footballer who pla...</td>\n",
       "      <td>Ray Montgomerie is a former footballer who pla...</td>\n",
       "      <td>B</td>\n",
       "      <td>6w</td>\n",
       "      <td>Which of the following statements accurately d...</td>\n",
       "    </tr>\n",
       "    <tr>\n",
       "      <th>3</th>\n",
       "      <td>What is the significance of the Museum of the ...</td>\n",
       "      <td>[The Museum of the Occupation of Latvia () is ...</td>\n",
       "      <td>The Museum of the Occupation of Latvia is a me...</td>\n",
       "      <td>The Museum of the Occupation of Latvia showcas...</td>\n",
       "      <td>The Museum of the Occupation of Latvia was est...</td>\n",
       "      <td>The Museum of the Occupation of Latvia primari...</td>\n",
       "      <td>The Museum of the Occupation of Latvia is a mu...</td>\n",
       "      <td>C</td>\n",
       "      <td>6w</td>\n",
       "      <td>What is the significance of the Museum of the ...</td>\n",
       "    </tr>\n",
       "    <tr>\n",
       "      <th>4</th>\n",
       "      <td>What was the previous name of the Christian Sc...</td>\n",
       "      <td>[It was named the Evangelical School for the D...</td>\n",
       "      <td>The Christian School for the Deaf (CSD)</td>\n",
       "      <td>The Christian School for the Blind (CSB)</td>\n",
       "      <td>The Evangelical School and Chapel for the Deaf...</td>\n",
       "      <td>The Evangelical School for the Deaf (ESD)</td>\n",
       "      <td>The Evangelical School for the Blind (ESB)</td>\n",
       "      <td>D</td>\n",
       "      <td>6w</td>\n",
       "      <td>What was the previous name of the Christian Sc...</td>\n",
       "    </tr>\n",
       "    <tr>\n",
       "      <th>...</th>\n",
       "      <td>...</td>\n",
       "      <td>...</td>\n",
       "      <td>...</td>\n",
       "      <td>...</td>\n",
       "      <td>...</td>\n",
       "      <td>...</td>\n",
       "      <td>...</td>\n",
       "      <td>...</td>\n",
       "      <td>...</td>\n",
       "      <td>...</td>\n",
       "    </tr>\n",
       "    <tr>\n",
       "      <th>138354</th>\n",
       "      <td>What is the inscription on the plinth of the a...</td>\n",
       "      <td>[It serves three purposes: firstly, simply to ...</td>\n",
       "      <td>Rotary Armillary</td>\n",
       "      <td>Service Above Self</td>\n",
       "      <td>This Armillary was presented to the people of ...</td>\n",
       "      <td>The Rotary Club of Cheam has joined with the R...</td>\n",
       "      <td>December 2000</td>\n",
       "      <td>B</td>\n",
       "      <td>3w</td>\n",
       "      <td>What is the inscription on the plinth of the a...</td>\n",
       "    </tr>\n",
       "    <tr>\n",
       "      <th>138355</th>\n",
       "      <td>How was the Millennium Dial Armillary funded?</td>\n",
       "      <td>[The Millennium Dial Armillary is one of six p...</td>\n",
       "      <td>By the London Borough of Sutton</td>\n",
       "      <td>By the Rotary Club</td>\n",
       "      <td>By the sponsors listed on the plinth inscription</td>\n",
       "      <td>By the residents of Sutton</td>\n",
       "      <td>By a joint effort between the Rotary Club and ...</td>\n",
       "      <td>C</td>\n",
       "      <td>3w</td>\n",
       "      <td>How was the Millennium Dial Armillary funded? ...</td>\n",
       "    </tr>\n",
       "    <tr>\n",
       "      <th>138356</th>\n",
       "      <td>What is the Ukrainian Physicists' Tournament f...</td>\n",
       "      <td>[Since then, Ukrainian Physicists' Tournament ...</td>\n",
       "      <td>A competition for secondary school students to...</td>\n",
       "      <td>A competition for university students to solve...</td>\n",
       "      <td>A competition for international physicists to ...</td>\n",
       "      <td>A research project competition for university ...</td>\n",
       "      <td>A creative team competition for university stu...</td>\n",
       "      <td>E</td>\n",
       "      <td>3w</td>\n",
       "      <td>What is the Ukrainian Physicists' Tournament f...</td>\n",
       "    </tr>\n",
       "    <tr>\n",
       "      <th>138357</th>\n",
       "      <td>When was the first Open Physicists' Tournament...</td>\n",
       "      <td>[The first Open Physicists' Tournament for Uni...</td>\n",
       "      <td>2001</td>\n",
       "      <td>2005</td>\n",
       "      <td>2010</td>\n",
       "      <td>2015</td>\n",
       "      <td>2020</td>\n",
       "      <td>A</td>\n",
       "      <td>3w</td>\n",
       "      <td>When was the first Open Physicists' Tournament...</td>\n",
       "    </tr>\n",
       "    <tr>\n",
       "      <th>138358</th>\n",
       "      <td>What is the International Physicists' Tournament?</td>\n",
       "      <td>[Is a part of International Physicists' Tourna...</td>\n",
       "      <td>A tournament for Ukrainian physicists to compe...</td>\n",
       "      <td>A tournament for university students to compet...</td>\n",
       "      <td>A research project competition for internation...</td>\n",
       "      <td>A continuation of school Tournaments of Young ...</td>\n",
       "      <td>A creative team competition for international ...</td>\n",
       "      <td>B</td>\n",
       "      <td>3w</td>\n",
       "      <td>What is the International Physicists' Tourname...</td>\n",
       "    </tr>\n",
       "  </tbody>\n",
       "</table>\n",
       "<p>132376 rows × 10 columns</p>\n",
       "</div>"
      ],
      "text/plain": [
       "                                                   prompt   \n",
       "0       In relation to Eunice Fay McKenzie's career, w...  \\\n",
       "1       How does Modified Newtonian Dynamics (MOND) im...   \n",
       "2       Which of the following statements accurately d...   \n",
       "3       What is the significance of the Museum of the ...   \n",
       "4       What was the previous name of the Christian Sc...   \n",
       "...                                                   ...   \n",
       "138354  What is the inscription on the plinth of the a...   \n",
       "138355      How was the Millennium Dial Armillary funded?   \n",
       "138356  What is the Ukrainian Physicists' Tournament f...   \n",
       "138357  When was the first Open Physicists' Tournament...   \n",
       "138358  What is the International Physicists' Tournament?   \n",
       "\n",
       "                                                  context   \n",
       "0       [Eunice Fay McKenzie (February 19, 1918 – Apri...  \\\n",
       "1       [While almost all astrophysicists today reject...   \n",
       "2       [Ray Montgomerie (born 17 April 1961) is a Sco...   \n",
       "3       [The Museum of the Occupation of Latvia () is ...   \n",
       "4       [It was named the Evangelical School for the D...   \n",
       "...                                                   ...   \n",
       "138354  [It serves three purposes: firstly, simply to ...   \n",
       "138355  [The Millennium Dial Armillary is one of six p...   \n",
       "138356  [Since then, Ukrainian Physicists' Tournament ...   \n",
       "138357  [The first Open Physicists' Tournament for Uni...   \n",
       "138358  [Is a part of International Physicists' Tourna...   \n",
       "\n",
       "                                                        A   \n",
       "0       McKenzie showcased her singing talents in nume...  \\\n",
       "1       MOND is a theory that increases the discrepanc...   \n",
       "2       Ray Montgomerie is a former footballer who pla...   \n",
       "3       The Museum of the Occupation of Latvia is a me...   \n",
       "4                 The Christian School for the Deaf (CSD)   \n",
       "...                                                   ...   \n",
       "138354                                   Rotary Armillary   \n",
       "138355                    By the London Borough of Sutton   \n",
       "138356  A competition for secondary school students to...   \n",
       "138357                                               2001   \n",
       "138358  A tournament for Ukrainian physicists to compe...   \n",
       "\n",
       "                                                        B   \n",
       "0       McKenzie is primarily remembered for her starr...  \\\n",
       "1       MOND explains the missing baryonic mass in gal...   \n",
       "2       Ray Montgomerie is a former footballer who pla...   \n",
       "3       The Museum of the Occupation of Latvia showcas...   \n",
       "4                The Christian School for the Blind (CSB)   \n",
       "...                                                   ...   \n",
       "138354                                 Service Above Self   \n",
       "138355                                 By the Rotary Club   \n",
       "138356  A competition for university students to solve...   \n",
       "138357                                               2005   \n",
       "138358  A tournament for university students to compet...   \n",
       "\n",
       "                                                        C   \n",
       "0       McKenzie gained recognition for her role as a ...  \\\n",
       "1       MOND is a theory that reduces the observed mis...   \n",
       "2       Ray Montgomerie is a former footballer who pla...   \n",
       "3       The Museum of the Occupation of Latvia was est...   \n",
       "4       The Evangelical School and Chapel for the Deaf...   \n",
       "...                                                   ...   \n",
       "138354  This Armillary was presented to the people of ...   \n",
       "138355   By the sponsors listed on the plinth inscription   \n",
       "138356  A competition for international physicists to ...   \n",
       "138357                                               2010   \n",
       "138358  A research project competition for internation...   \n",
       "\n",
       "                                                        D   \n",
       "0       McKenzie's collaborations with director Blake ...  \\\n",
       "1       MOND is a theory that eliminates the observed ...   \n",
       "2       Ray Montgomerie is a former footballer who pla...   \n",
       "3       The Museum of the Occupation of Latvia primari...   \n",
       "4               The Evangelical School for the Deaf (ESD)   \n",
       "...                                                   ...   \n",
       "138354  The Rotary Club of Cheam has joined with the R...   \n",
       "138355                         By the residents of Sutton   \n",
       "138356  A research project competition for university ...   \n",
       "138357                                               2015   \n",
       "138358  A continuation of school Tournaments of Young ...   \n",
       "\n",
       "                                                        E answer type   \n",
       "0       McKenzie's successful career in sound films co...      B   6w  \\\n",
       "1       MOND's impact on the observed missing baryonic...      E   6w   \n",
       "2       Ray Montgomerie is a former footballer who pla...      B   6w   \n",
       "3       The Museum of the Occupation of Latvia is a mu...      C   6w   \n",
       "4              The Evangelical School for the Blind (ESB)      D   6w   \n",
       "...                                                   ...    ...  ...   \n",
       "138354                                      December 2000      B   3w   \n",
       "138355  By a joint effort between the Rotary Club and ...      C   3w   \n",
       "138356  A creative team competition for university stu...      E   3w   \n",
       "138357                                               2020      A   3w   \n",
       "138358  A creative team competition for international ...      B   3w   \n",
       "\n",
       "                                            prompt_answer  \n",
       "0       In relation to Eunice Fay McKenzie's career, w...  \n",
       "1       How does Modified Newtonian Dynamics (MOND) im...  \n",
       "2       Which of the following statements accurately d...  \n",
       "3       What is the significance of the Museum of the ...  \n",
       "4       What was the previous name of the Christian Sc...  \n",
       "...                                                   ...  \n",
       "138354  What is the inscription on the plinth of the a...  \n",
       "138355  How was the Millennium Dial Armillary funded? ...  \n",
       "138356  What is the Ukrainian Physicists' Tournament f...  \n",
       "138357  When was the first Open Physicists' Tournament...  \n",
       "138358  What is the International Physicists' Tourname...  \n",
       "\n",
       "[132376 rows x 10 columns]"
      ]
     },
     "execution_count": 9,
     "metadata": {},
     "output_type": "execute_result"
    }
   ],
   "source": [
    "trn['prompt_answer'] = trn.apply(lambda row: ' '.join(str(row[field]) for field in ['prompt', 'A', 'B', 'C', 'D', 'E']), axis=1)\n",
    "trn.drop_duplicates(subset='prompt_answer')"
   ]
  },
  {
   "cell_type": "code",
   "execution_count": 1,
   "id": "9dada5a7-331d-4971-a7ec-2dcfcf6f938f",
   "metadata": {},
   "outputs": [],
   "source": [
    "import numpy as np\n",
    "pred = []\n",
    "pred.append(np.array([23.12,4123.123]))\n",
    "pred.append(np.array([213.12,312.32]))"
   ]
  },
  {
   "cell_type": "code",
   "execution_count": null,
   "id": "98dedf3f-2457-4913-91f3-d06ab0763089",
   "metadata": {},
   "outputs": [],
   "source": [
    "pred[0] + p"
   ]
  },
  {
   "cell_type": "code",
   "execution_count": 1,
   "id": "d6e924f4-9f6d-4e63-aa62-9cad8cbba4e2",
   "metadata": {
    "tags": []
   },
   "outputs": [],
   "source": [
    "import pandas as pd\n",
    "data = pd.read_csv('./data/10w_bm25_20_20_merge.csv')\n",
    "trn = pd.read_csv('./data/train_10w_bm25召回_训LLM用.csv')"
   ]
  },
  {
   "cell_type": "code",
   "execution_count": 7,
   "id": "c22cc9a9-cea2-4c68-9607-cf30fb795e44",
   "metadata": {
    "tags": []
   },
   "outputs": [
    {
     "data": {
      "text/html": [
       "<div>\n",
       "<style scoped>\n",
       "    .dataframe tbody tr th:only-of-type {\n",
       "        vertical-align: middle;\n",
       "    }\n",
       "\n",
       "    .dataframe tbody tr th {\n",
       "        vertical-align: top;\n",
       "    }\n",
       "\n",
       "    .dataframe thead th {\n",
       "        text-align: right;\n",
       "    }\n",
       "</style>\n",
       "<table border=\"1\" class=\"dataframe\">\n",
       "  <thead>\n",
       "    <tr style=\"text-align: right;\">\n",
       "      <th></th>\n",
       "      <th>prompt</th>\n",
       "      <th>context</th>\n",
       "      <th>A</th>\n",
       "      <th>B</th>\n",
       "      <th>C</th>\n",
       "      <th>D</th>\n",
       "      <th>E</th>\n",
       "      <th>answer</th>\n",
       "    </tr>\n",
       "  </thead>\n",
       "  <tbody>\n",
       "    <tr>\n",
       "      <th>0</th>\n",
       "      <td>What is physical mathematics?</td>\n",
       "      <td>The subject of physical mathematics is concern...</td>\n",
       "      <td>The study of physically motivated mathematics</td>\n",
       "      <td>The study of mathematical physics</td>\n",
       "      <td>The study of mathematics in physical contexts</td>\n",
       "      <td>The study of mathematical equations</td>\n",
       "      <td>The study of mathematical operations</td>\n",
       "      <td>A</td>\n",
       "    </tr>\n",
       "    <tr>\n",
       "      <th>1</th>\n",
       "      <td>Who wrote Physical Arithmetic in 1885?</td>\n",
       "      <td>The details of physical units and their manipu...</td>\n",
       "      <td>Margaret Osler</td>\n",
       "      <td>Alexander Macfarlane</td>\n",
       "      <td>Alhazen</td>\n",
       "      <td>Galileo</td>\n",
       "      <td>Newton</td>\n",
       "      <td>B</td>\n",
       "    </tr>\n",
       "    <tr>\n",
       "      <th>2</th>\n",
       "      <td>What did the Mathematical Tripos at Cambridge ...</td>\n",
       "      <td>At Cambridge University the Mathematical Tripo...</td>\n",
       "      <td>Pure mathematics</td>\n",
       "      <td>Applied mathematics</td>\n",
       "      <td>Mixed mathematics</td>\n",
       "      <td>Fluxional calculus</td>\n",
       "      <td>Physical problems</td>\n",
       "      <td>C</td>\n",
       "    </tr>\n",
       "    <tr>\n",
       "      <th>3</th>\n",
       "      <td>What mathematical representation is used for m...</td>\n",
       "      <td>The details of physical units and their manipu...</td>\n",
       "      <td>Complex numbers</td>\n",
       "      <td>Quaternions</td>\n",
       "      <td>Linear algebra</td>\n",
       "      <td>Fluxional calculus</td>\n",
       "      <td>Mixed mathematics</td>\n",
       "      <td>C</td>\n",
       "    </tr>\n",
       "    <tr>\n",
       "      <th>4</th>\n",
       "      <td>What did the early expressions of kinematics a...</td>\n",
       "      <td>Accordingly these early expressions of kinemat...</td>\n",
       "      <td>Causality</td>\n",
       "      <td>Forces</td>\n",
       "      <td>Mathematical physics</td>\n",
       "      <td>Fluxional calculus</td>\n",
       "      <td>Mixed mathematics</td>\n",
       "      <td>C</td>\n",
       "    </tr>\n",
       "    <tr>\n",
       "      <th>...</th>\n",
       "      <td>...</td>\n",
       "      <td>...</td>\n",
       "      <td>...</td>\n",
       "      <td>...</td>\n",
       "      <td>...</td>\n",
       "      <td>...</td>\n",
       "      <td>...</td>\n",
       "      <td>...</td>\n",
       "    </tr>\n",
       "    <tr>\n",
       "      <th>107342</th>\n",
       "      <td>The outer ear, or ear canal, carries sound to ...</td>\n",
       "      <td>The difference in pressure between internal or...</td>\n",
       "      <td>aorta</td>\n",
       "      <td>ear lobe</td>\n",
       "      <td>eardrum</td>\n",
       "      <td>lungs</td>\n",
       "      <td>NaN</td>\n",
       "      <td>C</td>\n",
       "    </tr>\n",
       "    <tr>\n",
       "      <th>107343</th>\n",
       "      <td>What sport involves people quickly finding des...</td>\n",
       "      <td>The term is derived from the use of the term f...</td>\n",
       "      <td>mapping</td>\n",
       "      <td>NaN</td>\n",
       "      <td>orienteering</td>\n",
       "      <td>patterning</td>\n",
       "      <td>sticking</td>\n",
       "      <td>C</td>\n",
       "    </tr>\n",
       "    <tr>\n",
       "      <th>107344</th>\n",
       "      <td>Almost all earthquakes occur at which place?</td>\n",
       "      <td>Tectonic processes typically occur at plate bo...</td>\n",
       "      <td>mountains</td>\n",
       "      <td>land boundaries</td>\n",
       "      <td>plate boundaries</td>\n",
       "      <td>continental shelf</td>\n",
       "      <td>NaN</td>\n",
       "      <td>C</td>\n",
       "    </tr>\n",
       "    <tr>\n",
       "      <th>107345</th>\n",
       "      <td>Melting glaciers, rising temperatures and drou...</td>\n",
       "      <td>Wildfires in Italy can be a problem. == Impact...</td>\n",
       "      <td>nature's natural cycle</td>\n",
       "      <td>air pollution</td>\n",
       "      <td>global warming</td>\n",
       "      <td>sudden warming</td>\n",
       "      <td>NaN</td>\n",
       "      <td>C</td>\n",
       "    </tr>\n",
       "    <tr>\n",
       "      <th>107346</th>\n",
       "      <td>What parts of a human possess the highest conc...</td>\n",
       "      <td>In humans, sebaceous glands occur in the great...</td>\n",
       "      <td>NaN</td>\n",
       "      <td>hand and ears</td>\n",
       "      <td>face and hair</td>\n",
       "      <td>face and ears</td>\n",
       "      <td>hands and feet</td>\n",
       "      <td>D</td>\n",
       "    </tr>\n",
       "  </tbody>\n",
       "</table>\n",
       "<p>107347 rows × 8 columns</p>\n",
       "</div>"
      ],
      "text/plain": [
       "                                                   prompt   \n",
       "0                           What is physical mathematics?  \\\n",
       "1                  Who wrote Physical Arithmetic in 1885?   \n",
       "2       What did the Mathematical Tripos at Cambridge ...   \n",
       "3       What mathematical representation is used for m...   \n",
       "4       What did the early expressions of kinematics a...   \n",
       "...                                                   ...   \n",
       "107342  The outer ear, or ear canal, carries sound to ...   \n",
       "107343  What sport involves people quickly finding des...   \n",
       "107344       Almost all earthquakes occur at which place?   \n",
       "107345  Melting glaciers, rising temperatures and drou...   \n",
       "107346  What parts of a human possess the highest conc...   \n",
       "\n",
       "                                                  context   \n",
       "0       The subject of physical mathematics is concern...  \\\n",
       "1       The details of physical units and their manipu...   \n",
       "2       At Cambridge University the Mathematical Tripo...   \n",
       "3       The details of physical units and their manipu...   \n",
       "4       Accordingly these early expressions of kinemat...   \n",
       "...                                                   ...   \n",
       "107342  The difference in pressure between internal or...   \n",
       "107343  The term is derived from the use of the term f...   \n",
       "107344  Tectonic processes typically occur at plate bo...   \n",
       "107345  Wildfires in Italy can be a problem. == Impact...   \n",
       "107346  In humans, sebaceous glands occur in the great...   \n",
       "\n",
       "                                                    A   \n",
       "0       The study of physically motivated mathematics  \\\n",
       "1                                      Margaret Osler   \n",
       "2                                    Pure mathematics   \n",
       "3                                     Complex numbers   \n",
       "4                                           Causality   \n",
       "...                                               ...   \n",
       "107342                                          aorta   \n",
       "107343                                        mapping   \n",
       "107344                                      mountains   \n",
       "107345                         nature's natural cycle   \n",
       "107346                                            NaN   \n",
       "\n",
       "                                        B   \n",
       "0       The study of mathematical physics  \\\n",
       "1                    Alexander Macfarlane   \n",
       "2                     Applied mathematics   \n",
       "3                             Quaternions   \n",
       "4                                  Forces   \n",
       "...                                   ...   \n",
       "107342                           ear lobe   \n",
       "107343                                NaN   \n",
       "107344                    land boundaries   \n",
       "107345                      air pollution   \n",
       "107346                      hand and ears   \n",
       "\n",
       "                                                    C   \n",
       "0       The study of mathematics in physical contexts  \\\n",
       "1                                             Alhazen   \n",
       "2                                   Mixed mathematics   \n",
       "3                                      Linear algebra   \n",
       "4                                Mathematical physics   \n",
       "...                                               ...   \n",
       "107342                                        eardrum   \n",
       "107343                                   orienteering   \n",
       "107344                               plate boundaries   \n",
       "107345                                 global warming   \n",
       "107346                                  face and hair   \n",
       "\n",
       "                                          D   \n",
       "0       The study of mathematical equations  \\\n",
       "1                                   Galileo   \n",
       "2                        Fluxional calculus   \n",
       "3                        Fluxional calculus   \n",
       "4                        Fluxional calculus   \n",
       "...                                     ...   \n",
       "107342                                lungs   \n",
       "107343                           patterning   \n",
       "107344                    continental shelf   \n",
       "107345                       sudden warming   \n",
       "107346                        face and ears   \n",
       "\n",
       "                                           E answer  \n",
       "0       The study of mathematical operations      A  \n",
       "1                                     Newton      B  \n",
       "2                          Physical problems      C  \n",
       "3                          Mixed mathematics      C  \n",
       "4                          Mixed mathematics      C  \n",
       "...                                      ...    ...  \n",
       "107342                                   NaN      C  \n",
       "107343                              sticking      C  \n",
       "107344                                   NaN      C  \n",
       "107345                                   NaN      C  \n",
       "107346                        hands and feet      D  \n",
       "\n",
       "[107347 rows x 8 columns]"
      ]
     },
     "execution_count": 7,
     "metadata": {},
     "output_type": "execute_result"
    }
   ],
   "source": [
    "trn"
   ]
  },
  {
   "cell_type": "code",
   "execution_count": 1,
   "id": "bf609ce2-c27c-46a5-ba0b-466f3b175c74",
   "metadata": {},
   "outputs": [],
   "source": [
    "import pandas as pd\n",
    "data = pd.read_csv('./data/10w_bm25_20_20_merge.csv')"
   ]
  },
  {
   "cell_type": "code",
   "execution_count": 2,
   "id": "4748c56e-0be9-42c5-9250-06d8e2ce79ab",
   "metadata": {
    "tags": []
   },
   "outputs": [
    {
     "data": {
      "text/html": [
       "<div>\n",
       "<style scoped>\n",
       "    .dataframe tbody tr th:only-of-type {\n",
       "        vertical-align: middle;\n",
       "    }\n",
       "\n",
       "    .dataframe tbody tr th {\n",
       "        vertical-align: top;\n",
       "    }\n",
       "\n",
       "    .dataframe thead th {\n",
       "        text-align: right;\n",
       "    }\n",
       "</style>\n",
       "<table border=\"1\" class=\"dataframe\">\n",
       "  <thead>\n",
       "    <tr style=\"text-align: right;\">\n",
       "      <th></th>\n",
       "      <th>Unnamed: 0</th>\n",
       "      <th>prompt</th>\n",
       "      <th>context</th>\n",
       "      <th>A</th>\n",
       "      <th>B</th>\n",
       "      <th>C</th>\n",
       "      <th>D</th>\n",
       "      <th>E</th>\n",
       "      <th>answer</th>\n",
       "      <th>source</th>\n",
       "      <th>type</th>\n",
       "      <th>id</th>\n",
       "    </tr>\n",
       "  </thead>\n",
       "  <tbody>\n",
       "    <tr>\n",
       "      <th>0</th>\n",
       "      <td>0</td>\n",
       "      <td>In relation to Eunice Fay McKenzie's career, w...</td>\n",
       "      <td>She starred in silent films as a child, and th...</td>\n",
       "      <td>McKenzie showcased her singing talents in nume...</td>\n",
       "      <td>McKenzie is primarily remembered for her starr...</td>\n",
       "      <td>McKenzie gained recognition for her role as a ...</td>\n",
       "      <td>McKenzie's collaborations with director Blake ...</td>\n",
       "      <td>McKenzie's successful career in sound films co...</td>\n",
       "      <td>B</td>\n",
       "      <td>1.0</td>\n",
       "      <td>6w</td>\n",
       "      <td>NaN</td>\n",
       "    </tr>\n",
       "    <tr>\n",
       "      <th>1</th>\n",
       "      <td>1</td>\n",
       "      <td>How does Modified Newtonian Dynamics (MOND) im...</td>\n",
       "      <td>In cosmology, the missing baryon problem is an...</td>\n",
       "      <td>MOND is a theory that increases the discrepanc...</td>\n",
       "      <td>MOND explains the missing baryonic mass in gal...</td>\n",
       "      <td>MOND is a theory that reduces the observed mis...</td>\n",
       "      <td>MOND is a theory that eliminates the observed ...</td>\n",
       "      <td>MOND's impact on the observed missing baryonic...</td>\n",
       "      <td>E</td>\n",
       "      <td>1.0</td>\n",
       "      <td>6w</td>\n",
       "      <td>NaN</td>\n",
       "    </tr>\n",
       "    <tr>\n",
       "      <th>2</th>\n",
       "      <td>2</td>\n",
       "      <td>Which of the following statements accurately d...</td>\n",
       "      <td>Ray Montgomerie (born 17 April 1961) is a Scot...</td>\n",
       "      <td>Ray Montgomerie is a former footballer who pla...</td>\n",
       "      <td>Ray Montgomerie is a former footballer who pla...</td>\n",
       "      <td>Ray Montgomerie is a former footballer who pla...</td>\n",
       "      <td>Ray Montgomerie is a former footballer who pla...</td>\n",
       "      <td>Ray Montgomerie is a former footballer who pla...</td>\n",
       "      <td>B</td>\n",
       "      <td>1.0</td>\n",
       "      <td>6w</td>\n",
       "      <td>NaN</td>\n",
       "    </tr>\n",
       "    <tr>\n",
       "      <th>3</th>\n",
       "      <td>3</td>\n",
       "      <td>What is the significance of the Museum of the ...</td>\n",
       "      <td>thumb|One of the exhibit halls inside the Muse...</td>\n",
       "      <td>The Museum of the Occupation of Latvia is a me...</td>\n",
       "      <td>The Museum of the Occupation of Latvia showcas...</td>\n",
       "      <td>The Museum of the Occupation of Latvia was est...</td>\n",
       "      <td>The Museum of the Occupation of Latvia primari...</td>\n",
       "      <td>The Museum of the Occupation of Latvia is a mu...</td>\n",
       "      <td>C</td>\n",
       "      <td>1.0</td>\n",
       "      <td>6w</td>\n",
       "      <td>NaN</td>\n",
       "    </tr>\n",
       "    <tr>\n",
       "      <th>4</th>\n",
       "      <td>4</td>\n",
       "      <td>What was the previous name of the Christian Sc...</td>\n",
       "      <td>The Christian School and Chapel for the Deaf (...</td>\n",
       "      <td>The Christian School for the Deaf (CSD)</td>\n",
       "      <td>The Christian School for the Blind (CSB)</td>\n",
       "      <td>The Evangelical School and Chapel for the Deaf...</td>\n",
       "      <td>The Evangelical School for the Deaf (ESD)</td>\n",
       "      <td>The Evangelical School for the Blind (ESB)</td>\n",
       "      <td>D</td>\n",
       "      <td>1.0</td>\n",
       "      <td>6w</td>\n",
       "      <td>NaN</td>\n",
       "    </tr>\n",
       "    <tr>\n",
       "      <th>...</th>\n",
       "      <td>...</td>\n",
       "      <td>...</td>\n",
       "      <td>...</td>\n",
       "      <td>...</td>\n",
       "      <td>...</td>\n",
       "      <td>...</td>\n",
       "      <td>...</td>\n",
       "      <td>...</td>\n",
       "      <td>...</td>\n",
       "      <td>...</td>\n",
       "      <td>...</td>\n",
       "      <td>...</td>\n",
       "    </tr>\n",
       "    <tr>\n",
       "      <th>108421</th>\n",
       "      <td>108421</td>\n",
       "      <td>What is Sequenom known for developing?</td>\n",
       "      <td>It develops enabling molecular technologies, a...</td>\n",
       "      <td>Laboratory genetic tests for infertility</td>\n",
       "      <td>Non-invasive prenatal genetic tests</td>\n",
       "      <td>Diagnostic and testing devices for cancer</td>\n",
       "      <td>Molecular technologies for heart disease</td>\n",
       "      <td>Clinical molecular genetics tests for diabetes</td>\n",
       "      <td>B</td>\n",
       "      <td>NaN</td>\n",
       "      <td>4w8</td>\n",
       "      <td>48074.0</td>\n",
       "    </tr>\n",
       "    <tr>\n",
       "      <th>108422</th>\n",
       "      <td>108422</td>\n",
       "      <td>Which company acquired Sequenom in 2016?</td>\n",
       "      <td>The acquisition was completed in September 201...</td>\n",
       "      <td>LabCorp</td>\n",
       "      <td>Agena Bioscience</td>\n",
       "      <td>Ariosa</td>\n",
       "      <td>PerkinElmer</td>\n",
       "      <td>Natera</td>\n",
       "      <td>A</td>\n",
       "      <td>NaN</td>\n",
       "      <td>4w8</td>\n",
       "      <td>48075.0</td>\n",
       "    </tr>\n",
       "    <tr>\n",
       "      <th>108423</th>\n",
       "      <td>108423</td>\n",
       "      <td>Which company did Sequenom sell its bioscience...</td>\n",
       "      <td>In June 2014 the company sold its biosciences ...</td>\n",
       "      <td>Natera</td>\n",
       "      <td>PerkinElmer</td>\n",
       "      <td>Agena Bioscience</td>\n",
       "      <td>LabCorp</td>\n",
       "      <td>Ravgen</td>\n",
       "      <td>C</td>\n",
       "      <td>NaN</td>\n",
       "      <td>4w8</td>\n",
       "      <td>48076.0</td>\n",
       "    </tr>\n",
       "    <tr>\n",
       "      <th>108424</th>\n",
       "      <td>108424</td>\n",
       "      <td>Which patent battle did Sequenom enter in 2012?</td>\n",
       "      <td>Other companies and universities that are work...</td>\n",
       "      <td>Patent battle with Ariosa</td>\n",
       "      <td>Patent battle with Natera</td>\n",
       "      <td>Patent battle with Illumina</td>\n",
       "      <td>Patent battle with Ravgen</td>\n",
       "      <td>Patent battle with PerkinElmer</td>\n",
       "      <td>A</td>\n",
       "      <td>NaN</td>\n",
       "      <td>4w8</td>\n",
       "      <td>48077.0</td>\n",
       "    </tr>\n",
       "    <tr>\n",
       "      <th>108425</th>\n",
       "      <td>108425</td>\n",
       "      <td>Which company is also working towards developi...</td>\n",
       "      <td>* March 2004: Ravgen publishes first clinical ...</td>\n",
       "      <td>Illumina</td>\n",
       "      <td>Ravgen</td>\n",
       "      <td>PerkinElmer</td>\n",
       "      <td>Natera</td>\n",
       "      <td>Stanford University</td>\n",
       "      <td>E</td>\n",
       "      <td>NaN</td>\n",
       "      <td>4w8</td>\n",
       "      <td>48078.0</td>\n",
       "    </tr>\n",
       "  </tbody>\n",
       "</table>\n",
       "<p>108426 rows × 12 columns</p>\n",
       "</div>"
      ],
      "text/plain": [
       "        Unnamed: 0                                             prompt   \n",
       "0                0  In relation to Eunice Fay McKenzie's career, w...  \\\n",
       "1                1  How does Modified Newtonian Dynamics (MOND) im...   \n",
       "2                2  Which of the following statements accurately d...   \n",
       "3                3  What is the significance of the Museum of the ...   \n",
       "4                4  What was the previous name of the Christian Sc...   \n",
       "...            ...                                                ...   \n",
       "108421      108421             What is Sequenom known for developing?   \n",
       "108422      108422           Which company acquired Sequenom in 2016?   \n",
       "108423      108423  Which company did Sequenom sell its bioscience...   \n",
       "108424      108424    Which patent battle did Sequenom enter in 2012?   \n",
       "108425      108425  Which company is also working towards developi...   \n",
       "\n",
       "                                                  context   \n",
       "0       She starred in silent films as a child, and th...  \\\n",
       "1       In cosmology, the missing baryon problem is an...   \n",
       "2       Ray Montgomerie (born 17 April 1961) is a Scot...   \n",
       "3       thumb|One of the exhibit halls inside the Muse...   \n",
       "4       The Christian School and Chapel for the Deaf (...   \n",
       "...                                                   ...   \n",
       "108421  It develops enabling molecular technologies, a...   \n",
       "108422  The acquisition was completed in September 201...   \n",
       "108423  In June 2014 the company sold its biosciences ...   \n",
       "108424  Other companies and universities that are work...   \n",
       "108425  * March 2004: Ravgen publishes first clinical ...   \n",
       "\n",
       "                                                        A   \n",
       "0       McKenzie showcased her singing talents in nume...  \\\n",
       "1       MOND is a theory that increases the discrepanc...   \n",
       "2       Ray Montgomerie is a former footballer who pla...   \n",
       "3       The Museum of the Occupation of Latvia is a me...   \n",
       "4                 The Christian School for the Deaf (CSD)   \n",
       "...                                                   ...   \n",
       "108421           Laboratory genetic tests for infertility   \n",
       "108422                                            LabCorp   \n",
       "108423                                             Natera   \n",
       "108424                          Patent battle with Ariosa   \n",
       "108425                                           Illumina   \n",
       "\n",
       "                                                        B   \n",
       "0       McKenzie is primarily remembered for her starr...  \\\n",
       "1       MOND explains the missing baryonic mass in gal...   \n",
       "2       Ray Montgomerie is a former footballer who pla...   \n",
       "3       The Museum of the Occupation of Latvia showcas...   \n",
       "4                The Christian School for the Blind (CSB)   \n",
       "...                                                   ...   \n",
       "108421                Non-invasive prenatal genetic tests   \n",
       "108422                                   Agena Bioscience   \n",
       "108423                                        PerkinElmer   \n",
       "108424                          Patent battle with Natera   \n",
       "108425                                             Ravgen   \n",
       "\n",
       "                                                        C   \n",
       "0       McKenzie gained recognition for her role as a ...  \\\n",
       "1       MOND is a theory that reduces the observed mis...   \n",
       "2       Ray Montgomerie is a former footballer who pla...   \n",
       "3       The Museum of the Occupation of Latvia was est...   \n",
       "4       The Evangelical School and Chapel for the Deaf...   \n",
       "...                                                   ...   \n",
       "108421          Diagnostic and testing devices for cancer   \n",
       "108422                                             Ariosa   \n",
       "108423                                   Agena Bioscience   \n",
       "108424                        Patent battle with Illumina   \n",
       "108425                                        PerkinElmer   \n",
       "\n",
       "                                                        D   \n",
       "0       McKenzie's collaborations with director Blake ...  \\\n",
       "1       MOND is a theory that eliminates the observed ...   \n",
       "2       Ray Montgomerie is a former footballer who pla...   \n",
       "3       The Museum of the Occupation of Latvia primari...   \n",
       "4               The Evangelical School for the Deaf (ESD)   \n",
       "...                                                   ...   \n",
       "108421           Molecular technologies for heart disease   \n",
       "108422                                        PerkinElmer   \n",
       "108423                                            LabCorp   \n",
       "108424                          Patent battle with Ravgen   \n",
       "108425                                             Natera   \n",
       "\n",
       "                                                        E answer  source type   \n",
       "0       McKenzie's successful career in sound films co...      B     1.0   6w  \\\n",
       "1       MOND's impact on the observed missing baryonic...      E     1.0   6w   \n",
       "2       Ray Montgomerie is a former footballer who pla...      B     1.0   6w   \n",
       "3       The Museum of the Occupation of Latvia is a mu...      C     1.0   6w   \n",
       "4              The Evangelical School for the Blind (ESB)      D     1.0   6w   \n",
       "...                                                   ...    ...     ...  ...   \n",
       "108421     Clinical molecular genetics tests for diabetes      B     NaN  4w8   \n",
       "108422                                             Natera      A     NaN  4w8   \n",
       "108423                                             Ravgen      C     NaN  4w8   \n",
       "108424                     Patent battle with PerkinElmer      A     NaN  4w8   \n",
       "108425                                Stanford University      E     NaN  4w8   \n",
       "\n",
       "             id  \n",
       "0           NaN  \n",
       "1           NaN  \n",
       "2           NaN  \n",
       "3           NaN  \n",
       "4           NaN  \n",
       "...         ...  \n",
       "108421  48074.0  \n",
       "108422  48075.0  \n",
       "108423  48076.0  \n",
       "108424  48077.0  \n",
       "108425  48078.0  \n",
       "\n",
       "[108426 rows x 12 columns]"
      ]
     },
     "execution_count": 2,
     "metadata": {},
     "output_type": "execute_result"
    }
   ],
   "source": [
    "data"
   ]
  },
  {
   "cell_type": "code",
   "execution_count": 3,
   "id": "57185513-e054-4113-b6f9-6ed381206b51",
   "metadata": {
    "tags": []
   },
   "outputs": [],
   "source": [
    "data = pd.read_csv('./data/RACE_with_context_original.csv')"
   ]
  },
  {
   "cell_type": "code",
   "execution_count": 5,
   "id": "ad392033-7f99-486a-8847-359ee5c18bc2",
   "metadata": {
    "tags": []
   },
   "outputs": [
    {
     "data": {
      "text/plain": [
       "'Last week I talked with some of my students about what they wanted to do after they graduated, and what kind of job prospects  they thought they had.\\nGiven that I teach students who are training to be doctors, I was surprised do find that most thought that they would not be able to get the jobs they wanted without \"outside help\". \"What kind of help is that?\" I asked, expecting them to tell me that they would need a   or family friend to help them out.\\n\"Surgery ,\" one replied.\\nI was pretty alarmed by that response. It seems that the graduates of today are increasingly willing to go under the knife to get ahead of others when it comes to getting a job .\\nOne girl told me that she was considering surgery to increase her height. \"They break your legs, put in special extending screws, and slowly expand the gap between the two ends of the bone as it re-grows, you can get at least 5 cm taller!\"\\nAt that point, I was shocked. I am short, I can\\'t deny that, but I don\\'t think I would put myself through months of agony just to be a few centimetres taller. I don\\'t even bother to wear shoes with thick soles, as I\\'m not trying to hide the fact that I am just not tall!\\nIt seems to me that there is a trend towards wanting \"perfection\" , and that is an ideal that just does not exist in reality.\\nNo one is born perfect, yet magazines, TV shows and movies present images of thin, tall, beautiful people as being the norm. Advertisements for slimming aids, beauty treatments and cosmetic surgery clinics fill the pages of newspapers, further creating an idea that \"perfection\" is a requirement, and that it must be purchased, no matter what the cost. In my opinion, skills, rather than appearance, should determine how successful a person is in his/her chosen career.'"
      ]
     },
     "execution_count": 5,
     "metadata": {},
     "output_type": "execute_result"
    }
   ],
   "source": [
    "data.loc[0,'context']"
   ]
  },
  {
   "cell_type": "code",
   "execution_count": 1,
   "id": "c1455eeb-ce90-4fa7-aec2-993e14b2a335",
   "metadata": {},
   "outputs": [
    {
     "name": "stdout",
     "output_type": "stream",
     "text": [
      "a.parquet\n",
      "b.parquet\n",
      "c.parquet\n",
      "d.parquet\n",
      "e.parquet\n",
      "f.parquet\n",
      "g.parquet\n",
      "h.parquet\n",
      "i.parquet\n",
      "j.parquet\n",
      "k.parquet\n",
      "l.parquet\n",
      "m.parquet\n",
      "n.parquet\n",
      "number.parquet\n",
      "o.parquet\n",
      "other.parquet\n",
      "p.parquet\n",
      "q.parquet\n",
      "r.parquet\n",
      "s.parquet\n",
      "t.parquet\n",
      "u.parquet\n",
      "v.parquet\n",
      "w.parquet\n",
      "x.parquet\n",
      "y.parquet\n",
      "z.parquet\n"
     ]
    }
   ],
   "source": [
    "import pandas as pd\n",
    "import os\n",
    "data = []\n",
    "listdir = os.listdir('./wiki_data')\n",
    "listdir = sorted(listdir)\n",
    "for file in listdir:\n",
    "    if file == 'my_index.parquet' or 'ipynb' in file:\n",
    "        continue\n",
    "    print(file)\n",
    "    data.append(pd.read_parquet(os.path.join('./wiki_data',file)))"
   ]
  },
  {
   "cell_type": "code",
   "execution_count": 2,
   "id": "783c448d-729e-4c1c-ac46-fca7d8ad5165",
   "metadata": {
    "tags": []
   },
   "outputs": [],
   "source": [
    "data = pd.concat(data,axis=0).reset_index(drop=True)"
   ]
  },
  {
   "cell_type": "code",
   "execution_count": 3,
   "id": "7d12cb63-43e3-484f-a398-bf6c74dba296",
   "metadata": {
    "tags": []
   },
   "outputs": [],
   "source": [
    "import numpy\n",
    "subs = numpy.array_split(data, 100)"
   ]
  },
  {
   "cell_type": "code",
   "execution_count": 5,
   "id": "1d551ac8-0389-481f-8225-18148b4aa368",
   "metadata": {
    "tags": []
   },
   "outputs": [],
   "source": [
    "for i in range(len(subs)):\n",
    "    sub = subs[i].reset_index(drop=True)\n",
    "    sub.to_parquet(f'./tmp/680w_token/data_{i}.parquet')"
   ]
  },
  {
   "cell_type": "code",
   "execution_count": 5,
   "id": "5d883f1a-860f-4cd3-bf43-5355702f61b0",
   "metadata": {},
   "outputs": [],
   "source": [
    "import pandas as pd\n",
    "data1 = pd.read_parquet('./small_wiki_data_base/data.parquet')\n",
    "data2 = pd.read_parquet('./small_wiki_data_base/680w_kmeans_split_2500.parquet')"
   ]
  },
  {
   "cell_type": "code",
   "execution_count": 6,
   "id": "c8a6257a-6b0b-411c-8ce4-90dc166ccf96",
   "metadata": {
    "tags": []
   },
   "outputs": [],
   "source": [
    "data = pd.concat([data1, data2],axis=0).reset_index(drop=True)"
   ]
  },
  {
   "cell_type": "code",
   "execution_count": 7,
   "id": "e90029b8-2a54-4524-83f8-fd6e2c930dce",
   "metadata": {
    "tags": []
   },
   "outputs": [
    {
     "data": {
      "text/html": [
       "<div>\n",
       "<style scoped>\n",
       "    .dataframe tbody tr th:only-of-type {\n",
       "        vertical-align: middle;\n",
       "    }\n",
       "\n",
       "    .dataframe tbody tr th {\n",
       "        vertical-align: top;\n",
       "    }\n",
       "\n",
       "    .dataframe thead th {\n",
       "        text-align: right;\n",
       "    }\n",
       "</style>\n",
       "<table border=\"1\" class=\"dataframe\">\n",
       "  <thead>\n",
       "    <tr style=\"text-align: right;\">\n",
       "      <th></th>\n",
       "      <th>id</th>\n",
       "      <th>title</th>\n",
       "      <th>text</th>\n",
       "      <th>url</th>\n",
       "      <th>wiki_id</th>\n",
       "      <th>views</th>\n",
       "      <th>paragraph_id</th>\n",
       "      <th>langs</th>\n",
       "    </tr>\n",
       "  </thead>\n",
       "  <tbody>\n",
       "    <tr>\n",
       "      <th>0</th>\n",
       "      <td>5443</td>\n",
       "      <td>Google Translate</td>\n",
       "      <td>Google Translate is a multilingual neural mach...</td>\n",
       "      <td>https://en.wikipedia.org/wiki?curid=3235536</td>\n",
       "      <td>3235536.0</td>\n",
       "      <td>4305.652832</td>\n",
       "      <td>0.0</td>\n",
       "      <td>97.0</td>\n",
       "    </tr>\n",
       "    <tr>\n",
       "      <th>1</th>\n",
       "      <td>5444</td>\n",
       "      <td>Google Translate</td>\n",
       "      <td>Launched in April 2006 as a statistical machin...</td>\n",
       "      <td>https://en.wikipedia.org/wiki?curid=3235536</td>\n",
       "      <td>3235536.0</td>\n",
       "      <td>4305.652832</td>\n",
       "      <td>1.0</td>\n",
       "      <td>97.0</td>\n",
       "    </tr>\n",
       "    <tr>\n",
       "      <th>2</th>\n",
       "      <td>5445</td>\n",
       "      <td>Google Translate</td>\n",
       "      <td>Google Translate is a web-based free-to-user t...</td>\n",
       "      <td>https://en.wikipedia.org/wiki?curid=3235536</td>\n",
       "      <td>3235536.0</td>\n",
       "      <td>4305.652832</td>\n",
       "      <td>2.0</td>\n",
       "      <td>97.0</td>\n",
       "    </tr>\n",
       "    <tr>\n",
       "      <th>3</th>\n",
       "      <td>5446</td>\n",
       "      <td>Google Translate</td>\n",
       "      <td>Originally, Google Translate was released as a...</td>\n",
       "      <td>https://en.wikipedia.org/wiki?curid=3235536</td>\n",
       "      <td>3235536.0</td>\n",
       "      <td>4305.652832</td>\n",
       "      <td>3.0</td>\n",
       "      <td>97.0</td>\n",
       "    </tr>\n",
       "    <tr>\n",
       "      <th>4</th>\n",
       "      <td>5447</td>\n",
       "      <td>Google Translate</td>\n",
       "      <td>In January 2010, Google introduced an Android ...</td>\n",
       "      <td>https://en.wikipedia.org/wiki?curid=3235536</td>\n",
       "      <td>3235536.0</td>\n",
       "      <td>4305.652832</td>\n",
       "      <td>4.0</td>\n",
       "      <td>97.0</td>\n",
       "    </tr>\n",
       "    <tr>\n",
       "      <th>...</th>\n",
       "      <td>...</td>\n",
       "      <td>...</td>\n",
       "      <td>...</td>\n",
       "      <td>...</td>\n",
       "      <td>...</td>\n",
       "      <td>...</td>\n",
       "      <td>...</td>\n",
       "      <td>...</td>\n",
       "    </tr>\n",
       "    <tr>\n",
       "      <th>3119023</th>\n",
       "      <td>70907699</td>\n",
       "      <td>1988 Olympic commemorative coins</td>\n",
       "      <td>The 1988 Olympic commemorative coins are a ser...</td>\n",
       "      <td>NaN</td>\n",
       "      <td>NaN</td>\n",
       "      <td>NaN</td>\n",
       "      <td>NaN</td>\n",
       "      <td>NaN</td>\n",
       "    </tr>\n",
       "    <tr>\n",
       "      <th>3119024</th>\n",
       "      <td>10441602</td>\n",
       "      <td>Ionian Technologies</td>\n",
       "      <td>Ionian Technologies Inc. was a United States B...</td>\n",
       "      <td>NaN</td>\n",
       "      <td>NaN</td>\n",
       "      <td>NaN</td>\n",
       "      <td>NaN</td>\n",
       "      <td>NaN</td>\n",
       "    </tr>\n",
       "    <tr>\n",
       "      <th>3119025</th>\n",
       "      <td>22379984</td>\n",
       "      <td>Chung Shan Medical University</td>\n",
       "      <td>Chung Shan Medical University (CSMU; ) is a me...</td>\n",
       "      <td>NaN</td>\n",
       "      <td>NaN</td>\n",
       "      <td>NaN</td>\n",
       "      <td>NaN</td>\n",
       "      <td>NaN</td>\n",
       "    </tr>\n",
       "    <tr>\n",
       "      <th>3119026</th>\n",
       "      <td>39361122</td>\n",
       "      <td>2006 JY26</td>\n",
       "      <td>is a near-Earth object that is also horseshoe ...</td>\n",
       "      <td>NaN</td>\n",
       "      <td>NaN</td>\n",
       "      <td>NaN</td>\n",
       "      <td>NaN</td>\n",
       "      <td>NaN</td>\n",
       "    </tr>\n",
       "    <tr>\n",
       "      <th>3119027</th>\n",
       "      <td>39361122</td>\n",
       "      <td>2006 JY26</td>\n",
       "      <td>Its orbit matches the expected properties of t...</td>\n",
       "      <td>NaN</td>\n",
       "      <td>NaN</td>\n",
       "      <td>NaN</td>\n",
       "      <td>NaN</td>\n",
       "      <td>NaN</td>\n",
       "    </tr>\n",
       "  </tbody>\n",
       "</table>\n",
       "<p>3119028 rows × 8 columns</p>\n",
       "</div>"
      ],
      "text/plain": [
       "               id                             title   \n",
       "0            5443                  Google Translate  \\\n",
       "1            5444                  Google Translate   \n",
       "2            5445                  Google Translate   \n",
       "3            5446                  Google Translate   \n",
       "4            5447                  Google Translate   \n",
       "...           ...                               ...   \n",
       "3119023  70907699  1988 Olympic commemorative coins   \n",
       "3119024  10441602               Ionian Technologies   \n",
       "3119025  22379984     Chung Shan Medical University   \n",
       "3119026  39361122                         2006 JY26   \n",
       "3119027  39361122                         2006 JY26   \n",
       "\n",
       "                                                      text   \n",
       "0        Google Translate is a multilingual neural mach...  \\\n",
       "1        Launched in April 2006 as a statistical machin...   \n",
       "2        Google Translate is a web-based free-to-user t...   \n",
       "3        Originally, Google Translate was released as a...   \n",
       "4        In January 2010, Google introduced an Android ...   \n",
       "...                                                    ...   \n",
       "3119023  The 1988 Olympic commemorative coins are a ser...   \n",
       "3119024  Ionian Technologies Inc. was a United States B...   \n",
       "3119025  Chung Shan Medical University (CSMU; ) is a me...   \n",
       "3119026  is a near-Earth object that is also horseshoe ...   \n",
       "3119027  Its orbit matches the expected properties of t...   \n",
       "\n",
       "                                                 url    wiki_id        views   \n",
       "0        https://en.wikipedia.org/wiki?curid=3235536  3235536.0  4305.652832  \\\n",
       "1        https://en.wikipedia.org/wiki?curid=3235536  3235536.0  4305.652832   \n",
       "2        https://en.wikipedia.org/wiki?curid=3235536  3235536.0  4305.652832   \n",
       "3        https://en.wikipedia.org/wiki?curid=3235536  3235536.0  4305.652832   \n",
       "4        https://en.wikipedia.org/wiki?curid=3235536  3235536.0  4305.652832   \n",
       "...                                              ...        ...          ...   \n",
       "3119023                                          NaN        NaN          NaN   \n",
       "3119024                                          NaN        NaN          NaN   \n",
       "3119025                                          NaN        NaN          NaN   \n",
       "3119026                                          NaN        NaN          NaN   \n",
       "3119027                                          NaN        NaN          NaN   \n",
       "\n",
       "         paragraph_id  langs  \n",
       "0                 0.0   97.0  \n",
       "1                 1.0   97.0  \n",
       "2                 2.0   97.0  \n",
       "3                 3.0   97.0  \n",
       "4                 4.0   97.0  \n",
       "...               ...    ...  \n",
       "3119023           NaN    NaN  \n",
       "3119024           NaN    NaN  \n",
       "3119025           NaN    NaN  \n",
       "3119026           NaN    NaN  \n",
       "3119027           NaN    NaN  \n",
       "\n",
       "[3119028 rows x 8 columns]"
      ]
     },
     "execution_count": 7,
     "metadata": {},
     "output_type": "execute_result"
    }
   ],
   "source": [
    "data"
   ]
  },
  {
   "cell_type": "code",
   "execution_count": 8,
   "id": "ba830c1c-4256-4f40-90ec-08ff5705adea",
   "metadata": {
    "tags": []
   },
   "outputs": [],
   "source": [
    "data.to_parquet('./small_wiki_data_base/merge_data_2500.parquet')"
   ]
  },
  {
   "cell_type": "code",
   "execution_count": 1,
   "id": "80be700d-5f3b-451b-8c34-26c153152a17",
   "metadata": {},
   "outputs": [
    {
     "data": {
      "text/plain": [
       "62868"
      ]
     },
     "execution_count": 1,
     "metadata": {},
     "output_type": "execute_result"
    }
   ],
   "source": [
    "import pickle as pkl\n",
    "with open('./tmp/680w_token/token/token_0.pkl','rb') as f:\n",
    "    data = pkl.load(f)\n",
    "len(data)"
   ]
  },
  {
   "cell_type": "code",
   "execution_count": null,
   "id": "04c2f2f5-8b4f-4f08-a272-08cd99f20922",
   "metadata": {},
   "outputs": [],
   "source": []
  }
 ],
 "metadata": {
  "kernelspec": {
   "display_name": "chatglm_ppj",
   "language": "python",
   "name": "chatglm_ppj"
  },
  "language_info": {
   "codemirror_mode": {
    "name": "ipython",
    "version": 3
   },
   "file_extension": ".py",
   "mimetype": "text/x-python",
   "name": "python",
   "nbconvert_exporter": "python",
   "pygments_lexer": "ipython3",
   "version": "3.8.16"
  },
  "papermill": {
   "default_parameters": {},
   "duration": 665.090056,
   "end_time": "2023-08-26T12:48:37.705074",
   "environment_variables": {},
   "exception": null,
   "input_path": "__notebook__.ipynb",
   "output_path": "__notebook__.ipynb",
   "parameters": {},
   "start_time": "2023-08-26T12:37:32.615018",
   "version": "2.4.0"
  },
  "widgets": {
   "application/vnd.jupyter.widget-state+json": {
    "state": {
     "01b3a0e6053744698ff57b18fa49259c": {
      "model_module": "@jupyter-widgets/controls",
      "model_module_version": "1.5.0",
      "model_name": "HBoxModel",
      "state": {
       "_dom_classes": [],
       "_model_module": "@jupyter-widgets/controls",
       "_model_module_version": "1.5.0",
       "_model_name": "HBoxModel",
       "_view_count": null,
       "_view_module": "@jupyter-widgets/controls",
       "_view_module_version": "1.5.0",
       "_view_name": "HBoxView",
       "box_style": "",
       "children": [
        "IPY_MODEL_943cafe0f79649338d860326d35861e2",
        "IPY_MODEL_6cf304fddb6f44c49817e3d8d997858e",
        "IPY_MODEL_1d814cd862a4443398793c8bc02dab93"
       ],
       "layout": "IPY_MODEL_f841947ea116460ba52868ea6be0f4f4"
      }
     },
     "041386fb375e43f29df5d03bd7e169ff": {
      "model_module": "@jupyter-widgets/controls",
      "model_module_version": "1.5.0",
      "model_name": "HTMLModel",
      "state": {
       "_dom_classes": [],
       "_model_module": "@jupyter-widgets/controls",
       "_model_module_version": "1.5.0",
       "_model_name": "HTMLModel",
       "_view_count": null,
       "_view_module": "@jupyter-widgets/controls",
       "_view_module_version": "1.5.0",
       "_view_name": "HTMLView",
       "description": "",
       "description_tooltip": null,
       "layout": "IPY_MODEL_bc6bf52bd5274d419cdef5cd4f081525",
       "placeholder": "​",
       "style": "IPY_MODEL_c9fad2de8006423dbcee4432872c7e19",
       "value": " 576/576 [00:04&lt;00:00, 130.79it/s]"
      }
     },
     "08e2020bbf6c45b79241aefc75b6bd8d": {
      "model_module": "@jupyter-widgets/controls",
      "model_module_version": "1.5.0",
      "model_name": "HTMLModel",
      "state": {
       "_dom_classes": [],
       "_model_module": "@jupyter-widgets/controls",
       "_model_module_version": "1.5.0",
       "_model_name": "HTMLModel",
       "_view_count": null,
       "_view_module": "@jupyter-widgets/controls",
       "_view_module_version": "1.5.0",
       "_view_name": "HTMLView",
       "description": "",
       "description_tooltip": null,
       "layout": "IPY_MODEL_7654b381eef34f86aae06341737c62ff",
       "placeholder": "​",
       "style": "IPY_MODEL_7e701f5d0829414c90268ea31d8241b1",
       "value": " 13/13 [00:00&lt;00:00, 30.70it/s]"
      }
     },
     "093a11aae82f44259247a94243b8b400": {
      "model_module": "@jupyter-widgets/base",
      "model_module_version": "1.2.0",
      "model_name": "LayoutModel",
      "state": {
       "_model_module": "@jupyter-widgets/base",
       "_model_module_version": "1.2.0",
       "_model_name": "LayoutModel",
       "_view_count": null,
       "_view_module": "@jupyter-widgets/base",
       "_view_module_version": "1.2.0",
       "_view_name": "LayoutView",
       "align_content": null,
       "align_items": null,
       "align_self": null,
       "border": null,
       "bottom": null,
       "display": null,
       "flex": null,
       "flex_flow": null,
       "grid_area": null,
       "grid_auto_columns": null,
       "grid_auto_flow": null,
       "grid_auto_rows": null,
       "grid_column": null,
       "grid_gap": null,
       "grid_row": null,
       "grid_template_areas": null,
       "grid_template_columns": null,
       "grid_template_rows": null,
       "height": null,
       "justify_content": null,
       "justify_items": null,
       "left": null,
       "margin": null,
       "max_height": null,
       "max_width": null,
       "min_height": null,
       "min_width": null,
       "object_fit": null,
       "object_position": null,
       "order": null,
       "overflow": null,
       "overflow_x": null,
       "overflow_y": null,
       "padding": null,
       "right": null,
       "top": null,
       "visibility": null,
       "width": null
      }
     },
     "0a8dbe77c7b344d18d9c606f1d67314e": {
      "model_module": "@jupyter-widgets/controls",
      "model_module_version": "1.5.0",
      "model_name": "DescriptionStyleModel",
      "state": {
       "_model_module": "@jupyter-widgets/controls",
       "_model_module_version": "1.5.0",
       "_model_name": "DescriptionStyleModel",
       "_view_count": null,
       "_view_module": "@jupyter-widgets/base",
       "_view_module_version": "1.2.0",
       "_view_name": "StyleView",
       "description_width": ""
      }
     },
     "0b8c3d3d790e410bbae114c8856d10d4": {
      "model_module": "@jupyter-widgets/base",
      "model_module_version": "1.2.0",
      "model_name": "LayoutModel",
      "state": {
       "_model_module": "@jupyter-widgets/base",
       "_model_module_version": "1.2.0",
       "_model_name": "LayoutModel",
       "_view_count": null,
       "_view_module": "@jupyter-widgets/base",
       "_view_module_version": "1.2.0",
       "_view_name": "LayoutView",
       "align_content": null,
       "align_items": null,
       "align_self": null,
       "border": null,
       "bottom": null,
       "display": null,
       "flex": null,
       "flex_flow": null,
       "grid_area": null,
       "grid_auto_columns": null,
       "grid_auto_flow": null,
       "grid_auto_rows": null,
       "grid_column": null,
       "grid_gap": null,
       "grid_row": null,
       "grid_template_areas": null,
       "grid_template_columns": null,
       "grid_template_rows": null,
       "height": null,
       "justify_content": null,
       "justify_items": null,
       "left": null,
       "margin": null,
       "max_height": null,
       "max_width": null,
       "min_height": null,
       "min_width": null,
       "object_fit": null,
       "object_position": null,
       "order": null,
       "overflow": null,
       "overflow_x": null,
       "overflow_y": null,
       "padding": null,
       "right": null,
       "top": null,
       "visibility": null,
       "width": null
      }
     },
     "0d464ac1860e45019a12fbe19d492f06": {
      "model_module": "@jupyter-widgets/controls",
      "model_module_version": "1.5.0",
      "model_name": "HBoxModel",
      "state": {
       "_dom_classes": [],
       "_model_module": "@jupyter-widgets/controls",
       "_model_module_version": "1.5.0",
       "_model_name": "HBoxModel",
       "_view_count": null,
       "_view_module": "@jupyter-widgets/controls",
       "_view_module_version": "1.5.0",
       "_view_name": "HBoxView",
       "box_style": "",
       "children": [
        "IPY_MODEL_3dea5e43d31a4a9cb33d3433c4ae6f31",
        "IPY_MODEL_d956436b56374981a7b46740f2da1f16",
        "IPY_MODEL_4bcfbad873fc412799c4e8631beb7fe4"
       ],
       "layout": "IPY_MODEL_e6b8a8caa64447b0bc16e3f2dbd9e4e1"
      }
     },
     "0d5200b0e84944698f4aa2c761b7a61a": {
      "model_module": "@jupyter-widgets/controls",
      "model_module_version": "1.5.0",
      "model_name": "FloatProgressModel",
      "state": {
       "_dom_classes": [],
       "_model_module": "@jupyter-widgets/controls",
       "_model_module_version": "1.5.0",
       "_model_name": "FloatProgressModel",
       "_view_count": null,
       "_view_module": "@jupyter-widgets/controls",
       "_view_module_version": "1.5.0",
       "_view_name": "ProgressView",
       "bar_style": "success",
       "description": "",
       "description_tooltip": null,
       "layout": "IPY_MODEL_8cf0765226ad484aaacc6503577a1dbd",
       "max": 200,
       "min": 0,
       "orientation": "horizontal",
       "style": "IPY_MODEL_65a9252a99114ec4bdc339af5d4e3bbc",
       "value": 200
      }
     },
     "0f0f9ee684ee44d095dc372c3ee50e90": {
      "model_module": "@jupyter-widgets/base",
      "model_module_version": "1.2.0",
      "model_name": "LayoutModel",
      "state": {
       "_model_module": "@jupyter-widgets/base",
       "_model_module_version": "1.2.0",
       "_model_name": "LayoutModel",
       "_view_count": null,
       "_view_module": "@jupyter-widgets/base",
       "_view_module_version": "1.2.0",
       "_view_name": "LayoutView",
       "align_content": null,
       "align_items": null,
       "align_self": null,
       "border": null,
       "bottom": null,
       "display": null,
       "flex": null,
       "flex_flow": null,
       "grid_area": null,
       "grid_auto_columns": null,
       "grid_auto_flow": null,
       "grid_auto_rows": null,
       "grid_column": null,
       "grid_gap": null,
       "grid_row": null,
       "grid_template_areas": null,
       "grid_template_columns": null,
       "grid_template_rows": null,
       "height": null,
       "justify_content": null,
       "justify_items": null,
       "left": null,
       "margin": null,
       "max_height": null,
       "max_width": null,
       "min_height": null,
       "min_width": null,
       "object_fit": null,
       "object_position": null,
       "order": null,
       "overflow": null,
       "overflow_x": null,
       "overflow_y": null,
       "padding": null,
       "right": null,
       "top": null,
       "visibility": null,
       "width": null
      }
     },
     "16d68120b82042cc9df03ef912443484": {
      "model_module": "@jupyter-widgets/controls",
      "model_module_version": "1.5.0",
      "model_name": "ProgressStyleModel",
      "state": {
       "_model_module": "@jupyter-widgets/controls",
       "_model_module_version": "1.5.0",
       "_model_name": "ProgressStyleModel",
       "_view_count": null,
       "_view_module": "@jupyter-widgets/base",
       "_view_module_version": "1.2.0",
       "_view_name": "StyleView",
       "bar_color": null,
       "description_width": ""
      }
     },
     "18a4ba05572c48d9af725ee5569e9932": {
      "model_module": "@jupyter-widgets/base",
      "model_module_version": "1.2.0",
      "model_name": "LayoutModel",
      "state": {
       "_model_module": "@jupyter-widgets/base",
       "_model_module_version": "1.2.0",
       "_model_name": "LayoutModel",
       "_view_count": null,
       "_view_module": "@jupyter-widgets/base",
       "_view_module_version": "1.2.0",
       "_view_name": "LayoutView",
       "align_content": null,
       "align_items": null,
       "align_self": null,
       "border": null,
       "bottom": null,
       "display": null,
       "flex": null,
       "flex_flow": null,
       "grid_area": null,
       "grid_auto_columns": null,
       "grid_auto_flow": null,
       "grid_auto_rows": null,
       "grid_column": null,
       "grid_gap": null,
       "grid_row": null,
       "grid_template_areas": null,
       "grid_template_columns": null,
       "grid_template_rows": null,
       "height": null,
       "justify_content": null,
       "justify_items": null,
       "left": null,
       "margin": null,
       "max_height": null,
       "max_width": null,
       "min_height": null,
       "min_width": null,
       "object_fit": null,
       "object_position": null,
       "order": null,
       "overflow": null,
       "overflow_x": null,
       "overflow_y": null,
       "padding": null,
       "right": null,
       "top": null,
       "visibility": null,
       "width": null
      }
     },
     "19f523e2447b49e3a19a83c10a581046": {
      "model_module": "@jupyter-widgets/controls",
      "model_module_version": "1.5.0",
      "model_name": "HBoxModel",
      "state": {
       "_dom_classes": [],
       "_model_module": "@jupyter-widgets/controls",
       "_model_module_version": "1.5.0",
       "_model_name": "HBoxModel",
       "_view_count": null,
       "_view_module": "@jupyter-widgets/controls",
       "_view_module_version": "1.5.0",
       "_view_name": "HBoxView",
       "box_style": "",
       "children": [
        "IPY_MODEL_4a25a8fb6fc54edb927dd44be55033a7",
        "IPY_MODEL_7eb24cd6f0db4669a665204a7488fe7e",
        "IPY_MODEL_3782127215974ff6bbc1676a50148355"
       ],
       "layout": "IPY_MODEL_dca1301010b24f1791d5f93fda4ee1b1"
      }
     },
     "1afe0e57889c4ac38f80f9874b4e61d5": {
      "model_module": "@jupyter-widgets/base",
      "model_module_version": "1.2.0",
      "model_name": "LayoutModel",
      "state": {
       "_model_module": "@jupyter-widgets/base",
       "_model_module_version": "1.2.0",
       "_model_name": "LayoutModel",
       "_view_count": null,
       "_view_module": "@jupyter-widgets/base",
       "_view_module_version": "1.2.0",
       "_view_name": "LayoutView",
       "align_content": null,
       "align_items": null,
       "align_self": null,
       "border": null,
       "bottom": null,
       "display": null,
       "flex": null,
       "flex_flow": null,
       "grid_area": null,
       "grid_auto_columns": null,
       "grid_auto_flow": null,
       "grid_auto_rows": null,
       "grid_column": null,
       "grid_gap": null,
       "grid_row": null,
       "grid_template_areas": null,
       "grid_template_columns": null,
       "grid_template_rows": null,
       "height": null,
       "justify_content": null,
       "justify_items": null,
       "left": null,
       "margin": null,
       "max_height": null,
       "max_width": null,
       "min_height": null,
       "min_width": null,
       "object_fit": null,
       "object_position": null,
       "order": null,
       "overflow": null,
       "overflow_x": null,
       "overflow_y": null,
       "padding": null,
       "right": null,
       "top": null,
       "visibility": null,
       "width": null
      }
     },
     "1c6f032adbec4398a6d862921fdb5bc4": {
      "model_module": "@jupyter-widgets/controls",
      "model_module_version": "1.5.0",
      "model_name": "DescriptionStyleModel",
      "state": {
       "_model_module": "@jupyter-widgets/controls",
       "_model_module_version": "1.5.0",
       "_model_name": "DescriptionStyleModel",
       "_view_count": null,
       "_view_module": "@jupyter-widgets/base",
       "_view_module_version": "1.2.0",
       "_view_name": "StyleView",
       "description_width": ""
      }
     },
     "1d814cd862a4443398793c8bc02dab93": {
      "model_module": "@jupyter-widgets/controls",
      "model_module_version": "1.5.0",
      "model_name": "HTMLModel",
      "state": {
       "_dom_classes": [],
       "_model_module": "@jupyter-widgets/controls",
       "_model_module_version": "1.5.0",
       "_model_name": "HTMLModel",
       "_view_count": null,
       "_view_module": "@jupyter-widgets/controls",
       "_view_module_version": "1.5.0",
       "_view_name": "HTMLView",
       "description": "",
       "description_tooltip": null,
       "layout": "IPY_MODEL_6a2e16d8deb84ed497caf99af1607c91",
       "placeholder": "​",
       "style": "IPY_MODEL_cd098ba7f978448b9bb08485f2a06602",
       "value": " 576/576 [00:00&lt;00:00, 36530.11it/s]"
      }
     },
     "1f0b64472cb340c996db93eead3f52ec": {
      "model_module": "@jupyter-widgets/base",
      "model_module_version": "1.2.0",
      "model_name": "LayoutModel",
      "state": {
       "_model_module": "@jupyter-widgets/base",
       "_model_module_version": "1.2.0",
       "_model_name": "LayoutModel",
       "_view_count": null,
       "_view_module": "@jupyter-widgets/base",
       "_view_module_version": "1.2.0",
       "_view_name": "LayoutView",
       "align_content": null,
       "align_items": null,
       "align_self": null,
       "border": null,
       "bottom": null,
       "display": null,
       "flex": null,
       "flex_flow": null,
       "grid_area": null,
       "grid_auto_columns": null,
       "grid_auto_flow": null,
       "grid_auto_rows": null,
       "grid_column": null,
       "grid_gap": null,
       "grid_row": null,
       "grid_template_areas": null,
       "grid_template_columns": null,
       "grid_template_rows": null,
       "height": null,
       "justify_content": null,
       "justify_items": null,
       "left": null,
       "margin": null,
       "max_height": null,
       "max_width": null,
       "min_height": null,
       "min_width": null,
       "object_fit": null,
       "object_position": null,
       "order": null,
       "overflow": null,
       "overflow_x": null,
       "overflow_y": null,
       "padding": null,
       "right": null,
       "top": null,
       "visibility": null,
       "width": null
      }
     },
     "283ff65065a94911ae7eb9912f6f59f5": {
      "model_module": "@jupyter-widgets/controls",
      "model_module_version": "1.5.0",
      "model_name": "FloatProgressModel",
      "state": {
       "_dom_classes": [],
       "_model_module": "@jupyter-widgets/controls",
       "_model_module_version": "1.5.0",
       "_model_name": "FloatProgressModel",
       "_view_count": null,
       "_view_module": "@jupyter-widgets/controls",
       "_view_module_version": "1.5.0",
       "_view_name": "ProgressView",
       "bar_style": "success",
       "description": "",
       "description_tooltip": null,
       "layout": "IPY_MODEL_e493c6747a9f49b58fb9863729cfefb5",
       "max": 200,
       "min": 0,
       "orientation": "horizontal",
       "style": "IPY_MODEL_e9c1781e0cdb4e62b8eea9b9e3315cb6",
       "value": 200
      }
     },
     "29841cf6936c48e499b5b590796add49": {
      "model_module": "@jupyter-widgets/controls",
      "model_module_version": "1.5.0",
      "model_name": "DescriptionStyleModel",
      "state": {
       "_model_module": "@jupyter-widgets/controls",
       "_model_module_version": "1.5.0",
       "_model_name": "DescriptionStyleModel",
       "_view_count": null,
       "_view_module": "@jupyter-widgets/base",
       "_view_module_version": "1.2.0",
       "_view_name": "StyleView",
       "description_width": ""
      }
     },
     "2bdd7932dfa34dcfa45ca181d6930b79": {
      "model_module": "@jupyter-widgets/base",
      "model_module_version": "1.2.0",
      "model_name": "LayoutModel",
      "state": {
       "_model_module": "@jupyter-widgets/base",
       "_model_module_version": "1.2.0",
       "_model_name": "LayoutModel",
       "_view_count": null,
       "_view_module": "@jupyter-widgets/base",
       "_view_module_version": "1.2.0",
       "_view_name": "LayoutView",
       "align_content": null,
       "align_items": null,
       "align_self": null,
       "border": null,
       "bottom": null,
       "display": null,
       "flex": null,
       "flex_flow": null,
       "grid_area": null,
       "grid_auto_columns": null,
       "grid_auto_flow": null,
       "grid_auto_rows": null,
       "grid_column": null,
       "grid_gap": null,
       "grid_row": null,
       "grid_template_areas": null,
       "grid_template_columns": null,
       "grid_template_rows": null,
       "height": null,
       "justify_content": null,
       "justify_items": null,
       "left": null,
       "margin": null,
       "max_height": null,
       "max_width": null,
       "min_height": null,
       "min_width": null,
       "object_fit": null,
       "object_position": null,
       "order": null,
       "overflow": null,
       "overflow_x": null,
       "overflow_y": null,
       "padding": null,
       "right": null,
       "top": null,
       "visibility": null,
       "width": null
      }
     },
     "2cf5156bc607489a9ae5219cba0caa1e": {
      "model_module": "@jupyter-widgets/base",
      "model_module_version": "1.2.0",
      "model_name": "LayoutModel",
      "state": {
       "_model_module": "@jupyter-widgets/base",
       "_model_module_version": "1.2.0",
       "_model_name": "LayoutModel",
       "_view_count": null,
       "_view_module": "@jupyter-widgets/base",
       "_view_module_version": "1.2.0",
       "_view_name": "LayoutView",
       "align_content": null,
       "align_items": null,
       "align_self": null,
       "border": null,
       "bottom": null,
       "display": null,
       "flex": null,
       "flex_flow": null,
       "grid_area": null,
       "grid_auto_columns": null,
       "grid_auto_flow": null,
       "grid_auto_rows": null,
       "grid_column": null,
       "grid_gap": null,
       "grid_row": null,
       "grid_template_areas": null,
       "grid_template_columns": null,
       "grid_template_rows": null,
       "height": null,
       "justify_content": null,
       "justify_items": null,
       "left": null,
       "margin": null,
       "max_height": null,
       "max_width": null,
       "min_height": null,
       "min_width": null,
       "object_fit": null,
       "object_position": null,
       "order": null,
       "overflow": null,
       "overflow_x": null,
       "overflow_y": null,
       "padding": null,
       "right": null,
       "top": null,
       "visibility": null,
       "width": null
      }
     },
     "31dcf8f5d18e47fc91098ca0fbea3315": {
      "model_module": "@jupyter-widgets/controls",
      "model_module_version": "1.5.0",
      "model_name": "FloatProgressModel",
      "state": {
       "_dom_classes": [],
       "_model_module": "@jupyter-widgets/controls",
       "_model_module_version": "1.5.0",
       "_model_name": "FloatProgressModel",
       "_view_count": null,
       "_view_module": "@jupyter-widgets/controls",
       "_view_module_version": "1.5.0",
       "_view_name": "ProgressView",
       "bar_style": "success",
       "description": "",
       "description_tooltip": null,
       "layout": "IPY_MODEL_2bdd7932dfa34dcfa45ca181d6930b79",
       "max": 200,
       "min": 0,
       "orientation": "horizontal",
       "style": "IPY_MODEL_fad35b60e4014892b9f516df90806bba",
       "value": 200
      }
     },
     "32dfe3a1a9e24fcfa1aa9b0817421da2": {
      "model_module": "@jupyter-widgets/controls",
      "model_module_version": "1.5.0",
      "model_name": "DescriptionStyleModel",
      "state": {
       "_model_module": "@jupyter-widgets/controls",
       "_model_module_version": "1.5.0",
       "_model_name": "DescriptionStyleModel",
       "_view_count": null,
       "_view_module": "@jupyter-widgets/base",
       "_view_module_version": "1.2.0",
       "_view_name": "StyleView",
       "description_width": ""
      }
     },
     "35476bc9d8a349c6a4c0bfbb9e9a16f6": {
      "model_module": "@jupyter-widgets/controls",
      "model_module_version": "1.5.0",
      "model_name": "HTMLModel",
      "state": {
       "_dom_classes": [],
       "_model_module": "@jupyter-widgets/controls",
       "_model_module_version": "1.5.0",
       "_model_name": "HTMLModel",
       "_view_count": null,
       "_view_module": "@jupyter-widgets/controls",
       "_view_module_version": "1.5.0",
       "_view_name": "HTMLView",
       "description": "",
       "description_tooltip": null,
       "layout": "IPY_MODEL_a1b329c254ca43be9a62dfea5927be0e",
       "placeholder": "​",
       "style": "IPY_MODEL_9653023c1eba4863956924c6fcb058a1",
       "value": " 200/200 [00:01&lt;00:00, 240.18 examples/s]"
      }
     },
     "3782127215974ff6bbc1676a50148355": {
      "model_module": "@jupyter-widgets/controls",
      "model_module_version": "1.5.0",
      "model_name": "HTMLModel",
      "state": {
       "_dom_classes": [],
       "_model_module": "@jupyter-widgets/controls",
       "_model_module_version": "1.5.0",
       "_model_name": "HTMLModel",
       "_view_count": null,
       "_view_module": "@jupyter-widgets/controls",
       "_view_module_version": "1.5.0",
       "_view_name": "HTMLView",
       "description": "",
       "description_tooltip": null,
       "layout": "IPY_MODEL_dcb04d92298f46e5b9ad780577aaf2a4",
       "placeholder": "​",
       "style": "IPY_MODEL_7dd23121fad04c2888a655cc19ce3642",
       "value": " 2020/2020 [00:21&lt;00:00, 135.73it/s]"
      }
     },
     "38f2d5adee8d435196c6c294bd871b71": {
      "model_module": "@jupyter-widgets/base",
      "model_module_version": "1.2.0",
      "model_name": "LayoutModel",
      "state": {
       "_model_module": "@jupyter-widgets/base",
       "_model_module_version": "1.2.0",
       "_model_name": "LayoutModel",
       "_view_count": null,
       "_view_module": "@jupyter-widgets/base",
       "_view_module_version": "1.2.0",
       "_view_name": "LayoutView",
       "align_content": null,
       "align_items": null,
       "align_self": null,
       "border": null,
       "bottom": null,
       "display": null,
       "flex": null,
       "flex_flow": null,
       "grid_area": null,
       "grid_auto_columns": null,
       "grid_auto_flow": null,
       "grid_auto_rows": null,
       "grid_column": null,
       "grid_gap": null,
       "grid_row": null,
       "grid_template_areas": null,
       "grid_template_columns": null,
       "grid_template_rows": null,
       "height": null,
       "justify_content": null,
       "justify_items": null,
       "left": null,
       "margin": null,
       "max_height": null,
       "max_width": null,
       "min_height": null,
       "min_width": null,
       "object_fit": null,
       "object_position": null,
       "order": null,
       "overflow": null,
       "overflow_x": null,
       "overflow_y": null,
       "padding": null,
       "right": null,
       "top": null,
       "visibility": null,
       "width": null
      }
     },
     "3d1056c675614d1e9d956526111627d6": {
      "model_module": "@jupyter-widgets/controls",
      "model_module_version": "1.5.0",
      "model_name": "HTMLModel",
      "state": {
       "_dom_classes": [],
       "_model_module": "@jupyter-widgets/controls",
       "_model_module_version": "1.5.0",
       "_model_name": "HTMLModel",
       "_view_count": null,
       "_view_module": "@jupyter-widgets/controls",
       "_view_module_version": "1.5.0",
       "_view_name": "HTMLView",
       "description": "",
       "description_tooltip": null,
       "layout": "IPY_MODEL_b9cc9c64de354832bb3bd519f55ef8a1",
       "placeholder": "​",
       "style": "IPY_MODEL_29841cf6936c48e499b5b590796add49",
       "value": "100%"
      }
     },
     "3dea5e43d31a4a9cb33d3433c4ae6f31": {
      "model_module": "@jupyter-widgets/controls",
      "model_module_version": "1.5.0",
      "model_name": "HTMLModel",
      "state": {
       "_dom_classes": [],
       "_model_module": "@jupyter-widgets/controls",
       "_model_module_version": "1.5.0",
       "_model_name": "HTMLModel",
       "_view_count": null,
       "_view_module": "@jupyter-widgets/controls",
       "_view_module_version": "1.5.0",
       "_view_name": "HTMLView",
       "description": "",
       "description_tooltip": null,
       "layout": "IPY_MODEL_1f0b64472cb340c996db93eead3f52ec",
       "placeholder": "​",
       "style": "IPY_MODEL_9b48bb0eb934472da0440d2a4e95e905",
       "value": "Batches: 100%"
      }
     },
     "3f72e48110db4913971a79098baa8e2b": {
      "model_module": "@jupyter-widgets/controls",
      "model_module_version": "1.5.0",
      "model_name": "ProgressStyleModel",
      "state": {
       "_model_module": "@jupyter-widgets/controls",
       "_model_module_version": "1.5.0",
       "_model_name": "ProgressStyleModel",
       "_view_count": null,
       "_view_module": "@jupyter-widgets/base",
       "_view_module_version": "1.2.0",
       "_view_name": "StyleView",
       "bar_color": null,
       "description_width": ""
      }
     },
     "3fbd491b34c74a58b09c58eb161f6466": {
      "model_module": "@jupyter-widgets/base",
      "model_module_version": "1.2.0",
      "model_name": "LayoutModel",
      "state": {
       "_model_module": "@jupyter-widgets/base",
       "_model_module_version": "1.2.0",
       "_model_name": "LayoutModel",
       "_view_count": null,
       "_view_module": "@jupyter-widgets/base",
       "_view_module_version": "1.2.0",
       "_view_name": "LayoutView",
       "align_content": null,
       "align_items": null,
       "align_self": null,
       "border": null,
       "bottom": null,
       "display": null,
       "flex": null,
       "flex_flow": null,
       "grid_area": null,
       "grid_auto_columns": null,
       "grid_auto_flow": null,
       "grid_auto_rows": null,
       "grid_column": null,
       "grid_gap": null,
       "grid_row": null,
       "grid_template_areas": null,
       "grid_template_columns": null,
       "grid_template_rows": null,
       "height": null,
       "justify_content": null,
       "justify_items": null,
       "left": null,
       "margin": null,
       "max_height": null,
       "max_width": null,
       "min_height": null,
       "min_width": null,
       "object_fit": null,
       "object_position": null,
       "order": null,
       "overflow": null,
       "overflow_x": null,
       "overflow_y": null,
       "padding": null,
       "right": null,
       "top": null,
       "visibility": null,
       "width": null
      }
     },
     "43f6801b6b5b4893a5b7c07aaac6eb7e": {
      "model_module": "@jupyter-widgets/controls",
      "model_module_version": "1.5.0",
      "model_name": "HBoxModel",
      "state": {
       "_dom_classes": [],
       "_model_module": "@jupyter-widgets/controls",
       "_model_module_version": "1.5.0",
       "_model_name": "HBoxModel",
       "_view_count": null,
       "_view_module": "@jupyter-widgets/controls",
       "_view_module_version": "1.5.0",
       "_view_name": "HBoxView",
       "box_style": "",
       "children": [
        "IPY_MODEL_3d1056c675614d1e9d956526111627d6",
        "IPY_MODEL_c20c3f9a4d284c878dbea97c0c0c3cf0",
        "IPY_MODEL_fc5e42d83c8d44598caf99222b966c7c"
       ],
       "layout": "IPY_MODEL_ebb53eb480f6464399615c9c1f03a012"
      }
     },
     "49c51779665241d58273f720833c088c": {
      "model_module": "@jupyter-widgets/base",
      "model_module_version": "1.2.0",
      "model_name": "LayoutModel",
      "state": {
       "_model_module": "@jupyter-widgets/base",
       "_model_module_version": "1.2.0",
       "_model_name": "LayoutModel",
       "_view_count": null,
       "_view_module": "@jupyter-widgets/base",
       "_view_module_version": "1.2.0",
       "_view_name": "LayoutView",
       "align_content": null,
       "align_items": null,
       "align_self": null,
       "border": null,
       "bottom": null,
       "display": null,
       "flex": null,
       "flex_flow": null,
       "grid_area": null,
       "grid_auto_columns": null,
       "grid_auto_flow": null,
       "grid_auto_rows": null,
       "grid_column": null,
       "grid_gap": null,
       "grid_row": null,
       "grid_template_areas": null,
       "grid_template_columns": null,
       "grid_template_rows": null,
       "height": null,
       "justify_content": null,
       "justify_items": null,
       "left": null,
       "margin": null,
       "max_height": null,
       "max_width": null,
       "min_height": null,
       "min_width": null,
       "object_fit": null,
       "object_position": null,
       "order": null,
       "overflow": null,
       "overflow_x": null,
       "overflow_y": null,
       "padding": null,
       "right": null,
       "top": null,
       "visibility": null,
       "width": null
      }
     },
     "4a25a8fb6fc54edb927dd44be55033a7": {
      "model_module": "@jupyter-widgets/controls",
      "model_module_version": "1.5.0",
      "model_name": "HTMLModel",
      "state": {
       "_dom_classes": [],
       "_model_module": "@jupyter-widgets/controls",
       "_model_module_version": "1.5.0",
       "_model_name": "HTMLModel",
       "_view_count": null,
       "_view_module": "@jupyter-widgets/controls",
       "_view_module_version": "1.5.0",
       "_view_name": "HTMLView",
       "description": "",
       "description_tooltip": null,
       "layout": "IPY_MODEL_85cab23a1239414a8e103c3d2f8a27a5",
       "placeholder": "​",
       "style": "IPY_MODEL_32dfe3a1a9e24fcfa1aa9b0817421da2",
       "value": "Batches: 100%"
      }
     },
     "4b4b71979a3b406c96e1e294173c662a": {
      "model_module": "@jupyter-widgets/controls",
      "model_module_version": "1.5.0",
      "model_name": "HBoxModel",
      "state": {
       "_dom_classes": [],
       "_model_module": "@jupyter-widgets/controls",
       "_model_module_version": "1.5.0",
       "_model_name": "HBoxModel",
       "_view_count": null,
       "_view_module": "@jupyter-widgets/controls",
       "_view_module_version": "1.5.0",
       "_view_name": "HBoxView",
       "box_style": "",
       "children": [
        "IPY_MODEL_9c6728b6ff1a4bffb3ffdbfdfeae8e72",
        "IPY_MODEL_a7ddcca098c7487e8ff0fd38393787d5",
        "IPY_MODEL_08e2020bbf6c45b79241aefc75b6bd8d"
       ],
       "layout": "IPY_MODEL_1afe0e57889c4ac38f80f9874b4e61d5"
      }
     },
     "4bcfbad873fc412799c4e8631beb7fe4": {
      "model_module": "@jupyter-widgets/controls",
      "model_module_version": "1.5.0",
      "model_name": "HTMLModel",
      "state": {
       "_dom_classes": [],
       "_model_module": "@jupyter-widgets/controls",
       "_model_module_version": "1.5.0",
       "_model_name": "HTMLModel",
       "_view_count": null,
       "_view_module": "@jupyter-widgets/controls",
       "_view_module_version": "1.5.0",
       "_view_name": "HTMLView",
       "description": "",
       "description_tooltip": null,
       "layout": "IPY_MODEL_093a11aae82f44259247a94243b8b400",
       "placeholder": "​",
       "style": "IPY_MODEL_c50119e20b034d8eb3f69f32f635f060",
       "value": " 13/13 [00:02&lt;00:00,  1.96s/it]"
      }
     },
     "53a591e3b56a41ba80f0ba56a8a9acca": {
      "model_module": "@jupyter-widgets/base",
      "model_module_version": "1.2.0",
      "model_name": "LayoutModel",
      "state": {
       "_model_module": "@jupyter-widgets/base",
       "_model_module_version": "1.2.0",
       "_model_name": "LayoutModel",
       "_view_count": null,
       "_view_module": "@jupyter-widgets/base",
       "_view_module_version": "1.2.0",
       "_view_name": "LayoutView",
       "align_content": null,
       "align_items": null,
       "align_self": null,
       "border": null,
       "bottom": null,
       "display": null,
       "flex": null,
       "flex_flow": null,
       "grid_area": null,
       "grid_auto_columns": null,
       "grid_auto_flow": null,
       "grid_auto_rows": null,
       "grid_column": null,
       "grid_gap": null,
       "grid_row": null,
       "grid_template_areas": null,
       "grid_template_columns": null,
       "grid_template_rows": null,
       "height": null,
       "justify_content": null,
       "justify_items": null,
       "left": null,
       "margin": null,
       "max_height": null,
       "max_width": null,
       "min_height": null,
       "min_width": null,
       "object_fit": null,
       "object_position": null,
       "order": null,
       "overflow": null,
       "overflow_x": null,
       "overflow_y": null,
       "padding": null,
       "right": null,
       "top": null,
       "visibility": null,
       "width": null
      }
     },
     "540bbbbe664f48e2b9e32c028dde0409": {
      "model_module": "@jupyter-widgets/controls",
      "model_module_version": "1.5.0",
      "model_name": "DescriptionStyleModel",
      "state": {
       "_model_module": "@jupyter-widgets/controls",
       "_model_module_version": "1.5.0",
       "_model_name": "DescriptionStyleModel",
       "_view_count": null,
       "_view_module": "@jupyter-widgets/base",
       "_view_module_version": "1.2.0",
       "_view_name": "StyleView",
       "description_width": ""
      }
     },
     "56c9ace22de94027abb9b4261642a9c8": {
      "model_module": "@jupyter-widgets/controls",
      "model_module_version": "1.5.0",
      "model_name": "HTMLModel",
      "state": {
       "_dom_classes": [],
       "_model_module": "@jupyter-widgets/controls",
       "_model_module_version": "1.5.0",
       "_model_name": "HTMLModel",
       "_view_count": null,
       "_view_module": "@jupyter-widgets/controls",
       "_view_module_version": "1.5.0",
       "_view_name": "HTMLView",
       "description": "",
       "description_tooltip": null,
       "layout": "IPY_MODEL_989f9209bbab46a9abd65221af835ca7",
       "placeholder": "​",
       "style": "IPY_MODEL_f4202cd02a8847aa9f0ad22ac66682bd",
       "value": "100%"
      }
     },
     "5cc7bb7ae7254f72bd857eb76c7bbdcf": {
      "model_module": "@jupyter-widgets/controls",
      "model_module_version": "1.5.0",
      "model_name": "ProgressStyleModel",
      "state": {
       "_model_module": "@jupyter-widgets/controls",
       "_model_module_version": "1.5.0",
       "_model_name": "ProgressStyleModel",
       "_view_count": null,
       "_view_module": "@jupyter-widgets/base",
       "_view_module_version": "1.2.0",
       "_view_name": "StyleView",
       "bar_color": null,
       "description_width": ""
      }
     },
     "65a9252a99114ec4bdc339af5d4e3bbc": {
      "model_module": "@jupyter-widgets/controls",
      "model_module_version": "1.5.0",
      "model_name": "ProgressStyleModel",
      "state": {
       "_model_module": "@jupyter-widgets/controls",
       "_model_module_version": "1.5.0",
       "_model_name": "ProgressStyleModel",
       "_view_count": null,
       "_view_module": "@jupyter-widgets/base",
       "_view_module_version": "1.2.0",
       "_view_name": "StyleView",
       "bar_color": null,
       "description_width": ""
      }
     },
     "69c0b63d56464b3fbf319434b1062219": {
      "model_module": "@jupyter-widgets/controls",
      "model_module_version": "1.5.0",
      "model_name": "FloatProgressModel",
      "state": {
       "_dom_classes": [],
       "_model_module": "@jupyter-widgets/controls",
       "_model_module_version": "1.5.0",
       "_model_name": "FloatProgressModel",
       "_view_count": null,
       "_view_module": "@jupyter-widgets/controls",
       "_view_module_version": "1.5.0",
       "_view_name": "ProgressView",
       "bar_style": "success",
       "description": "",
       "description_tooltip": null,
       "layout": "IPY_MODEL_b4c68388ad8946b9836095080a70b2a4",
       "max": 576,
       "min": 0,
       "orientation": "horizontal",
       "style": "IPY_MODEL_16d68120b82042cc9df03ef912443484",
       "value": 576
      }
     },
     "69f01d7063704254813c7ac3917ec075": {
      "model_module": "@jupyter-widgets/controls",
      "model_module_version": "1.5.0",
      "model_name": "DescriptionStyleModel",
      "state": {
       "_model_module": "@jupyter-widgets/controls",
       "_model_module_version": "1.5.0",
       "_model_name": "DescriptionStyleModel",
       "_view_count": null,
       "_view_module": "@jupyter-widgets/base",
       "_view_module_version": "1.2.0",
       "_view_name": "StyleView",
       "description_width": ""
      }
     },
     "6a2e16d8deb84ed497caf99af1607c91": {
      "model_module": "@jupyter-widgets/base",
      "model_module_version": "1.2.0",
      "model_name": "LayoutModel",
      "state": {
       "_model_module": "@jupyter-widgets/base",
       "_model_module_version": "1.2.0",
       "_model_name": "LayoutModel",
       "_view_count": null,
       "_view_module": "@jupyter-widgets/base",
       "_view_module_version": "1.2.0",
       "_view_name": "LayoutView",
       "align_content": null,
       "align_items": null,
       "align_self": null,
       "border": null,
       "bottom": null,
       "display": null,
       "flex": null,
       "flex_flow": null,
       "grid_area": null,
       "grid_auto_columns": null,
       "grid_auto_flow": null,
       "grid_auto_rows": null,
       "grid_column": null,
       "grid_gap": null,
       "grid_row": null,
       "grid_template_areas": null,
       "grid_template_columns": null,
       "grid_template_rows": null,
       "height": null,
       "justify_content": null,
       "justify_items": null,
       "left": null,
       "margin": null,
       "max_height": null,
       "max_width": null,
       "min_height": null,
       "min_width": null,
       "object_fit": null,
       "object_position": null,
       "order": null,
       "overflow": null,
       "overflow_x": null,
       "overflow_y": null,
       "padding": null,
       "right": null,
       "top": null,
       "visibility": null,
       "width": null
      }
     },
     "6bebeadf33e140f58b03832313dcdac6": {
      "model_module": "@jupyter-widgets/base",
      "model_module_version": "1.2.0",
      "model_name": "LayoutModel",
      "state": {
       "_model_module": "@jupyter-widgets/base",
       "_model_module_version": "1.2.0",
       "_model_name": "LayoutModel",
       "_view_count": null,
       "_view_module": "@jupyter-widgets/base",
       "_view_module_version": "1.2.0",
       "_view_name": "LayoutView",
       "align_content": null,
       "align_items": null,
       "align_self": null,
       "border": null,
       "bottom": null,
       "display": null,
       "flex": null,
       "flex_flow": null,
       "grid_area": null,
       "grid_auto_columns": null,
       "grid_auto_flow": null,
       "grid_auto_rows": null,
       "grid_column": null,
       "grid_gap": null,
       "grid_row": null,
       "grid_template_areas": null,
       "grid_template_columns": null,
       "grid_template_rows": null,
       "height": null,
       "justify_content": null,
       "justify_items": null,
       "left": null,
       "margin": null,
       "max_height": null,
       "max_width": null,
       "min_height": null,
       "min_width": null,
       "object_fit": null,
       "object_position": null,
       "order": null,
       "overflow": null,
       "overflow_x": null,
       "overflow_y": null,
       "padding": null,
       "right": null,
       "top": null,
       "visibility": null,
       "width": null
      }
     },
     "6cf304fddb6f44c49817e3d8d997858e": {
      "model_module": "@jupyter-widgets/controls",
      "model_module_version": "1.5.0",
      "model_name": "FloatProgressModel",
      "state": {
       "_dom_classes": [],
       "_model_module": "@jupyter-widgets/controls",
       "_model_module_version": "1.5.0",
       "_model_name": "FloatProgressModel",
       "_view_count": null,
       "_view_module": "@jupyter-widgets/controls",
       "_view_module_version": "1.5.0",
       "_view_name": "ProgressView",
       "bar_style": "success",
       "description": "",
       "description_tooltip": null,
       "layout": "IPY_MODEL_2cf5156bc607489a9ae5219cba0caa1e",
       "max": 576,
       "min": 0,
       "orientation": "horizontal",
       "style": "IPY_MODEL_f1d2d17004114a4da8cf00536c4de887",
       "value": 576
      }
     },
     "6fa0025a6565421895f045af14050fe1": {
      "model_module": "@jupyter-widgets/controls",
      "model_module_version": "1.5.0",
      "model_name": "HTMLModel",
      "state": {
       "_dom_classes": [],
       "_model_module": "@jupyter-widgets/controls",
       "_model_module_version": "1.5.0",
       "_model_name": "HTMLModel",
       "_view_count": null,
       "_view_module": "@jupyter-widgets/controls",
       "_view_module_version": "1.5.0",
       "_view_name": "HTMLView",
       "description": "",
       "description_tooltip": null,
       "layout": "IPY_MODEL_db92b57a79cb4d27a478312645a94ecd",
       "placeholder": "​",
       "style": "IPY_MODEL_0a8dbe77c7b344d18d9c606f1d67314e",
       "value": "Map: 100%"
      }
     },
     "7030fbb5d43546c8a193c595da2d3e3c": {
      "model_module": "@jupyter-widgets/controls",
      "model_module_version": "1.5.0",
      "model_name": "DescriptionStyleModel",
      "state": {
       "_model_module": "@jupyter-widgets/controls",
       "_model_module_version": "1.5.0",
       "_model_name": "DescriptionStyleModel",
       "_view_count": null,
       "_view_module": "@jupyter-widgets/base",
       "_view_module_version": "1.2.0",
       "_view_name": "StyleView",
       "description_width": ""
      }
     },
     "707e005d364e4627b8673873825d10ec": {
      "model_module": "@jupyter-widgets/base",
      "model_module_version": "1.2.0",
      "model_name": "LayoutModel",
      "state": {
       "_model_module": "@jupyter-widgets/base",
       "_model_module_version": "1.2.0",
       "_model_name": "LayoutModel",
       "_view_count": null,
       "_view_module": "@jupyter-widgets/base",
       "_view_module_version": "1.2.0",
       "_view_name": "LayoutView",
       "align_content": null,
       "align_items": null,
       "align_self": null,
       "border": null,
       "bottom": null,
       "display": null,
       "flex": null,
       "flex_flow": null,
       "grid_area": null,
       "grid_auto_columns": null,
       "grid_auto_flow": null,
       "grid_auto_rows": null,
       "grid_column": null,
       "grid_gap": null,
       "grid_row": null,
       "grid_template_areas": null,
       "grid_template_columns": null,
       "grid_template_rows": null,
       "height": null,
       "justify_content": null,
       "justify_items": null,
       "left": null,
       "margin": null,
       "max_height": null,
       "max_width": null,
       "min_height": null,
       "min_width": null,
       "object_fit": null,
       "object_position": null,
       "order": null,
       "overflow": null,
       "overflow_x": null,
       "overflow_y": null,
       "padding": null,
       "right": null,
       "top": null,
       "visibility": null,
       "width": null
      }
     },
     "7654b381eef34f86aae06341737c62ff": {
      "model_module": "@jupyter-widgets/base",
      "model_module_version": "1.2.0",
      "model_name": "LayoutModel",
      "state": {
       "_model_module": "@jupyter-widgets/base",
       "_model_module_version": "1.2.0",
       "_model_name": "LayoutModel",
       "_view_count": null,
       "_view_module": "@jupyter-widgets/base",
       "_view_module_version": "1.2.0",
       "_view_name": "LayoutView",
       "align_content": null,
       "align_items": null,
       "align_self": null,
       "border": null,
       "bottom": null,
       "display": null,
       "flex": null,
       "flex_flow": null,
       "grid_area": null,
       "grid_auto_columns": null,
       "grid_auto_flow": null,
       "grid_auto_rows": null,
       "grid_column": null,
       "grid_gap": null,
       "grid_row": null,
       "grid_template_areas": null,
       "grid_template_columns": null,
       "grid_template_rows": null,
       "height": null,
       "justify_content": null,
       "justify_items": null,
       "left": null,
       "margin": null,
       "max_height": null,
       "max_width": null,
       "min_height": null,
       "min_width": null,
       "object_fit": null,
       "object_position": null,
       "order": null,
       "overflow": null,
       "overflow_x": null,
       "overflow_y": null,
       "padding": null,
       "right": null,
       "top": null,
       "visibility": null,
       "width": null
      }
     },
     "783329c0e99c43d5b6e84cd23d5e475c": {
      "model_module": "@jupyter-widgets/base",
      "model_module_version": "1.2.0",
      "model_name": "LayoutModel",
      "state": {
       "_model_module": "@jupyter-widgets/base",
       "_model_module_version": "1.2.0",
       "_model_name": "LayoutModel",
       "_view_count": null,
       "_view_module": "@jupyter-widgets/base",
       "_view_module_version": "1.2.0",
       "_view_name": "LayoutView",
       "align_content": null,
       "align_items": null,
       "align_self": null,
       "border": null,
       "bottom": null,
       "display": null,
       "flex": null,
       "flex_flow": null,
       "grid_area": null,
       "grid_auto_columns": null,
       "grid_auto_flow": null,
       "grid_auto_rows": null,
       "grid_column": null,
       "grid_gap": null,
       "grid_row": null,
       "grid_template_areas": null,
       "grid_template_columns": null,
       "grid_template_rows": null,
       "height": null,
       "justify_content": null,
       "justify_items": null,
       "left": null,
       "margin": null,
       "max_height": null,
       "max_width": null,
       "min_height": null,
       "min_width": null,
       "object_fit": null,
       "object_position": null,
       "order": null,
       "overflow": null,
       "overflow_x": null,
       "overflow_y": null,
       "padding": null,
       "right": null,
       "top": null,
       "visibility": null,
       "width": null
      }
     },
     "7dd23121fad04c2888a655cc19ce3642": {
      "model_module": "@jupyter-widgets/controls",
      "model_module_version": "1.5.0",
      "model_name": "DescriptionStyleModel",
      "state": {
       "_model_module": "@jupyter-widgets/controls",
       "_model_module_version": "1.5.0",
       "_model_name": "DescriptionStyleModel",
       "_view_count": null,
       "_view_module": "@jupyter-widgets/base",
       "_view_module_version": "1.2.0",
       "_view_name": "StyleView",
       "description_width": ""
      }
     },
     "7e701f5d0829414c90268ea31d8241b1": {
      "model_module": "@jupyter-widgets/controls",
      "model_module_version": "1.5.0",
      "model_name": "DescriptionStyleModel",
      "state": {
       "_model_module": "@jupyter-widgets/controls",
       "_model_module_version": "1.5.0",
       "_model_name": "DescriptionStyleModel",
       "_view_count": null,
       "_view_module": "@jupyter-widgets/base",
       "_view_module_version": "1.2.0",
       "_view_name": "StyleView",
       "description_width": ""
      }
     },
     "7eb24cd6f0db4669a665204a7488fe7e": {
      "model_module": "@jupyter-widgets/controls",
      "model_module_version": "1.5.0",
      "model_name": "FloatProgressModel",
      "state": {
       "_dom_classes": [],
       "_model_module": "@jupyter-widgets/controls",
       "_model_module_version": "1.5.0",
       "_model_name": "FloatProgressModel",
       "_view_count": null,
       "_view_module": "@jupyter-widgets/controls",
       "_view_module_version": "1.5.0",
       "_view_name": "ProgressView",
       "bar_style": "success",
       "description": "",
       "description_tooltip": null,
       "layout": "IPY_MODEL_3fbd491b34c74a58b09c58eb161f6466",
       "max": 2020,
       "min": 0,
       "orientation": "horizontal",
       "style": "IPY_MODEL_feefbffaaf78431486059eaeff6a20c4",
       "value": 2020
      }
     },
     "80ab1cf4f93d4916af41ada6287b8d99": {
      "model_module": "@jupyter-widgets/controls",
      "model_module_version": "1.5.0",
      "model_name": "HTMLModel",
      "state": {
       "_dom_classes": [],
       "_model_module": "@jupyter-widgets/controls",
       "_model_module_version": "1.5.0",
       "_model_name": "HTMLModel",
       "_view_count": null,
       "_view_module": "@jupyter-widgets/controls",
       "_view_module_version": "1.5.0",
       "_view_name": "HTMLView",
       "description": "",
       "description_tooltip": null,
       "layout": "IPY_MODEL_18a4ba05572c48d9af725ee5569e9932",
       "placeholder": "​",
       "style": "IPY_MODEL_d021356467124c01b3d183f1a0a584fb",
       "value": "100%"
      }
     },
     "85cab23a1239414a8e103c3d2f8a27a5": {
      "model_module": "@jupyter-widgets/base",
      "model_module_version": "1.2.0",
      "model_name": "LayoutModel",
      "state": {
       "_model_module": "@jupyter-widgets/base",
       "_model_module_version": "1.2.0",
       "_model_name": "LayoutModel",
       "_view_count": null,
       "_view_module": "@jupyter-widgets/base",
       "_view_module_version": "1.2.0",
       "_view_name": "LayoutView",
       "align_content": null,
       "align_items": null,
       "align_self": null,
       "border": null,
       "bottom": null,
       "display": null,
       "flex": null,
       "flex_flow": null,
       "grid_area": null,
       "grid_auto_columns": null,
       "grid_auto_flow": null,
       "grid_auto_rows": null,
       "grid_column": null,
       "grid_gap": null,
       "grid_row": null,
       "grid_template_areas": null,
       "grid_template_columns": null,
       "grid_template_rows": null,
       "height": null,
       "justify_content": null,
       "justify_items": null,
       "left": null,
       "margin": null,
       "max_height": null,
       "max_width": null,
       "min_height": null,
       "min_width": null,
       "object_fit": null,
       "object_position": null,
       "order": null,
       "overflow": null,
       "overflow_x": null,
       "overflow_y": null,
       "padding": null,
       "right": null,
       "top": null,
       "visibility": null,
       "width": null
      }
     },
     "8ce31f024ed24e188958321fce064171": {
      "model_module": "@jupyter-widgets/controls",
      "model_module_version": "1.5.0",
      "model_name": "HTMLModel",
      "state": {
       "_dom_classes": [],
       "_model_module": "@jupyter-widgets/controls",
       "_model_module_version": "1.5.0",
       "_model_name": "HTMLModel",
       "_view_count": null,
       "_view_module": "@jupyter-widgets/controls",
       "_view_module_version": "1.5.0",
       "_view_name": "HTMLView",
       "description": "",
       "description_tooltip": null,
       "layout": "IPY_MODEL_783329c0e99c43d5b6e84cd23d5e475c",
       "placeholder": "​",
       "style": "IPY_MODEL_d67a0c1b728f432ea897ea594dbf0943",
       "value": "100%"
      }
     },
     "8cf0765226ad484aaacc6503577a1dbd": {
      "model_module": "@jupyter-widgets/base",
      "model_module_version": "1.2.0",
      "model_name": "LayoutModel",
      "state": {
       "_model_module": "@jupyter-widgets/base",
       "_model_module_version": "1.2.0",
       "_model_name": "LayoutModel",
       "_view_count": null,
       "_view_module": "@jupyter-widgets/base",
       "_view_module_version": "1.2.0",
       "_view_name": "LayoutView",
       "align_content": null,
       "align_items": null,
       "align_self": null,
       "border": null,
       "bottom": null,
       "display": null,
       "flex": null,
       "flex_flow": null,
       "grid_area": null,
       "grid_auto_columns": null,
       "grid_auto_flow": null,
       "grid_auto_rows": null,
       "grid_column": null,
       "grid_gap": null,
       "grid_row": null,
       "grid_template_areas": null,
       "grid_template_columns": null,
       "grid_template_rows": null,
       "height": null,
       "justify_content": null,
       "justify_items": null,
       "left": null,
       "margin": null,
       "max_height": null,
       "max_width": null,
       "min_height": null,
       "min_width": null,
       "object_fit": null,
       "object_position": null,
       "order": null,
       "overflow": null,
       "overflow_x": null,
       "overflow_y": null,
       "padding": null,
       "right": null,
       "top": null,
       "visibility": null,
       "width": null
      }
     },
     "8dccbfdf98114f618ecd605425bf27fd": {
      "model_module": "@jupyter-widgets/controls",
      "model_module_version": "1.5.0",
      "model_name": "HBoxModel",
      "state": {
       "_dom_classes": [],
       "_model_module": "@jupyter-widgets/controls",
       "_model_module_version": "1.5.0",
       "_model_name": "HBoxModel",
       "_view_count": null,
       "_view_module": "@jupyter-widgets/controls",
       "_view_module_version": "1.5.0",
       "_view_name": "HBoxView",
       "box_style": "",
       "children": [
        "IPY_MODEL_56c9ace22de94027abb9b4261642a9c8",
        "IPY_MODEL_69c0b63d56464b3fbf319434b1062219",
        "IPY_MODEL_041386fb375e43f29df5d03bd7e169ff"
       ],
       "layout": "IPY_MODEL_0f0f9ee684ee44d095dc372c3ee50e90"
      }
     },
     "943cafe0f79649338d860326d35861e2": {
      "model_module": "@jupyter-widgets/controls",
      "model_module_version": "1.5.0",
      "model_name": "HTMLModel",
      "state": {
       "_dom_classes": [],
       "_model_module": "@jupyter-widgets/controls",
       "_model_module_version": "1.5.0",
       "_model_name": "HTMLModel",
       "_view_count": null,
       "_view_module": "@jupyter-widgets/controls",
       "_view_module_version": "1.5.0",
       "_view_name": "HTMLView",
       "description": "",
       "description_tooltip": null,
       "layout": "IPY_MODEL_707e005d364e4627b8673873825d10ec",
       "placeholder": "​",
       "style": "IPY_MODEL_1c6f032adbec4398a6d862921fdb5bc4",
       "value": "100%"
      }
     },
     "95e261eb03d34d2897ac38cdca9f6f50": {
      "model_module": "@jupyter-widgets/controls",
      "model_module_version": "1.5.0",
      "model_name": "DescriptionStyleModel",
      "state": {
       "_model_module": "@jupyter-widgets/controls",
       "_model_module_version": "1.5.0",
       "_model_name": "DescriptionStyleModel",
       "_view_count": null,
       "_view_module": "@jupyter-widgets/base",
       "_view_module_version": "1.2.0",
       "_view_name": "StyleView",
       "description_width": ""
      }
     },
     "9653023c1eba4863956924c6fcb058a1": {
      "model_module": "@jupyter-widgets/controls",
      "model_module_version": "1.5.0",
      "model_name": "DescriptionStyleModel",
      "state": {
       "_model_module": "@jupyter-widgets/controls",
       "_model_module_version": "1.5.0",
       "_model_name": "DescriptionStyleModel",
       "_view_count": null,
       "_view_module": "@jupyter-widgets/base",
       "_view_module_version": "1.2.0",
       "_view_name": "StyleView",
       "description_width": ""
      }
     },
     "9727f75887764642b59893264ac85e79": {
      "model_module": "@jupyter-widgets/controls",
      "model_module_version": "1.5.0",
      "model_name": "HBoxModel",
      "state": {
       "_dom_classes": [],
       "_model_module": "@jupyter-widgets/controls",
       "_model_module_version": "1.5.0",
       "_model_name": "HBoxModel",
       "_view_count": null,
       "_view_module": "@jupyter-widgets/controls",
       "_view_module_version": "1.5.0",
       "_view_name": "HBoxView",
       "box_style": "",
       "children": [
        "IPY_MODEL_8ce31f024ed24e188958321fce064171",
        "IPY_MODEL_283ff65065a94911ae7eb9912f6f59f5",
        "IPY_MODEL_a259a21a71e9476dbee1a92b2c5a1dbe"
       ],
       "layout": "IPY_MODEL_6bebeadf33e140f58b03832313dcdac6"
      }
     },
     "989f9209bbab46a9abd65221af835ca7": {
      "model_module": "@jupyter-widgets/base",
      "model_module_version": "1.2.0",
      "model_name": "LayoutModel",
      "state": {
       "_model_module": "@jupyter-widgets/base",
       "_model_module_version": "1.2.0",
       "_model_name": "LayoutModel",
       "_view_count": null,
       "_view_module": "@jupyter-widgets/base",
       "_view_module_version": "1.2.0",
       "_view_name": "LayoutView",
       "align_content": null,
       "align_items": null,
       "align_self": null,
       "border": null,
       "bottom": null,
       "display": null,
       "flex": null,
       "flex_flow": null,
       "grid_area": null,
       "grid_auto_columns": null,
       "grid_auto_flow": null,
       "grid_auto_rows": null,
       "grid_column": null,
       "grid_gap": null,
       "grid_row": null,
       "grid_template_areas": null,
       "grid_template_columns": null,
       "grid_template_rows": null,
       "height": null,
       "justify_content": null,
       "justify_items": null,
       "left": null,
       "margin": null,
       "max_height": null,
       "max_width": null,
       "min_height": null,
       "min_width": null,
       "object_fit": null,
       "object_position": null,
       "order": null,
       "overflow": null,
       "overflow_x": null,
       "overflow_y": null,
       "padding": null,
       "right": null,
       "top": null,
       "visibility": null,
       "width": null
      }
     },
     "9b48bb0eb934472da0440d2a4e95e905": {
      "model_module": "@jupyter-widgets/controls",
      "model_module_version": "1.5.0",
      "model_name": "DescriptionStyleModel",
      "state": {
       "_model_module": "@jupyter-widgets/controls",
       "_model_module_version": "1.5.0",
       "_model_name": "DescriptionStyleModel",
       "_view_count": null,
       "_view_module": "@jupyter-widgets/base",
       "_view_module_version": "1.2.0",
       "_view_name": "StyleView",
       "description_width": ""
      }
     },
     "9c6728b6ff1a4bffb3ffdbfdfeae8e72": {
      "model_module": "@jupyter-widgets/controls",
      "model_module_version": "1.5.0",
      "model_name": "HTMLModel",
      "state": {
       "_dom_classes": [],
       "_model_module": "@jupyter-widgets/controls",
       "_model_module_version": "1.5.0",
       "_model_name": "HTMLModel",
       "_view_count": null,
       "_view_module": "@jupyter-widgets/controls",
       "_view_module_version": "1.5.0",
       "_view_name": "HTMLView",
       "description": "",
       "description_tooltip": null,
       "layout": "IPY_MODEL_53a591e3b56a41ba80f0ba56a8a9acca",
       "placeholder": "​",
       "style": "IPY_MODEL_7030fbb5d43546c8a193c595da2d3e3c",
       "value": "Batches: 100%"
      }
     },
     "a024a4e129d6496faf124547f7471b13": {
      "model_module": "@jupyter-widgets/base",
      "model_module_version": "1.2.0",
      "model_name": "LayoutModel",
      "state": {
       "_model_module": "@jupyter-widgets/base",
       "_model_module_version": "1.2.0",
       "_model_name": "LayoutModel",
       "_view_count": null,
       "_view_module": "@jupyter-widgets/base",
       "_view_module_version": "1.2.0",
       "_view_name": "LayoutView",
       "align_content": null,
       "align_items": null,
       "align_self": null,
       "border": null,
       "bottom": null,
       "display": null,
       "flex": null,
       "flex_flow": null,
       "grid_area": null,
       "grid_auto_columns": null,
       "grid_auto_flow": null,
       "grid_auto_rows": null,
       "grid_column": null,
       "grid_gap": null,
       "grid_row": null,
       "grid_template_areas": null,
       "grid_template_columns": null,
       "grid_template_rows": null,
       "height": null,
       "justify_content": null,
       "justify_items": null,
       "left": null,
       "margin": null,
       "max_height": null,
       "max_width": null,
       "min_height": null,
       "min_width": null,
       "object_fit": null,
       "object_position": null,
       "order": null,
       "overflow": null,
       "overflow_x": null,
       "overflow_y": null,
       "padding": null,
       "right": null,
       "top": null,
       "visibility": null,
       "width": null
      }
     },
     "a1b329c254ca43be9a62dfea5927be0e": {
      "model_module": "@jupyter-widgets/base",
      "model_module_version": "1.2.0",
      "model_name": "LayoutModel",
      "state": {
       "_model_module": "@jupyter-widgets/base",
       "_model_module_version": "1.2.0",
       "_model_name": "LayoutModel",
       "_view_count": null,
       "_view_module": "@jupyter-widgets/base",
       "_view_module_version": "1.2.0",
       "_view_name": "LayoutView",
       "align_content": null,
       "align_items": null,
       "align_self": null,
       "border": null,
       "bottom": null,
       "display": null,
       "flex": null,
       "flex_flow": null,
       "grid_area": null,
       "grid_auto_columns": null,
       "grid_auto_flow": null,
       "grid_auto_rows": null,
       "grid_column": null,
       "grid_gap": null,
       "grid_row": null,
       "grid_template_areas": null,
       "grid_template_columns": null,
       "grid_template_rows": null,
       "height": null,
       "justify_content": null,
       "justify_items": null,
       "left": null,
       "margin": null,
       "max_height": null,
       "max_width": null,
       "min_height": null,
       "min_width": null,
       "object_fit": null,
       "object_position": null,
       "order": null,
       "overflow": null,
       "overflow_x": null,
       "overflow_y": null,
       "padding": null,
       "right": null,
       "top": null,
       "visibility": null,
       "width": null
      }
     },
     "a259a21a71e9476dbee1a92b2c5a1dbe": {
      "model_module": "@jupyter-widgets/controls",
      "model_module_version": "1.5.0",
      "model_name": "HTMLModel",
      "state": {
       "_dom_classes": [],
       "_model_module": "@jupyter-widgets/controls",
       "_model_module_version": "1.5.0",
       "_model_name": "HTMLModel",
       "_view_count": null,
       "_view_module": "@jupyter-widgets/controls",
       "_view_module_version": "1.5.0",
       "_view_name": "HTMLView",
       "description": "",
       "description_tooltip": null,
       "layout": "IPY_MODEL_b995eabd8d7a49dda5def2e5e61354ca",
       "placeholder": "​",
       "style": "IPY_MODEL_95e261eb03d34d2897ac38cdca9f6f50",
       "value": " 200/200 [00:02&lt;00:00, 141.16it/s]"
      }
     },
     "a7ddcca098c7487e8ff0fd38393787d5": {
      "model_module": "@jupyter-widgets/controls",
      "model_module_version": "1.5.0",
      "model_name": "FloatProgressModel",
      "state": {
       "_dom_classes": [],
       "_model_module": "@jupyter-widgets/controls",
       "_model_module_version": "1.5.0",
       "_model_name": "FloatProgressModel",
       "_view_count": null,
       "_view_module": "@jupyter-widgets/controls",
       "_view_module_version": "1.5.0",
       "_view_name": "ProgressView",
       "bar_style": "success",
       "description": "",
       "description_tooltip": null,
       "layout": "IPY_MODEL_c7a594b75c87489089537a3c3d855aa9",
       "max": 13,
       "min": 0,
       "orientation": "horizontal",
       "style": "IPY_MODEL_f7dcbeb917f44924afe1d5417bcafde8",
       "value": 13
      }
     },
     "adb75c23b9224731a648c7ba19f012f7": {
      "model_module": "@jupyter-widgets/base",
      "model_module_version": "1.2.0",
      "model_name": "LayoutModel",
      "state": {
       "_model_module": "@jupyter-widgets/base",
       "_model_module_version": "1.2.0",
       "_model_name": "LayoutModel",
       "_view_count": null,
       "_view_module": "@jupyter-widgets/base",
       "_view_module_version": "1.2.0",
       "_view_name": "LayoutView",
       "align_content": null,
       "align_items": null,
       "align_self": null,
       "border": null,
       "bottom": null,
       "display": null,
       "flex": null,
       "flex_flow": null,
       "grid_area": null,
       "grid_auto_columns": null,
       "grid_auto_flow": null,
       "grid_auto_rows": null,
       "grid_column": null,
       "grid_gap": null,
       "grid_row": null,
       "grid_template_areas": null,
       "grid_template_columns": null,
       "grid_template_rows": null,
       "height": null,
       "justify_content": null,
       "justify_items": null,
       "left": null,
       "margin": null,
       "max_height": null,
       "max_width": null,
       "min_height": null,
       "min_width": null,
       "object_fit": null,
       "object_position": null,
       "order": null,
       "overflow": null,
       "overflow_x": null,
       "overflow_y": null,
       "padding": null,
       "right": null,
       "top": null,
       "visibility": null,
       "width": null
      }
     },
     "b24137cb8138404e89a83b9e272f77ac": {
      "model_module": "@jupyter-widgets/controls",
      "model_module_version": "1.5.0",
      "model_name": "HBoxModel",
      "state": {
       "_dom_classes": [],
       "_model_module": "@jupyter-widgets/controls",
       "_model_module_version": "1.5.0",
       "_model_name": "HBoxModel",
       "_view_count": null,
       "_view_module": "@jupyter-widgets/controls",
       "_view_module_version": "1.5.0",
       "_view_name": "HBoxView",
       "box_style": "",
       "children": [
        "IPY_MODEL_6fa0025a6565421895f045af14050fe1",
        "IPY_MODEL_0d5200b0e84944698f4aa2c761b7a61a",
        "IPY_MODEL_35476bc9d8a349c6a4c0bfbb9e9a16f6"
       ],
       "layout": "IPY_MODEL_0b8c3d3d790e410bbae114c8856d10d4"
      }
     },
     "b4c68388ad8946b9836095080a70b2a4": {
      "model_module": "@jupyter-widgets/base",
      "model_module_version": "1.2.0",
      "model_name": "LayoutModel",
      "state": {
       "_model_module": "@jupyter-widgets/base",
       "_model_module_version": "1.2.0",
       "_model_name": "LayoutModel",
       "_view_count": null,
       "_view_module": "@jupyter-widgets/base",
       "_view_module_version": "1.2.0",
       "_view_name": "LayoutView",
       "align_content": null,
       "align_items": null,
       "align_self": null,
       "border": null,
       "bottom": null,
       "display": null,
       "flex": null,
       "flex_flow": null,
       "grid_area": null,
       "grid_auto_columns": null,
       "grid_auto_flow": null,
       "grid_auto_rows": null,
       "grid_column": null,
       "grid_gap": null,
       "grid_row": null,
       "grid_template_areas": null,
       "grid_template_columns": null,
       "grid_template_rows": null,
       "height": null,
       "justify_content": null,
       "justify_items": null,
       "left": null,
       "margin": null,
       "max_height": null,
       "max_width": null,
       "min_height": null,
       "min_width": null,
       "object_fit": null,
       "object_position": null,
       "order": null,
       "overflow": null,
       "overflow_x": null,
       "overflow_y": null,
       "padding": null,
       "right": null,
       "top": null,
       "visibility": null,
       "width": null
      }
     },
     "b995eabd8d7a49dda5def2e5e61354ca": {
      "model_module": "@jupyter-widgets/base",
      "model_module_version": "1.2.0",
      "model_name": "LayoutModel",
      "state": {
       "_model_module": "@jupyter-widgets/base",
       "_model_module_version": "1.2.0",
       "_model_name": "LayoutModel",
       "_view_count": null,
       "_view_module": "@jupyter-widgets/base",
       "_view_module_version": "1.2.0",
       "_view_name": "LayoutView",
       "align_content": null,
       "align_items": null,
       "align_self": null,
       "border": null,
       "bottom": null,
       "display": null,
       "flex": null,
       "flex_flow": null,
       "grid_area": null,
       "grid_auto_columns": null,
       "grid_auto_flow": null,
       "grid_auto_rows": null,
       "grid_column": null,
       "grid_gap": null,
       "grid_row": null,
       "grid_template_areas": null,
       "grid_template_columns": null,
       "grid_template_rows": null,
       "height": null,
       "justify_content": null,
       "justify_items": null,
       "left": null,
       "margin": null,
       "max_height": null,
       "max_width": null,
       "min_height": null,
       "min_width": null,
       "object_fit": null,
       "object_position": null,
       "order": null,
       "overflow": null,
       "overflow_x": null,
       "overflow_y": null,
       "padding": null,
       "right": null,
       "top": null,
       "visibility": null,
       "width": null
      }
     },
     "b9cc9c64de354832bb3bd519f55ef8a1": {
      "model_module": "@jupyter-widgets/base",
      "model_module_version": "1.2.0",
      "model_name": "LayoutModel",
      "state": {
       "_model_module": "@jupyter-widgets/base",
       "_model_module_version": "1.2.0",
       "_model_name": "LayoutModel",
       "_view_count": null,
       "_view_module": "@jupyter-widgets/base",
       "_view_module_version": "1.2.0",
       "_view_name": "LayoutView",
       "align_content": null,
       "align_items": null,
       "align_self": null,
       "border": null,
       "bottom": null,
       "display": null,
       "flex": null,
       "flex_flow": null,
       "grid_area": null,
       "grid_auto_columns": null,
       "grid_auto_flow": null,
       "grid_auto_rows": null,
       "grid_column": null,
       "grid_gap": null,
       "grid_row": null,
       "grid_template_areas": null,
       "grid_template_columns": null,
       "grid_template_rows": null,
       "height": null,
       "justify_content": null,
       "justify_items": null,
       "left": null,
       "margin": null,
       "max_height": null,
       "max_width": null,
       "min_height": null,
       "min_width": null,
       "object_fit": null,
       "object_position": null,
       "order": null,
       "overflow": null,
       "overflow_x": null,
       "overflow_y": null,
       "padding": null,
       "right": null,
       "top": null,
       "visibility": null,
       "width": null
      }
     },
     "bc6bf52bd5274d419cdef5cd4f081525": {
      "model_module": "@jupyter-widgets/base",
      "model_module_version": "1.2.0",
      "model_name": "LayoutModel",
      "state": {
       "_model_module": "@jupyter-widgets/base",
       "_model_module_version": "1.2.0",
       "_model_name": "LayoutModel",
       "_view_count": null,
       "_view_module": "@jupyter-widgets/base",
       "_view_module_version": "1.2.0",
       "_view_name": "LayoutView",
       "align_content": null,
       "align_items": null,
       "align_self": null,
       "border": null,
       "bottom": null,
       "display": null,
       "flex": null,
       "flex_flow": null,
       "grid_area": null,
       "grid_auto_columns": null,
       "grid_auto_flow": null,
       "grid_auto_rows": null,
       "grid_column": null,
       "grid_gap": null,
       "grid_row": null,
       "grid_template_areas": null,
       "grid_template_columns": null,
       "grid_template_rows": null,
       "height": null,
       "justify_content": null,
       "justify_items": null,
       "left": null,
       "margin": null,
       "max_height": null,
       "max_width": null,
       "min_height": null,
       "min_width": null,
       "object_fit": null,
       "object_position": null,
       "order": null,
       "overflow": null,
       "overflow_x": null,
       "overflow_y": null,
       "padding": null,
       "right": null,
       "top": null,
       "visibility": null,
       "width": null
      }
     },
     "c20c3f9a4d284c878dbea97c0c0c3cf0": {
      "model_module": "@jupyter-widgets/controls",
      "model_module_version": "1.5.0",
      "model_name": "FloatProgressModel",
      "state": {
       "_dom_classes": [],
       "_model_module": "@jupyter-widgets/controls",
       "_model_module_version": "1.5.0",
       "_model_name": "FloatProgressModel",
       "_view_count": null,
       "_view_module": "@jupyter-widgets/controls",
       "_view_module_version": "1.5.0",
       "_view_name": "ProgressView",
       "bar_style": "success",
       "description": "",
       "description_tooltip": null,
       "layout": "IPY_MODEL_a024a4e129d6496faf124547f7471b13",
       "max": 28,
       "min": 0,
       "orientation": "horizontal",
       "style": "IPY_MODEL_3f72e48110db4913971a79098baa8e2b",
       "value": 28
      }
     },
     "c50119e20b034d8eb3f69f32f635f060": {
      "model_module": "@jupyter-widgets/controls",
      "model_module_version": "1.5.0",
      "model_name": "DescriptionStyleModel",
      "state": {
       "_model_module": "@jupyter-widgets/controls",
       "_model_module_version": "1.5.0",
       "_model_name": "DescriptionStyleModel",
       "_view_count": null,
       "_view_module": "@jupyter-widgets/base",
       "_view_module_version": "1.2.0",
       "_view_name": "StyleView",
       "description_width": ""
      }
     },
     "c7a594b75c87489089537a3c3d855aa9": {
      "model_module": "@jupyter-widgets/base",
      "model_module_version": "1.2.0",
      "model_name": "LayoutModel",
      "state": {
       "_model_module": "@jupyter-widgets/base",
       "_model_module_version": "1.2.0",
       "_model_name": "LayoutModel",
       "_view_count": null,
       "_view_module": "@jupyter-widgets/base",
       "_view_module_version": "1.2.0",
       "_view_name": "LayoutView",
       "align_content": null,
       "align_items": null,
       "align_self": null,
       "border": null,
       "bottom": null,
       "display": null,
       "flex": null,
       "flex_flow": null,
       "grid_area": null,
       "grid_auto_columns": null,
       "grid_auto_flow": null,
       "grid_auto_rows": null,
       "grid_column": null,
       "grid_gap": null,
       "grid_row": null,
       "grid_template_areas": null,
       "grid_template_columns": null,
       "grid_template_rows": null,
       "height": null,
       "justify_content": null,
       "justify_items": null,
       "left": null,
       "margin": null,
       "max_height": null,
       "max_width": null,
       "min_height": null,
       "min_width": null,
       "object_fit": null,
       "object_position": null,
       "order": null,
       "overflow": null,
       "overflow_x": null,
       "overflow_y": null,
       "padding": null,
       "right": null,
       "top": null,
       "visibility": null,
       "width": null
      }
     },
     "c9fad2de8006423dbcee4432872c7e19": {
      "model_module": "@jupyter-widgets/controls",
      "model_module_version": "1.5.0",
      "model_name": "DescriptionStyleModel",
      "state": {
       "_model_module": "@jupyter-widgets/controls",
       "_model_module_version": "1.5.0",
       "_model_name": "DescriptionStyleModel",
       "_view_count": null,
       "_view_module": "@jupyter-widgets/base",
       "_view_module_version": "1.2.0",
       "_view_name": "StyleView",
       "description_width": ""
      }
     },
     "cd098ba7f978448b9bb08485f2a06602": {
      "model_module": "@jupyter-widgets/controls",
      "model_module_version": "1.5.0",
      "model_name": "DescriptionStyleModel",
      "state": {
       "_model_module": "@jupyter-widgets/controls",
       "_model_module_version": "1.5.0",
       "_model_name": "DescriptionStyleModel",
       "_view_count": null,
       "_view_module": "@jupyter-widgets/base",
       "_view_module_version": "1.2.0",
       "_view_name": "StyleView",
       "description_width": ""
      }
     },
     "d021356467124c01b3d183f1a0a584fb": {
      "model_module": "@jupyter-widgets/controls",
      "model_module_version": "1.5.0",
      "model_name": "DescriptionStyleModel",
      "state": {
       "_model_module": "@jupyter-widgets/controls",
       "_model_module_version": "1.5.0",
       "_model_name": "DescriptionStyleModel",
       "_view_count": null,
       "_view_module": "@jupyter-widgets/base",
       "_view_module_version": "1.2.0",
       "_view_name": "StyleView",
       "description_width": ""
      }
     },
     "d67a0c1b728f432ea897ea594dbf0943": {
      "model_module": "@jupyter-widgets/controls",
      "model_module_version": "1.5.0",
      "model_name": "DescriptionStyleModel",
      "state": {
       "_model_module": "@jupyter-widgets/controls",
       "_model_module_version": "1.5.0",
       "_model_name": "DescriptionStyleModel",
       "_view_count": null,
       "_view_module": "@jupyter-widgets/base",
       "_view_module_version": "1.2.0",
       "_view_name": "StyleView",
       "description_width": ""
      }
     },
     "d956436b56374981a7b46740f2da1f16": {
      "model_module": "@jupyter-widgets/controls",
      "model_module_version": "1.5.0",
      "model_name": "FloatProgressModel",
      "state": {
       "_dom_classes": [],
       "_model_module": "@jupyter-widgets/controls",
       "_model_module_version": "1.5.0",
       "_model_name": "FloatProgressModel",
       "_view_count": null,
       "_view_module": "@jupyter-widgets/controls",
       "_view_module_version": "1.5.0",
       "_view_name": "ProgressView",
       "bar_style": "success",
       "description": "",
       "description_tooltip": null,
       "layout": "IPY_MODEL_49c51779665241d58273f720833c088c",
       "max": 13,
       "min": 0,
       "orientation": "horizontal",
       "style": "IPY_MODEL_5cc7bb7ae7254f72bd857eb76c7bbdcf",
       "value": 13
      }
     },
     "db92b57a79cb4d27a478312645a94ecd": {
      "model_module": "@jupyter-widgets/base",
      "model_module_version": "1.2.0",
      "model_name": "LayoutModel",
      "state": {
       "_model_module": "@jupyter-widgets/base",
       "_model_module_version": "1.2.0",
       "_model_name": "LayoutModel",
       "_view_count": null,
       "_view_module": "@jupyter-widgets/base",
       "_view_module_version": "1.2.0",
       "_view_name": "LayoutView",
       "align_content": null,
       "align_items": null,
       "align_self": null,
       "border": null,
       "bottom": null,
       "display": null,
       "flex": null,
       "flex_flow": null,
       "grid_area": null,
       "grid_auto_columns": null,
       "grid_auto_flow": null,
       "grid_auto_rows": null,
       "grid_column": null,
       "grid_gap": null,
       "grid_row": null,
       "grid_template_areas": null,
       "grid_template_columns": null,
       "grid_template_rows": null,
       "height": null,
       "justify_content": null,
       "justify_items": null,
       "left": null,
       "margin": null,
       "max_height": null,
       "max_width": null,
       "min_height": null,
       "min_width": null,
       "object_fit": null,
       "object_position": null,
       "order": null,
       "overflow": null,
       "overflow_x": null,
       "overflow_y": null,
       "padding": null,
       "right": null,
       "top": null,
       "visibility": null,
       "width": null
      }
     },
     "dca1301010b24f1791d5f93fda4ee1b1": {
      "model_module": "@jupyter-widgets/base",
      "model_module_version": "1.2.0",
      "model_name": "LayoutModel",
      "state": {
       "_model_module": "@jupyter-widgets/base",
       "_model_module_version": "1.2.0",
       "_model_name": "LayoutModel",
       "_view_count": null,
       "_view_module": "@jupyter-widgets/base",
       "_view_module_version": "1.2.0",
       "_view_name": "LayoutView",
       "align_content": null,
       "align_items": null,
       "align_self": null,
       "border": null,
       "bottom": null,
       "display": null,
       "flex": null,
       "flex_flow": null,
       "grid_area": null,
       "grid_auto_columns": null,
       "grid_auto_flow": null,
       "grid_auto_rows": null,
       "grid_column": null,
       "grid_gap": null,
       "grid_row": null,
       "grid_template_areas": null,
       "grid_template_columns": null,
       "grid_template_rows": null,
       "height": null,
       "justify_content": null,
       "justify_items": null,
       "left": null,
       "margin": null,
       "max_height": null,
       "max_width": null,
       "min_height": null,
       "min_width": null,
       "object_fit": null,
       "object_position": null,
       "order": null,
       "overflow": null,
       "overflow_x": null,
       "overflow_y": null,
       "padding": null,
       "right": null,
       "top": null,
       "visibility": null,
       "width": null
      }
     },
     "dcb04d92298f46e5b9ad780577aaf2a4": {
      "model_module": "@jupyter-widgets/base",
      "model_module_version": "1.2.0",
      "model_name": "LayoutModel",
      "state": {
       "_model_module": "@jupyter-widgets/base",
       "_model_module_version": "1.2.0",
       "_model_name": "LayoutModel",
       "_view_count": null,
       "_view_module": "@jupyter-widgets/base",
       "_view_module_version": "1.2.0",
       "_view_name": "LayoutView",
       "align_content": null,
       "align_items": null,
       "align_self": null,
       "border": null,
       "bottom": null,
       "display": null,
       "flex": null,
       "flex_flow": null,
       "grid_area": null,
       "grid_auto_columns": null,
       "grid_auto_flow": null,
       "grid_auto_rows": null,
       "grid_column": null,
       "grid_gap": null,
       "grid_row": null,
       "grid_template_areas": null,
       "grid_template_columns": null,
       "grid_template_rows": null,
       "height": null,
       "justify_content": null,
       "justify_items": null,
       "left": null,
       "margin": null,
       "max_height": null,
       "max_width": null,
       "min_height": null,
       "min_width": null,
       "object_fit": null,
       "object_position": null,
       "order": null,
       "overflow": null,
       "overflow_x": null,
       "overflow_y": null,
       "padding": null,
       "right": null,
       "top": null,
       "visibility": null,
       "width": null
      }
     },
     "df43a7a4611649f1af14f32137521428": {
      "model_module": "@jupyter-widgets/controls",
      "model_module_version": "1.5.0",
      "model_name": "HBoxModel",
      "state": {
       "_dom_classes": [],
       "_model_module": "@jupyter-widgets/controls",
       "_model_module_version": "1.5.0",
       "_model_name": "HBoxModel",
       "_view_count": null,
       "_view_module": "@jupyter-widgets/controls",
       "_view_module_version": "1.5.0",
       "_view_name": "HBoxView",
       "box_style": "",
       "children": [
        "IPY_MODEL_80ab1cf4f93d4916af41ada6287b8d99",
        "IPY_MODEL_31dcf8f5d18e47fc91098ca0fbea3315",
        "IPY_MODEL_f1b8e49d5dd241c7959239fa9bba56b3"
       ],
       "layout": "IPY_MODEL_adb75c23b9224731a648c7ba19f012f7"
      }
     },
     "e437a5a65989472ba942b2b0f4b8430a": {
      "model_module": "@jupyter-widgets/base",
      "model_module_version": "1.2.0",
      "model_name": "LayoutModel",
      "state": {
       "_model_module": "@jupyter-widgets/base",
       "_model_module_version": "1.2.0",
       "_model_name": "LayoutModel",
       "_view_count": null,
       "_view_module": "@jupyter-widgets/base",
       "_view_module_version": "1.2.0",
       "_view_name": "LayoutView",
       "align_content": null,
       "align_items": null,
       "align_self": null,
       "border": null,
       "bottom": null,
       "display": null,
       "flex": null,
       "flex_flow": null,
       "grid_area": null,
       "grid_auto_columns": null,
       "grid_auto_flow": null,
       "grid_auto_rows": null,
       "grid_column": null,
       "grid_gap": null,
       "grid_row": null,
       "grid_template_areas": null,
       "grid_template_columns": null,
       "grid_template_rows": null,
       "height": null,
       "justify_content": null,
       "justify_items": null,
       "left": null,
       "margin": null,
       "max_height": null,
       "max_width": null,
       "min_height": null,
       "min_width": null,
       "object_fit": null,
       "object_position": null,
       "order": null,
       "overflow": null,
       "overflow_x": null,
       "overflow_y": null,
       "padding": null,
       "right": null,
       "top": null,
       "visibility": null,
       "width": null
      }
     },
     "e493c6747a9f49b58fb9863729cfefb5": {
      "model_module": "@jupyter-widgets/base",
      "model_module_version": "1.2.0",
      "model_name": "LayoutModel",
      "state": {
       "_model_module": "@jupyter-widgets/base",
       "_model_module_version": "1.2.0",
       "_model_name": "LayoutModel",
       "_view_count": null,
       "_view_module": "@jupyter-widgets/base",
       "_view_module_version": "1.2.0",
       "_view_name": "LayoutView",
       "align_content": null,
       "align_items": null,
       "align_self": null,
       "border": null,
       "bottom": null,
       "display": null,
       "flex": null,
       "flex_flow": null,
       "grid_area": null,
       "grid_auto_columns": null,
       "grid_auto_flow": null,
       "grid_auto_rows": null,
       "grid_column": null,
       "grid_gap": null,
       "grid_row": null,
       "grid_template_areas": null,
       "grid_template_columns": null,
       "grid_template_rows": null,
       "height": null,
       "justify_content": null,
       "justify_items": null,
       "left": null,
       "margin": null,
       "max_height": null,
       "max_width": null,
       "min_height": null,
       "min_width": null,
       "object_fit": null,
       "object_position": null,
       "order": null,
       "overflow": null,
       "overflow_x": null,
       "overflow_y": null,
       "padding": null,
       "right": null,
       "top": null,
       "visibility": null,
       "width": null
      }
     },
     "e6b8a8caa64447b0bc16e3f2dbd9e4e1": {
      "model_module": "@jupyter-widgets/base",
      "model_module_version": "1.2.0",
      "model_name": "LayoutModel",
      "state": {
       "_model_module": "@jupyter-widgets/base",
       "_model_module_version": "1.2.0",
       "_model_name": "LayoutModel",
       "_view_count": null,
       "_view_module": "@jupyter-widgets/base",
       "_view_module_version": "1.2.0",
       "_view_name": "LayoutView",
       "align_content": null,
       "align_items": null,
       "align_self": null,
       "border": null,
       "bottom": null,
       "display": null,
       "flex": null,
       "flex_flow": null,
       "grid_area": null,
       "grid_auto_columns": null,
       "grid_auto_flow": null,
       "grid_auto_rows": null,
       "grid_column": null,
       "grid_gap": null,
       "grid_row": null,
       "grid_template_areas": null,
       "grid_template_columns": null,
       "grid_template_rows": null,
       "height": null,
       "justify_content": null,
       "justify_items": null,
       "left": null,
       "margin": null,
       "max_height": null,
       "max_width": null,
       "min_height": null,
       "min_width": null,
       "object_fit": null,
       "object_position": null,
       "order": null,
       "overflow": null,
       "overflow_x": null,
       "overflow_y": null,
       "padding": null,
       "right": null,
       "top": null,
       "visibility": null,
       "width": null
      }
     },
     "e9c1781e0cdb4e62b8eea9b9e3315cb6": {
      "model_module": "@jupyter-widgets/controls",
      "model_module_version": "1.5.0",
      "model_name": "ProgressStyleModel",
      "state": {
       "_model_module": "@jupyter-widgets/controls",
       "_model_module_version": "1.5.0",
       "_model_name": "ProgressStyleModel",
       "_view_count": null,
       "_view_module": "@jupyter-widgets/base",
       "_view_module_version": "1.2.0",
       "_view_name": "StyleView",
       "bar_color": null,
       "description_width": ""
      }
     },
     "ebb53eb480f6464399615c9c1f03a012": {
      "model_module": "@jupyter-widgets/base",
      "model_module_version": "1.2.0",
      "model_name": "LayoutModel",
      "state": {
       "_model_module": "@jupyter-widgets/base",
       "_model_module_version": "1.2.0",
       "_model_name": "LayoutModel",
       "_view_count": null,
       "_view_module": "@jupyter-widgets/base",
       "_view_module_version": "1.2.0",
       "_view_name": "LayoutView",
       "align_content": null,
       "align_items": null,
       "align_self": null,
       "border": null,
       "bottom": null,
       "display": null,
       "flex": null,
       "flex_flow": null,
       "grid_area": null,
       "grid_auto_columns": null,
       "grid_auto_flow": null,
       "grid_auto_rows": null,
       "grid_column": null,
       "grid_gap": null,
       "grid_row": null,
       "grid_template_areas": null,
       "grid_template_columns": null,
       "grid_template_rows": null,
       "height": null,
       "justify_content": null,
       "justify_items": null,
       "left": null,
       "margin": null,
       "max_height": null,
       "max_width": null,
       "min_height": null,
       "min_width": null,
       "object_fit": null,
       "object_position": null,
       "order": null,
       "overflow": null,
       "overflow_x": null,
       "overflow_y": null,
       "padding": null,
       "right": null,
       "top": null,
       "visibility": null,
       "width": null
      }
     },
     "f1b8e49d5dd241c7959239fa9bba56b3": {
      "model_module": "@jupyter-widgets/controls",
      "model_module_version": "1.5.0",
      "model_name": "HTMLModel",
      "state": {
       "_dom_classes": [],
       "_model_module": "@jupyter-widgets/controls",
       "_model_module_version": "1.5.0",
       "_model_name": "HTMLModel",
       "_view_count": null,
       "_view_module": "@jupyter-widgets/controls",
       "_view_module_version": "1.5.0",
       "_view_name": "HTMLView",
       "description": "",
       "description_tooltip": null,
       "layout": "IPY_MODEL_e437a5a65989472ba942b2b0f4b8430a",
       "placeholder": "​",
       "style": "IPY_MODEL_69f01d7063704254813c7ac3917ec075",
       "value": " 200/200 [00:00&lt;00:00, 1061.46it/s]"
      }
     },
     "f1d2d17004114a4da8cf00536c4de887": {
      "model_module": "@jupyter-widgets/controls",
      "model_module_version": "1.5.0",
      "model_name": "ProgressStyleModel",
      "state": {
       "_model_module": "@jupyter-widgets/controls",
       "_model_module_version": "1.5.0",
       "_model_name": "ProgressStyleModel",
       "_view_count": null,
       "_view_module": "@jupyter-widgets/base",
       "_view_module_version": "1.2.0",
       "_view_name": "StyleView",
       "bar_color": null,
       "description_width": ""
      }
     },
     "f4202cd02a8847aa9f0ad22ac66682bd": {
      "model_module": "@jupyter-widgets/controls",
      "model_module_version": "1.5.0",
      "model_name": "DescriptionStyleModel",
      "state": {
       "_model_module": "@jupyter-widgets/controls",
       "_model_module_version": "1.5.0",
       "_model_name": "DescriptionStyleModel",
       "_view_count": null,
       "_view_module": "@jupyter-widgets/base",
       "_view_module_version": "1.2.0",
       "_view_name": "StyleView",
       "description_width": ""
      }
     },
     "f7dcbeb917f44924afe1d5417bcafde8": {
      "model_module": "@jupyter-widgets/controls",
      "model_module_version": "1.5.0",
      "model_name": "ProgressStyleModel",
      "state": {
       "_model_module": "@jupyter-widgets/controls",
       "_model_module_version": "1.5.0",
       "_model_name": "ProgressStyleModel",
       "_view_count": null,
       "_view_module": "@jupyter-widgets/base",
       "_view_module_version": "1.2.0",
       "_view_name": "StyleView",
       "bar_color": null,
       "description_width": ""
      }
     },
     "f841947ea116460ba52868ea6be0f4f4": {
      "model_module": "@jupyter-widgets/base",
      "model_module_version": "1.2.0",
      "model_name": "LayoutModel",
      "state": {
       "_model_module": "@jupyter-widgets/base",
       "_model_module_version": "1.2.0",
       "_model_name": "LayoutModel",
       "_view_count": null,
       "_view_module": "@jupyter-widgets/base",
       "_view_module_version": "1.2.0",
       "_view_name": "LayoutView",
       "align_content": null,
       "align_items": null,
       "align_self": null,
       "border": null,
       "bottom": null,
       "display": null,
       "flex": null,
       "flex_flow": null,
       "grid_area": null,
       "grid_auto_columns": null,
       "grid_auto_flow": null,
       "grid_auto_rows": null,
       "grid_column": null,
       "grid_gap": null,
       "grid_row": null,
       "grid_template_areas": null,
       "grid_template_columns": null,
       "grid_template_rows": null,
       "height": null,
       "justify_content": null,
       "justify_items": null,
       "left": null,
       "margin": null,
       "max_height": null,
       "max_width": null,
       "min_height": null,
       "min_width": null,
       "object_fit": null,
       "object_position": null,
       "order": null,
       "overflow": null,
       "overflow_x": null,
       "overflow_y": null,
       "padding": null,
       "right": null,
       "top": null,
       "visibility": null,
       "width": null
      }
     },
     "fad35b60e4014892b9f516df90806bba": {
      "model_module": "@jupyter-widgets/controls",
      "model_module_version": "1.5.0",
      "model_name": "ProgressStyleModel",
      "state": {
       "_model_module": "@jupyter-widgets/controls",
       "_model_module_version": "1.5.0",
       "_model_name": "ProgressStyleModel",
       "_view_count": null,
       "_view_module": "@jupyter-widgets/base",
       "_view_module_version": "1.2.0",
       "_view_name": "StyleView",
       "bar_color": null,
       "description_width": ""
      }
     },
     "fc5e42d83c8d44598caf99222b966c7c": {
      "model_module": "@jupyter-widgets/controls",
      "model_module_version": "1.5.0",
      "model_name": "HTMLModel",
      "state": {
       "_dom_classes": [],
       "_model_module": "@jupyter-widgets/controls",
       "_model_module_version": "1.5.0",
       "_model_name": "HTMLModel",
       "_view_count": null,
       "_view_module": "@jupyter-widgets/controls",
       "_view_module_version": "1.5.0",
       "_view_name": "HTMLView",
       "description": "",
       "description_tooltip": null,
       "layout": "IPY_MODEL_38f2d5adee8d435196c6c294bd871b71",
       "placeholder": "​",
       "style": "IPY_MODEL_540bbbbe664f48e2b9e32c028dde0409",
       "value": " 28/28 [04:44&lt;00:00,  3.86s/it]"
      }
     },
     "feefbffaaf78431486059eaeff6a20c4": {
      "model_module": "@jupyter-widgets/controls",
      "model_module_version": "1.5.0",
      "model_name": "ProgressStyleModel",
      "state": {
       "_model_module": "@jupyter-widgets/controls",
       "_model_module_version": "1.5.0",
       "_model_name": "ProgressStyleModel",
       "_view_count": null,
       "_view_module": "@jupyter-widgets/base",
       "_view_module_version": "1.2.0",
       "_view_name": "StyleView",
       "bar_color": null,
       "description_width": ""
      }
     }
    },
    "version_major": 2,
    "version_minor": 0
   }
  }
 },
 "nbformat": 4,
 "nbformat_minor": 5
}
