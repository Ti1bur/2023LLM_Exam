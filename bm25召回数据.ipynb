{
 "cells": [
  {
   "cell_type": "code",
   "execution_count": 1,
   "id": "e7f24d3e-7522-41b3-a015-7bd1158688ae",
   "metadata": {
    "tags": []
   },
   "outputs": [
    {
     "name": "stdout",
     "output_type": "stream",
     "text": [
      "Looking in indexes: https://mirrors.aliyun.com/pypi/simple, https://pypi.ngc.nvidia.com\n",
      "Collecting rank_bm25\n",
      "  Downloading https://mirrors.aliyun.com/pypi/packages/2a/21/f691fb2613100a62b3fa91e9988c991e9ca5b89ea31c0d3152a3210344f9/rank_bm25-0.2.2-py3-none-any.whl (8.6 kB)\n",
      "Requirement already satisfied: numpy in /app/anaconda3/lib/python3.11/site-packages (from rank_bm25) (1.24.3)\n",
      "Installing collected packages: rank_bm25\n",
      "Successfully installed rank_bm25-0.2.2\n",
      "\u001b[33mWARNING: Running pip as the 'root' user can result in broken permissions and conflicting behaviour with the system package manager. It is recommended to use a virtual environment instead: https://pip.pypa.io/warnings/venv\u001b[0m\u001b[33m\n",
      "\u001b[0m"
     ]
    }
   ],
   "source": [
    "!pip install rank_bm25"
   ]
  },
  {
   "cell_type": "code",
   "execution_count": 1,
   "id": "c24e2e31-48d2-420a-9dfb-edb62645e6e2",
   "metadata": {
    "tags": []
   },
   "outputs": [],
   "source": [
    "from fastbm25 import fastbm25\n",
    "import pickle \n",
    "import pandas as pd"
   ]
  },
  {
   "cell_type": "code",
   "execution_count": 3,
   "id": "cfe9d34a-f274-48be-b722-38e917d1f9af",
   "metadata": {
    "tags": []
   },
   "outputs": [
    {
     "name": "stdout",
     "output_type": "stream",
     "text": [
      "a.parquet\n",
      "b.parquet\n",
      "c.parquet\n",
      "d.parquet\n",
      "e.parquet\n",
      "f.parquet\n",
      "g.parquet\n",
      "h.parquet\n",
      "i.parquet\n",
      "j.parquet\n",
      "k.parquet\n",
      "l.parquet\n",
      "m.parquet\n",
      "n.parquet\n",
      "number.parquet\n",
      "o.parquet\n",
      "other.parquet\n",
      "p.parquet\n",
      "q.parquet\n",
      "r.parquet\n",
      "s.parquet\n",
      "t.parquet\n",
      "u.parquet\n",
      "v.parquet\n",
      "w.parquet\n",
      "x.parquet\n",
      "y.parquet\n",
      "z.parquet\n"
     ]
    }
   ],
   "source": [
    "### load data \n",
    "import os\n",
    "tmp = []\n",
    "list_dir = os.listdir('./wiki_data')\n",
    "list_dir = sorted(list_dir)\n",
    "for path in list_dir:\n",
    "    if 'wiki_2023_index' in path or 'ipynb' in path or 'my' in path:\n",
    "        continue\n",
    "    print(path)\n",
    "    x = pd.read_parquet(os.path.join('./wiki_data',path))\n",
    "    x['file'] = path\n",
    "    tmp.append(x)"
   ]
  },
  {
   "cell_type": "code",
   "execution_count": 4,
   "id": "43a01d7f-0d59-4a7d-8a3d-4dbc1d11238d",
   "metadata": {
    "tags": []
   },
   "outputs": [],
   "source": [
    "doc = pd.concat(tmp, axis=0).reset_index(drop=True)\n",
    "# doc = pd.read_parquet('./wiki_data/wiki_2023_index.parquet')"
   ]
  },
  {
   "cell_type": "code",
   "execution_count": 10,
   "id": "c0da55c6-84e8-48c9-ac10-eeaac176270e",
   "metadata": {},
   "outputs": [],
   "source": [
    "import numpy as np\n",
    "sub = np.array_split(doc, 4)"
   ]
  },
  {
   "cell_type": "code",
   "execution_count": 11,
   "id": "37c39533-695f-43a3-b5ac-77ed2c38e602",
   "metadata": {},
   "outputs": [],
   "source": [
    "for idx, item in enumerate(sub):\n",
    "    item.to_parquet(f'./tmp/{idx}.parquet')"
   ]
  },
  {
   "cell_type": "code",
   "execution_count": 5,
   "id": "eae21197-f394-4e07-9dd3-bee95540cea3",
   "metadata": {
    "tags": []
   },
   "outputs": [
    {
     "data": {
      "text/plain": [
       "(6286775, 5)"
      ]
     },
     "execution_count": 5,
     "metadata": {},
     "output_type": "execute_result"
    }
   ],
   "source": [
    "doc_dup  = doc.drop_duplicates(['id'])\n",
    "doc_dup.shape"
   ]
  },
  {
   "cell_type": "code",
   "execution_count": 8,
   "id": "b843bfb2-2dd3-4412-8592-fc4b5bf23ff9",
   "metadata": {
    "tags": []
   },
   "outputs": [
    {
     "data": {
      "text/html": [
       "<div>\n",
       "<style scoped>\n",
       "    .dataframe tbody tr th:only-of-type {\n",
       "        vertical-align: middle;\n",
       "    }\n",
       "\n",
       "    .dataframe tbody tr th {\n",
       "        vertical-align: top;\n",
       "    }\n",
       "\n",
       "    .dataframe thead th {\n",
       "        text-align: right;\n",
       "    }\n",
       "</style>\n",
       "<table border=\"1\" class=\"dataframe\">\n",
       "  <thead>\n",
       "    <tr style=\"text-align: right;\">\n",
       "      <th></th>\n",
       "      <th>id</th>\n",
       "      <th>title</th>\n",
       "      <th>text</th>\n",
       "      <th>categories</th>\n",
       "      <th>file</th>\n",
       "    </tr>\n",
       "  </thead>\n",
       "  <tbody>\n",
       "    <tr>\n",
       "      <th>0</th>\n",
       "      <td>49495844</td>\n",
       "      <td>A &amp; B High Performance Firearms</td>\n",
       "      <td>A &amp; B High Performance Firearms was a competit...</td>\n",
       "      <td>[Defunct firearms manufacturers, Defunct manuf...</td>\n",
       "      <td>a.parquet</td>\n",
       "    </tr>\n",
       "    <tr>\n",
       "      <th>1</th>\n",
       "      <td>3579086</td>\n",
       "      <td>A &amp; C Black</td>\n",
       "      <td>A &amp; C Black is a British book publishing compa...</td>\n",
       "      <td>[Encyclopædia Britannica, Ornithological publi...</td>\n",
       "      <td>a.parquet</td>\n",
       "    </tr>\n",
       "    <tr>\n",
       "      <th>2</th>\n",
       "      <td>62397582</td>\n",
       "      <td>A &amp; F Harvey Brothers</td>\n",
       "      <td>A &amp; F Harvey Brothers, first Spinning Cotton M...</td>\n",
       "      <td>[Cotton mills]</td>\n",
       "      <td>a.parquet</td>\n",
       "    </tr>\n",
       "    <tr>\n",
       "      <th>3</th>\n",
       "      <td>15547032</td>\n",
       "      <td>A &amp; G Price</td>\n",
       "      <td>A &amp; G Price Limited is an engineering firm and...</td>\n",
       "      <td>[Locomotive manufacturers of New Zealand, Tham...</td>\n",
       "      <td>a.parquet</td>\n",
       "    </tr>\n",
       "    <tr>\n",
       "      <th>4</th>\n",
       "      <td>8021609</td>\n",
       "      <td>A &amp; M Karagheusian</td>\n",
       "      <td>thumb|right|238px|A portion of the Karagheusia...</td>\n",
       "      <td>[1904 establishments in the United States, Arm...</td>\n",
       "      <td>a.parquet</td>\n",
       "    </tr>\n",
       "    <tr>\n",
       "      <th>...</th>\n",
       "      <td>...</td>\n",
       "      <td>...</td>\n",
       "      <td>...</td>\n",
       "      <td>...</td>\n",
       "      <td>...</td>\n",
       "    </tr>\n",
       "    <tr>\n",
       "      <th>6286770</th>\n",
       "      <td>18881188</td>\n",
       "      <td>Zəyəm Cırdaxan</td>\n",
       "      <td>Zəyəm Cırdaxan (also Dzegam-Dzhirdakhan, Dzega...</td>\n",
       "      <td>[Populated places in Shamkir District]</td>\n",
       "      <td>z.parquet</td>\n",
       "    </tr>\n",
       "    <tr>\n",
       "      <th>6286771</th>\n",
       "      <td>18873112</td>\n",
       "      <td>Zəyəm, Qakh</td>\n",
       "      <td>Zəyəm (also, Zagam, Zagyam, and Zeyam; ) is a ...</td>\n",
       "      <td>[Populated places in Qakh District]</td>\n",
       "      <td>z.parquet</td>\n",
       "    </tr>\n",
       "    <tr>\n",
       "      <th>6286772</th>\n",
       "      <td>18881204</td>\n",
       "      <td>Zəyəm, Shamkir</td>\n",
       "      <td>Zəyəm (also, Dzagam, Dzegam, Dzegan, Guseynbei...</td>\n",
       "      <td>[Populated places in Shamkir District]</td>\n",
       "      <td>z.parquet</td>\n",
       "    </tr>\n",
       "    <tr>\n",
       "      <th>6286773</th>\n",
       "      <td>18920475</td>\n",
       "      <td>Zəyəm, Zaqatala</td>\n",
       "      <td>Zəyəm (also, Zagam and Zagyam) is a village an...</td>\n",
       "      <td>[Populated places in Zaqatala District]</td>\n",
       "      <td>z.parquet</td>\n",
       "    </tr>\n",
       "    <tr>\n",
       "      <th>6286774</th>\n",
       "      <td>51132758</td>\n",
       "      <td>Z̀</td>\n",
       "      <td>Z̀ (minuscule: z̀) is a letter of the Latin al...</td>\n",
       "      <td>[Latin letters with diacritics, Phonetic trans...</td>\n",
       "      <td>z.parquet</td>\n",
       "    </tr>\n",
       "  </tbody>\n",
       "</table>\n",
       "<p>6286775 rows × 5 columns</p>\n",
       "</div>"
      ],
      "text/plain": [
       "               id                            title  \\\n",
       "0        49495844  A & B High Performance Firearms   \n",
       "1         3579086                      A & C Black   \n",
       "2        62397582            A & F Harvey Brothers   \n",
       "3        15547032                      A & G Price   \n",
       "4         8021609               A & M Karagheusian   \n",
       "...           ...                              ...   \n",
       "6286770  18881188                   Zəyəm Cırdaxan   \n",
       "6286771  18873112                      Zəyəm, Qakh   \n",
       "6286772  18881204                   Zəyəm, Shamkir   \n",
       "6286773  18920475                  Zəyəm, Zaqatala   \n",
       "6286774  51132758                               Z̀   \n",
       "\n",
       "                                                      text  \\\n",
       "0        A & B High Performance Firearms was a competit...   \n",
       "1        A & C Black is a British book publishing compa...   \n",
       "2        A & F Harvey Brothers, first Spinning Cotton M...   \n",
       "3        A & G Price Limited is an engineering firm and...   \n",
       "4        thumb|right|238px|A portion of the Karagheusia...   \n",
       "...                                                    ...   \n",
       "6286770  Zəyəm Cırdaxan (also Dzegam-Dzhirdakhan, Dzega...   \n",
       "6286771  Zəyəm (also, Zagam, Zagyam, and Zeyam; ) is a ...   \n",
       "6286772  Zəyəm (also, Dzagam, Dzegam, Dzegan, Guseynbei...   \n",
       "6286773  Zəyəm (also, Zagam and Zagyam) is a village an...   \n",
       "6286774  Z̀ (minuscule: z̀) is a letter of the Latin al...   \n",
       "\n",
       "                                                categories       file  \n",
       "0        [Defunct firearms manufacturers, Defunct manuf...  a.parquet  \n",
       "1        [Encyclopædia Britannica, Ornithological publi...  a.parquet  \n",
       "2                                           [Cotton mills]  a.parquet  \n",
       "3        [Locomotive manufacturers of New Zealand, Tham...  a.parquet  \n",
       "4        [1904 establishments in the United States, Arm...  a.parquet  \n",
       "...                                                    ...        ...  \n",
       "6286770             [Populated places in Shamkir District]  z.parquet  \n",
       "6286771                [Populated places in Qakh District]  z.parquet  \n",
       "6286772             [Populated places in Shamkir District]  z.parquet  \n",
       "6286773            [Populated places in Zaqatala District]  z.parquet  \n",
       "6286774  [Latin letters with diacritics, Phonetic trans...  z.parquet  \n",
       "\n",
       "[6286775 rows x 5 columns]"
      ]
     },
     "execution_count": 8,
     "metadata": {},
     "output_type": "execute_result"
    }
   ],
   "source": [
    "doc_dup"
   ]
  },
  {
   "cell_type": "code",
   "execution_count": 9,
   "id": "7cc69eae-6984-4268-b12e-95c9a7db5913",
   "metadata": {
    "tags": []
   },
   "outputs": [],
   "source": [
    "doc_dup['context'] = doc_dup['title']+\" \"+doc_dup['text']"
   ]
  },
  {
   "cell_type": "code",
   "execution_count": 10,
   "id": "7a503cd7-6c23-48fd-94f9-56ef57548442",
   "metadata": {
    "tags": []
   },
   "outputs": [],
   "source": [
    "doc_dict = dict(zip(doc_dup['context'].values,doc_dup['id'].values))"
   ]
  },
  {
   "cell_type": "code",
   "execution_count": 12,
   "id": "fd417ece-363f-4351-a0fe-93955114f07c",
   "metadata": {
    "tags": []
   },
   "outputs": [
    {
     "name": "stderr",
     "output_type": "stream",
     "text": [
      "[nltk_data] Downloading package punkt to /root/nltk_data...\n",
      "[nltk_data]   Package punkt is already up-to-date!\n",
      "[nltk_data] Downloading package stopwords to /root/nltk_data...\n",
      "[nltk_data]   Package stopwords is already up-to-date!\n"
     ]
    }
   ],
   "source": [
    "####bm25\n",
    "from tqdm.auto import tqdm\n",
    "import nltk\n",
    "from nltk.corpus import stopwords\n",
    "from nltk.tokenize import word_tokenize, sent_tokenize\n",
    "\n",
    "nltk.download('punkt')\n",
    "nltk.download('stopwords')\n",
    "\n",
    "def word_process(text):\n",
    "    words = word_tokenize(text)\n",
    "    words = [word.lower() for word in words if word.isalnum()]\n",
    "    return words\n",
    "    \n",
    "\n",
    "corpus = list(doc_dup['context'])"
   ]
  },
  {
   "cell_type": "code",
   "execution_count": 23,
   "id": "b04792d3-b64f-4134-875d-6f870a63686f",
   "metadata": {
    "tags": []
   },
   "outputs": [
    {
     "name": "stderr",
     "output_type": "stream",
     "text": [
      "100%|██████████| 104779/104779 [08:42<00:00, 200.46it/s]\n"
     ]
    }
   ],
   "source": [
    "import multiprocessing\n",
    "def process(data,idx):\n",
    "    res = []\n",
    "    if idx == 0:\n",
    "        for item in tqdm(data):\n",
    "            res.append(word_process(item))\n",
    "    else:\n",
    "        for item in data:\n",
    "            res.append(word_process(item))\n",
    "    import pickle as pkl\n",
    "    with open(f'./tmp/corpus_{idx}.pkl','wb') as f:\n",
    "        pkl.dump(res, f)\n",
    "job = 60\n",
    "sub_size = len(corpus) // job\n",
    "remain = len(corpus) % job\n",
    "subs = [corpus[i:i+sub_size] for i in range(0, len(corpus)-remain, sub_size)]\n",
    "if remain:\n",
    "    subs[-1].extend(corpus[-remain:])\n",
    "process = [multiprocessing.Process(target=process, args=(subs[i], i)) for i in range(job)]\n",
    "for pro in process:\n",
    "    pro.start()\n",
    "for pro in process:\n",
    "    pro.join()"
   ]
  },
  {
   "cell_type": "code",
   "execution_count": 25,
   "id": "20173801-3b90-4478-b007-fe2c079dae6f",
   "metadata": {
    "tags": []
   },
   "outputs": [
    {
     "name": "stderr",
     "output_type": "stream",
     "text": [
      "100%|██████████| 60/60 [13:32<00:00, 13.55s/it]\n"
     ]
    }
   ],
   "source": [
    "tokenized_corpus = []\n",
    "for item in tqdm(range(job)):\n",
    "    with open(f'./tmp/corpus_{item}.pkl','rb') as f:\n",
    "        tokenized_corpus.extend(pkl.load(f))"
   ]
  },
  {
   "cell_type": "code",
   "execution_count": 26,
   "id": "a6a27d68-78cd-4e95-abcd-30b1b974aacf",
   "metadata": {
    "tags": []
   },
   "outputs": [
    {
     "ename": "KeyboardInterrupt",
     "evalue": "",
     "output_type": "error",
     "traceback": [
      "\u001b[0;31m---------------------------------------------------------------------------\u001b[0m",
      "\u001b[0;31mKeyboardInterrupt\u001b[0m                         Traceback (most recent call last)",
      "Cell \u001b[0;32mIn[26], line 4\u001b[0m\n\u001b[1;32m      1\u001b[0m \u001b[38;5;66;03m# tokenized_corpus = []\u001b[39;00m\n\u001b[1;32m      2\u001b[0m \u001b[38;5;66;03m# for item in tqdm(corpus):\u001b[39;00m\n\u001b[1;32m      3\u001b[0m \u001b[38;5;66;03m#     tokenized_corpus.append(word_process(item))\u001b[39;00m\n\u001b[0;32m----> 4\u001b[0m bm25 \u001b[38;5;241m=\u001b[39m \u001b[43mfastbm25\u001b[49m\u001b[43m(\u001b[49m\u001b[43mtokenized_corpus\u001b[49m\u001b[43m)\u001b[49m\n\u001b[1;32m      5\u001b[0m \u001b[38;5;28;01mwith\u001b[39;00m \u001b[38;5;28mopen\u001b[39m(\u001b[38;5;124m\"\u001b[39m\u001b[38;5;124m./tmp/bm25_model.pkl\u001b[39m\u001b[38;5;124m\"\u001b[39m,\u001b[38;5;124m\"\u001b[39m\u001b[38;5;124mwb\u001b[39m\u001b[38;5;124m\"\u001b[39m)\u001b[38;5;28;01mas\u001b[39;00m f:\n\u001b[1;32m      6\u001b[0m     pickle\u001b[38;5;241m.\u001b[39mdump(bm25,f)\n",
      "File \u001b[0;32m~/conda_env/chr_env/lib/python3.8/site-packages/fastbm25/fastbm25.py:69\u001b[0m, in \u001b[0;36mfastbm25.__init__\u001b[0;34m(self, corpus)\u001b[0m\n\u001b[1;32m     67\u001b[0m \u001b[38;5;28mself\u001b[39m\u001b[38;5;241m.\u001b[39m_initialize(corpus)\n\u001b[1;32m     68\u001b[0m \u001b[38;5;28mself\u001b[39m\u001b[38;5;241m.\u001b[39mcorpus \u001b[38;5;241m=\u001b[39m corpus\n\u001b[0;32m---> 69\u001b[0m \u001b[38;5;28;43mself\u001b[39;49m\u001b[38;5;241;43m.\u001b[39;49m\u001b[43mget_score_by_reversed_index_all_documents\u001b[49m\u001b[43m(\u001b[49m\u001b[43mcorpus\u001b[49m\u001b[43m)\u001b[49m\n",
      "File \u001b[0;32m~/conda_env/chr_env/lib/python3.8/site-packages/fastbm25/fastbm25.py:159\u001b[0m, in \u001b[0;36mfastbm25.get_score_by_reversed_index_all_documents\u001b[0;34m(self, corpus)\u001b[0m\n\u001b[1;32m    157\u001b[0m             document_score[word] \u001b[38;5;241m=\u001b[39m {q_id: \u001b[38;5;28mround\u001b[39m(score, \u001b[38;5;241m2\u001b[39m)}\n\u001b[1;32m    158\u001b[0m         \u001b[38;5;28;01melse\u001b[39;00m:\n\u001b[0;32m--> 159\u001b[0m             \u001b[43mdocument_score\u001b[49m\u001b[43m[\u001b[49m\u001b[43mword\u001b[49m\u001b[43m]\u001b[49m\u001b[38;5;241m.\u001b[39mupdate({q_id: \u001b[38;5;28mround\u001b[39m(score, \u001b[38;5;241m2\u001b[39m)})\n\u001b[1;32m    160\u001b[0m \u001b[38;5;28mself\u001b[39m\u001b[38;5;241m.\u001b[39mdocument_score \u001b[38;5;241m=\u001b[39m document_score\n",
      "\u001b[0;31mKeyboardInterrupt\u001b[0m: "
     ]
    }
   ],
   "source": [
    "# tokenized_corpus = []\n",
    "# for item in tqdm(corpus):\n",
    "#     tokenized_corpus.append(word_process(item))\n",
    "bm25 = fastbm25(tokenized_corpus)\n",
    "with open(\"./tmp/bm25_model.pkl\",\"wb\")as f:\n",
    "    pickle.dump(bm25,f)"
   ]
  },
  {
   "cell_type": "code",
   "execution_count": 6,
   "id": "fcae356c-6952-4843-a2ff-42180fefd52b",
   "metadata": {},
   "outputs": [],
   "source": [
    "#### load query\n",
    "val = pd.read_csv(\"./data/recall_val.csv\")"
   ]
  },
  {
   "cell_type": "code",
   "execution_count": 7,
   "id": "05bd12c9-ad8b-455d-83ff-85d4397c8fcf",
   "metadata": {},
   "outputs": [],
   "source": [
    "with open('./tmp/bm25_model.pkl','rb') as f:\n",
    "    bm25=pickle.load(f)"
   ]
  },
  {
   "cell_type": "code",
   "execution_count": 8,
   "id": "055e3dab-293f-4d4b-81e0-aa9919ba8c7b",
   "metadata": {},
   "outputs": [
    {
     "data": {
      "text/html": [
       "<div>\n",
       "<style scoped>\n",
       "    .dataframe tbody tr th:only-of-type {\n",
       "        vertical-align: middle;\n",
       "    }\n",
       "\n",
       "    .dataframe tbody tr th {\n",
       "        vertical-align: top;\n",
       "    }\n",
       "\n",
       "    .dataframe thead th {\n",
       "        text-align: right;\n",
       "    }\n",
       "</style>\n",
       "<table border=\"1\" class=\"dataframe\">\n",
       "  <thead>\n",
       "    <tr style=\"text-align: right;\">\n",
       "      <th></th>\n",
       "      <th>id</th>\n",
       "      <th>page_id</th>\n",
       "      <th>prompt_answer</th>\n",
       "      <th>title_text</th>\n",
       "    </tr>\n",
       "  </thead>\n",
       "  <tbody>\n",
       "    <tr>\n",
       "      <th>0</th>\n",
       "      <td>46965</td>\n",
       "      <td>1984610</td>\n",
       "      <td>Why do CROs aim to reduce costs for companies ...</td>\n",
       "      <td>Contract research organization In the life sci...</td>\n",
       "    </tr>\n",
       "    <tr>\n",
       "      <th>1</th>\n",
       "      <td>46966</td>\n",
       "      <td>1984610</td>\n",
       "      <td>Which organizations do CROs provide support to...</td>\n",
       "      <td>Contract research organization In the life sci...</td>\n",
       "    </tr>\n",
       "    <tr>\n",
       "      <th>2</th>\n",
       "      <td>46967</td>\n",
       "      <td>1984610</td>\n",
       "      <td>What is the responsibility of the CRO in a cli...</td>\n",
       "      <td>Contract research organization In the life sci...</td>\n",
       "    </tr>\n",
       "    <tr>\n",
       "      <th>3</th>\n",
       "      <td>46968</td>\n",
       "      <td>1984610</td>\n",
       "      <td>What is the range of CROs in terms of size and...</td>\n",
       "      <td>Contract research organization In the life sci...</td>\n",
       "    </tr>\n",
       "    <tr>\n",
       "      <th>4</th>\n",
       "      <td>46969</td>\n",
       "      <td>47448502</td>\n",
       "      <td>What is Swope Soccer Village? A soccer complex...</td>\n",
       "      <td>Swope Soccer Village Swope Soccer Village is a...</td>\n",
       "    </tr>\n",
       "  </tbody>\n",
       "</table>\n",
       "</div>"
      ],
      "text/plain": [
       "      id   page_id                                      prompt_answer  \\\n",
       "0  46965   1984610  Why do CROs aim to reduce costs for companies ...   \n",
       "1  46966   1984610  Which organizations do CROs provide support to...   \n",
       "2  46967   1984610  What is the responsibility of the CRO in a cli...   \n",
       "3  46968   1984610  What is the range of CROs in terms of size and...   \n",
       "4  46969  47448502  What is Swope Soccer Village? A soccer complex...   \n",
       "\n",
       "                                          title_text  \n",
       "0  Contract research organization In the life sci...  \n",
       "1  Contract research organization In the life sci...  \n",
       "2  Contract research organization In the life sci...  \n",
       "3  Contract research organization In the life sci...  \n",
       "4  Swope Soccer Village Swope Soccer Village is a...  "
      ]
     },
     "execution_count": 8,
     "metadata": {},
     "output_type": "execute_result"
    }
   ],
   "source": [
    "val.head()"
   ]
  },
  {
   "cell_type": "code",
   "execution_count": 9,
   "id": "c409e8b7-ce1e-4621-809b-f763efb76508",
   "metadata": {},
   "outputs": [
    {
     "data": {
      "text/plain": [
       "'Why do CROs aim to reduce costs for companies developing new medicines and drugs? To increase profits for pharmaceutical companies To simplify entry into drug markets To eliminate the need for large pharmaceutical companies To compete with other contract research organizations To provide research services to universities'"
      ]
     },
     "execution_count": 9,
     "metadata": {},
     "output_type": "execute_result"
    }
   ],
   "source": [
    "val['prompt_answer'].values[0]"
   ]
  },
  {
   "cell_type": "code",
   "execution_count": 9,
   "id": "6c66ef38-5c44-4097-8f0b-8d8c2b446dae",
   "metadata": {},
   "outputs": [],
   "source": [
    "stop_words = set(stopwords.words('english'))\n",
    "\n",
    "\n",
    "def query_process(q):\n",
    "    words = word_tokenize(text)\n",
    "    words = [word.lower() for word in words if word.isalnum()]\n",
    "    keywords = [word for word in words if word not in stop_words]\n",
    "    return \" \".join(keywords)\n",
    "\n",
    "def recall_doc(q,corpus):\n",
    "    q = word_process(q)\n",
    "    res_list = bm25.get_top_n(q, corpus, n=10)\n",
    "    res_ids = []\n",
    "    for res in res_list:\n",
    "        res_ids.append(doc_dict[res])\n",
    "        \n",
    "    return res_ids\n",
    "    "
   ]
  },
  {
   "cell_type": "code",
   "execution_count": 11,
   "id": "512bc6d5-1135-45ef-8915-66481d564442",
   "metadata": {},
   "outputs": [
    {
     "ename": "KeyboardInterrupt",
     "evalue": "",
     "output_type": "error",
     "traceback": [
      "\u001b[0;31m---------------------------------------------------------------------------\u001b[0m",
      "\u001b[0;31mKeyboardInterrupt\u001b[0m                         Traceback (most recent call last)",
      "\u001b[0;32m/tmp/ipykernel_4762/3989281840.py\u001b[0m in \u001b[0;36m<module>\u001b[0;34m\u001b[0m\n\u001b[0;32m----> 1\u001b[0;31m \u001b[0mval\u001b[0m\u001b[0;34m[\u001b[0m\u001b[0;34m\"recall\"\u001b[0m\u001b[0;34m]\u001b[0m \u001b[0;34m=\u001b[0m \u001b[0mval\u001b[0m\u001b[0;34m[\u001b[0m\u001b[0;34m'prompt_answer'\u001b[0m\u001b[0;34m]\u001b[0m\u001b[0;34m.\u001b[0m\u001b[0mmap\u001b[0m\u001b[0;34m(\u001b[0m\u001b[0;32mlambda\u001b[0m \u001b[0mx\u001b[0m\u001b[0;34m:\u001b[0m\u001b[0mrecall_doc\u001b[0m\u001b[0;34m(\u001b[0m\u001b[0mx\u001b[0m\u001b[0;34m,\u001b[0m\u001b[0mcorpus\u001b[0m\u001b[0;34m)\u001b[0m\u001b[0;34m)\u001b[0m\u001b[0;34m\u001b[0m\u001b[0m\n\u001b[0m",
      "\u001b[0;32m~/conda_env/gaiic_2023_py37/lib/python3.7/site-packages/pandas/core/series.py\u001b[0m in \u001b[0;36mmap\u001b[0;34m(self, arg, na_action)\u001b[0m\n\u001b[1;32m   3981\u001b[0m         \u001b[0mdtype\u001b[0m\u001b[0;34m:\u001b[0m \u001b[0mobject\u001b[0m\u001b[0;34m\u001b[0m\u001b[0m\n\u001b[1;32m   3982\u001b[0m         \"\"\"\n\u001b[0;32m-> 3983\u001b[0;31m         \u001b[0mnew_values\u001b[0m \u001b[0;34m=\u001b[0m \u001b[0msuper\u001b[0m\u001b[0;34m(\u001b[0m\u001b[0;34m)\u001b[0m\u001b[0;34m.\u001b[0m\u001b[0m_map_values\u001b[0m\u001b[0;34m(\u001b[0m\u001b[0marg\u001b[0m\u001b[0;34m,\u001b[0m \u001b[0mna_action\u001b[0m\u001b[0;34m=\u001b[0m\u001b[0mna_action\u001b[0m\u001b[0;34m)\u001b[0m\u001b[0;34m\u001b[0m\u001b[0m\n\u001b[0m\u001b[1;32m   3984\u001b[0m         return self._constructor(new_values, index=self.index).__finalize__(\n\u001b[1;32m   3985\u001b[0m             \u001b[0mself\u001b[0m\u001b[0;34m,\u001b[0m \u001b[0mmethod\u001b[0m\u001b[0;34m=\u001b[0m\u001b[0;34m\"map\"\u001b[0m\u001b[0;34m\u001b[0m\u001b[0m\n",
      "\u001b[0;32m~/conda_env/gaiic_2023_py37/lib/python3.7/site-packages/pandas/core/base.py\u001b[0m in \u001b[0;36m_map_values\u001b[0;34m(self, mapper, na_action)\u001b[0m\n\u001b[1;32m   1158\u001b[0m \u001b[0;34m\u001b[0m\u001b[0m\n\u001b[1;32m   1159\u001b[0m         \u001b[0;31m# mapper is a function\u001b[0m\u001b[0;34m\u001b[0m\u001b[0;34m\u001b[0m\u001b[0m\n\u001b[0;32m-> 1160\u001b[0;31m         \u001b[0mnew_values\u001b[0m \u001b[0;34m=\u001b[0m \u001b[0mmap_f\u001b[0m\u001b[0;34m(\u001b[0m\u001b[0mvalues\u001b[0m\u001b[0;34m,\u001b[0m \u001b[0mmapper\u001b[0m\u001b[0;34m)\u001b[0m\u001b[0;34m\u001b[0m\u001b[0m\n\u001b[0m\u001b[1;32m   1161\u001b[0m \u001b[0;34m\u001b[0m\u001b[0m\n\u001b[1;32m   1162\u001b[0m         \u001b[0;32mreturn\u001b[0m \u001b[0mnew_values\u001b[0m\u001b[0;34m\u001b[0m\u001b[0m\n",
      "\u001b[0;32mpandas/_libs/lib.pyx\u001b[0m in \u001b[0;36mpandas._libs.lib.map_infer\u001b[0;34m()\u001b[0m\n",
      "\u001b[0;32m/tmp/ipykernel_4762/3989281840.py\u001b[0m in \u001b[0;36m<lambda>\u001b[0;34m(x)\u001b[0m\n\u001b[0;32m----> 1\u001b[0;31m \u001b[0mval\u001b[0m\u001b[0;34m[\u001b[0m\u001b[0;34m\"recall\"\u001b[0m\u001b[0;34m]\u001b[0m \u001b[0;34m=\u001b[0m \u001b[0mval\u001b[0m\u001b[0;34m[\u001b[0m\u001b[0;34m'prompt_answer'\u001b[0m\u001b[0;34m]\u001b[0m\u001b[0;34m.\u001b[0m\u001b[0mmap\u001b[0m\u001b[0;34m(\u001b[0m\u001b[0;32mlambda\u001b[0m \u001b[0mx\u001b[0m\u001b[0;34m:\u001b[0m\u001b[0mrecall_doc\u001b[0m\u001b[0;34m(\u001b[0m\u001b[0mx\u001b[0m\u001b[0;34m,\u001b[0m\u001b[0mcorpus\u001b[0m\u001b[0;34m)\u001b[0m\u001b[0;34m)\u001b[0m\u001b[0;34m\u001b[0m\u001b[0m\n\u001b[0m",
      "\u001b[0;32m/tmp/ipykernel_4762/2118468790.py\u001b[0m in \u001b[0;36mrecall_doc\u001b[0;34m(q, corpus)\u001b[0m\n\u001b[1;32m     10\u001b[0m \u001b[0;32mdef\u001b[0m \u001b[0mrecall_doc\u001b[0m\u001b[0;34m(\u001b[0m\u001b[0mq\u001b[0m\u001b[0;34m,\u001b[0m\u001b[0mcorpus\u001b[0m\u001b[0;34m)\u001b[0m\u001b[0;34m:\u001b[0m\u001b[0;34m\u001b[0m\u001b[0m\n\u001b[1;32m     11\u001b[0m     \u001b[0mq\u001b[0m \u001b[0;34m=\u001b[0m \u001b[0mword_process\u001b[0m\u001b[0;34m(\u001b[0m\u001b[0mq\u001b[0m\u001b[0;34m)\u001b[0m\u001b[0;34m\u001b[0m\u001b[0m\n\u001b[0;32m---> 12\u001b[0;31m     \u001b[0mres_list\u001b[0m \u001b[0;34m=\u001b[0m \u001b[0mbm25\u001b[0m\u001b[0;34m.\u001b[0m\u001b[0mget_top_n\u001b[0m\u001b[0;34m(\u001b[0m\u001b[0mq\u001b[0m\u001b[0;34m,\u001b[0m \u001b[0mcorpus\u001b[0m\u001b[0;34m,\u001b[0m \u001b[0mn\u001b[0m\u001b[0;34m=\u001b[0m\u001b[0;36m10\u001b[0m\u001b[0;34m)\u001b[0m\u001b[0;34m\u001b[0m\u001b[0m\n\u001b[0m\u001b[1;32m     13\u001b[0m     \u001b[0mres_ids\u001b[0m \u001b[0;34m=\u001b[0m \u001b[0;34m[\u001b[0m\u001b[0;34m]\u001b[0m\u001b[0;34m\u001b[0m\u001b[0m\n\u001b[1;32m     14\u001b[0m     \u001b[0;32mfor\u001b[0m \u001b[0mres\u001b[0m \u001b[0;32min\u001b[0m \u001b[0mres_list\u001b[0m\u001b[0;34m:\u001b[0m\u001b[0;34m\u001b[0m\u001b[0m\n",
      "\u001b[0;32m~/conda_env/gaiic_2023_py37/lib/python3.7/site-packages/rank_bm25.py\u001b[0m in \u001b[0;36mget_top_n\u001b[0;34m(self, query, documents, n)\u001b[0m\n\u001b[1;32m     71\u001b[0m         \u001b[0;32massert\u001b[0m \u001b[0mself\u001b[0m\u001b[0;34m.\u001b[0m\u001b[0mcorpus_size\u001b[0m \u001b[0;34m==\u001b[0m \u001b[0mlen\u001b[0m\u001b[0;34m(\u001b[0m\u001b[0mdocuments\u001b[0m\u001b[0;34m)\u001b[0m\u001b[0;34m,\u001b[0m \u001b[0;34m\"The documents given don't match the index corpus!\"\u001b[0m\u001b[0;34m\u001b[0m\u001b[0m\n\u001b[1;32m     72\u001b[0m \u001b[0;34m\u001b[0m\u001b[0m\n\u001b[0;32m---> 73\u001b[0;31m         \u001b[0mscores\u001b[0m \u001b[0;34m=\u001b[0m \u001b[0mself\u001b[0m\u001b[0;34m.\u001b[0m\u001b[0mget_scores\u001b[0m\u001b[0;34m(\u001b[0m\u001b[0mquery\u001b[0m\u001b[0;34m)\u001b[0m\u001b[0;34m\u001b[0m\u001b[0m\n\u001b[0m\u001b[1;32m     74\u001b[0m         \u001b[0mtop_n\u001b[0m \u001b[0;34m=\u001b[0m \u001b[0mnp\u001b[0m\u001b[0;34m.\u001b[0m\u001b[0margsort\u001b[0m\u001b[0;34m(\u001b[0m\u001b[0mscores\u001b[0m\u001b[0;34m)\u001b[0m\u001b[0;34m[\u001b[0m\u001b[0;34m:\u001b[0m\u001b[0;34m:\u001b[0m\u001b[0;34m-\u001b[0m\u001b[0;36m1\u001b[0m\u001b[0;34m]\u001b[0m\u001b[0;34m[\u001b[0m\u001b[0;34m:\u001b[0m\u001b[0mn\u001b[0m\u001b[0;34m]\u001b[0m\u001b[0;34m\u001b[0m\u001b[0m\n\u001b[1;32m     75\u001b[0m         \u001b[0;32mreturn\u001b[0m \u001b[0;34m[\u001b[0m\u001b[0mdocuments\u001b[0m\u001b[0;34m[\u001b[0m\u001b[0mi\u001b[0m\u001b[0;34m]\u001b[0m \u001b[0;32mfor\u001b[0m \u001b[0mi\u001b[0m \u001b[0;32min\u001b[0m \u001b[0mtop_n\u001b[0m\u001b[0;34m]\u001b[0m\u001b[0;34m\u001b[0m\u001b[0m\n",
      "\u001b[0;32m~/conda_env/gaiic_2023_py37/lib/python3.7/site-packages/rank_bm25.py\u001b[0m in \u001b[0;36mget_scores\u001b[0;34m(self, query)\u001b[0m\n\u001b[1;32m    116\u001b[0m         \u001b[0mdoc_len\u001b[0m \u001b[0;34m=\u001b[0m \u001b[0mnp\u001b[0m\u001b[0;34m.\u001b[0m\u001b[0marray\u001b[0m\u001b[0;34m(\u001b[0m\u001b[0mself\u001b[0m\u001b[0;34m.\u001b[0m\u001b[0mdoc_len\u001b[0m\u001b[0;34m)\u001b[0m\u001b[0;34m\u001b[0m\u001b[0m\n\u001b[1;32m    117\u001b[0m         \u001b[0;32mfor\u001b[0m \u001b[0mq\u001b[0m \u001b[0;32min\u001b[0m \u001b[0mquery\u001b[0m\u001b[0;34m:\u001b[0m\u001b[0;34m\u001b[0m\u001b[0m\n\u001b[0;32m--> 118\u001b[0;31m             \u001b[0mq_freq\u001b[0m \u001b[0;34m=\u001b[0m \u001b[0mnp\u001b[0m\u001b[0;34m.\u001b[0m\u001b[0marray\u001b[0m\u001b[0;34m(\u001b[0m\u001b[0;34m[\u001b[0m\u001b[0;34m(\u001b[0m\u001b[0mdoc\u001b[0m\u001b[0;34m.\u001b[0m\u001b[0mget\u001b[0m\u001b[0;34m(\u001b[0m\u001b[0mq\u001b[0m\u001b[0;34m)\u001b[0m \u001b[0;32mor\u001b[0m \u001b[0;36m0\u001b[0m\u001b[0;34m)\u001b[0m \u001b[0;32mfor\u001b[0m \u001b[0mdoc\u001b[0m \u001b[0;32min\u001b[0m \u001b[0mself\u001b[0m\u001b[0;34m.\u001b[0m\u001b[0mdoc_freqs\u001b[0m\u001b[0;34m]\u001b[0m\u001b[0;34m)\u001b[0m\u001b[0;34m\u001b[0m\u001b[0m\n\u001b[0m\u001b[1;32m    119\u001b[0m             score += (self.idf.get(q) or 0) * (q_freq * (self.k1 + 1) /\n\u001b[1;32m    120\u001b[0m                                                (q_freq + self.k1 * (1 - self.b + self.b * doc_len / self.avgdl)))\n",
      "\u001b[0;32m~/conda_env/gaiic_2023_py37/lib/python3.7/site-packages/rank_bm25.py\u001b[0m in \u001b[0;36m<listcomp>\u001b[0;34m(.0)\u001b[0m\n\u001b[1;32m    116\u001b[0m         \u001b[0mdoc_len\u001b[0m \u001b[0;34m=\u001b[0m \u001b[0mnp\u001b[0m\u001b[0;34m.\u001b[0m\u001b[0marray\u001b[0m\u001b[0;34m(\u001b[0m\u001b[0mself\u001b[0m\u001b[0;34m.\u001b[0m\u001b[0mdoc_len\u001b[0m\u001b[0;34m)\u001b[0m\u001b[0;34m\u001b[0m\u001b[0m\n\u001b[1;32m    117\u001b[0m         \u001b[0;32mfor\u001b[0m \u001b[0mq\u001b[0m \u001b[0;32min\u001b[0m \u001b[0mquery\u001b[0m\u001b[0;34m:\u001b[0m\u001b[0;34m\u001b[0m\u001b[0m\n\u001b[0;32m--> 118\u001b[0;31m             \u001b[0mq_freq\u001b[0m \u001b[0;34m=\u001b[0m \u001b[0mnp\u001b[0m\u001b[0;34m.\u001b[0m\u001b[0marray\u001b[0m\u001b[0;34m(\u001b[0m\u001b[0;34m[\u001b[0m\u001b[0;34m(\u001b[0m\u001b[0mdoc\u001b[0m\u001b[0;34m.\u001b[0m\u001b[0mget\u001b[0m\u001b[0;34m(\u001b[0m\u001b[0mq\u001b[0m\u001b[0;34m)\u001b[0m \u001b[0;32mor\u001b[0m \u001b[0;36m0\u001b[0m\u001b[0;34m)\u001b[0m \u001b[0;32mfor\u001b[0m \u001b[0mdoc\u001b[0m \u001b[0;32min\u001b[0m \u001b[0mself\u001b[0m\u001b[0;34m.\u001b[0m\u001b[0mdoc_freqs\u001b[0m\u001b[0;34m]\u001b[0m\u001b[0;34m)\u001b[0m\u001b[0;34m\u001b[0m\u001b[0m\n\u001b[0m\u001b[1;32m    119\u001b[0m             score += (self.idf.get(q) or 0) * (q_freq * (self.k1 + 1) /\n\u001b[1;32m    120\u001b[0m                                                (q_freq + self.k1 * (1 - self.b + self.b * doc_len / self.avgdl)))\n",
      "\u001b[0;31mKeyboardInterrupt\u001b[0m: "
     ]
    }
   ],
   "source": [
    "val[\"recall\"] = val['prompt_answer'].map(lambda x:recall_doc(x,corpus))"
   ]
  },
  {
   "cell_type": "code",
   "execution_count": 22,
   "id": "bf1ffe7f-5eee-4fb9-926f-d1652e91a773",
   "metadata": {},
   "outputs": [],
   "source": [
    "val['top1_flag'] = val.apply(lambda x:1 if x['recall'][0] == x['page_id'] else 0,1)\n"
   ]
  },
  {
   "cell_type": "code",
   "execution_count": 28,
   "id": "62c092fd-1f19-4806-97bd-2a3349215722",
   "metadata": {},
   "outputs": [
    {
     "data": {
      "text/plain": [
       "0.8966725043782837"
      ]
     },
     "execution_count": 28,
     "metadata": {},
     "output_type": "execute_result"
    }
   ],
   "source": [
    "val['top1_flag'].sum() / len(val)"
   ]
  },
  {
   "cell_type": "code",
   "execution_count": 29,
   "id": "09816014-fc77-404c-8a71-8d7cc74ea731",
   "metadata": {},
   "outputs": [],
   "source": [
    "val['top10_flag'] = val.apply(lambda x:1 if  x['page_id'] in x['recall'] else 0,1)\n"
   ]
  },
  {
   "cell_type": "code",
   "execution_count": 30,
   "id": "8a01ed17-876f-4f86-9973-b4b3c5c00dca",
   "metadata": {},
   "outputs": [
    {
     "data": {
      "text/plain": [
       "0.9592819614711033"
      ]
     },
     "execution_count": 30,
     "metadata": {},
     "output_type": "execute_result"
    }
   ],
   "source": [
    "val['top10_flag'].sum() / len(val)"
   ]
  },
  {
   "cell_type": "code",
   "execution_count": null,
   "id": "6821fb48-4812-466f-9d44-a3f32c77dc82",
   "metadata": {},
   "outputs": [],
   "source": []
  }
 ],
 "metadata": {
  "kernelspec": {
   "display_name": "chr_env",
   "language": "python",
   "name": "chr_env"
  },
  "language_info": {
   "codemirror_mode": {
    "name": "ipython",
    "version": 3
   },
   "file_extension": ".py",
   "mimetype": "text/x-python",
   "name": "python",
   "nbconvert_exporter": "python",
   "pygments_lexer": "ipython3",
   "version": "3.8.17"
  }
 },
 "nbformat": 4,
 "nbformat_minor": 5
}
