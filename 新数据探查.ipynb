{
 "cells": [
  {
   "cell_type": "code",
   "execution_count": 1,
   "id": "80ce8a4a-2a67-402a-8b6e-e86991fde5d9",
   "metadata": {
    "tags": []
   },
   "outputs": [],
   "source": [
    "import pandas as pd\n",
    "df = pd.read_parquet(\"/root/other_data/gpt-learning/LLM/small_wiki_data/data.parquet\")"
   ]
  },
  {
   "cell_type": "code",
   "execution_count": 3,
   "id": "dadb0911-f0db-4e2b-b835-1957bbdfffb5",
   "metadata": {
    "tags": []
   },
   "outputs": [
    {
     "data": {
      "text/plain": [
       "'Russell Epstein is a professor of psychology at the University of Pennsylvania, who studies neural mechanisms underlying visual scene perception, event perception, object recognition, and spatial navigation in humans. His lab studies the role of the Parahippocampal and retrosplenial cortices in determining how people orient themselves relative to their surroundings.'"
      ]
     },
     "execution_count": 3,
     "metadata": {},
     "output_type": "execute_result"
    }
   ],
   "source": [
    "df['text'].values[0]"
   ]
  },
  {
   "cell_type": "code",
   "execution_count": 4,
   "id": "5bbce2a5-321b-4c87-a3ba-28bccde14dc4",
   "metadata": {
    "tags": []
   },
   "outputs": [],
   "source": [
    "for _,row in df.iterrows():\n",
    "    text  = row['text']\n",
    "    break"
   ]
  },
  {
   "cell_type": "code",
   "execution_count": 9,
   "id": "b8c1a658-382f-42c0-b6a6-132251155d0e",
   "metadata": {
    "tags": []
   },
   "outputs": [],
   "source": [
    "delimiter = \"###\"\n",
    "system_message = f\"\"\"\n",
    "You will be provided with TEXT from wikipedia. \\\n",
    "The TEXT will be delimited with {delimiter} characters.\n",
    "Output a python list of 3 dict objects, where each object is \\\n",
    "a multiple choice question whom answers should be in \\\n",
    "the given TEXT and that has 5 choices each and has the following format:\n",
    "    'question': <question on the TEXT>\n",
    "    'option_1': <question answer option>\n",
    "    'option_2': <question answer option>\n",
    "    'option_3': <question answer option>\n",
    "    'option_4': <question answer option>\n",
    "    'option_5': <question answer option>\n",
    "    'answer': <answer option key label>\n",
    "    'reason': <the detailed reason why choose the answer>\n",
    "\n",
    "You should tell me which one of your proposed options is right \\\n",
    "by assigning the corresponding option's key label in the 'answer' field.\n",
    "\n",
    "The question, the answer and question answer options should be broad, \\\n",
    "challenging, long, detailed and based on the TEXT provided.\n",
    "\n",
    "Only output the list of objects, with nothing else.\n",
    "\n",
    "###\n",
    "Russell Epstein is a professor of psychology at the University of Pennsylvania, who studies neural mechanisms underlying visual scene perception, event perception, object recognition, and spatial navigation in humans. His lab studies the role of the Parahippocampal and retrosplenial cortices in determining how people orient themselves relative to their surroundings.\n",
    "###\n",
    "\"\"\""
   ]
  },
  {
   "cell_type": "code",
   "execution_count": 10,
   "id": "cdb27a5f-a126-4b37-b118-02a5cf2d874b",
   "metadata": {
    "tags": []
   },
   "outputs": [
    {
     "data": {
      "text/plain": [
       "\"\\nYou will be provided with TEXT from wikipedia. The TEXT will be delimited with ### characters.\\nOutput a python list of 3 dict objects, where each object is a multiple choice question whom answers should be in the given TEXT and that has 5 choices each and has the following format:\\n    'question': <question on the TEXT>\\n    'option_1': <question answer option>\\n    'option_2': <question answer option>\\n    'option_3': <question answer option>\\n    'option_4': <question answer option>\\n    'option_5': <question answer option>\\n    'answer': <answer option key label>\\n    'reason': <the detailed reason why choose the answer>\\n\\nYou should tell me which one of your proposed options is right by assigning the corresponding option's key label in the 'answer' field.\\n\\nThe question, the answer and question answer options should be broad, challenging, long, detailed and based on the TEXT provided.\\n\\nOnly output the list of objects, with nothing else.\\n\\n###\\nRussell Epstein is a professor of psychology at the University of Pennsylvania, who studies neural mechanisms underlying visual scene perception, event perception, object recognition, and spatial navigation in humans. His lab studies the role of the Parahippocampal and retrosplenial cortices in determining how people orient themselves relative to their surroundings.\\n###\\n\""
      ]
     },
     "execution_count": 10,
     "metadata": {},
     "output_type": "execute_result"
    }
   ],
   "source": [
    "system_message"
   ]
  },
  {
   "cell_type": "code",
   "execution_count": null,
   "id": "9c342507-2820-4b6c-a647-e315e8e05753",
   "metadata": {},
   "outputs": [],
   "source": []
  }
 ],
 "metadata": {
  "kernelspec": {
   "display_name": "Python 3 (ipykernel)",
   "language": "python",
   "name": "python3"
  },
  "language_info": {
   "codemirror_mode": {
    "name": "ipython",
    "version": 3
   },
   "file_extension": ".py",
   "mimetype": "text/x-python",
   "name": "python",
   "nbconvert_exporter": "python",
   "pygments_lexer": "ipython3",
   "version": "3.11.4"
  }
 },
 "nbformat": 4,
 "nbformat_minor": 5
}
