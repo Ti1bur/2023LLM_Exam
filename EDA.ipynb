{
 "cells": [
  {
   "cell_type": "code",
   "execution_count": 1,
   "metadata": {},
   "outputs": [],
   "source": [
    "import pandas as pd\n",
    "train = pd.read_csv('./data/48k_train_context.csv')\n"
   ]
  },
  {
   "cell_type": "code",
   "execution_count": 2,
   "metadata": {},
   "outputs": [
    {
     "data": {
      "text/html": [
       "<div>\n",
       "<style scoped>\n",
       "    .dataframe tbody tr th:only-of-type {\n",
       "        vertical-align: middle;\n",
       "    }\n",
       "\n",
       "    .dataframe tbody tr th {\n",
       "        vertical-align: top;\n",
       "    }\n",
       "\n",
       "    .dataframe thead th {\n",
       "        text-align: right;\n",
       "    }\n",
       "</style>\n",
       "<table border=\"1\" class=\"dataframe\">\n",
       "  <thead>\n",
       "    <tr style=\"text-align: right;\">\n",
       "      <th></th>\n",
       "      <th>prompt</th>\n",
       "      <th>context</th>\n",
       "      <th>A</th>\n",
       "      <th>B</th>\n",
       "      <th>C</th>\n",
       "      <th>D</th>\n",
       "      <th>E</th>\n",
       "    </tr>\n",
       "  </thead>\n",
       "  <tbody>\n",
       "    <tr>\n",
       "      <th>0</th>\n",
       "      <td>What is physical mathematics?</td>\n",
       "      <td>The subject of physical mathematics is concern...</td>\n",
       "      <td>The study of physically motivated mathematics</td>\n",
       "      <td>The study of mathematical physics</td>\n",
       "      <td>The study of mathematics in physical contexts</td>\n",
       "      <td>The study of mathematical equations</td>\n",
       "      <td>The study of mathematical operations</td>\n",
       "    </tr>\n",
       "    <tr>\n",
       "      <th>1</th>\n",
       "      <td>Who wrote Physical Arithmetic in 1885?</td>\n",
       "      <td>Philosophy of Arithmetic: Psychological and Lo...</td>\n",
       "      <td>Margaret Osler</td>\n",
       "      <td>Alexander Macfarlane</td>\n",
       "      <td>Alhazen</td>\n",
       "      <td>Galileo</td>\n",
       "      <td>Newton</td>\n",
       "    </tr>\n",
       "    <tr>\n",
       "      <th>2</th>\n",
       "      <td>What did the Mathematical Tripos at Cambridge ...</td>\n",
       "      <td>The undergraduate course of mathematics at Cam...</td>\n",
       "      <td>Pure mathematics</td>\n",
       "      <td>Applied mathematics</td>\n",
       "      <td>Mixed mathematics</td>\n",
       "      <td>Fluxional calculus</td>\n",
       "      <td>Physical problems</td>\n",
       "    </tr>\n",
       "    <tr>\n",
       "      <th>3</th>\n",
       "      <td>What mathematical representation is used for m...</td>\n",
       "      <td>Kinematics, as a field of study, is often refe...</td>\n",
       "      <td>Complex numbers</td>\n",
       "      <td>Quaternions</td>\n",
       "      <td>Linear algebra</td>\n",
       "      <td>Fluxional calculus</td>\n",
       "      <td>Mixed mathematics</td>\n",
       "    </tr>\n",
       "    <tr>\n",
       "      <th>4</th>\n",
       "      <td>What did the early expressions of kinematics a...</td>\n",
       "      <td>Kinematics, as a field of study, is often refe...</td>\n",
       "      <td>Causality</td>\n",
       "      <td>Forces</td>\n",
       "      <td>Mathematical physics</td>\n",
       "      <td>Fluxional calculus</td>\n",
       "      <td>Mixed mathematics</td>\n",
       "    </tr>\n",
       "  </tbody>\n",
       "</table>\n",
       "</div>"
      ],
      "text/plain": [
       "                                              prompt  \\\n",
       "0                      What is physical mathematics?   \n",
       "1             Who wrote Physical Arithmetic in 1885?   \n",
       "2  What did the Mathematical Tripos at Cambridge ...   \n",
       "3  What mathematical representation is used for m...   \n",
       "4  What did the early expressions of kinematics a...   \n",
       "\n",
       "                                             context  \\\n",
       "0  The subject of physical mathematics is concern...   \n",
       "1  Philosophy of Arithmetic: Psychological and Lo...   \n",
       "2  The undergraduate course of mathematics at Cam...   \n",
       "3  Kinematics, as a field of study, is often refe...   \n",
       "4  Kinematics, as a field of study, is often refe...   \n",
       "\n",
       "                                               A  \\\n",
       "0  The study of physically motivated mathematics   \n",
       "1                                 Margaret Osler   \n",
       "2                               Pure mathematics   \n",
       "3                                Complex numbers   \n",
       "4                                      Causality   \n",
       "\n",
       "                                   B  \\\n",
       "0  The study of mathematical physics   \n",
       "1               Alexander Macfarlane   \n",
       "2                Applied mathematics   \n",
       "3                        Quaternions   \n",
       "4                             Forces   \n",
       "\n",
       "                                               C  \\\n",
       "0  The study of mathematics in physical contexts   \n",
       "1                                        Alhazen   \n",
       "2                              Mixed mathematics   \n",
       "3                                 Linear algebra   \n",
       "4                           Mathematical physics   \n",
       "\n",
       "                                     D                                     E  \n",
       "0  The study of mathematical equations  The study of mathematical operations  \n",
       "1                              Galileo                                Newton  \n",
       "2                   Fluxional calculus                     Physical problems  \n",
       "3                   Fluxional calculus                     Mixed mathematics  \n",
       "4                   Fluxional calculus                     Mixed mathematics  "
      ]
     },
     "execution_count": 2,
     "metadata": {},
     "output_type": "execute_result"
    }
   ],
   "source": [
    "train.head(5)"
   ]
  },
  {
   "cell_type": "code",
   "execution_count": 3,
   "metadata": {},
   "outputs": [],
   "source": [
    "text = train['context'].apply(lambda x : x[:1750]) + train['prompt']"
   ]
  },
  {
   "cell_type": "code",
   "execution_count": 4,
   "metadata": {},
   "outputs": [
    {
     "name": "stderr",
     "output_type": "stream",
     "text": [
      "/root/conda_env/gaiic_2023_py37/lib/python3.7/site-packages/tqdm/auto.py:22: TqdmWarning: IProgress not found. Please update jupyter and ipywidgets. See https://ipywidgets.readthedocs.io/en/stable/user_install.html\n",
      "  from .autonotebook import tqdm as notebook_tqdm\n",
      "Special tokens have been added in the vocabulary, make sure the associated word embeddings are fine-tuned or trained.\n",
      "/root/conda_env/gaiic_2023_py37/lib/python3.7/site-packages/transformers/convert_slow_tokenizer.py:455: UserWarning: The sentencepiece tokenizer that you are converting to a fast tokenizer uses the byte fallback option which is not implemented in the fast tokenizers. In practice this means that the fast version of the tokenizer can produce unknown tokens whereas the sentencepiece version would have converted these unknown tokens into a sequence of byte tokens matching the original piece of text.\n",
      "  \"The sentencepiece tokenizer that you are converting to a fast tokenizer uses the byte fallback option\"\n",
      "Special tokens have been added in the vocabulary, make sure the associated word embeddings are fine-tuned or trained.\n"
     ]
    },
    {
     "data": {
      "text/plain": [
       "<AxesSubplot:ylabel='Density'>"
      ]
     },
     "execution_count": 4,
     "metadata": {},
     "output_type": "execute_result"
    },
    {
     "data": {
      "image/png": "[encoded data removed]",
      "text/plain": [
       "<Figure size 640x480 with 1 Axes>"
      ]
     },
     "metadata": {},
     "output_type": "display_data"
    }
   ],
   "source": [
    "import seaborn as sns\n",
    "lengths = [len(s) for s in text]\n",
    "from transformers import AutoTokenizer\n",
    "token = AutoTokenizer.from_pretrained('./pretrain_models/microsoft_deberta_large')\n",
    "input_ids = token(list(text))\n",
    "lengths = [len(x) for x in input_ids]\n",
    "sns.kdeplot(lengths)"
   ]
  },
  {
   "cell_type": "code",
   "execution_count": 11,
   "metadata": {},
   "outputs": [
    {
     "data": {
      "text/plain": [
       "797"
      ]
     },
     "execution_count": 11,
     "metadata": {},
     "output_type": "execute_result"
    }
   ],
   "source": [
    "\n",
    "lengths = [len(x) for x in input_ids['input_ids']]\n",
    "max(lengths)"
   ]
  },
  {
   "cell_type": "code",
   "execution_count": null,
   "metadata": {},
   "outputs": [],
   "source": []
  }
 ],
 "metadata": {
  "kernelspec": {
   "display_name": "gaiic_2023",
   "language": "python",
   "name": "gaiic_2023_py37"
  },
  "language_info": {
   "codemirror_mode": {
    "name": "ipython",
    "version": 3
   },
   "file_extension": ".py",
   "mimetype": "text/x-python",
   "name": "python",
   "nbconvert_exporter": "python",
   "pygments_lexer": "ipython3",
   "version": "3.7.0"
  }
 },
 "nbformat": 4,
 "nbformat_minor": 4
}
