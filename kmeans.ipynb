{
 "cells": [
  {
   "cell_type": "code",
   "execution_count": 1,
   "id": "f6ca964d-190b-4a86-bed1-b3bfbcca44c3",
   "metadata": {
    "tags": []
   },
   "outputs": [
    {
     "name": "stderr",
     "output_type": "stream",
     "text": [
      "/root/panpingjun/Anaconda/chatglm_ppj/lib/python3.8/site-packages/tqdm/auto.py:21: TqdmWarning: IProgress not found. Please update jupyter and ipywidgets. See https://ipywidgets.readthedocs.io/en/stable/user_install.html\n",
      "  from .autonotebook import tqdm as notebook_tqdm\n"
     ]
    }
   ],
   "source": [
    "import pandas as pd\n",
    "import os\n",
    "import math\n",
    "import json\n",
    "import glob\n",
    "import collections\n",
    "import random\n",
    "from pathlib import Path\n",
    "import pandas as pd\n",
    "import numpy as np\n",
    "import os\n",
    "os.environ['CUDA_VISIBLE_DEVICES'] = '2'\n",
    "import copy\n",
    "from tqdm.auto import tqdm\n",
    "import pickle\n",
    "import gc\n",
    "from sklearn.model_selection import StratifiedKFold,KFold,GroupKFold\n",
    "import torch\n",
    "# pip install prefetch_generator\n",
    "from prefetch_generator import BackgroundGenerator\n",
    "os.environ[\"TOKENIZERS_PARALLELISM\"] = \"true\"\n",
    "from  transformers import AdamW, AutoTokenizer,AutoModel\n",
    "import torch.nn as nn\n",
    "import torch.nn.functional as F\n",
    "import warnings\n",
    "import torch.nn as nn\n",
    "import torch\n",
    "from transformers import AutoModel, AutoTokenizer\n",
    "from functools import partial\n",
    "from torch.utils.data import DataLoader\n",
    "dataloader_class = partial(DataLoader, pin_memory=True, num_workers=32)"
   ]
  },
  {
   "cell_type": "code",
   "execution_count": 2,
   "id": "4a8e73a3-d902-4955-8a2c-39a767e0262d",
   "metadata": {
    "tags": []
   },
   "outputs": [],
   "source": [
    "target_articles = ['API gravity', 'Amplitude', 'Angular momentum', 'Antiferromagnetism', 'Astrochemistry', 'Baryogenesis', 'Black hole', 'Bollard pull', 'Born reciprocity', 'Butterfly effect', 'C1 chemistry', 'Causality (physics)', 'Cavitation', 'Clockwise', 'Coffee ring effect', 'Coherence (physics)', 'Coherent turbulent structure', 'Cold dark matter', \"Commentary on Anatomy in Avicenna's Canon\", 'Condensation cloud', 'Convection (heat transfer)', 'Copernican principle', 'Critical Raw Materials Act', 'Crossover experiment (chemistry)', 'Crystallinity', 'Dark Matter', 'Decay technique', 'Diffraction', 'Dimension', 'Droste effect', 'Dynamic scaling', \"Earnshaw's theorem\", 'Ecological pyramid', 'Electric flux', 'Electrical resistivity and conductivity', 'Electrochemical gradient', 'Electronic entropy', \"Elitzur's theorem\", 'Emissivity', 'Enthalpy', 'Environmental Science Center', 'Erlangen program', 'Explicit symmetry breaking', \"Fermat's principle\", 'Ferromagnetism', 'Frame-dragging', 'Free neutron decay', 'Galaxy', 'Geometric quantization', 'Gravitational wave', 'Gravity Probe B', 'Heart', 'Heat treating', \"Hesse's principle of transfer\", 'History of geology', 'Hydrodynamic stability', 'Improper rotation', 'Infectious tolerance', 'Inflation (cosmology)', 'Interstellar medium', 'James Webb Space Telescope', 'Kutta-Joukowski theorem', 'Landau–Lifshitz–Gilbert equation', 'Leidenfrost effect', 'Light-year', 'Linear time-invariant system', 'List of equations in classical mechanics', 'Lorentz covariance', 'Luminance', 'Magnetic monopole', 'Magnetic resonance imaging', 'Magnetic susceptibility', 'Magnitude (astronomy)', 'Main sequence', 'Mammary gland', 'Mass versus weight', 'Mass-to-charge ratio', 'Memristor', 'Minkowski space', 'Modified Newtonian dynamics', 'Molecular cloud', 'Molecular symmetry', 'Morphology (biology)', 'Navier–Stokes equations', 'Nebula', \"Newton's law of universal gravitation\", 'Nuclear fusion', 'Observable universe', 'Organography', 'Paramagnetism', 'Parity (physics)', 'Phageome', 'Phase transition', 'Photophoresis', 'Planetary system', 'Plant', 'Point groups in three dimensions', 'Probability amplitude', 'Probability density function', 'Propagation constant', 'Pulsar', 'Pulsar-based navigation', 'QCD matter', 'Quantization (physics)', 'Quartz crystal microbalance', 'Radiosity (radiometry)', 'Ramsauer–Townsend effect', 'Rayleigh scattering', 'Reciprocal length', 'Redshift', 'Refractive index', 'Regular polytope', 'Relative density', 'Renormalization', 'Ring-imaging Cherenkov detector', 'Scale (ratio)', 'Second law of thermodynamics', 'Self-organization in cybernetics', 'Shower-curtain effect', 'Signal-to-noise ratio', 'Spatial dispersion', 'Speed of light', 'Spin (physics)', 'Spontaneous symmetry breaking', 'Standard Model', 'Stellar classification', 'Stochastic differential equation', 'Superconductivity', 'Supermassive black hole', 'Supernova', 'Supersymmetric quantum mechanics', 'Supersymmetry', 'Surface power density', 'Surgical pathology', 'Symmetry in biology', 'Symmetry of diatomic molecules', 'The Ambidextrous Universe', 'Theorem', 'Theorem of three moments', 'Thermal equilibrium', 'Tidal force', 'Time', 'Time standard', 'Total internal reflection', 'Triskelion', 'Ultraviolet catastrophe', 'Unified field theory', 'Uniform tilings in hyperbolic plane', 'Vacuum', 'Virtual particle', 'Water hammer', 'Wigner quasiprobability distribution', 'Work function', 'Zero-point energy']"
   ]
  },
  {
   "cell_type": "code",
   "execution_count": 3,
   "id": "cf77f981-e73c-4bc1-a83d-387275fa8882",
   "metadata": {},
   "outputs": [
    {
     "name": "stdout",
     "output_type": "stream",
     "text": [
      "a.parquet\n",
      "b.parquet\n",
      "c.parquet\n",
      "d.parquet\n",
      "e.parquet\n",
      "f.parquet\n",
      "g.parquet\n",
      "h.parquet\n",
      "i.parquet\n",
      "j.parquet\n",
      "k.parquet\n",
      "l.parquet\n",
      "m.parquet\n",
      "n.parquet\n",
      "number.parquet\n",
      "o.parquet\n",
      "other.parquet\n",
      "p.parquet\n",
      "q.parquet\n",
      "r.parquet\n",
      "s.parquet\n",
      "t.parquet\n",
      "u.parquet\n",
      "v.parquet\n",
      "w.parquet\n",
      "x.parquet\n",
      "y.parquet\n",
      "z.parquet\n"
     ]
    }
   ],
   "source": [
    "data = []\n",
    "listdir = os.listdir('./wiki_data')\n",
    "listdir = sorted(listdir)\n",
    "for file in listdir:\n",
    "    if file == 'my_index.parquet' or 'ipynb' in file or '680w' in file or 'kmean' in file:\n",
    "        continue\n",
    "    print(file)\n",
    "    data.append(pd.read_parquet(os.path.join('./wiki_data',file)))"
   ]
  },
  {
   "cell_type": "code",
   "execution_count": 4,
   "id": "119d24ae-1112-4163-84e8-5db61284a26c",
   "metadata": {
    "tags": []
   },
   "outputs": [],
   "source": [
    "data = pd.concat(data,axis=0).reset_index(drop=True)"
   ]
  },
  {
   "cell_type": "code",
   "execution_count": 5,
   "id": "78b61a64-79e8-44aa-9d5f-67f93f7e87ab",
   "metadata": {
    "tags": []
   },
   "outputs": [],
   "source": [
    "data['concat'] = data['title'] + ' ' + data['text']"
   ]
  },
  {
   "cell_type": "code",
   "execution_count": 6,
   "id": "2ce6b216-51f0-4c8a-bf8d-a460b043c540",
   "metadata": {
    "tags": []
   },
   "outputs": [],
   "source": [
    "from tqdm.auto import tqdm\n",
    "import torch\n",
    "class LLMRecallDataSet(torch.utils.data.Dataset):\n",
    "    def __init__(self, data):\n",
    "        self.tokenizer = AutoTokenizer.from_pretrained('/root/bert_path/sentence-transformer-all-mpnet-base-v2', use_fast=True)\n",
    "        self.data = data\n",
    "    def __len__(self):\n",
    "        return len(self.data) \n",
    "    \n",
    "    def __getitem__(self,index):\n",
    "        ids = self.data.loc[index, 'title'] + ' ' + self.data.loc[index,'text']\n",
    "        ids = self.tokenizer.encode(ids, add_special_tokens=False)\n",
    "        if len(ids) > 510:\n",
    "            ids = [101] + ids[:510] + [102]\n",
    "        else:\n",
    "            ids = [101] + ids + [102]\n",
    "        return ids\n",
    "    def collate_fn(self, batch):\n",
    "        def sequence_padding(inputs, length=None, padding=0):\n",
    "            \"\"\"\n",
    "            Numpy函数，将序列padding到同一长度\n",
    "            \"\"\"\n",
    "            if length is None:\n",
    "                length = max([len(x) for x in inputs])\n",
    "\n",
    "            pad_width = [(0, 0) for _ in np.shape(inputs[0])]\n",
    "            outputs = []\n",
    "            for x in inputs:\n",
    "                x = x[:length]\n",
    "                pad_width[0] = (0, length - len(x))\n",
    "                x = np.pad(x, pad_width, 'constant', constant_values=padding)\n",
    "                outputs.append(x)\n",
    "\n",
    "            return np.array(outputs, dtype='int64')\n",
    "        batch_ids = torch.tensor(sequence_padding(batch), dtype=torch.long)\n",
    "        \n",
    "        return batch_ids\n",
    "\n",
    "        \n",
    "class DataLoaderX(torch.utils.data.DataLoader):\n",
    "    '''\n",
    "        replace DataLoader with PrefetchDataLoader\n",
    "    '''\n",
    "    def __iter__(self):\n",
    "        return BackgroundGenerator(super().__iter__())  \n",
    "\n",
    "    \n",
    "def get_loader(prompt,batch_size,train_mode=True,num_workers=4):\n",
    "    ds_df = LLMRecallDataSet(prompt)\n",
    "    # loader = DataLoaderX(ds_df, batch_size=batch_size if train_mode else batch_size//2, shuffle=train_mode, num_workers=num_workers,pin_memory=True,\n",
    "    #                                      collate_fn=ds_df.collate_fn, drop_last=train_mode)\n",
    "    loader = dataloader_class(ds_df, batch_size=batch_size, shuffle=False,collate_fn=ds_df.collate_fn,num_workers=num_workers)\n",
    "    loader.num = len(ds_df)\n",
    "    return loader"
   ]
  },
  {
   "cell_type": "code",
   "execution_count": 1,
   "id": "ae872978-dfb4-498d-b92b-0256294a73bc",
   "metadata": {
    "tags": []
   },
   "outputs": [],
   "source": [
    "model = AutoModel.from_pretrained('/root/bert_path/sentence-transformer-all-mpnet-base-v2')\n",
    "def mean_pooling(model_output, attention_mask):\n",
    "    token_embeddings = model_output[0] #First element of model_output contains all token embeddings\n",
    "    input_mask_expanded = attention_mask.unsqueeze(-1).expand(token_embeddings.size()).float()\n",
    "    return torch.sum(token_embeddings * input_mask_expanded, 1) / torch.clamp(input_mask_expanded.sum(1), min=1e-9)\n",
    "model.to('cuda')\n",
    "model = torch.nn.parallel.DataParallel(model)\n",
    "loader = get_loader(data, 8000, False, num_workers=16)\n",
    "from torch.cuda.amp import autocast\n",
    "alls = []\n",
    "model.eval()\n",
    "idx = 0\n",
    "with torch.no_grad():\n",
    "    for batch in tqdm(loader):\n",
    "        ids = batch\n",
    "        ids = ids.to('cuda')\n",
    "        with autocast():\n",
    "            output = model(input_ids=ids)\n",
    "        attention_mask = ids > 0\n",
    "        output = mean_pooling(output,attention_mask).cpu().detach().numpy()\n",
    "        alls.append(output)\n",
    "alls = np.concatenate(alls, axis=0)"
   ]
  },
  {
   "cell_type": "code",
   "execution_count": 7,
   "id": "bd11dccc-962e-45cb-9988-819981e859e5",
   "metadata": {
    "tags": []
   },
   "outputs": [],
   "source": [
    "import torch.nn.functional as F\n",
    "alls = F.normalize(torch.from_numpy(alls), p=2, dim=1).numpy()"
   ]
  },
  {
   "cell_type": "code",
   "execution_count": 6,
   "id": "c8073f82-b0fa-4457-b430-8316422b6274",
   "metadata": {
    "tags": []
   },
   "outputs": [
    {
     "name": "stdout",
     "output_type": "stream",
     "text": [
      "[2023-10-10 18:30:25,765] [INFO] [real_accelerator.py:133:get_accelerator] Setting ds_accelerator to cuda (auto detect)\n"
     ]
    },
    {
     "ename": "KeyboardInterrupt",
     "evalue": "",
     "output_type": "error",
     "traceback": [
      "\u001b[0;31m---------------------------------------------------------------------------\u001b[0m",
      "\u001b[0;31mKeyboardInterrupt\u001b[0m                         Traceback (most recent call last)",
      "Cell \u001b[0;32mIn[6], line 6\u001b[0m\n\u001b[1;32m      4\u001b[0m model \u001b[38;5;241m=\u001b[39m model\u001b[38;5;241m.\u001b[39mhalf()\n\u001b[1;32m      5\u001b[0m \u001b[38;5;66;03m## Get embeddings of the wiki text data\u001b[39;00m\n\u001b[0;32m----> 6\u001b[0m alls \u001b[38;5;241m=\u001b[39m \u001b[43mmodel\u001b[49m\u001b[38;5;241;43m.\u001b[39;49m\u001b[43mencode\u001b[49m\u001b[43m(\u001b[49m\u001b[43mdata\u001b[49m\u001b[38;5;241;43m.\u001b[39;49m\u001b[43mconcat\u001b[49m\u001b[43m,\u001b[49m\n\u001b[1;32m      7\u001b[0m \u001b[43m                    \u001b[49m\u001b[43mbatch_size\u001b[49m\u001b[38;5;241;43m=\u001b[39;49m\u001b[38;5;241;43m1000\u001b[39;49m\u001b[43m,\u001b[49m\n\u001b[1;32m      8\u001b[0m \u001b[43m                    \u001b[49m\u001b[43mdevice\u001b[49m\u001b[38;5;241;43m=\u001b[39;49m\u001b[38;5;124;43m'\u001b[39;49m\u001b[38;5;124;43mcuda\u001b[39;49m\u001b[38;5;124;43m'\u001b[39;49m\u001b[43m,\u001b[49m\n\u001b[1;32m      9\u001b[0m \u001b[43m                    \u001b[49m\u001b[43mshow_progress_bar\u001b[49m\u001b[38;5;241;43m=\u001b[39;49m\u001b[38;5;28;43;01mTrue\u001b[39;49;00m\u001b[43m,\u001b[49m\n\u001b[1;32m     10\u001b[0m \u001b[43m                    \u001b[49m\u001b[43mconvert_to_tensor\u001b[49m\u001b[38;5;241;43m=\u001b[39;49m\u001b[38;5;28;43;01mTrue\u001b[39;49;00m\u001b[43m,\u001b[49m\n\u001b[1;32m     11\u001b[0m \u001b[43m                    \u001b[49m\u001b[43mnormalize_embeddings\u001b[49m\u001b[38;5;241;43m=\u001b[39;49m\u001b[38;5;28;43;01mTrue\u001b[39;49;00m\u001b[43m)\u001b[49m\u001b[38;5;66;03m#.half()\u001b[39;00m\n\u001b[1;32m     12\u001b[0m alls \u001b[38;5;241m=\u001b[39m alls\u001b[38;5;241m.\u001b[39mdetach()\u001b[38;5;241m.\u001b[39mcpu()\u001b[38;5;241m.\u001b[39mnumpy()\n",
      "File \u001b[0;32m~/panpingjun/Anaconda/chatglm_ppj/lib/python3.8/site-packages/sentence_transformers/SentenceTransformer.py:156\u001b[0m, in \u001b[0;36mSentenceTransformer.encode\u001b[0;34m(self, sentences, batch_size, show_progress_bar, output_value, convert_to_numpy, convert_to_tensor, device, normalize_embeddings)\u001b[0m\n\u001b[1;32m    153\u001b[0m \u001b[38;5;28mself\u001b[39m\u001b[38;5;241m.\u001b[39mto(device)\n\u001b[1;32m    155\u001b[0m all_embeddings \u001b[38;5;241m=\u001b[39m []\n\u001b[0;32m--> 156\u001b[0m length_sorted_idx \u001b[38;5;241m=\u001b[39m np\u001b[38;5;241m.\u001b[39margsort([\u001b[38;5;241m-\u001b[39m\u001b[38;5;28mself\u001b[39m\u001b[38;5;241m.\u001b[39m_text_length(sen) \u001b[38;5;28;01mfor\u001b[39;00m sen \u001b[38;5;129;01min\u001b[39;00m sentences])\n\u001b[1;32m    157\u001b[0m sentences_sorted \u001b[38;5;241m=\u001b[39m [sentences[idx] \u001b[38;5;28;01mfor\u001b[39;00m idx \u001b[38;5;129;01min\u001b[39;00m length_sorted_idx]\n\u001b[1;32m    159\u001b[0m \u001b[38;5;28;01mfor\u001b[39;00m start_index \u001b[38;5;129;01min\u001b[39;00m trange(\u001b[38;5;241m0\u001b[39m, \u001b[38;5;28mlen\u001b[39m(sentences), batch_size, desc\u001b[38;5;241m=\u001b[39m\u001b[38;5;124m\"\u001b[39m\u001b[38;5;124mBatches\u001b[39m\u001b[38;5;124m\"\u001b[39m, disable\u001b[38;5;241m=\u001b[39m\u001b[38;5;129;01mnot\u001b[39;00m show_progress_bar):\n",
      "File \u001b[0;32m~/panpingjun/Anaconda/chatglm_ppj/lib/python3.8/site-packages/sentence_transformers/SentenceTransformer.py:156\u001b[0m, in \u001b[0;36m<listcomp>\u001b[0;34m(.0)\u001b[0m\n\u001b[1;32m    153\u001b[0m \u001b[38;5;28mself\u001b[39m\u001b[38;5;241m.\u001b[39mto(device)\n\u001b[1;32m    155\u001b[0m all_embeddings \u001b[38;5;241m=\u001b[39m []\n\u001b[0;32m--> 156\u001b[0m length_sorted_idx \u001b[38;5;241m=\u001b[39m np\u001b[38;5;241m.\u001b[39margsort([\u001b[38;5;241m-\u001b[39m\u001b[38;5;28;43mself\u001b[39;49m\u001b[38;5;241;43m.\u001b[39;49m\u001b[43m_text_length\u001b[49m\u001b[43m(\u001b[49m\u001b[43msen\u001b[49m\u001b[43m)\u001b[49m \u001b[38;5;28;01mfor\u001b[39;00m sen \u001b[38;5;129;01min\u001b[39;00m sentences])\n\u001b[1;32m    157\u001b[0m sentences_sorted \u001b[38;5;241m=\u001b[39m [sentences[idx] \u001b[38;5;28;01mfor\u001b[39;00m idx \u001b[38;5;129;01min\u001b[39;00m length_sorted_idx]\n\u001b[1;32m    159\u001b[0m \u001b[38;5;28;01mfor\u001b[39;00m start_index \u001b[38;5;129;01min\u001b[39;00m trange(\u001b[38;5;241m0\u001b[39m, \u001b[38;5;28mlen\u001b[39m(sentences), batch_size, desc\u001b[38;5;241m=\u001b[39m\u001b[38;5;124m\"\u001b[39m\u001b[38;5;124mBatches\u001b[39m\u001b[38;5;124m\"\u001b[39m, disable\u001b[38;5;241m=\u001b[39m\u001b[38;5;129;01mnot\u001b[39;00m show_progress_bar):\n",
      "File \u001b[0;32m~/panpingjun/Anaconda/chatglm_ppj/lib/python3.8/site-packages/sentence_transformers/SentenceTransformer.py:571\u001b[0m, in \u001b[0;36mSentenceTransformer._text_length\u001b[0;34m(self, text)\u001b[0m\n\u001b[1;32m    569\u001b[0m     \u001b[38;5;28;01mreturn\u001b[39;00m \u001b[38;5;28mlen\u001b[39m(text)\n\u001b[1;32m    570\u001b[0m \u001b[38;5;28;01melse\u001b[39;00m:\n\u001b[0;32m--> 571\u001b[0m     \u001b[38;5;28;01mreturn\u001b[39;00m \u001b[38;5;28msum\u001b[39m([\u001b[38;5;28mlen\u001b[39m(t) \u001b[38;5;28;01mfor\u001b[39;00m t \u001b[38;5;129;01min\u001b[39;00m text])\n",
      "File \u001b[0;32m~/panpingjun/Anaconda/chatglm_ppj/lib/python3.8/site-packages/sentence_transformers/SentenceTransformer.py:571\u001b[0m, in \u001b[0;36m<listcomp>\u001b[0;34m(.0)\u001b[0m\n\u001b[1;32m    569\u001b[0m     \u001b[38;5;28;01mreturn\u001b[39;00m \u001b[38;5;28mlen\u001b[39m(text)\n\u001b[1;32m    570\u001b[0m \u001b[38;5;28;01melse\u001b[39;00m:\n\u001b[0;32m--> 571\u001b[0m     \u001b[38;5;28;01mreturn\u001b[39;00m \u001b[38;5;28msum\u001b[39m([\u001b[38;5;28mlen\u001b[39m(t) \u001b[38;5;28;01mfor\u001b[39;00m t \u001b[38;5;129;01min\u001b[39;00m text])\n",
      "\u001b[0;31mKeyboardInterrupt\u001b[0m: "
     ]
    }
   ],
   "source": [
    "from sentence_transformers import SentenceTransformer\n",
    "model = SentenceTransformer('/root/bert_path/sentence-transformer-all-mpnet-base-v2', device='cuda')\n",
    "model.max_seq_length = 512\n",
    "model = model.half()\n",
    "## Get embeddings of the wiki text data\n",
    "alls = model.encode(data.concat,\n",
    "                    batch_size=1000,\n",
    "                    device='cuda',\n",
    "                    show_progress_bar=True,\n",
    "                    convert_to_tensor=True,\n",
    "                    normalize_embeddings=True)#.half()\n",
    "alls = alls.detach().cpu().numpy()"
   ]
  },
  {
   "cell_type": "code",
   "execution_count": 10,
   "id": "b96d128c-09ac-4c6d-958a-ae9edd4f3b19",
   "metadata": {
    "tags": []
   },
   "outputs": [],
   "source": [
    "np.save('./tmp/680w_embed.npy', alls)"
   ]
  },
  {
   "cell_type": "code",
   "execution_count": 7,
   "id": "c2237e20-d201-4e63-983a-0404e56e83b2",
   "metadata": {
    "tags": []
   },
   "outputs": [],
   "source": [
    "wiki_embed = np.load('./tmp/680w_embed.npy')"
   ]
  },
  {
   "cell_type": "code",
   "execution_count": 8,
   "id": "b9274e5d-ceaa-4f11-87ab-428aa871b43f",
   "metadata": {
    "tags": []
   },
   "outputs": [
    {
     "name": "stderr",
     "output_type": "stream",
     "text": [
      "/root/panpingjun/Anaconda/chatglm_ppj/lib/python3.8/site-packages/sklearn/cluster/_kmeans.py:792: FutureWarning: 'n_jobs' was deprecated in version 0.23 and will be removed in 1.0 (renaming of 0.25).\n",
      "  warnings.warn(\"'n_jobs' was deprecated in version 0.23 and will be\"\n"
     ]
    }
   ],
   "source": [
    "from sklearn.cluster import KMeans\n",
    "import numpy as np\n",
    "\n",
    "kmeans = KMeans(n_clusters=35,random_state=0,n_init=2, n_jobs=-1).fit(wiki_embed)"
   ]
  },
  {
   "cell_type": "code",
   "execution_count": 9,
   "id": "b436bdd4-72d6-4e39-b65a-6e46e579366c",
   "metadata": {
    "tags": []
   },
   "outputs": [],
   "source": [
    "cluster_numbers = kmeans.predict(wiki_embed)"
   ]
  },
  {
   "cell_type": "code",
   "execution_count": 10,
   "id": "f31d2deb-b2da-477d-9a4c-cd80c3a26d91",
   "metadata": {
    "tags": []
   },
   "outputs": [
    {
     "data": {
      "text/plain": [
       "(6286775,)"
      ]
     },
     "execution_count": 10,
     "metadata": {},
     "output_type": "execute_result"
    }
   ],
   "source": [
    "cluster_numbers.shape"
   ]
  },
  {
   "cell_type": "code",
   "execution_count": 11,
   "id": "9a1d8516-b2b2-4b4c-8a65-c494adce129f",
   "metadata": {
    "tags": []
   },
   "outputs": [
    {
     "name": "stderr",
     "output_type": "stream",
     "text": [
      "100%|██████████| 6286775/6286775 [00:46<00:00, 135468.43it/s]\n"
     ]
    }
   ],
   "source": [
    "import collections\n",
    "\n",
    "cluster_dict = collections.defaultdict(list) # membership dictionary for each cluster\n",
    "for dx,cl_id in tqdm(enumerate(cluster_numbers),total=cluster_numbers.shape[0]):\n",
    "    cluster_dict[cl_id].append(data.loc[dx,'title'])"
   ]
  },
  {
   "cell_type": "code",
   "execution_count": 12,
   "id": "a81f530e-e603-44b6-8c69-821aa9b91e26",
   "metadata": {
    "tags": []
   },
   "outputs": [
    {
     "name": "stderr",
     "output_type": "stream",
     "text": [
      "6286775it [00:13, 470075.73it/s]\n"
     ]
    },
    {
     "data": {
      "text/plain": [
       "[(6, 'Organography'),\n",
       " (8, 'API gravity'),\n",
       " (8, 'Bollard pull'),\n",
       " (8, 'Cavitation'),\n",
       " (8, 'Clockwise'),\n",
       " (8, 'Critical Raw Materials Act'),\n",
       " (8, 'Electric flux'),\n",
       " (8, 'Electronic entropy'),\n",
       " (8, \"Elitzur's theorem\"),\n",
       " (8, 'Emissivity'),\n",
       " (8, 'Galaxy'),\n",
       " (8, 'Heat treating'),\n",
       " (8, 'James Webb Space Telescope'),\n",
       " (8, 'Linear time-invariant system'),\n",
       " (8, 'Luminance'),\n",
       " (8, 'Mass versus weight'),\n",
       " (8, 'Memristor'),\n",
       " (8, 'Minkowski space'),\n",
       " (8, 'Observable universe'),\n",
       " (8, 'Propagation constant'),\n",
       " (8, 'Pulsar-based navigation'),\n",
       " (8, 'Regular polytope'),\n",
       " (8, 'Signal-to-noise ratio'),\n",
       " (8, 'Spatial dispersion'),\n",
       " (8, 'Stochastic differential equation'),\n",
       " (8, 'Surface power density'),\n",
       " (8, 'Theorem of three moments'),\n",
       " (8, 'Thermal equilibrium'),\n",
       " (8, 'Time'),\n",
       " (8, 'Time standard'),\n",
       " (8, 'Uniform tilings in hyperbolic plane'),\n",
       " (8, 'Water hammer'),\n",
       " (8, 'Work function'),\n",
       " (13, 'Amplitude'),\n",
       " (13, 'Angular momentum'),\n",
       " (13, 'Antiferromagnetism'),\n",
       " (13, 'Astrochemistry'),\n",
       " (13, 'Baryogenesis'),\n",
       " (13, 'Born reciprocity'),\n",
       " (13, 'Butterfly effect'),\n",
       " (13, 'C1 chemistry'),\n",
       " (13, 'Causality (physics)'),\n",
       " (13, 'Coffee ring effect'),\n",
       " (13, 'Coherent turbulent structure'),\n",
       " (13, 'Cold dark matter'),\n",
       " (13, 'Condensation cloud'),\n",
       " (13, 'Convection (heat transfer)'),\n",
       " (13, 'Copernican principle'),\n",
       " (13, 'Crossover experiment (chemistry)'),\n",
       " (13, 'Crystallinity'),\n",
       " (13, 'Decay technique'),\n",
       " (13, 'Diffraction'),\n",
       " (13, 'Dynamic scaling'),\n",
       " (13, \"Earnshaw's theorem\"),\n",
       " (13, 'Electrochemical gradient'),\n",
       " (13, 'Enthalpy'),\n",
       " (13, 'Environmental Science Center'),\n",
       " (13, 'Erlangen program'),\n",
       " (13, 'Explicit symmetry breaking'),\n",
       " (13, \"Fermat's principle\"),\n",
       " (13, 'Ferromagnetism'),\n",
       " (13, 'Frame-dragging'),\n",
       " (13, 'Free neutron decay'),\n",
       " (13, 'Geometric quantization'),\n",
       " (13, 'Gravitational wave'),\n",
       " (13, 'Gravity Probe B'),\n",
       " (13, 'History of geology'),\n",
       " (13, 'Hydrodynamic stability'),\n",
       " (13, 'Improper rotation'),\n",
       " (13, 'Infectious tolerance'),\n",
       " (13, 'Interstellar medium'),\n",
       " (13, 'Landau–Lifshitz–Gilbert equation'),\n",
       " (13, 'Leidenfrost effect'),\n",
       " (13, 'List of equations in classical mechanics'),\n",
       " (13, 'Lorentz covariance'),\n",
       " (13, 'Magnetic monopole'),\n",
       " (13, 'Magnetic resonance imaging'),\n",
       " (13, 'Magnetic susceptibility'),\n",
       " (13, 'Main sequence'),\n",
       " (13, 'Mammary gland'),\n",
       " (13, 'Mass-to-charge ratio'),\n",
       " (13, 'Molecular cloud'),\n",
       " (13, 'Molecular symmetry'),\n",
       " (13, 'Navier–Stokes equations'),\n",
       " (13, 'Nebula'),\n",
       " (13, \"Newton's law of universal gravitation\"),\n",
       " (13, 'Paramagnetism'),\n",
       " (13, 'Parity (physics)'),\n",
       " (13, 'Phageome'),\n",
       " (13, 'Photophoresis'),\n",
       " (13, 'Planetary system'),\n",
       " (13, 'Point groups in three dimensions'),\n",
       " (13, 'Probability amplitude'),\n",
       " (13, 'Probability density function'),\n",
       " (13, 'Pulsar'),\n",
       " (13, 'QCD matter'),\n",
       " (13, 'Quantization (physics)'),\n",
       " (13, 'Quartz crystal microbalance'),\n",
       " (13, 'Radiosity (radiometry)'),\n",
       " (13, 'Ramsauer–Townsend effect'),\n",
       " (13, 'Rayleigh scattering'),\n",
       " (13, 'Reciprocal length'),\n",
       " (13, 'Redshift'),\n",
       " (13, 'Refractive index'),\n",
       " (13, 'Relative density'),\n",
       " (13, 'Renormalization'),\n",
       " (13, 'Ring-imaging Cherenkov detector'),\n",
       " (13, 'Second law of thermodynamics'),\n",
       " (13, 'Self-organization in cybernetics'),\n",
       " (13, 'Shower-curtain effect'),\n",
       " (13, 'Spin (physics)'),\n",
       " (13, 'Spontaneous symmetry breaking'),\n",
       " (13, 'Superconductivity'),\n",
       " (13, 'Supermassive black hole'),\n",
       " (13, 'Supernova'),\n",
       " (13, 'Supersymmetric quantum mechanics'),\n",
       " (13, 'Surgical pathology'),\n",
       " (13, 'Symmetry of diatomic molecules'),\n",
       " (13, 'The Ambidextrous Universe'),\n",
       " (13, 'Tidal force'),\n",
       " (13, 'Total internal reflection'),\n",
       " (13, 'Ultraviolet catastrophe'),\n",
       " (13, 'Unified field theory'),\n",
       " (13, 'Vacuum'),\n",
       " (17, 'Triskelion'),\n",
       " (22, \"Commentary on Anatomy in Avicenna's Canon\"),\n",
       " (24, \"Hesse's principle of transfer\"),\n",
       " (28, 'Ecological pyramid'),\n",
       " (28, 'Plant'),\n",
       " (29, 'Droste effect')]"
      ]
     },
     "execution_count": 12,
     "metadata": {},
     "output_type": "execute_result"
    }
   ],
   "source": [
    "sorted([(cluster_numbers[dx],i) for dx,i in tqdm(enumerate(data['title'].tolist())) if i in target_articles])"
   ]
  },
  {
   "cell_type": "code",
   "execution_count": 13,
   "id": "b793b09f-59a9-4cfd-828b-33bdfbc7bc3d",
   "metadata": {
    "tags": []
   },
   "outputs": [
    {
     "data": {
      "text/plain": [
       "148313"
      ]
     },
     "execution_count": 13,
     "metadata": {},
     "output_type": "execute_result"
    }
   ],
   "source": [
    "filtered_articles = cluster_dict[13]\n",
    "filtered_articles_set = set(filtered_articles)\n",
    "len(filtered_articles_set)"
   ]
  },
  {
   "cell_type": "code",
   "execution_count": 21,
   "id": "b357a57e-677b-44b1-8280-cd2ce4ea09b9",
   "metadata": {
    "tags": []
   },
   "outputs": [
    {
     "data": {
      "text/plain": [
       "259724"
      ]
     },
     "execution_count": 21,
     "metadata": {},
     "output_type": "execute_result"
    }
   ],
   "source": [
    "filtered_articles1 = cluster_dict[8]\n",
    "filtered_articles_set1 = set(filtered_articles1)\n",
    "len(filtered_articles_set1)"
   ]
  },
  {
   "cell_type": "code",
   "execution_count": 22,
   "id": "ef6601a5-8e04-4e3e-a55c-94245fc342bb",
   "metadata": {
    "tags": []
   },
   "outputs": [],
   "source": [
    "all_set = filtered_articles_set | filtered_articles_set1"
   ]
  },
  {
   "cell_type": "code",
   "execution_count": 23,
   "id": "0aad5800-0844-4f51-8fff-be943d526b02",
   "metadata": {
    "tags": []
   },
   "outputs": [],
   "source": [
    "filte_data = data[data['title'].isin(all_set)]"
   ]
  },
  {
   "cell_type": "code",
   "execution_count": 24,
   "id": "aedb18ff-23b1-43cd-a27a-08b73de86aaa",
   "metadata": {
    "tags": []
   },
   "outputs": [],
   "source": [
    "filte_data = filte_data.reset_index(drop=True)"
   ]
  },
  {
   "cell_type": "code",
   "execution_count": 25,
   "id": "23214470-2cf7-4883-95f1-59cdb6326ea0",
   "metadata": {
    "tags": []
   },
   "outputs": [
    {
     "data": {
      "text/html": [
       "<div>\n",
       "<style scoped>\n",
       "    .dataframe tbody tr th:only-of-type {\n",
       "        vertical-align: middle;\n",
       "    }\n",
       "\n",
       "    .dataframe tbody tr th {\n",
       "        vertical-align: top;\n",
       "    }\n",
       "\n",
       "    .dataframe thead th {\n",
       "        text-align: right;\n",
       "    }\n",
       "</style>\n",
       "<table border=\"1\" class=\"dataframe\">\n",
       "  <thead>\n",
       "    <tr style=\"text-align: right;\">\n",
       "      <th></th>\n",
       "      <th>id</th>\n",
       "      <th>title</th>\n",
       "      <th>text</th>\n",
       "      <th>categories</th>\n",
       "    </tr>\n",
       "  </thead>\n",
       "  <tbody>\n",
       "    <tr>\n",
       "      <th>0</th>\n",
       "      <td>15547032</td>\n",
       "      <td>A &amp; G Price</td>\n",
       "      <td>A &amp; G Price Limited is an engineering firm and...</td>\n",
       "      <td>[Locomotive manufacturers of New Zealand, Tham...</td>\n",
       "    </tr>\n",
       "    <tr>\n",
       "      <th>1</th>\n",
       "      <td>73863747</td>\n",
       "      <td>A (For 100 Cars)</td>\n",
       "      <td>A [For 100 Cars] is a minimalist composition b...</td>\n",
       "      <td>[2017 compositions, Minimalistic compositions,...</td>\n",
       "    </tr>\n",
       "    <tr>\n",
       "      <th>2</th>\n",
       "      <td>5405379</td>\n",
       "      <td>A (S-train)</td>\n",
       "      <td>A is a service on the S-train network in Copen...</td>\n",
       "      <td>[S-train (Copenhagen)]</td>\n",
       "    </tr>\n",
       "    <tr>\n",
       "      <th>3</th>\n",
       "      <td>2828410</td>\n",
       "      <td>A (musical note)</td>\n",
       "      <td>A or La is the sixth note and the tenth semito...</td>\n",
       "      <td>[Musical notes]</td>\n",
       "    </tr>\n",
       "    <tr>\n",
       "      <th>4</th>\n",
       "      <td>48227028</td>\n",
       "      <td>A B M Shawkat Ali</td>\n",
       "      <td>A B M Shawkat Ali is a Bangladeshi origin-Aust...</td>\n",
       "      <td>[Living people, 1969 births, University of Raj...</td>\n",
       "    </tr>\n",
       "    <tr>\n",
       "      <th>...</th>\n",
       "      <td>...</td>\n",
       "      <td>...</td>\n",
       "      <td>...</td>\n",
       "      <td>...</td>\n",
       "    </tr>\n",
       "    <tr>\n",
       "      <th>408032</th>\n",
       "      <td>36642977</td>\n",
       "      <td>Zündwaren monopoly</td>\n",
       "      <td>thumb|200px|Post-war Welthölzer, Deutsche Zünd...</td>\n",
       "      <td>[Monopoly (economics), 1930 in Germany, Econom...</td>\n",
       "    </tr>\n",
       "    <tr>\n",
       "      <th>408033</th>\n",
       "      <td>988185</td>\n",
       "      <td>Zürcher Verkehrsverbund</td>\n",
       "      <td>The Zürcher Verkehrsverbund (ZVV, Zürich Trans...</td>\n",
       "      <td>[Public transport in Switzerland, Transport in...</td>\n",
       "    </tr>\n",
       "    <tr>\n",
       "      <th>408034</th>\n",
       "      <td>10709120</td>\n",
       "      <td>Zürich Metropolitan Area</td>\n",
       "      <td>thumb|Location within Switzerland The European...</td>\n",
       "      <td>[Geography of the canton of Zürich, Metropolit...</td>\n",
       "    </tr>\n",
       "    <tr>\n",
       "      <th>408035</th>\n",
       "      <td>44312982</td>\n",
       "      <td>Zürichsee-Zeitung</td>\n",
       "      <td>Zürichsee-Zeitung, commonly shortened to ZSZ, ...</td>\n",
       "      <td>[1845 establishments in Switzerland, Daily new...</td>\n",
       "    </tr>\n",
       "    <tr>\n",
       "      <th>408036</th>\n",
       "      <td>11181773</td>\n",
       "      <td>Złota 44</td>\n",
       "      <td>Złota 44 is a residential skyscraper (192 mete...</td>\n",
       "      <td>[Skyscrapers in Warsaw, Śródmieście, Warsaw, D...</td>\n",
       "    </tr>\n",
       "  </tbody>\n",
       "</table>\n",
       "<p>408037 rows × 4 columns</p>\n",
       "</div>"
      ],
      "text/plain": [
       "              id                     title   \n",
       "0       15547032               A & G Price  \\\n",
       "1       73863747          A (For 100 Cars)   \n",
       "2        5405379               A (S-train)   \n",
       "3        2828410          A (musical note)   \n",
       "4       48227028         A B M Shawkat Ali   \n",
       "...          ...                       ...   \n",
       "408032  36642977        Zündwaren monopoly   \n",
       "408033    988185   Zürcher Verkehrsverbund   \n",
       "408034  10709120  Zürich Metropolitan Area   \n",
       "408035  44312982         Zürichsee-Zeitung   \n",
       "408036  11181773                  Złota 44   \n",
       "\n",
       "                                                     text   \n",
       "0       A & G Price Limited is an engineering firm and...  \\\n",
       "1       A [For 100 Cars] is a minimalist composition b...   \n",
       "2       A is a service on the S-train network in Copen...   \n",
       "3       A or La is the sixth note and the tenth semito...   \n",
       "4       A B M Shawkat Ali is a Bangladeshi origin-Aust...   \n",
       "...                                                   ...   \n",
       "408032  thumb|200px|Post-war Welthölzer, Deutsche Zünd...   \n",
       "408033  The Zürcher Verkehrsverbund (ZVV, Zürich Trans...   \n",
       "408034  thumb|Location within Switzerland The European...   \n",
       "408035  Zürichsee-Zeitung, commonly shortened to ZSZ, ...   \n",
       "408036  Złota 44 is a residential skyscraper (192 mete...   \n",
       "\n",
       "                                               categories  \n",
       "0       [Locomotive manufacturers of New Zealand, Tham...  \n",
       "1       [2017 compositions, Minimalistic compositions,...  \n",
       "2                                  [S-train (Copenhagen)]  \n",
       "3                                         [Musical notes]  \n",
       "4       [Living people, 1969 births, University of Raj...  \n",
       "...                                                   ...  \n",
       "408032  [Monopoly (economics), 1930 in Germany, Econom...  \n",
       "408033  [Public transport in Switzerland, Transport in...  \n",
       "408034  [Geography of the canton of Zürich, Metropolit...  \n",
       "408035  [1845 establishments in Switzerland, Daily new...  \n",
       "408036  [Skyscrapers in Warsaw, Śródmieście, Warsaw, D...  \n",
       "\n",
       "[408037 rows x 4 columns]"
      ]
     },
     "execution_count": 25,
     "metadata": {},
     "output_type": "execute_result"
    }
   ],
   "source": [
    "filte_data"
   ]
  },
  {
   "cell_type": "code",
   "execution_count": 12,
   "id": "722da670-c60f-4ac6-93dc-1eca24a80a21",
   "metadata": {
    "tags": []
   },
   "outputs": [
    {
     "ename": "NameError",
     "evalue": "name 'filte_data' is not defined",
     "output_type": "error",
     "traceback": [
      "\u001b[0;31m---------------------------------------------------------------------------\u001b[0m",
      "\u001b[0;31mNameError\u001b[0m                                 Traceback (most recent call last)",
      "Cell \u001b[0;32mIn[12], line 1\u001b[0m\n\u001b[0;32m----> 1\u001b[0m \u001b[43mfilte_data\u001b[49m\u001b[38;5;241m.\u001b[39mto_parquet(\u001b[38;5;124m'\u001b[39m\u001b[38;5;124m./wiki_data/kmeans_data.parquet\u001b[39m\u001b[38;5;124m'\u001b[39m)\n",
      "\u001b[0;31mNameError\u001b[0m: name 'filte_data' is not defined"
     ]
    }
   ],
   "source": [
    "filte_data.to_parquet('./wiki_data/kmeans_data.parquet')"
   ]
  },
  {
   "cell_type": "code",
   "execution_count": 13,
   "id": "f25be429-1387-4857-9867-2a392fecfb16",
   "metadata": {
    "tags": []
   },
   "outputs": [],
   "source": [
    "filte_data = pd.read_parquet('./wiki_data/kmeans_data.parquet')"
   ]
  },
  {
   "cell_type": "code",
   "execution_count": 92,
   "id": "565335ac-f830-48d9-bebc-5adb03fdf199",
   "metadata": {
    "tags": []
   },
   "outputs": [],
   "source": [
    "data_base = pd.read_parquet('./small_wiki_data_base/data.parquet')"
   ]
  },
  {
   "cell_type": "code",
   "execution_count": 93,
   "id": "cae20884-1229-4fd9-bbf7-5cfa33b852db",
   "metadata": {
    "tags": []
   },
   "outputs": [],
   "source": [
    "have_id = set(data_base['wiki_id'].apply(lambda x : int(x)).tolist())"
   ]
  },
  {
   "cell_type": "code",
   "execution_count": 94,
   "id": "be39d191-34f4-4d75-8623-6665b3b1a1ff",
   "metadata": {
    "tags": []
   },
   "outputs": [],
   "source": [
    "now_id = set(filte_data['id'].apply(lambda x : int(x)).tolist())"
   ]
  },
  {
   "cell_type": "code",
   "execution_count": 95,
   "id": "2d5fcd7c-774a-42eb-85c7-9f8cf159f2e7",
   "metadata": {
    "tags": []
   },
   "outputs": [],
   "source": [
    "need_id = (now_id - (now_id & have_id))"
   ]
  },
  {
   "cell_type": "code",
   "execution_count": 96,
   "id": "66c9ef25-a4a5-448a-ba7b-159d45365022",
   "metadata": {
    "tags": []
   },
   "outputs": [
    {
     "data": {
      "text/plain": [
       "114084"
      ]
     },
     "execution_count": 96,
     "metadata": {},
     "output_type": "execute_result"
    }
   ],
   "source": [
    "len(need_id)"
   ]
  },
  {
   "cell_type": "code",
   "execution_count": 97,
   "id": "d9d85053-4d66-44f7-9ed0-a3040ff2d2a1",
   "metadata": {
    "tags": []
   },
   "outputs": [],
   "source": [
    "filte_data = filte_data[filte_data['id'].apply(lambda x : int(x)).isin(need_id)].reset_index(drop=True)"
   ]
  },
  {
   "cell_type": "code",
   "execution_count": 14,
   "id": "4845527f-4dda-4f9e-bcf8-232dcbaef0d5",
   "metadata": {
    "tags": []
   },
   "outputs": [],
   "source": [
    "from __future__ import annotations\n",
    "\n",
    "import blingfire as bf\n",
    "from typing import Optional, Union\n",
    "from collections.abc import Iterable\n",
    "\n",
    "def process_documents(documents: Iterable[str],\n",
    "                      document_ids: Iterable,\n",
    "                      split_sentences: bool = True,\n",
    "                      filter_len: int = 3,\n",
    "                      disable_progress_bar: bool = False) -> pd.DataFrame:\n",
    "    \"\"\"\n",
    "    Main helper function to process documents from the EMR.\n",
    "\n",
    "    :param documents: Iterable containing documents which are strings\n",
    "    :param document_ids: Iterable containing document unique identifiers\n",
    "    :param document_type: String denoting the document type to be processed\n",
    "    :param document_sections: List of sections for a given document type to process\n",
    "    :param split_sentences: Flag to determine whether to further split sections into sentences\n",
    "    :param filter_len: Minimum character length of a sentence (otherwise filter out)\n",
    "    :param disable_progress_bar: Flag to disable tqdm progress bar\n",
    "    :return: Pandas DataFrame containing the columns `document_id`, `text`, `section`, `offset`\n",
    "    \"\"\"\n",
    "    \n",
    "    df = sectionize_documents(documents, document_ids, disable_progress_bar)\n",
    "\n",
    "    if split_sentences:\n",
    "        df = sentencize(df.text.values, \n",
    "                        df.document_id.values,\n",
    "                        df.offset.values, \n",
    "                        filter_len, \n",
    "                        disable_progress_bar)\n",
    "    return df\n",
    "\n",
    "\n",
    "def sectionize_documents(documents: Iterable[str],\n",
    "                         document_ids: Iterable,\n",
    "                         disable_progress_bar: bool = False) -> pd.DataFrame:\n",
    "    \"\"\"\n",
    "    Obtains the sections of the imaging reports and returns only the \n",
    "    selected sections (defaults to FINDINGS, IMPRESSION, and ADDENDUM).\n",
    "\n",
    "    :param documents: Iterable containing documents which are strings\n",
    "    :param document_ids: Iterable containing document unique identifiers\n",
    "    :param disable_progress_bar: Flag to disable tqdm progress bar\n",
    "    :return: Pandas DataFrame containing the columns `document_id`, `text`, `offset`\n",
    "    \"\"\"\n",
    "    processed_documents = []\n",
    "    for document_id, document in tqdm(zip(document_ids, documents), total=len(documents), disable=disable_progress_bar):\n",
    "        row = {}\n",
    "        text, start, end = (document, 0, len(document))\n",
    "        row['document_id'] = document_id\n",
    "        row['text'] = text\n",
    "        row['offset'] = (start, end)\n",
    "\n",
    "        processed_documents.append(row)\n",
    "\n",
    "    _df = pd.DataFrame(processed_documents)\n",
    "    if _df.shape[0] > 0:\n",
    "        return _df.sort_values(['document_id', 'offset']).reset_index(drop=True)\n",
    "    else:\n",
    "        return _df\n",
    "\n",
    "\n",
    "def sentencize(documents: Iterable[str],\n",
    "               document_ids: Iterable,\n",
    "               offsets: Iterable[tuple[int, int]],\n",
    "               filter_len: int = 3,\n",
    "               disable_progress_bar: bool = False) -> pd.DataFrame:\n",
    "    \"\"\"\n",
    "    Split a document into sentences. Can be used with `sectionize_documents`\n",
    "    to further split documents into more manageable pieces. Takes in offsets\n",
    "    to ensure that after splitting, the sentences can be matched to the\n",
    "    location in the original documents.\n",
    "\n",
    "    :param documents: Iterable containing documents which are strings\n",
    "    :param document_ids: Iterable containing document unique identifiers\n",
    "    :param offsets: Iterable tuple of the start and end indices\n",
    "    :param filter_len: Minimum character length of a sentence (otherwise filter out)\n",
    "    :return: Pandas DataFrame containing the columns `document_id`, `text`, `section`, `offset`\n",
    "    \"\"\"\n",
    "\n",
    "    document_sentences = []\n",
    "    for document, document_id, offset in tqdm(zip(documents, document_ids, offsets), total=len(documents), disable=disable_progress_bar):\n",
    "        try:\n",
    "            _, sentence_offsets = bf.text_to_sentences_and_offsets(document)\n",
    "            for o in sentence_offsets:\n",
    "                if o[1]-o[0] > filter_len:\n",
    "                    sentence = document[o[0]:o[1]]\n",
    "                    abs_offsets = (o[0]+offset[0], o[1]+offset[0])\n",
    "                    row = {}\n",
    "                    row['document_id'] = document_id\n",
    "                    row['text'] = sentence\n",
    "                    row['offset'] = abs_offsets\n",
    "                    document_sentences.append(row)\n",
    "        except:\n",
    "            continue\n",
    "    return pd.DataFrame(document_sentences)"
   ]
  },
  {
   "cell_type": "code",
   "execution_count": 15,
   "id": "c48fd5e6-6fc4-4ab4-ab3a-24b45b72a775",
   "metadata": {
    "tags": []
   },
   "outputs": [
    {
     "name": "stderr",
     "output_type": "stream",
     "text": [
      "100%|██████████| 270492/270492 [00:04<00:00, 54347.41it/s]\n",
      "100%|██████████| 270492/270492 [11:09<00:00, 404.11it/s]\n"
     ]
    }
   ],
   "source": [
    "processed = process_documents(filte_data.text, filte_data.id)"
   ]
  },
  {
   "cell_type": "code",
   "execution_count": 100,
   "id": "5e091902-6a13-49e8-bf9d-a917efdef3e6",
   "metadata": {
    "tags": []
   },
   "outputs": [
    {
     "data": {
      "text/html": [
       "<div>\n",
       "<style scoped>\n",
       "    .dataframe tbody tr th:only-of-type {\n",
       "        vertical-align: middle;\n",
       "    }\n",
       "\n",
       "    .dataframe tbody tr th {\n",
       "        vertical-align: top;\n",
       "    }\n",
       "\n",
       "    .dataframe thead th {\n",
       "        text-align: right;\n",
       "    }\n",
       "</style>\n",
       "<table border=\"1\" class=\"dataframe\">\n",
       "  <thead>\n",
       "    <tr style=\"text-align: right;\">\n",
       "      <th></th>\n",
       "      <th>document_id</th>\n",
       "      <th>text</th>\n",
       "      <th>offset</th>\n",
       "    </tr>\n",
       "  </thead>\n",
       "  <tbody>\n",
       "    <tr>\n",
       "      <th>0</th>\n",
       "      <td>10000242</td>\n",
       "      <td>Rod J. Rohrich ( ), F.A.C.S. is a Dallas-based...</td>\n",
       "      <td>(0, 84)</td>\n",
       "    </tr>\n",
       "    <tr>\n",
       "      <th>1</th>\n",
       "      <td>10000242</td>\n",
       "      <td>He is the editor-in-chief of the journal Plast...</td>\n",
       "      <td>(85, 266)</td>\n",
       "    </tr>\n",
       "    <tr>\n",
       "      <th>2</th>\n",
       "      <td>10000242</td>\n",
       "      <td>He is board certified by the American Board of...</td>\n",
       "      <td>(267, 330)</td>\n",
       "    </tr>\n",
       "    <tr>\n",
       "      <th>3</th>\n",
       "      <td>10000242</td>\n",
       "      <td>A June 2014 journal article in Annals of Plast...</td>\n",
       "      <td>(331, 622)</td>\n",
       "    </tr>\n",
       "    <tr>\n",
       "      <th>4</th>\n",
       "      <td>10000242</td>\n",
       "      <td>In 2021, Newsweek recognized Dr. Rohrich as th...</td>\n",
       "      <td>(623, 837)</td>\n",
       "    </tr>\n",
       "    <tr>\n",
       "      <th>...</th>\n",
       "      <td>...</td>\n",
       "      <td>...</td>\n",
       "      <td>...</td>\n",
       "    </tr>\n",
       "    <tr>\n",
       "      <th>3694546</th>\n",
       "      <td>9999956</td>\n",
       "      <td>Evol.</td>\n",
       "      <td>(579, 584)</td>\n",
       "    </tr>\n",
       "    <tr>\n",
       "      <th>3694547</th>\n",
       "      <td>9999956</td>\n",
       "      <td>Microbiol., 50, 1811-1816. ==Physiology== M. k...</td>\n",
       "      <td>(585, 716)</td>\n",
       "    </tr>\n",
       "    <tr>\n",
       "      <th>3694548</th>\n",
       "      <td>9999956</td>\n",
       "      <td>Isolates have been shown to be resistant to th...</td>\n",
       "      <td>(717, 904)</td>\n",
       "    </tr>\n",
       "    <tr>\n",
       "      <th>3694549</th>\n",
       "      <td>9999956</td>\n",
       "      <td>Susceptibility to clarithromycin, clofazimine ...</td>\n",
       "      <td>(905, 1094)</td>\n",
       "    </tr>\n",
       "    <tr>\n",
       "      <th>3694550</th>\n",
       "      <td>9999956</td>\n",
       "      <td>The strain may also be identified as CDC 94107...</td>\n",
       "      <td>(1095, 1473)</td>\n",
       "    </tr>\n",
       "  </tbody>\n",
       "</table>\n",
       "<p>3694551 rows × 3 columns</p>\n",
       "</div>"
      ],
      "text/plain": [
       "        document_id                                               text   \n",
       "0          10000242  Rod J. Rohrich ( ), F.A.C.S. is a Dallas-based...  \\\n",
       "1          10000242  He is the editor-in-chief of the journal Plast...   \n",
       "2          10000242  He is board certified by the American Board of...   \n",
       "3          10000242  A June 2014 journal article in Annals of Plast...   \n",
       "4          10000242  In 2021, Newsweek recognized Dr. Rohrich as th...   \n",
       "...             ...                                                ...   \n",
       "3694546     9999956                                              Evol.   \n",
       "3694547     9999956  Microbiol., 50, 1811-1816. ==Physiology== M. k...   \n",
       "3694548     9999956  Isolates have been shown to be resistant to th...   \n",
       "3694549     9999956  Susceptibility to clarithromycin, clofazimine ...   \n",
       "3694550     9999956  The strain may also be identified as CDC 94107...   \n",
       "\n",
       "               offset  \n",
       "0             (0, 84)  \n",
       "1           (85, 266)  \n",
       "2          (267, 330)  \n",
       "3          (331, 622)  \n",
       "4          (623, 837)  \n",
       "...               ...  \n",
       "3694546    (579, 584)  \n",
       "3694547    (585, 716)  \n",
       "3694548    (717, 904)  \n",
       "3694549   (905, 1094)  \n",
       "3694550  (1095, 1473)  \n",
       "\n",
       "[3694551 rows x 3 columns]"
      ]
     },
     "execution_count": 100,
     "metadata": {},
     "output_type": "execute_result"
    }
   ],
   "source": [
    "processed"
   ]
  },
  {
   "cell_type": "code",
   "execution_count": 101,
   "id": "2bf2bd73-3c1f-4220-ba4c-1a49c63262e2",
   "metadata": {
    "tags": []
   },
   "outputs": [],
   "source": [
    "d = {}\n",
    "for i in range(len(data)):\n",
    "    d[int(data.loc[i,'id'])] = i"
   ]
  },
  {
   "cell_type": "code",
   "execution_count": 102,
   "id": "e5c2a327-938f-4096-91b3-6d6078f1bfd8",
   "metadata": {
    "tags": []
   },
   "outputs": [
    {
     "name": "stderr",
     "output_type": "stream",
     "text": [
      "100%|██████████| 3694551/3694551 [00:52<00:00, 70112.15it/s]\n"
     ]
    }
   ],
   "source": [
    "new_data = []\n",
    "# for page_id in tqdm(processed['document_id'].unique()):\n",
    "#     sub = processed[processed['document_id'] == page_id].reset_index(drop=True)\n",
    "#     text = ''\n",
    "#     title = data.loc[d[int(page_id)],'title']\n",
    "#     for item in sub['text'].to_list():\n",
    "#         text += item\n",
    "#         if len(text) > 2500:\n",
    "#             new_data.append({'id':int(page_id), 'title':title, 'text':text})\n",
    "#             text = \"\"\n",
    "#     if len(text) != 0:\n",
    "#         new_data.append({'id':int(page_id), 'title':title, 'text':text})\n",
    "page_ids = set(processed['document_id'].tolist())\n",
    "texts = {}\n",
    "for page_id in page_ids:\n",
    "    texts[page_id] = []\n",
    "for i in tqdm(range(len(processed))):\n",
    "    texts[processed.loc[i,'document_id']].append(processed.loc[i,'text'])"
   ]
  },
  {
   "cell_type": "code",
   "execution_count": 111,
   "id": "dbac18e1-1801-40bb-af24-260409691b56",
   "metadata": {
    "tags": []
   },
   "outputs": [
    {
     "name": "stderr",
     "output_type": "stream",
     "text": [
      "100%|██████████| 114084/114084 [00:19<00:00, 5717.96it/s]\n"
     ]
    }
   ],
   "source": [
    "import re\n",
    "\n",
    "new_data = []\n",
    "for page_id in tqdm(page_ids):\n",
    "    text = ''\n",
    "    title = data.loc[d[int(page_id)], 'title']\n",
    "    for item in texts[page_id]:\n",
    "        item = re.sub(r'http\\S+', '', item)\n",
    "        item = re.sub(r'[+\\-*\\/]', '', item)\n",
    "        item = re.sub(r'\\$\\\\frac\\{.*?\\}\\{.*?\\}\\$', '', item)\n",
    "        if len(text + item) > 2500:\n",
    "            new_data.append({'id':int(page_id), 'title':title, 'text':text})\n",
    "            text = item\n",
    "            continue\n",
    "        text += item\n",
    "    if len(text) != 0:\n",
    "        new_data.append({'id':int(page_id), 'title':title, 'text':text})"
   ]
  },
  {
   "cell_type": "code",
   "execution_count": 112,
   "id": "09a32d19-1bcf-4ae1-9e8b-3b0a9a6486cc",
   "metadata": {
    "tags": []
   },
   "outputs": [],
   "source": [
    "new_data = pd.DataFrame(new_data)"
   ]
  },
  {
   "cell_type": "code",
   "execution_count": 113,
   "id": "1731aafd-7e10-4592-b0ee-2f699137901a",
   "metadata": {
    "tags": []
   },
   "outputs": [],
   "source": [
    "new_data['text_len'] = new_data['text'].apply(lambda x : len(x))"
   ]
  },
  {
   "cell_type": "code",
   "execution_count": 114,
   "id": "f031bddf-655f-4b56-9fef-35a2f448d06d",
   "metadata": {
    "tags": []
   },
   "outputs": [],
   "source": [
    "new_data = new_data[new_data['text_len'] != 0].reset_index(drop=True)\n",
    "new_data = new_data[['id','title', 'text']]"
   ]
  },
  {
   "cell_type": "code",
   "execution_count": 115,
   "id": "59913470-3654-44ab-ba29-e05a5340cb5b",
   "metadata": {
    "tags": []
   },
   "outputs": [
    {
     "data": {
      "text/html": [
       "<div>\n",
       "<style scoped>\n",
       "    .dataframe tbody tr th:only-of-type {\n",
       "        vertical-align: middle;\n",
       "    }\n",
       "\n",
       "    .dataframe tbody tr th {\n",
       "        vertical-align: top;\n",
       "    }\n",
       "\n",
       "    .dataframe thead th {\n",
       "        text-align: right;\n",
       "    }\n",
       "</style>\n",
       "<table border=\"1\" class=\"dataframe\">\n",
       "  <thead>\n",
       "    <tr style=\"text-align: right;\">\n",
       "      <th></th>\n",
       "      <th>id</th>\n",
       "      <th>title</th>\n",
       "      <th>text</th>\n",
       "    </tr>\n",
       "  </thead>\n",
       "  <tbody>\n",
       "    <tr>\n",
       "      <th>0</th>\n",
       "      <td>893962</td>\n",
       "      <td>UC Davis School of Veterinary Medicine</td>\n",
       "      <td>The University of California, Davis, School of...</td>\n",
       "    </tr>\n",
       "    <tr>\n",
       "      <th>1</th>\n",
       "      <td>893962</td>\n",
       "      <td>UC Davis School of Veterinary Medicine</td>\n",
       "      <td>The tracks are Equine Track, EquineSmall Anima...</td>\n",
       "    </tr>\n",
       "    <tr>\n",
       "      <th>2</th>\n",
       "      <td>893962</td>\n",
       "      <td>UC Davis School of Veterinary Medicine</td>\n",
       "      <td>Five faculty members (Terrell Holliday [1998]...</td>\n",
       "    </tr>\n",
       "    <tr>\n",
       "      <th>3</th>\n",
       "      <td>893962</td>\n",
       "      <td>UC Davis School of Veterinary Medicine</td>\n",
       "      <td>Notable discoveries by faculty of the School ...</td>\n",
       "    </tr>\n",
       "    <tr>\n",
       "      <th>4</th>\n",
       "      <td>22185825</td>\n",
       "      <td>Ancient Egyptian creation myths</td>\n",
       "      <td>Ancient Egyptian creation myths are the ancien...</td>\n",
       "    </tr>\n",
       "    <tr>\n",
       "      <th>...</th>\n",
       "      <td>...</td>\n",
       "      <td>...</td>\n",
       "      <td>...</td>\n",
       "    </tr>\n",
       "    <tr>\n",
       "      <th>335234</th>\n",
       "      <td>29080755</td>\n",
       "      <td>List of lunar probes</td>\n",
       "      <td>Then sent to L2 and on to an asteroid flyby.AR...</td>\n",
       "    </tr>\n",
       "    <tr>\n",
       "      <th>335235</th>\n",
       "      <td>29080755</td>\n",
       "      <td>List of lunar probes</td>\n",
       "      <td>Chandrayaan2 ISRO 22 July 2019 – orbiter in or...</td>\n",
       "    </tr>\n",
       "    <tr>\n",
       "      <th>335236</th>\n",
       "      <td>29080755</td>\n",
       "      <td>List of lunar probes</td>\n",
       "      <td>Communication failure. 50x50px ArgoMoon ASI 21...</td>\n",
       "    </tr>\n",
       "    <tr>\n",
       "      <th>335237</th>\n",
       "      <td>29080755</td>\n",
       "      <td>List of lunar probes</td>\n",
       "      <td>Lunar Flashlight 11 December 2022 (launch) orb...</td>\n",
       "    </tr>\n",
       "    <tr>\n",
       "      <th>335238</th>\n",
       "      <td>35286566</td>\n",
       "      <td>Fritz Langford-Smith</td>\n",
       "      <td>Fritz LangfordSmith (29 June 1904 – 3 December...</td>\n",
       "    </tr>\n",
       "  </tbody>\n",
       "</table>\n",
       "<p>335239 rows × 3 columns</p>\n",
       "</div>"
      ],
      "text/plain": [
       "              id                                   title   \n",
       "0         893962  UC Davis School of Veterinary Medicine  \\\n",
       "1         893962  UC Davis School of Veterinary Medicine   \n",
       "2         893962  UC Davis School of Veterinary Medicine   \n",
       "3         893962  UC Davis School of Veterinary Medicine   \n",
       "4       22185825         Ancient Egyptian creation myths   \n",
       "...          ...                                     ...   \n",
       "335234  29080755                    List of lunar probes   \n",
       "335235  29080755                    List of lunar probes   \n",
       "335236  29080755                    List of lunar probes   \n",
       "335237  29080755                    List of lunar probes   \n",
       "335238  35286566                    Fritz Langford-Smith   \n",
       "\n",
       "                                                     text  \n",
       "0       The University of California, Davis, School of...  \n",
       "1       The tracks are Equine Track, EquineSmall Anima...  \n",
       "2        Five faculty members (Terrell Holliday [1998]...  \n",
       "3        Notable discoveries by faculty of the School ...  \n",
       "4       Ancient Egyptian creation myths are the ancien...  \n",
       "...                                                   ...  \n",
       "335234  Then sent to L2 and on to an asteroid flyby.AR...  \n",
       "335235  Chandrayaan2 ISRO 22 July 2019 – orbiter in or...  \n",
       "335236  Communication failure. 50x50px ArgoMoon ASI 21...  \n",
       "335237  Lunar Flashlight 11 December 2022 (launch) orb...  \n",
       "335238  Fritz LangfordSmith (29 June 1904 – 3 December...  \n",
       "\n",
       "[335239 rows x 3 columns]"
      ]
     },
     "execution_count": 115,
     "metadata": {},
     "output_type": "execute_result"
    }
   ],
   "source": [
    "new_data"
   ]
  },
  {
   "cell_type": "code",
   "execution_count": 116,
   "id": "c0c5c876-fabf-4946-8f4f-30f30b67cdb4",
   "metadata": {
    "tags": []
   },
   "outputs": [],
   "source": [
    "new_data.to_parquet('./small_wiki_data_base/680w_kmeans_split_2500_k35_clear.parquet')"
   ]
  },
  {
   "cell_type": "code",
   "execution_count": 117,
   "id": "9054dddb-cb9e-480b-a239-f580988a2052",
   "metadata": {},
   "outputs": [],
   "source": [
    "merge = pd.concat([data_base, new_data],axis=0).reset_index(drop=True)\n",
    "merge['id'] = merge['id'].apply(lambda x : str(x))\n",
    "merge.to_parquet('./small_wiki_data_base/merge_k35_2500_clear.parquet')"
   ]
  },
  {
   "cell_type": "code",
   "execution_count": 118,
   "id": "ebb3e4b0-79cd-464c-81fa-9019faf6247b",
   "metadata": {
    "tags": []
   },
   "outputs": [
    {
     "data": {
      "text/html": [
       "<div>\n",
       "<style scoped>\n",
       "    .dataframe tbody tr th:only-of-type {\n",
       "        vertical-align: middle;\n",
       "    }\n",
       "\n",
       "    .dataframe tbody tr th {\n",
       "        vertical-align: top;\n",
       "    }\n",
       "\n",
       "    .dataframe thead th {\n",
       "        text-align: right;\n",
       "    }\n",
       "</style>\n",
       "<table border=\"1\" class=\"dataframe\">\n",
       "  <thead>\n",
       "    <tr style=\"text-align: right;\">\n",
       "      <th></th>\n",
       "      <th>id</th>\n",
       "      <th>title</th>\n",
       "      <th>text</th>\n",
       "      <th>url</th>\n",
       "      <th>wiki_id</th>\n",
       "      <th>views</th>\n",
       "      <th>paragraph_id</th>\n",
       "      <th>langs</th>\n",
       "    </tr>\n",
       "  </thead>\n",
       "  <tbody>\n",
       "    <tr>\n",
       "      <th>0</th>\n",
       "      <td>5443</td>\n",
       "      <td>Google Translate</td>\n",
       "      <td>Google Translate is a multilingual neural mach...</td>\n",
       "      <td>https://en.wikipedia.org/wiki?curid=3235536</td>\n",
       "      <td>3235536.0</td>\n",
       "      <td>4305.652832</td>\n",
       "      <td>0.0</td>\n",
       "      <td>97.0</td>\n",
       "    </tr>\n",
       "    <tr>\n",
       "      <th>1</th>\n",
       "      <td>5444</td>\n",
       "      <td>Google Translate</td>\n",
       "      <td>Launched in April 2006 as a statistical machin...</td>\n",
       "      <td>https://en.wikipedia.org/wiki?curid=3235536</td>\n",
       "      <td>3235536.0</td>\n",
       "      <td>4305.652832</td>\n",
       "      <td>1.0</td>\n",
       "      <td>97.0</td>\n",
       "    </tr>\n",
       "    <tr>\n",
       "      <th>2</th>\n",
       "      <td>5445</td>\n",
       "      <td>Google Translate</td>\n",
       "      <td>Google Translate is a web-based free-to-user t...</td>\n",
       "      <td>https://en.wikipedia.org/wiki?curid=3235536</td>\n",
       "      <td>3235536.0</td>\n",
       "      <td>4305.652832</td>\n",
       "      <td>2.0</td>\n",
       "      <td>97.0</td>\n",
       "    </tr>\n",
       "    <tr>\n",
       "      <th>3</th>\n",
       "      <td>5446</td>\n",
       "      <td>Google Translate</td>\n",
       "      <td>Originally, Google Translate was released as a...</td>\n",
       "      <td>https://en.wikipedia.org/wiki?curid=3235536</td>\n",
       "      <td>3235536.0</td>\n",
       "      <td>4305.652832</td>\n",
       "      <td>3.0</td>\n",
       "      <td>97.0</td>\n",
       "    </tr>\n",
       "    <tr>\n",
       "      <th>4</th>\n",
       "      <td>5447</td>\n",
       "      <td>Google Translate</td>\n",
       "      <td>In January 2010, Google introduced an Android ...</td>\n",
       "      <td>https://en.wikipedia.org/wiki?curid=3235536</td>\n",
       "      <td>3235536.0</td>\n",
       "      <td>4305.652832</td>\n",
       "      <td>4.0</td>\n",
       "      <td>97.0</td>\n",
       "    </tr>\n",
       "    <tr>\n",
       "      <th>...</th>\n",
       "      <td>...</td>\n",
       "      <td>...</td>\n",
       "      <td>...</td>\n",
       "      <td>...</td>\n",
       "      <td>...</td>\n",
       "      <td>...</td>\n",
       "      <td>...</td>\n",
       "      <td>...</td>\n",
       "    </tr>\n",
       "    <tr>\n",
       "      <th>3116886</th>\n",
       "      <td>29080755</td>\n",
       "      <td>List of lunar probes</td>\n",
       "      <td>Then sent to L2 and on to an asteroid flyby.AR...</td>\n",
       "      <td>NaN</td>\n",
       "      <td>NaN</td>\n",
       "      <td>NaN</td>\n",
       "      <td>NaN</td>\n",
       "      <td>NaN</td>\n",
       "    </tr>\n",
       "    <tr>\n",
       "      <th>3116887</th>\n",
       "      <td>29080755</td>\n",
       "      <td>List of lunar probes</td>\n",
       "      <td>Chandrayaan2 ISRO 22 July 2019 – orbiter in or...</td>\n",
       "      <td>NaN</td>\n",
       "      <td>NaN</td>\n",
       "      <td>NaN</td>\n",
       "      <td>NaN</td>\n",
       "      <td>NaN</td>\n",
       "    </tr>\n",
       "    <tr>\n",
       "      <th>3116888</th>\n",
       "      <td>29080755</td>\n",
       "      <td>List of lunar probes</td>\n",
       "      <td>Communication failure. 50x50px ArgoMoon ASI 21...</td>\n",
       "      <td>NaN</td>\n",
       "      <td>NaN</td>\n",
       "      <td>NaN</td>\n",
       "      <td>NaN</td>\n",
       "      <td>NaN</td>\n",
       "    </tr>\n",
       "    <tr>\n",
       "      <th>3116889</th>\n",
       "      <td>29080755</td>\n",
       "      <td>List of lunar probes</td>\n",
       "      <td>Lunar Flashlight 11 December 2022 (launch) orb...</td>\n",
       "      <td>NaN</td>\n",
       "      <td>NaN</td>\n",
       "      <td>NaN</td>\n",
       "      <td>NaN</td>\n",
       "      <td>NaN</td>\n",
       "    </tr>\n",
       "    <tr>\n",
       "      <th>3116890</th>\n",
       "      <td>35286566</td>\n",
       "      <td>Fritz Langford-Smith</td>\n",
       "      <td>Fritz LangfordSmith (29 June 1904 – 3 December...</td>\n",
       "      <td>NaN</td>\n",
       "      <td>NaN</td>\n",
       "      <td>NaN</td>\n",
       "      <td>NaN</td>\n",
       "      <td>NaN</td>\n",
       "    </tr>\n",
       "  </tbody>\n",
       "</table>\n",
       "<p>3116891 rows × 8 columns</p>\n",
       "</div>"
      ],
      "text/plain": [
       "               id                 title   \n",
       "0            5443      Google Translate  \\\n",
       "1            5444      Google Translate   \n",
       "2            5445      Google Translate   \n",
       "3            5446      Google Translate   \n",
       "4            5447      Google Translate   \n",
       "...           ...                   ...   \n",
       "3116886  29080755  List of lunar probes   \n",
       "3116887  29080755  List of lunar probes   \n",
       "3116888  29080755  List of lunar probes   \n",
       "3116889  29080755  List of lunar probes   \n",
       "3116890  35286566  Fritz Langford-Smith   \n",
       "\n",
       "                                                      text   \n",
       "0        Google Translate is a multilingual neural mach...  \\\n",
       "1        Launched in April 2006 as a statistical machin...   \n",
       "2        Google Translate is a web-based free-to-user t...   \n",
       "3        Originally, Google Translate was released as a...   \n",
       "4        In January 2010, Google introduced an Android ...   \n",
       "...                                                    ...   \n",
       "3116886  Then sent to L2 and on to an asteroid flyby.AR...   \n",
       "3116887  Chandrayaan2 ISRO 22 July 2019 – orbiter in or...   \n",
       "3116888  Communication failure. 50x50px ArgoMoon ASI 21...   \n",
       "3116889  Lunar Flashlight 11 December 2022 (launch) orb...   \n",
       "3116890  Fritz LangfordSmith (29 June 1904 – 3 December...   \n",
       "\n",
       "                                                 url    wiki_id        views   \n",
       "0        https://en.wikipedia.org/wiki?curid=3235536  3235536.0  4305.652832  \\\n",
       "1        https://en.wikipedia.org/wiki?curid=3235536  3235536.0  4305.652832   \n",
       "2        https://en.wikipedia.org/wiki?curid=3235536  3235536.0  4305.652832   \n",
       "3        https://en.wikipedia.org/wiki?curid=3235536  3235536.0  4305.652832   \n",
       "4        https://en.wikipedia.org/wiki?curid=3235536  3235536.0  4305.652832   \n",
       "...                                              ...        ...          ...   \n",
       "3116886                                          NaN        NaN          NaN   \n",
       "3116887                                          NaN        NaN          NaN   \n",
       "3116888                                          NaN        NaN          NaN   \n",
       "3116889                                          NaN        NaN          NaN   \n",
       "3116890                                          NaN        NaN          NaN   \n",
       "\n",
       "         paragraph_id  langs  \n",
       "0                 0.0   97.0  \n",
       "1                 1.0   97.0  \n",
       "2                 2.0   97.0  \n",
       "3                 3.0   97.0  \n",
       "4                 4.0   97.0  \n",
       "...               ...    ...  \n",
       "3116886           NaN    NaN  \n",
       "3116887           NaN    NaN  \n",
       "3116888           NaN    NaN  \n",
       "3116889           NaN    NaN  \n",
       "3116890           NaN    NaN  \n",
       "\n",
       "[3116891 rows x 8 columns]"
      ]
     },
     "execution_count": 118,
     "metadata": {},
     "output_type": "execute_result"
    }
   ],
   "source": [
    "merge"
   ]
  },
  {
   "cell_type": "code",
   "execution_count": null,
   "id": "30942b16-14de-45a2-bcb3-6f28bb1014c5",
   "metadata": {},
   "outputs": [],
   "source": []
  }
 ],
 "metadata": {
  "kernelspec": {
   "display_name": "chatglm_ppj",
   "language": "python",
   "name": "chatglm_ppj"
  },
  "language_info": {
   "codemirror_mode": {
    "name": "ipython",
    "version": 3
   },
   "file_extension": ".py",
   "mimetype": "text/x-python",
   "name": "python",
   "nbconvert_exporter": "python",
   "pygments_lexer": "ipython3",
   "version": "3.8.16"
  }
 },
 "nbformat": 4,
 "nbformat_minor": 5
}
