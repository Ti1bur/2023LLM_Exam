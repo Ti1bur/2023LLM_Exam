{
 "cells": [
  {
   "cell_type": "code",
   "execution_count": 1,
   "id": "e7f24d3e-7522-41b3-a015-7bd1158688ae",
   "metadata": {},
   "outputs": [
    {
     "name": "stdout",
     "output_type": "stream",
     "text": [
      "Collecting fastbm25\n",
      "  Downloading fastbm25-0.0.2-py3-none-any.whl (8.5 kB)\n",
      "Installing collected packages: fastbm25\n",
      "Successfully installed fastbm25-0.0.2\n"
     ]
    }
   ],
   "source": [
    "!pip install fastbm25"
   ]
  },
  {
   "cell_type": "code",
   "execution_count": 1,
   "id": "c24e2e31-48d2-420a-9dfb-edb62645e6e2",
   "metadata": {
    "tags": []
   },
   "outputs": [],
   "source": [
    "from fastbm25 import fastbm25\n",
    "import pickle \n",
    "import pandas as pd"
   ]
  },
  {
   "cell_type": "code",
   "execution_count": 2,
   "id": "cfe9d34a-f274-48be-b722-38e917d1f9af",
   "metadata": {
    "tags": []
   },
   "outputs": [],
   "source": [
    "### load data \n",
    "\n",
    "doc = pd.read_json(\"./data/wiki_data.json\",lines=True)\n",
    "query = pd.read_csv(\"./data/crawl_context.csv\")\n",
    "index = pd.read_parquet('./wiki_data/my_index.parquet')"
   ]
  },
  {
   "cell_type": "code",
   "execution_count": 3,
   "id": "c0da55c6-84e8-48c9-ac10-eeaac176270e",
   "metadata": {
    "tags": []
   },
   "outputs": [],
   "source": [
    "a = set([int(x) for x in index['id']])\n",
    "b = set([int(x) for x in doc['page_id']])\n",
    "c = set([int(x) for x in query['page_id']])\n",
    "d = a & b & c"
   ]
  },
  {
   "cell_type": "code",
   "execution_count": 4,
   "id": "f170228a-2f09-4876-88ef-1e2e1861fc2c",
   "metadata": {
    "tags": []
   },
   "outputs": [],
   "source": [
    "query['check'] = query['page_id'].apply(lambda x : int(x) in d)\n",
    "doc['check'] = doc['page_id'].apply(lambda x : int(x) in d)\n",
    "query = query[query['check']].reset_index(drop=True)\n",
    "doc = doc[doc['check']].reset_index(drop=True)"
   ]
  },
  {
   "cell_type": "code",
   "execution_count": 5,
   "id": "11e65ecc-94d4-4cdf-a67e-050914030f82",
   "metadata": {
    "tags": []
   },
   "outputs": [
    {
     "data": {
      "text/html": [
       "<div>\n",
       "<style scoped>\n",
       "    .dataframe tbody tr th:only-of-type {\n",
       "        vertical-align: middle;\n",
       "    }\n",
       "\n",
       "    .dataframe tbody tr th {\n",
       "        vertical-align: top;\n",
       "    }\n",
       "\n",
       "    .dataframe thead th {\n",
       "        text-align: right;\n",
       "    }\n",
       "</style>\n",
       "<table border=\"1\" class=\"dataframe\">\n",
       "  <thead>\n",
       "    <tr style=\"text-align: right;\">\n",
       "      <th></th>\n",
       "      <th>id</th>\n",
       "      <th>prompt</th>\n",
       "      <th>A</th>\n",
       "      <th>B</th>\n",
       "      <th>C</th>\n",
       "      <th>D</th>\n",
       "      <th>E</th>\n",
       "      <th>answer</th>\n",
       "      <th>wiki_text</th>\n",
       "      <th>page_id</th>\n",
       "      <th>page_title</th>\n",
       "      <th>stem_label</th>\n",
       "      <th>check</th>\n",
       "    </tr>\n",
       "  </thead>\n",
       "  <tbody>\n",
       "    <tr>\n",
       "      <th>0</th>\n",
       "      <td>0</td>\n",
       "      <td>What is physical mathematics?</td>\n",
       "      <td>The study of physically motivated mathematics</td>\n",
       "      <td>The study of mathematical physics</td>\n",
       "      <td>The study of mathematics in physical contexts</td>\n",
       "      <td>The study of mathematical equations</td>\n",
       "      <td>The study of mathematical operations</td>\n",
       "      <td>A</td>\n",
       "      <td>The subject of physical mathematics is concern...</td>\n",
       "      <td>32439784</td>\n",
       "      <td>Physical mathematics</td>\n",
       "      <td>M</td>\n",
       "      <td>True</td>\n",
       "    </tr>\n",
       "    <tr>\n",
       "      <th>1</th>\n",
       "      <td>1</td>\n",
       "      <td>Who wrote Physical Arithmetic in 1885?</td>\n",
       "      <td>Margaret Osler</td>\n",
       "      <td>Alexander Macfarlane</td>\n",
       "      <td>Alhazen</td>\n",
       "      <td>Galileo</td>\n",
       "      <td>Newton</td>\n",
       "      <td>B</td>\n",
       "      <td>The subject of physical mathematics is concern...</td>\n",
       "      <td>32439784</td>\n",
       "      <td>Physical mathematics</td>\n",
       "      <td>M</td>\n",
       "      <td>True</td>\n",
       "    </tr>\n",
       "    <tr>\n",
       "      <th>2</th>\n",
       "      <td>2</td>\n",
       "      <td>What did the Mathematical Tripos at Cambridge ...</td>\n",
       "      <td>Pure mathematics</td>\n",
       "      <td>Applied mathematics</td>\n",
       "      <td>Mixed mathematics</td>\n",
       "      <td>Fluxional calculus</td>\n",
       "      <td>Physical problems</td>\n",
       "      <td>C</td>\n",
       "      <td>The subject of physical mathematics is concern...</td>\n",
       "      <td>32439784</td>\n",
       "      <td>Physical mathematics</td>\n",
       "      <td>M</td>\n",
       "      <td>True</td>\n",
       "    </tr>\n",
       "    <tr>\n",
       "      <th>3</th>\n",
       "      <td>3</td>\n",
       "      <td>What mathematical representation is used for m...</td>\n",
       "      <td>Complex numbers</td>\n",
       "      <td>Quaternions</td>\n",
       "      <td>Linear algebra</td>\n",
       "      <td>Fluxional calculus</td>\n",
       "      <td>Mixed mathematics</td>\n",
       "      <td>C</td>\n",
       "      <td>The subject of physical mathematics is concern...</td>\n",
       "      <td>32439784</td>\n",
       "      <td>Physical mathematics</td>\n",
       "      <td>M</td>\n",
       "      <td>True</td>\n",
       "    </tr>\n",
       "    <tr>\n",
       "      <th>4</th>\n",
       "      <td>4</td>\n",
       "      <td>What did the early expressions of kinematics a...</td>\n",
       "      <td>Causality</td>\n",
       "      <td>Forces</td>\n",
       "      <td>Mathematical physics</td>\n",
       "      <td>Fluxional calculus</td>\n",
       "      <td>Mixed mathematics</td>\n",
       "      <td>C</td>\n",
       "      <td>The subject of physical mathematics is concern...</td>\n",
       "      <td>32439784</td>\n",
       "      <td>Physical mathematics</td>\n",
       "      <td>M</td>\n",
       "      <td>True</td>\n",
       "    </tr>\n",
       "    <tr>\n",
       "      <th>...</th>\n",
       "      <td>...</td>\n",
       "      <td>...</td>\n",
       "      <td>...</td>\n",
       "      <td>...</td>\n",
       "      <td>...</td>\n",
       "      <td>...</td>\n",
       "      <td>...</td>\n",
       "      <td>...</td>\n",
       "      <td>...</td>\n",
       "      <td>...</td>\n",
       "      <td>...</td>\n",
       "      <td>...</td>\n",
       "      <td>...</td>\n",
       "    </tr>\n",
       "    <tr>\n",
       "      <th>45066</th>\n",
       "      <td>49279</td>\n",
       "      <td>What is the purpose of acoustic cleaning?</td>\n",
       "      <td>To remove material from surfaces</td>\n",
       "      <td>To generate powerful sound waves</td>\n",
       "      <td>To handle bulk granular materials</td>\n",
       "      <td>To reduce the need for manual cleaning</td>\n",
       "      <td>To build material-handling equipment</td>\n",
       "      <td>A</td>\n",
       "      <td>Acoustic cleaning is a maintenance method used...</td>\n",
       "      <td>4117074</td>\n",
       "      <td>Acoustic cleaning</td>\n",
       "      <td>E</td>\n",
       "      <td>True</td>\n",
       "    </tr>\n",
       "    <tr>\n",
       "      <th>45067</th>\n",
       "      <td>49280</td>\n",
       "      <td>How does an acoustic cleaner work?</td>\n",
       "      <td>By generating powerful sound waves</td>\n",
       "      <td>By shaking particulates loose from surfaces</td>\n",
       "      <td>By removing the buildup of material on surfaces</td>\n",
       "      <td>By reducing the need for manual cleaning</td>\n",
       "      <td>By handling bulk granular materials</td>\n",
       "      <td>B</td>\n",
       "      <td>Acoustic cleaning is a maintenance method used...</td>\n",
       "      <td>4117074</td>\n",
       "      <td>Acoustic cleaning</td>\n",
       "      <td>E</td>\n",
       "      <td>True</td>\n",
       "    </tr>\n",
       "    <tr>\n",
       "      <th>45068</th>\n",
       "      <td>49281</td>\n",
       "      <td>What is an acoustic cleaner made of?</td>\n",
       "      <td>Compressed air</td>\n",
       "      <td>Electricity</td>\n",
       "      <td>A diaphragm</td>\n",
       "      <td>Stainless steel</td>\n",
       "      <td>Titanium</td>\n",
       "      <td>D</td>\n",
       "      <td>Acoustic cleaning is a maintenance method used...</td>\n",
       "      <td>4117074</td>\n",
       "      <td>Acoustic cleaning</td>\n",
       "      <td>E</td>\n",
       "      <td>True</td>\n",
       "    </tr>\n",
       "    <tr>\n",
       "      <th>45069</th>\n",
       "      <td>49282</td>\n",
       "      <td>Why is compressed air used to power an acousti...</td>\n",
       "      <td>To generate powerful sound waves</td>\n",
       "      <td>To shake particulates loose from surfaces</td>\n",
       "      <td>To ensure performance and longevity</td>\n",
       "      <td>To reduce the need for manual cleaning</td>\n",
       "      <td>To avoid sparking and explosions</td>\n",
       "      <td>E</td>\n",
       "      <td>Acoustic cleaning is a maintenance method used...</td>\n",
       "      <td>4117074</td>\n",
       "      <td>Acoustic cleaning</td>\n",
       "      <td>E</td>\n",
       "      <td>True</td>\n",
       "    </tr>\n",
       "    <tr>\n",
       "      <th>45070</th>\n",
       "      <td>49283</td>\n",
       "      <td>What is the purpose of the bell in an acoustic...</td>\n",
       "      <td>To generate powerful sound waves</td>\n",
       "      <td>To remove material from surfaces</td>\n",
       "      <td>To handle bulk granular materials</td>\n",
       "      <td>To ensure performance and longevity</td>\n",
       "      <td>To direct the loud sound into the interior</td>\n",
       "      <td>E</td>\n",
       "      <td>Acoustic cleaning is a maintenance method used...</td>\n",
       "      <td>4117074</td>\n",
       "      <td>Acoustic cleaning</td>\n",
       "      <td>E</td>\n",
       "      <td>True</td>\n",
       "    </tr>\n",
       "  </tbody>\n",
       "</table>\n",
       "<p>45071 rows × 13 columns</p>\n",
       "</div>"
      ],
      "text/plain": [
       "          id                                             prompt  \\\n",
       "0          0                      What is physical mathematics?   \n",
       "1          1             Who wrote Physical Arithmetic in 1885?   \n",
       "2          2  What did the Mathematical Tripos at Cambridge ...   \n",
       "3          3  What mathematical representation is used for m...   \n",
       "4          4  What did the early expressions of kinematics a...   \n",
       "...      ...                                                ...   \n",
       "45066  49279          What is the purpose of acoustic cleaning?   \n",
       "45067  49280                 How does an acoustic cleaner work?   \n",
       "45068  49281               What is an acoustic cleaner made of?   \n",
       "45069  49282  Why is compressed air used to power an acousti...   \n",
       "45070  49283  What is the purpose of the bell in an acoustic...   \n",
       "\n",
       "                                                   A  \\\n",
       "0      The study of physically motivated mathematics   \n",
       "1                                     Margaret Osler   \n",
       "2                                   Pure mathematics   \n",
       "3                                    Complex numbers   \n",
       "4                                          Causality   \n",
       "...                                              ...   \n",
       "45066               To remove material from surfaces   \n",
       "45067             By generating powerful sound waves   \n",
       "45068                                 Compressed air   \n",
       "45069               To generate powerful sound waves   \n",
       "45070               To generate powerful sound waves   \n",
       "\n",
       "                                                 B  \\\n",
       "0                The study of mathematical physics   \n",
       "1                             Alexander Macfarlane   \n",
       "2                              Applied mathematics   \n",
       "3                                      Quaternions   \n",
       "4                                           Forces   \n",
       "...                                            ...   \n",
       "45066             To generate powerful sound waves   \n",
       "45067  By shaking particulates loose from surfaces   \n",
       "45068                                  Electricity   \n",
       "45069    To shake particulates loose from surfaces   \n",
       "45070             To remove material from surfaces   \n",
       "\n",
       "                                                     C  \\\n",
       "0        The study of mathematics in physical contexts   \n",
       "1                                              Alhazen   \n",
       "2                                    Mixed mathematics   \n",
       "3                                       Linear algebra   \n",
       "4                                 Mathematical physics   \n",
       "...                                                ...   \n",
       "45066                To handle bulk granular materials   \n",
       "45067  By removing the buildup of material on surfaces   \n",
       "45068                                      A diaphragm   \n",
       "45069              To ensure performance and longevity   \n",
       "45070                To handle bulk granular materials   \n",
       "\n",
       "                                              D  \\\n",
       "0           The study of mathematical equations   \n",
       "1                                       Galileo   \n",
       "2                            Fluxional calculus   \n",
       "3                            Fluxional calculus   \n",
       "4                            Fluxional calculus   \n",
       "...                                         ...   \n",
       "45066    To reduce the need for manual cleaning   \n",
       "45067  By reducing the need for manual cleaning   \n",
       "45068                           Stainless steel   \n",
       "45069    To reduce the need for manual cleaning   \n",
       "45070       To ensure performance and longevity   \n",
       "\n",
       "                                                E answer  \\\n",
       "0            The study of mathematical operations      A   \n",
       "1                                          Newton      B   \n",
       "2                               Physical problems      C   \n",
       "3                               Mixed mathematics      C   \n",
       "4                               Mixed mathematics      C   \n",
       "...                                           ...    ...   \n",
       "45066        To build material-handling equipment      A   \n",
       "45067         By handling bulk granular materials      B   \n",
       "45068                                    Titanium      D   \n",
       "45069            To avoid sparking and explosions      E   \n",
       "45070  To direct the loud sound into the interior      E   \n",
       "\n",
       "                                               wiki_text   page_id  \\\n",
       "0      The subject of physical mathematics is concern...  32439784   \n",
       "1      The subject of physical mathematics is concern...  32439784   \n",
       "2      The subject of physical mathematics is concern...  32439784   \n",
       "3      The subject of physical mathematics is concern...  32439784   \n",
       "4      The subject of physical mathematics is concern...  32439784   \n",
       "...                                                  ...       ...   \n",
       "45066  Acoustic cleaning is a maintenance method used...   4117074   \n",
       "45067  Acoustic cleaning is a maintenance method used...   4117074   \n",
       "45068  Acoustic cleaning is a maintenance method used...   4117074   \n",
       "45069  Acoustic cleaning is a maintenance method used...   4117074   \n",
       "45070  Acoustic cleaning is a maintenance method used...   4117074   \n",
       "\n",
       "                 page_title stem_label  check  \n",
       "0      Physical mathematics          M   True  \n",
       "1      Physical mathematics          M   True  \n",
       "2      Physical mathematics          M   True  \n",
       "3      Physical mathematics          M   True  \n",
       "4      Physical mathematics          M   True  \n",
       "...                     ...        ...    ...  \n",
       "45066     Acoustic cleaning          E   True  \n",
       "45067     Acoustic cleaning          E   True  \n",
       "45068     Acoustic cleaning          E   True  \n",
       "45069     Acoustic cleaning          E   True  \n",
       "45070     Acoustic cleaning          E   True  \n",
       "\n",
       "[45071 rows x 13 columns]"
      ]
     },
     "execution_count": 5,
     "metadata": {},
     "output_type": "execute_result"
    }
   ],
   "source": [
    "query"
   ]
  },
  {
   "cell_type": "code",
   "execution_count": 6,
   "id": "e766e47c-848a-4e48-bd9e-eaaa6e2ccd56",
   "metadata": {
    "tags": []
   },
   "outputs": [
    {
     "data": {
      "text/html": [
       "<div>\n",
       "<style scoped>\n",
       "    .dataframe tbody tr th:only-of-type {\n",
       "        vertical-align: middle;\n",
       "    }\n",
       "\n",
       "    .dataframe tbody tr th {\n",
       "        vertical-align: top;\n",
       "    }\n",
       "\n",
       "    .dataframe thead th {\n",
       "        text-align: right;\n",
       "    }\n",
       "</style>\n",
       "<table border=\"1\" class=\"dataframe\">\n",
       "  <thead>\n",
       "    <tr style=\"text-align: right;\">\n",
       "      <th></th>\n",
       "      <th>page_id</th>\n",
       "      <th>title</th>\n",
       "      <th>content</th>\n",
       "      <th>check</th>\n",
       "    </tr>\n",
       "  </thead>\n",
       "  <tbody>\n",
       "    <tr>\n",
       "      <th>0</th>\n",
       "      <td>32439784</td>\n",
       "      <td>Physical mathematics</td>\n",
       "      <td>The subject of physical mathematics is concern...</td>\n",
       "      <td>True</td>\n",
       "    </tr>\n",
       "    <tr>\n",
       "      <th>1</th>\n",
       "      <td>32439784</td>\n",
       "      <td>Physical mathematics</td>\n",
       "      <td>The subject of physical mathematics is concern...</td>\n",
       "      <td>True</td>\n",
       "    </tr>\n",
       "    <tr>\n",
       "      <th>2</th>\n",
       "      <td>32439784</td>\n",
       "      <td>Physical mathematics</td>\n",
       "      <td>The subject of physical mathematics is concern...</td>\n",
       "      <td>True</td>\n",
       "    </tr>\n",
       "    <tr>\n",
       "      <th>3</th>\n",
       "      <td>32439784</td>\n",
       "      <td>Physical mathematics</td>\n",
       "      <td>The subject of physical mathematics is concern...</td>\n",
       "      <td>True</td>\n",
       "    </tr>\n",
       "    <tr>\n",
       "      <th>4</th>\n",
       "      <td>32439784</td>\n",
       "      <td>Physical mathematics</td>\n",
       "      <td>The subject of physical mathematics is concern...</td>\n",
       "      <td>True</td>\n",
       "    </tr>\n",
       "    <tr>\n",
       "      <th>...</th>\n",
       "      <td>...</td>\n",
       "      <td>...</td>\n",
       "      <td>...</td>\n",
       "      <td>...</td>\n",
       "    </tr>\n",
       "    <tr>\n",
       "      <th>45066</th>\n",
       "      <td>59006692</td>\n",
       "      <td>Trajectory inference</td>\n",
       "      <td>Trajectory inference or pseudotemporal orderin...</td>\n",
       "      <td>True</td>\n",
       "    </tr>\n",
       "    <tr>\n",
       "      <th>45067</th>\n",
       "      <td>11356477</td>\n",
       "      <td>List of mammals of Turkmenistan</td>\n",
       "      <td>This is a list of the mammal species recorded ...</td>\n",
       "      <td>True</td>\n",
       "    </tr>\n",
       "    <tr>\n",
       "      <th>45068</th>\n",
       "      <td>11356477</td>\n",
       "      <td>List of mammals of Turkmenistan</td>\n",
       "      <td>This is a list of the mammal species recorded ...</td>\n",
       "      <td>True</td>\n",
       "    </tr>\n",
       "    <tr>\n",
       "      <th>45069</th>\n",
       "      <td>799405</td>\n",
       "      <td>Shear mapping</td>\n",
       "      <td>In plane geometry, a shear mapping is a linear...</td>\n",
       "      <td>True</td>\n",
       "    </tr>\n",
       "    <tr>\n",
       "      <th>45070</th>\n",
       "      <td>39351243</td>\n",
       "      <td>Camillo De Lellis</td>\n",
       "      <td>Camillo De Lellis (born 11 June 1976) is an It...</td>\n",
       "      <td>True</td>\n",
       "    </tr>\n",
       "  </tbody>\n",
       "</table>\n",
       "<p>45071 rows × 4 columns</p>\n",
       "</div>"
      ],
      "text/plain": [
       "        page_id                            title  \\\n",
       "0      32439784             Physical mathematics   \n",
       "1      32439784             Physical mathematics   \n",
       "2      32439784             Physical mathematics   \n",
       "3      32439784             Physical mathematics   \n",
       "4      32439784             Physical mathematics   \n",
       "...         ...                              ...   \n",
       "45066  59006692             Trajectory inference   \n",
       "45067  11356477  List of mammals of Turkmenistan   \n",
       "45068  11356477  List of mammals of Turkmenistan   \n",
       "45069    799405                    Shear mapping   \n",
       "45070  39351243                Camillo De Lellis   \n",
       "\n",
       "                                                 content  check  \n",
       "0      The subject of physical mathematics is concern...   True  \n",
       "1      The subject of physical mathematics is concern...   True  \n",
       "2      The subject of physical mathematics is concern...   True  \n",
       "3      The subject of physical mathematics is concern...   True  \n",
       "4      The subject of physical mathematics is concern...   True  \n",
       "...                                                  ...    ...  \n",
       "45066  Trajectory inference or pseudotemporal orderin...   True  \n",
       "45067  This is a list of the mammal species recorded ...   True  \n",
       "45068  This is a list of the mammal species recorded ...   True  \n",
       "45069  In plane geometry, a shear mapping is a linear...   True  \n",
       "45070  Camillo De Lellis (born 11 June 1976) is an It...   True  \n",
       "\n",
       "[45071 rows x 4 columns]"
      ]
     },
     "execution_count": 6,
     "metadata": {},
     "output_type": "execute_result"
    }
   ],
   "source": [
    "doc"
   ]
  },
  {
   "cell_type": "code",
   "execution_count": 7,
   "id": "eae21197-f394-4e07-9dd3-bee95540cea3",
   "metadata": {
    "tags": []
   },
   "outputs": [
    {
     "data": {
      "text/plain": [
       "(8662, 4)"
      ]
     },
     "execution_count": 7,
     "metadata": {},
     "output_type": "execute_result"
    }
   ],
   "source": [
    "doc_dup  = doc.drop_duplicates(['content'])\n",
    "doc_dup.shape"
   ]
  },
  {
   "cell_type": "code",
   "execution_count": 8,
   "id": "7cc69eae-6984-4268-b12e-95c9a7db5913",
   "metadata": {
    "tags": []
   },
   "outputs": [
    {
     "name": "stderr",
     "output_type": "stream",
     "text": [
      "/tmp/ipykernel_1431774/3280834534.py:1: SettingWithCopyWarning: \n",
      "A value is trying to be set on a copy of a slice from a DataFrame.\n",
      "Try using .loc[row_indexer,col_indexer] = value instead\n",
      "\n",
      "See the caveats in the documentation: https://pandas.pydata.org/pandas-docs/stable/user_guide/indexing.html#returning-a-view-versus-a-copy\n",
      "  doc_dup['text'] = doc_dup['title']+\" \"+doc_dup['content']\n"
     ]
    }
   ],
   "source": [
    "doc_dup['text'] = doc_dup['title']+\" \"+doc_dup['content']"
   ]
  },
  {
   "cell_type": "code",
   "execution_count": 9,
   "id": "30d461b3-c44b-4c39-aa97-91062dd977d2",
   "metadata": {
    "tags": []
   },
   "outputs": [
    {
     "data": {
      "text/html": [
       "<div>\n",
       "<style scoped>\n",
       "    .dataframe tbody tr th:only-of-type {\n",
       "        vertical-align: middle;\n",
       "    }\n",
       "\n",
       "    .dataframe tbody tr th {\n",
       "        vertical-align: top;\n",
       "    }\n",
       "\n",
       "    .dataframe thead th {\n",
       "        text-align: right;\n",
       "    }\n",
       "</style>\n",
       "<table border=\"1\" class=\"dataframe\">\n",
       "  <thead>\n",
       "    <tr style=\"text-align: right;\">\n",
       "      <th></th>\n",
       "      <th>page_id</th>\n",
       "      <th>title</th>\n",
       "      <th>content</th>\n",
       "      <th>check</th>\n",
       "      <th>text</th>\n",
       "    </tr>\n",
       "  </thead>\n",
       "  <tbody>\n",
       "    <tr>\n",
       "      <th>0</th>\n",
       "      <td>32439784</td>\n",
       "      <td>Physical mathematics</td>\n",
       "      <td>The subject of physical mathematics is concern...</td>\n",
       "      <td>True</td>\n",
       "      <td>Physical mathematics The subject of physical m...</td>\n",
       "    </tr>\n",
       "    <tr>\n",
       "      <th>5</th>\n",
       "      <td>38183293</td>\n",
       "      <td>DaVinci (software)</td>\n",
       "      <td>DaVinci was a development tool used to create ...</td>\n",
       "      <td>True</td>\n",
       "      <td>DaVinci (software) DaVinci was a development t...</td>\n",
       "    </tr>\n",
       "    <tr>\n",
       "      <th>10</th>\n",
       "      <td>1997</td>\n",
       "      <td>Algebraic geometry</td>\n",
       "      <td>Algebraic geometry is a branch of mathematics ...</td>\n",
       "      <td>True</td>\n",
       "      <td>Algebraic geometry Algebraic geometry is a bra...</td>\n",
       "    </tr>\n",
       "    <tr>\n",
       "      <th>15</th>\n",
       "      <td>10952377</td>\n",
       "      <td>Material-handling equipment</td>\n",
       "      <td>Material handling equipment (MHE) is mechanica...</td>\n",
       "      <td>True</td>\n",
       "      <td>Material-handling equipment Material handling ...</td>\n",
       "    </tr>\n",
       "    <tr>\n",
       "      <th>20</th>\n",
       "      <td>1219747</td>\n",
       "      <td>Concrete mixer</td>\n",
       "      <td>A concrete mixer (also cement mixer) is a devi...</td>\n",
       "      <td>True</td>\n",
       "      <td>Concrete mixer A concrete mixer (also cement m...</td>\n",
       "    </tr>\n",
       "  </tbody>\n",
       "</table>\n",
       "</div>"
      ],
      "text/plain": [
       "     page_id                        title  \\\n",
       "0   32439784         Physical mathematics   \n",
       "5   38183293           DaVinci (software)   \n",
       "10      1997           Algebraic geometry   \n",
       "15  10952377  Material-handling equipment   \n",
       "20   1219747               Concrete mixer   \n",
       "\n",
       "                                              content  check  \\\n",
       "0   The subject of physical mathematics is concern...   True   \n",
       "5   DaVinci was a development tool used to create ...   True   \n",
       "10  Algebraic geometry is a branch of mathematics ...   True   \n",
       "15  Material handling equipment (MHE) is mechanica...   True   \n",
       "20  A concrete mixer (also cement mixer) is a devi...   True   \n",
       "\n",
       "                                                 text  \n",
       "0   Physical mathematics The subject of physical m...  \n",
       "5   DaVinci (software) DaVinci was a development t...  \n",
       "10  Algebraic geometry Algebraic geometry is a bra...  \n",
       "15  Material-handling equipment Material handling ...  \n",
       "20  Concrete mixer A concrete mixer (also cement m...  "
      ]
     },
     "execution_count": 9,
     "metadata": {},
     "output_type": "execute_result"
    }
   ],
   "source": [
    "doc_dup.head()"
   ]
  },
  {
   "cell_type": "code",
   "execution_count": 10,
   "id": "7a503cd7-6c23-48fd-94f9-56ef57548442",
   "metadata": {
    "tags": []
   },
   "outputs": [],
   "source": [
    "doc_dict = dict(zip(doc_dup['text'].values,doc_dup['page_id'].values))"
   ]
  },
  {
   "cell_type": "code",
   "execution_count": 11,
   "id": "fd417ece-363f-4351-a0fe-93955114f07c",
   "metadata": {
    "tags": []
   },
   "outputs": [
    {
     "name": "stderr",
     "output_type": "stream",
     "text": [
      "/root/conda_env/chr_env/lib/python3.8/site-packages/tqdm/auto.py:21: TqdmWarning: IProgress not found. Please update jupyter and ipywidgets. See https://ipywidgets.readthedocs.io/en/stable/user_install.html\n",
      "  from .autonotebook import tqdm as notebook_tqdm\n"
     ]
    },
    {
     "name": "stdout",
     "output_type": "stream",
     "text": [
      "11438336\n"
     ]
    },
    {
     "ename": "TypeError",
     "evalue": "__init__() got an unexpected keyword argument 'num_threads'",
     "output_type": "error",
     "traceback": [
      "\u001b[0;31m---------------------------------------------------------------------------\u001b[0m",
      "\u001b[0;31mTypeError\u001b[0m                                 Traceback (most recent call last)",
      "Cell \u001b[0;32mIn[11], line 19\u001b[0m\n\u001b[1;32m     17\u001b[0m tokenized_corpus \u001b[38;5;241m=\u001b[39m [word_process(doc) \u001b[38;5;28;01mfor\u001b[39;00m doc \u001b[38;5;129;01min\u001b[39;00m corpus]\n\u001b[1;32m     18\u001b[0m \u001b[38;5;28mprint\u001b[39m(np\u001b[38;5;241m.\u001b[39msum([\u001b[38;5;28mlen\u001b[39m(x) \u001b[38;5;28;01mfor\u001b[39;00m x \u001b[38;5;129;01min\u001b[39;00m tokenized_corpus]))\n\u001b[0;32m---> 19\u001b[0m bm25 \u001b[38;5;241m=\u001b[39m \u001b[43mfastbm25\u001b[49m\u001b[43m(\u001b[49m\u001b[43mtokenized_corpus\u001b[49m\u001b[43m,\u001b[49m\u001b[43mnum_threads\u001b[49m\u001b[38;5;241;43m=\u001b[39;49m\u001b[38;5;241;43m-\u001b[39;49m\u001b[38;5;241;43m1\u001b[39;49m\u001b[43m)\u001b[49m\n",
      "\u001b[0;31mTypeError\u001b[0m: __init__() got an unexpected keyword argument 'num_threads'"
     ]
    }
   ],
   "source": [
    "####bm25\n",
    "from tqdm.auto import tqdm\n",
    "import nltk\n",
    "from nltk.corpus import stopwords\n",
    "from nltk.tokenize import word_tokenize, sent_tokenize\n",
    "import numpy as np\n",
    "# nltk.download('punkt')\n",
    "# nltk.download('stopwords')\n",
    "\n",
    "def word_process(text):\n",
    "    words = word_tokenize(text)\n",
    "    words = [word.lower() for word in words if word.isalnum()]\n",
    "    return words\n",
    "    \n",
    "\n",
    "corpus = list(doc_dup['text'])\n",
    "tokenized_corpus = [word_process(doc) for doc in corpus]\n",
    "print(np.sum([len(x) for x in tokenized_corpus]))\n",
    "bm25 = fastbm25(tokenized_corpus)\n",
    "# with open(\"bm25_model.pkl\",\"wb\")as f:\n",
    "#     pickle.dump(bm25,f)"
   ]
  },
  {
   "cell_type": "code",
   "execution_count": 15,
   "id": "2f10584e-a901-4fa8-aace-aeff684ab158",
   "metadata": {
    "tags": []
   },
   "outputs": [
    {
     "data": {
      "text/plain": [
       "8662"
      ]
     },
     "execution_count": 15,
     "metadata": {},
     "output_type": "execute_result"
    }
   ],
   "source": [
    "len(tokenized_corpus)"
   ]
  },
  {
   "cell_type": "code",
   "execution_count": 17,
   "id": "fcae356c-6952-4843-a2ff-42180fefd52b",
   "metadata": {
    "tags": []
   },
   "outputs": [],
   "source": [
    "#### load query\n",
    "val = pd.read_csv(\"./data/recall_val.csv\")\n",
    "val['check'] = val['page_id'].apply(lambda x : int(x) in d)\n",
    "val = val[val['check']].reset_index(drop=True)"
   ]
  },
  {
   "cell_type": "code",
   "execution_count": 18,
   "id": "055e3dab-293f-4d4b-81e0-aa9919ba8c7b",
   "metadata": {
    "tags": []
   },
   "outputs": [
    {
     "data": {
      "text/html": [
       "<div>\n",
       "<style scoped>\n",
       "    .dataframe tbody tr th:only-of-type {\n",
       "        vertical-align: middle;\n",
       "    }\n",
       "\n",
       "    .dataframe tbody tr th {\n",
       "        vertical-align: top;\n",
       "    }\n",
       "\n",
       "    .dataframe thead th {\n",
       "        text-align: right;\n",
       "    }\n",
       "</style>\n",
       "<table border=\"1\" class=\"dataframe\">\n",
       "  <thead>\n",
       "    <tr style=\"text-align: right;\">\n",
       "      <th></th>\n",
       "      <th>id</th>\n",
       "      <th>prompt</th>\n",
       "      <th>A</th>\n",
       "      <th>B</th>\n",
       "      <th>C</th>\n",
       "      <th>D</th>\n",
       "      <th>E</th>\n",
       "      <th>answer</th>\n",
       "      <th>wiki_text</th>\n",
       "      <th>page_id</th>\n",
       "      <th>page_title</th>\n",
       "      <th>stem_label</th>\n",
       "      <th>prompt_answer</th>\n",
       "      <th>check</th>\n",
       "    </tr>\n",
       "  </thead>\n",
       "  <tbody>\n",
       "    <tr>\n",
       "      <th>0</th>\n",
       "      <td>47000</td>\n",
       "      <td>What are some adverse effects associated with ...</td>\n",
       "      <td>Burns and eczema</td>\n",
       "      <td>Cancer and brain disorder</td>\n",
       "      <td>Fetotoxicity and inflammations of peripheral n...</td>\n",
       "      <td>All of the above</td>\n",
       "      <td>None of the above</td>\n",
       "      <td>D</td>\n",
       "      <td>A solvent is a substance that is liquid at the...</td>\n",
       "      <td>73305281</td>\n",
       "      <td>Green solvent</td>\n",
       "      <td>M</td>\n",
       "      <td>What are some adverse effects associated with ...</td>\n",
       "      <td>True</td>\n",
       "    </tr>\n",
       "    <tr>\n",
       "      <th>1</th>\n",
       "      <td>47001</td>\n",
       "      <td>What is the goal of the UN sustainability deve...</td>\n",
       "      <td>To promote the use of petrochemical solvents</td>\n",
       "      <td>To develop green and sustainable solvents</td>\n",
       "      <td>To increase the use of nonpolar solvents</td>\n",
       "      <td>To classify solvents into polar and nonpolar c...</td>\n",
       "      <td>To decrease the use of solvents in various dom...</td>\n",
       "      <td>B</td>\n",
       "      <td>A solvent is a substance that is liquid at the...</td>\n",
       "      <td>73305281</td>\n",
       "      <td>Green solvent</td>\n",
       "      <td>M</td>\n",
       "      <td>What is the goal of the UN sustainability deve...</td>\n",
       "      <td>True</td>\n",
       "    </tr>\n",
       "    <tr>\n",
       "      <th>2</th>\n",
       "      <td>47002</td>\n",
       "      <td>What are green solvents derived from?</td>\n",
       "      <td>Processing of agricultural crops</td>\n",
       "      <td>Petrochemical sources</td>\n",
       "      <td>Regular solvents</td>\n",
       "      <td>Chemical reactions</td>\n",
       "      <td>Water and air pollution</td>\n",
       "      <td>A</td>\n",
       "      <td>A solvent is a substance that is liquid at the...</td>\n",
       "      <td>73305281</td>\n",
       "      <td>Green solvent</td>\n",
       "      <td>M</td>\n",
       "      <td>What are green solvents derived from? Processi...</td>\n",
       "      <td>True</td>\n",
       "    </tr>\n",
       "    <tr>\n",
       "      <th>3</th>\n",
       "      <td>47003</td>\n",
       "      <td>What makes it difficult to classify green solv...</td>\n",
       "      <td>Their chemical structure and source can differ</td>\n",
       "      <td>They have adverse effects on health and safety</td>\n",
       "      <td>They are associated with water and air pollution</td>\n",
       "      <td>They are derived from petrochemical sources</td>\n",
       "      <td>They are nonpolar solvents</td>\n",
       "      <td>A</td>\n",
       "      <td>A solvent is a substance that is liquid at the...</td>\n",
       "      <td>73305281</td>\n",
       "      <td>Green solvent</td>\n",
       "      <td>M</td>\n",
       "      <td>What makes it difficult to classify green solv...</td>\n",
       "      <td>True</td>\n",
       "    </tr>\n",
       "    <tr>\n",
       "      <th>4</th>\n",
       "      <td>47004</td>\n",
       "      <td>What is the significance of the Nora Stone?</td>\n",
       "      <td>It is the oldest Phoenician inscription found ...</td>\n",
       "      <td>It is the only Phoenician inscription found in...</td>\n",
       "      <td>It is the first evidence of Phoenician coloniz...</td>\n",
       "      <td>It is the longest Phoenician inscription ever ...</td>\n",
       "      <td>It is the only known inscription honoring a go...</td>\n",
       "      <td>A</td>\n",
       "      <td>The Nora Stone or Nora Inscription is an ancie...</td>\n",
       "      <td>23809512</td>\n",
       "      <td>Nora Stone</td>\n",
       "      <td>T</td>\n",
       "      <td>What is the significance of the Nora Stone? It...</td>\n",
       "      <td>True</td>\n",
       "    </tr>\n",
       "  </tbody>\n",
       "</table>\n",
       "</div>"
      ],
      "text/plain": [
       "      id                                             prompt  \\\n",
       "0  47000  What are some adverse effects associated with ...   \n",
       "1  47001  What is the goal of the UN sustainability deve...   \n",
       "2  47002              What are green solvents derived from?   \n",
       "3  47003  What makes it difficult to classify green solv...   \n",
       "4  47004        What is the significance of the Nora Stone?   \n",
       "\n",
       "                                                   A  \\\n",
       "0                                   Burns and eczema   \n",
       "1       To promote the use of petrochemical solvents   \n",
       "2                   Processing of agricultural crops   \n",
       "3     Their chemical structure and source can differ   \n",
       "4  It is the oldest Phoenician inscription found ...   \n",
       "\n",
       "                                                   B  \\\n",
       "0                          Cancer and brain disorder   \n",
       "1          To develop green and sustainable solvents   \n",
       "2                              Petrochemical sources   \n",
       "3     They have adverse effects on health and safety   \n",
       "4  It is the only Phoenician inscription found in...   \n",
       "\n",
       "                                                   C  \\\n",
       "0  Fetotoxicity and inflammations of peripheral n...   \n",
       "1           To increase the use of nonpolar solvents   \n",
       "2                                   Regular solvents   \n",
       "3   They are associated with water and air pollution   \n",
       "4  It is the first evidence of Phoenician coloniz...   \n",
       "\n",
       "                                                   D  \\\n",
       "0                                   All of the above   \n",
       "1  To classify solvents into polar and nonpolar c...   \n",
       "2                                 Chemical reactions   \n",
       "3        They are derived from petrochemical sources   \n",
       "4  It is the longest Phoenician inscription ever ...   \n",
       "\n",
       "                                                   E answer  \\\n",
       "0                                  None of the above      D   \n",
       "1  To decrease the use of solvents in various dom...      B   \n",
       "2                            Water and air pollution      A   \n",
       "3                         They are nonpolar solvents      A   \n",
       "4  It is the only known inscription honoring a go...      A   \n",
       "\n",
       "                                           wiki_text   page_id     page_title  \\\n",
       "0  A solvent is a substance that is liquid at the...  73305281  Green solvent   \n",
       "1  A solvent is a substance that is liquid at the...  73305281  Green solvent   \n",
       "2  A solvent is a substance that is liquid at the...  73305281  Green solvent   \n",
       "3  A solvent is a substance that is liquid at the...  73305281  Green solvent   \n",
       "4  The Nora Stone or Nora Inscription is an ancie...  23809512     Nora Stone   \n",
       "\n",
       "  stem_label                                      prompt_answer  check  \n",
       "0          M  What are some adverse effects associated with ...   True  \n",
       "1          M  What is the goal of the UN sustainability deve...   True  \n",
       "2          M  What are green solvents derived from? Processi...   True  \n",
       "3          M  What makes it difficult to classify green solv...   True  \n",
       "4          T  What is the significance of the Nora Stone? It...   True  "
      ]
     },
     "execution_count": 18,
     "metadata": {},
     "output_type": "execute_result"
    }
   ],
   "source": [
    "val.head()"
   ]
  },
  {
   "cell_type": "code",
   "execution_count": 19,
   "id": "c409e8b7-ce1e-4621-809b-f763efb76508",
   "metadata": {
    "tags": []
   },
   "outputs": [
    {
     "data": {
      "text/plain": [
       "'What are some adverse effects associated with traditional organic solvents? Burns and eczema Cancer and brain disorder Fetotoxicity and inflammations of peripheral nerves All of the above None of the above'"
      ]
     },
     "execution_count": 19,
     "metadata": {},
     "output_type": "execute_result"
    }
   ],
   "source": [
    "val['prompt_answer'].values[0]"
   ]
  },
  {
   "cell_type": "code",
   "execution_count": 20,
   "id": "6c66ef38-5c44-4097-8f0b-8d8c2b446dae",
   "metadata": {
    "tags": []
   },
   "outputs": [],
   "source": [
    "stop_words = set(stopwords.words('english'))\n",
    "\n",
    "\n",
    "def query_process(q):\n",
    "    words = word_tokenize(text)\n",
    "    words = [word.lower() for word in words if word.isalnum()]\n",
    "    keywords = [word for word in words if word not in stop_words]\n",
    "    return \" \".join(keywords)\n",
    "\n",
    "def recall_doc(q,corpus):\n",
    "    q = word_process(q)\n",
    "    res_list = [corpus[item[1]] for item in bm25.top_k_sentence(q,  k=10)]\n",
    "    # print(res_list)\n",
    "    res_ids = []\n",
    "    for res in res_list:\n",
    "        res_ids.append(doc_dict[res])\n",
    "        \n",
    "    return res_ids\n",
    "    "
   ]
  },
  {
   "cell_type": "code",
   "execution_count": 21,
   "id": "2a404fed-cff9-4d83-b6a8-bfde8f65f15c",
   "metadata": {
    "tags": []
   },
   "outputs": [
    {
     "data": {
      "text/plain": [
       "[73305281,\n",
       " 28695746,\n",
       " 27024757,\n",
       " 649100,\n",
       " 1851370,\n",
       " 189371,\n",
       " 35954442,\n",
       " 471852,\n",
       " 2574377,\n",
       " 674]"
      ]
     },
     "execution_count": 21,
     "metadata": {},
     "output_type": "execute_result"
    }
   ],
   "source": [
    "recall_doc(val['prompt_answer'].values[0],corpus)"
   ]
  },
  {
   "cell_type": "code",
   "execution_count": 22,
   "id": "512bc6d5-1135-45ef-8915-66481d564442",
   "metadata": {
    "tags": []
   },
   "outputs": [],
   "source": [
    "val[\"recall\"] = val['prompt_answer'].map(lambda x:recall_doc(x,corpus))"
   ]
  },
  {
   "cell_type": "code",
   "execution_count": 23,
   "id": "bf1ffe7f-5eee-4fb9-926f-d1652e91a773",
   "metadata": {
    "tags": []
   },
   "outputs": [],
   "source": [
    "val['top1_flag'] = val.apply(lambda x:1 if x['recall'][0] == x['page_id'] else 0,1)\n"
   ]
  },
  {
   "cell_type": "code",
   "execution_count": 24,
   "id": "62c092fd-1f19-4806-97bd-2a3349215722",
   "metadata": {
    "tags": []
   },
   "outputs": [
    {
     "data": {
      "text/plain": [
       "0.9286049788633162"
      ]
     },
     "execution_count": 24,
     "metadata": {},
     "output_type": "execute_result"
    }
   ],
   "source": [
    "val['top1_flag'].sum() / len(val)"
   ]
  },
  {
   "cell_type": "code",
   "execution_count": 25,
   "id": "09816014-fc77-404c-8a71-8d7cc74ea731",
   "metadata": {
    "tags": []
   },
   "outputs": [],
   "source": [
    "val['top10_flag'] = val.apply(lambda x:1 if  x['page_id'] in x['recall'] else 0,1)\n"
   ]
  },
  {
   "cell_type": "code",
   "execution_count": 26,
   "id": "8a01ed17-876f-4f86-9973-b4b3c5c00dca",
   "metadata": {
    "tags": []
   },
   "outputs": [
    {
     "data": {
      "text/plain": [
       "0.9873179896665101"
      ]
     },
     "execution_count": 26,
     "metadata": {},
     "output_type": "execute_result"
    }
   ],
   "source": [
    "val['top10_flag'].sum() / len(val)"
   ]
  },
  {
   "cell_type": "code",
   "execution_count": null,
   "id": "6821fb48-4812-466f-9d44-a3f32c77dc82",
   "metadata": {},
   "outputs": [],
   "source": []
  },
  {
   "cell_type": "code",
   "execution_count": null,
   "id": "78c5df9d-3f8a-4558-8edd-5b0f5578794c",
   "metadata": {},
   "outputs": [],
   "source": []
  }
 ],
 "metadata": {
  "kernelspec": {
   "display_name": "chr_env",
   "language": "python",
   "name": "chr_env"
  },
  "language_info": {
   "codemirror_mode": {
    "name": "ipython",
    "version": 3
   },
   "file_extension": ".py",
   "mimetype": "text/x-python",
   "name": "python",
   "nbconvert_exporter": "python",
   "pygments_lexer": "ipython3",
   "version": "3.8.17"
  }
 },
 "nbformat": 4,
 "nbformat_minor": 5
}
